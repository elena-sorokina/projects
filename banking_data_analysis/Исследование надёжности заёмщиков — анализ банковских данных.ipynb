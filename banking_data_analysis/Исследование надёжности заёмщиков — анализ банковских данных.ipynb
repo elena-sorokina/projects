{
 "cells": [
  {
   "cell_type": "markdown",
   "id": "3e897152",
   "metadata": {},
   "source": [
    "# Исследование надежности заемщиков."
   ]
  },
  {
   "cell_type": "markdown",
   "id": "2fe3b53a",
   "metadata": {},
   "source": [
    "### Описание проекта"
   ]
  },
  {
   "cell_type": "markdown",
   "id": "03657c9b",
   "metadata": {},
   "source": [
    "  Заказчик — кредитный отдел банка. Нужно разобраться, влияет ли семейное положение и количество детей клиента на факт погашения кредита в срок. Входные данные от банка — статистика о платёжеспособности клиентов.\n",
    "  Результаты исследования будут учтены при построении модели кредитного скоринга — специальной системы, которая оценивает способность потенциального заёмщика вернуть кредит банку."
   ]
  },
  {
   "cell_type": "markdown",
   "id": "36a35066",
   "metadata": {},
   "source": [
    "### Описание данных"
   ]
  },
  {
   "cell_type": "markdown",
   "id": "bba2aa64",
   "metadata": {},
   "source": [
    "Данные предоставлены в таблице формата CSV, где:\n",
    "* `children` — количество детей в семье\n",
    "* `days_employed` — общий трудовой стаж в днях\n",
    "* `dob_years` — возраст клиента в годах\n",
    "* `education` — уровень образования клиента\n",
    "* `education_id` — идентификатор уровня образования\n",
    "* `family_status` — семейное положение\n",
    "* `family_status_id` — идентификатор семейного положения\n",
    "* `gender` — пол клиента\n",
    "* `income_type` — тип занятости\n",
    "* `debt` — имел ли задолженность по возврату кредитов\n",
    "* `total_income` — ежемесячный доход\n",
    "* `purpose` — цель получения кредита"
   ]
  },
  {
   "cell_type": "markdown",
   "id": "e84dd1eb",
   "metadata": {},
   "source": [
    "### Шаг 1. Обзор данных"
   ]
  },
  {
   "cell_type": "code",
   "execution_count": 1,
   "id": "1d6affb1",
   "metadata": {
    "scrolled": false
   },
   "outputs": [
    {
     "data": {
      "text/html": [
       "<div>\n",
       "<style scoped>\n",
       "    .dataframe tbody tr th:only-of-type {\n",
       "        vertical-align: middle;\n",
       "    }\n",
       "\n",
       "    .dataframe tbody tr th {\n",
       "        vertical-align: top;\n",
       "    }\n",
       "\n",
       "    .dataframe thead th {\n",
       "        text-align: right;\n",
       "    }\n",
       "</style>\n",
       "<table border=\"1\" class=\"dataframe\">\n",
       "  <thead>\n",
       "    <tr style=\"text-align: right;\">\n",
       "      <th></th>\n",
       "      <th>children</th>\n",
       "      <th>days_employed</th>\n",
       "      <th>dob_years</th>\n",
       "      <th>education</th>\n",
       "      <th>education_id</th>\n",
       "      <th>family_status</th>\n",
       "      <th>family_status_id</th>\n",
       "      <th>gender</th>\n",
       "      <th>income_type</th>\n",
       "      <th>debt</th>\n",
       "      <th>total_income</th>\n",
       "      <th>purpose</th>\n",
       "    </tr>\n",
       "  </thead>\n",
       "  <tbody>\n",
       "    <tr>\n",
       "      <th>0</th>\n",
       "      <td>1</td>\n",
       "      <td>-8437.673028</td>\n",
       "      <td>42</td>\n",
       "      <td>высшее</td>\n",
       "      <td>0</td>\n",
       "      <td>женат / замужем</td>\n",
       "      <td>0</td>\n",
       "      <td>F</td>\n",
       "      <td>сотрудник</td>\n",
       "      <td>0</td>\n",
       "      <td>253875.639453</td>\n",
       "      <td>покупка жилья</td>\n",
       "    </tr>\n",
       "    <tr>\n",
       "      <th>1</th>\n",
       "      <td>1</td>\n",
       "      <td>-4024.803754</td>\n",
       "      <td>36</td>\n",
       "      <td>среднее</td>\n",
       "      <td>1</td>\n",
       "      <td>женат / замужем</td>\n",
       "      <td>0</td>\n",
       "      <td>F</td>\n",
       "      <td>сотрудник</td>\n",
       "      <td>0</td>\n",
       "      <td>112080.014102</td>\n",
       "      <td>приобретение автомобиля</td>\n",
       "    </tr>\n",
       "    <tr>\n",
       "      <th>2</th>\n",
       "      <td>0</td>\n",
       "      <td>-5623.422610</td>\n",
       "      <td>33</td>\n",
       "      <td>Среднее</td>\n",
       "      <td>1</td>\n",
       "      <td>женат / замужем</td>\n",
       "      <td>0</td>\n",
       "      <td>M</td>\n",
       "      <td>сотрудник</td>\n",
       "      <td>0</td>\n",
       "      <td>145885.952297</td>\n",
       "      <td>покупка жилья</td>\n",
       "    </tr>\n",
       "    <tr>\n",
       "      <th>3</th>\n",
       "      <td>3</td>\n",
       "      <td>-4124.747207</td>\n",
       "      <td>32</td>\n",
       "      <td>среднее</td>\n",
       "      <td>1</td>\n",
       "      <td>женат / замужем</td>\n",
       "      <td>0</td>\n",
       "      <td>M</td>\n",
       "      <td>сотрудник</td>\n",
       "      <td>0</td>\n",
       "      <td>267628.550329</td>\n",
       "      <td>дополнительное образование</td>\n",
       "    </tr>\n",
       "    <tr>\n",
       "      <th>4</th>\n",
       "      <td>0</td>\n",
       "      <td>340266.072047</td>\n",
       "      <td>53</td>\n",
       "      <td>среднее</td>\n",
       "      <td>1</td>\n",
       "      <td>гражданский брак</td>\n",
       "      <td>1</td>\n",
       "      <td>F</td>\n",
       "      <td>пенсионер</td>\n",
       "      <td>0</td>\n",
       "      <td>158616.077870</td>\n",
       "      <td>сыграть свадьбу</td>\n",
       "    </tr>\n",
       "    <tr>\n",
       "      <th>5</th>\n",
       "      <td>0</td>\n",
       "      <td>-926.185831</td>\n",
       "      <td>27</td>\n",
       "      <td>высшее</td>\n",
       "      <td>0</td>\n",
       "      <td>гражданский брак</td>\n",
       "      <td>1</td>\n",
       "      <td>M</td>\n",
       "      <td>компаньон</td>\n",
       "      <td>0</td>\n",
       "      <td>255763.565419</td>\n",
       "      <td>покупка жилья</td>\n",
       "    </tr>\n",
       "    <tr>\n",
       "      <th>6</th>\n",
       "      <td>0</td>\n",
       "      <td>-2879.202052</td>\n",
       "      <td>43</td>\n",
       "      <td>высшее</td>\n",
       "      <td>0</td>\n",
       "      <td>женат / замужем</td>\n",
       "      <td>0</td>\n",
       "      <td>F</td>\n",
       "      <td>компаньон</td>\n",
       "      <td>0</td>\n",
       "      <td>240525.971920</td>\n",
       "      <td>операции с жильем</td>\n",
       "    </tr>\n",
       "    <tr>\n",
       "      <th>7</th>\n",
       "      <td>0</td>\n",
       "      <td>-152.779569</td>\n",
       "      <td>50</td>\n",
       "      <td>СРЕДНЕЕ</td>\n",
       "      <td>1</td>\n",
       "      <td>женат / замужем</td>\n",
       "      <td>0</td>\n",
       "      <td>M</td>\n",
       "      <td>сотрудник</td>\n",
       "      <td>0</td>\n",
       "      <td>135823.934197</td>\n",
       "      <td>образование</td>\n",
       "    </tr>\n",
       "    <tr>\n",
       "      <th>8</th>\n",
       "      <td>2</td>\n",
       "      <td>-6929.865299</td>\n",
       "      <td>35</td>\n",
       "      <td>ВЫСШЕЕ</td>\n",
       "      <td>0</td>\n",
       "      <td>гражданский брак</td>\n",
       "      <td>1</td>\n",
       "      <td>F</td>\n",
       "      <td>сотрудник</td>\n",
       "      <td>0</td>\n",
       "      <td>95856.832424</td>\n",
       "      <td>на проведение свадьбы</td>\n",
       "    </tr>\n",
       "    <tr>\n",
       "      <th>9</th>\n",
       "      <td>0</td>\n",
       "      <td>-2188.756445</td>\n",
       "      <td>41</td>\n",
       "      <td>среднее</td>\n",
       "      <td>1</td>\n",
       "      <td>женат / замужем</td>\n",
       "      <td>0</td>\n",
       "      <td>M</td>\n",
       "      <td>сотрудник</td>\n",
       "      <td>0</td>\n",
       "      <td>144425.938277</td>\n",
       "      <td>покупка жилья для семьи</td>\n",
       "    </tr>\n",
       "  </tbody>\n",
       "</table>\n",
       "</div>"
      ],
      "text/plain": [
       "   children  days_employed  dob_years education  education_id  \\\n",
       "0         1   -8437.673028         42    высшее             0   \n",
       "1         1   -4024.803754         36   среднее             1   \n",
       "2         0   -5623.422610         33   Среднее             1   \n",
       "3         3   -4124.747207         32   среднее             1   \n",
       "4         0  340266.072047         53   среднее             1   \n",
       "5         0    -926.185831         27    высшее             0   \n",
       "6         0   -2879.202052         43    высшее             0   \n",
       "7         0    -152.779569         50   СРЕДНЕЕ             1   \n",
       "8         2   -6929.865299         35    ВЫСШЕЕ             0   \n",
       "9         0   -2188.756445         41   среднее             1   \n",
       "\n",
       "      family_status  family_status_id gender income_type  debt   total_income  \\\n",
       "0   женат / замужем                 0      F   сотрудник     0  253875.639453   \n",
       "1   женат / замужем                 0      F   сотрудник     0  112080.014102   \n",
       "2   женат / замужем                 0      M   сотрудник     0  145885.952297   \n",
       "3   женат / замужем                 0      M   сотрудник     0  267628.550329   \n",
       "4  гражданский брак                 1      F   пенсионер     0  158616.077870   \n",
       "5  гражданский брак                 1      M   компаньон     0  255763.565419   \n",
       "6   женат / замужем                 0      F   компаньон     0  240525.971920   \n",
       "7   женат / замужем                 0      M   сотрудник     0  135823.934197   \n",
       "8  гражданский брак                 1      F   сотрудник     0   95856.832424   \n",
       "9   женат / замужем                 0      M   сотрудник     0  144425.938277   \n",
       "\n",
       "                      purpose  \n",
       "0               покупка жилья  \n",
       "1     приобретение автомобиля  \n",
       "2               покупка жилья  \n",
       "3  дополнительное образование  \n",
       "4             сыграть свадьбу  \n",
       "5               покупка жилья  \n",
       "6           операции с жильем  \n",
       "7                 образование  \n",
       "8       на проведение свадьбы  \n",
       "9     покупка жилья для семьи  "
      ]
     },
     "metadata": {},
     "output_type": "display_data"
    },
    {
     "name": "stdout",
     "output_type": "stream",
     "text": [
      "<class 'pandas.core.frame.DataFrame'>\n",
      "RangeIndex: 21525 entries, 0 to 21524\n",
      "Data columns (total 12 columns):\n",
      " #   Column            Non-Null Count  Dtype  \n",
      "---  ------            --------------  -----  \n",
      " 0   children          21525 non-null  int64  \n",
      " 1   days_employed     19351 non-null  float64\n",
      " 2   dob_years         21525 non-null  int64  \n",
      " 3   education         21525 non-null  object \n",
      " 4   education_id      21525 non-null  int64  \n",
      " 5   family_status     21525 non-null  object \n",
      " 6   family_status_id  21525 non-null  int64  \n",
      " 7   gender            21525 non-null  object \n",
      " 8   income_type       21525 non-null  object \n",
      " 9   debt              21525 non-null  int64  \n",
      " 10  total_income      19351 non-null  float64\n",
      " 11  purpose           21525 non-null  object \n",
      "dtypes: float64(2), int64(5), object(5)\n",
      "memory usage: 2.0+ MB\n"
     ]
    }
   ],
   "source": [
    "import pandas as pd\n",
    "data = pd.read_csv('/datasets/data.csv')\n",
    "display(data.head(10))    #  обзор первых 10-и строк таблицы\n",
    "data.info()    #  обзор общей информации о таблице"
   ]
  },
  {
   "cell_type": "markdown",
   "id": "c26cf37e",
   "metadata": {},
   "source": [
    "### Шаг 2.1 Проверка данных на аномалии и исправления."
   ]
  },
  {
   "cell_type": "markdown",
   "id": "87beb723",
   "metadata": {},
   "source": [
    "На первом шаге (при обзоре первых строк таблицы) видно, что данные в столбце `days_employed` заполнены некорректно - встречаются отрицательные числа. Причиной такой ошибки может являться неверное заполнение формы или ошибка со знаком в формуле расчета трудового стажа в днях.\n",
    "\n",
    "Истправим эту неточность:"
   ]
  },
  {
   "cell_type": "code",
   "execution_count": 2,
   "id": "bc0af90a",
   "metadata": {},
   "outputs": [
    {
     "data": {
      "text/html": [
       "<div>\n",
       "<style scoped>\n",
       "    .dataframe tbody tr th:only-of-type {\n",
       "        vertical-align: middle;\n",
       "    }\n",
       "\n",
       "    .dataframe tbody tr th {\n",
       "        vertical-align: top;\n",
       "    }\n",
       "\n",
       "    .dataframe thead th {\n",
       "        text-align: right;\n",
       "    }\n",
       "</style>\n",
       "<table border=\"1\" class=\"dataframe\">\n",
       "  <thead>\n",
       "    <tr style=\"text-align: right;\">\n",
       "      <th></th>\n",
       "      <th>children</th>\n",
       "      <th>days_employed</th>\n",
       "      <th>dob_years</th>\n",
       "      <th>education</th>\n",
       "      <th>education_id</th>\n",
       "      <th>family_status</th>\n",
       "      <th>family_status_id</th>\n",
       "      <th>gender</th>\n",
       "      <th>income_type</th>\n",
       "      <th>debt</th>\n",
       "      <th>total_income</th>\n",
       "      <th>purpose</th>\n",
       "    </tr>\n",
       "  </thead>\n",
       "  <tbody>\n",
       "    <tr>\n",
       "      <th>0</th>\n",
       "      <td>1</td>\n",
       "      <td>8437.673028</td>\n",
       "      <td>42</td>\n",
       "      <td>высшее</td>\n",
       "      <td>0</td>\n",
       "      <td>женат / замужем</td>\n",
       "      <td>0</td>\n",
       "      <td>F</td>\n",
       "      <td>сотрудник</td>\n",
       "      <td>0</td>\n",
       "      <td>253875.639453</td>\n",
       "      <td>покупка жилья</td>\n",
       "    </tr>\n",
       "    <tr>\n",
       "      <th>1</th>\n",
       "      <td>1</td>\n",
       "      <td>4024.803754</td>\n",
       "      <td>36</td>\n",
       "      <td>среднее</td>\n",
       "      <td>1</td>\n",
       "      <td>женат / замужем</td>\n",
       "      <td>0</td>\n",
       "      <td>F</td>\n",
       "      <td>сотрудник</td>\n",
       "      <td>0</td>\n",
       "      <td>112080.014102</td>\n",
       "      <td>приобретение автомобиля</td>\n",
       "    </tr>\n",
       "    <tr>\n",
       "      <th>2</th>\n",
       "      <td>0</td>\n",
       "      <td>5623.422610</td>\n",
       "      <td>33</td>\n",
       "      <td>Среднее</td>\n",
       "      <td>1</td>\n",
       "      <td>женат / замужем</td>\n",
       "      <td>0</td>\n",
       "      <td>M</td>\n",
       "      <td>сотрудник</td>\n",
       "      <td>0</td>\n",
       "      <td>145885.952297</td>\n",
       "      <td>покупка жилья</td>\n",
       "    </tr>\n",
       "    <tr>\n",
       "      <th>3</th>\n",
       "      <td>3</td>\n",
       "      <td>4124.747207</td>\n",
       "      <td>32</td>\n",
       "      <td>среднее</td>\n",
       "      <td>1</td>\n",
       "      <td>женат / замужем</td>\n",
       "      <td>0</td>\n",
       "      <td>M</td>\n",
       "      <td>сотрудник</td>\n",
       "      <td>0</td>\n",
       "      <td>267628.550329</td>\n",
       "      <td>дополнительное образование</td>\n",
       "    </tr>\n",
       "    <tr>\n",
       "      <th>4</th>\n",
       "      <td>0</td>\n",
       "      <td>340266.072047</td>\n",
       "      <td>53</td>\n",
       "      <td>среднее</td>\n",
       "      <td>1</td>\n",
       "      <td>гражданский брак</td>\n",
       "      <td>1</td>\n",
       "      <td>F</td>\n",
       "      <td>пенсионер</td>\n",
       "      <td>0</td>\n",
       "      <td>158616.077870</td>\n",
       "      <td>сыграть свадьбу</td>\n",
       "    </tr>\n",
       "  </tbody>\n",
       "</table>\n",
       "</div>"
      ],
      "text/plain": [
       "   children  days_employed  dob_years education  education_id  \\\n",
       "0         1    8437.673028         42    высшее             0   \n",
       "1         1    4024.803754         36   среднее             1   \n",
       "2         0    5623.422610         33   Среднее             1   \n",
       "3         3    4124.747207         32   среднее             1   \n",
       "4         0  340266.072047         53   среднее             1   \n",
       "\n",
       "      family_status  family_status_id gender income_type  debt   total_income  \\\n",
       "0   женат / замужем                 0      F   сотрудник     0  253875.639453   \n",
       "1   женат / замужем                 0      F   сотрудник     0  112080.014102   \n",
       "2   женат / замужем                 0      M   сотрудник     0  145885.952297   \n",
       "3   женат / замужем                 0      M   сотрудник     0  267628.550329   \n",
       "4  гражданский брак                 1      F   пенсионер     0  158616.077870   \n",
       "\n",
       "                      purpose  \n",
       "0               покупка жилья  \n",
       "1     приобретение автомобиля  \n",
       "2               покупка жилья  \n",
       "3  дополнительное образование  \n",
       "4             сыграть свадьбу  "
      ]
     },
     "execution_count": 2,
     "metadata": {},
     "output_type": "execute_result"
    }
   ],
   "source": [
    "data.loc[data['days_employed'] < 0, 'days_employed'] = data['days_employed'].abs()\n",
    "data.head()    #  проверка корректности работы логического условия"
   ]
  },
  {
   "cell_type": "markdown",
   "id": "514332e5",
   "metadata": {},
   "source": [
    "### Шаг 2.2 Заполнение пропусков"
   ]
  },
  {
   "cell_type": "markdown",
   "id": "6de30478",
   "metadata": {},
   "source": [
    "Из информации о данных видно, что в столбцах `days_employed` и `total_income` есть пропуски. Так как тип данных `float64`, то можно сделать вывод, что пропуски принимают значения `NaN`.\n",
    "\n",
    "Посчитаем долю пропущенных значений в каждом из столбцов:"
   ]
  },
  {
   "cell_type": "code",
   "execution_count": 3,
   "id": "86c8edf8",
   "metadata": {},
   "outputs": [
    {
     "name": "stdout",
     "output_type": "stream",
     "text": [
      "Доля пропущенных значений в столбце days_employed: 0.10099883855981417\n",
      "Доля пропущенных значений в столбце total_income: 0.10099883855981417\n"
     ]
    }
   ],
   "source": [
    "print('Доля пропущенных значений в столбце days_employed:', data['days_employed'].isna().sum() / len(data['days_employed']))\n",
    "print('Доля пропущенных значений в столбце total_income:', data['total_income'].isna().sum() / len(data['total_income']))"
   ]
  },
  {
   "cell_type": "markdown",
   "id": "6d1623b4",
   "metadata": {},
   "source": [
    "Причиной пропуска данных может быть нежелание клиента давать информацию о своих доходах и трудовом стаже.\n",
    "\n",
    "Значения в столбцах `days_employed` и `total_income` -  общий трудовой стаж в днях и ежемесячный доход, то есть количественные переменные. Пропуски в таких переменных заполняют средним арифметическим или медианой. Однако среднее значение некорректно характеризует данные, когда некоторые значения сильно выделяются среди большинства. Поэтому медиана более объективная информация о ежемесячном доходе клиентов и общем трудовом стаже.\n",
    "\n",
    "Заполним пропуски медианным значением:"
   ]
  },
  {
   "cell_type": "code",
   "execution_count": 4,
   "id": "6c36f56b",
   "metadata": {},
   "outputs": [
    {
     "name": "stdout",
     "output_type": "stream",
     "text": [
      "<class 'pandas.core.frame.DataFrame'>\n",
      "RangeIndex: 21525 entries, 0 to 21524\n",
      "Data columns (total 12 columns):\n",
      " #   Column            Non-Null Count  Dtype  \n",
      "---  ------            --------------  -----  \n",
      " 0   children          21525 non-null  int64  \n",
      " 1   days_employed     21525 non-null  float64\n",
      " 2   dob_years         21525 non-null  int64  \n",
      " 3   education         21525 non-null  object \n",
      " 4   education_id      21525 non-null  int64  \n",
      " 5   family_status     21525 non-null  object \n",
      " 6   family_status_id  21525 non-null  int64  \n",
      " 7   gender            21525 non-null  object \n",
      " 8   income_type       21525 non-null  object \n",
      " 9   debt              21525 non-null  int64  \n",
      " 10  total_income      21525 non-null  float64\n",
      " 11  purpose           21525 non-null  object \n",
      "dtypes: float64(2), int64(5), object(5)\n",
      "memory usage: 2.0+ MB\n"
     ]
    }
   ],
   "source": [
    "data['days_employed'] = data['days_employed'].fillna(data['days_employed'].median())\n",
    "data['total_income'] = data['total_income'].fillna(data['total_income'].median())\n",
    "data.info()    #  убедимся, что пропуски заполнены"
   ]
  },
  {
   "cell_type": "markdown",
   "id": "7c082ba5",
   "metadata": {},
   "source": [
    "### Шаг 2.3. Изменение типов данных."
   ]
  },
  {
   "cell_type": "markdown",
   "id": "76f32f31",
   "metadata": {},
   "source": [
    "Изменим вещественный тип данных в столбцах days_employed и total_income на целочисленный:"
   ]
  },
  {
   "cell_type": "code",
   "execution_count": 5,
   "id": "120e762c",
   "metadata": {},
   "outputs": [
    {
     "name": "stdout",
     "output_type": "stream",
     "text": [
      "<class 'pandas.core.frame.DataFrame'>\n",
      "RangeIndex: 21525 entries, 0 to 21524\n",
      "Data columns (total 12 columns):\n",
      " #   Column            Non-Null Count  Dtype \n",
      "---  ------            --------------  ----- \n",
      " 0   children          21525 non-null  int64 \n",
      " 1   days_employed     21525 non-null  int64 \n",
      " 2   dob_years         21525 non-null  int64 \n",
      " 3   education         21525 non-null  object\n",
      " 4   education_id      21525 non-null  int64 \n",
      " 5   family_status     21525 non-null  object\n",
      " 6   family_status_id  21525 non-null  int64 \n",
      " 7   gender            21525 non-null  object\n",
      " 8   income_type       21525 non-null  object\n",
      " 9   debt              21525 non-null  int64 \n",
      " 10  total_income      21525 non-null  int64 \n",
      " 11  purpose           21525 non-null  object\n",
      "dtypes: int64(7), object(5)\n",
      "memory usage: 2.0+ MB\n"
     ]
    }
   ],
   "source": [
    "data['days_employed'] = data['days_employed'].astype('int')\n",
    "data['total_income'] = data['total_income'].astype('int')  \n",
    "\n",
    "data.info()    #  убедимся, что тип данных в колонках days_employed и total_income изменен на int64"
   ]
  },
  {
   "cell_type": "markdown",
   "id": "a4af7aa4",
   "metadata": {},
   "source": [
    "### Шаг 2.4. Удаление дубликатов."
   ]
  },
  {
   "cell_type": "markdown",
   "id": "5ac157a6",
   "metadata": {},
   "source": [
    "Сначала найдем количество **явных** дубликатов и удалим их:"
   ]
  },
  {
   "cell_type": "code",
   "execution_count": 6,
   "id": "ddab87a9",
   "metadata": {},
   "outputs": [
    {
     "data": {
      "text/plain": [
       "54"
      ]
     },
     "execution_count": 6,
     "metadata": {},
     "output_type": "execute_result"
    }
   ],
   "source": [
    "data.duplicated().sum()"
   ]
  },
  {
   "cell_type": "code",
   "execution_count": 7,
   "id": "34249d26",
   "metadata": {},
   "outputs": [
    {
     "data": {
      "text/plain": [
       "21471"
      ]
     },
     "execution_count": 7,
     "metadata": {},
     "output_type": "execute_result"
    }
   ],
   "source": [
    "data = data.drop_duplicates().reset_index(drop=True)\n",
    "data.shape[0]    #  количество строк после удаления явных дубликатов "
   ]
  },
  {
   "cell_type": "markdown",
   "id": "7d4fd6b0",
   "metadata": {},
   "source": [
    "Переведем значения в столбцах `education` и `family_status` к нижнему регистру и проверим уникальные значения других столбцов:"
   ]
  },
  {
   "cell_type": "code",
   "execution_count": 8,
   "id": "a7f08388",
   "metadata": {},
   "outputs": [
    {
     "name": "stdout",
     "output_type": "stream",
     "text": [
      "['F' 'M' 'XNA']\n",
      "[ 1  0  3  2 -1  4 20  5]\n"
     ]
    }
   ],
   "source": [
    "data['education'] = data['education'].str.lower()\n",
    "data['family_status'] = data['family_status'].str.lower()\n",
    "# print(data['family_status'].unique())\n",
    "print(data['gender'].unique())\n",
    "#  print(data['income_type'].unique())\n",
    "#  print(data['purpose'].sort_values().unique())\n",
    "print(data['children'].unique())"
   ]
  },
  {
   "cell_type": "markdown",
   "id": "b2c82f14",
   "metadata": {},
   "source": [
    "Удалим строку из датафрейма, в которой указан пол `XNA`:"
   ]
  },
  {
   "cell_type": "code",
   "execution_count": 9,
   "id": "5116a720",
   "metadata": {},
   "outputs": [
    {
     "name": "stdout",
     "output_type": "stream",
     "text": [
      "       children  days_employed  dob_years            education  education_id  \\\n",
      "10690         0           2358         24  неоконченное высшее             2   \n",
      "\n",
      "          family_status  family_status_id gender income_type  debt  \\\n",
      "10690  гражданский брак                 1    XNA   компаньон     0   \n",
      "\n",
      "       total_income               purpose  \n",
      "10690        203905  покупка недвижимости  \n",
      "['F' 'M']\n"
     ]
    }
   ],
   "source": [
    "print(data[data['gender'] == 'XNA'])\n",
    "data = data.drop(labels = [10690],axis = 0).reset_index(drop=True)\n",
    "print(data['gender'].unique())"
   ]
  },
  {
   "cell_type": "markdown",
   "id": "82c1b896",
   "metadata": {},
   "source": [
    "Исправление аномалий в столбце `children`:"
   ]
  },
  {
   "cell_type": "code",
   "execution_count": 10,
   "id": "c7a35702",
   "metadata": {},
   "outputs": [
    {
     "name": "stdout",
     "output_type": "stream",
     "text": [
      "[1 0 3 2 4 5]\n"
     ]
    }
   ],
   "source": [
    "data.loc[data['children'] < 0, 'children'] = data['children'].abs()\n",
    "data.loc[data['children'] == 20, 'children'] = 2\n",
    "print(data['children'].unique())"
   ]
  },
  {
   "cell_type": "markdown",
   "id": "8ebb22cd",
   "metadata": {},
   "source": [
    "Узнаем количество дубликатов после обработки столбца `education` и удалим их:"
   ]
  },
  {
   "cell_type": "code",
   "execution_count": 11,
   "id": "5599494b",
   "metadata": {},
   "outputs": [
    {
     "data": {
      "text/plain": [
       "17"
      ]
     },
     "execution_count": 11,
     "metadata": {},
     "output_type": "execute_result"
    }
   ],
   "source": [
    "data.duplicated().sum()"
   ]
  },
  {
   "cell_type": "code",
   "execution_count": 12,
   "id": "612b7a49",
   "metadata": {},
   "outputs": [
    {
     "data": {
      "text/plain": [
       "21453"
      ]
     },
     "execution_count": 12,
     "metadata": {},
     "output_type": "execute_result"
    }
   ],
   "source": [
    "data = data.drop_duplicates().reset_index(drop=True)\n",
    "data.shape[0]    #  убедимся, что строки-дубликаты удалены"
   ]
  },
  {
   "cell_type": "markdown",
   "id": "6b6b23a3",
   "metadata": {},
   "source": [
    "Для поиска неявных дубликатов можно сначала посмотреть уникальные значения конкретного столбца методом `unique()`. Если в списке уникальных значений встретятся одинаковые значения, записанные разным способом (с использованием заглавных и строчных букв, с использованием разных языков и т.д.), то их необходимо исправить некоторыми методами `pandas`. Например, изменить регистр на нижний можно методом `str.lower()`. После такой обработки столбцов *неявные* дубликаты станут *явными*, а считать их количество легко методом `duplicated()` в связке с методом `sum()`. Останется совершить последнее действие - удалить теперь уже *явные* дубликаты методом `drop_duplicates()` и перезаписать индексы методом `reset_index()` с параметром `drop=True`.\n",
    "\n",
    "Появление таких дубликатов связано, скорее всего, с человеческим фактором."
   ]
  },
  {
   "cell_type": "markdown",
   "id": "67645be5",
   "metadata": {},
   "source": [
    "### Шаг 2.5. Формирование дополнительных датафреймов словарей, декомпозиция исходного датафрейма."
   ]
  },
  {
   "cell_type": "markdown",
   "id": "c0e12a60",
   "metadata": {},
   "source": [
    "Создадим датафрейм `data_education` со столбцами `education_id` и `education`:"
   ]
  },
  {
   "cell_type": "code",
   "execution_count": 13,
   "id": "56c672e3",
   "metadata": {},
   "outputs": [
    {
     "data": {
      "text/html": [
       "<div>\n",
       "<style scoped>\n",
       "    .dataframe tbody tr th:only-of-type {\n",
       "        vertical-align: middle;\n",
       "    }\n",
       "\n",
       "    .dataframe tbody tr th {\n",
       "        vertical-align: top;\n",
       "    }\n",
       "\n",
       "    .dataframe thead th {\n",
       "        text-align: right;\n",
       "    }\n",
       "</style>\n",
       "<table border=\"1\" class=\"dataframe\">\n",
       "  <thead>\n",
       "    <tr style=\"text-align: right;\">\n",
       "      <th></th>\n",
       "      <th>education_id</th>\n",
       "      <th>education</th>\n",
       "    </tr>\n",
       "  </thead>\n",
       "  <tbody>\n",
       "    <tr>\n",
       "      <th>0</th>\n",
       "      <td>0</td>\n",
       "      <td>высшее</td>\n",
       "    </tr>\n",
       "    <tr>\n",
       "      <th>1</th>\n",
       "      <td>1</td>\n",
       "      <td>среднее</td>\n",
       "    </tr>\n",
       "    <tr>\n",
       "      <th>2</th>\n",
       "      <td>2</td>\n",
       "      <td>неоконченное высшее</td>\n",
       "    </tr>\n",
       "    <tr>\n",
       "      <th>3</th>\n",
       "      <td>3</td>\n",
       "      <td>начальное</td>\n",
       "    </tr>\n",
       "    <tr>\n",
       "      <th>4</th>\n",
       "      <td>4</td>\n",
       "      <td>ученая степень</td>\n",
       "    </tr>\n",
       "  </tbody>\n",
       "</table>\n",
       "</div>"
      ],
      "text/plain": [
       "   education_id            education\n",
       "0             0               высшее\n",
       "1             1              среднее\n",
       "2             2  неоконченное высшее\n",
       "3             3            начальное\n",
       "4             4       ученая степень"
      ]
     },
     "execution_count": 13,
     "metadata": {},
     "output_type": "execute_result"
    }
   ],
   "source": [
    "data_education = data[['education_id', 'education']]\n",
    "data_education = data_education.drop_duplicates().reset_index(drop=True)\n",
    "data_education"
   ]
  },
  {
   "cell_type": "markdown",
   "id": "a246c137",
   "metadata": {},
   "source": [
    "Таким же образом создадим датафрейм `data_family_status` со столбцами `family_status_id` и `family_status` :"
   ]
  },
  {
   "cell_type": "code",
   "execution_count": 14,
   "id": "b7d6750f",
   "metadata": {},
   "outputs": [
    {
     "data": {
      "text/html": [
       "<div>\n",
       "<style scoped>\n",
       "    .dataframe tbody tr th:only-of-type {\n",
       "        vertical-align: middle;\n",
       "    }\n",
       "\n",
       "    .dataframe tbody tr th {\n",
       "        vertical-align: top;\n",
       "    }\n",
       "\n",
       "    .dataframe thead th {\n",
       "        text-align: right;\n",
       "    }\n",
       "</style>\n",
       "<table border=\"1\" class=\"dataframe\">\n",
       "  <thead>\n",
       "    <tr style=\"text-align: right;\">\n",
       "      <th></th>\n",
       "      <th>family_status_id</th>\n",
       "      <th>family_status</th>\n",
       "    </tr>\n",
       "  </thead>\n",
       "  <tbody>\n",
       "    <tr>\n",
       "      <th>0</th>\n",
       "      <td>0</td>\n",
       "      <td>женат / замужем</td>\n",
       "    </tr>\n",
       "    <tr>\n",
       "      <th>1</th>\n",
       "      <td>1</td>\n",
       "      <td>гражданский брак</td>\n",
       "    </tr>\n",
       "    <tr>\n",
       "      <th>2</th>\n",
       "      <td>2</td>\n",
       "      <td>вдовец / вдова</td>\n",
       "    </tr>\n",
       "    <tr>\n",
       "      <th>3</th>\n",
       "      <td>3</td>\n",
       "      <td>в разводе</td>\n",
       "    </tr>\n",
       "    <tr>\n",
       "      <th>4</th>\n",
       "      <td>4</td>\n",
       "      <td>не женат / не замужем</td>\n",
       "    </tr>\n",
       "  </tbody>\n",
       "</table>\n",
       "</div>"
      ],
      "text/plain": [
       "   family_status_id          family_status\n",
       "0                 0        женат / замужем\n",
       "1                 1       гражданский брак\n",
       "2                 2         вдовец / вдова\n",
       "3                 3              в разводе\n",
       "4                 4  не женат / не замужем"
      ]
     },
     "execution_count": 14,
     "metadata": {},
     "output_type": "execute_result"
    }
   ],
   "source": [
    "data_family_status = data[['family_status_id', 'family_status']]\n",
    "data_family_status = data_family_status.drop_duplicates().reset_index(drop=True)\n",
    "data_family_status"
   ]
  },
  {
   "cell_type": "code",
   "execution_count": 15,
   "id": "f83f2bfc",
   "metadata": {},
   "outputs": [
    {
     "data": {
      "text/html": [
       "<div>\n",
       "<style scoped>\n",
       "    .dataframe tbody tr th:only-of-type {\n",
       "        vertical-align: middle;\n",
       "    }\n",
       "\n",
       "    .dataframe tbody tr th {\n",
       "        vertical-align: top;\n",
       "    }\n",
       "\n",
       "    .dataframe thead th {\n",
       "        text-align: right;\n",
       "    }\n",
       "</style>\n",
       "<table border=\"1\" class=\"dataframe\">\n",
       "  <thead>\n",
       "    <tr style=\"text-align: right;\">\n",
       "      <th></th>\n",
       "      <th>children</th>\n",
       "      <th>days_employed</th>\n",
       "      <th>dob_years</th>\n",
       "      <th>education_id</th>\n",
       "      <th>family_status_id</th>\n",
       "      <th>gender</th>\n",
       "      <th>income_type</th>\n",
       "      <th>debt</th>\n",
       "      <th>total_income</th>\n",
       "      <th>purpose</th>\n",
       "    </tr>\n",
       "  </thead>\n",
       "  <tbody>\n",
       "    <tr>\n",
       "      <th>0</th>\n",
       "      <td>1</td>\n",
       "      <td>8437</td>\n",
       "      <td>42</td>\n",
       "      <td>0</td>\n",
       "      <td>0</td>\n",
       "      <td>F</td>\n",
       "      <td>сотрудник</td>\n",
       "      <td>0</td>\n",
       "      <td>253875</td>\n",
       "      <td>покупка жилья</td>\n",
       "    </tr>\n",
       "    <tr>\n",
       "      <th>1</th>\n",
       "      <td>1</td>\n",
       "      <td>4024</td>\n",
       "      <td>36</td>\n",
       "      <td>1</td>\n",
       "      <td>0</td>\n",
       "      <td>F</td>\n",
       "      <td>сотрудник</td>\n",
       "      <td>0</td>\n",
       "      <td>112080</td>\n",
       "      <td>приобретение автомобиля</td>\n",
       "    </tr>\n",
       "    <tr>\n",
       "      <th>2</th>\n",
       "      <td>0</td>\n",
       "      <td>5623</td>\n",
       "      <td>33</td>\n",
       "      <td>1</td>\n",
       "      <td>0</td>\n",
       "      <td>M</td>\n",
       "      <td>сотрудник</td>\n",
       "      <td>0</td>\n",
       "      <td>145885</td>\n",
       "      <td>покупка жилья</td>\n",
       "    </tr>\n",
       "    <tr>\n",
       "      <th>3</th>\n",
       "      <td>3</td>\n",
       "      <td>4124</td>\n",
       "      <td>32</td>\n",
       "      <td>1</td>\n",
       "      <td>0</td>\n",
       "      <td>M</td>\n",
       "      <td>сотрудник</td>\n",
       "      <td>0</td>\n",
       "      <td>267628</td>\n",
       "      <td>дополнительное образование</td>\n",
       "    </tr>\n",
       "    <tr>\n",
       "      <th>4</th>\n",
       "      <td>0</td>\n",
       "      <td>340266</td>\n",
       "      <td>53</td>\n",
       "      <td>1</td>\n",
       "      <td>1</td>\n",
       "      <td>F</td>\n",
       "      <td>пенсионер</td>\n",
       "      <td>0</td>\n",
       "      <td>158616</td>\n",
       "      <td>сыграть свадьбу</td>\n",
       "    </tr>\n",
       "  </tbody>\n",
       "</table>\n",
       "</div>"
      ],
      "text/plain": [
       "   children  days_employed  dob_years  education_id  family_status_id gender  \\\n",
       "0         1           8437         42             0                 0      F   \n",
       "1         1           4024         36             1                 0      F   \n",
       "2         0           5623         33             1                 0      M   \n",
       "3         3           4124         32             1                 0      M   \n",
       "4         0         340266         53             1                 1      F   \n",
       "\n",
       "  income_type  debt  total_income                     purpose  \n",
       "0   сотрудник     0        253875               покупка жилья  \n",
       "1   сотрудник     0        112080     приобретение автомобиля  \n",
       "2   сотрудник     0        145885               покупка жилья  \n",
       "3   сотрудник     0        267628  дополнительное образование  \n",
       "4   пенсионер     0        158616             сыграть свадьбу  "
      ]
     },
     "execution_count": 15,
     "metadata": {},
     "output_type": "execute_result"
    }
   ],
   "source": [
    "del data['education']    #  удаление из датафрейма столбца education\n",
    "del data['family_status']    #  удаление из датафрейма столбца family_status\n",
    "data.head()"
   ]
  },
  {
   "cell_type": "markdown",
   "id": "24eb91be",
   "metadata": {},
   "source": [
    "### Шаг 2.6. Категоризация дохода."
   ]
  },
  {
   "cell_type": "code",
   "execution_count": 16,
   "id": "ed2aafd6",
   "metadata": {},
   "outputs": [
    {
     "data": {
      "text/html": [
       "<div>\n",
       "<style scoped>\n",
       "    .dataframe tbody tr th:only-of-type {\n",
       "        vertical-align: middle;\n",
       "    }\n",
       "\n",
       "    .dataframe tbody tr th {\n",
       "        vertical-align: top;\n",
       "    }\n",
       "\n",
       "    .dataframe thead th {\n",
       "        text-align: right;\n",
       "    }\n",
       "</style>\n",
       "<table border=\"1\" class=\"dataframe\">\n",
       "  <thead>\n",
       "    <tr style=\"text-align: right;\">\n",
       "      <th></th>\n",
       "      <th>children</th>\n",
       "      <th>days_employed</th>\n",
       "      <th>dob_years</th>\n",
       "      <th>education_id</th>\n",
       "      <th>family_status_id</th>\n",
       "      <th>gender</th>\n",
       "      <th>income_type</th>\n",
       "      <th>debt</th>\n",
       "      <th>total_income</th>\n",
       "      <th>purpose</th>\n",
       "      <th>total_income_category</th>\n",
       "    </tr>\n",
       "  </thead>\n",
       "  <tbody>\n",
       "    <tr>\n",
       "      <th>0</th>\n",
       "      <td>1</td>\n",
       "      <td>8437</td>\n",
       "      <td>42</td>\n",
       "      <td>0</td>\n",
       "      <td>0</td>\n",
       "      <td>F</td>\n",
       "      <td>сотрудник</td>\n",
       "      <td>0</td>\n",
       "      <td>253875</td>\n",
       "      <td>покупка жилья</td>\n",
       "      <td>B</td>\n",
       "    </tr>\n",
       "    <tr>\n",
       "      <th>1</th>\n",
       "      <td>1</td>\n",
       "      <td>4024</td>\n",
       "      <td>36</td>\n",
       "      <td>1</td>\n",
       "      <td>0</td>\n",
       "      <td>F</td>\n",
       "      <td>сотрудник</td>\n",
       "      <td>0</td>\n",
       "      <td>112080</td>\n",
       "      <td>приобретение автомобиля</td>\n",
       "      <td>C</td>\n",
       "    </tr>\n",
       "    <tr>\n",
       "      <th>2</th>\n",
       "      <td>0</td>\n",
       "      <td>5623</td>\n",
       "      <td>33</td>\n",
       "      <td>1</td>\n",
       "      <td>0</td>\n",
       "      <td>M</td>\n",
       "      <td>сотрудник</td>\n",
       "      <td>0</td>\n",
       "      <td>145885</td>\n",
       "      <td>покупка жилья</td>\n",
       "      <td>C</td>\n",
       "    </tr>\n",
       "    <tr>\n",
       "      <th>3</th>\n",
       "      <td>3</td>\n",
       "      <td>4124</td>\n",
       "      <td>32</td>\n",
       "      <td>1</td>\n",
       "      <td>0</td>\n",
       "      <td>M</td>\n",
       "      <td>сотрудник</td>\n",
       "      <td>0</td>\n",
       "      <td>267628</td>\n",
       "      <td>дополнительное образование</td>\n",
       "      <td>B</td>\n",
       "    </tr>\n",
       "    <tr>\n",
       "      <th>4</th>\n",
       "      <td>0</td>\n",
       "      <td>340266</td>\n",
       "      <td>53</td>\n",
       "      <td>1</td>\n",
       "      <td>1</td>\n",
       "      <td>F</td>\n",
       "      <td>пенсионер</td>\n",
       "      <td>0</td>\n",
       "      <td>158616</td>\n",
       "      <td>сыграть свадьбу</td>\n",
       "      <td>C</td>\n",
       "    </tr>\n",
       "  </tbody>\n",
       "</table>\n",
       "</div>"
      ],
      "text/plain": [
       "   children  days_employed  dob_years  education_id  family_status_id gender  \\\n",
       "0         1           8437         42             0                 0      F   \n",
       "1         1           4024         36             1                 0      F   \n",
       "2         0           5623         33             1                 0      M   \n",
       "3         3           4124         32             1                 0      M   \n",
       "4         0         340266         53             1                 1      F   \n",
       "\n",
       "  income_type  debt  total_income                     purpose  \\\n",
       "0   сотрудник     0        253875               покупка жилья   \n",
       "1   сотрудник     0        112080     приобретение автомобиля   \n",
       "2   сотрудник     0        145885               покупка жилья   \n",
       "3   сотрудник     0        267628  дополнительное образование   \n",
       "4   пенсионер     0        158616             сыграть свадьбу   \n",
       "\n",
       "  total_income_category  \n",
       "0                     B  \n",
       "1                     C  \n",
       "2                     C  \n",
       "3                     B  \n",
       "4                     C  "
      ]
     },
     "execution_count": 16,
     "metadata": {},
     "output_type": "execute_result"
    }
   ],
   "source": [
    "def total_income_category(total_income):  #  создание функции для категоризации дохода\n",
    "    if 0 <= total_income <= 30000:\n",
    "        return 'E'\n",
    "    if 30001 <= total_income <= 50000:\n",
    "        return 'D'\n",
    "    if 50001 <= total_income <= 200000:\n",
    "        return 'C'\n",
    "    if 200001 <= total_income <= 1000000:\n",
    "        return 'B'\n",
    "    return 'A'\n",
    "data['total_income_category'] = data['total_income'].apply(total_income_category)    #  создание столбца с категорией\n",
    "data.head()"
   ]
  },
  {
   "cell_type": "markdown",
   "id": "b50038c7",
   "metadata": {},
   "source": [
    "### Шаг 2.7. Категоризация целей кредита."
   ]
  },
  {
   "cell_type": "code",
   "execution_count": 17,
   "id": "cc701381",
   "metadata": {
    "scrolled": false
   },
   "outputs": [
    {
     "data": {
      "text/html": [
       "<div>\n",
       "<style scoped>\n",
       "    .dataframe tbody tr th:only-of-type {\n",
       "        vertical-align: middle;\n",
       "    }\n",
       "\n",
       "    .dataframe tbody tr th {\n",
       "        vertical-align: top;\n",
       "    }\n",
       "\n",
       "    .dataframe thead th {\n",
       "        text-align: right;\n",
       "    }\n",
       "</style>\n",
       "<table border=\"1\" class=\"dataframe\">\n",
       "  <thead>\n",
       "    <tr style=\"text-align: right;\">\n",
       "      <th></th>\n",
       "      <th>children</th>\n",
       "      <th>days_employed</th>\n",
       "      <th>dob_years</th>\n",
       "      <th>education_id</th>\n",
       "      <th>family_status_id</th>\n",
       "      <th>gender</th>\n",
       "      <th>income_type</th>\n",
       "      <th>debt</th>\n",
       "      <th>total_income</th>\n",
       "      <th>purpose</th>\n",
       "      <th>total_income_category</th>\n",
       "      <th>purpose_category</th>\n",
       "    </tr>\n",
       "  </thead>\n",
       "  <tbody>\n",
       "    <tr>\n",
       "      <th>0</th>\n",
       "      <td>1</td>\n",
       "      <td>8437</td>\n",
       "      <td>42</td>\n",
       "      <td>0</td>\n",
       "      <td>0</td>\n",
       "      <td>F</td>\n",
       "      <td>сотрудник</td>\n",
       "      <td>0</td>\n",
       "      <td>253875</td>\n",
       "      <td>покупка жилья</td>\n",
       "      <td>B</td>\n",
       "      <td>операции с недвижимостью</td>\n",
       "    </tr>\n",
       "    <tr>\n",
       "      <th>1</th>\n",
       "      <td>1</td>\n",
       "      <td>4024</td>\n",
       "      <td>36</td>\n",
       "      <td>1</td>\n",
       "      <td>0</td>\n",
       "      <td>F</td>\n",
       "      <td>сотрудник</td>\n",
       "      <td>0</td>\n",
       "      <td>112080</td>\n",
       "      <td>приобретение автомобиля</td>\n",
       "      <td>C</td>\n",
       "      <td>операции с автомобилем</td>\n",
       "    </tr>\n",
       "    <tr>\n",
       "      <th>2</th>\n",
       "      <td>0</td>\n",
       "      <td>5623</td>\n",
       "      <td>33</td>\n",
       "      <td>1</td>\n",
       "      <td>0</td>\n",
       "      <td>M</td>\n",
       "      <td>сотрудник</td>\n",
       "      <td>0</td>\n",
       "      <td>145885</td>\n",
       "      <td>покупка жилья</td>\n",
       "      <td>C</td>\n",
       "      <td>операции с недвижимостью</td>\n",
       "    </tr>\n",
       "    <tr>\n",
       "      <th>3</th>\n",
       "      <td>3</td>\n",
       "      <td>4124</td>\n",
       "      <td>32</td>\n",
       "      <td>1</td>\n",
       "      <td>0</td>\n",
       "      <td>M</td>\n",
       "      <td>сотрудник</td>\n",
       "      <td>0</td>\n",
       "      <td>267628</td>\n",
       "      <td>дополнительное образование</td>\n",
       "      <td>B</td>\n",
       "      <td>получение образования</td>\n",
       "    </tr>\n",
       "    <tr>\n",
       "      <th>4</th>\n",
       "      <td>0</td>\n",
       "      <td>340266</td>\n",
       "      <td>53</td>\n",
       "      <td>1</td>\n",
       "      <td>1</td>\n",
       "      <td>F</td>\n",
       "      <td>пенсионер</td>\n",
       "      <td>0</td>\n",
       "      <td>158616</td>\n",
       "      <td>сыграть свадьбу</td>\n",
       "      <td>C</td>\n",
       "      <td>проведение свадьбы</td>\n",
       "    </tr>\n",
       "    <tr>\n",
       "      <th>5</th>\n",
       "      <td>0</td>\n",
       "      <td>926</td>\n",
       "      <td>27</td>\n",
       "      <td>0</td>\n",
       "      <td>1</td>\n",
       "      <td>M</td>\n",
       "      <td>компаньон</td>\n",
       "      <td>0</td>\n",
       "      <td>255763</td>\n",
       "      <td>покупка жилья</td>\n",
       "      <td>B</td>\n",
       "      <td>операции с недвижимостью</td>\n",
       "    </tr>\n",
       "    <tr>\n",
       "      <th>6</th>\n",
       "      <td>0</td>\n",
       "      <td>2879</td>\n",
       "      <td>43</td>\n",
       "      <td>0</td>\n",
       "      <td>0</td>\n",
       "      <td>F</td>\n",
       "      <td>компаньон</td>\n",
       "      <td>0</td>\n",
       "      <td>240525</td>\n",
       "      <td>операции с жильем</td>\n",
       "      <td>B</td>\n",
       "      <td>операции с недвижимостью</td>\n",
       "    </tr>\n",
       "    <tr>\n",
       "      <th>7</th>\n",
       "      <td>0</td>\n",
       "      <td>152</td>\n",
       "      <td>50</td>\n",
       "      <td>1</td>\n",
       "      <td>0</td>\n",
       "      <td>M</td>\n",
       "      <td>сотрудник</td>\n",
       "      <td>0</td>\n",
       "      <td>135823</td>\n",
       "      <td>образование</td>\n",
       "      <td>C</td>\n",
       "      <td>получение образования</td>\n",
       "    </tr>\n",
       "    <tr>\n",
       "      <th>8</th>\n",
       "      <td>2</td>\n",
       "      <td>6929</td>\n",
       "      <td>35</td>\n",
       "      <td>0</td>\n",
       "      <td>1</td>\n",
       "      <td>F</td>\n",
       "      <td>сотрудник</td>\n",
       "      <td>0</td>\n",
       "      <td>95856</td>\n",
       "      <td>на проведение свадьбы</td>\n",
       "      <td>C</td>\n",
       "      <td>проведение свадьбы</td>\n",
       "    </tr>\n",
       "    <tr>\n",
       "      <th>9</th>\n",
       "      <td>0</td>\n",
       "      <td>2188</td>\n",
       "      <td>41</td>\n",
       "      <td>1</td>\n",
       "      <td>0</td>\n",
       "      <td>M</td>\n",
       "      <td>сотрудник</td>\n",
       "      <td>0</td>\n",
       "      <td>144425</td>\n",
       "      <td>покупка жилья для семьи</td>\n",
       "      <td>C</td>\n",
       "      <td>операции с недвижимостью</td>\n",
       "    </tr>\n",
       "  </tbody>\n",
       "</table>\n",
       "</div>"
      ],
      "text/plain": [
       "   children  days_employed  dob_years  education_id  family_status_id gender  \\\n",
       "0         1           8437         42             0                 0      F   \n",
       "1         1           4024         36             1                 0      F   \n",
       "2         0           5623         33             1                 0      M   \n",
       "3         3           4124         32             1                 0      M   \n",
       "4         0         340266         53             1                 1      F   \n",
       "5         0            926         27             0                 1      M   \n",
       "6         0           2879         43             0                 0      F   \n",
       "7         0            152         50             1                 0      M   \n",
       "8         2           6929         35             0                 1      F   \n",
       "9         0           2188         41             1                 0      M   \n",
       "\n",
       "  income_type  debt  total_income                     purpose  \\\n",
       "0   сотрудник     0        253875               покупка жилья   \n",
       "1   сотрудник     0        112080     приобретение автомобиля   \n",
       "2   сотрудник     0        145885               покупка жилья   \n",
       "3   сотрудник     0        267628  дополнительное образование   \n",
       "4   пенсионер     0        158616             сыграть свадьбу   \n",
       "5   компаньон     0        255763               покупка жилья   \n",
       "6   компаньон     0        240525           операции с жильем   \n",
       "7   сотрудник     0        135823                 образование   \n",
       "8   сотрудник     0         95856       на проведение свадьбы   \n",
       "9   сотрудник     0        144425     покупка жилья для семьи   \n",
       "\n",
       "  total_income_category          purpose_category  \n",
       "0                     B  операции с недвижимостью  \n",
       "1                     C    операции с автомобилем  \n",
       "2                     C  операции с недвижимостью  \n",
       "3                     B     получение образования  \n",
       "4                     C        проведение свадьбы  \n",
       "5                     B  операции с недвижимостью  \n",
       "6                     B  операции с недвижимостью  \n",
       "7                     C     получение образования  \n",
       "8                     C        проведение свадьбы  \n",
       "9                     C  операции с недвижимостью  "
      ]
     },
     "metadata": {},
     "output_type": "display_data"
    },
    {
     "name": "stdout",
     "output_type": "stream",
     "text": [
      "0\n"
     ]
    }
   ],
   "source": [
    "def purpose_category(purpose):    #  функция для категоризации целей кредита\n",
    "    if 'образован' in purpose:\n",
    "        return 'получение образования'\n",
    "    if 'свадьб' in purpose:\n",
    "        return 'проведение свадьбы'\n",
    "    if 'авто' in purpose:\n",
    "        return 'операции с автомобилем'\n",
    "    if 'жиль' or 'недвиж' in purpose:\n",
    "        return 'операции с недвижимостью'\n",
    "    if 'образован' in purpose:\n",
    "        return 'получение образования'\n",
    "data['purpose_category'] = data['purpose'].apply(purpose_category)    #  создание столбца с категорией кредита\n",
    "display(data.head(10))\n",
    "print(data['purpose_category'].isna().sum())    #  проверка на наличие пустых строк в столбце purpose_category"
   ]
  },
  {
   "cell_type": "markdown",
   "id": "f357c6be",
   "metadata": {},
   "source": [
    "### Ответы на вопросы."
   ]
  },
  {
   "cell_type": "markdown",
   "id": "c79db71e",
   "metadata": {},
   "source": [
    "Прежде, чем ответить на вопросы, подготовим сводные таблицы для каждого датафрейма.\n",
    "\n",
    "1) сводная таблица для зависимости между количеством детей и возвратом кредита в срок:"
   ]
  },
  {
   "cell_type": "code",
   "execution_count": 18,
   "id": "106edff1",
   "metadata": {},
   "outputs": [],
   "source": [
    "data_children_pivot = data.pivot_table(index='children', columns='debt', values='dob_years', aggfunc='count')\n",
    "data_children_pivot = data_children_pivot.fillna(0)  #  на всякий случай\n",
    "    #  для наглядности добавим столбец с процентом клиентов, выплативших кредит в срок:\n",
    "data_children_pivot['percent'] = (data_children_pivot[1] / (data_children_pivot[0] + data_children_pivot[1]) * 100).round().astype('int')\n",
    "data_children_pivot['percent'] = data_children_pivot['percent'].astype(str) + '%'   #  форматирование значения для наглядности"
   ]
  },
  {
   "cell_type": "markdown",
   "id": "0c207f9f",
   "metadata": {},
   "source": [
    "2) сводная таблица для зависимости между семейным положением и возвратом кредита в срок: "
   ]
  },
  {
   "cell_type": "code",
   "execution_count": 19,
   "id": "af0a393e",
   "metadata": {},
   "outputs": [],
   "source": [
    "data_family_status_pivot = data.pivot_table(index='family_status_id', columns='debt', values='dob_years', aggfunc='count')\n",
    "data_family_status_pivot = data_family_status_pivot.fillna(0)\n",
    "data_family_status_pivot['percent'] = (data_family_status_pivot[1] / (data_family_status_pivot[0] + data_family_status_pivot[1]) * 100).round().astype('int')\n",
    "data_family_status_pivot['percent'] = data_family_status_pivot['percent'].astype(str) + '%'\n",
    "data_family_status_pivot = data_family_status.merge(data_family_status_pivot, on='family_status_id', how='left')\n",
    "del data_family_status_pivot['family_status_id']\n",
    "#  data_family_status_pivot"
   ]
  },
  {
   "cell_type": "markdown",
   "id": "ae1cdfe8",
   "metadata": {},
   "source": [
    "3) сводная таблица для зависимости между уровнем дохода и возвратом кредита в срок:"
   ]
  },
  {
   "cell_type": "code",
   "execution_count": 20,
   "id": "dc01cee2",
   "metadata": {},
   "outputs": [],
   "source": [
    "data_total_income_pivot = data.pivot_table(index='total_income_category', columns='debt', values='dob_years', aggfunc='count')\n",
    "data_total_income_pivot = data_total_income_pivot.fillna(0)\n",
    "data_total_income_pivot['percent'] = (data_total_income_pivot[1] / (data_total_income_pivot[0] + data_total_income_pivot[1]) * 100).round().astype('int')\n",
    "data_total_income_pivot['percent'] = data_total_income_pivot['percent'].astype(str) + '%'"
   ]
  },
  {
   "cell_type": "markdown",
   "id": "8ba9d465",
   "metadata": {},
   "source": [
    "4) сводная таблица для зависимости между целями кредита и его возврата в срок: "
   ]
  },
  {
   "cell_type": "code",
   "execution_count": 21,
   "id": "3ad9735f",
   "metadata": {},
   "outputs": [],
   "source": [
    "data_purpose_pivot = data.pivot_table(index='purpose_category', columns='debt', values='dob_years', aggfunc='count')\n",
    "data_purpose_pivot = data_purpose_pivot.fillna(0)\n",
    "data_purpose_pivot['percent'] = (data_purpose_pivot[1] / (data_purpose_pivot[0] + data_purpose_pivot[1]) * 100).round().astype('int')\n",
    "data_purpose_pivot['percent'] = data_purpose_pivot['percent'].astype(str) + '%'"
   ]
  },
  {
   "cell_type": "markdown",
   "id": "47635792",
   "metadata": {},
   "source": [
    "##### Есть ли зависимость между количеством детей и возвратом кредита в срок?"
   ]
  },
  {
   "cell_type": "markdown",
   "id": "ecb1d4bb",
   "metadata": {},
   "source": [
    "Посмотрим на сводную таблицу:"
   ]
  },
  {
   "cell_type": "code",
   "execution_count": 22,
   "id": "5db66165",
   "metadata": {},
   "outputs": [
    {
     "data": {
      "text/html": [
       "<div>\n",
       "<style scoped>\n",
       "    .dataframe tbody tr th:only-of-type {\n",
       "        vertical-align: middle;\n",
       "    }\n",
       "\n",
       "    .dataframe tbody tr th {\n",
       "        vertical-align: top;\n",
       "    }\n",
       "\n",
       "    .dataframe thead th {\n",
       "        text-align: right;\n",
       "    }\n",
       "</style>\n",
       "<table border=\"1\" class=\"dataframe\">\n",
       "  <thead>\n",
       "    <tr style=\"text-align: right;\">\n",
       "      <th>debt</th>\n",
       "      <th>0</th>\n",
       "      <th>1</th>\n",
       "      <th>percent</th>\n",
       "    </tr>\n",
       "    <tr>\n",
       "      <th>children</th>\n",
       "      <th></th>\n",
       "      <th></th>\n",
       "      <th></th>\n",
       "    </tr>\n",
       "  </thead>\n",
       "  <tbody>\n",
       "    <tr>\n",
       "      <th>0</th>\n",
       "      <td>13027.0</td>\n",
       "      <td>1063.0</td>\n",
       "      <td>8%</td>\n",
       "    </tr>\n",
       "    <tr>\n",
       "      <th>1</th>\n",
       "      <td>4410.0</td>\n",
       "      <td>445.0</td>\n",
       "      <td>9%</td>\n",
       "    </tr>\n",
       "    <tr>\n",
       "      <th>2</th>\n",
       "      <td>1926.0</td>\n",
       "      <td>202.0</td>\n",
       "      <td>9%</td>\n",
       "    </tr>\n",
       "    <tr>\n",
       "      <th>3</th>\n",
       "      <td>303.0</td>\n",
       "      <td>27.0</td>\n",
       "      <td>8%</td>\n",
       "    </tr>\n",
       "    <tr>\n",
       "      <th>4</th>\n",
       "      <td>37.0</td>\n",
       "      <td>4.0</td>\n",
       "      <td>10%</td>\n",
       "    </tr>\n",
       "    <tr>\n",
       "      <th>5</th>\n",
       "      <td>9.0</td>\n",
       "      <td>0.0</td>\n",
       "      <td>0%</td>\n",
       "    </tr>\n",
       "  </tbody>\n",
       "</table>\n",
       "</div>"
      ],
      "text/plain": [
       "debt            0       1 percent\n",
       "children                         \n",
       "0         13027.0  1063.0      8%\n",
       "1          4410.0   445.0      9%\n",
       "2          1926.0   202.0      9%\n",
       "3           303.0    27.0      8%\n",
       "4            37.0     4.0     10%\n",
       "5             9.0     0.0      0%"
      ]
     },
     "execution_count": 22,
     "metadata": {},
     "output_type": "execute_result"
    }
   ],
   "source": [
    "data_children_pivot"
   ]
  },
  {
   "cell_type": "markdown",
   "id": "6100fe50",
   "metadata": {},
   "source": [
    "***Вывод :*** Из сводной таблицы видно, что клиенты, у которых либо нет детей, либо имеется ровно три ребенка, в 8% случаев не успевают закрыть кредит в срок. Клиенты с пятью детьми *всегда* погашают кредит в срок, в то время, как те, у кого один или два ребенка не закрывают кредит в срок в 9% случаев. Однако количество клиентов, обратившихся в банк для получения кредита сильно снижается с увеличением количества детей в семье, поэтому принимать такую статистику во внимание не следует."
   ]
  },
  {
   "cell_type": "markdown",
   "id": "c9139036",
   "metadata": {},
   "source": [
    "##### Есть ли зависимость между семейным положением и возвратом кредита в срок?"
   ]
  },
  {
   "cell_type": "markdown",
   "id": "c914ad64",
   "metadata": {},
   "source": [
    "Посмотрим на сводную таблицу:"
   ]
  },
  {
   "cell_type": "code",
   "execution_count": 23,
   "id": "05e5838c",
   "metadata": {},
   "outputs": [
    {
     "data": {
      "text/html": [
       "<div>\n",
       "<style scoped>\n",
       "    .dataframe tbody tr th:only-of-type {\n",
       "        vertical-align: middle;\n",
       "    }\n",
       "\n",
       "    .dataframe tbody tr th {\n",
       "        vertical-align: top;\n",
       "    }\n",
       "\n",
       "    .dataframe thead th {\n",
       "        text-align: right;\n",
       "    }\n",
       "</style>\n",
       "<table border=\"1\" class=\"dataframe\">\n",
       "  <thead>\n",
       "    <tr style=\"text-align: right;\">\n",
       "      <th></th>\n",
       "      <th>family_status</th>\n",
       "      <th>0</th>\n",
       "      <th>1</th>\n",
       "      <th>percent</th>\n",
       "    </tr>\n",
       "  </thead>\n",
       "  <tbody>\n",
       "    <tr>\n",
       "      <th>0</th>\n",
       "      <td>женат / замужем</td>\n",
       "      <td>11408</td>\n",
       "      <td>931</td>\n",
       "      <td>8%</td>\n",
       "    </tr>\n",
       "    <tr>\n",
       "      <th>1</th>\n",
       "      <td>гражданский брак</td>\n",
       "      <td>3762</td>\n",
       "      <td>388</td>\n",
       "      <td>9%</td>\n",
       "    </tr>\n",
       "    <tr>\n",
       "      <th>2</th>\n",
       "      <td>вдовец / вдова</td>\n",
       "      <td>896</td>\n",
       "      <td>63</td>\n",
       "      <td>7%</td>\n",
       "    </tr>\n",
       "    <tr>\n",
       "      <th>3</th>\n",
       "      <td>в разводе</td>\n",
       "      <td>1110</td>\n",
       "      <td>85</td>\n",
       "      <td>7%</td>\n",
       "    </tr>\n",
       "    <tr>\n",
       "      <th>4</th>\n",
       "      <td>не женат / не замужем</td>\n",
       "      <td>2536</td>\n",
       "      <td>274</td>\n",
       "      <td>10%</td>\n",
       "    </tr>\n",
       "  </tbody>\n",
       "</table>\n",
       "</div>"
      ],
      "text/plain": [
       "           family_status      0    1 percent\n",
       "0        женат / замужем  11408  931      8%\n",
       "1       гражданский брак   3762  388      9%\n",
       "2         вдовец / вдова    896   63      7%\n",
       "3              в разводе   1110   85      7%\n",
       "4  не женат / не замужем   2536  274     10%"
      ]
     },
     "execution_count": 23,
     "metadata": {},
     "output_type": "execute_result"
    }
   ],
   "source": [
    "data_family_status_pivot"
   ]
  },
  {
   "cell_type": "markdown",
   "id": "6c3252b5",
   "metadata": {},
   "source": [
    "***Вывод :*** Из сводной таблицы видно, что клиенты, у которых семейный статус не женат(не замужем), реже остальных возвращают кредит в срок. А клиенты, у котороых семейный статус вдовец(вдова) или в разводе - чаще, однако, в целом, такие клиенты в меньшинстве. А вот те, кто женат(замужем), и обращаются в банк за кредитом чаще остальных, и в должниках остаются редко - всего в 8%."
   ]
  },
  {
   "cell_type": "markdown",
   "id": "a00eb6cb",
   "metadata": {},
   "source": [
    "##### Есть ли зависимость между уровнем дохода и возвратом кредита в срок?"
   ]
  },
  {
   "cell_type": "markdown",
   "id": "dd30528c",
   "metadata": {},
   "source": [
    "Посмотрим на сводную таблицу:"
   ]
  },
  {
   "cell_type": "code",
   "execution_count": 24,
   "id": "513c00b1",
   "metadata": {},
   "outputs": [
    {
     "data": {
      "text/html": [
       "<div>\n",
       "<style scoped>\n",
       "    .dataframe tbody tr th:only-of-type {\n",
       "        vertical-align: middle;\n",
       "    }\n",
       "\n",
       "    .dataframe tbody tr th {\n",
       "        vertical-align: top;\n",
       "    }\n",
       "\n",
       "    .dataframe thead th {\n",
       "        text-align: right;\n",
       "    }\n",
       "</style>\n",
       "<table border=\"1\" class=\"dataframe\">\n",
       "  <thead>\n",
       "    <tr style=\"text-align: right;\">\n",
       "      <th>debt</th>\n",
       "      <th>0</th>\n",
       "      <th>1</th>\n",
       "      <th>percent</th>\n",
       "    </tr>\n",
       "    <tr>\n",
       "      <th>total_income_category</th>\n",
       "      <th></th>\n",
       "      <th></th>\n",
       "      <th></th>\n",
       "    </tr>\n",
       "  </thead>\n",
       "  <tbody>\n",
       "    <tr>\n",
       "      <th>A</th>\n",
       "      <td>23</td>\n",
       "      <td>2</td>\n",
       "      <td>8%</td>\n",
       "    </tr>\n",
       "    <tr>\n",
       "      <th>B</th>\n",
       "      <td>4684</td>\n",
       "      <td>356</td>\n",
       "      <td>7%</td>\n",
       "    </tr>\n",
       "    <tr>\n",
       "      <th>C</th>\n",
       "      <td>14656</td>\n",
       "      <td>1360</td>\n",
       "      <td>8%</td>\n",
       "    </tr>\n",
       "    <tr>\n",
       "      <th>D</th>\n",
       "      <td>329</td>\n",
       "      <td>21</td>\n",
       "      <td>6%</td>\n",
       "    </tr>\n",
       "    <tr>\n",
       "      <th>E</th>\n",
       "      <td>20</td>\n",
       "      <td>2</td>\n",
       "      <td>9%</td>\n",
       "    </tr>\n",
       "  </tbody>\n",
       "</table>\n",
       "</div>"
      ],
      "text/plain": [
       "debt                       0     1 percent\n",
       "total_income_category                     \n",
       "A                         23     2      8%\n",
       "B                       4684   356      7%\n",
       "C                      14656  1360      8%\n",
       "D                        329    21      6%\n",
       "E                         20     2      9%"
      ]
     },
     "execution_count": 24,
     "metadata": {},
     "output_type": "execute_result"
    }
   ],
   "source": [
    "data_total_income_pivot"
   ]
  },
  {
   "cell_type": "markdown",
   "id": "1b41d66a",
   "metadata": {},
   "source": [
    "***Вывод :*** Судя по сводной таблице, клиенты с уровнем дохода `D` (от 30 001 р. до 50 000 р.) не успевают выплатить кредит в срок реже остальных - всего в 6%. Так же можно заметить, что чаще всего кредит берут клиенты с доходом из категории `C` - от 50 001 р. до 200 000 р., однако выплатить в срок успевают всего в 8% случаев. И реже всего с доходом из категории `А` (свыше 1 000 001 р.) и `Е` (до 30 000 р.), но имеют задолжности в 8% и 9% случаев соответственно. Клиетны с уровнем дохода `B` (от 200 001 р. до 1 000 000 р.) берут кредит достаточно часто, кроме того процент тех, кто не успел закрыть кредит вовремя достаточно мал - всего 7 %."
   ]
  },
  {
   "cell_type": "markdown",
   "id": "cc7a464e",
   "metadata": {},
   "source": [
    "##### Как разные цели кредита влияют на его возврат в срок?"
   ]
  },
  {
   "cell_type": "code",
   "execution_count": 25,
   "id": "ddec221b",
   "metadata": {},
   "outputs": [
    {
     "data": {
      "text/html": [
       "<div>\n",
       "<style scoped>\n",
       "    .dataframe tbody tr th:only-of-type {\n",
       "        vertical-align: middle;\n",
       "    }\n",
       "\n",
       "    .dataframe tbody tr th {\n",
       "        vertical-align: top;\n",
       "    }\n",
       "\n",
       "    .dataframe thead th {\n",
       "        text-align: right;\n",
       "    }\n",
       "</style>\n",
       "<table border=\"1\" class=\"dataframe\">\n",
       "  <thead>\n",
       "    <tr style=\"text-align: right;\">\n",
       "      <th>debt</th>\n",
       "      <th>0</th>\n",
       "      <th>1</th>\n",
       "      <th>percent</th>\n",
       "    </tr>\n",
       "    <tr>\n",
       "      <th>purpose_category</th>\n",
       "      <th></th>\n",
       "      <th></th>\n",
       "      <th></th>\n",
       "    </tr>\n",
       "  </thead>\n",
       "  <tbody>\n",
       "    <tr>\n",
       "      <th>операции с автомобилем</th>\n",
       "      <td>3903</td>\n",
       "      <td>403</td>\n",
       "      <td>9%</td>\n",
       "    </tr>\n",
       "    <tr>\n",
       "      <th>операции с недвижимостью</th>\n",
       "      <td>10028</td>\n",
       "      <td>782</td>\n",
       "      <td>7%</td>\n",
       "    </tr>\n",
       "    <tr>\n",
       "      <th>получение образования</th>\n",
       "      <td>3643</td>\n",
       "      <td>370</td>\n",
       "      <td>9%</td>\n",
       "    </tr>\n",
       "    <tr>\n",
       "      <th>проведение свадьбы</th>\n",
       "      <td>2138</td>\n",
       "      <td>186</td>\n",
       "      <td>8%</td>\n",
       "    </tr>\n",
       "  </tbody>\n",
       "</table>\n",
       "</div>"
      ],
      "text/plain": [
       "debt                          0    1 percent\n",
       "purpose_category                            \n",
       "операции с автомобилем     3903  403      9%\n",
       "операции с недвижимостью  10028  782      7%\n",
       "получение образования      3643  370      9%\n",
       "проведение свадьбы         2138  186      8%"
      ]
     },
     "execution_count": 25,
     "metadata": {},
     "output_type": "execute_result"
    }
   ],
   "source": [
    "data_purpose_pivot"
   ]
  },
  {
   "cell_type": "markdown",
   "id": "c7e5b6b4",
   "metadata": {},
   "source": [
    "***Вывод :*** Судя по сводной таблице, клиенты, обратившиеся в банк с целью получения кредита на операции с недвижимостью в большинстве и не закрывают кредит в срок реже остальных - в 7%. А вот те клиенты, которые берут кредит на операции с автомобилем или получение образования - чаще (в 9%). Меньше всего тех, кто брал кредит на проведение свадьбы, однако не успевают закрыть его в 8% случаев."
   ]
  },
  {
   "cell_type": "markdown",
   "id": "f99ee59c",
   "metadata": {},
   "source": [
    "## Общий вывод:"
   ]
  },
  {
   "cell_type": "markdown",
   "id": "4402c812",
   "metadata": {},
   "source": [
    "В ходе исследования была выявлена зависимость между выплатой кредита в срок и такими факторами, как:\n",
    "* количество детей;\n",
    "* семейное положение;\n",
    "* уровень дохода;\n",
    "* цель кредита."
   ]
  },
  {
   "cell_type": "markdown",
   "id": "bfc69896",
   "metadata": {},
   "source": [
    "Для наглядности, результаты исследования были представлены в сводных таблицах с процентным соотношением клиентов, не выплативших кредит в срок, ко всем клиентам из данной категории. По результатам исследования можно сформулировать следущие выводы:\n",
    "1) самыми надежными заемщиками оказались те, кто не имеет детей вовсе или имеет ровно три ребенка (хотя последние достатчно редко обращаются в банк для получения кредита), а самыми ненадежными те, кто имеет одного, двух или четырех детей;\n",
    "\n",
    "2) вдовцы (вдовы) и те, кто в разводе гораздо чаще выплачивают кредит в срок, нежели те, кто не женат(не замужем);\n",
    "\n",
    "3) клиенты с уровнем дохода от 30 001 р. до 50 000 р. не успевают выплатить кредит в срок реже остальных - всего в 6%, в то время, как клиенты с уровнем дохода до 30 000 р. чаще остальных - в 9% случаев;\n",
    "\n",
    "4) самыми надежными заемщиками оказались те, кто берет кредит на операции с недвижимостью, а самыми ненадежными те, кто берет кредит на операции с автомобилем или на получение образования."
   ]
  },
  {
   "cell_type": "markdown",
   "id": "9c86aceb",
   "metadata": {},
   "source": [
    "***Рекомендации :***"
   ]
  },
  {
   "cell_type": "markdown",
   "id": "9be3b9b7",
   "metadata": {},
   "source": [
    "По результатам исследования можно дать следущие рекомендации:\n",
    "\n",
    "1) обратить внимание на такие категории заемщиков, как:\n",
    "  * клиенты, не имеющие детей (или имеющие ровно троих детей);\n",
    "  * вдовцы (вдовы) и те, кто в разводе;\n",
    "  * клиенты с уровнем дохода от 30 001 р. до 50 000 р.;\n",
    "  * клиенты, которые берут кредит на операции с недвижимостью;\n",
    "  \n",
    "*эти категории самые надежные.*\n",
    "\n",
    "2) стоит реже одобрять кредит следующим категориям заемщиков:\n",
    " * клиенты, имеющие четырех детей;\n",
    " * клиенты, находящиеся в статусе не женат (не замужем);\n",
    " * клиенты с уровнем дохода до 30 000 р.;\n",
    " * клиенты, которые берут кредит на операции с автомобилем или на получение образования;\n",
    " \n",
    "*эти категории самые ненадежные.*"
   ]
  }
 ],
 "metadata": {
  "ExecuteTimeLog": [
   {
    "duration": 906,
    "start_time": "2022-02-10T07:55:42.562Z"
   },
   {
    "duration": 74,
    "start_time": "2022-02-10T07:55:56.703Z"
   },
   {
    "duration": 67,
    "start_time": "2022-02-10T07:56:03.171Z"
   },
   {
    "duration": 70,
    "start_time": "2022-02-10T07:56:47.304Z"
   },
   {
    "duration": 65,
    "start_time": "2022-02-10T07:58:51.964Z"
   },
   {
    "duration": 70,
    "start_time": "2022-02-10T07:59:21.161Z"
   },
   {
    "duration": 70,
    "start_time": "2022-02-10T08:01:48.603Z"
   },
   {
    "duration": 82,
    "start_time": "2022-02-10T08:02:28.422Z"
   },
   {
    "duration": 12,
    "start_time": "2022-02-10T08:06:16.403Z"
   },
   {
    "duration": 10,
    "start_time": "2022-02-10T08:06:49.778Z"
   },
   {
    "duration": 6,
    "start_time": "2022-02-10T08:10:16.396Z"
   },
   {
    "duration": 6,
    "start_time": "2022-02-10T08:10:28.561Z"
   },
   {
    "duration": 7,
    "start_time": "2022-02-10T08:10:53.003Z"
   },
   {
    "duration": 12,
    "start_time": "2022-02-10T08:16:11.635Z"
   },
   {
    "duration": 18,
    "start_time": "2022-02-10T08:16:25.927Z"
   },
   {
    "duration": 8,
    "start_time": "2022-02-10T08:30:47.108Z"
   },
   {
    "duration": 8,
    "start_time": "2022-02-10T08:31:00.247Z"
   },
   {
    "duration": 10,
    "start_time": "2022-02-10T08:32:05.065Z"
   },
   {
    "duration": 7,
    "start_time": "2022-02-10T08:35:03.245Z"
   },
   {
    "duration": 19,
    "start_time": "2022-02-10T08:35:50.903Z"
   },
   {
    "duration": 80,
    "start_time": "2022-02-10T08:36:30.545Z"
   },
   {
    "duration": 539,
    "start_time": "2022-02-10T08:38:19.067Z"
   },
   {
    "duration": 13,
    "start_time": "2022-02-10T08:38:25.936Z"
   },
   {
    "duration": 11,
    "start_time": "2022-02-10T08:38:45.864Z"
   },
   {
    "duration": 9,
    "start_time": "2022-02-10T08:39:20.775Z"
   },
   {
    "duration": 9,
    "start_time": "2022-02-10T08:39:22.634Z"
   },
   {
    "duration": 18,
    "start_time": "2022-02-10T08:39:36.281Z"
   },
   {
    "duration": 6,
    "start_time": "2022-02-10T08:47:51.145Z"
   },
   {
    "duration": 326,
    "start_time": "2022-02-10T08:49:03.232Z"
   },
   {
    "duration": 329,
    "start_time": "2022-02-10T08:49:09.477Z"
   },
   {
    "duration": 56,
    "start_time": "2022-02-10T08:49:53.411Z"
   },
   {
    "duration": 20,
    "start_time": "2022-02-10T08:50:55.973Z"
   },
   {
    "duration": 13,
    "start_time": "2022-02-10T08:51:45.208Z"
   },
   {
    "duration": 10,
    "start_time": "2022-02-10T08:52:29.103Z"
   },
   {
    "duration": 6,
    "start_time": "2022-02-10T08:54:24.655Z"
   },
   {
    "duration": 6,
    "start_time": "2022-02-10T08:54:41.380Z"
   },
   {
    "duration": 6,
    "start_time": "2022-02-10T08:55:02.003Z"
   },
   {
    "duration": 101,
    "start_time": "2022-02-10T08:56:16.759Z"
   },
   {
    "duration": 7,
    "start_time": "2022-02-10T08:56:22.802Z"
   },
   {
    "duration": 6,
    "start_time": "2022-02-10T08:57:15.564Z"
   },
   {
    "duration": 7,
    "start_time": "2022-02-10T08:58:52.091Z"
   },
   {
    "duration": 8,
    "start_time": "2022-02-10T08:59:02.429Z"
   },
   {
    "duration": 8,
    "start_time": "2022-02-10T09:23:28.863Z"
   },
   {
    "duration": 19,
    "start_time": "2022-02-10T09:24:11.154Z"
   },
   {
    "duration": 19,
    "start_time": "2022-02-10T09:24:40.639Z"
   },
   {
    "duration": 20,
    "start_time": "2022-02-10T09:25:59.337Z"
   },
   {
    "duration": 82,
    "start_time": "2022-02-10T09:26:53.286Z"
   },
   {
    "duration": 325,
    "start_time": "2022-02-10T09:34:40.020Z"
   },
   {
    "duration": 6,
    "start_time": "2022-02-10T09:35:25.974Z"
   },
   {
    "duration": 20,
    "start_time": "2022-02-10T09:35:39.039Z"
   },
   {
    "duration": 823,
    "start_time": "2022-02-10T09:36:04.647Z"
   },
   {
    "duration": -994,
    "start_time": "2022-02-10T09:36:45.437Z"
   },
   {
    "duration": -1031,
    "start_time": "2022-02-10T09:37:05.983Z"
   },
   {
    "duration": 7691,
    "start_time": "2022-02-10T09:37:07.217Z"
   },
   {
    "duration": 18,
    "start_time": "2022-02-10T09:38:34.507Z"
   },
   {
    "duration": 2700,
    "start_time": "2022-02-10T09:41:20.517Z"
   },
   {
    "duration": 326,
    "start_time": "2022-02-10T09:41:29.847Z"
   },
   {
    "duration": 330,
    "start_time": "2022-02-10T09:50:08.243Z"
   },
   {
    "duration": 548,
    "start_time": "2022-02-10T09:50:44.850Z"
   },
   {
    "duration": 629,
    "start_time": "2022-02-10T09:54:36.880Z"
   },
   {
    "duration": 364,
    "start_time": "2022-02-10T09:55:44.905Z"
   },
   {
    "duration": 333,
    "start_time": "2022-02-10T09:55:55.062Z"
   },
   {
    "duration": 16,
    "start_time": "2022-02-10T09:56:17.260Z"
   },
   {
    "duration": 18,
    "start_time": "2022-02-10T09:56:37.048Z"
   },
   {
    "duration": 340,
    "start_time": "2022-02-10T09:56:42.349Z"
   },
   {
    "duration": 14,
    "start_time": "2022-02-10T09:56:45.584Z"
   },
   {
    "duration": 24,
    "start_time": "2022-02-10T09:56:59.668Z"
   },
   {
    "duration": 37,
    "start_time": "2022-02-10T09:57:08.514Z"
   },
   {
    "duration": 19,
    "start_time": "2022-02-10T09:59:09.925Z"
   },
   {
    "duration": 10,
    "start_time": "2022-02-10T09:59:44.459Z"
   },
   {
    "duration": 17,
    "start_time": "2022-02-10T09:59:55.697Z"
   },
   {
    "duration": 18,
    "start_time": "2022-02-10T10:01:45.775Z"
   },
   {
    "duration": 24,
    "start_time": "2022-02-10T10:02:40.526Z"
   },
   {
    "duration": 22,
    "start_time": "2022-02-10T10:02:47.555Z"
   },
   {
    "duration": 22,
    "start_time": "2022-02-10T10:02:55.662Z"
   },
   {
    "duration": 324,
    "start_time": "2022-02-10T10:05:02.276Z"
   },
   {
    "duration": 28,
    "start_time": "2022-02-10T10:05:07.489Z"
   },
   {
    "duration": 31,
    "start_time": "2022-02-10T10:05:32.997Z"
   },
   {
    "duration": 23,
    "start_time": "2022-02-10T10:06:51.912Z"
   },
   {
    "duration": 71,
    "start_time": "2022-02-10T10:09:17.462Z"
   },
   {
    "duration": 53,
    "start_time": "2022-02-10T10:09:42.945Z"
   },
   {
    "duration": 53,
    "start_time": "2022-02-10T10:09:50.147Z"
   },
   {
    "duration": 59,
    "start_time": "2022-02-10T10:10:31.542Z"
   },
   {
    "duration": 36,
    "start_time": "2022-02-10T10:10:50.929Z"
   },
   {
    "duration": 343,
    "start_time": "2022-02-10T10:11:34.850Z"
   },
   {
    "duration": 29,
    "start_time": "2022-02-10T10:12:03.972Z"
   },
   {
    "duration": 28,
    "start_time": "2022-02-10T10:12:23.023Z"
   },
   {
    "duration": 23,
    "start_time": "2022-02-10T10:13:12.942Z"
   },
   {
    "duration": 36,
    "start_time": "2022-02-10T10:13:15.977Z"
   },
   {
    "duration": 22,
    "start_time": "2022-02-10T10:13:19.821Z"
   },
   {
    "duration": 5,
    "start_time": "2022-02-10T10:13:34.590Z"
   },
   {
    "duration": 24,
    "start_time": "2022-02-10T10:13:37.641Z"
   },
   {
    "duration": 19,
    "start_time": "2022-02-10T10:14:14.345Z"
   },
   {
    "duration": 352,
    "start_time": "2022-02-10T10:14:34.692Z"
   },
   {
    "duration": 274,
    "start_time": "2022-02-10T10:16:44.592Z"
   },
   {
    "duration": 27,
    "start_time": "2022-02-10T10:16:53.384Z"
   },
   {
    "duration": 16,
    "start_time": "2022-02-10T10:17:17.830Z"
   },
   {
    "duration": 23,
    "start_time": "2022-02-10T10:18:11.340Z"
   },
   {
    "duration": 34,
    "start_time": "2022-02-10T10:18:50.873Z"
   },
   {
    "duration": 40,
    "start_time": "2022-02-10T10:20:27.192Z"
   },
   {
    "duration": 41,
    "start_time": "2022-02-10T10:21:29.412Z"
   },
   {
    "duration": 55,
    "start_time": "2022-02-10T10:25:37.202Z"
   },
   {
    "duration": 108,
    "start_time": "2022-02-10T10:27:34.971Z"
   },
   {
    "duration": 329,
    "start_time": "2022-02-10T10:27:42.220Z"
   },
   {
    "duration": 331,
    "start_time": "2022-02-10T10:29:01.168Z"
   },
   {
    "duration": 62,
    "start_time": "2022-02-10T10:30:58.820Z"
   },
   {
    "duration": 33,
    "start_time": "2022-02-10T10:32:19.803Z"
   },
   {
    "duration": 23,
    "start_time": "2022-02-10T10:36:07.699Z"
   },
   {
    "duration": 30,
    "start_time": "2022-02-10T10:37:07.009Z"
   },
   {
    "duration": 452,
    "start_time": "2022-02-10T10:37:54.985Z"
   },
   {
    "duration": 76,
    "start_time": "2022-02-10T10:38:17.891Z"
   },
   {
    "duration": 101,
    "start_time": "2022-02-10T10:39:13.549Z"
   },
   {
    "duration": 401,
    "start_time": "2022-02-10T10:39:49.615Z"
   },
   {
    "duration": 29,
    "start_time": "2022-02-10T10:40:08.820Z"
   },
   {
    "duration": 25,
    "start_time": "2022-02-10T10:40:18.197Z"
   },
   {
    "duration": 48,
    "start_time": "2022-02-10T10:48:39.070Z"
   },
   {
    "duration": 23,
    "start_time": "2022-02-10T10:49:58.006Z"
   },
   {
    "duration": 28,
    "start_time": "2022-02-10T10:50:45.335Z"
   },
   {
    "duration": 31,
    "start_time": "2022-02-10T10:50:52.575Z"
   },
   {
    "duration": 23,
    "start_time": "2022-02-10T10:51:14.143Z"
   },
   {
    "duration": 25,
    "start_time": "2022-02-10T10:51:23.304Z"
   },
   {
    "duration": 23,
    "start_time": "2022-02-10T10:51:32.933Z"
   },
   {
    "duration": 35,
    "start_time": "2022-02-10T10:51:57.995Z"
   },
   {
    "duration": 617,
    "start_time": "2022-02-11T07:51:54.402Z"
   },
   {
    "duration": 5,
    "start_time": "2022-02-11T07:52:01.954Z"
   },
   {
    "duration": 13,
    "start_time": "2022-02-11T07:52:09.247Z"
   },
   {
    "duration": 2,
    "start_time": "2022-02-11T07:52:48.775Z"
   },
   {
    "duration": 12,
    "start_time": "2022-02-11T07:52:54.350Z"
   },
   {
    "duration": 264,
    "start_time": "2022-02-11T07:53:37.466Z"
   },
   {
    "duration": 196,
    "start_time": "2022-02-11T07:53:46.113Z"
   },
   {
    "duration": 194,
    "start_time": "2022-02-11T07:53:52.048Z"
   },
   {
    "duration": 210,
    "start_time": "2022-02-11T07:54:20.692Z"
   },
   {
    "duration": 12,
    "start_time": "2022-02-11T07:54:24.101Z"
   },
   {
    "duration": 9,
    "start_time": "2022-02-11T07:55:09.115Z"
   },
   {
    "duration": 8,
    "start_time": "2022-02-11T07:55:14.575Z"
   },
   {
    "duration": 3586,
    "start_time": "2022-02-11T07:57:20.380Z"
   },
   {
    "duration": 3566,
    "start_time": "2022-02-11T07:57:39.777Z"
   },
   {
    "duration": 3467,
    "start_time": "2022-02-11T07:57:51.251Z"
   },
   {
    "duration": 3529,
    "start_time": "2022-02-11T07:58:20.498Z"
   },
   {
    "duration": 2783,
    "start_time": "2022-02-11T08:00:27.569Z"
   },
   {
    "duration": 6,
    "start_time": "2022-02-11T08:00:44.916Z"
   },
   {
    "duration": 8,
    "start_time": "2022-02-11T08:00:52.477Z"
   },
   {
    "duration": 3039,
    "start_time": "2022-02-11T08:01:00.010Z"
   },
   {
    "duration": 61,
    "start_time": "2022-02-11T08:01:14.273Z"
   },
   {
    "duration": 5,
    "start_time": "2022-02-11T08:01:18.215Z"
   },
   {
    "duration": 13,
    "start_time": "2022-02-11T08:01:20.978Z"
   },
   {
    "duration": 11,
    "start_time": "2022-02-11T08:01:35.037Z"
   },
   {
    "duration": 1475,
    "start_time": "2022-02-11T08:01:57.310Z"
   },
   {
    "duration": 199,
    "start_time": "2022-02-11T08:02:01.523Z"
   },
   {
    "duration": 14,
    "start_time": "2022-02-11T08:02:15.450Z"
   },
   {
    "duration": 14,
    "start_time": "2022-02-11T08:02:19.333Z"
   },
   {
    "duration": 19,
    "start_time": "2022-02-11T08:02:21.751Z"
   },
   {
    "duration": 28,
    "start_time": "2022-02-11T08:02:39.052Z"
   },
   {
    "duration": 17,
    "start_time": "2022-02-11T08:02:43.108Z"
   },
   {
    "duration": 18,
    "start_time": "2022-02-11T08:02:44.192Z"
   },
   {
    "duration": 11,
    "start_time": "2022-02-11T08:04:17.457Z"
   },
   {
    "duration": 63,
    "start_time": "2022-02-11T08:04:25.624Z"
   },
   {
    "duration": 12,
    "start_time": "2022-02-11T08:04:30.200Z"
   },
   {
    "duration": 8,
    "start_time": "2022-02-11T08:05:21.238Z"
   },
   {
    "duration": 14,
    "start_time": "2022-02-11T08:05:39.695Z"
   },
   {
    "duration": 57,
    "start_time": "2022-02-11T08:05:56.501Z"
   },
   {
    "duration": 12,
    "start_time": "2022-02-11T08:06:00.823Z"
   },
   {
    "duration": 16,
    "start_time": "2022-02-11T08:06:04.820Z"
   },
   {
    "duration": 218,
    "start_time": "2022-02-11T08:07:15.520Z"
   },
   {
    "duration": 61,
    "start_time": "2022-02-11T08:07:31.958Z"
   },
   {
    "duration": 5,
    "start_time": "2022-02-11T08:07:32.878Z"
   },
   {
    "duration": 14,
    "start_time": "2022-02-11T08:07:33.678Z"
   },
   {
    "duration": 16,
    "start_time": "2022-02-11T08:07:35.778Z"
   },
   {
    "duration": 14,
    "start_time": "2022-02-11T08:07:40.368Z"
   },
   {
    "duration": 14,
    "start_time": "2022-02-11T08:07:48.457Z"
   },
   {
    "duration": 19,
    "start_time": "2022-02-11T08:07:49.059Z"
   },
   {
    "duration": 37,
    "start_time": "2022-02-11T08:08:36.679Z"
   },
   {
    "duration": 47,
    "start_time": "2022-02-11T08:10:54.200Z"
   },
   {
    "duration": 53,
    "start_time": "2022-02-11T08:12:19.514Z"
   },
   {
    "duration": 45,
    "start_time": "2022-02-11T08:13:30.716Z"
   },
   {
    "duration": 17,
    "start_time": "2022-02-11T08:13:38.173Z"
   },
   {
    "duration": 20,
    "start_time": "2022-02-11T08:13:39.085Z"
   },
   {
    "duration": 195,
    "start_time": "2022-02-11T08:18:09.570Z"
   },
   {
    "duration": 11,
    "start_time": "2022-02-11T08:18:29.544Z"
   },
   {
    "duration": 60,
    "start_time": "2022-02-11T08:18:48.274Z"
   },
   {
    "duration": 6,
    "start_time": "2022-02-11T08:18:49.591Z"
   },
   {
    "duration": 15,
    "start_time": "2022-02-11T08:18:49.998Z"
   },
   {
    "duration": 16,
    "start_time": "2022-02-11T08:18:50.735Z"
   },
   {
    "duration": 14,
    "start_time": "2022-02-11T08:18:51.853Z"
   },
   {
    "duration": 14,
    "start_time": "2022-02-11T08:18:53.726Z"
   },
   {
    "duration": 18,
    "start_time": "2022-02-11T08:18:54.128Z"
   },
   {
    "duration": 42,
    "start_time": "2022-02-11T08:18:55.189Z"
   },
   {
    "duration": 17,
    "start_time": "2022-02-11T08:18:56.619Z"
   },
   {
    "duration": 19,
    "start_time": "2022-02-11T08:18:56.965Z"
   },
   {
    "duration": 11,
    "start_time": "2022-02-11T08:18:59.019Z"
   },
   {
    "duration": 13,
    "start_time": "2022-02-11T08:24:10.084Z"
   },
   {
    "duration": 10,
    "start_time": "2022-02-11T08:24:33.977Z"
   },
   {
    "duration": 4,
    "start_time": "2022-02-11T08:28:46.972Z"
   },
   {
    "duration": 10,
    "start_time": "2022-02-11T08:28:55.477Z"
   },
   {
    "duration": 10,
    "start_time": "2022-02-11T08:29:33.816Z"
   },
   {
    "duration": 10,
    "start_time": "2022-02-11T08:29:51.325Z"
   },
   {
    "duration": 17,
    "start_time": "2022-02-11T08:36:24.104Z"
   },
   {
    "duration": 11,
    "start_time": "2022-02-11T08:36:39.446Z"
   },
   {
    "duration": 4669,
    "start_time": "2022-02-11T08:37:51.146Z"
   },
   {
    "duration": 4711,
    "start_time": "2022-02-11T08:38:13.590Z"
   },
   {
    "duration": 4617,
    "start_time": "2022-02-11T08:39:20.942Z"
   },
   {
    "duration": 210,
    "start_time": "2022-02-11T08:39:52.191Z"
   },
   {
    "duration": 9,
    "start_time": "2022-02-11T08:40:02.000Z"
   },
   {
    "duration": 9,
    "start_time": "2022-02-11T08:40:09.363Z"
   },
   {
    "duration": 179,
    "start_time": "2022-02-11T08:40:14.178Z"
   },
   {
    "duration": 59,
    "start_time": "2022-02-11T08:40:26.124Z"
   },
   {
    "duration": 221,
    "start_time": "2022-02-11T08:45:29.189Z"
   },
   {
    "duration": 16,
    "start_time": "2022-02-11T08:46:07.458Z"
   },
   {
    "duration": 15,
    "start_time": "2022-02-11T08:46:10.053Z"
   },
   {
    "duration": 58,
    "start_time": "2022-02-11T08:46:28.389Z"
   },
   {
    "duration": 5,
    "start_time": "2022-02-11T08:46:29.002Z"
   },
   {
    "duration": 13,
    "start_time": "2022-02-11T08:46:29.377Z"
   },
   {
    "duration": 14,
    "start_time": "2022-02-11T08:46:30.255Z"
   },
   {
    "duration": 13,
    "start_time": "2022-02-11T08:46:31.929Z"
   },
   {
    "duration": 14,
    "start_time": "2022-02-11T08:46:33.664Z"
   },
   {
    "duration": 18,
    "start_time": "2022-02-11T08:46:34.086Z"
   },
   {
    "duration": 39,
    "start_time": "2022-02-11T08:46:35.185Z"
   },
   {
    "duration": 17,
    "start_time": "2022-02-11T08:46:36.325Z"
   },
   {
    "duration": 21,
    "start_time": "2022-02-11T08:46:36.755Z"
   },
   {
    "duration": 11,
    "start_time": "2022-02-11T08:46:38.781Z"
   },
   {
    "duration": 10,
    "start_time": "2022-02-11T08:46:39.763Z"
   },
   {
    "duration": 17,
    "start_time": "2022-02-11T08:46:40.281Z"
   },
   {
    "duration": 15,
    "start_time": "2022-02-11T08:48:17.845Z"
   },
   {
    "duration": 59,
    "start_time": "2022-02-11T08:48:25.650Z"
   },
   {
    "duration": 5,
    "start_time": "2022-02-11T08:48:26.382Z"
   },
   {
    "duration": 13,
    "start_time": "2022-02-11T08:48:26.762Z"
   },
   {
    "duration": 14,
    "start_time": "2022-02-11T08:48:27.275Z"
   },
   {
    "duration": 14,
    "start_time": "2022-02-11T08:48:27.771Z"
   },
   {
    "duration": 14,
    "start_time": "2022-02-11T08:48:28.292Z"
   },
   {
    "duration": 19,
    "start_time": "2022-02-11T08:48:29.052Z"
   },
   {
    "duration": 42,
    "start_time": "2022-02-11T08:48:30.045Z"
   },
   {
    "duration": 18,
    "start_time": "2022-02-11T08:48:31.349Z"
   },
   {
    "duration": 20,
    "start_time": "2022-02-11T08:48:31.673Z"
   },
   {
    "duration": 13,
    "start_time": "2022-02-11T08:48:33.487Z"
   },
   {
    "duration": 10,
    "start_time": "2022-02-11T08:48:34.340Z"
   },
   {
    "duration": 18,
    "start_time": "2022-02-11T08:48:34.815Z"
   },
   {
    "duration": 18,
    "start_time": "2022-02-11T08:49:03.267Z"
   },
   {
    "duration": 4814,
    "start_time": "2022-02-11T08:49:30.700Z"
   },
   {
    "duration": 4654,
    "start_time": "2022-02-11T08:49:38.377Z"
   },
   {
    "duration": 4696,
    "start_time": "2022-02-11T08:49:51.119Z"
   },
   {
    "duration": 63,
    "start_time": "2022-02-11T08:50:03.675Z"
   },
   {
    "duration": 6,
    "start_time": "2022-02-11T08:50:04.168Z"
   },
   {
    "duration": 14,
    "start_time": "2022-02-11T08:50:04.510Z"
   },
   {
    "duration": 14,
    "start_time": "2022-02-11T08:50:05.062Z"
   },
   {
    "duration": 14,
    "start_time": "2022-02-11T08:50:05.783Z"
   },
   {
    "duration": 15,
    "start_time": "2022-02-11T08:50:06.671Z"
   },
   {
    "duration": 20,
    "start_time": "2022-02-11T08:50:06.907Z"
   },
   {
    "duration": 42,
    "start_time": "2022-02-11T08:50:07.686Z"
   },
   {
    "duration": 17,
    "start_time": "2022-02-11T08:50:08.725Z"
   },
   {
    "duration": 19,
    "start_time": "2022-02-11T08:50:09.027Z"
   },
   {
    "duration": 10,
    "start_time": "2022-02-11T08:50:10.473Z"
   },
   {
    "duration": 13,
    "start_time": "2022-02-11T08:50:11.241Z"
   },
   {
    "duration": 17,
    "start_time": "2022-02-11T08:50:11.828Z"
   },
   {
    "duration": 4663,
    "start_time": "2022-02-11T08:50:19.150Z"
   },
   {
    "duration": 57,
    "start_time": "2022-02-11T08:50:29.076Z"
   },
   {
    "duration": 5,
    "start_time": "2022-02-11T08:50:29.568Z"
   },
   {
    "duration": 13,
    "start_time": "2022-02-11T08:50:29.940Z"
   },
   {
    "duration": 17,
    "start_time": "2022-02-11T08:50:30.460Z"
   },
   {
    "duration": 14,
    "start_time": "2022-02-11T08:50:31.112Z"
   },
   {
    "duration": 14,
    "start_time": "2022-02-11T08:50:31.979Z"
   },
   {
    "duration": 19,
    "start_time": "2022-02-11T08:50:32.225Z"
   },
   {
    "duration": 41,
    "start_time": "2022-02-11T08:50:33.039Z"
   },
   {
    "duration": 17,
    "start_time": "2022-02-11T08:50:33.606Z"
   },
   {
    "duration": 20,
    "start_time": "2022-02-11T08:50:33.929Z"
   },
   {
    "duration": 9,
    "start_time": "2022-02-11T08:50:35.126Z"
   },
   {
    "duration": 10,
    "start_time": "2022-02-11T08:50:35.938Z"
   },
   {
    "duration": 13,
    "start_time": "2022-02-11T08:50:36.402Z"
   },
   {
    "duration": -954,
    "start_time": "2022-02-11T08:50:54.420Z"
   },
   {
    "duration": -953,
    "start_time": "2022-02-11T08:51:23.328Z"
   },
   {
    "duration": 59,
    "start_time": "2022-02-11T08:51:26.616Z"
   },
   {
    "duration": 6,
    "start_time": "2022-02-11T08:51:27.281Z"
   },
   {
    "duration": 14,
    "start_time": "2022-02-11T08:51:27.703Z"
   },
   {
    "duration": 15,
    "start_time": "2022-02-11T08:51:28.754Z"
   },
   {
    "duration": 13,
    "start_time": "2022-02-11T08:51:31.991Z"
   },
   {
    "duration": 15,
    "start_time": "2022-02-11T08:51:33.474Z"
   },
   {
    "duration": 18,
    "start_time": "2022-02-11T08:51:33.667Z"
   },
   {
    "duration": 43,
    "start_time": "2022-02-11T08:51:34.581Z"
   },
   {
    "duration": 17,
    "start_time": "2022-02-11T08:51:35.706Z"
   },
   {
    "duration": 18,
    "start_time": "2022-02-11T08:51:36.015Z"
   },
   {
    "duration": 10,
    "start_time": "2022-02-11T08:51:38.024Z"
   },
   {
    "duration": 10,
    "start_time": "2022-02-11T08:51:39.403Z"
   },
   {
    "duration": 12,
    "start_time": "2022-02-11T08:51:41.383Z"
   },
   {
    "duration": 4583,
    "start_time": "2022-02-11T08:51:57.223Z"
   },
   {
    "duration": 4962,
    "start_time": "2022-02-11T08:52:21.859Z"
   },
   {
    "duration": 58,
    "start_time": "2022-02-11T08:52:40.508Z"
   },
   {
    "duration": 5,
    "start_time": "2022-02-11T08:52:41.011Z"
   },
   {
    "duration": 20,
    "start_time": "2022-02-11T08:52:41.355Z"
   },
   {
    "duration": 15,
    "start_time": "2022-02-11T08:52:41.865Z"
   },
   {
    "duration": 12,
    "start_time": "2022-02-11T08:52:42.399Z"
   },
   {
    "duration": 14,
    "start_time": "2022-02-11T08:52:43.010Z"
   },
   {
    "duration": 19,
    "start_time": "2022-02-11T08:52:43.404Z"
   },
   {
    "duration": 40,
    "start_time": "2022-02-11T08:52:43.951Z"
   },
   {
    "duration": 16,
    "start_time": "2022-02-11T08:52:44.864Z"
   },
   {
    "duration": 19,
    "start_time": "2022-02-11T08:52:45.329Z"
   },
   {
    "duration": 15,
    "start_time": "2022-02-11T08:52:47.544Z"
   },
   {
    "duration": 11,
    "start_time": "2022-02-11T08:52:48.200Z"
   },
   {
    "duration": 12,
    "start_time": "2022-02-11T08:52:48.981Z"
   },
   {
    "duration": 4,
    "start_time": "2022-02-11T09:10:00.026Z"
   },
   {
    "duration": 4,
    "start_time": "2022-02-11T09:10:04.932Z"
   },
   {
    "duration": 4,
    "start_time": "2022-02-11T09:10:08.247Z"
   },
   {
    "duration": 4,
    "start_time": "2022-02-11T09:10:11.779Z"
   },
   {
    "duration": 19,
    "start_time": "2022-02-11T09:12:21.865Z"
   },
   {
    "duration": 18,
    "start_time": "2022-02-11T09:13:56.657Z"
   },
   {
    "duration": 23,
    "start_time": "2022-02-11T09:22:07.074Z"
   },
   {
    "duration": 191,
    "start_time": "2022-02-11T09:22:52.875Z"
   },
   {
    "duration": 201,
    "start_time": "2022-02-11T09:22:59.143Z"
   },
   {
    "duration": 13,
    "start_time": "2022-02-11T09:23:09.481Z"
   },
   {
    "duration": 13,
    "start_time": "2022-02-11T09:23:22.949Z"
   },
   {
    "duration": 13,
    "start_time": "2022-02-11T09:23:56.156Z"
   },
   {
    "duration": 60,
    "start_time": "2022-02-11T09:24:01.613Z"
   },
   {
    "duration": 6,
    "start_time": "2022-02-11T09:24:02.227Z"
   },
   {
    "duration": 14,
    "start_time": "2022-02-11T09:24:02.593Z"
   },
   {
    "duration": 15,
    "start_time": "2022-02-11T09:24:03.130Z"
   },
   {
    "duration": 14,
    "start_time": "2022-02-11T09:24:03.655Z"
   },
   {
    "duration": 15,
    "start_time": "2022-02-11T09:24:04.319Z"
   },
   {
    "duration": 19,
    "start_time": "2022-02-11T09:24:04.580Z"
   },
   {
    "duration": 45,
    "start_time": "2022-02-11T09:24:04.988Z"
   },
   {
    "duration": 17,
    "start_time": "2022-02-11T09:24:05.556Z"
   },
   {
    "duration": 20,
    "start_time": "2022-02-11T09:24:05.829Z"
   },
   {
    "duration": 10,
    "start_time": "2022-02-11T09:24:07.325Z"
   },
   {
    "duration": 10,
    "start_time": "2022-02-11T09:24:08.036Z"
   },
   {
    "duration": 12,
    "start_time": "2022-02-11T09:24:08.396Z"
   },
   {
    "duration": 21,
    "start_time": "2022-02-11T09:24:10.210Z"
   },
   {
    "duration": 13,
    "start_time": "2022-02-11T09:24:12.002Z"
   },
   {
    "duration": 11,
    "start_time": "2022-02-11T09:24:24.844Z"
   },
   {
    "duration": 11,
    "start_time": "2022-02-11T09:24:41.084Z"
   },
   {
    "duration": 11,
    "start_time": "2022-02-11T09:24:45.267Z"
   },
   {
    "duration": 13,
    "start_time": "2022-02-11T09:25:11.283Z"
   },
   {
    "duration": 12,
    "start_time": "2022-02-11T09:26:09.466Z"
   },
   {
    "duration": 12,
    "start_time": "2022-02-11T09:26:40.981Z"
   },
   {
    "duration": 21,
    "start_time": "2022-02-11T09:27:01.768Z"
   },
   {
    "duration": 23,
    "start_time": "2022-02-11T09:27:32.623Z"
   },
   {
    "duration": 21,
    "start_time": "2022-02-11T09:28:56.242Z"
   },
   {
    "duration": 23,
    "start_time": "2022-02-11T09:29:14.809Z"
   },
   {
    "duration": 23,
    "start_time": "2022-02-11T09:29:53.007Z"
   },
   {
    "duration": 12,
    "start_time": "2022-02-11T09:30:31.061Z"
   },
   {
    "duration": 12,
    "start_time": "2022-02-11T09:30:37.583Z"
   },
   {
    "duration": 13,
    "start_time": "2022-02-11T09:31:06.837Z"
   },
   {
    "duration": 26,
    "start_time": "2022-02-11T09:31:59.052Z"
   },
   {
    "duration": 25,
    "start_time": "2022-02-11T09:32:19.902Z"
   },
   {
    "duration": 19,
    "start_time": "2022-02-11T09:32:50.746Z"
   },
   {
    "duration": 22,
    "start_time": "2022-02-11T09:33:03.434Z"
   },
   {
    "duration": 21,
    "start_time": "2022-02-11T09:33:18.388Z"
   },
   {
    "duration": 38,
    "start_time": "2022-02-11T09:53:15.424Z"
   },
   {
    "duration": 16,
    "start_time": "2022-02-11T09:53:56.104Z"
   },
   {
    "duration": 5,
    "start_time": "2022-02-11T09:54:30.908Z"
   },
   {
    "duration": 5140,
    "start_time": "2022-02-11T09:55:46.261Z"
   },
   {
    "duration": 59,
    "start_time": "2022-02-11T09:55:56.704Z"
   },
   {
    "duration": 6,
    "start_time": "2022-02-11T09:55:57.304Z"
   },
   {
    "duration": 13,
    "start_time": "2022-02-11T09:55:57.726Z"
   },
   {
    "duration": 15,
    "start_time": "2022-02-11T09:56:00.632Z"
   },
   {
    "duration": 15,
    "start_time": "2022-02-11T09:56:18.308Z"
   },
   {
    "duration": 15,
    "start_time": "2022-02-11T09:56:20.961Z"
   },
   {
    "duration": 19,
    "start_time": "2022-02-11T09:56:21.193Z"
   },
   {
    "duration": 29,
    "start_time": "2022-02-11T09:56:22.065Z"
   },
   {
    "duration": 29,
    "start_time": "2022-02-11T09:56:43.296Z"
   },
   {
    "duration": 25,
    "start_time": "2022-02-11T09:58:04.383Z"
   },
   {
    "duration": 8,
    "start_time": "2022-02-11T09:58:47.584Z"
   },
   {
    "duration": 1365,
    "start_time": "2022-02-11T09:59:08.900Z"
   },
   {
    "duration": 14,
    "start_time": "2022-02-11T09:59:48.017Z"
   },
   {
    "duration": 4691,
    "start_time": "2022-02-11T10:00:49.134Z"
   },
   {
    "duration": 24,
    "start_time": "2022-02-11T10:03:09.702Z"
   },
   {
    "duration": 11,
    "start_time": "2022-02-11T10:03:52.188Z"
   },
   {
    "duration": 195,
    "start_time": "2022-02-11T10:04:53.725Z"
   },
   {
    "duration": 58,
    "start_time": "2022-02-11T10:05:19.216Z"
   },
   {
    "duration": 6,
    "start_time": "2022-02-11T10:05:19.799Z"
   },
   {
    "duration": 13,
    "start_time": "2022-02-11T10:05:20.299Z"
   },
   {
    "duration": 18,
    "start_time": "2022-02-11T10:05:21.166Z"
   },
   {
    "duration": 14,
    "start_time": "2022-02-11T10:05:23.085Z"
   },
   {
    "duration": 15,
    "start_time": "2022-02-11T10:05:24.830Z"
   },
   {
    "duration": 20,
    "start_time": "2022-02-11T10:05:25.574Z"
   },
   {
    "duration": 23,
    "start_time": "2022-02-11T10:05:26.443Z"
   },
   {
    "duration": 12,
    "start_time": "2022-02-11T10:05:28.303Z"
   },
   {
    "duration": 59,
    "start_time": "2022-02-11T10:05:54.602Z"
   },
   {
    "duration": 5,
    "start_time": "2022-02-11T10:05:55.111Z"
   },
   {
    "duration": 14,
    "start_time": "2022-02-11T10:05:55.526Z"
   },
   {
    "duration": 16,
    "start_time": "2022-02-11T10:05:56.340Z"
   },
   {
    "duration": 14,
    "start_time": "2022-02-11T10:05:57.220Z"
   },
   {
    "duration": 16,
    "start_time": "2022-02-11T10:05:58.230Z"
   },
   {
    "duration": 19,
    "start_time": "2022-02-11T10:05:58.688Z"
   },
   {
    "duration": 22,
    "start_time": "2022-02-11T10:06:02.744Z"
   },
   {
    "duration": 15,
    "start_time": "2022-02-11T10:06:04.372Z"
   },
   {
    "duration": 208,
    "start_time": "2022-02-11T10:07:33.615Z"
   },
   {
    "duration": 6,
    "start_time": "2022-02-11T10:07:56.926Z"
   },
   {
    "duration": 7,
    "start_time": "2022-02-11T10:08:15.651Z"
   },
   {
    "duration": 13,
    "start_time": "2022-02-11T10:08:35.203Z"
   },
   {
    "duration": 10,
    "start_time": "2022-02-11T10:09:21.546Z"
   },
   {
    "duration": 61,
    "start_time": "2022-02-11T10:11:04.684Z"
   },
   {
    "duration": 5,
    "start_time": "2022-02-11T10:11:05.196Z"
   },
   {
    "duration": 15,
    "start_time": "2022-02-11T10:11:05.512Z"
   },
   {
    "duration": 16,
    "start_time": "2022-02-11T10:11:06.044Z"
   },
   {
    "duration": 15,
    "start_time": "2022-02-11T10:11:06.617Z"
   },
   {
    "duration": 14,
    "start_time": "2022-02-11T10:11:07.321Z"
   },
   {
    "duration": 18,
    "start_time": "2022-02-11T10:11:07.560Z"
   },
   {
    "duration": 24,
    "start_time": "2022-02-11T10:11:07.971Z"
   },
   {
    "duration": 13,
    "start_time": "2022-02-11T10:11:08.452Z"
   },
   {
    "duration": 9,
    "start_time": "2022-02-11T10:11:08.990Z"
   },
   {
    "duration": 20,
    "start_time": "2022-02-11T10:11:09.504Z"
   },
   {
    "duration": 17,
    "start_time": "2022-02-11T10:11:09.745Z"
   },
   {
    "duration": 9,
    "start_time": "2022-02-11T10:11:14.479Z"
   },
   {
    "duration": 12,
    "start_time": "2022-02-11T10:11:15.441Z"
   },
   {
    "duration": 13,
    "start_time": "2022-02-11T10:11:16.021Z"
   },
   {
    "duration": 19,
    "start_time": "2022-02-11T10:11:17.231Z"
   },
   {
    "duration": 23,
    "start_time": "2022-02-11T10:11:18.248Z"
   },
   {
    "duration": 5,
    "start_time": "2022-02-11T10:11:26.111Z"
   },
   {
    "duration": 35,
    "start_time": "2022-02-11T10:11:32.918Z"
   },
   {
    "duration": 207,
    "start_time": "2022-02-11T10:12:04.809Z"
   },
   {
    "duration": 36,
    "start_time": "2022-02-11T10:14:15.758Z"
   },
   {
    "duration": 41,
    "start_time": "2022-02-11T10:14:45.253Z"
   },
   {
    "duration": 37,
    "start_time": "2022-02-11T10:19:46.001Z"
   },
   {
    "duration": 208,
    "start_time": "2022-02-11T10:20:56.926Z"
   },
   {
    "duration": 191,
    "start_time": "2022-02-11T10:21:13.131Z"
   },
   {
    "duration": 22,
    "start_time": "2022-02-11T10:23:52.815Z"
   },
   {
    "duration": 315,
    "start_time": "2022-02-14T09:08:58.095Z"
   },
   {
    "duration": 856,
    "start_time": "2022-02-14T09:09:21.758Z"
   },
   {
    "duration": 22,
    "start_time": "2022-02-14T09:09:23.969Z"
   },
   {
    "duration": 8,
    "start_time": "2022-02-14T09:09:33.008Z"
   },
   {
    "duration": 20,
    "start_time": "2022-02-14T09:09:39.868Z"
   },
   {
    "duration": 18,
    "start_time": "2022-02-14T09:09:45.077Z"
   },
   {
    "duration": 30,
    "start_time": "2022-02-14T09:09:49.368Z"
   },
   {
    "duration": 28,
    "start_time": "2022-02-14T09:09:50.528Z"
   },
   {
    "duration": 40,
    "start_time": "2022-02-14T09:10:02.959Z"
   },
   {
    "duration": 23,
    "start_time": "2022-02-14T09:10:04.508Z"
   },
   {
    "duration": 15,
    "start_time": "2022-02-14T09:10:07.694Z"
   },
   {
    "duration": 30,
    "start_time": "2022-02-14T09:10:16.001Z"
   },
   {
    "duration": 30,
    "start_time": "2022-02-14T09:10:16.670Z"
   },
   {
    "duration": 14,
    "start_time": "2022-02-14T09:10:23.393Z"
   },
   {
    "duration": 15,
    "start_time": "2022-02-14T09:10:26.027Z"
   },
   {
    "duration": 19,
    "start_time": "2022-02-14T09:10:30.762Z"
   },
   {
    "duration": 32,
    "start_time": "2022-02-14T09:10:37.317Z"
   },
   {
    "duration": 35,
    "start_time": "2022-02-14T09:10:59.599Z"
   },
   {
    "duration": 22,
    "start_time": "2022-02-14T09:11:41.767Z"
   },
   {
    "duration": 29,
    "start_time": "2022-02-14T09:11:58.895Z"
   },
   {
    "duration": 36,
    "start_time": "2022-02-14T09:12:02.597Z"
   },
   {
    "duration": 327,
    "start_time": "2022-02-14T09:14:43.184Z"
   },
   {
    "duration": 454,
    "start_time": "2022-02-14T09:14:55.209Z"
   },
   {
    "duration": 244,
    "start_time": "2022-02-14T09:15:18.297Z"
   },
   {
    "duration": 430,
    "start_time": "2022-02-14T09:15:36.746Z"
   },
   {
    "duration": 265,
    "start_time": "2022-02-14T09:15:56.094Z"
   },
   {
    "duration": 274,
    "start_time": "2022-02-14T09:16:12.594Z"
   },
   {
    "duration": 83,
    "start_time": "2022-02-14T09:16:32.586Z"
   },
   {
    "duration": 24,
    "start_time": "2022-02-14T09:16:33.085Z"
   },
   {
    "duration": 8,
    "start_time": "2022-02-14T09:16:33.565Z"
   },
   {
    "duration": 19,
    "start_time": "2022-02-14T09:16:33.911Z"
   },
   {
    "duration": 20,
    "start_time": "2022-02-14T09:16:34.551Z"
   },
   {
    "duration": 23,
    "start_time": "2022-02-14T09:16:35.328Z"
   },
   {
    "duration": 27,
    "start_time": "2022-02-14T09:16:35.589Z"
   },
   {
    "duration": 36,
    "start_time": "2022-02-14T09:16:36.173Z"
   },
   {
    "duration": 22,
    "start_time": "2022-02-14T09:16:36.813Z"
   },
   {
    "duration": 14,
    "start_time": "2022-02-14T09:16:37.505Z"
   },
   {
    "duration": 28,
    "start_time": "2022-02-14T09:16:38.046Z"
   },
   {
    "duration": 30,
    "start_time": "2022-02-14T09:16:38.282Z"
   },
   {
    "duration": 15,
    "start_time": "2022-02-14T09:16:39.469Z"
   },
   {
    "duration": 16,
    "start_time": "2022-02-14T09:16:40.347Z"
   },
   {
    "duration": 18,
    "start_time": "2022-02-14T09:16:40.744Z"
   },
   {
    "duration": 32,
    "start_time": "2022-02-14T09:16:41.711Z"
   },
   {
    "duration": 33,
    "start_time": "2022-02-14T09:16:42.599Z"
   },
   {
    "duration": 270,
    "start_time": "2022-02-14T09:16:44.655Z"
   },
   {
    "duration": 285,
    "start_time": "2022-02-14T09:17:08.876Z"
   },
   {
    "duration": 6789,
    "start_time": "2022-02-14T09:17:28.701Z"
   },
   {
    "duration": 273,
    "start_time": "2022-02-14T09:17:46.277Z"
   },
   {
    "duration": 6,
    "start_time": "2022-02-14T09:18:34.657Z"
   },
   {
    "duration": 7,
    "start_time": "2022-02-14T09:18:41.768Z"
   },
   {
    "duration": 295,
    "start_time": "2022-02-14T09:18:53.042Z"
   },
   {
    "duration": 33,
    "start_time": "2022-02-14T09:20:20.608Z"
   },
   {
    "duration": 90,
    "start_time": "2022-02-14T09:20:40.001Z"
   },
   {
    "duration": 57,
    "start_time": "2022-02-14T09:20:45.271Z"
   },
   {
    "duration": 57,
    "start_time": "2022-02-14T09:20:55.571Z"
   },
   {
    "duration": 261,
    "start_time": "2022-02-14T09:21:04.505Z"
   },
   {
    "duration": 279,
    "start_time": "2022-02-14T09:21:12.191Z"
   },
   {
    "duration": 33,
    "start_time": "2022-02-14T09:21:34.008Z"
   },
   {
    "duration": 28,
    "start_time": "2022-02-14T09:22:08.688Z"
   },
   {
    "duration": 4,
    "start_time": "2022-02-14T09:34:00.637Z"
   },
   {
    "duration": 5,
    "start_time": "2022-02-14T09:34:04.855Z"
   },
   {
    "duration": 430,
    "start_time": "2022-02-14T09:34:35.294Z"
   },
   {
    "duration": 469,
    "start_time": "2022-02-14T09:34:51.145Z"
   },
   {
    "duration": 11739,
    "start_time": "2022-02-14T09:39:14.219Z"
   },
   {
    "duration": 13,
    "start_time": "2022-02-14T09:39:43.005Z"
   },
   {
    "duration": 9,
    "start_time": "2022-02-14T09:41:43.728Z"
   },
   {
    "duration": 9,
    "start_time": "2022-02-14T09:41:52.140Z"
   },
   {
    "duration": 11,
    "start_time": "2022-02-14T09:42:16.725Z"
   },
   {
    "duration": 10,
    "start_time": "2022-02-14T09:42:40.850Z"
   },
   {
    "duration": 11,
    "start_time": "2022-02-14T09:42:55.592Z"
   },
   {
    "duration": 8,
    "start_time": "2022-02-14T09:43:43.293Z"
   },
   {
    "duration": 12,
    "start_time": "2022-02-14T09:44:00.391Z"
   },
   {
    "duration": 11,
    "start_time": "2022-02-14T09:44:12.946Z"
   },
   {
    "duration": 254,
    "start_time": "2022-02-14T09:44:24.331Z"
   },
   {
    "duration": 275,
    "start_time": "2022-02-14T09:44:27.359Z"
   },
   {
    "duration": 13,
    "start_time": "2022-02-14T09:44:34.591Z"
   },
   {
    "duration": 261,
    "start_time": "2022-02-14T09:45:06.584Z"
   },
   {
    "duration": 260,
    "start_time": "2022-02-14T09:45:16.003Z"
   },
   {
    "duration": 13,
    "start_time": "2022-02-14T09:45:33.591Z"
   },
   {
    "duration": 272,
    "start_time": "2022-02-14T09:51:47.403Z"
   },
   {
    "duration": 312,
    "start_time": "2022-02-14T09:52:20.183Z"
   },
   {
    "duration": 273,
    "start_time": "2022-02-14T09:52:33.316Z"
   },
   {
    "duration": -657,
    "start_time": "2022-02-14T09:52:34.248Z"
   },
   {
    "duration": 254,
    "start_time": "2022-02-14T09:52:58.274Z"
   },
   {
    "duration": 73,
    "start_time": "2022-02-14T09:53:22.641Z"
   },
   {
    "duration": 68,
    "start_time": "2022-02-14T09:53:43.433Z"
   },
   {
    "duration": 277,
    "start_time": "2022-02-14T09:54:05.148Z"
   },
   {
    "duration": 72,
    "start_time": "2022-02-14T09:54:19.012Z"
   },
   {
    "duration": 286,
    "start_time": "2022-02-14T09:55:45.876Z"
   },
   {
    "duration": 61,
    "start_time": "2022-02-14T09:55:52.139Z"
   },
   {
    "duration": 57,
    "start_time": "2022-02-14T09:55:59.836Z"
   },
   {
    "duration": 49,
    "start_time": "2022-02-14T09:56:06.523Z"
   },
   {
    "duration": 362,
    "start_time": "2022-02-14T09:56:30.365Z"
   },
   {
    "duration": 52,
    "start_time": "2022-02-14T09:57:01.231Z"
   },
   {
    "duration": 80,
    "start_time": "2022-02-14T09:58:56.554Z"
   },
   {
    "duration": 279,
    "start_time": "2022-02-14T09:59:04.692Z"
   },
   {
    "duration": 106,
    "start_time": "2022-02-14T09:59:59.522Z"
   },
   {
    "duration": 50,
    "start_time": "2022-02-14T10:00:05.426Z"
   },
   {
    "duration": 284,
    "start_time": "2022-02-14T10:00:43.218Z"
   },
   {
    "duration": 267,
    "start_time": "2022-02-14T10:00:48.935Z"
   },
   {
    "duration": 294,
    "start_time": "2022-02-14T10:01:12.380Z"
   },
   {
    "duration": 267,
    "start_time": "2022-02-14T10:01:58.334Z"
   },
   {
    "duration": 259,
    "start_time": "2022-02-14T10:02:04.036Z"
   },
   {
    "duration": 395,
    "start_time": "2022-02-14T10:02:52.472Z"
   },
   {
    "duration": 1114,
    "start_time": "2022-02-14T10:03:01.640Z"
   },
   {
    "duration": 1068,
    "start_time": "2022-02-14T10:03:21.039Z"
   },
   {
    "duration": 61,
    "start_time": "2022-02-14T10:03:53.661Z"
   },
   {
    "duration": 290,
    "start_time": "2022-02-14T10:08:04.550Z"
   },
   {
    "duration": 2066,
    "start_time": "2022-02-14T10:08:10.211Z"
   },
   {
    "duration": 178,
    "start_time": "2022-02-14T10:09:23.559Z"
   },
   {
    "duration": 270,
    "start_time": "2022-02-14T10:09:31.387Z"
   },
   {
    "duration": 290,
    "start_time": "2022-02-14T10:09:48.139Z"
   },
   {
    "duration": 279,
    "start_time": "2022-02-14T10:14:28.074Z"
   },
   {
    "duration": 19,
    "start_time": "2022-02-14T10:14:51.051Z"
   },
   {
    "duration": 22,
    "start_time": "2022-02-14T10:15:09.020Z"
   },
   {
    "duration": 334,
    "start_time": "2022-02-14T10:15:26.994Z"
   },
   {
    "duration": 30,
    "start_time": "2022-02-14T10:15:37.382Z"
   },
   {
    "duration": 323,
    "start_time": "2022-02-14T10:15:55.360Z"
   },
   {
    "duration": 30,
    "start_time": "2022-02-14T10:16:07.720Z"
   },
   {
    "duration": 25,
    "start_time": "2022-02-14T10:23:23.605Z"
   },
   {
    "duration": 24,
    "start_time": "2022-02-14T10:23:41.977Z"
   },
   {
    "duration": 20,
    "start_time": "2022-02-14T10:23:48.488Z"
   },
   {
    "duration": 44,
    "start_time": "2022-02-14T10:23:55.654Z"
   },
   {
    "duration": 30,
    "start_time": "2022-02-14T10:24:07.725Z"
   },
   {
    "duration": 4190,
    "start_time": "2022-02-14T10:26:04.354Z"
   },
   {
    "duration": 4082,
    "start_time": "2022-02-14T10:26:40.144Z"
   },
   {
    "duration": 3953,
    "start_time": "2022-02-14T10:27:03.901Z"
   },
   {
    "duration": 4301,
    "start_time": "2022-02-14T10:27:34.735Z"
   },
   {
    "duration": 5377,
    "start_time": "2022-02-14T10:28:28.636Z"
   },
   {
    "duration": 28,
    "start_time": "2022-02-14T10:28:44.993Z"
   },
   {
    "duration": 34,
    "start_time": "2022-02-14T10:29:05.526Z"
   },
   {
    "duration": 37,
    "start_time": "2022-02-14T10:29:13.276Z"
   },
   {
    "duration": 32,
    "start_time": "2022-02-14T10:29:39.893Z"
   },
   {
    "duration": 92,
    "start_time": "2022-02-14T10:40:21.726Z"
   },
   {
    "duration": -820,
    "start_time": "2022-02-14T10:40:47.237Z"
   },
   {
    "duration": 7898,
    "start_time": "2022-02-14T10:40:46.928Z"
   },
   {
    "duration": 15,
    "start_time": "2022-02-14T10:41:39.733Z"
   },
   {
    "duration": 15,
    "start_time": "2022-02-14T10:42:55.494Z"
   },
   {
    "duration": 11,
    "start_time": "2022-02-14T10:43:17.534Z"
   },
   {
    "duration": 16,
    "start_time": "2022-02-14T10:43:27.998Z"
   },
   {
    "duration": 19,
    "start_time": "2022-02-14T10:44:43.291Z"
   },
   {
    "duration": 29,
    "start_time": "2022-02-14T10:44:57.159Z"
   },
   {
    "duration": 299,
    "start_time": "2022-02-14T10:45:57.238Z"
   },
   {
    "duration": 271,
    "start_time": "2022-02-14T10:46:12.284Z"
   },
   {
    "duration": 19,
    "start_time": "2022-02-14T10:46:39.285Z"
   },
   {
    "duration": 19,
    "start_time": "2022-02-14T10:46:52.928Z"
   },
   {
    "duration": 18,
    "start_time": "2022-02-14T10:47:00.833Z"
   },
   {
    "duration": 19,
    "start_time": "2022-02-14T10:47:13.980Z"
   },
   {
    "duration": 20,
    "start_time": "2022-02-14T10:47:20.143Z"
   },
   {
    "duration": 23,
    "start_time": "2022-02-14T10:48:21.921Z"
   },
   {
    "duration": 279,
    "start_time": "2022-02-14T10:48:51.741Z"
   },
   {
    "duration": 270,
    "start_time": "2022-02-14T10:48:58.126Z"
   },
   {
    "duration": 22,
    "start_time": "2022-02-14T10:49:36.814Z"
   },
   {
    "duration": 327,
    "start_time": "2022-02-14T10:50:13.716Z"
   },
   {
    "duration": 32,
    "start_time": "2022-02-14T10:50:36.798Z"
   },
   {
    "duration": 271,
    "start_time": "2022-02-14T10:50:59.325Z"
   },
   {
    "duration": 22,
    "start_time": "2022-02-14T10:51:56.353Z"
   },
   {
    "duration": 31,
    "start_time": "2022-02-14T10:51:58.655Z"
   },
   {
    "duration": 30,
    "start_time": "2022-02-14T10:52:56.796Z"
   },
   {
    "duration": 35,
    "start_time": "2022-02-14T10:53:02.655Z"
   },
   {
    "duration": 19,
    "start_time": "2022-02-14T10:57:54.453Z"
   },
   {
    "duration": 20,
    "start_time": "2022-02-14T10:57:59.444Z"
   },
   {
    "duration": 433,
    "start_time": "2022-02-14T10:59:09.199Z"
   },
   {
    "duration": 21,
    "start_time": "2022-02-14T10:59:33.315Z"
   },
   {
    "duration": 28,
    "start_time": "2022-02-14T11:00:09.516Z"
   },
   {
    "duration": 5961,
    "start_time": "2022-02-14T11:01:51.735Z"
   },
   {
    "duration": 20,
    "start_time": "2022-02-14T11:02:13.958Z"
   },
   {
    "duration": 30,
    "start_time": "2022-02-14T11:02:39.259Z"
   },
   {
    "duration": 20,
    "start_time": "2022-02-14T11:03:24.463Z"
   },
   {
    "duration": 31,
    "start_time": "2022-02-14T11:03:35.688Z"
   },
   {
    "duration": 10,
    "start_time": "2022-02-14T11:04:14.920Z"
   },
   {
    "duration": 20,
    "start_time": "2022-02-14T11:04:34.226Z"
   },
   {
    "duration": 13,
    "start_time": "2022-02-14T11:04:36.920Z"
   },
   {
    "duration": 14,
    "start_time": "2022-02-14T11:06:30.526Z"
   },
   {
    "duration": 19,
    "start_time": "2022-02-14T11:20:08.259Z"
   },
   {
    "duration": 6203,
    "start_time": "2022-02-14T11:29:35.410Z"
   },
   {
    "duration": -801,
    "start_time": "2022-02-14T11:29:42.417Z"
   },
   {
    "duration": 16,
    "start_time": "2022-02-14T11:30:15.820Z"
   },
   {
    "duration": 26,
    "start_time": "2022-02-14T11:30:31.449Z"
   },
   {
    "duration": 300,
    "start_time": "2022-02-14T11:33:25.401Z"
   },
   {
    "duration": 83,
    "start_time": "2022-02-14T11:33:42.331Z"
   },
   {
    "duration": 23,
    "start_time": "2022-02-14T11:33:43.094Z"
   },
   {
    "duration": 7,
    "start_time": "2022-02-14T11:33:44.140Z"
   },
   {
    "duration": 18,
    "start_time": "2022-02-14T11:33:44.762Z"
   },
   {
    "duration": 21,
    "start_time": "2022-02-14T11:33:46.019Z"
   },
   {
    "duration": 23,
    "start_time": "2022-02-14T11:33:47.300Z"
   },
   {
    "duration": 28,
    "start_time": "2022-02-14T11:33:47.626Z"
   },
   {
    "duration": 34,
    "start_time": "2022-02-14T11:33:48.329Z"
   },
   {
    "duration": 31,
    "start_time": "2022-02-14T11:33:51.287Z"
   },
   {
    "duration": 15,
    "start_time": "2022-02-14T11:33:52.609Z"
   },
   {
    "duration": 29,
    "start_time": "2022-02-14T11:33:53.250Z"
   },
   {
    "duration": 29,
    "start_time": "2022-02-14T11:33:53.758Z"
   },
   {
    "duration": 9,
    "start_time": "2022-02-14T11:33:56.885Z"
   },
   {
    "duration": 10,
    "start_time": "2022-02-14T11:34:12.079Z"
   },
   {
    "duration": 15,
    "start_time": "2022-02-14T11:34:27.727Z"
   },
   {
    "duration": 38,
    "start_time": "2022-02-14T11:36:03.085Z"
   },
   {
    "duration": 32,
    "start_time": "2022-02-14T11:36:10.671Z"
   },
   {
    "duration": 35,
    "start_time": "2022-02-14T11:36:18.122Z"
   },
   {
    "duration": 33,
    "start_time": "2022-02-14T11:36:21.813Z"
   },
   {
    "duration": 34,
    "start_time": "2022-02-14T11:36:25.061Z"
   },
   {
    "duration": 21,
    "start_time": "2022-02-14T11:36:30.648Z"
   },
   {
    "duration": 15,
    "start_time": "2022-02-14T11:36:42.026Z"
   },
   {
    "duration": 20,
    "start_time": "2022-02-14T11:36:42.560Z"
   },
   {
    "duration": 32,
    "start_time": "2022-02-14T11:36:44.123Z"
   },
   {
    "duration": 32,
    "start_time": "2022-02-14T11:36:44.850Z"
   },
   {
    "duration": 22,
    "start_time": "2022-02-14T11:38:00.410Z"
   },
   {
    "duration": -811,
    "start_time": "2022-02-14T11:38:21.768Z"
   },
   {
    "duration": 6035,
    "start_time": "2022-02-14T11:38:30.758Z"
   },
   {
    "duration": 27,
    "start_time": "2022-02-14T11:38:49.044Z"
   },
   {
    "duration": 32,
    "start_time": "2022-02-14T11:46:43.179Z"
   },
   {
    "duration": 49,
    "start_time": "2022-02-14T11:47:37.823Z"
   },
   {
    "duration": 32,
    "start_time": "2022-02-14T11:48:05.870Z"
   },
   {
    "duration": 38,
    "start_time": "2022-02-14T11:49:54.599Z"
   },
   {
    "duration": 31,
    "start_time": "2022-02-14T11:50:24.038Z"
   },
   {
    "duration": 21,
    "start_time": "2022-02-14T11:51:58.940Z"
   },
   {
    "duration": 14,
    "start_time": "2022-02-14T11:51:59.743Z"
   },
   {
    "duration": 23,
    "start_time": "2022-02-14T11:57:20.465Z"
   },
   {
    "duration": 19,
    "start_time": "2022-02-14T11:57:23.038Z"
   },
   {
    "duration": 96,
    "start_time": "2022-02-14T11:58:34.704Z"
   },
   {
    "duration": 40,
    "start_time": "2022-02-14T11:58:43.012Z"
   },
   {
    "duration": 248,
    "start_time": "2022-02-14T11:59:20.569Z"
   },
   {
    "duration": 30,
    "start_time": "2022-02-14T11:59:26.967Z"
   },
   {
    "duration": 30,
    "start_time": "2022-02-14T12:02:45.345Z"
   },
   {
    "duration": 18,
    "start_time": "2022-02-14T12:03:32.065Z"
   },
   {
    "duration": 34,
    "start_time": "2022-02-14T12:04:20.928Z"
   },
   {
    "duration": 21,
    "start_time": "2022-02-14T12:04:33.073Z"
   },
   {
    "duration": 39,
    "start_time": "2022-02-14T12:05:10.002Z"
   },
   {
    "duration": 46,
    "start_time": "2022-02-14T12:08:55.337Z"
   },
   {
    "duration": 49,
    "start_time": "2022-02-14T12:09:12.234Z"
   },
   {
    "duration": 45,
    "start_time": "2022-02-14T12:09:50.457Z"
   },
   {
    "duration": 493,
    "start_time": "2022-02-14T12:13:09.627Z"
   },
   {
    "duration": 50,
    "start_time": "2022-02-14T12:13:39.559Z"
   },
   {
    "duration": 48,
    "start_time": "2022-02-14T12:14:20.878Z"
   },
   {
    "duration": 51,
    "start_time": "2022-02-14T12:14:26.762Z"
   },
   {
    "duration": 41,
    "start_time": "2022-02-14T12:17:03.064Z"
   },
   {
    "duration": 50,
    "start_time": "2022-02-14T12:17:41.102Z"
   },
   {
    "duration": 53,
    "start_time": "2022-02-14T12:18:30.980Z"
   },
   {
    "duration": 415,
    "start_time": "2022-02-14T12:20:32.533Z"
   },
   {
    "duration": 64,
    "start_time": "2022-02-14T12:20:55.744Z"
   },
   {
    "duration": 45,
    "start_time": "2022-02-14T12:21:04.547Z"
   },
   {
    "duration": 46,
    "start_time": "2022-02-14T12:21:12.027Z"
   },
   {
    "duration": 70,
    "start_time": "2022-02-14T12:21:45.088Z"
   },
   {
    "duration": 65,
    "start_time": "2022-02-14T12:21:53.353Z"
   },
   {
    "duration": 92,
    "start_time": "2022-02-14T12:22:00.619Z"
   },
   {
    "duration": 88,
    "start_time": "2022-02-14T12:22:15.996Z"
   },
   {
    "duration": 72,
    "start_time": "2022-02-14T12:22:23.019Z"
   },
   {
    "duration": 57,
    "start_time": "2022-02-14T12:22:41.495Z"
   },
   {
    "duration": 62,
    "start_time": "2022-02-14T12:23:29.873Z"
   },
   {
    "duration": 67,
    "start_time": "2022-02-14T12:23:50.498Z"
   },
   {
    "duration": 51,
    "start_time": "2022-02-14T12:27:10.757Z"
   },
   {
    "duration": 48,
    "start_time": "2022-02-14T12:27:16.935Z"
   },
   {
    "duration": 91,
    "start_time": "2022-02-14T12:33:55.864Z"
   },
   {
    "duration": 20,
    "start_time": "2022-02-14T12:34:30.345Z"
   },
   {
    "duration": 599,
    "start_time": "2022-02-14T12:42:10.255Z"
   },
   {
    "duration": 423,
    "start_time": "2022-02-14T12:42:50.459Z"
   },
   {
    "duration": 40,
    "start_time": "2022-02-14T12:43:20.233Z"
   },
   {
    "duration": 425,
    "start_time": "2022-02-14T12:43:58.158Z"
   },
   {
    "duration": 421,
    "start_time": "2022-02-14T12:44:17.560Z"
   },
   {
    "duration": 41,
    "start_time": "2022-02-14T12:44:31.906Z"
   },
   {
    "duration": 40,
    "start_time": "2022-02-14T12:45:29.337Z"
   },
   {
    "duration": 43,
    "start_time": "2022-02-14T12:45:55.642Z"
   },
   {
    "duration": 40,
    "start_time": "2022-02-14T12:47:38.937Z"
   },
   {
    "duration": 6133,
    "start_time": "2022-02-14T12:48:40.310Z"
   },
   {
    "duration": 41,
    "start_time": "2022-02-14T12:49:16.456Z"
   },
   {
    "duration": 41,
    "start_time": "2022-02-14T12:49:23.730Z"
   },
   {
    "duration": 62,
    "start_time": "2022-02-14T12:52:19.024Z"
   },
   {
    "duration": 73,
    "start_time": "2022-02-14T12:52:52.742Z"
   },
   {
    "duration": 68,
    "start_time": "2022-02-14T12:54:01.516Z"
   },
   {
    "duration": 58,
    "start_time": "2022-02-14T12:54:17.566Z"
   },
   {
    "duration": 71,
    "start_time": "2022-02-14T12:54:35.953Z"
   },
   {
    "duration": 59,
    "start_time": "2022-02-14T12:54:47.221Z"
   },
   {
    "duration": 53,
    "start_time": "2022-02-14T12:55:16.978Z"
   },
   {
    "duration": 49,
    "start_time": "2022-02-14T12:56:57.892Z"
   },
   {
    "duration": 51,
    "start_time": "2022-02-14T12:57:25.289Z"
   },
   {
    "duration": 51,
    "start_time": "2022-02-14T12:59:05.934Z"
   },
   {
    "duration": 55,
    "start_time": "2022-02-14T12:59:21.114Z"
   },
   {
    "duration": 53,
    "start_time": "2022-02-14T12:59:57.737Z"
   },
   {
    "duration": 50,
    "start_time": "2022-02-14T13:02:00.993Z"
   },
   {
    "duration": 55,
    "start_time": "2022-02-14T13:02:23.071Z"
   },
   {
    "duration": 53,
    "start_time": "2022-02-14T13:07:37.146Z"
   },
   {
    "duration": 57,
    "start_time": "2022-02-14T13:08:16.683Z"
   },
   {
    "duration": 62,
    "start_time": "2022-02-14T13:10:03.416Z"
   },
   {
    "duration": 52,
    "start_time": "2022-02-14T13:12:10.770Z"
   },
   {
    "duration": 54,
    "start_time": "2022-02-14T13:16:06.354Z"
   },
   {
    "duration": 97,
    "start_time": "2022-02-14T13:17:48.943Z"
   },
   {
    "duration": 67,
    "start_time": "2022-02-14T13:17:53.331Z"
   },
   {
    "duration": 5645,
    "start_time": "2022-02-14T13:19:22.290Z"
   },
   {
    "duration": 4967,
    "start_time": "2022-02-14T13:19:41.942Z"
   },
   {
    "duration": 55,
    "start_time": "2022-02-14T13:20:11.358Z"
   },
   {
    "duration": 6907,
    "start_time": "2022-02-14T13:21:24.556Z"
   },
   {
    "duration": 6454,
    "start_time": "2022-02-14T13:21:38.760Z"
   },
   {
    "duration": 6117,
    "start_time": "2022-02-14T13:21:52.067Z"
   },
   {
    "duration": 80,
    "start_time": "2022-02-14T13:22:11.517Z"
   },
   {
    "duration": 51,
    "start_time": "2022-02-14T13:22:53.467Z"
   },
   {
    "duration": 52,
    "start_time": "2022-02-14T13:23:04.355Z"
   },
   {
    "duration": 50,
    "start_time": "2022-02-14T13:26:31.776Z"
   },
   {
    "duration": 421,
    "start_time": "2022-02-14T13:28:22.576Z"
   },
   {
    "duration": 447,
    "start_time": "2022-02-14T13:28:34.567Z"
   },
   {
    "duration": 52,
    "start_time": "2022-02-14T13:28:57.356Z"
   },
   {
    "duration": 48,
    "start_time": "2022-02-14T13:30:55.469Z"
   },
   {
    "duration": 442,
    "start_time": "2022-02-14T13:32:31.478Z"
   },
   {
    "duration": 495,
    "start_time": "2022-02-14T13:32:53.347Z"
   },
   {
    "duration": 439,
    "start_time": "2022-02-14T13:33:18.660Z"
   },
   {
    "duration": 287,
    "start_time": "2022-02-14T13:33:29.091Z"
   },
   {
    "duration": 43,
    "start_time": "2022-02-14T13:33:38.360Z"
   },
   {
    "duration": 58,
    "start_time": "2022-02-14T13:41:58.372Z"
   },
   {
    "duration": 533,
    "start_time": "2022-02-14T13:42:14.301Z"
   },
   {
    "duration": 443,
    "start_time": "2022-02-14T13:42:22.556Z"
   },
   {
    "duration": 37,
    "start_time": "2022-02-14T13:42:25.924Z"
   },
   {
    "duration": 481,
    "start_time": "2022-02-14T13:43:15.422Z"
   },
   {
    "duration": 426,
    "start_time": "2022-02-14T13:43:24.310Z"
   },
   {
    "duration": 41,
    "start_time": "2022-02-14T13:43:38.616Z"
   },
   {
    "duration": -1010,
    "start_time": "2022-02-14T13:53:29.173Z"
   },
   {
    "duration": 87,
    "start_time": "2022-02-14T13:53:32.130Z"
   },
   {
    "duration": 23,
    "start_time": "2022-02-14T13:53:37.253Z"
   },
   {
    "duration": 8,
    "start_time": "2022-02-14T13:53:38.383Z"
   },
   {
    "duration": 20,
    "start_time": "2022-02-14T13:53:38.714Z"
   },
   {
    "duration": 21,
    "start_time": "2022-02-14T13:53:39.265Z"
   },
   {
    "duration": 21,
    "start_time": "2022-02-14T13:53:40.256Z"
   },
   {
    "duration": 28,
    "start_time": "2022-02-14T13:53:40.806Z"
   },
   {
    "duration": 34,
    "start_time": "2022-02-14T13:53:41.693Z"
   },
   {
    "duration": 30,
    "start_time": "2022-02-14T13:53:42.458Z"
   },
   {
    "duration": 17,
    "start_time": "2022-02-14T13:53:43.492Z"
   },
   {
    "duration": 28,
    "start_time": "2022-02-14T13:53:44.980Z"
   },
   {
    "duration": 30,
    "start_time": "2022-02-14T13:53:45.914Z"
   },
   {
    "duration": 17,
    "start_time": "2022-02-14T13:53:47.630Z"
   },
   {
    "duration": 14,
    "start_time": "2022-02-14T13:53:48.850Z"
   },
   {
    "duration": 19,
    "start_time": "2022-02-14T13:53:49.312Z"
   },
   {
    "duration": 31,
    "start_time": "2022-02-14T13:53:50.858Z"
   },
   {
    "duration": 33,
    "start_time": "2022-02-14T13:53:51.793Z"
   },
   {
    "duration": 48,
    "start_time": "2022-02-14T13:53:53.207Z"
   },
   {
    "duration": 67,
    "start_time": "2022-02-14T13:54:00.625Z"
   },
   {
    "duration": 13,
    "start_time": "2022-02-14T13:54:17.682Z"
   },
   {
    "duration": 21,
    "start_time": "2022-02-14T13:55:07.026Z"
   },
   {
    "duration": 35,
    "start_time": "2022-02-14T13:55:15.581Z"
   },
   {
    "duration": 32,
    "start_time": "2022-02-14T13:55:34.495Z"
   },
   {
    "duration": 24,
    "start_time": "2022-02-14T13:56:26.423Z"
   },
   {
    "duration": 31,
    "start_time": "2022-02-14T13:56:35.768Z"
   },
   {
    "duration": 51,
    "start_time": "2022-02-14T13:57:05.748Z"
   },
   {
    "duration": 34,
    "start_time": "2022-02-14T13:57:43.862Z"
   },
   {
    "duration": 4054,
    "start_time": "2022-02-14T13:57:53.757Z"
   },
   {
    "duration": 33,
    "start_time": "2022-02-14T13:58:06.464Z"
   },
   {
    "duration": 36,
    "start_time": "2022-02-14T14:02:02.652Z"
   },
   {
    "duration": 46,
    "start_time": "2022-02-14T14:02:22.139Z"
   },
   {
    "duration": 285,
    "start_time": "2022-02-14T14:03:20.638Z"
   },
   {
    "duration": 45,
    "start_time": "2022-02-14T14:03:24.829Z"
   },
   {
    "duration": 60225,
    "start_time": "2022-02-14T14:11:19.026Z"
   },
   {
    "duration": -1070,
    "start_time": "2022-02-14T14:12:42.222Z"
   },
   {
    "duration": 39249,
    "start_time": "2022-02-14T14:12:51.479Z"
   },
   {
    "duration": 12,
    "start_time": "2022-02-14T14:13:36.086Z"
   },
   {
    "duration": 51,
    "start_time": "2022-02-14T14:14:05.236Z"
   },
   {
    "duration": 414,
    "start_time": "2022-02-14T14:15:36.597Z"
   },
   {
    "duration": 403,
    "start_time": "2022-02-14T14:20:07.103Z"
   },
   {
    "duration": 473,
    "start_time": "2022-02-14T14:20:17.516Z"
   },
   {
    "duration": 436,
    "start_time": "2022-02-14T14:22:07.757Z"
   },
   {
    "duration": 514,
    "start_time": "2022-02-14T14:22:30.099Z"
   },
   {
    "duration": 50,
    "start_time": "2022-02-14T14:25:53.387Z"
   },
   {
    "duration": 427,
    "start_time": "2022-02-14T14:26:37.744Z"
   },
   {
    "duration": 40,
    "start_time": "2022-02-14T14:29:09.767Z"
   },
   {
    "duration": 16,
    "start_time": "2022-02-14T14:29:48.021Z"
   },
   {
    "duration": 1459,
    "start_time": "2022-02-14T14:31:41.775Z"
   },
   {
    "duration": 4,
    "start_time": "2022-02-14T14:33:16.335Z"
   },
   {
    "duration": 9,
    "start_time": "2022-02-14T14:33:38.676Z"
   },
   {
    "duration": 10,
    "start_time": "2022-02-14T14:33:47.372Z"
   },
   {
    "duration": 17,
    "start_time": "2022-02-14T14:34:01.509Z"
   },
   {
    "duration": 15,
    "start_time": "2022-02-14T14:34:12.111Z"
   },
   {
    "duration": 6155,
    "start_time": "2022-02-14T14:35:16.577Z"
   },
   {
    "duration": 13,
    "start_time": "2022-02-14T14:35:25.665Z"
   },
   {
    "duration": 5998,
    "start_time": "2022-02-14T14:35:51.565Z"
   },
   {
    "duration": 10,
    "start_time": "2022-02-14T14:36:20.445Z"
   },
   {
    "duration": 12,
    "start_time": "2022-02-14T14:36:38.647Z"
   },
   {
    "duration": 15,
    "start_time": "2022-02-14T14:37:04.163Z"
   },
   {
    "duration": 12,
    "start_time": "2022-02-14T14:37:14.673Z"
   },
   {
    "duration": 93,
    "start_time": "2022-02-14T14:38:15.445Z"
   },
   {
    "duration": 11,
    "start_time": "2022-02-14T14:38:26.704Z"
   },
   {
    "duration": 18,
    "start_time": "2022-02-14T14:38:39.055Z"
   },
   {
    "duration": 14,
    "start_time": "2022-02-14T14:39:34.850Z"
   },
   {
    "duration": 18,
    "start_time": "2022-02-14T14:39:49.656Z"
   },
   {
    "duration": 15,
    "start_time": "2022-02-14T14:40:49.408Z"
   },
   {
    "duration": 12,
    "start_time": "2022-02-14T14:41:40.495Z"
   },
   {
    "duration": 442,
    "start_time": "2022-02-14T14:42:19.945Z"
   },
   {
    "duration": 462,
    "start_time": "2022-02-14T14:42:37.135Z"
   },
   {
    "duration": 606,
    "start_time": "2022-02-14T14:43:06.898Z"
   },
   {
    "duration": 19,
    "start_time": "2022-02-14T14:43:34.327Z"
   },
   {
    "duration": 81,
    "start_time": "2022-02-14T14:43:56.119Z"
   },
   {
    "duration": 491,
    "start_time": "2022-02-14T14:44:03.076Z"
   },
   {
    "duration": 14,
    "start_time": "2022-02-14T14:44:24.111Z"
   },
   {
    "duration": 23,
    "start_time": "2022-02-14T14:45:00.279Z"
   },
   {
    "duration": 86,
    "start_time": "2022-02-14T14:49:03.810Z"
   },
   {
    "duration": 834,
    "start_time": "2022-02-14T14:49:15.298Z"
   },
   {
    "duration": 480,
    "start_time": "2022-02-14T14:49:37.885Z"
   },
   {
    "duration": 774,
    "start_time": "2022-02-14T14:50:46.586Z"
   },
   {
    "duration": 471,
    "start_time": "2022-02-14T14:51:04.560Z"
   },
   {
    "duration": 433,
    "start_time": "2022-02-14T14:51:40.285Z"
   },
   {
    "duration": 20,
    "start_time": "2022-02-14T14:52:19.717Z"
   },
   {
    "duration": 23,
    "start_time": "2022-02-14T14:52:28.365Z"
   },
   {
    "duration": 449,
    "start_time": "2022-02-14T14:56:10.563Z"
   },
   {
    "duration": 24,
    "start_time": "2022-02-14T14:56:24.067Z"
   },
   {
    "duration": 23,
    "start_time": "2022-02-14T14:56:33.591Z"
   },
   {
    "duration": 445,
    "start_time": "2022-02-14T14:57:38.640Z"
   },
   {
    "duration": 24,
    "start_time": "2022-02-14T14:59:34.759Z"
   },
   {
    "duration": 803,
    "start_time": "2022-02-14T15:01:45.270Z"
   },
   {
    "duration": 596,
    "start_time": "2022-02-14T15:02:00.908Z"
   },
   {
    "duration": 476,
    "start_time": "2022-02-14T15:02:24.456Z"
   },
   {
    "duration": 591,
    "start_time": "2022-02-14T15:02:37.157Z"
   },
   {
    "duration": 30,
    "start_time": "2022-02-14T15:03:07.226Z"
   },
   {
    "duration": 24,
    "start_time": "2022-02-14T15:03:53.933Z"
   },
   {
    "duration": 26,
    "start_time": "2022-02-14T15:04:34.071Z"
   },
   {
    "duration": 32,
    "start_time": "2022-02-14T15:04:58.941Z"
   },
   {
    "duration": 29,
    "start_time": "2022-02-14T15:05:46.843Z"
   },
   {
    "duration": 431,
    "start_time": "2022-02-14T15:06:13.626Z"
   },
   {
    "duration": 436,
    "start_time": "2022-02-14T15:06:26.168Z"
   },
   {
    "duration": 23,
    "start_time": "2022-02-14T15:06:46.563Z"
   },
   {
    "duration": 2383,
    "start_time": "2022-02-14T15:07:04.349Z"
   },
   {
    "duration": 25,
    "start_time": "2022-02-14T15:08:26.982Z"
   },
   {
    "duration": 27,
    "start_time": "2022-02-14T15:08:53.098Z"
   },
   {
    "duration": 481,
    "start_time": "2022-02-14T15:09:40.857Z"
   },
   {
    "duration": 29,
    "start_time": "2022-02-14T15:10:34.676Z"
   },
   {
    "duration": 435,
    "start_time": "2022-02-14T15:12:09.244Z"
   },
   {
    "duration": 20,
    "start_time": "2022-02-14T15:14:03.853Z"
   },
   {
    "duration": 33,
    "start_time": "2022-02-14T15:14:19.507Z"
   },
   {
    "duration": 3,
    "start_time": "2022-02-14T15:14:38.267Z"
   },
   {
    "duration": 19,
    "start_time": "2022-02-14T15:14:38.738Z"
   },
   {
    "duration": 19,
    "start_time": "2022-02-14T15:14:39.206Z"
   },
   {
    "duration": 19,
    "start_time": "2022-02-14T15:14:39.765Z"
   },
   {
    "duration": 14,
    "start_time": "2022-02-14T15:14:40.892Z"
   },
   {
    "duration": 31,
    "start_time": "2022-02-14T15:14:41.604Z"
   },
   {
    "duration": 32,
    "start_time": "2022-02-14T15:14:55.096Z"
   },
   {
    "duration": 29,
    "start_time": "2022-02-14T15:15:23.944Z"
   },
   {
    "duration": 29,
    "start_time": "2022-02-14T15:15:31.980Z"
   },
   {
    "duration": 39,
    "start_time": "2022-02-14T15:25:46.702Z"
   },
   {
    "duration": 26,
    "start_time": "2022-02-14T15:28:36.143Z"
   },
   {
    "duration": 22,
    "start_time": "2022-02-14T15:29:14.029Z"
   },
   {
    "duration": 4820,
    "start_time": "2022-02-14T15:29:23.959Z"
   },
   {
    "duration": 30,
    "start_time": "2022-02-14T15:29:42.349Z"
   },
   {
    "duration": 27,
    "start_time": "2022-02-14T15:30:10.657Z"
   },
   {
    "duration": 34,
    "start_time": "2022-02-14T15:32:18.915Z"
   },
   {
    "duration": 33,
    "start_time": "2022-02-14T15:32:25.700Z"
   },
   {
    "duration": 103,
    "start_time": "2022-02-14T15:33:14.981Z"
   },
   {
    "duration": 31,
    "start_time": "2022-02-14T15:33:23.992Z"
   },
   {
    "duration": 288,
    "start_time": "2022-02-14T15:34:16.457Z"
   },
   {
    "duration": 34,
    "start_time": "2022-02-14T15:34:23.775Z"
   },
   {
    "duration": 36,
    "start_time": "2022-02-14T15:34:50.325Z"
   },
   {
    "duration": 34,
    "start_time": "2022-02-14T15:35:41.330Z"
   },
   {
    "duration": 33,
    "start_time": "2022-02-14T15:37:13.414Z"
   },
   {
    "duration": 335,
    "start_time": "2022-02-14T15:37:33.343Z"
   },
   {
    "duration": 32,
    "start_time": "2022-02-14T15:37:39.997Z"
   },
   {
    "duration": 32,
    "start_time": "2022-02-14T15:38:12.460Z"
   },
   {
    "duration": 35,
    "start_time": "2022-02-14T15:40:49.789Z"
   },
   {
    "duration": 36,
    "start_time": "2022-02-14T15:41:29.244Z"
   },
   {
    "duration": 34,
    "start_time": "2022-02-14T15:42:57.236Z"
   },
   {
    "duration": 27,
    "start_time": "2022-02-14T15:52:05.416Z"
   },
   {
    "duration": 12,
    "start_time": "2022-02-14T15:52:14.174Z"
   },
   {
    "duration": 11,
    "start_time": "2022-02-14T15:52:37.074Z"
   },
   {
    "duration": 296,
    "start_time": "2022-02-14T15:52:57.997Z"
   },
   {
    "duration": 8,
    "start_time": "2022-02-14T15:53:18.855Z"
   },
   {
    "duration": 32,
    "start_time": "2022-02-14T15:59:44.139Z"
   },
   {
    "duration": 25,
    "start_time": "2022-02-14T15:59:50.771Z"
   },
   {
    "duration": 31,
    "start_time": "2022-02-14T16:01:29.274Z"
   },
   {
    "duration": 24,
    "start_time": "2022-02-14T16:02:03.807Z"
   },
   {
    "duration": 30,
    "start_time": "2022-02-14T16:03:09.764Z"
   },
   {
    "duration": 34,
    "start_time": "2022-02-14T16:04:09.605Z"
   },
   {
    "duration": 28,
    "start_time": "2022-02-14T16:04:18.360Z"
   },
   {
    "duration": 12,
    "start_time": "2022-02-14T16:04:31.797Z"
   },
   {
    "duration": 4,
    "start_time": "2022-02-14T16:05:25.261Z"
   },
   {
    "duration": 11,
    "start_time": "2022-02-14T16:06:10.308Z"
   },
   {
    "duration": 10,
    "start_time": "2022-02-14T16:06:35.839Z"
   },
   {
    "duration": 26,
    "start_time": "2022-02-14T16:06:47.729Z"
   },
   {
    "duration": 10,
    "start_time": "2022-02-14T16:06:56.815Z"
   },
   {
    "duration": 26,
    "start_time": "2022-02-14T16:12:55.897Z"
   },
   {
    "duration": 24,
    "start_time": "2022-02-14T16:12:57.615Z"
   },
   {
    "duration": 26,
    "start_time": "2022-02-14T16:12:58.162Z"
   },
   {
    "duration": 26,
    "start_time": "2022-02-14T16:12:58.809Z"
   },
   {
    "duration": 10,
    "start_time": "2022-02-14T16:12:59.652Z"
   },
   {
    "duration": 10,
    "start_time": "2022-02-14T16:13:01.370Z"
   },
   {
    "duration": 10,
    "start_time": "2022-02-14T16:13:02.514Z"
   },
   {
    "duration": 11,
    "start_time": "2022-02-14T16:13:03.791Z"
   },
   {
    "duration": 11,
    "start_time": "2022-02-14T16:14:16.467Z"
   },
   {
    "duration": 12,
    "start_time": "2022-02-14T16:24:40.028Z"
   },
   {
    "duration": 85,
    "start_time": "2022-02-14T16:24:55.265Z"
   },
   {
    "duration": 24,
    "start_time": "2022-02-14T16:24:55.866Z"
   },
   {
    "duration": 8,
    "start_time": "2022-02-14T16:24:56.382Z"
   },
   {
    "duration": 19,
    "start_time": "2022-02-14T16:24:56.761Z"
   },
   {
    "duration": 19,
    "start_time": "2022-02-14T16:24:57.893Z"
   },
   {
    "duration": 21,
    "start_time": "2022-02-14T16:24:59.073Z"
   },
   {
    "duration": 28,
    "start_time": "2022-02-14T16:24:59.465Z"
   },
   {
    "duration": 34,
    "start_time": "2022-02-14T16:25:00.217Z"
   },
   {
    "duration": 22,
    "start_time": "2022-02-14T16:25:01.256Z"
   },
   {
    "duration": 14,
    "start_time": "2022-02-14T16:25:02.190Z"
   },
   {
    "duration": 30,
    "start_time": "2022-02-14T16:25:02.889Z"
   },
   {
    "duration": 30,
    "start_time": "2022-02-14T16:25:03.275Z"
   },
   {
    "duration": 15,
    "start_time": "2022-02-14T16:25:07.070Z"
   },
   {
    "duration": 14,
    "start_time": "2022-02-14T16:25:09.988Z"
   },
   {
    "duration": 17,
    "start_time": "2022-02-14T16:25:10.582Z"
   },
   {
    "duration": 31,
    "start_time": "2022-02-14T16:25:11.437Z"
   },
   {
    "duration": 33,
    "start_time": "2022-02-14T16:25:12.217Z"
   },
   {
    "duration": 28,
    "start_time": "2022-02-14T16:25:13.305Z"
   },
   {
    "duration": 27,
    "start_time": "2022-02-14T16:25:14.001Z"
   },
   {
    "duration": 40,
    "start_time": "2022-02-14T16:25:14.884Z"
   },
   {
    "duration": 30,
    "start_time": "2022-02-14T16:25:16.033Z"
   },
   {
    "duration": 11,
    "start_time": "2022-02-14T16:25:18.216Z"
   },
   {
    "duration": 10,
    "start_time": "2022-02-14T16:25:24.150Z"
   },
   {
    "duration": 13,
    "start_time": "2022-02-14T16:25:28.594Z"
   },
   {
    "duration": 7,
    "start_time": "2022-02-14T16:26:17.628Z"
   },
   {
    "duration": 6,
    "start_time": "2022-02-14T16:27:21.577Z"
   },
   {
    "duration": 8,
    "start_time": "2022-02-14T16:28:03.073Z"
   },
   {
    "duration": 304,
    "start_time": "2022-02-14T16:28:15.746Z"
   },
   {
    "duration": 6,
    "start_time": "2022-02-14T16:29:15.948Z"
   },
   {
    "duration": 20,
    "start_time": "2022-02-14T16:30:48.455Z"
   },
   {
    "duration": 246,
    "start_time": "2022-02-14T16:31:22.603Z"
   },
   {
    "duration": 281,
    "start_time": "2022-02-14T16:31:44.623Z"
   },
   {
    "duration": 6539,
    "start_time": "2022-02-14T16:32:23.165Z"
   },
   {
    "duration": 10,
    "start_time": "2022-02-14T16:32:31.899Z"
   },
   {
    "duration": 6,
    "start_time": "2022-02-14T16:32:46.633Z"
   },
   {
    "duration": 10,
    "start_time": "2022-02-14T16:32:56.912Z"
   },
   {
    "duration": 267,
    "start_time": "2022-02-14T16:42:17.722Z"
   },
   {
    "duration": 91,
    "start_time": "2022-02-14T16:42:32.787Z"
   },
   {
    "duration": 23,
    "start_time": "2022-02-14T16:42:33.732Z"
   },
   {
    "duration": 7,
    "start_time": "2022-02-14T16:42:34.769Z"
   },
   {
    "duration": 20,
    "start_time": "2022-02-14T16:42:36.354Z"
   },
   {
    "duration": 20,
    "start_time": "2022-02-14T16:42:37.547Z"
   },
   {
    "duration": 23,
    "start_time": "2022-02-14T16:42:38.687Z"
   },
   {
    "duration": 28,
    "start_time": "2022-02-14T16:42:38.880Z"
   },
   {
    "duration": 37,
    "start_time": "2022-02-14T16:42:39.497Z"
   },
   {
    "duration": 32,
    "start_time": "2022-02-14T16:42:40.055Z"
   },
   {
    "duration": 16,
    "start_time": "2022-02-14T16:42:40.948Z"
   },
   {
    "duration": 30,
    "start_time": "2022-02-14T16:42:41.496Z"
   },
   {
    "duration": 30,
    "start_time": "2022-02-14T16:42:41.855Z"
   },
   {
    "duration": 11,
    "start_time": "2022-02-14T16:42:43.966Z"
   },
   {
    "duration": 18,
    "start_time": "2022-02-14T16:42:53.058Z"
   },
   {
    "duration": 18,
    "start_time": "2022-02-14T16:43:34.088Z"
   },
   {
    "duration": 41,
    "start_time": "2022-02-14T16:45:15.700Z"
   },
   {
    "duration": 41,
    "start_time": "2022-02-14T16:45:31.408Z"
   },
   {
    "duration": 38,
    "start_time": "2022-02-14T16:45:38.281Z"
   },
   {
    "duration": 41,
    "start_time": "2022-02-14T16:46:25.940Z"
   },
   {
    "duration": 37,
    "start_time": "2022-02-14T16:46:32.856Z"
   },
   {
    "duration": 39,
    "start_time": "2022-02-14T16:46:42.625Z"
   },
   {
    "duration": 39,
    "start_time": "2022-02-14T16:47:02.558Z"
   },
   {
    "duration": 38,
    "start_time": "2022-02-14T16:47:38.418Z"
   },
   {
    "duration": 61,
    "start_time": "2022-02-14T16:48:31.750Z"
   },
   {
    "duration": 96,
    "start_time": "2022-02-14T16:49:14.378Z"
   },
   {
    "duration": 23,
    "start_time": "2022-02-14T16:49:14.931Z"
   },
   {
    "duration": 9,
    "start_time": "2022-02-14T16:49:15.510Z"
   },
   {
    "duration": 20,
    "start_time": "2022-02-14T16:49:15.918Z"
   },
   {
    "duration": 20,
    "start_time": "2022-02-14T16:49:16.771Z"
   },
   {
    "duration": 23,
    "start_time": "2022-02-14T16:49:17.872Z"
   },
   {
    "duration": 27,
    "start_time": "2022-02-14T16:49:18.160Z"
   },
   {
    "duration": 35,
    "start_time": "2022-02-14T16:49:18.865Z"
   },
   {
    "duration": 22,
    "start_time": "2022-02-14T16:49:19.834Z"
   },
   {
    "duration": 16,
    "start_time": "2022-02-14T16:49:22.518Z"
   },
   {
    "duration": 31,
    "start_time": "2022-02-14T16:49:34.869Z"
   },
   {
    "duration": 33,
    "start_time": "2022-02-14T16:49:35.260Z"
   },
   {
    "duration": 18,
    "start_time": "2022-02-14T16:49:36.713Z"
   },
   {
    "duration": 24,
    "start_time": "2022-02-14T16:49:49.165Z"
   },
   {
    "duration": 18,
    "start_time": "2022-02-14T16:49:49.648Z"
   },
   {
    "duration": 30,
    "start_time": "2022-02-14T16:49:50.642Z"
   },
   {
    "duration": 35,
    "start_time": "2022-02-14T16:49:51.967Z"
   },
   {
    "duration": 27,
    "start_time": "2022-02-14T16:49:53.337Z"
   },
   {
    "duration": 276,
    "start_time": "2022-02-14T16:49:54.497Z"
   },
   {
    "duration": 258,
    "start_time": "2022-02-14T16:50:40.632Z"
   },
   {
    "duration": 351,
    "start_time": "2022-02-14T16:50:57.424Z"
   },
   {
    "duration": 32,
    "start_time": "2022-02-14T16:51:06.873Z"
   },
   {
    "duration": 291,
    "start_time": "2022-02-14T16:52:36.027Z"
   },
   {
    "duration": 271,
    "start_time": "2022-02-14T16:53:29.193Z"
   },
   {
    "duration": 88,
    "start_time": "2022-02-14T16:53:33.866Z"
   },
   {
    "duration": 32,
    "start_time": "2022-02-14T16:53:34.505Z"
   },
   {
    "duration": 10,
    "start_time": "2022-02-14T16:53:35.114Z"
   },
   {
    "duration": 21,
    "start_time": "2022-02-14T16:53:35.526Z"
   },
   {
    "duration": 24,
    "start_time": "2022-02-14T16:53:36.182Z"
   },
   {
    "duration": 24,
    "start_time": "2022-02-14T16:53:36.915Z"
   },
   {
    "duration": 28,
    "start_time": "2022-02-14T16:53:37.178Z"
   },
   {
    "duration": 32,
    "start_time": "2022-02-14T16:53:37.736Z"
   },
   {
    "duration": 23,
    "start_time": "2022-02-14T16:53:38.234Z"
   },
   {
    "duration": 15,
    "start_time": "2022-02-14T16:53:38.791Z"
   },
   {
    "duration": 42,
    "start_time": "2022-02-14T16:53:39.358Z"
   },
   {
    "duration": 30,
    "start_time": "2022-02-14T16:53:39.659Z"
   },
   {
    "duration": 18,
    "start_time": "2022-02-14T16:53:41.692Z"
   },
   {
    "duration": 18,
    "start_time": "2022-02-14T16:53:42.659Z"
   },
   {
    "duration": 19,
    "start_time": "2022-02-14T16:53:42.963Z"
   },
   {
    "duration": 36,
    "start_time": "2022-02-14T16:53:43.545Z"
   },
   {
    "duration": 33,
    "start_time": "2022-02-14T16:53:44.374Z"
   },
   {
    "duration": 27,
    "start_time": "2022-02-14T16:53:45.897Z"
   },
   {
    "duration": 297,
    "start_time": "2022-02-14T16:53:46.751Z"
   },
   {
    "duration": 38,
    "start_time": "2022-02-14T16:53:57.627Z"
   },
   {
    "duration": 311,
    "start_time": "2022-02-14T16:55:09.988Z"
   },
   {
    "duration": 502,
    "start_time": "2022-02-14T16:55:30.257Z"
   },
   {
    "duration": 29,
    "start_time": "2022-02-14T16:55:45.002Z"
   },
   {
    "duration": 53,
    "start_time": "2022-02-14T16:55:56.714Z"
   },
   {
    "duration": 34,
    "start_time": "2022-02-14T16:56:24.804Z"
   },
   {
    "duration": 29,
    "start_time": "2022-02-14T16:56:31.977Z"
   },
   {
    "duration": 26,
    "start_time": "2022-02-14T16:56:33.743Z"
   },
   {
    "duration": 11,
    "start_time": "2022-02-14T16:56:35.047Z"
   },
   {
    "duration": 11,
    "start_time": "2022-02-14T16:56:38.322Z"
   },
   {
    "duration": 95,
    "start_time": "2022-02-14T16:58:11.663Z"
   },
   {
    "duration": 10,
    "start_time": "2022-02-14T16:58:18.796Z"
   },
   {
    "duration": 266,
    "start_time": "2022-02-22T07:25:28.411Z"
   },
   {
    "duration": 637,
    "start_time": "2022-02-22T07:25:37.889Z"
   },
   {
    "duration": 16,
    "start_time": "2022-02-22T07:25:38.528Z"
   },
   {
    "duration": 6,
    "start_time": "2022-02-22T07:25:38.995Z"
   },
   {
    "duration": 15,
    "start_time": "2022-02-22T07:25:39.373Z"
   },
   {
    "duration": 14,
    "start_time": "2022-02-22T07:25:39.948Z"
   },
   {
    "duration": 17,
    "start_time": "2022-02-22T07:25:40.777Z"
   },
   {
    "duration": 20,
    "start_time": "2022-02-22T07:25:40.972Z"
   },
   {
    "duration": 26,
    "start_time": "2022-02-22T07:25:41.380Z"
   },
   {
    "duration": 15,
    "start_time": "2022-02-22T07:25:41.764Z"
   },
   {
    "duration": 11,
    "start_time": "2022-02-22T07:25:42.112Z"
   },
   {
    "duration": 20,
    "start_time": "2022-02-22T07:25:42.516Z"
   },
   {
    "duration": 20,
    "start_time": "2022-02-22T07:25:42.689Z"
   },
   {
    "duration": 12,
    "start_time": "2022-02-22T07:25:43.708Z"
   },
   {
    "duration": 12,
    "start_time": "2022-02-22T07:25:44.180Z"
   },
   {
    "duration": 12,
    "start_time": "2022-02-22T07:25:44.395Z"
   },
   {
    "duration": 20,
    "start_time": "2022-02-22T07:25:44.836Z"
   },
   {
    "duration": 22,
    "start_time": "2022-02-22T07:25:45.760Z"
   },
   {
    "duration": 19,
    "start_time": "2022-02-22T07:25:47.003Z"
   },
   {
    "duration": 25,
    "start_time": "2022-02-22T07:25:47.767Z"
   },
   {
    "duration": 18,
    "start_time": "2022-02-22T07:26:05.658Z"
   },
   {
    "duration": 18,
    "start_time": "2022-02-22T07:26:06.528Z"
   },
   {
    "duration": 9,
    "start_time": "2022-02-22T07:26:08.672Z"
   },
   {
    "duration": 18,
    "start_time": "2022-02-22T07:26:49.051Z"
   },
   {
    "duration": 8,
    "start_time": "2022-02-22T07:26:51.228Z"
   },
   {
    "duration": 17,
    "start_time": "2022-02-22T07:27:09.898Z"
   },
   {
    "duration": 24,
    "start_time": "2022-02-22T07:27:10.442Z"
   },
   {
    "duration": 18,
    "start_time": "2022-02-22T07:27:10.839Z"
   },
   {
    "duration": 18,
    "start_time": "2022-02-22T07:27:12.175Z"
   },
   {
    "duration": 8,
    "start_time": "2022-02-22T07:27:14.339Z"
   },
   {
    "duration": 15,
    "start_time": "2022-02-22T07:27:43.789Z"
   },
   {
    "duration": 26,
    "start_time": "2022-02-22T07:27:44.450Z"
   },
   {
    "duration": 17,
    "start_time": "2022-02-22T07:27:45.158Z"
   },
   {
    "duration": 18,
    "start_time": "2022-02-22T07:27:45.789Z"
   },
   {
    "duration": 7,
    "start_time": "2022-02-22T07:27:47.561Z"
   },
   {
    "duration": 17,
    "start_time": "2022-02-22T07:28:15.599Z"
   },
   {
    "duration": 25,
    "start_time": "2022-02-22T07:28:17.705Z"
   },
   {
    "duration": 18,
    "start_time": "2022-02-22T07:28:19.416Z"
   },
   {
    "duration": 19,
    "start_time": "2022-02-22T07:28:19.991Z"
   },
   {
    "duration": 10,
    "start_time": "2022-02-22T07:28:22.159Z"
   },
   {
    "duration": 19,
    "start_time": "2022-02-22T07:29:02.008Z"
   },
   {
    "duration": 18,
    "start_time": "2022-02-22T07:29:07.191Z"
   },
   {
    "duration": 20,
    "start_time": "2022-02-22T07:29:07.972Z"
   },
   {
    "duration": 17,
    "start_time": "2022-02-22T07:29:12.563Z"
   },
   {
    "duration": 17,
    "start_time": "2022-02-22T07:29:25.256Z"
   },
   {
    "duration": 19,
    "start_time": "2022-02-22T07:29:39.165Z"
   },
   {
    "duration": 9,
    "start_time": "2022-02-22T07:29:42.763Z"
   },
   {
    "duration": 7,
    "start_time": "2022-02-22T07:29:46.646Z"
   },
   {
    "duration": 7,
    "start_time": "2022-02-22T07:29:51.067Z"
   },
   {
    "duration": 7,
    "start_time": "2022-02-22T07:29:53.111Z"
   },
   {
    "duration": 237,
    "start_time": "2022-02-22T07:31:59.952Z"
   },
   {
    "duration": 17,
    "start_time": "2022-02-22T07:32:03.457Z"
   },
   {
    "duration": 20,
    "start_time": "2022-02-22T07:32:11.645Z"
   },
   {
    "duration": 19,
    "start_time": "2022-02-22T07:32:17.295Z"
   },
   {
    "duration": 20,
    "start_time": "2022-02-22T07:32:23.335Z"
   },
   {
    "duration": 8,
    "start_time": "2022-02-22T07:32:27.759Z"
   },
   {
    "duration": 8,
    "start_time": "2022-02-22T07:32:30.741Z"
   },
   {
    "duration": 7,
    "start_time": "2022-02-22T07:32:31.946Z"
   },
   {
    "duration": 7,
    "start_time": "2022-02-22T07:32:32.856Z"
   },
   {
    "duration": 6,
    "start_time": "2022-02-22T08:00:47.903Z"
   },
   {
    "duration": 55,
    "start_time": "2022-05-24T12:58:24.538Z"
   },
   {
    "duration": 582,
    "start_time": "2022-05-24T12:58:31.513Z"
   },
   {
    "duration": 15,
    "start_time": "2022-05-24T12:58:32.097Z"
   },
   {
    "duration": 5,
    "start_time": "2022-05-24T12:58:32.114Z"
   },
   {
    "duration": 32,
    "start_time": "2022-05-24T12:58:32.121Z"
   },
   {
    "duration": 19,
    "start_time": "2022-05-24T12:58:32.155Z"
   },
   {
    "duration": 26,
    "start_time": "2022-05-24T12:58:32.176Z"
   },
   {
    "duration": 19,
    "start_time": "2022-05-24T12:58:32.203Z"
   },
   {
    "duration": 21,
    "start_time": "2022-05-24T12:58:32.224Z"
   },
   {
    "duration": 31,
    "start_time": "2022-05-24T12:58:32.246Z"
   },
   {
    "duration": 23,
    "start_time": "2022-05-24T12:58:32.280Z"
   },
   {
    "duration": 20,
    "start_time": "2022-05-24T12:58:32.304Z"
   },
   {
    "duration": 25,
    "start_time": "2022-05-24T12:58:32.326Z"
   },
   {
    "duration": 9,
    "start_time": "2022-05-24T12:58:32.353Z"
   },
   {
    "duration": 12,
    "start_time": "2022-05-24T12:58:32.364Z"
   },
   {
    "duration": 22,
    "start_time": "2022-05-24T12:58:32.401Z"
   },
   {
    "duration": 29,
    "start_time": "2022-05-24T12:58:32.424Z"
   },
   {
    "duration": 32,
    "start_time": "2022-05-24T12:58:32.454Z"
   },
   {
    "duration": 17,
    "start_time": "2022-05-24T12:58:32.487Z"
   },
   {
    "duration": 18,
    "start_time": "2022-05-24T12:58:32.505Z"
   },
   {
    "duration": 17,
    "start_time": "2022-05-24T12:58:32.524Z"
   },
   {
    "duration": 22,
    "start_time": "2022-05-24T12:58:32.542Z"
   },
   {
    "duration": 18,
    "start_time": "2022-05-24T12:58:32.566Z"
   },
   {
    "duration": 23,
    "start_time": "2022-05-24T12:58:32.586Z"
   },
   {
    "duration": 9,
    "start_time": "2022-05-24T12:58:32.611Z"
   },
   {
    "duration": 28,
    "start_time": "2022-05-24T12:58:32.622Z"
   }
  ],
  "kernelspec": {
   "display_name": "Python 3 (ipykernel)",
   "language": "python",
   "name": "python3"
  },
  "language_info": {
   "codemirror_mode": {
    "name": "ipython",
    "version": 3
   },
   "file_extension": ".py",
   "mimetype": "text/x-python",
   "name": "python",
   "nbconvert_exporter": "python",
   "pygments_lexer": "ipython3",
   "version": "3.9.5"
  },
  "toc": {
   "base_numbering": 1,
   "nav_menu": {},
   "number_sections": true,
   "sideBar": true,
   "skip_h1_title": true,
   "title_cell": "Table of Contents",
   "title_sidebar": "Contents",
   "toc_cell": false,
   "toc_position": {},
   "toc_section_display": true,
   "toc_window_display": false
  }
 },
 "nbformat": 4,
 "nbformat_minor": 5
}
