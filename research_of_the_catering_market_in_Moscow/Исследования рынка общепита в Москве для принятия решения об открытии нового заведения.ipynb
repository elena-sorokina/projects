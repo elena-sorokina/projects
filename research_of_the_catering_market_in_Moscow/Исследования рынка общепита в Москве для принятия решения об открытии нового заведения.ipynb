{
 "cells": [
  {
   "cell_type": "markdown",
   "metadata": {},
   "source": [
    "## Описание проекта\n",
    "\n",
    "Мы решили открыть небольшое кафе в Москве. Оно оригинальное — гостей должны обслуживать роботы. Проект многообещающий, но дорогой. Вместе с партнёрами мы решились обратиться к инвесторам. Их интересует текущее положение дел на рынке — сможем ли мы снискать популярность на долгое время, когда все зеваки насмотрятся на роботов-официантов?\n",
    "\n",
    "**Цель:** подготовить исследование рынка по открытым данным о заведениях общественного питания в Москве.\n",
    "\n",
    "### Описание данных\n",
    "\n",
    "Таблица `rest_data`:\n",
    "* `id` — идентификатор объекта;\n",
    "* `object_name` — название объекта общественного питания;\n",
    "* `chain` — сетевой ресторан;\n",
    "* `object_type` — тип объекта общественного питания;\n",
    "* `address` — адрес;\n",
    "* `number` — количество посадочных мест.\n",
    "\n",
    "## Оглавление:\n",
    "\n",
    "1. [Шаг №1. Загрузка и подготовка данных к анализу](#step1)  \n",
    "2. [Шаг №2. Анализ данных](#step2)\n",
    "3. [Шаг №3. Общий вывод](#step3)"
   ]
  },
  {
   "cell_type": "markdown",
   "metadata": {},
   "source": [
    "# Шаг №1. Загрузка и подготовка данных к анализу <a id=\"step1\"></a>"
   ]
  },
  {
   "cell_type": "code",
   "execution_count": 1,
   "metadata": {},
   "outputs": [],
   "source": [
    "import pandas as pd    #  импорт библиотек\n",
    "import seaborn as sns\n",
    "import matplotlib.pyplot as plt\n",
    "import numpy as np"
   ]
  },
  {
   "cell_type": "code",
   "execution_count": 2,
   "metadata": {},
   "outputs": [
    {
     "data": {
      "text/html": [
       "<div>\n",
       "<style scoped>\n",
       "    .dataframe tbody tr th:only-of-type {\n",
       "        vertical-align: middle;\n",
       "    }\n",
       "\n",
       "    .dataframe tbody tr th {\n",
       "        vertical-align: top;\n",
       "    }\n",
       "\n",
       "    .dataframe thead th {\n",
       "        text-align: right;\n",
       "    }\n",
       "</style>\n",
       "<table border=\"1\" class=\"dataframe\">\n",
       "  <thead>\n",
       "    <tr style=\"text-align: right;\">\n",
       "      <th></th>\n",
       "      <th>id</th>\n",
       "      <th>object_name</th>\n",
       "      <th>chain</th>\n",
       "      <th>object_type</th>\n",
       "      <th>address</th>\n",
       "      <th>number</th>\n",
       "    </tr>\n",
       "  </thead>\n",
       "  <tbody>\n",
       "    <tr>\n",
       "      <th>0</th>\n",
       "      <td>151635</td>\n",
       "      <td>СМЕТАНА</td>\n",
       "      <td>нет</td>\n",
       "      <td>кафе</td>\n",
       "      <td>город Москва, улица Егора Абакумова, дом 9</td>\n",
       "      <td>48</td>\n",
       "    </tr>\n",
       "    <tr>\n",
       "      <th>1</th>\n",
       "      <td>77874</td>\n",
       "      <td>Родник</td>\n",
       "      <td>нет</td>\n",
       "      <td>кафе</td>\n",
       "      <td>город Москва, улица Талалихина, дом 2/1, корпус 1</td>\n",
       "      <td>35</td>\n",
       "    </tr>\n",
       "    <tr>\n",
       "      <th>2</th>\n",
       "      <td>24309</td>\n",
       "      <td>Кафе «Академия»</td>\n",
       "      <td>нет</td>\n",
       "      <td>кафе</td>\n",
       "      <td>город Москва, Абельмановская улица, дом 6</td>\n",
       "      <td>95</td>\n",
       "    </tr>\n",
       "    <tr>\n",
       "      <th>3</th>\n",
       "      <td>21894</td>\n",
       "      <td>ПИЦЦЕТОРИЯ</td>\n",
       "      <td>да</td>\n",
       "      <td>кафе</td>\n",
       "      <td>город Москва, Абрамцевская улица, дом 1</td>\n",
       "      <td>40</td>\n",
       "    </tr>\n",
       "    <tr>\n",
       "      <th>4</th>\n",
       "      <td>119365</td>\n",
       "      <td>Кафе «Вишневая метель»</td>\n",
       "      <td>нет</td>\n",
       "      <td>кафе</td>\n",
       "      <td>город Москва, Абрамцевская улица, дом 9, корпус 1</td>\n",
       "      <td>50</td>\n",
       "    </tr>\n",
       "  </tbody>\n",
       "</table>\n",
       "</div>"
      ],
      "text/plain": [
       "       id             object_name chain object_type  \\\n",
       "0  151635                 СМЕТАНА   нет        кафе   \n",
       "1   77874                  Родник   нет        кафе   \n",
       "2   24309         Кафе «Академия»   нет        кафе   \n",
       "3   21894              ПИЦЦЕТОРИЯ    да        кафе   \n",
       "4  119365  Кафе «Вишневая метель»   нет        кафе   \n",
       "\n",
       "                                             address  number  \n",
       "0         город Москва, улица Егора Абакумова, дом 9      48  \n",
       "1  город Москва, улица Талалихина, дом 2/1, корпус 1      35  \n",
       "2          город Москва, Абельмановская улица, дом 6      95  \n",
       "3            город Москва, Абрамцевская улица, дом 1      40  \n",
       "4  город Москва, Абрамцевская улица, дом 9, корпус 1      50  "
      ]
     },
     "metadata": {},
     "output_type": "display_data"
    },
    {
     "name": "stdout",
     "output_type": "stream",
     "text": [
      "<class 'pandas.core.frame.DataFrame'>\n",
      "RangeIndex: 15366 entries, 0 to 15365\n",
      "Data columns (total 6 columns):\n",
      " #   Column       Non-Null Count  Dtype \n",
      "---  ------       --------------  ----- \n",
      " 0   id           15366 non-null  int64 \n",
      " 1   object_name  15366 non-null  object\n",
      " 2   chain        15366 non-null  object\n",
      " 3   object_type  15366 non-null  object\n",
      " 4   address      15366 non-null  object\n",
      " 5   number       15366 non-null  int64 \n",
      "dtypes: int64(2), object(4)\n",
      "memory usage: 720.4+ KB\n"
     ]
    }
   ],
   "source": [
    "data = pd.read_csv('/datasets/rest_data.csv')\n",
    "display(data.head())\n",
    "data.info()"
   ]
  },
  {
   "cell_type": "markdown",
   "metadata": {},
   "source": [
    "***Вывод:*** \n",
    "\n",
    "Тип данных в каждой колонке — правильный, пропущенных значений нет.\n",
    "\n",
    "Проверим, есть ли дубликаты:"
   ]
  },
  {
   "cell_type": "code",
   "execution_count": 3,
   "metadata": {},
   "outputs": [
    {
     "name": "stdout",
     "output_type": "stream",
     "text": [
      "Количество явных дубликатов: 0\n"
     ]
    }
   ],
   "source": [
    "print('Количество явных дубликатов:', data.duplicated().sum())"
   ]
  },
  {
   "cell_type": "markdown",
   "metadata": {},
   "source": [
    "***Вывод:*** \n",
    "\n",
    "Явных дубликатов так же не нашлось.\n",
    "\n",
    "Приведем названия объектов общественного питания к нижнему регистру для облегчения дальнейшей работы:"
   ]
  },
  {
   "cell_type": "code",
   "execution_count": 4,
   "metadata": {},
   "outputs": [],
   "source": [
    "data['object_name'] = data['object_name'].str.lower()"
   ]
  },
  {
   "cell_type": "markdown",
   "metadata": {},
   "source": [
    "# Шаг №2. Анализ данных <a id=\"step2\"></a>"
   ]
  },
  {
   "cell_type": "markdown",
   "metadata": {},
   "source": [
    "1) Исследуем соотношение видов объектов общественного питания по количеству."
   ]
  },
  {
   "cell_type": "code",
   "execution_count": 5,
   "metadata": {},
   "outputs": [
    {
     "data": {
      "text/plain": [
       "Text(0, 0.5, 'Количество')"
      ]
     },
     "execution_count": 5,
     "metadata": {},
     "output_type": "execute_result"
    },
    {
     "data": {
      "image/png": "[encoded data removed]",
      "text/plain": [
       "<Figure size 1080x432 with 1 Axes>"
      ]
     },
     "metadata": {
      "needs_background": "light"
     },
     "output_type": "display_data"
    }
   ],
   "source": [
    "data.loc[data['object_type'] == 'предприятие быстрого обслуживания', 'object_type'] = 'предприятие\\nбыстрого\\nобслуживания'\n",
    "data.loc[data['object_type'] == 'магазин (отдел кулинарии)', 'object_type'] = 'магазин\\n(отдел кулинарии)'\n",
    "\n",
    "#  группировка данных\n",
    "data_type = (data.groupby('object_type', as_index=False)\n",
    "             .agg(count=('id','count'))\n",
    "             .sort_values(by='count', ascending=False))\n",
    "\n",
    "#  построение графика\n",
    "plt.style.use('seaborn-pastel')\n",
    "plt.figure(figsize=(15, 6))\n",
    "plt.xticks(rotation = 45)\n",
    "sns.barplot(x='object_type', y='count', data=data_type)\n",
    "plt.xlabel('Вид объекта общественного питания')\n",
    "plt.ylabel('Количество')"
   ]
  },
  {
   "cell_type": "markdown",
   "metadata": {},
   "source": [
    "***Вывод:***\n",
    "\n",
    "По количеству очевидным лидером становится кафе - их более 6000. Далее идут столовая, ресторан и предприятие быстрого обслуживания.\n",
    "\n",
    "2) Исследуем соотношение сетевых и несетевых заведений по количеству."
   ]
  },
  {
   "cell_type": "code",
   "execution_count": 6,
   "metadata": {},
   "outputs": [
    {
     "data": {
      "text/plain": [
       "Text(0, 0.5, 'Количество')"
      ]
     },
     "execution_count": 6,
     "metadata": {},
     "output_type": "execute_result"
    },
    {
     "data": {
      "image/png": "[encoded data removed]",
      "text/plain": [
       "<Figure size 504x504 with 1 Axes>"
      ]
     },
     "metadata": {
      "needs_background": "light"
     },
     "output_type": "display_data"
    }
   ],
   "source": [
    "#  группировка данных\n",
    "data_type = (data.groupby('chain', as_index=False)\n",
    "             .agg(count=('id','count'))\n",
    "             .sort_values(by='count', ascending=False))\n",
    "\n",
    "#  построение графика\n",
    "plt.figure(figsize=(7, 7))\n",
    "sns.barplot(x='chain', y='count', data=data_type)\n",
    "plt.xlabel('Сетевое заведение')\n",
    "plt.ylabel('Количество')"
   ]
  },
  {
   "cell_type": "markdown",
   "metadata": {},
   "source": [
    "***Вывод:***\n",
    "\n",
    "Несетевых ресторанов в разы больше!\n",
    "\n",
    "3) Посмотрим, для какого вида объекта общественного питания характерно сетевое распространение."
   ]
  },
  {
   "cell_type": "code",
   "execution_count": 7,
   "metadata": {},
   "outputs": [
    {
     "data": {
      "text/plain": [
       "Text(0, 0.5, 'Количество')"
      ]
     },
     "execution_count": 7,
     "metadata": {},
     "output_type": "execute_result"
    },
    {
     "data": {
      "image/png": "[encoded data removed]",
      "text/plain": [
       "<Figure size 1080x432 with 1 Axes>"
      ]
     },
     "metadata": {
      "needs_background": "light"
     },
     "output_type": "display_data"
    }
   ],
   "source": [
    "#  группировка данных\n",
    "data_type = (data.groupby(['object_type', 'chain'], as_index=False)\n",
    "             .agg(count=('id','count'))\n",
    "             .sort_values(by='count', ascending=False))\n",
    "\n",
    "#  построение графика\n",
    "plt.figure(figsize=(15, 6))\n",
    "plt.xticks(rotation = 45)\n",
    "sns.barplot(x='object_type', y='count', data=data_type, hue='chain')\n",
    "plt.xlabel('Виды сетевых объектов общественного питания')\n",
    "plt.ylabel('Количество')"
   ]
  },
  {
   "cell_type": "markdown",
   "metadata": {},
   "source": [
    "Для наглядности, посчитаем часть сетевых заведений от всех по типам:"
   ]
  },
  {
   "cell_type": "code",
   "execution_count": 8,
   "metadata": {},
   "outputs": [
    {
     "data": {
      "text/plain": [
       "Text(0, 0.5, 'Количество')"
      ]
     },
     "execution_count": 8,
     "metadata": {},
     "output_type": "execute_result"
    },
    {
     "data": {
      "image/png": "[encoded data removed]",
      "text/plain": [
       "<Figure size 1080x432 with 1 Axes>"
      ]
     },
     "metadata": {
      "needs_background": "light"
     },
     "output_type": "display_data"
    }
   ],
   "source": [
    "data_pivot = data.pivot_table(index='object_type', columns='chain', values='id', aggfunc='count')\n",
    "data_pivot = data_pivot.reset_index()\n",
    "data_pivot['part'] = data_pivot['да'] / (data_pivot['нет'] + data_pivot['да'])\n",
    "data_pivot = data_pivot.sort_values(by='part', ascending=False)\n",
    "\n",
    "#  построение графика\n",
    "plt.figure(figsize=(15, 6))\n",
    "plt.xticks(rotation = 45)\n",
    "sns.barplot(x='object_type', y='part', data=data_pivot)\n",
    "plt.xlabel('Виды сетевых объектов общественного питания')\n",
    "plt.ylabel('Количество')"
   ]
  },
  {
   "cell_type": "markdown",
   "metadata": {},
   "source": [
    "***Вывод:***\n",
    "\n",
    "Сетевое распространение характерно для предприятий быстрого обслуживания, магазинов, ресторанов и кафе. И совсем не характерно для столовых, буфетов и баров.\n",
    "\n",
    "4) Что характерно для сетевых заведений: много заведений с небольшим числом посадочных мест в каждом или мало заведений с большим количеством посадочных мест?"
   ]
  },
  {
   "cell_type": "code",
   "execution_count": 9,
   "metadata": {},
   "outputs": [
    {
     "data": {
      "text/html": [
       "<div>\n",
       "<style scoped>\n",
       "    .dataframe tbody tr th:only-of-type {\n",
       "        vertical-align: middle;\n",
       "    }\n",
       "\n",
       "    .dataframe tbody tr th {\n",
       "        vertical-align: top;\n",
       "    }\n",
       "\n",
       "    .dataframe thead th {\n",
       "        text-align: right;\n",
       "    }\n",
       "</style>\n",
       "<table border=\"1\" class=\"dataframe\">\n",
       "  <thead>\n",
       "    <tr style=\"text-align: right;\">\n",
       "      <th></th>\n",
       "      <th>total</th>\n",
       "      <th>seats</th>\n",
       "    </tr>\n",
       "    <tr>\n",
       "      <th>object_name</th>\n",
       "      <th></th>\n",
       "      <th></th>\n",
       "    </tr>\n",
       "  </thead>\n",
       "  <tbody>\n",
       "    <tr>\n",
       "      <th>bocconcino</th>\n",
       "      <td>3</td>\n",
       "      <td>66.666667</td>\n",
       "    </tr>\n",
       "    <tr>\n",
       "      <th>burger club</th>\n",
       "      <td>3</td>\n",
       "      <td>20.333333</td>\n",
       "    </tr>\n",
       "    <tr>\n",
       "      <th>coffeeshop company</th>\n",
       "      <td>4</td>\n",
       "      <td>47.250000</td>\n",
       "    </tr>\n",
       "    <tr>\n",
       "      <th>cofix</th>\n",
       "      <td>25</td>\n",
       "      <td>9.600000</td>\n",
       "    </tr>\n",
       "    <tr>\n",
       "      <th>correas</th>\n",
       "      <td>3</td>\n",
       "      <td>44.000000</td>\n",
       "    </tr>\n",
       "  </tbody>\n",
       "</table>\n",
       "</div>"
      ],
      "text/plain": [
       "                    total      seats\n",
       "object_name                         \n",
       "bocconcino              3  66.666667\n",
       "burger club             3  20.333333\n",
       "coffeeshop company      4  47.250000\n",
       "cofix                  25   9.600000\n",
       "correas                 3  44.000000"
      ]
     },
     "execution_count": 9,
     "metadata": {},
     "output_type": "execute_result"
    }
   ],
   "source": [
    "data_fr = data[data['chain'] == 'да']\\\n",
    "        .groupby('object_name')\\\n",
    "        .agg(total=('number','count'), seats=('number','mean'))[lambda x : x['total'] > 1]\n",
    "data_fr.head()"
   ]
  },
  {
   "cell_type": "markdown",
   "metadata": {},
   "source": [
    "Посмотрим на квантили количества заведений и количества мест:"
   ]
  },
  {
   "cell_type": "code",
   "execution_count": 10,
   "metadata": {},
   "outputs": [
    {
     "name": "stdout",
     "output_type": "stream",
     "text": [
      "Число заведений: count    246.000000\n",
      "mean      10.719512\n",
      "std       22.680536\n",
      "min        2.000000\n",
      "25%        2.000000\n",
      "50%        4.000000\n",
      "75%        7.000000\n",
      "max      157.000000\n",
      "Name: total, dtype: float64\n",
      "\n",
      "Количество мест: count    246.000000\n",
      "mean      59.390484\n",
      "std       49.547694\n",
      "min        0.000000\n",
      "25%       21.125000\n",
      "50%       44.000000\n",
      "75%       85.000000\n",
      "max      258.666667\n",
      "Name: seats, dtype: float64\n"
     ]
    }
   ],
   "source": [
    "print('Число заведений:', data_fr['total'].describe())\n",
    "print()\n",
    "print('Количество мест:', data_fr['seats'].describe())"
   ]
  },
  {
   "cell_type": "markdown",
   "metadata": {},
   "source": [
    "Разделим все сетевые заведения на 16 групп по квантилям:"
   ]
  },
  {
   "cell_type": "code",
   "execution_count": 11,
   "metadata": {},
   "outputs": [],
   "source": [
    "#  функция для разбиения \n",
    "def groups(a, b, c, d):\n",
    "    group_n = data_fr[data_fr['total'] > a]\n",
    "    group_n = group_n[group_n['total'] <= b]\n",
    "    group_n = group_n[group_n['seats'] > c]\n",
    "    group_n = group_n[group_n['seats'] <= d]\n",
    "    return group_n"
   ]
  },
  {
   "cell_type": "code",
   "execution_count": 12,
   "metadata": {},
   "outputs": [],
   "source": [
    "#  выделение групп\n",
    "#  группы с 2 заведениями:\n",
    "group_1 = groups(1, 2, 0, 21)    #  и количеством мест до 21 (включая)\n",
    "group_2 = groups(1, 2, 21, 44)     #  и количеством мест от 21 до 44 (включая)\n",
    "group_3 = groups(1, 2, 44, 85)     #  и количеством мест от 44 до 85 (включая)\n",
    "group_4 = groups(1, 2, 85, 258)    #  и количеством мест от 85 до 258 (включая)\n",
    "\n",
    "#  группы с количеством заведений от 2 до 4 (включая):\n",
    "group_5 = groups(2, 4, 0, 21)    #  и количеством мест до 21 (включая)\n",
    "group_6 = groups(2, 4, 21, 44)     #  и количеством мест от 21 до 44 (включая)\n",
    "group_7 = groups(2, 4, 44, 85)     #  и количеством мест от 44 до 85 (включая)\n",
    "group_8 = groups(2, 4, 85, 258)    #  и количеством мест от 85 до 258 (включая)\n",
    "\n",
    "#  группы с количеством заведений от 4 до 7 (включая):\n",
    "group_9 = groups(4, 7, 0, 21)    #  и количеством мест до 21 (включая)\n",
    "group_10 = groups(4, 7, 21, 44)     #  и количеством мест от 21 до 44 (включая)\n",
    "group_11 = groups(4, 7, 44, 85)     #  и количеством мест от 44 до 85 (включая)\n",
    "group_12 = groups(4, 7, 85, 258)    #  и количеством мест от 85 до 258 (включая)\n",
    "\n",
    "#  группы с количеством заведений от 7 до 157 (включая):\n",
    "group_13 = groups(7, 157, 0, 21)    #  и количеством мест до 21 (включая)\n",
    "group_14 = groups(7, 157, 21, 44)     #  и количеством мест от 21 до 44 (включая)\n",
    "group_15 = groups(7, 157, 44, 85)     #  и количеством мест от 44 до 85 (включая)\n",
    "group_16 = groups(7, 157, 85, 258)    #  и количеством мест от 85 до 258 (включая)"
   ]
  },
  {
   "cell_type": "code",
   "execution_count": 13,
   "metadata": {},
   "outputs": [
    {
     "data": {
      "text/html": [
       "<div>\n",
       "<style scoped>\n",
       "    .dataframe tbody tr th:only-of-type {\n",
       "        vertical-align: middle;\n",
       "    }\n",
       "\n",
       "    .dataframe tbody tr th {\n",
       "        vertical-align: top;\n",
       "    }\n",
       "\n",
       "    .dataframe thead th {\n",
       "        text-align: right;\n",
       "    }\n",
       "</style>\n",
       "<table border=\"1\" class=\"dataframe\">\n",
       "  <thead>\n",
       "    <tr style=\"text-align: right;\">\n",
       "      <th></th>\n",
       "      <th>name</th>\n",
       "      <th>count</th>\n",
       "    </tr>\n",
       "  </thead>\n",
       "  <tbody>\n",
       "    <tr>\n",
       "      <th>0</th>\n",
       "      <td>group_2</td>\n",
       "      <td>21</td>\n",
       "    </tr>\n",
       "    <tr>\n",
       "      <th>1</th>\n",
       "      <td>group_1</td>\n",
       "      <td>20</td>\n",
       "    </tr>\n",
       "    <tr>\n",
       "      <th>2</th>\n",
       "      <td>group_4</td>\n",
       "      <td>19</td>\n",
       "    </tr>\n",
       "    <tr>\n",
       "      <th>3</th>\n",
       "      <td>group_7</td>\n",
       "      <td>19</td>\n",
       "    </tr>\n",
       "    <tr>\n",
       "      <th>4</th>\n",
       "      <td>group_8</td>\n",
       "      <td>18</td>\n",
       "    </tr>\n",
       "    <tr>\n",
       "      <th>5</th>\n",
       "      <td>group_14</td>\n",
       "      <td>17</td>\n",
       "    </tr>\n",
       "    <tr>\n",
       "      <th>6</th>\n",
       "      <td>group_13</td>\n",
       "      <td>16</td>\n",
       "    </tr>\n",
       "    <tr>\n",
       "      <th>7</th>\n",
       "      <td>group_9</td>\n",
       "      <td>15</td>\n",
       "    </tr>\n",
       "    <tr>\n",
       "      <th>8</th>\n",
       "      <td>group_3</td>\n",
       "      <td>14</td>\n",
       "    </tr>\n",
       "    <tr>\n",
       "      <th>9</th>\n",
       "      <td>group_6</td>\n",
       "      <td>14</td>\n",
       "    </tr>\n",
       "    <tr>\n",
       "      <th>10</th>\n",
       "      <td>group_11</td>\n",
       "      <td>14</td>\n",
       "    </tr>\n",
       "    <tr>\n",
       "      <th>11</th>\n",
       "      <td>group_15</td>\n",
       "      <td>14</td>\n",
       "    </tr>\n",
       "    <tr>\n",
       "      <th>12</th>\n",
       "      <td>group_16</td>\n",
       "      <td>14</td>\n",
       "    </tr>\n",
       "    <tr>\n",
       "      <th>13</th>\n",
       "      <td>group_10</td>\n",
       "      <td>10</td>\n",
       "    </tr>\n",
       "    <tr>\n",
       "      <th>14</th>\n",
       "      <td>group_12</td>\n",
       "      <td>9</td>\n",
       "    </tr>\n",
       "    <tr>\n",
       "      <th>15</th>\n",
       "      <td>group_5</td>\n",
       "      <td>6</td>\n",
       "    </tr>\n",
       "  </tbody>\n",
       "</table>\n",
       "</div>"
      ],
      "text/plain": [
       "        name  count\n",
       "0    group_2     21\n",
       "1    group_1     20\n",
       "2    group_4     19\n",
       "3    group_7     19\n",
       "4    group_8     18\n",
       "5   group_14     17\n",
       "6   group_13     16\n",
       "7    group_9     15\n",
       "8    group_3     14\n",
       "9    group_6     14\n",
       "10  group_11     14\n",
       "11  group_15     14\n",
       "12  group_16     14\n",
       "13  group_10     10\n",
       "14  group_12      9\n",
       "15   group_5      6"
      ]
     },
     "execution_count": 13,
     "metadata": {},
     "output_type": "execute_result"
    }
   ],
   "source": [
    "d = {'name' : ['group_1', 'group_2', 'group_3', 'group_4', 'group_5', 'group_6', \n",
    "               'group_7', 'group_8', 'group_9', 'group_10', 'group_11', 'group_12', \n",
    "               'group_13', 'group_14', 'group_15', 'group_16'],\n",
    "    'count':[group_1['total'].count(), group_2['total'].count(), group_3['total'].count(), \n",
    "             group_4['total'].count(), group_5['total'].count(), group_6['total'].count(), \n",
    "             group_7['total'].count(), group_8['total'].count(), group_9['total'].count(), \n",
    "             group_10['total'].count(), group_11['total'].count(), group_12['total'].count(), \n",
    "             group_13['total'].count(), group_14['total'].count(), group_15['total'].count(),\n",
    "             group_16['total'].count()]}\n",
    "groups = pd.DataFrame(data=d)\n",
    "groups = groups.sort_values(by='count', ascending=False).reset_index(drop=True)\n",
    "groups"
   ]
  },
  {
   "cell_type": "code",
   "execution_count": 14,
   "metadata": {},
   "outputs": [
    {
     "data": {
      "text/plain": [
       "Text(0, 0.5, 'Количество заведений в группе')"
      ]
     },
     "execution_count": 14,
     "metadata": {},
     "output_type": "execute_result"
    },
    {
     "data": {
      "image/png": "[encoded data removed]",
      "text/plain": [
       "<Figure size 1080x432 with 1 Axes>"
      ]
     },
     "metadata": {
      "needs_background": "light"
     },
     "output_type": "display_data"
    }
   ],
   "source": [
    "plt.figure(figsize=(15, 6))\n",
    "plt.xticks(rotation = 45)\n",
    "sns.barplot(x='name', y='count', data=groups)\n",
    "plt.xlabel('Группа заведений')\n",
    "plt.ylabel('Количество заведений в группе')"
   ]
  },
  {
   "cell_type": "markdown",
   "metadata": {},
   "source": [
    "***Вывод:***\n",
    "\n",
    "Лидируют группы под номерами 2, 1, 4, 7, 8:\n",
    "\n",
    "* группа 2 - мало заведений и среднее количество мест\n",
    "\n",
    "* группа 1 - мало заведений и мало мест\n",
    "\n",
    "* группа 4 - мало заведений и много мест\n",
    "\n",
    "* группа 7 - среднее количество заведений с количеством мест выше среднего\n",
    "\n",
    "* группа 8  - среднее количество заведений и много мест\n",
    "\n",
    "Отсюда сделаем вывод, что все же, для сетевых заведений характерно небольшое количество заведений и достаточно много мест."
   ]
  },
  {
   "cell_type": "code",
   "execution_count": 15,
   "metadata": {},
   "outputs": [
    {
     "data": {
      "text/plain": [
       "мало заведений/много мест                     43\n",
       "мало заведений/мало мест                      43\n",
       "мало заведений/среднее число мест             36\n",
       "много заведений/среднее число мест            25\n",
       "много заведений/мало мест                     24\n",
       "среднее число заведений/среднее число мест    20\n",
       "много заведений/много мест                    20\n",
       "среднее число заведений/много мест            19\n",
       "среднее число заведений/мало мест             16\n",
       "dtype: int64"
      ]
     },
     "execution_count": 15,
     "metadata": {},
     "output_type": "execute_result"
    }
   ],
   "source": [
    "# Код ревьюера\n",
    "(pd.qcut(data_fr['total'],q=3, labels = ['мало заведений', 'среднее число заведений', 'много заведений']).astype('str') + '/' + pd.qcut(data_fr['seats'],q=3, labels = ['мало мест', 'среднее число мест', 'много мест']).astype('str')).value_counts()"
   ]
  },
  {
   "cell_type": "code",
   "execution_count": 16,
   "metadata": {},
   "outputs": [
    {
     "data": {
      "text/html": [
       "<div>\n",
       "<style scoped>\n",
       "    .dataframe tbody tr th:only-of-type {\n",
       "        vertical-align: middle;\n",
       "    }\n",
       "\n",
       "    .dataframe tbody tr th {\n",
       "        vertical-align: top;\n",
       "    }\n",
       "\n",
       "    .dataframe thead th {\n",
       "        text-align: right;\n",
       "    }\n",
       "</style>\n",
       "<table border=\"1\" class=\"dataframe\">\n",
       "  <thead>\n",
       "    <tr style=\"text-align: right;\">\n",
       "      <th></th>\n",
       "      <th>число_заведений</th>\n",
       "      <th>число_мест</th>\n",
       "    </tr>\n",
       "    <tr>\n",
       "      <th>object_name</th>\n",
       "      <th></th>\n",
       "      <th></th>\n",
       "    </tr>\n",
       "  </thead>\n",
       "  <tbody>\n",
       "    <tr>\n",
       "      <th>bocconcino</th>\n",
       "      <td>3</td>\n",
       "      <td>66.666667</td>\n",
       "    </tr>\n",
       "    <tr>\n",
       "      <th>burger club</th>\n",
       "      <td>3</td>\n",
       "      <td>20.333333</td>\n",
       "    </tr>\n",
       "    <tr>\n",
       "      <th>coffeeshop company</th>\n",
       "      <td>4</td>\n",
       "      <td>47.250000</td>\n",
       "    </tr>\n",
       "    <tr>\n",
       "      <th>cofix</th>\n",
       "      <td>25</td>\n",
       "      <td>9.600000</td>\n",
       "    </tr>\n",
       "    <tr>\n",
       "      <th>correas</th>\n",
       "      <td>3</td>\n",
       "      <td>44.000000</td>\n",
       "    </tr>\n",
       "    <tr>\n",
       "      <th>...</th>\n",
       "      <td>...</td>\n",
       "      <td>...</td>\n",
       "    </tr>\n",
       "    <tr>\n",
       "      <th>шоколадница</th>\n",
       "      <td>157</td>\n",
       "      <td>57.184713</td>\n",
       "    </tr>\n",
       "    <tr>\n",
       "      <th>штолле</th>\n",
       "      <td>13</td>\n",
       "      <td>30.076923</td>\n",
       "    </tr>\n",
       "    <tr>\n",
       "      <th>якитория</th>\n",
       "      <td>38</td>\n",
       "      <td>117.157895</td>\n",
       "    </tr>\n",
       "    <tr>\n",
       "      <th>япоша</th>\n",
       "      <td>2</td>\n",
       "      <td>105.000000</td>\n",
       "    </tr>\n",
       "    <tr>\n",
       "      <th>ёрш</th>\n",
       "      <td>4</td>\n",
       "      <td>112.250000</td>\n",
       "    </tr>\n",
       "  </tbody>\n",
       "</table>\n",
       "<p>246 rows × 2 columns</p>\n",
       "</div>"
      ],
      "text/plain": [
       "                    число_заведений  число_мест\n",
       "object_name                                    \n",
       "bocconcino                        3   66.666667\n",
       "burger club                       3   20.333333\n",
       "coffeeshop company                4   47.250000\n",
       "cofix                            25    9.600000\n",
       "correas                           3   44.000000\n",
       "...                             ...         ...\n",
       "шоколадница                     157   57.184713\n",
       "штолле                           13   30.076923\n",
       "якитория                         38  117.157895\n",
       "япоша                             2  105.000000\n",
       "ёрш                               4  112.250000\n",
       "\n",
       "[246 rows x 2 columns]"
      ]
     },
     "execution_count": 16,
     "metadata": {},
     "output_type": "execute_result"
    }
   ],
   "source": [
    "# код ревьюера\n",
    "\n",
    "data[data['chain'] == 'да']\\\n",
    "        .groupby('object_name')\\\n",
    "        .agg(число_заведений=('number','count'), число_мест=('number','mean'))[lambda x : x['число_заведений'] > 1]"
   ]
  },
  {
   "cell_type": "markdown",
   "metadata": {},
   "source": [
    "5) Для каждого вида объекта общественного питания опишем среднее количество посадочных мест. Какой вид предоставляет в среднем самое большое количество посадочных мест? "
   ]
  },
  {
   "cell_type": "code",
   "execution_count": 17,
   "metadata": {},
   "outputs": [
    {
     "data": {
      "text/html": [
       "<div>\n",
       "<style scoped>\n",
       "    .dataframe tbody tr th:only-of-type {\n",
       "        vertical-align: middle;\n",
       "    }\n",
       "\n",
       "    .dataframe tbody tr th {\n",
       "        vertical-align: top;\n",
       "    }\n",
       "\n",
       "    .dataframe thead th {\n",
       "        text-align: right;\n",
       "    }\n",
       "</style>\n",
       "<table border=\"1\" class=\"dataframe\">\n",
       "  <thead>\n",
       "    <tr style=\"text-align: right;\">\n",
       "      <th></th>\n",
       "      <th>object_type</th>\n",
       "      <th>number</th>\n",
       "    </tr>\n",
       "  </thead>\n",
       "  <tbody>\n",
       "    <tr>\n",
       "      <th>8</th>\n",
       "      <td>столовая</td>\n",
       "      <td>130.246618</td>\n",
       "    </tr>\n",
       "    <tr>\n",
       "      <th>7</th>\n",
       "      <td>ресторан</td>\n",
       "      <td>96.834136</td>\n",
       "    </tr>\n",
       "    <tr>\n",
       "      <th>1</th>\n",
       "      <td>буфет</td>\n",
       "      <td>51.129915</td>\n",
       "    </tr>\n",
       "    <tr>\n",
       "      <th>0</th>\n",
       "      <td>бар</td>\n",
       "      <td>43.494159</td>\n",
       "    </tr>\n",
       "    <tr>\n",
       "      <th>3</th>\n",
       "      <td>кафе</td>\n",
       "      <td>39.716019</td>\n",
       "    </tr>\n",
       "    <tr>\n",
       "      <th>6</th>\n",
       "      <td>предприятие\\nбыстрого\\nобслуживания</td>\n",
       "      <td>20.552262</td>\n",
       "    </tr>\n",
       "    <tr>\n",
       "      <th>4</th>\n",
       "      <td>кафетерий</td>\n",
       "      <td>9.123116</td>\n",
       "    </tr>\n",
       "    <tr>\n",
       "      <th>2</th>\n",
       "      <td>закусочная</td>\n",
       "      <td>7.608333</td>\n",
       "    </tr>\n",
       "    <tr>\n",
       "      <th>5</th>\n",
       "      <td>магазин\\n(отдел кулинарии)</td>\n",
       "      <td>5.589744</td>\n",
       "    </tr>\n",
       "  </tbody>\n",
       "</table>\n",
       "</div>"
      ],
      "text/plain": [
       "                           object_type      number\n",
       "8                             столовая  130.246618\n",
       "7                             ресторан   96.834136\n",
       "1                                буфет   51.129915\n",
       "0                                  бар   43.494159\n",
       "3                                 кафе   39.716019\n",
       "6  предприятие\\nбыстрого\\nобслуживания   20.552262\n",
       "4                            кафетерий    9.123116\n",
       "2                           закусочная    7.608333\n",
       "5           магазин\\n(отдел кулинарии)    5.589744"
      ]
     },
     "execution_count": 17,
     "metadata": {},
     "output_type": "execute_result"
    }
   ],
   "source": [
    "#  группируем данные\n",
    "data_type = (data.groupby('object_type', as_index=False)\n",
    "             .agg({'number': 'mean'})\n",
    "             .sort_values(by='number', ascending=False))\n",
    "data_type"
   ]
  },
  {
   "cell_type": "code",
   "execution_count": 18,
   "metadata": {},
   "outputs": [
    {
     "data": {
      "text/plain": [
       "Text(0, 0.5, 'Среднее количество посадочных мест')"
      ]
     },
     "execution_count": 18,
     "metadata": {},
     "output_type": "execute_result"
    },
    {
     "data": {
      "image/png": "[encoded data removed]",
      "text/plain": [
       "<Figure size 1080x504 with 1 Axes>"
      ]
     },
     "metadata": {
      "needs_background": "light"
     },
     "output_type": "display_data"
    }
   ],
   "source": [
    "#  cтроим график\n",
    "plt.figure(figsize=(15, 7))\n",
    "plt.xticks(rotation = 45)\n",
    "sns.barplot(x='object_type', y='number', data=data_type)\n",
    "plt.xlabel('Вид объекта')\n",
    "plt.ylabel('Среднее количество посадочных мест')"
   ]
  },
  {
   "cell_type": "markdown",
   "metadata": {},
   "source": [
    "***Вывод:***\n",
    "\n",
    "Самое большое среднее количество посадочных мест в столовых и ресторанах. Меньше всего, как ожидалось, в отделе кулинарии.\n",
    "\n",
    "6) Выделим в отдельный столбец информацию об улице из столбца `address`."
   ]
  },
  {
   "cell_type": "code",
   "execution_count": 19,
   "metadata": {},
   "outputs": [],
   "source": [
    "data['address'] = data['address'].str.lower()\n",
    "streets = data['address'].to_list()\n",
    "streets_only = []\n",
    "for street in streets:  \n",
    "    start = street.find('город москва')\n",
    "    end = street.find(' дом')\n",
    "    streets_only.append(street[start+14:end-1])\n",
    "data['street_name'] = streets_only"
   ]
  },
  {
   "cell_type": "code",
   "execution_count": 20,
   "metadata": {},
   "outputs": [
    {
     "data": {
      "text/html": [
       "<div>\n",
       "<style scoped>\n",
       "    .dataframe tbody tr th:only-of-type {\n",
       "        vertical-align: middle;\n",
       "    }\n",
       "\n",
       "    .dataframe tbody tr th {\n",
       "        vertical-align: top;\n",
       "    }\n",
       "\n",
       "    .dataframe thead th {\n",
       "        text-align: right;\n",
       "    }\n",
       "</style>\n",
       "<table border=\"1\" class=\"dataframe\">\n",
       "  <thead>\n",
       "    <tr style=\"text-align: right;\">\n",
       "      <th></th>\n",
       "      <th>id</th>\n",
       "      <th>object_name</th>\n",
       "      <th>chain</th>\n",
       "      <th>object_type</th>\n",
       "      <th>address</th>\n",
       "      <th>number</th>\n",
       "      <th>street_name</th>\n",
       "    </tr>\n",
       "  </thead>\n",
       "  <tbody>\n",
       "    <tr>\n",
       "      <th>0</th>\n",
       "      <td>151635</td>\n",
       "      <td>сметана</td>\n",
       "      <td>нет</td>\n",
       "      <td>кафе</td>\n",
       "      <td>город москва, улица егора абакумова, дом 9</td>\n",
       "      <td>48</td>\n",
       "      <td>улица егора абакумова</td>\n",
       "    </tr>\n",
       "    <tr>\n",
       "      <th>1</th>\n",
       "      <td>77874</td>\n",
       "      <td>родник</td>\n",
       "      <td>нет</td>\n",
       "      <td>кафе</td>\n",
       "      <td>город москва, улица талалихина, дом 2/1, корпус 1</td>\n",
       "      <td>35</td>\n",
       "      <td>улица талалихина</td>\n",
       "    </tr>\n",
       "    <tr>\n",
       "      <th>2</th>\n",
       "      <td>24309</td>\n",
       "      <td>кафе «академия»</td>\n",
       "      <td>нет</td>\n",
       "      <td>кафе</td>\n",
       "      <td>город москва, абельмановская улица, дом 6</td>\n",
       "      <td>95</td>\n",
       "      <td>абельмановская улица</td>\n",
       "    </tr>\n",
       "    <tr>\n",
       "      <th>3</th>\n",
       "      <td>21894</td>\n",
       "      <td>пиццетория</td>\n",
       "      <td>да</td>\n",
       "      <td>кафе</td>\n",
       "      <td>город москва, абрамцевская улица, дом 1</td>\n",
       "      <td>40</td>\n",
       "      <td>абрамцевская улица</td>\n",
       "    </tr>\n",
       "    <tr>\n",
       "      <th>4</th>\n",
       "      <td>119365</td>\n",
       "      <td>кафе «вишневая метель»</td>\n",
       "      <td>нет</td>\n",
       "      <td>кафе</td>\n",
       "      <td>город москва, абрамцевская улица, дом 9, корпус 1</td>\n",
       "      <td>50</td>\n",
       "      <td>абрамцевская улица</td>\n",
       "    </tr>\n",
       "  </tbody>\n",
       "</table>\n",
       "</div>"
      ],
      "text/plain": [
       "       id             object_name chain object_type  \\\n",
       "0  151635                 сметана   нет        кафе   \n",
       "1   77874                  родник   нет        кафе   \n",
       "2   24309         кафе «академия»   нет        кафе   \n",
       "3   21894              пиццетория    да        кафе   \n",
       "4  119365  кафе «вишневая метель»   нет        кафе   \n",
       "\n",
       "                                             address  number  \\\n",
       "0         город москва, улица егора абакумова, дом 9      48   \n",
       "1  город москва, улица талалихина, дом 2/1, корпус 1      35   \n",
       "2          город москва, абельмановская улица, дом 6      95   \n",
       "3            город москва, абрамцевская улица, дом 1      40   \n",
       "4  город москва, абрамцевская улица, дом 9, корпус 1      50   \n",
       "\n",
       "             street_name  \n",
       "0  улица егора абакумова  \n",
       "1       улица талалихина  \n",
       "2   абельмановская улица  \n",
       "3     абрамцевская улица  \n",
       "4     абрамцевская улица  "
      ]
     },
     "execution_count": 20,
     "metadata": {},
     "output_type": "execute_result"
    }
   ],
   "source": [
    "data.head()"
   ]
  },
  {
   "cell_type": "markdown",
   "metadata": {},
   "source": [
    "7) Построим график топ-10 улиц по количеству объектов общественного питания. Воспользуемся внешней информацией и ответим на вопрос — в каких районах Москвы находятся эти улицы?"
   ]
  },
  {
   "cell_type": "code",
   "execution_count": 21,
   "metadata": {},
   "outputs": [
    {
     "data": {
      "text/html": [
       "<div>\n",
       "<style scoped>\n",
       "    .dataframe tbody tr th:only-of-type {\n",
       "        vertical-align: middle;\n",
       "    }\n",
       "\n",
       "    .dataframe tbody tr th {\n",
       "        vertical-align: top;\n",
       "    }\n",
       "\n",
       "    .dataframe thead th {\n",
       "        text-align: right;\n",
       "    }\n",
       "</style>\n",
       "<table border=\"1\" class=\"dataframe\">\n",
       "  <thead>\n",
       "    <tr style=\"text-align: right;\">\n",
       "      <th></th>\n",
       "      <th>street_name</th>\n",
       "      <th>id</th>\n",
       "    </tr>\n",
       "  </thead>\n",
       "  <tbody>\n",
       "    <tr>\n",
       "      <th>1404</th>\n",
       "      <td>проспект мира</td>\n",
       "      <td>204</td>\n",
       "    </tr>\n",
       "    <tr>\n",
       "      <th>1408</th>\n",
       "      <td>профсоюзная улица</td>\n",
       "      <td>182</td>\n",
       "    </tr>\n",
       "    <tr>\n",
       "      <th>864</th>\n",
       "      <td>ленинградский проспект</td>\n",
       "      <td>170</td>\n",
       "    </tr>\n",
       "    <tr>\n",
       "      <th>1359</th>\n",
       "      <td>пресненская набережная</td>\n",
       "      <td>167</td>\n",
       "    </tr>\n",
       "    <tr>\n",
       "      <th>443</th>\n",
       "      <td>варшавское шоссе</td>\n",
       "      <td>155</td>\n",
       "    </tr>\n",
       "    <tr>\n",
       "      <th>868</th>\n",
       "      <td>ленинский проспект</td>\n",
       "      <td>147</td>\n",
       "    </tr>\n",
       "    <tr>\n",
       "      <th>1400</th>\n",
       "      <td>проспект вернадского</td>\n",
       "      <td>131</td>\n",
       "    </tr>\n",
       "    <tr>\n",
       "      <th>855</th>\n",
       "      <td>кутузовский проспект</td>\n",
       "      <td>114</td>\n",
       "    </tr>\n",
       "    <tr>\n",
       "      <th>769</th>\n",
       "      <td>каширское шоссе</td>\n",
       "      <td>103</td>\n",
       "    </tr>\n",
       "    <tr>\n",
       "      <th>782</th>\n",
       "      <td>кировоградская улица</td>\n",
       "      <td>102</td>\n",
       "    </tr>\n",
       "  </tbody>\n",
       "</table>\n",
       "</div>"
      ],
      "text/plain": [
       "                 street_name   id\n",
       "1404           проспект мира  204\n",
       "1408       профсоюзная улица  182\n",
       "864   ленинградский проспект  170\n",
       "1359  пресненская набережная  167\n",
       "443         варшавское шоссе  155\n",
       "868       ленинский проспект  147\n",
       "1400    проспект вернадского  131\n",
       "855     кутузовский проспект  114\n",
       "769          каширское шоссе  103\n",
       "782     кировоградская улица  102"
      ]
     },
     "execution_count": 21,
     "metadata": {},
     "output_type": "execute_result"
    }
   ],
   "source": [
    "#  группируем данные\n",
    "data_type = (data.groupby('street_name', as_index=False)\n",
    "             .agg({'id': 'count'})\n",
    "             .sort_values(by='id', ascending=False))\n",
    "top_10 = data_type.head(10)\n",
    "top_10"
   ]
  },
  {
   "cell_type": "code",
   "execution_count": 22,
   "metadata": {},
   "outputs": [
    {
     "data": {
      "text/plain": [
       "Text(0, 0.5, 'Количество заведений')"
      ]
     },
     "execution_count": 22,
     "metadata": {},
     "output_type": "execute_result"
    },
    {
     "data": {
      "image/png": "[encoded data removed]",
      "text/plain": [
       "<Figure size 1080x504 with 1 Axes>"
      ]
     },
     "metadata": {
      "needs_background": "light"
     },
     "output_type": "display_data"
    }
   ],
   "source": [
    "#  cтроим график\n",
    "plt.figure(figsize=(15, 7))\n",
    "plt.xticks(rotation = 45)\n",
    "sns.barplot(x='street_name', y='id', data=top_10)\n",
    "plt.xlabel('Улица')\n",
    "plt.ylabel('Количество заведений')"
   ]
  },
  {
   "cell_type": "markdown",
   "metadata": {},
   "source": [
    "***Вывод:***\n",
    "\n",
    "В топ-10 попали улицы находящиеся как в центральных районах Москвы, так и ближе к окраинам:\n",
    "\n",
    "* Проспект Мира: Мещанский, Марьина Роща, Алексеевский, Останкинский, Свиблово, Ростокино\n",
    "* Профсоюзная улица: Академический, Коньково, Обручевский, Тёплый Стан, Черёмушки, Ясенево\n",
    "* Ленинградский проспект: Беговой, Аэропорт, Сокол, Хорошёвский\n",
    "* Пресненская набережная: Пресненский\n",
    "* Варшавское шоссе: Донской, Нагатино-Садовники, Нагорный\n",
    "* Ленинский проспект: Гагаринский и Донской\n",
    "* Проспект Вернадского: Проспект Вернадского\n",
    "* Кутузовский проспект: Дорогомилово, Фили-Давыдково\n",
    "* Каширское шоссе: Нагатино-Садовники и Нагорный\n",
    "* Ходынский бульвар: Хорошёвский\n",
    "\n",
    "8) Найдем число улиц с одним объектом общественного питания. Воспользуемся внешней информацией и ответим на вопрос — в каких районах Москвы находятся эти улицы?"
   ]
  },
  {
   "cell_type": "code",
   "execution_count": 23,
   "metadata": {},
   "outputs": [
    {
     "data": {
      "text/html": [
       "<div>\n",
       "<style scoped>\n",
       "    .dataframe tbody tr th:only-of-type {\n",
       "        vertical-align: middle;\n",
       "    }\n",
       "\n",
       "    .dataframe tbody tr th {\n",
       "        vertical-align: top;\n",
       "    }\n",
       "\n",
       "    .dataframe thead th {\n",
       "        text-align: right;\n",
       "    }\n",
       "</style>\n",
       "<table border=\"1\" class=\"dataframe\">\n",
       "  <thead>\n",
       "    <tr style=\"text-align: right;\">\n",
       "      <th></th>\n",
       "      <th>street_name</th>\n",
       "      <th>id</th>\n",
       "    </tr>\n",
       "  </thead>\n",
       "  <tbody>\n",
       "    <tr>\n",
       "      <th>1649</th>\n",
       "      <td>угрешская улица, владение 31, строение</td>\n",
       "      <td>1</td>\n",
       "    </tr>\n",
       "    <tr>\n",
       "      <th>2186</th>\n",
       "      <td>челюскинская улица</td>\n",
       "      <td>1</td>\n",
       "    </tr>\n",
       "    <tr>\n",
       "      <th>1892</th>\n",
       "      <td>улица ленинская слобода, владение 26, строение</td>\n",
       "      <td>1</td>\n",
       "    </tr>\n",
       "    <tr>\n",
       "      <th>2107</th>\n",
       "      <td>улица фонвизина</td>\n",
       "      <td>1</td>\n",
       "    </tr>\n",
       "    <tr>\n",
       "      <th>1850</th>\n",
       "      <td>улица клочкова</td>\n",
       "      <td>1</td>\n",
       "    </tr>\n",
       "    <tr>\n",
       "      <th>...</th>\n",
       "      <td>...</td>\n",
       "      <td>...</td>\n",
       "    </tr>\n",
       "    <tr>\n",
       "      <th>1115</th>\n",
       "      <td>ореховый бульвар, владение 3</td>\n",
       "      <td>1</td>\n",
       "    </tr>\n",
       "    <tr>\n",
       "      <th>1114</th>\n",
       "      <td>ореховый бульвар, владение 26, корпус</td>\n",
       "      <td>1</td>\n",
       "    </tr>\n",
       "    <tr>\n",
       "      <th>1112</th>\n",
       "      <td>ореховый бульвар, владение 1</td>\n",
       "      <td>1</td>\n",
       "    </tr>\n",
       "    <tr>\n",
       "      <th>1110</th>\n",
       "      <td>орехово-зуевский проезд</td>\n",
       "      <td>1</td>\n",
       "    </tr>\n",
       "    <tr>\n",
       "      <th>2262</th>\n",
       "      <td>яхромская улица</td>\n",
       "      <td>1</td>\n",
       "    </tr>\n",
       "  </tbody>\n",
       "</table>\n",
       "<p>809 rows × 2 columns</p>\n",
       "</div>"
      ],
      "text/plain": [
       "                                         street_name  id\n",
       "1649          угрешская улица, владение 31, строение   1\n",
       "2186                              челюскинская улица   1\n",
       "1892  улица ленинская слобода, владение 26, строение   1\n",
       "2107                                 улица фонвизина   1\n",
       "1850                                  улица клочкова   1\n",
       "...                                              ...  ..\n",
       "1115                    ореховый бульвар, владение 3   1\n",
       "1114           ореховый бульвар, владение 26, корпус   1\n",
       "1112                    ореховый бульвар, владение 1   1\n",
       "1110                         орехово-зуевский проезд   1\n",
       "2262                                 яхромская улица   1\n",
       "\n",
       "[809 rows x 2 columns]"
      ]
     },
     "execution_count": 23,
     "metadata": {},
     "output_type": "execute_result"
    }
   ],
   "source": [
    "data_type = data_type[data_type['id'] == 1]\n",
    "data_type"
   ]
  },
  {
   "cell_type": "code",
   "execution_count": 24,
   "metadata": {},
   "outputs": [
    {
     "data": {
      "text/html": [
       "<div>\n",
       "<style scoped>\n",
       "    .dataframe tbody tr th:only-of-type {\n",
       "        vertical-align: middle;\n",
       "    }\n",
       "\n",
       "    .dataframe tbody tr th {\n",
       "        vertical-align: top;\n",
       "    }\n",
       "\n",
       "    .dataframe thead th {\n",
       "        text-align: right;\n",
       "    }\n",
       "</style>\n",
       "<table border=\"1\" class=\"dataframe\">\n",
       "  <thead>\n",
       "    <tr style=\"text-align: right;\">\n",
       "      <th></th>\n",
       "      <th>streetname</th>\n",
       "      <th>areaid</th>\n",
       "      <th>okrug</th>\n",
       "      <th>area</th>\n",
       "    </tr>\n",
       "  </thead>\n",
       "  <tbody>\n",
       "    <tr>\n",
       "      <th>0</th>\n",
       "      <td>Выставочный переулок</td>\n",
       "      <td>17</td>\n",
       "      <td>ЦАО</td>\n",
       "      <td>Пресненский район</td>\n",
       "    </tr>\n",
       "    <tr>\n",
       "      <th>1</th>\n",
       "      <td>улица Гашека</td>\n",
       "      <td>17</td>\n",
       "      <td>ЦАО</td>\n",
       "      <td>Пресненский район</td>\n",
       "    </tr>\n",
       "    <tr>\n",
       "      <th>2</th>\n",
       "      <td>Большая Никитская улица</td>\n",
       "      <td>17</td>\n",
       "      <td>ЦАО</td>\n",
       "      <td>Пресненский район</td>\n",
       "    </tr>\n",
       "    <tr>\n",
       "      <th>3</th>\n",
       "      <td>Глубокий переулок</td>\n",
       "      <td>17</td>\n",
       "      <td>ЦАО</td>\n",
       "      <td>Пресненский район</td>\n",
       "    </tr>\n",
       "    <tr>\n",
       "      <th>4</th>\n",
       "      <td>Большой Гнездниковский переулок</td>\n",
       "      <td>17</td>\n",
       "      <td>ЦАО</td>\n",
       "      <td>Пресненский район</td>\n",
       "    </tr>\n",
       "  </tbody>\n",
       "</table>\n",
       "</div>"
      ],
      "text/plain": [
       "                        streetname  areaid okrug               area\n",
       "0             Выставочный переулок      17   ЦАО  Пресненский район\n",
       "1                     улица Гашека      17   ЦАО  Пресненский район\n",
       "2          Большая Никитская улица      17   ЦАО  Пресненский район\n",
       "3                Глубокий переулок      17   ЦАО  Пресненский район\n",
       "4  Большой Гнездниковский переулок      17   ЦАО  Пресненский район"
      ]
     },
     "execution_count": 24,
     "metadata": {},
     "output_type": "execute_result"
    }
   ],
   "source": [
    "from io import BytesIO\n",
    "import requests\n",
    "spreadsheet_id = '13nJWXY_oZXKCqnbZ1H8DU8tGiqQaMnZaKdR14cOVy4o'\n",
    "file_name = 'https://docs.google.com/spreadsheets/d/{}/export?format=csv'.format(spreadsheet_id)\n",
    "r = requests.get(file_name)\n",
    "dt = pd.read_csv(BytesIO(r.content))\n",
    "dt.head()"
   ]
  },
  {
   "cell_type": "code",
   "execution_count": 25,
   "metadata": {},
   "outputs": [
    {
     "data": {
      "text/html": [
       "<div>\n",
       "<style scoped>\n",
       "    .dataframe tbody tr th:only-of-type {\n",
       "        vertical-align: middle;\n",
       "    }\n",
       "\n",
       "    .dataframe tbody tr th {\n",
       "        vertical-align: top;\n",
       "    }\n",
       "\n",
       "    .dataframe thead th {\n",
       "        text-align: right;\n",
       "    }\n",
       "</style>\n",
       "<table border=\"1\" class=\"dataframe\">\n",
       "  <thead>\n",
       "    <tr style=\"text-align: right;\">\n",
       "      <th></th>\n",
       "      <th>street_name</th>\n",
       "      <th>area</th>\n",
       "    </tr>\n",
       "  </thead>\n",
       "  <tbody>\n",
       "    <tr>\n",
       "      <th>0</th>\n",
       "      <td>выставочный переулок</td>\n",
       "      <td>Пресненский район</td>\n",
       "    </tr>\n",
       "    <tr>\n",
       "      <th>1</th>\n",
       "      <td>улица гашека</td>\n",
       "      <td>Пресненский район</td>\n",
       "    </tr>\n",
       "    <tr>\n",
       "      <th>2</th>\n",
       "      <td>большая никитская улица</td>\n",
       "      <td>Пресненский район</td>\n",
       "    </tr>\n",
       "    <tr>\n",
       "      <th>3</th>\n",
       "      <td>глубокий переулок</td>\n",
       "      <td>Пресненский район</td>\n",
       "    </tr>\n",
       "    <tr>\n",
       "      <th>4</th>\n",
       "      <td>большой гнездниковский переулок</td>\n",
       "      <td>Пресненский район</td>\n",
       "    </tr>\n",
       "  </tbody>\n",
       "</table>\n",
       "</div>"
      ],
      "text/plain": [
       "                       street_name               area\n",
       "0             выставочный переулок  Пресненский район\n",
       "1                     улица гашека  Пресненский район\n",
       "2          большая никитская улица  Пресненский район\n",
       "3                глубокий переулок  Пресненский район\n",
       "4  большой гнездниковский переулок  Пресненский район"
      ]
     },
     "execution_count": 25,
     "metadata": {},
     "output_type": "execute_result"
    }
   ],
   "source": [
    "dt['streetname'] = dt['streetname'].str.lower()\n",
    "dt = dt[['streetname', 'area']]\n",
    "dt.columns = ['street_name', 'area']\n",
    "dt.head()"
   ]
  },
  {
   "cell_type": "code",
   "execution_count": 26,
   "metadata": {
    "scrolled": false
   },
   "outputs": [
    {
     "data": {
      "text/html": [
       "<div>\n",
       "<style scoped>\n",
       "    .dataframe tbody tr th:only-of-type {\n",
       "        vertical-align: middle;\n",
       "    }\n",
       "\n",
       "    .dataframe tbody tr th {\n",
       "        vertical-align: top;\n",
       "    }\n",
       "\n",
       "    .dataframe thead th {\n",
       "        text-align: right;\n",
       "    }\n",
       "</style>\n",
       "<table border=\"1\" class=\"dataframe\">\n",
       "  <thead>\n",
       "    <tr style=\"text-align: right;\">\n",
       "      <th></th>\n",
       "      <th>street_name</th>\n",
       "      <th>id</th>\n",
       "      <th>area</th>\n",
       "    </tr>\n",
       "  </thead>\n",
       "  <tbody>\n",
       "    <tr>\n",
       "      <th>0</th>\n",
       "      <td>угрешская улица, владение 31, строение</td>\n",
       "      <td>1</td>\n",
       "      <td>NaN</td>\n",
       "    </tr>\n",
       "    <tr>\n",
       "      <th>1</th>\n",
       "      <td>челюскинская улица</td>\n",
       "      <td>1</td>\n",
       "      <td>Лосиноостровский район</td>\n",
       "    </tr>\n",
       "    <tr>\n",
       "      <th>2</th>\n",
       "      <td>улица ленинская слобода, владение 26, строение</td>\n",
       "      <td>1</td>\n",
       "      <td>NaN</td>\n",
       "    </tr>\n",
       "    <tr>\n",
       "      <th>3</th>\n",
       "      <td>улица фонвизина</td>\n",
       "      <td>1</td>\n",
       "      <td>Бутырский район</td>\n",
       "    </tr>\n",
       "    <tr>\n",
       "      <th>4</th>\n",
       "      <td>улица клочкова</td>\n",
       "      <td>1</td>\n",
       "      <td>Район Фили-Давыдково</td>\n",
       "    </tr>\n",
       "    <tr>\n",
       "      <th>...</th>\n",
       "      <td>...</td>\n",
       "      <td>...</td>\n",
       "      <td>...</td>\n",
       "    </tr>\n",
       "    <tr>\n",
       "      <th>847</th>\n",
       "      <td>ореховый бульвар, владение 3</td>\n",
       "      <td>1</td>\n",
       "      <td>NaN</td>\n",
       "    </tr>\n",
       "    <tr>\n",
       "      <th>848</th>\n",
       "      <td>ореховый бульвар, владение 26, корпус</td>\n",
       "      <td>1</td>\n",
       "      <td>NaN</td>\n",
       "    </tr>\n",
       "    <tr>\n",
       "      <th>849</th>\n",
       "      <td>ореховый бульвар, владение 1</td>\n",
       "      <td>1</td>\n",
       "      <td>NaN</td>\n",
       "    </tr>\n",
       "    <tr>\n",
       "      <th>850</th>\n",
       "      <td>орехово-зуевский проезд</td>\n",
       "      <td>1</td>\n",
       "      <td>Нижегородский район</td>\n",
       "    </tr>\n",
       "    <tr>\n",
       "      <th>851</th>\n",
       "      <td>яхромская улица</td>\n",
       "      <td>1</td>\n",
       "      <td>Дмитровский район</td>\n",
       "    </tr>\n",
       "  </tbody>\n",
       "</table>\n",
       "<p>852 rows × 3 columns</p>\n",
       "</div>"
      ],
      "text/plain": [
       "                                        street_name  id  \\\n",
       "0            угрешская улица, владение 31, строение   1   \n",
       "1                                челюскинская улица   1   \n",
       "2    улица ленинская слобода, владение 26, строение   1   \n",
       "3                                   улица фонвизина   1   \n",
       "4                                    улица клочкова   1   \n",
       "..                                              ...  ..   \n",
       "847                    ореховый бульвар, владение 3   1   \n",
       "848           ореховый бульвар, владение 26, корпус   1   \n",
       "849                    ореховый бульвар, владение 1   1   \n",
       "850                         орехово-зуевский проезд   1   \n",
       "851                                 яхромская улица   1   \n",
       "\n",
       "                       area  \n",
       "0                       NaN  \n",
       "1    Лосиноостровский район  \n",
       "2                       NaN  \n",
       "3           Бутырский район  \n",
       "4      Район Фили-Давыдково  \n",
       "..                      ...  \n",
       "847                     NaN  \n",
       "848                     NaN  \n",
       "849                     NaN  \n",
       "850     Нижегородский район  \n",
       "851       Дмитровский район  \n",
       "\n",
       "[852 rows x 3 columns]"
      ]
     },
     "execution_count": 26,
     "metadata": {},
     "output_type": "execute_result"
    }
   ],
   "source": [
    "data_type = data_type.merge(dt, on='street_name', how='left')\n",
    "data_type = data_type[data_type['id'] == 1]\n",
    "data_type"
   ]
  },
  {
   "cell_type": "code",
   "execution_count": 27,
   "metadata": {},
   "outputs": [],
   "source": [
    "data_type1 = (data_type.groupby('area', as_index=False)\n",
    "             .agg({'id': 'count'})\n",
    "             .sort_values(by='id', ascending=False))\n",
    "data_type1 = data_type1.reset_index(drop=True)\n",
    "data_type1 = data_type1.head(10)"
   ]
  },
  {
   "cell_type": "code",
   "execution_count": 28,
   "metadata": {},
   "outputs": [
    {
     "data": {
      "text/plain": [
       "Text(0, 0.5, 'Количество заведений')"
      ]
     },
     "execution_count": 28,
     "metadata": {},
     "output_type": "execute_result"
    },
    {
     "data": {
      "image/png": "[encoded data removed]",
      "text/plain": [
       "<Figure size 1080x504 with 1 Axes>"
      ]
     },
     "metadata": {
      "needs_background": "light"
     },
     "output_type": "display_data"
    }
   ],
   "source": [
    "plt.figure(figsize=(15, 7))\n",
    "plt.xticks(rotation = 45)\n",
    "sns.barplot(x='area', y='id', data=data_type1)\n",
    "plt.xlabel('Улица')\n",
    "plt.ylabel('Количество заведений')"
   ]
  },
  {
   "cell_type": "markdown",
   "metadata": {},
   "source": [
    "***Вывод:***\n",
    "\n",
    "Больше всего улиц с одним заведением в Таганском районе, районе Хамовники и Басманном районе."
   ]
  },
  {
   "cell_type": "markdown",
   "metadata": {},
   "source": [
    "# Шаг №3. Общий вывод <a id=\"step3\"></a>"
   ]
  },
  {
   "cell_type": "markdown",
   "metadata": {},
   "source": [
    "* В Москве больше всего кафе, столовые, рестораны и предприятия быстрого обслуживания в топе, остальных видов объектов общественного питания значительно меньше.\n",
    "\n",
    "* По количеству преобладают несетевые заведения.\n",
    "\n",
    "* Сетевое распространение характерно для предприятий быстрого обслуживания, магазинов, ресторанов и кафе. И совсем не характерно для столовых, буфетов и баров.\n",
    "\n",
    "* Для сетевых заведений характерно много заведений с небольшим количеством мест.\n",
    "\n",
    "* Самое большое среднее количество посадочных мест в столовых и ресторанах. Меньше всего, как ожидалось, в отделе кулинарии.\n",
    "\n",
    "* Больше всего улиц с одним заведением в Таганском районе, районе Хамовники и Басманном районе.\n"
   ]
  },
  {
   "cell_type": "markdown",
   "metadata": {},
   "source": [
    "***Рекомендации:***\n",
    "\n",
    "1) Так как в Москве преобладают кафе, то скорее всего, они пользуются спросом, поэтому при выборе типа заведения рекомендую остановиться именно на нем. \n",
    "\n",
    "2) Количество мест стоило бы сделать средним - около 40. \n",
    "\n",
    "3) В качестве района, на мой взгляд, хорошо подойдут центральные районы - например, Таганский или Мещанский."
   ]
  },
  {
   "cell_type": "markdown",
   "metadata": {},
   "source": [
    "Презентация: <https://drive.google.com/file/d/1MS5wQlYYI0H7FhvDDJcqLcc7K8m8vSkL/view?usp=sharing>"
   ]
  }
 ],
 "metadata": {
  "ExecuteTimeLog": [
   {
    "duration": 667,
    "start_time": "2022-05-23T09:55:31.273Z"
   },
   {
    "duration": 112,
    "start_time": "2022-05-23T09:55:47.050Z"
   },
   {
    "duration": 79,
    "start_time": "2022-05-23T09:56:13.761Z"
   },
   {
    "duration": 70,
    "start_time": "2022-05-23T10:00:45.018Z"
   },
   {
    "duration": 13,
    "start_time": "2022-05-23T10:00:53.091Z"
   },
   {
    "duration": 27,
    "start_time": "2022-05-23T10:07:48.975Z"
   },
   {
    "duration": 17,
    "start_time": "2022-05-23T10:07:55.006Z"
   },
   {
    "duration": 15,
    "start_time": "2022-05-23T10:11:30.780Z"
   },
   {
    "duration": 17,
    "start_time": "2022-05-23T10:12:12.013Z"
   },
   {
    "duration": 21,
    "start_time": "2022-05-23T10:12:48.313Z"
   },
   {
    "duration": 20,
    "start_time": "2022-05-23T10:13:07.492Z"
   },
   {
    "duration": 35,
    "start_time": "2022-05-23T10:13:18.050Z"
   },
   {
    "duration": 22,
    "start_time": "2022-05-23T10:14:36.854Z"
   },
   {
    "duration": 32,
    "start_time": "2022-05-23T10:14:52.274Z"
   },
   {
    "duration": 38,
    "start_time": "2022-05-23T10:14:58.768Z"
   },
   {
    "duration": 2,
    "start_time": "2022-05-23T10:15:40.873Z"
   },
   {
    "duration": 66,
    "start_time": "2022-05-23T10:15:41.048Z"
   },
   {
    "duration": 17,
    "start_time": "2022-05-23T10:15:41.394Z"
   },
   {
    "duration": 2,
    "start_time": "2022-05-23T10:17:31.061Z"
   },
   {
    "duration": 68,
    "start_time": "2022-05-23T10:17:31.193Z"
   },
   {
    "duration": 17,
    "start_time": "2022-05-23T10:17:31.492Z"
   },
   {
    "duration": 1243,
    "start_time": "2022-05-23T10:30:18.437Z"
   },
   {
    "duration": 44,
    "start_time": "2022-05-23T10:31:39.645Z"
   },
   {
    "duration": 24,
    "start_time": "2022-05-23T10:31:43.907Z"
   },
   {
    "duration": 9,
    "start_time": "2022-05-23T10:33:45.105Z"
   },
   {
    "duration": 8,
    "start_time": "2022-05-23T10:34:14.608Z"
   },
   {
    "duration": 398,
    "start_time": "2022-05-23T10:34:18.734Z"
   },
   {
    "duration": 14,
    "start_time": "2022-05-23T10:35:00.854Z"
   },
   {
    "duration": 14,
    "start_time": "2022-05-23T10:36:13.501Z"
   },
   {
    "duration": 9,
    "start_time": "2022-05-23T10:36:40.470Z"
   },
   {
    "duration": 15,
    "start_time": "2022-05-23T10:36:48.877Z"
   },
   {
    "duration": 188,
    "start_time": "2022-05-23T10:36:54.753Z"
   },
   {
    "duration": 265,
    "start_time": "2022-05-23T10:39:33.838Z"
   },
   {
    "duration": 9,
    "start_time": "2022-05-23T10:39:39.155Z"
   },
   {
    "duration": 10,
    "start_time": "2022-05-23T10:39:46.365Z"
   },
   {
    "duration": 6,
    "start_time": "2022-05-23T10:39:59.718Z"
   },
   {
    "duration": 10,
    "start_time": "2022-05-23T10:40:08.733Z"
   },
   {
    "duration": 17,
    "start_time": "2022-05-23T10:40:15.651Z"
   },
   {
    "duration": 11,
    "start_time": "2022-05-23T10:40:37.038Z"
   },
   {
    "duration": 15,
    "start_time": "2022-05-23T10:41:14.225Z"
   },
   {
    "duration": 142,
    "start_time": "2022-05-23T10:42:15.352Z"
   },
   {
    "duration": 139,
    "start_time": "2022-05-23T10:43:48.502Z"
   },
   {
    "duration": 134,
    "start_time": "2022-05-23T10:45:03.946Z"
   },
   {
    "duration": 109,
    "start_time": "2022-05-23T10:45:12.665Z"
   },
   {
    "duration": 152,
    "start_time": "2022-05-23T10:46:40.786Z"
   },
   {
    "duration": 1347,
    "start_time": "2022-05-24T10:47:07.516Z"
   },
   {
    "duration": 139,
    "start_time": "2022-05-24T10:47:08.865Z"
   },
   {
    "duration": 18,
    "start_time": "2022-05-24T10:47:09.006Z"
   },
   {
    "duration": 176,
    "start_time": "2022-05-24T10:47:09.026Z"
   },
   {
    "duration": 124,
    "start_time": "2022-05-24T10:49:33.632Z"
   },
   {
    "duration": 2,
    "start_time": "2022-05-24T10:50:00.851Z"
   },
   {
    "duration": 241,
    "start_time": "2022-05-24T10:50:04.563Z"
   },
   {
    "duration": 126,
    "start_time": "2022-05-24T10:51:08.709Z"
   },
   {
    "duration": 174,
    "start_time": "2022-05-24T10:52:54.945Z"
   },
   {
    "duration": 152,
    "start_time": "2022-05-24T10:52:57.980Z"
   },
   {
    "duration": 19,
    "start_time": "2022-05-24T10:54:22.018Z"
   },
   {
    "duration": 213,
    "start_time": "2022-05-24T10:54:31.001Z"
   },
   {
    "duration": 219,
    "start_time": "2022-05-24T10:57:02.259Z"
   },
   {
    "duration": 193,
    "start_time": "2022-05-24T10:58:13.536Z"
   },
   {
    "duration": 214,
    "start_time": "2022-05-24T10:58:45.675Z"
   },
   {
    "duration": 227,
    "start_time": "2022-05-24T10:59:11.934Z"
   },
   {
    "duration": 202,
    "start_time": "2022-05-24T10:59:33.170Z"
   },
   {
    "duration": 200,
    "start_time": "2022-05-24T10:59:47.881Z"
   },
   {
    "duration": 314,
    "start_time": "2022-05-24T11:00:05.065Z"
   },
   {
    "duration": 217,
    "start_time": "2022-05-24T11:01:24.993Z"
   },
   {
    "duration": 204,
    "start_time": "2022-05-24T11:01:37.858Z"
   },
   {
    "duration": 208,
    "start_time": "2022-05-24T11:01:49.569Z"
   },
   {
    "duration": 207,
    "start_time": "2022-05-24T11:01:54.349Z"
   },
   {
    "duration": 208,
    "start_time": "2022-05-24T11:01:59.463Z"
   },
   {
    "duration": 223,
    "start_time": "2022-05-24T11:02:04.012Z"
   },
   {
    "duration": 224,
    "start_time": "2022-05-24T11:02:28.204Z"
   },
   {
    "duration": 146,
    "start_time": "2022-05-24T11:04:48.806Z"
   },
   {
    "duration": 138,
    "start_time": "2022-05-24T11:05:15.401Z"
   },
   {
    "duration": 197,
    "start_time": "2022-05-24T11:05:19.731Z"
   },
   {
    "duration": 12,
    "start_time": "2022-05-24T11:05:45.416Z"
   },
   {
    "duration": 13,
    "start_time": "2022-05-24T11:06:24.711Z"
   },
   {
    "duration": 291,
    "start_time": "2022-05-24T11:06:33.280Z"
   },
   {
    "duration": 192,
    "start_time": "2022-05-24T11:08:32.345Z"
   },
   {
    "duration": 3,
    "start_time": "2022-05-24T11:15:13.755Z"
   },
   {
    "duration": 4,
    "start_time": "2022-05-24T11:16:07.101Z"
   },
   {
    "duration": 9,
    "start_time": "2022-05-24T11:16:56.515Z"
   },
   {
    "duration": 17,
    "start_time": "2022-05-24T11:17:06.807Z"
   },
   {
    "duration": 3,
    "start_time": "2022-05-24T11:17:20.560Z"
   },
   {
    "duration": 21,
    "start_time": "2022-05-24T11:17:21.224Z"
   },
   {
    "duration": 51,
    "start_time": "2022-05-24T11:17:48.607Z"
   },
   {
    "duration": 18,
    "start_time": "2022-05-24T11:17:48.862Z"
   },
   {
    "duration": 185,
    "start_time": "2022-05-24T11:18:10.453Z"
   },
   {
    "duration": 19,
    "start_time": "2022-05-24T11:18:11.008Z"
   },
   {
    "duration": 60,
    "start_time": "2022-05-24T11:18:18.674Z"
   },
   {
    "duration": 18,
    "start_time": "2022-05-24T11:18:19.270Z"
   },
   {
    "duration": 3,
    "start_time": "2022-05-24T11:18:32.671Z"
   },
   {
    "duration": 140,
    "start_time": "2022-05-24T11:18:33.190Z"
   },
   {
    "duration": 10,
    "start_time": "2022-05-24T11:18:44.895Z"
   },
   {
    "duration": 13,
    "start_time": "2022-05-24T11:20:53.826Z"
   },
   {
    "duration": 11,
    "start_time": "2022-05-24T11:21:24.665Z"
   },
   {
    "duration": 3,
    "start_time": "2022-05-24T11:22:21.460Z"
   },
   {
    "duration": 3,
    "start_time": "2022-05-24T11:22:47.203Z"
   },
   {
    "duration": 121,
    "start_time": "2022-05-24T11:23:07.028Z"
   },
   {
    "duration": 6,
    "start_time": "2022-05-24T11:24:14.754Z"
   },
   {
    "duration": 127,
    "start_time": "2022-05-24T11:24:24.439Z"
   },
   {
    "duration": 6,
    "start_time": "2022-05-24T11:24:44.417Z"
   },
   {
    "duration": 128,
    "start_time": "2022-05-24T11:24:56.130Z"
   },
   {
    "duration": 174,
    "start_time": "2022-05-24T11:25:30.255Z"
   },
   {
    "duration": 12,
    "start_time": "2022-05-24T11:25:42.146Z"
   },
   {
    "duration": 8,
    "start_time": "2022-05-24T11:25:48.859Z"
   },
   {
    "duration": 227,
    "start_time": "2022-05-24T11:25:49.780Z"
   },
   {
    "duration": 208,
    "start_time": "2022-05-24T11:26:55.475Z"
   },
   {
    "duration": 136,
    "start_time": "2022-05-24T11:27:42.924Z"
   },
   {
    "duration": 141,
    "start_time": "2022-05-24T11:27:52.119Z"
   },
   {
    "duration": 118,
    "start_time": "2022-05-24T11:28:02.942Z"
   },
   {
    "duration": 114,
    "start_time": "2022-05-24T11:28:08.683Z"
   },
   {
    "duration": 105,
    "start_time": "2022-05-24T11:28:37.089Z"
   },
   {
    "duration": 284,
    "start_time": "2022-05-24T11:40:53.953Z"
   },
   {
    "duration": 16,
    "start_time": "2022-05-24T11:40:56.897Z"
   },
   {
    "duration": 16,
    "start_time": "2022-05-24T11:41:06.151Z"
   },
   {
    "duration": 5,
    "start_time": "2022-05-24T11:41:54.251Z"
   },
   {
    "duration": 17,
    "start_time": "2022-05-24T11:43:17.200Z"
   },
   {
    "duration": 15,
    "start_time": "2022-05-24T11:43:26.687Z"
   },
   {
    "duration": 12,
    "start_time": "2022-05-24T11:43:32.660Z"
   },
   {
    "duration": 9,
    "start_time": "2022-05-24T11:43:37.892Z"
   },
   {
    "duration": 200,
    "start_time": "2022-05-24T11:44:06.466Z"
   },
   {
    "duration": 200,
    "start_time": "2022-05-24T11:44:44.557Z"
   },
   {
    "duration": 206,
    "start_time": "2022-05-24T11:44:52.550Z"
   },
   {
    "duration": 197,
    "start_time": "2022-05-24T11:44:54.477Z"
   },
   {
    "duration": 15,
    "start_time": "2022-05-24T11:49:36.494Z"
   },
   {
    "duration": 9,
    "start_time": "2022-05-24T11:51:49.812Z"
   },
   {
    "duration": 12,
    "start_time": "2022-05-24T11:52:15.762Z"
   },
   {
    "duration": 11,
    "start_time": "2022-05-24T11:52:19.156Z"
   },
   {
    "duration": 11,
    "start_time": "2022-05-24T11:52:21.119Z"
   },
   {
    "duration": 12,
    "start_time": "2022-05-24T11:52:40.480Z"
   },
   {
    "duration": 115,
    "start_time": "2022-05-24T11:52:49.180Z"
   },
   {
    "duration": 13,
    "start_time": "2022-05-24T11:53:00.532Z"
   },
   {
    "duration": 2204,
    "start_time": "2022-05-24T11:53:04.158Z"
   },
   {
    "duration": 8,
    "start_time": "2022-05-24T11:53:20.334Z"
   },
   {
    "duration": 14,
    "start_time": "2022-05-24T11:53:46.255Z"
   },
   {
    "duration": 6,
    "start_time": "2022-05-24T11:54:50.454Z"
   },
   {
    "duration": 11,
    "start_time": "2022-05-24T11:54:54.761Z"
   },
   {
    "duration": 14,
    "start_time": "2022-05-24T11:55:33.811Z"
   },
   {
    "duration": 10,
    "start_time": "2022-05-24T11:55:57.416Z"
   },
   {
    "duration": 13,
    "start_time": "2022-05-24T11:57:03.336Z"
   },
   {
    "duration": 8,
    "start_time": "2022-05-24T11:57:21.056Z"
   },
   {
    "duration": 11,
    "start_time": "2022-05-24T11:59:21.785Z"
   },
   {
    "duration": 21,
    "start_time": "2022-05-24T11:59:25.180Z"
   },
   {
    "duration": 10,
    "start_time": "2022-05-24T11:59:29.555Z"
   },
   {
    "duration": 259,
    "start_time": "2022-05-24T11:59:31.025Z"
   },
   {
    "duration": 110,
    "start_time": "2022-05-24T11:59:31.665Z"
   },
   {
    "duration": 196,
    "start_time": "2022-05-24T11:59:32.034Z"
   },
   {
    "duration": 8,
    "start_time": "2022-05-24T11:59:32.385Z"
   },
   {
    "duration": 12,
    "start_time": "2022-05-24T12:00:15.186Z"
   },
   {
    "duration": 310,
    "start_time": "2022-05-24T12:00:16.497Z"
   },
   {
    "duration": 110,
    "start_time": "2022-05-24T12:00:17.105Z"
   },
   {
    "duration": 203,
    "start_time": "2022-05-24T12:00:17.801Z"
   },
   {
    "duration": 10,
    "start_time": "2022-05-24T12:00:24.053Z"
   },
   {
    "duration": 14,
    "start_time": "2022-05-24T12:00:56.852Z"
   },
   {
    "duration": 12,
    "start_time": "2022-05-24T12:02:16.892Z"
   },
   {
    "duration": 220,
    "start_time": "2022-05-24T12:02:59.477Z"
   },
   {
    "duration": 122,
    "start_time": "2022-05-24T12:03:05.929Z"
   },
   {
    "duration": 14168,
    "start_time": "2022-05-24T12:10:17.957Z"
   },
   {
    "duration": 120,
    "start_time": "2022-05-24T12:11:50.624Z"
   },
   {
    "duration": 120,
    "start_time": "2022-05-24T12:12:18.196Z"
   },
   {
    "duration": 112,
    "start_time": "2022-05-24T12:12:34.291Z"
   },
   {
    "duration": 160,
    "start_time": "2022-05-24T12:12:41.423Z"
   },
   {
    "duration": 12,
    "start_time": "2022-05-24T12:15:48.064Z"
   },
   {
    "duration": 3,
    "start_time": "2022-05-24T12:16:11.017Z"
   },
   {
    "duration": 9,
    "start_time": "2022-05-24T12:16:15.900Z"
   },
   {
    "duration": 7,
    "start_time": "2022-05-24T12:18:00.732Z"
   },
   {
    "duration": 6,
    "start_time": "2022-05-24T12:18:05.056Z"
   },
   {
    "duration": 8,
    "start_time": "2022-05-24T12:18:14.162Z"
   },
   {
    "duration": 15,
    "start_time": "2022-05-24T12:48:41.436Z"
   },
   {
    "duration": 8,
    "start_time": "2022-05-24T12:49:11.472Z"
   },
   {
    "duration": 8,
    "start_time": "2022-05-24T12:49:18.787Z"
   },
   {
    "duration": 5,
    "start_time": "2022-05-24T12:49:28.254Z"
   },
   {
    "duration": 9,
    "start_time": "2022-05-24T12:49:31.895Z"
   },
   {
    "duration": 7,
    "start_time": "2022-05-24T12:51:43.223Z"
   },
   {
    "duration": 15,
    "start_time": "2022-05-24T12:53:49.982Z"
   },
   {
    "duration": 211,
    "start_time": "2022-05-24T12:53:59.417Z"
   },
   {
    "duration": 1077,
    "start_time": "2022-05-24T12:54:38.127Z"
   },
   {
    "duration": 82,
    "start_time": "2022-05-24T12:54:39.206Z"
   },
   {
    "duration": 17,
    "start_time": "2022-05-24T12:54:39.290Z"
   },
   {
    "duration": 10,
    "start_time": "2022-05-24T12:54:39.309Z"
   },
   {
    "duration": 212,
    "start_time": "2022-05-24T12:54:39.320Z"
   },
   {
    "duration": 176,
    "start_time": "2022-05-24T12:54:39.534Z"
   },
   {
    "duration": 213,
    "start_time": "2022-05-24T12:54:39.712Z"
   },
   {
    "duration": 7,
    "start_time": "2022-05-24T12:54:39.927Z"
   },
   {
    "duration": 16,
    "start_time": "2022-05-24T12:54:39.935Z"
   },
   {
    "duration": 18,
    "start_time": "2022-05-24T12:54:57.443Z"
   },
   {
    "duration": 105,
    "start_time": "2022-05-24T12:55:54.262Z"
   },
   {
    "duration": 13,
    "start_time": "2022-05-24T12:56:17.270Z"
   },
   {
    "duration": 13,
    "start_time": "2022-05-24T12:56:23.836Z"
   },
   {
    "duration": 18,
    "start_time": "2022-05-24T12:56:36.797Z"
   },
   {
    "duration": 7,
    "start_time": "2022-05-24T12:57:48.512Z"
   },
   {
    "duration": 495,
    "start_time": "2022-05-24T12:58:00.715Z"
   },
   {
    "duration": 8,
    "start_time": "2022-05-24T12:58:10.294Z"
   },
   {
    "duration": 17,
    "start_time": "2022-05-24T12:58:11.530Z"
   },
   {
    "duration": 17,
    "start_time": "2022-05-24T12:59:05.627Z"
   },
   {
    "duration": 18,
    "start_time": "2022-05-24T12:59:15.736Z"
   },
   {
    "duration": 21,
    "start_time": "2022-05-24T12:59:39.292Z"
   },
   {
    "duration": 13,
    "start_time": "2022-05-24T13:02:11.208Z"
   },
   {
    "duration": 6,
    "start_time": "2022-05-24T13:02:19.529Z"
   },
   {
    "duration": 2,
    "start_time": "2022-05-24T13:02:42.591Z"
   },
   {
    "duration": 1161,
    "start_time": "2022-05-24T13:02:48.889Z"
   },
   {
    "duration": 83,
    "start_time": "2022-05-24T13:02:50.052Z"
   },
   {
    "duration": 17,
    "start_time": "2022-05-24T13:02:50.136Z"
   },
   {
    "duration": 9,
    "start_time": "2022-05-24T13:02:50.155Z"
   },
   {
    "duration": 232,
    "start_time": "2022-05-24T13:02:50.166Z"
   },
   {
    "duration": 202,
    "start_time": "2022-05-24T13:02:50.401Z"
   },
   {
    "duration": 236,
    "start_time": "2022-05-24T13:02:50.605Z"
   },
   {
    "duration": 8,
    "start_time": "2022-05-24T13:02:50.842Z"
   },
   {
    "duration": 6,
    "start_time": "2022-05-24T13:02:50.851Z"
   },
   {
    "duration": 9,
    "start_time": "2022-05-24T13:02:50.859Z"
   },
   {
    "duration": 112,
    "start_time": "2022-05-24T13:03:19.120Z"
   },
   {
    "duration": 9,
    "start_time": "2022-05-24T13:03:25.413Z"
   },
   {
    "duration": 1128,
    "start_time": "2022-05-24T13:03:42.885Z"
   },
   {
    "duration": 84,
    "start_time": "2022-05-24T13:03:44.014Z"
   },
   {
    "duration": 16,
    "start_time": "2022-05-24T13:03:44.100Z"
   },
   {
    "duration": 11,
    "start_time": "2022-05-24T13:03:44.118Z"
   },
   {
    "duration": 227,
    "start_time": "2022-05-24T13:03:44.130Z"
   },
   {
    "duration": 180,
    "start_time": "2022-05-24T13:03:44.358Z"
   },
   {
    "duration": 206,
    "start_time": "2022-05-24T13:03:44.540Z"
   },
   {
    "duration": 7,
    "start_time": "2022-05-24T13:03:44.748Z"
   },
   {
    "duration": 6,
    "start_time": "2022-05-24T13:03:44.756Z"
   },
   {
    "duration": 9,
    "start_time": "2022-05-24T13:03:44.763Z"
   },
   {
    "duration": 213,
    "start_time": "2022-05-24T13:04:04.000Z"
   },
   {
    "duration": 1134,
    "start_time": "2022-05-24T13:04:12.976Z"
   },
   {
    "duration": 87,
    "start_time": "2022-05-24T13:04:14.112Z"
   },
   {
    "duration": 18,
    "start_time": "2022-05-24T13:04:14.201Z"
   },
   {
    "duration": 11,
    "start_time": "2022-05-24T13:04:14.221Z"
   },
   {
    "duration": 218,
    "start_time": "2022-05-24T13:04:14.233Z"
   },
   {
    "duration": 179,
    "start_time": "2022-05-24T13:04:14.452Z"
   },
   {
    "duration": 202,
    "start_time": "2022-05-24T13:04:14.632Z"
   },
   {
    "duration": 6,
    "start_time": "2022-05-24T13:04:14.836Z"
   },
   {
    "duration": 16,
    "start_time": "2022-05-24T13:04:14.844Z"
   },
   {
    "duration": 121,
    "start_time": "2022-05-24T13:06:46.674Z"
   },
   {
    "duration": 11,
    "start_time": "2022-05-24T13:06:55.989Z"
   },
   {
    "duration": 39,
    "start_time": "2022-05-24T13:07:45.705Z"
   },
   {
    "duration": 13,
    "start_time": "2022-05-24T13:09:17.991Z"
   },
   {
    "duration": 22,
    "start_time": "2022-05-24T13:09:24.727Z"
   },
   {
    "duration": 17,
    "start_time": "2022-05-24T13:10:10.234Z"
   },
   {
    "duration": 19,
    "start_time": "2022-05-24T13:11:46.294Z"
   },
   {
    "duration": 13,
    "start_time": "2022-05-24T13:12:08.547Z"
   },
   {
    "duration": 26,
    "start_time": "2022-05-24T13:13:09.092Z"
   },
   {
    "duration": 6,
    "start_time": "2022-05-24T13:13:22.398Z"
   },
   {
    "duration": 11,
    "start_time": "2022-05-24T13:13:25.989Z"
   },
   {
    "duration": 16,
    "start_time": "2022-05-24T13:13:29.677Z"
   },
   {
    "duration": 7,
    "start_time": "2022-05-24T13:13:46.222Z"
   },
   {
    "duration": 7,
    "start_time": "2022-05-24T13:14:04.487Z"
   },
   {
    "duration": 14,
    "start_time": "2022-05-24T13:14:08.464Z"
   },
   {
    "duration": 18,
    "start_time": "2022-05-24T13:14:11.595Z"
   },
   {
    "duration": 7,
    "start_time": "2022-05-24T13:14:22.323Z"
   },
   {
    "duration": 71,
    "start_time": "2022-05-24T13:15:25.726Z"
   },
   {
    "duration": 13,
    "start_time": "2022-05-24T13:15:37.149Z"
   },
   {
    "duration": 16,
    "start_time": "2022-05-24T13:26:50.023Z"
   },
   {
    "duration": 14261,
    "start_time": "2022-05-24T13:27:14.191Z"
   },
   {
    "duration": 3,
    "start_time": "2022-05-24T13:29:16.353Z"
   },
   {
    "duration": 154,
    "start_time": "2022-05-24T13:29:45.092Z"
   },
   {
    "duration": 7,
    "start_time": "2022-05-24T13:30:20.502Z"
   },
   {
    "duration": 35,
    "start_time": "2022-05-24T13:30:25.387Z"
   },
   {
    "duration": 126,
    "start_time": "2022-05-24T13:30:32.247Z"
   },
   {
    "duration": 35082,
    "start_time": "2022-05-24T13:30:44.620Z"
   },
   {
    "duration": 364,
    "start_time": "2022-05-24T13:39:59.090Z"
   },
   {
    "duration": 403,
    "start_time": "2022-05-24T13:40:25.394Z"
   },
   {
    "duration": 379,
    "start_time": "2022-05-24T13:41:23.503Z"
   },
   {
    "duration": 6,
    "start_time": "2022-05-24T13:41:52.999Z"
   },
   {
    "duration": 376,
    "start_time": "2022-05-24T13:41:54.187Z"
   },
   {
    "duration": 7,
    "start_time": "2022-05-24T13:48:44.458Z"
   },
   {
    "duration": 11,
    "start_time": "2022-05-24T13:49:11.385Z"
   },
   {
    "duration": 203,
    "start_time": "2022-05-24T13:49:49.314Z"
   },
   {
    "duration": 629,
    "start_time": "2022-05-24T13:54:02.367Z"
   },
   {
    "duration": 354,
    "start_time": "2022-05-24T13:56:10.594Z"
   },
   {
    "duration": 442,
    "start_time": "2022-05-24T13:56:42.377Z"
   },
   {
    "duration": 441,
    "start_time": "2022-05-24T13:57:23.537Z"
   },
   {
    "duration": 403,
    "start_time": "2022-05-24T13:57:37.363Z"
   },
   {
    "duration": 418,
    "start_time": "2022-05-24T13:58:08.435Z"
   },
   {
    "duration": 442,
    "start_time": "2022-05-24T13:58:18.139Z"
   },
   {
    "duration": 739,
    "start_time": "2022-05-24T13:58:31.657Z"
   },
   {
    "duration": 152,
    "start_time": "2022-05-24T14:00:03.466Z"
   },
   {
    "duration": 399,
    "start_time": "2022-05-24T14:00:08.504Z"
   },
   {
    "duration": 417,
    "start_time": "2022-05-24T14:00:21.580Z"
   },
   {
    "duration": 399,
    "start_time": "2022-05-24T14:00:37.778Z"
   },
   {
    "duration": 390,
    "start_time": "2022-05-24T14:00:44.117Z"
   },
   {
    "duration": 426,
    "start_time": "2022-05-24T14:00:51.256Z"
   },
   {
    "duration": 379,
    "start_time": "2022-05-24T14:00:57.284Z"
   },
   {
    "duration": 519,
    "start_time": "2022-05-24T14:01:01.691Z"
   },
   {
    "duration": 400,
    "start_time": "2022-05-24T14:03:24.357Z"
   },
   {
    "duration": 405,
    "start_time": "2022-05-24T14:03:46.197Z"
   },
   {
    "duration": 411,
    "start_time": "2022-05-24T14:05:46.510Z"
   },
   {
    "duration": 415,
    "start_time": "2022-05-24T14:05:57.789Z"
   },
   {
    "duration": 405,
    "start_time": "2022-05-24T14:06:06.577Z"
   },
   {
    "duration": 418,
    "start_time": "2022-05-24T14:06:20.098Z"
   },
   {
    "duration": 1157,
    "start_time": "2022-05-24T14:06:33.702Z"
   },
   {
    "duration": 89,
    "start_time": "2022-05-24T14:06:34.861Z"
   },
   {
    "duration": 20,
    "start_time": "2022-05-24T14:06:34.952Z"
   },
   {
    "duration": 27,
    "start_time": "2022-05-24T14:06:34.975Z"
   },
   {
    "duration": 241,
    "start_time": "2022-05-24T14:06:35.005Z"
   },
   {
    "duration": 203,
    "start_time": "2022-05-24T14:06:35.248Z"
   },
   {
    "duration": 241,
    "start_time": "2022-05-24T14:06:35.453Z"
   },
   {
    "duration": 4,
    "start_time": "2022-05-24T14:06:35.702Z"
   },
   {
    "duration": 718,
    "start_time": "2022-05-24T14:06:35.708Z"
   },
   {
    "duration": 691,
    "start_time": "2022-05-24T14:06:36.429Z"
   },
   {
    "duration": 392,
    "start_time": "2022-05-24T14:06:46.923Z"
   },
   {
    "duration": 384,
    "start_time": "2022-05-24T14:06:59.389Z"
   },
   {
    "duration": 402,
    "start_time": "2022-05-24T14:07:15.844Z"
   },
   {
    "duration": 371,
    "start_time": "2022-05-24T14:07:25.713Z"
   },
   {
    "duration": 438,
    "start_time": "2022-05-24T14:07:32.644Z"
   },
   {
    "duration": 455,
    "start_time": "2022-05-24T14:08:32.825Z"
   },
   {
    "duration": 563,
    "start_time": "2022-05-24T14:09:35.186Z"
   },
   {
    "duration": 416,
    "start_time": "2022-05-24T14:09:58.641Z"
   },
   {
    "duration": 435,
    "start_time": "2022-05-24T14:11:08.640Z"
   },
   {
    "duration": 501,
    "start_time": "2022-05-24T14:11:21.086Z"
   },
   {
    "duration": 433,
    "start_time": "2022-05-24T14:12:22.418Z"
   },
   {
    "duration": 661,
    "start_time": "2022-05-24T14:19:36.794Z"
   },
   {
    "duration": 640,
    "start_time": "2022-05-24T14:19:58.132Z"
   },
   {
    "duration": 582,
    "start_time": "2022-05-24T14:20:27.192Z"
   },
   {
    "duration": 752,
    "start_time": "2022-05-24T14:20:34.207Z"
   },
   {
    "duration": 436,
    "start_time": "2022-05-24T14:21:16.704Z"
   },
   {
    "duration": 210,
    "start_time": "2022-05-24T14:22:11.936Z"
   },
   {
    "duration": 434,
    "start_time": "2022-05-24T14:22:26.760Z"
   },
   {
    "duration": 59,
    "start_time": "2022-05-27T08:50:33.385Z"
   },
   {
    "duration": 1345,
    "start_time": "2022-05-27T08:50:49.134Z"
   },
   {
    "duration": 143,
    "start_time": "2022-05-27T08:50:50.481Z"
   },
   {
    "duration": 20,
    "start_time": "2022-05-27T08:50:50.626Z"
   },
   {
    "duration": 12,
    "start_time": "2022-05-27T08:50:50.648Z"
   },
   {
    "duration": 327,
    "start_time": "2022-05-27T08:50:50.662Z"
   },
   {
    "duration": 152,
    "start_time": "2022-05-27T08:50:50.992Z"
   },
   {
    "duration": 251,
    "start_time": "2022-05-27T08:50:51.146Z"
   },
   {
    "duration": 6,
    "start_time": "2022-05-27T08:50:51.401Z"
   },
   {
    "duration": 649,
    "start_time": "2022-05-27T08:50:51.408Z"
   },
   {
    "duration": 478,
    "start_time": "2022-05-27T08:50:52.060Z"
   },
   {
    "duration": 13,
    "start_time": "2022-05-27T08:50:52.539Z"
   },
   {
    "duration": 640,
    "start_time": "2022-05-27T08:51:16.255Z"
   },
   {
    "duration": 619,
    "start_time": "2022-05-27T08:51:22.558Z"
   },
   {
    "duration": 69,
    "start_time": "2022-05-27T08:54:36.182Z"
   },
   {
    "duration": 55,
    "start_time": "2022-05-27T08:54:56.278Z"
   },
   {
    "duration": 15,
    "start_time": "2022-05-27T08:55:04.521Z"
   },
   {
    "duration": 184,
    "start_time": "2022-05-27T08:58:03.334Z"
   },
   {
    "duration": 311,
    "start_time": "2022-05-27T08:58:11.019Z"
   },
   {
    "duration": 215,
    "start_time": "2022-05-27T08:58:31.918Z"
   },
   {
    "duration": 227,
    "start_time": "2022-05-27T08:59:23.554Z"
   },
   {
    "duration": 9,
    "start_time": "2022-05-27T09:01:31.855Z"
   },
   {
    "duration": 225,
    "start_time": "2022-05-27T09:01:38.852Z"
   },
   {
    "duration": 14,
    "start_time": "2022-05-27T09:01:49.394Z"
   },
   {
    "duration": 14,
    "start_time": "2022-05-27T09:03:56.929Z"
   },
   {
    "duration": 646,
    "start_time": "2022-05-27T09:11:45.058Z"
   },
   {
    "duration": 15,
    "start_time": "2022-05-27T09:11:55.625Z"
   },
   {
    "duration": 34,
    "start_time": "2022-05-27T09:12:18.212Z"
   },
   {
    "duration": 29,
    "start_time": "2022-05-27T09:12:24.308Z"
   },
   {
    "duration": 11,
    "start_time": "2022-05-27T09:12:31.251Z"
   },
   {
    "duration": 30,
    "start_time": "2022-05-27T09:13:13.255Z"
   },
   {
    "duration": 10,
    "start_time": "2022-05-27T09:13:15.614Z"
   },
   {
    "duration": 40,
    "start_time": "2022-05-27T09:13:25.452Z"
   },
   {
    "duration": 11,
    "start_time": "2022-05-27T09:13:28.170Z"
   },
   {
    "duration": 28,
    "start_time": "2022-05-27T09:13:53.711Z"
   },
   {
    "duration": 10,
    "start_time": "2022-05-27T09:13:54.859Z"
   },
   {
    "duration": 11,
    "start_time": "2022-05-27T09:16:28.036Z"
   },
   {
    "duration": 13,
    "start_time": "2022-05-27T09:16:58.681Z"
   },
   {
    "duration": 13,
    "start_time": "2022-05-27T09:18:00.676Z"
   },
   {
    "duration": 19,
    "start_time": "2022-05-27T09:18:17.906Z"
   },
   {
    "duration": 9,
    "start_time": "2022-05-27T09:28:03.158Z"
   },
   {
    "duration": 12,
    "start_time": "2022-05-27T09:28:11.778Z"
   },
   {
    "duration": 22,
    "start_time": "2022-05-27T09:29:17.042Z"
   },
   {
    "duration": 31,
    "start_time": "2022-05-27T09:29:43.617Z"
   },
   {
    "duration": 15,
    "start_time": "2022-05-27T09:29:44.081Z"
   },
   {
    "duration": 9,
    "start_time": "2022-05-27T09:29:45.271Z"
   },
   {
    "duration": 17,
    "start_time": "2022-05-27T09:29:46.468Z"
   },
   {
    "duration": 18,
    "start_time": "2022-05-27T09:30:14.587Z"
   },
   {
    "duration": 18,
    "start_time": "2022-05-27T09:32:01.921Z"
   },
   {
    "duration": 13,
    "start_time": "2022-05-27T09:32:08.776Z"
   },
   {
    "duration": 11,
    "start_time": "2022-05-27T09:32:38.791Z"
   },
   {
    "duration": 12,
    "start_time": "2022-05-27T09:33:21.678Z"
   },
   {
    "duration": 17,
    "start_time": "2022-05-27T09:34:28.636Z"
   },
   {
    "duration": 16,
    "start_time": "2022-05-27T09:34:57.812Z"
   },
   {
    "duration": 10,
    "start_time": "2022-05-27T09:35:08.890Z"
   },
   {
    "duration": 16,
    "start_time": "2022-05-27T09:35:12.905Z"
   },
   {
    "duration": 16,
    "start_time": "2022-05-27T09:35:29.329Z"
   },
   {
    "duration": 259,
    "start_time": "2022-05-27T09:36:04.965Z"
   },
   {
    "duration": 287,
    "start_time": "2022-05-27T09:36:29.740Z"
   },
   {
    "duration": 10,
    "start_time": "2022-05-27T09:44:02.011Z"
   },
   {
    "duration": 323,
    "start_time": "2022-05-27T09:44:24.444Z"
   },
   {
    "duration": 192,
    "start_time": "2022-05-27T11:35:28.718Z"
   },
   {
    "duration": 242,
    "start_time": "2022-05-27T11:35:39.294Z"
   },
   {
    "duration": 225,
    "start_time": "2022-05-27T11:35:58.316Z"
   },
   {
    "duration": 217,
    "start_time": "2022-05-27T11:36:13.471Z"
   },
   {
    "duration": 248,
    "start_time": "2022-05-27T11:36:21.090Z"
   },
   {
    "duration": 311,
    "start_time": "2022-05-27T11:38:06.057Z"
   },
   {
    "duration": 145,
    "start_time": "2022-05-27T11:45:58.178Z"
   },
   {
    "duration": 238,
    "start_time": "2022-05-27T11:49:37.463Z"
   },
   {
    "duration": 243,
    "start_time": "2022-05-27T11:49:55.902Z"
   },
   {
    "duration": 128,
    "start_time": "2022-05-27T11:59:08.538Z"
   },
   {
    "duration": 1237,
    "start_time": "2022-05-27T11:59:26.704Z"
   },
   {
    "duration": 121,
    "start_time": "2022-05-27T11:59:27.944Z"
   },
   {
    "duration": 20,
    "start_time": "2022-05-27T11:59:28.066Z"
   },
   {
    "duration": 12,
    "start_time": "2022-05-27T11:59:28.087Z"
   },
   {
    "duration": 242,
    "start_time": "2022-05-27T11:59:28.103Z"
   },
   {
    "duration": 223,
    "start_time": "2022-05-27T11:59:28.347Z"
   },
   {
    "duration": 225,
    "start_time": "2022-05-27T11:59:28.572Z"
   },
   {
    "duration": 5,
    "start_time": "2022-05-27T11:59:28.801Z"
   },
   {
    "duration": 623,
    "start_time": "2022-05-27T11:59:28.808Z"
   },
   {
    "duration": 481,
    "start_time": "2022-05-27T11:59:29.433Z"
   },
   {
    "duration": 16,
    "start_time": "2022-05-27T11:59:29.916Z"
   },
   {
    "duration": 271,
    "start_time": "2022-05-27T11:59:29.934Z"
   },
   {
    "duration": 31,
    "start_time": "2022-05-27T11:59:30.207Z"
   },
   {
    "duration": 36,
    "start_time": "2022-05-27T11:59:30.241Z"
   },
   {
    "duration": 48,
    "start_time": "2022-05-27T11:59:30.279Z"
   },
   {
    "duration": 244,
    "start_time": "2022-05-27T11:59:30.328Z"
   },
   {
    "duration": 11,
    "start_time": "2022-05-27T11:59:30.574Z"
   },
   {
    "duration": 244,
    "start_time": "2022-05-27T12:00:50.021Z"
   },
   {
    "duration": 1237,
    "start_time": "2022-05-27T12:00:57.711Z"
   },
   {
    "duration": 97,
    "start_time": "2022-05-27T12:00:58.952Z"
   },
   {
    "duration": 21,
    "start_time": "2022-05-27T12:00:59.050Z"
   },
   {
    "duration": 14,
    "start_time": "2022-05-27T12:00:59.073Z"
   },
   {
    "duration": 241,
    "start_time": "2022-05-27T12:00:59.102Z"
   },
   {
    "duration": 219,
    "start_time": "2022-05-27T12:00:59.345Z"
   },
   {
    "duration": 264,
    "start_time": "2022-05-27T12:00:59.565Z"
   },
   {
    "duration": 13,
    "start_time": "2022-05-27T12:00:59.831Z"
   },
   {
    "duration": 738,
    "start_time": "2022-05-27T12:00:59.846Z"
   },
   {
    "duration": 508,
    "start_time": "2022-05-27T12:01:00.586Z"
   },
   {
    "duration": 21,
    "start_time": "2022-05-27T12:01:01.097Z"
   },
   {
    "duration": 305,
    "start_time": "2022-05-27T12:01:01.120Z"
   },
   {
    "duration": 29,
    "start_time": "2022-05-27T12:01:01.427Z"
   },
   {
    "duration": 11,
    "start_time": "2022-05-27T12:01:01.458Z"
   },
   {
    "duration": 38,
    "start_time": "2022-05-27T12:01:01.470Z"
   },
   {
    "duration": 253,
    "start_time": "2022-05-27T12:01:01.510Z"
   },
   {
    "duration": 12,
    "start_time": "2022-05-27T12:01:01.765Z"
   },
   {
    "duration": 1963,
    "start_time": "2022-05-27T20:27:43.301Z"
   },
   {
    "duration": 101,
    "start_time": "2022-05-27T20:27:45.266Z"
   },
   {
    "duration": 21,
    "start_time": "2022-05-27T20:27:45.369Z"
   },
   {
    "duration": 14,
    "start_time": "2022-05-27T20:27:45.392Z"
   },
   {
    "duration": 249,
    "start_time": "2022-05-27T20:27:45.408Z"
   },
   {
    "duration": 248,
    "start_time": "2022-05-27T20:27:45.659Z"
   },
   {
    "duration": 291,
    "start_time": "2022-05-27T20:27:45.908Z"
   },
   {
    "duration": 6,
    "start_time": "2022-05-27T20:27:46.202Z"
   },
   {
    "duration": 698,
    "start_time": "2022-05-27T20:27:46.211Z"
   },
   {
    "duration": 536,
    "start_time": "2022-05-27T20:27:46.913Z"
   },
   {
    "duration": 22,
    "start_time": "2022-05-27T20:27:47.450Z"
   },
   {
    "duration": 418,
    "start_time": "2022-05-27T20:27:47.474Z"
   },
   {
    "duration": 30,
    "start_time": "2022-05-27T20:27:47.894Z"
   },
   {
    "duration": 16,
    "start_time": "2022-05-27T20:27:47.926Z"
   },
   {
    "duration": 40,
    "start_time": "2022-05-27T20:27:47.944Z"
   },
   {
    "duration": 265,
    "start_time": "2022-05-27T20:27:47.985Z"
   },
   {
    "duration": 25,
    "start_time": "2022-05-27T20:27:48.252Z"
   },
   {
    "duration": 6,
    "start_time": "2022-05-27T20:27:48.280Z"
   },
   {
    "duration": 3,
    "start_time": "2022-05-30T07:56:29.793Z"
   },
   {
    "duration": 88,
    "start_time": "2022-05-30T07:56:31.055Z"
   },
   {
    "duration": 17,
    "start_time": "2022-05-30T07:56:32.247Z"
   },
   {
    "duration": 11,
    "start_time": "2022-05-30T07:56:33.228Z"
   },
   {
    "duration": 292,
    "start_time": "2022-05-30T07:56:40.503Z"
   },
   {
    "duration": 394,
    "start_time": "2022-05-30T08:00:57.083Z"
   },
   {
    "duration": 544,
    "start_time": "2022-05-30T08:01:17.510Z"
   },
   {
    "duration": 553,
    "start_time": "2022-05-30T08:01:41.798Z"
   },
   {
    "duration": 518,
    "start_time": "2022-05-30T08:01:46.727Z"
   },
   {
    "duration": 562,
    "start_time": "2022-05-30T08:01:51.802Z"
   },
   {
    "duration": 580,
    "start_time": "2022-05-30T08:01:58.849Z"
   },
   {
    "duration": 557,
    "start_time": "2022-05-30T08:02:02.973Z"
   },
   {
    "duration": 521,
    "start_time": "2022-05-30T08:02:10.996Z"
   },
   {
    "duration": 519,
    "start_time": "2022-05-30T08:02:30.662Z"
   },
   {
    "duration": 527,
    "start_time": "2022-05-30T08:02:39.379Z"
   },
   {
    "duration": 30,
    "start_time": "2022-05-30T08:02:59.135Z"
   },
   {
    "duration": 23,
    "start_time": "2022-05-30T08:03:10.600Z"
   },
   {
    "duration": 605,
    "start_time": "2022-05-30T08:03:16.585Z"
   },
   {
    "duration": 500,
    "start_time": "2022-05-30T08:07:36.232Z"
   },
   {
    "duration": 474,
    "start_time": "2022-05-30T08:08:44.296Z"
   },
   {
    "duration": 238,
    "start_time": "2022-05-30T08:09:23.914Z"
   },
   {
    "duration": 469,
    "start_time": "2022-05-30T08:09:29.941Z"
   },
   {
    "duration": 489,
    "start_time": "2022-05-30T08:11:04.642Z"
   },
   {
    "duration": 226,
    "start_time": "2022-05-30T08:11:23.074Z"
   },
   {
    "duration": 491,
    "start_time": "2022-05-30T08:11:32.019Z"
   },
   {
    "duration": 16,
    "start_time": "2022-05-30T08:13:14.404Z"
   },
   {
    "duration": 16,
    "start_time": "2022-05-30T08:13:26.792Z"
   },
   {
    "duration": 11,
    "start_time": "2022-05-30T08:13:47.801Z"
   },
   {
    "duration": 15,
    "start_time": "2022-05-30T08:13:55.766Z"
   },
   {
    "duration": 21,
    "start_time": "2022-05-30T08:14:14.551Z"
   },
   {
    "duration": 553,
    "start_time": "2022-05-30T08:15:07.250Z"
   },
   {
    "duration": 565,
    "start_time": "2022-05-30T08:15:59.886Z"
   },
   {
    "duration": 8,
    "start_time": "2022-05-30T08:16:53.285Z"
   },
   {
    "duration": 464,
    "start_time": "2022-05-30T08:18:16.920Z"
   },
   {
    "duration": 23,
    "start_time": "2022-05-30T08:20:58.241Z"
   },
   {
    "duration": 28,
    "start_time": "2022-05-30T08:23:21.600Z"
   },
   {
    "duration": 922,
    "start_time": "2022-05-30T08:23:34.702Z"
   },
   {
    "duration": 27,
    "start_time": "2022-05-30T08:25:18.856Z"
   },
   {
    "duration": 481,
    "start_time": "2022-05-30T08:25:36.509Z"
   },
   {
    "duration": 412,
    "start_time": "2022-05-30T08:25:52.397Z"
   },
   {
    "duration": 10,
    "start_time": "2022-05-30T08:28:01.959Z"
   },
   {
    "duration": 346,
    "start_time": "2022-05-30T08:28:20.631Z"
   },
   {
    "duration": 4,
    "start_time": "2022-05-30T08:28:31.584Z"
   },
   {
    "duration": 10,
    "start_time": "2022-05-30T08:28:47.802Z"
   },
   {
    "duration": 10,
    "start_time": "2022-05-30T08:29:06.569Z"
   },
   {
    "duration": 391,
    "start_time": "2022-05-30T08:31:15.853Z"
   },
   {
    "duration": 905,
    "start_time": "2022-05-30T08:31:32.581Z"
   },
   {
    "duration": 23,
    "start_time": "2022-05-30T08:33:04.769Z"
   },
   {
    "duration": 1193,
    "start_time": "2022-05-30T08:33:14.974Z"
   },
   {
    "duration": 910,
    "start_time": "2022-05-30T08:33:30.699Z"
   },
   {
    "duration": 925,
    "start_time": "2022-05-30T08:34:22.290Z"
   },
   {
    "duration": 905,
    "start_time": "2022-05-30T08:34:39.841Z"
   },
   {
    "duration": 925,
    "start_time": "2022-05-30T08:35:13.189Z"
   },
   {
    "duration": 786,
    "start_time": "2022-05-30T08:35:20.824Z"
   },
   {
    "duration": 772,
    "start_time": "2022-05-30T08:36:22.250Z"
   },
   {
    "duration": 739,
    "start_time": "2022-05-30T08:36:39.085Z"
   },
   {
    "duration": 625,
    "start_time": "2022-05-30T08:36:55.697Z"
   },
   {
    "duration": 934,
    "start_time": "2022-05-30T08:37:04.979Z"
   },
   {
    "duration": 602,
    "start_time": "2022-05-30T08:38:18.540Z"
   },
   {
    "duration": 560,
    "start_time": "2022-05-30T08:38:33.358Z"
   },
   {
    "duration": 945,
    "start_time": "2022-05-30T08:39:55.121Z"
   },
   {
    "duration": 8,
    "start_time": "2022-05-30T08:40:07.325Z"
   },
   {
    "duration": 896,
    "start_time": "2022-05-30T08:40:16.765Z"
   },
   {
    "duration": 9,
    "start_time": "2022-05-30T08:40:17.663Z"
   },
   {
    "duration": 5,
    "start_time": "2022-05-30T08:40:35.392Z"
   },
   {
    "duration": 472,
    "start_time": "2022-05-30T08:41:10.843Z"
   },
   {
    "duration": 568,
    "start_time": "2022-05-30T08:41:48.895Z"
   },
   {
    "duration": 493,
    "start_time": "2022-05-30T08:43:50.710Z"
   },
   {
    "duration": 500,
    "start_time": "2022-05-30T08:44:28.274Z"
   },
   {
    "duration": 7,
    "start_time": "2022-05-30T08:47:01.523Z"
   },
   {
    "duration": 1174,
    "start_time": "2022-05-30T08:47:02.020Z"
   },
   {
    "duration": 734,
    "start_time": "2022-05-30T08:47:04.706Z"
   },
   {
    "duration": 21,
    "start_time": "2022-05-30T09:52:20.268Z"
   },
   {
    "duration": 493,
    "start_time": "2022-05-30T09:52:50.306Z"
   },
   {
    "duration": 462,
    "start_time": "2022-05-30T09:52:55.241Z"
   },
   {
    "duration": 18,
    "start_time": "2022-05-30T09:53:20.948Z"
   },
   {
    "duration": 20,
    "start_time": "2022-05-30T09:53:32.022Z"
   },
   {
    "duration": 19,
    "start_time": "2022-05-30T09:53:38.798Z"
   },
   {
    "duration": 13,
    "start_time": "2022-05-30T09:54:45.695Z"
   },
   {
    "duration": 18,
    "start_time": "2022-05-30T09:54:52.600Z"
   },
   {
    "duration": 27,
    "start_time": "2022-05-30T09:55:03.178Z"
   },
   {
    "duration": 19,
    "start_time": "2022-05-30T09:55:06.329Z"
   },
   {
    "duration": 346,
    "start_time": "2022-05-30T09:58:40.361Z"
   },
   {
    "duration": 176,
    "start_time": "2022-05-30T09:58:57.269Z"
   },
   {
    "duration": 9,
    "start_time": "2022-05-30T09:59:44.079Z"
   },
   {
    "duration": 12,
    "start_time": "2022-05-30T10:01:36.535Z"
   },
   {
    "duration": 13,
    "start_time": "2022-05-30T10:02:39.430Z"
   },
   {
    "duration": 399,
    "start_time": "2022-05-30T10:02:45.571Z"
   },
   {
    "duration": 5,
    "start_time": "2022-05-30T10:02:53.401Z"
   },
   {
    "duration": 15,
    "start_time": "2022-05-30T10:02:59.211Z"
   },
   {
    "duration": 8,
    "start_time": "2022-05-30T10:04:09.780Z"
   },
   {
    "duration": 22,
    "start_time": "2022-05-30T10:04:14.350Z"
   },
   {
    "duration": 23,
    "start_time": "2022-05-30T10:04:29.850Z"
   },
   {
    "duration": 12,
    "start_time": "2022-05-30T10:04:45.515Z"
   },
   {
    "duration": 9,
    "start_time": "2022-05-30T10:04:57.186Z"
   },
   {
    "duration": 14,
    "start_time": "2022-05-30T10:06:48.735Z"
   },
   {
    "duration": 11,
    "start_time": "2022-05-30T10:06:59.376Z"
   },
   {
    "duration": 9,
    "start_time": "2022-05-30T10:07:10.200Z"
   },
   {
    "duration": 13,
    "start_time": "2022-05-30T10:07:56.781Z"
   },
   {
    "duration": 11,
    "start_time": "2022-05-30T10:08:09.824Z"
   },
   {
    "duration": 8,
    "start_time": "2022-05-30T10:08:20.495Z"
   },
   {
    "duration": 10,
    "start_time": "2022-05-30T10:08:58.511Z"
   },
   {
    "duration": 4,
    "start_time": "2022-05-30T10:10:23.148Z"
   },
   {
    "duration": 6,
    "start_time": "2022-05-30T10:11:13.467Z"
   },
   {
    "duration": 4,
    "start_time": "2022-05-30T10:15:52.190Z"
   },
   {
    "duration": 415,
    "start_time": "2022-05-30T10:16:28.746Z"
   },
   {
    "duration": 319,
    "start_time": "2022-05-30T10:16:37.638Z"
   },
   {
    "duration": 326,
    "start_time": "2022-05-30T10:16:58.175Z"
   },
   {
    "duration": 438,
    "start_time": "2022-05-30T10:17:08.677Z"
   },
   {
    "duration": 372,
    "start_time": "2022-05-30T10:22:31.079Z"
   },
   {
    "duration": 15,
    "start_time": "2022-05-30T10:23:42.319Z"
   },
   {
    "duration": 503,
    "start_time": "2022-05-30T10:23:43.068Z"
   },
   {
    "duration": 15,
    "start_time": "2022-05-30T10:24:06.554Z"
   },
   {
    "duration": 544,
    "start_time": "2022-05-30T10:24:09.418Z"
   },
   {
    "duration": 29,
    "start_time": "2022-05-30T10:24:12.321Z"
   },
   {
    "duration": 12,
    "start_time": "2022-05-30T10:24:39.083Z"
   },
   {
    "duration": 18,
    "start_time": "2022-05-30T10:24:42.056Z"
   },
   {
    "duration": 563,
    "start_time": "2022-05-30T10:24:42.648Z"
   },
   {
    "duration": 11,
    "start_time": "2022-05-30T10:24:44.892Z"
   },
   {
    "duration": 804,
    "start_time": "2022-05-30T10:39:01.725Z"
   },
   {
    "duration": 644,
    "start_time": "2022-05-30T10:39:57.451Z"
   },
   {
    "duration": 1060,
    "start_time": "2022-05-30T10:40:39.524Z"
   },
   {
    "duration": 983,
    "start_time": "2022-05-30T10:43:40.997Z"
   },
   {
    "duration": 32,
    "start_time": "2022-05-30T10:47:39.140Z"
   },
   {
    "duration": 12,
    "start_time": "2022-05-30T10:47:43.208Z"
   },
   {
    "duration": 17,
    "start_time": "2022-05-30T10:47:45.922Z"
   },
   {
    "duration": 30,
    "start_time": "2022-05-30T10:48:21.261Z"
   },
   {
    "duration": 11,
    "start_time": "2022-05-30T10:48:22.141Z"
   },
   {
    "duration": 30,
    "start_time": "2022-05-30T10:48:31.857Z"
   },
   {
    "duration": 10,
    "start_time": "2022-05-30T10:48:32.836Z"
   },
   {
    "duration": 31,
    "start_time": "2022-05-30T10:48:40.077Z"
   },
   {
    "duration": 11,
    "start_time": "2022-05-30T10:48:40.933Z"
   },
   {
    "duration": 17,
    "start_time": "2022-05-30T10:48:42.816Z"
   },
   {
    "duration": 28,
    "start_time": "2022-05-30T10:48:57.210Z"
   },
   {
    "duration": 11,
    "start_time": "2022-05-30T10:48:58.096Z"
   },
   {
    "duration": 16,
    "start_time": "2022-05-30T10:48:59.779Z"
   },
   {
    "duration": 30,
    "start_time": "2022-05-30T10:49:18.453Z"
   },
   {
    "duration": 28,
    "start_time": "2022-05-30T10:49:36.371Z"
   },
   {
    "duration": 10,
    "start_time": "2022-05-30T10:49:37.529Z"
   },
   {
    "duration": 17,
    "start_time": "2022-05-30T10:49:41.143Z"
   },
   {
    "duration": 1244,
    "start_time": "2022-05-30T10:53:14.674Z"
   },
   {
    "duration": 1104,
    "start_time": "2022-05-30T10:54:02.190Z"
   },
   {
    "duration": 1046,
    "start_time": "2022-05-30T10:56:08.317Z"
   },
   {
    "duration": 1205,
    "start_time": "2022-05-30T10:56:50.488Z"
   },
   {
    "duration": 1131,
    "start_time": "2022-05-30T10:58:50.774Z"
   },
   {
    "duration": 1269,
    "start_time": "2022-05-30T11:00:17.562Z"
   },
   {
    "duration": 118,
    "start_time": "2022-05-30T11:00:18.833Z"
   },
   {
    "duration": 23,
    "start_time": "2022-05-30T11:00:18.953Z"
   },
   {
    "duration": 27,
    "start_time": "2022-05-30T11:00:18.979Z"
   },
   {
    "duration": 304,
    "start_time": "2022-05-30T11:00:19.008Z"
   },
   {
    "duration": 215,
    "start_time": "2022-05-30T11:00:19.314Z"
   },
   {
    "duration": 283,
    "start_time": "2022-05-30T11:00:19.531Z"
   },
   {
    "duration": 261,
    "start_time": "2022-05-30T11:00:19.816Z"
   },
   {
    "duration": 30,
    "start_time": "2022-05-30T11:00:20.079Z"
   },
   {
    "duration": 9,
    "start_time": "2022-05-30T11:00:20.112Z"
   },
   {
    "duration": 10,
    "start_time": "2022-05-30T11:00:20.123Z"
   },
   {
    "duration": 179,
    "start_time": "2022-05-30T11:00:20.134Z"
   },
   {
    "duration": 16,
    "start_time": "2022-05-30T11:00:20.316Z"
   },
   {
    "duration": 250,
    "start_time": "2022-05-30T11:00:20.334Z"
   },
   {
    "duration": 38,
    "start_time": "2022-05-30T11:00:20.587Z"
   },
   {
    "duration": 24,
    "start_time": "2022-05-30T11:00:20.627Z"
   },
   {
    "duration": 32,
    "start_time": "2022-05-30T11:00:20.652Z"
   },
   {
    "duration": 261,
    "start_time": "2022-05-30T11:00:20.693Z"
   },
   {
    "duration": 11,
    "start_time": "2022-05-30T11:00:20.956Z"
   },
   {
    "duration": 730,
    "start_time": "2022-05-30T11:00:20.968Z"
   },
   {
    "duration": 489,
    "start_time": "2022-05-30T11:00:30.388Z"
   },
   {
    "duration": 1230,
    "start_time": "2022-05-30T11:01:40.479Z"
   },
   {
    "duration": 1131,
    "start_time": "2022-05-30T11:06:27.578Z"
   },
   {
    "duration": 1276,
    "start_time": "2022-05-30T11:06:48.908Z"
   },
   {
    "duration": 1285,
    "start_time": "2022-05-30T11:07:52.420Z"
   },
   {
    "duration": 1243,
    "start_time": "2022-05-30T11:08:15.407Z"
   },
   {
    "duration": 1278,
    "start_time": "2022-05-31T10:02:35.170Z"
   },
   {
    "duration": 264,
    "start_time": "2022-05-31T10:02:36.450Z"
   },
   {
    "duration": 17,
    "start_time": "2022-05-31T10:02:36.715Z"
   },
   {
    "duration": 9,
    "start_time": "2022-05-31T10:02:36.734Z"
   },
   {
    "duration": 216,
    "start_time": "2022-05-31T10:02:36.745Z"
   },
   {
    "duration": 176,
    "start_time": "2022-05-31T10:02:36.962Z"
   },
   {
    "duration": 239,
    "start_time": "2022-05-31T10:02:37.140Z"
   },
   {
    "duration": 204,
    "start_time": "2022-05-31T10:02:37.381Z"
   },
   {
    "duration": 16,
    "start_time": "2022-05-31T10:02:37.591Z"
   },
   {
    "duration": 7,
    "start_time": "2022-05-31T10:02:37.609Z"
   },
   {
    "duration": 7,
    "start_time": "2022-05-31T10:02:37.618Z"
   },
   {
    "duration": 145,
    "start_time": "2022-05-31T10:02:37.627Z"
   },
   {
    "duration": 18,
    "start_time": "2022-05-31T10:02:37.774Z"
   },
   {
    "duration": 202,
    "start_time": "2022-05-31T10:02:37.794Z"
   },
   {
    "duration": 27,
    "start_time": "2022-05-31T10:02:37.998Z"
   },
   {
    "duration": 12,
    "start_time": "2022-05-31T10:02:38.026Z"
   },
   {
    "duration": 17,
    "start_time": "2022-05-31T10:02:38.039Z"
   },
   {
    "duration": 239,
    "start_time": "2022-05-31T10:02:38.058Z"
   },
   {
    "duration": 10,
    "start_time": "2022-05-31T10:02:38.298Z"
   },
   {
    "duration": 1166,
    "start_time": "2022-05-31T10:02:38.310Z"
   },
   {
    "duration": 10,
    "start_time": "2022-05-31T10:02:39.477Z"
   },
   {
    "duration": 14,
    "start_time": "2022-05-31T10:03:00.205Z"
   },
   {
    "duration": 12,
    "start_time": "2022-05-31T10:03:15.821Z"
   },
   {
    "duration": 2163,
    "start_time": "2022-05-31T10:27:45.928Z"
   },
   {
    "duration": 8,
    "start_time": "2022-05-31T10:28:01.012Z"
   },
   {
    "duration": 308,
    "start_time": "2022-05-31T10:28:01.619Z"
   },
   {
    "duration": 91,
    "start_time": "2022-05-31T17:28:39.786Z"
   },
   {
    "duration": 2224,
    "start_time": "2022-05-31T17:28:42.951Z"
   },
   {
    "duration": 128,
    "start_time": "2022-05-31T17:28:45.178Z"
   },
   {
    "duration": 28,
    "start_time": "2022-05-31T17:28:45.308Z"
   },
   {
    "duration": 28,
    "start_time": "2022-05-31T17:28:45.339Z"
   },
   {
    "duration": 295,
    "start_time": "2022-05-31T17:28:45.369Z"
   },
   {
    "duration": 276,
    "start_time": "2022-05-31T17:28:45.666Z"
   },
   {
    "duration": 359,
    "start_time": "2022-05-31T17:28:45.944Z"
   },
   {
    "duration": 261,
    "start_time": "2022-05-31T17:28:46.305Z"
   },
   {
    "duration": 28,
    "start_time": "2022-05-31T17:28:46.568Z"
   },
   {
    "duration": 12,
    "start_time": "2022-05-31T17:28:46.599Z"
   },
   {
    "duration": 11,
    "start_time": "2022-05-31T17:28:46.613Z"
   },
   {
    "duration": 205,
    "start_time": "2022-05-31T17:28:46.626Z"
   },
   {
    "duration": 34,
    "start_time": "2022-05-31T17:28:46.833Z"
   },
   {
    "duration": 18,
    "start_time": "2022-05-31T17:28:46.869Z"
   },
   {
    "duration": 278,
    "start_time": "2022-05-31T17:28:46.889Z"
   },
   {
    "duration": 45,
    "start_time": "2022-05-31T17:28:47.169Z"
   },
   {
    "duration": 13,
    "start_time": "2022-05-31T17:28:47.216Z"
   },
   {
    "duration": 48,
    "start_time": "2022-05-31T17:28:47.231Z"
   },
   {
    "duration": 317,
    "start_time": "2022-05-31T17:28:47.281Z"
   },
   {
    "duration": 15,
    "start_time": "2022-05-31T17:28:47.601Z"
   },
   {
    "duration": 1387,
    "start_time": "2022-05-31T17:28:47.618Z"
   },
   {
    "duration": 16,
    "start_time": "2022-05-31T17:28:49.007Z"
   },
   {
    "duration": 24,
    "start_time": "2022-05-31T17:28:49.025Z"
   },
   {
    "duration": 19,
    "start_time": "2022-05-31T17:28:49.052Z"
   },
   {
    "duration": 333,
    "start_time": "2022-05-31T17:28:49.073Z"
   },
   {
    "duration": 74,
    "start_time": "2022-05-31T17:30:05.426Z"
   },
   {
    "duration": 1818,
    "start_time": "2022-06-01T09:24:56.040Z"
   },
   {
    "duration": 311,
    "start_time": "2022-06-01T09:24:58.394Z"
   },
   {
    "duration": 17,
    "start_time": "2022-06-01T09:24:59.887Z"
   },
   {
    "duration": 2285,
    "start_time": "2022-06-01T09:25:00.467Z"
   },
   {
    "duration": 2657,
    "start_time": "2022-06-01T09:25:02.754Z"
   },
   {
    "duration": 3481,
    "start_time": "2022-06-01T09:25:05.430Z"
   },
   {
    "duration": 323,
    "start_time": "2022-06-01T09:25:08.913Z"
   },
   {
    "duration": 270,
    "start_time": "2022-06-01T09:25:09.238Z"
   },
   {
    "duration": 30,
    "start_time": "2022-06-01T09:25:09.510Z"
   },
   {
    "duration": 14,
    "start_time": "2022-06-01T09:25:12.224Z"
   },
   {
    "duration": 14,
    "start_time": "2022-06-01T09:25:14.043Z"
   },
   {
    "duration": 163,
    "start_time": "2022-06-01T09:25:14.708Z"
   },
   {
    "duration": 14,
    "start_time": "2022-06-01T09:26:27.793Z"
   },
   {
    "duration": 19,
    "start_time": "2022-06-01T09:26:45.264Z"
   },
   {
    "duration": 567,
    "start_time": "2022-06-01T09:28:21.318Z"
   },
   {
    "duration": 18,
    "start_time": "2022-06-01T09:28:36.895Z"
   },
   {
    "duration": 10,
    "start_time": "2022-06-01T09:29:20.075Z"
   },
   {
    "duration": 11,
    "start_time": "2022-06-01T09:29:31.144Z"
   },
   {
    "duration": 15,
    "start_time": "2022-06-01T09:30:21.560Z"
   },
   {
    "duration": 15,
    "start_time": "2022-06-01T09:30:37.313Z"
   },
   {
    "duration": 11,
    "start_time": "2022-06-01T09:30:51.583Z"
   },
   {
    "duration": 11,
    "start_time": "2022-06-01T09:31:07.637Z"
   },
   {
    "duration": 3,
    "start_time": "2022-06-01T09:51:46.506Z"
   },
   {
    "duration": 6,
    "start_time": "2022-06-01T09:52:45.642Z"
   },
   {
    "duration": 8,
    "start_time": "2022-06-01T09:52:55.406Z"
   },
   {
    "duration": 7,
    "start_time": "2022-06-01T09:53:27.543Z"
   },
   {
    "duration": 7,
    "start_time": "2022-06-01T09:53:56.361Z"
   },
   {
    "duration": 8,
    "start_time": "2022-06-01T09:54:07.874Z"
   },
   {
    "duration": 8,
    "start_time": "2022-06-01T09:54:37.136Z"
   },
   {
    "duration": 3,
    "start_time": "2022-06-01T09:54:51.542Z"
   },
   {
    "duration": 6,
    "start_time": "2022-06-01T09:54:52.307Z"
   },
   {
    "duration": 7,
    "start_time": "2022-06-01T09:55:01.180Z"
   },
   {
    "duration": 3,
    "start_time": "2022-06-01T09:55:25.573Z"
   },
   {
    "duration": 13,
    "start_time": "2022-06-01T09:55:26.124Z"
   },
   {
    "duration": 4,
    "start_time": "2022-06-01T09:56:03.447Z"
   },
   {
    "duration": 11,
    "start_time": "2022-06-01T09:56:04.209Z"
   },
   {
    "duration": 11,
    "start_time": "2022-06-01T09:56:05.509Z"
   },
   {
    "duration": 7,
    "start_time": "2022-06-01T09:56:06.266Z"
   },
   {
    "duration": 10,
    "start_time": "2022-06-01T09:56:34.641Z"
   },
   {
    "duration": 9,
    "start_time": "2022-06-01T10:02:22.887Z"
   },
   {
    "duration": 8,
    "start_time": "2022-06-01T10:02:23.520Z"
   },
   {
    "duration": 9,
    "start_time": "2022-06-01T10:02:25.011Z"
   },
   {
    "duration": 7,
    "start_time": "2022-06-01T10:02:26.148Z"
   },
   {
    "duration": 7,
    "start_time": "2022-06-01T10:05:38.060Z"
   },
   {
    "duration": 7,
    "start_time": "2022-06-01T10:05:49.676Z"
   },
   {
    "duration": 8,
    "start_time": "2022-06-01T10:06:08.938Z"
   },
   {
    "duration": 9,
    "start_time": "2022-06-01T10:06:32.782Z"
   },
   {
    "duration": 8,
    "start_time": "2022-06-01T10:06:55.241Z"
   },
   {
    "duration": 7,
    "start_time": "2022-06-01T10:08:25.336Z"
   },
   {
    "duration": 7,
    "start_time": "2022-06-01T10:08:50.014Z"
   },
   {
    "duration": 10,
    "start_time": "2022-06-01T10:09:48.083Z"
   },
   {
    "duration": 7,
    "start_time": "2022-06-01T10:10:00.757Z"
   },
   {
    "duration": 7,
    "start_time": "2022-06-01T10:10:22.298Z"
   },
   {
    "duration": 7,
    "start_time": "2022-06-01T10:11:00.229Z"
   },
   {
    "duration": 8,
    "start_time": "2022-06-01T10:11:47.546Z"
   },
   {
    "duration": 6,
    "start_time": "2022-06-01T10:12:14.648Z"
   },
   {
    "duration": 6,
    "start_time": "2022-06-01T10:12:44.621Z"
   },
   {
    "duration": 10,
    "start_time": "2022-06-01T10:13:14.278Z"
   },
   {
    "duration": 7,
    "start_time": "2022-06-01T10:13:31.043Z"
   },
   {
    "duration": 13,
    "start_time": "2022-06-01T10:18:00.469Z"
   },
   {
    "duration": 7,
    "start_time": "2022-06-01T10:18:09.565Z"
   },
   {
    "duration": 14,
    "start_time": "2022-06-01T10:18:12.978Z"
   },
   {
    "duration": 7,
    "start_time": "2022-06-01T10:18:17.324Z"
   },
   {
    "duration": 7,
    "start_time": "2022-06-01T10:18:17.675Z"
   },
   {
    "duration": 227,
    "start_time": "2022-06-01T10:18:18.224Z"
   },
   {
    "duration": 237,
    "start_time": "2022-06-01T10:18:38.586Z"
   },
   {
    "duration": 7,
    "start_time": "2022-06-01T10:19:04.463Z"
   },
   {
    "duration": 226,
    "start_time": "2022-06-01T10:19:26.970Z"
   },
   {
    "duration": 234,
    "start_time": "2022-06-01T10:19:48.963Z"
   },
   {
    "duration": 269,
    "start_time": "2022-06-01T10:20:03.822Z"
   },
   {
    "duration": 217,
    "start_time": "2022-06-01T10:20:34.158Z"
   },
   {
    "duration": 11,
    "start_time": "2022-06-01T10:23:01.803Z"
   },
   {
    "duration": 15,
    "start_time": "2022-06-01T10:25:32.382Z"
   },
   {
    "duration": 15,
    "start_time": "2022-06-01T10:26:03.436Z"
   },
   {
    "duration": 122,
    "start_time": "2022-06-01T10:27:01.286Z"
   },
   {
    "duration": 14,
    "start_time": "2022-06-01T10:27:13.027Z"
   },
   {
    "duration": 9,
    "start_time": "2022-06-01T10:28:19.640Z"
   },
   {
    "duration": 3,
    "start_time": "2022-06-01T10:28:26.830Z"
   },
   {
    "duration": 12,
    "start_time": "2022-06-01T10:28:27.912Z"
   },
   {
    "duration": 7,
    "start_time": "2022-06-01T10:28:45.537Z"
   },
   {
    "duration": 8,
    "start_time": "2022-06-01T10:28:46.901Z"
   },
   {
    "duration": 7,
    "start_time": "2022-06-01T10:28:47.229Z"
   },
   {
    "duration": 7,
    "start_time": "2022-06-01T10:28:47.518Z"
   },
   {
    "duration": 8,
    "start_time": "2022-06-01T10:28:47.972Z"
   },
   {
    "duration": 8,
    "start_time": "2022-06-01T10:28:48.143Z"
   },
   {
    "duration": 7,
    "start_time": "2022-06-01T10:28:48.318Z"
   },
   {
    "duration": 7,
    "start_time": "2022-06-01T10:28:48.500Z"
   },
   {
    "duration": 7,
    "start_time": "2022-06-01T10:28:48.699Z"
   },
   {
    "duration": 8,
    "start_time": "2022-06-01T10:28:48.920Z"
   },
   {
    "duration": 7,
    "start_time": "2022-06-01T10:28:49.153Z"
   },
   {
    "duration": 7,
    "start_time": "2022-06-01T10:28:49.353Z"
   },
   {
    "duration": 7,
    "start_time": "2022-06-01T10:28:49.582Z"
   },
   {
    "duration": 7,
    "start_time": "2022-06-01T10:28:49.801Z"
   },
   {
    "duration": 8,
    "start_time": "2022-06-01T10:28:49.995Z"
   },
   {
    "duration": 8,
    "start_time": "2022-06-01T10:28:50.236Z"
   },
   {
    "duration": 225,
    "start_time": "2022-06-01T10:28:50.807Z"
   },
   {
    "duration": 17,
    "start_time": "2022-06-01T10:35:12.567Z"
   },
   {
    "duration": 14,
    "start_time": "2022-06-01T10:35:22.714Z"
   },
   {
    "duration": 11,
    "start_time": "2022-06-01T10:35:52.364Z"
   },
   {
    "duration": 12,
    "start_time": "2022-06-01T10:36:03.694Z"
   },
   {
    "duration": 12,
    "start_time": "2022-06-01T10:36:18.479Z"
   },
   {
    "duration": 12,
    "start_time": "2022-06-01T10:36:30.517Z"
   },
   {
    "duration": 12,
    "start_time": "2022-06-01T10:36:40.980Z"
   },
   {
    "duration": 10,
    "start_time": "2022-06-01T10:38:10.780Z"
   },
   {
    "duration": 4,
    "start_time": "2022-06-01T10:38:20.014Z"
   },
   {
    "duration": 26,
    "start_time": "2022-06-01T10:38:20.412Z"
   },
   {
    "duration": 37,
    "start_time": "2022-06-01T10:39:25.156Z"
   },
   {
    "duration": 16,
    "start_time": "2022-06-01T10:39:26.050Z"
   },
   {
    "duration": 237,
    "start_time": "2022-06-01T10:40:07.012Z"
   },
   {
    "duration": 223,
    "start_time": "2022-06-01T10:40:25.585Z"
   },
   {
    "duration": 238,
    "start_time": "2022-06-01T10:40:54.839Z"
   },
   {
    "duration": 234,
    "start_time": "2022-06-01T10:41:18.674Z"
   },
   {
    "duration": 17,
    "start_time": "2022-06-01T10:49:58.334Z"
   },
   {
    "duration": 5,
    "start_time": "2022-06-01T10:50:04.259Z"
   },
   {
    "duration": 41,
    "start_time": "2022-06-01T10:50:04.780Z"
   },
   {
    "duration": 16,
    "start_time": "2022-06-01T10:50:05.707Z"
   },
   {
    "duration": 245,
    "start_time": "2022-06-01T10:50:07.299Z"
   },
   {
    "duration": 56,
    "start_time": "2022-06-01T21:19:09.049Z"
   },
   {
    "duration": 1585,
    "start_time": "2022-06-01T21:19:11.804Z"
   },
   {
    "duration": 82,
    "start_time": "2022-06-01T21:19:13.390Z"
   },
   {
    "duration": 16,
    "start_time": "2022-06-01T21:19:13.473Z"
   },
   {
    "duration": 10,
    "start_time": "2022-06-01T21:19:13.491Z"
   },
   {
    "duration": 208,
    "start_time": "2022-06-01T21:19:13.503Z"
   },
   {
    "duration": 191,
    "start_time": "2022-06-01T21:19:13.712Z"
   },
   {
    "duration": 269,
    "start_time": "2022-06-01T21:19:13.904Z"
   },
   {
    "duration": 216,
    "start_time": "2022-06-01T21:19:14.175Z"
   },
   {
    "duration": 17,
    "start_time": "2022-06-01T21:19:14.393Z"
   },
   {
    "duration": 11,
    "start_time": "2022-06-01T21:19:14.422Z"
   },
   {
    "duration": 9,
    "start_time": "2022-06-01T21:19:14.435Z"
   },
   {
    "duration": 40,
    "start_time": "2022-06-01T21:19:14.446Z"
   },
   {
    "duration": 14,
    "start_time": "2022-06-01T21:19:14.488Z"
   },
   {
    "duration": 239,
    "start_time": "2022-06-01T21:19:14.503Z"
   },
   {
    "duration": 61,
    "start_time": "2022-06-01T21:19:14.744Z"
   },
   {
    "duration": 0,
    "start_time": "2022-06-01T21:19:14.806Z"
   },
   {
    "duration": 0,
    "start_time": "2022-06-01T21:19:14.807Z"
   },
   {
    "duration": 0,
    "start_time": "2022-06-01T21:19:14.809Z"
   },
   {
    "duration": 0,
    "start_time": "2022-06-01T21:19:14.823Z"
   },
   {
    "duration": 0,
    "start_time": "2022-06-01T21:19:14.824Z"
   },
   {
    "duration": 0,
    "start_time": "2022-06-01T21:19:14.825Z"
   },
   {
    "duration": 0,
    "start_time": "2022-06-01T21:19:14.826Z"
   },
   {
    "duration": 0,
    "start_time": "2022-06-01T21:19:14.827Z"
   },
   {
    "duration": 0,
    "start_time": "2022-06-01T21:19:14.828Z"
   },
   {
    "duration": 0,
    "start_time": "2022-06-01T21:19:14.829Z"
   },
   {
    "duration": 0,
    "start_time": "2022-06-01T21:19:14.830Z"
   },
   {
    "duration": 0,
    "start_time": "2022-06-01T21:19:14.830Z"
   },
   {
    "duration": 0,
    "start_time": "2022-06-01T21:19:14.831Z"
   },
   {
    "duration": 17,
    "start_time": "2022-06-01T21:19:27.709Z"
   },
   {
    "duration": 11,
    "start_time": "2022-06-01T21:21:21.523Z"
   },
   {
    "duration": 12,
    "start_time": "2022-06-01T21:24:44.532Z"
   },
   {
    "duration": 9,
    "start_time": "2022-06-01T21:24:51.966Z"
   },
   {
    "duration": 18,
    "start_time": "2022-06-01T21:25:38.099Z"
   },
   {
    "duration": 12,
    "start_time": "2022-06-01T21:25:54.123Z"
   },
   {
    "duration": 10,
    "start_time": "2022-06-01T21:26:10.223Z"
   },
   {
    "duration": 1715,
    "start_time": "2022-07-13T12:04:41.876Z"
   },
   {
    "duration": 135,
    "start_time": "2022-07-13T12:04:43.593Z"
   },
   {
    "duration": 20,
    "start_time": "2022-07-13T12:04:44.363Z"
   },
   {
    "duration": 12,
    "start_time": "2022-07-13T12:04:44.752Z"
   },
   {
    "duration": 240,
    "start_time": "2022-07-13T12:04:45.383Z"
   },
   {
    "duration": 132,
    "start_time": "2022-07-13T12:04:45.812Z"
   },
   {
    "duration": 287,
    "start_time": "2022-07-13T12:04:46.252Z"
   },
   {
    "duration": 244,
    "start_time": "2022-07-13T12:04:46.615Z"
   },
   {
    "duration": 19,
    "start_time": "2022-07-13T12:04:46.999Z"
   },
   {
    "duration": 13,
    "start_time": "2022-07-13T12:04:47.373Z"
   },
   {
    "duration": 3,
    "start_time": "2022-07-13T12:04:47.752Z"
   },
   {
    "duration": 40,
    "start_time": "2022-07-13T12:04:47.956Z"
   },
   {
    "duration": 20,
    "start_time": "2022-07-13T12:04:48.123Z"
   },
   {
    "duration": 291,
    "start_time": "2022-07-13T12:04:48.321Z"
   },
   {
    "duration": 13,
    "start_time": "2022-07-13T12:04:48.705Z"
   },
   {
    "duration": 26,
    "start_time": "2022-07-13T12:04:48.892Z"
   },
   {
    "duration": 15,
    "start_time": "2022-07-13T12:04:49.280Z"
   },
   {
    "duration": 223,
    "start_time": "2022-07-13T12:04:49.472Z"
   },
   {
    "duration": 27,
    "start_time": "2022-07-13T12:04:49.859Z"
   },
   {
    "duration": 13,
    "start_time": "2022-07-13T12:04:50.032Z"
   },
   {
    "duration": 20,
    "start_time": "2022-07-13T12:04:50.409Z"
   },
   {
    "duration": 253,
    "start_time": "2022-07-13T12:04:50.591Z"
   },
   {
    "duration": 11,
    "start_time": "2022-07-13T12:04:50.980Z"
   },
   {
    "duration": 1180,
    "start_time": "2022-07-13T12:04:51.175Z"
   },
   {
    "duration": 11,
    "start_time": "2022-07-13T12:04:52.357Z"
   },
   {
    "duration": 17,
    "start_time": "2022-07-13T12:04:52.369Z"
   },
   {
    "duration": 7,
    "start_time": "2022-07-13T12:04:52.388Z"
   },
   {
    "duration": 330,
    "start_time": "2022-07-13T12:04:52.397Z"
   }
  ],
  "kernelspec": {
   "display_name": "Python 3 (ipykernel)",
   "language": "python",
   "name": "python3"
  },
  "language_info": {
   "codemirror_mode": {
    "name": "ipython",
    "version": 3
   },
   "file_extension": ".py",
   "mimetype": "text/x-python",
   "name": "python",
   "nbconvert_exporter": "python",
   "pygments_lexer": "ipython3",
   "version": "3.9.5"
  },
  "toc": {
   "base_numbering": 1,
   "nav_menu": {},
   "number_sections": true,
   "sideBar": true,
   "skip_h1_title": true,
   "title_cell": "Table of Contents",
   "title_sidebar": "Contents",
   "toc_cell": false,
   "toc_position": {},
   "toc_section_display": true,
   "toc_window_display": false
  }
 },
 "nbformat": 4,
 "nbformat_minor": 2
}
