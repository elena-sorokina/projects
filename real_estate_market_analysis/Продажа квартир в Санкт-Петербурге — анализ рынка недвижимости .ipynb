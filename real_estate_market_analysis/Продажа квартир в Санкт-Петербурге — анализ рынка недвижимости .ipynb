{
 "cells": [
  {
   "cell_type": "markdown",
   "metadata": {
    "toc": true
   },
   "source": [
    "<h1>Содержание<span class=\"tocSkip\"></span></h1>\n",
    "<div class=\"toc\"><ul class=\"toc-item\"><li><span><a href=\"#Изучение-данных-из-файла\" data-toc-modified-id=\"Изучение-данных-из-файла-1\"><span class=\"toc-item-num\">1&nbsp;&nbsp;</span>Изучение данных из файла</a></span><ul class=\"toc-item\"><li><span><a href=\"#Вывод\" data-toc-modified-id=\"Вывод-1.1\"><span class=\"toc-item-num\">1.1&nbsp;&nbsp;</span>Вывод</a></span></li></ul></li><li><span><a href=\"#Предобработка-данных\" data-toc-modified-id=\"Предобработка-данных-2\"><span class=\"toc-item-num\">2&nbsp;&nbsp;</span>Предобработка данных</a></span></li><li><span><a href=\"#Расчёты-и-добавление-результатов-в-таблицу\" data-toc-modified-id=\"Расчёты-и-добавление-результатов-в-таблицу-3\"><span class=\"toc-item-num\">3&nbsp;&nbsp;</span>Расчёты и добавление результатов в таблицу</a></span><ul class=\"toc-item\"><li><span><a href=\"#Рассчет-и-добавление-в-таблицу-цены-квадратного-метра\" data-toc-modified-id=\"Рассчет-и-добавление-в-таблицу-цены-квадратного-метра-3.1\"><span class=\"toc-item-num\">3.1&nbsp;&nbsp;</span>Рассчет и добавление в таблицу цены квадратного метра</a></span></li><li><span><a href=\"#Добавление-в-таблицу-дня-недели,-месяца-и-года-публикации-объявления\" data-toc-modified-id=\"Добавление-в-таблицу-дня-недели,-месяца-и-года-публикации-объявления-3.2\"><span class=\"toc-item-num\">3.2&nbsp;&nbsp;</span>Добавление в таблицу дня недели, месяца и года публикации объявления</a></span></li><li><span><a href=\"#Добавление-в-таблицу-этажа-квартиры-(первый,-последний-или-другой)\" data-toc-modified-id=\"Добавление-в-таблицу-этажа-квартиры-(первый,-последний-или-другой)-3.3\"><span class=\"toc-item-num\">3.3&nbsp;&nbsp;</span>Добавление в таблицу этажа квартиры (первый, последний или другой)</a></span></li><li><span><a href=\"#Добавление-в-таблицу-соотношения-жилой-площади-и-площади-кухни-к-общей\" data-toc-modified-id=\"Добавление-в-таблицу-соотношения-жилой-площади-и-площади-кухни-к-общей-3.4\"><span class=\"toc-item-num\">3.4&nbsp;&nbsp;</span>Добавление в таблицу соотношения жилой площади и площади кухни к общей</a></span></li></ul></li><li><span><a href=\"#Исследовательский-анализ-данных\" data-toc-modified-id=\"Исследовательский-анализ-данных-4\"><span class=\"toc-item-num\">4&nbsp;&nbsp;</span>Исследовательский анализ данных</a></span><ul class=\"toc-item\"><li><span><a href=\"#Изучение-параметров\" data-toc-modified-id=\"Изучение-параметров-4.1\"><span class=\"toc-item-num\">4.1&nbsp;&nbsp;</span>Изучение параметров</a></span></li><li><span><a href=\"#Построение-графиков\" data-toc-modified-id=\"Построение-графиков-4.2\"><span class=\"toc-item-num\">4.2&nbsp;&nbsp;</span>Построение графиков</a></span></li><li><span><a href=\"#Анализ-объявлений-о-продаже-квартир-в-центре\" data-toc-modified-id=\"Анализ-объявлений-о-продаже-квартир-в-центре-4.3\"><span class=\"toc-item-num\">4.3&nbsp;&nbsp;</span>Анализ объявлений о продаже квартир в центре</a></span></li></ul></li><li><span><a href=\"#Общий-вывод\" data-toc-modified-id=\"Общий-вывод-5\"><span class=\"toc-item-num\">5&nbsp;&nbsp;</span>Общий вывод</a></span></li><li><span><a href=\"#Чек-лист-готовности-проекта\" data-toc-modified-id=\"Чек-лист-готовности-проекта-6\"><span class=\"toc-item-num\">6&nbsp;&nbsp;</span>Чек-лист готовности проекта</a></span></li></ul></div>"
   ]
  },
  {
   "cell_type": "markdown",
   "metadata": {},
   "source": [
    "# Исследование объявлений о продаже квартир\n",
    "\n",
    "В вашем распоряжении данные сервиса Яндекc Недвижимость — архив объявлений о продаже квартир в Санкт-Петербурге и соседних населённых пунктах за несколько лет. Нужно научиться определять рыночную стоимость объектов недвижимости. Ваша задача — установить параметры. Это позволит построить автоматизированную систему: она отследит аномалии и мошенническую деятельность. \n",
    "\n",
    "По каждой квартире на продажу доступны два вида данных. Первые вписаны пользователем, вторые получены автоматически на основе картографических данных. Например, расстояние до центра, аэропорта, ближайшего парка и водоёма. "
   ]
  },
  {
   "cell_type": "markdown",
   "metadata": {},
   "source": [
    "## Изучение данных из файла"
   ]
  },
  {
   "cell_type": "code",
   "execution_count": 1,
   "metadata": {
    "scrolled": true
   },
   "outputs": [],
   "source": [
    "import pandas as pd"
   ]
  },
  {
   "cell_type": "code",
   "execution_count": 2,
   "metadata": {},
   "outputs": [],
   "source": [
    "data = pd.read_csv('/datasets/real_estate_data.csv', sep='\\t')"
   ]
  },
  {
   "cell_type": "code",
   "execution_count": 3,
   "metadata": {},
   "outputs": [
    {
     "data": {
      "text/html": [
       "<div>\n",
       "<style scoped>\n",
       "    .dataframe tbody tr th:only-of-type {\n",
       "        vertical-align: middle;\n",
       "    }\n",
       "\n",
       "    .dataframe tbody tr th {\n",
       "        vertical-align: top;\n",
       "    }\n",
       "\n",
       "    .dataframe thead th {\n",
       "        text-align: right;\n",
       "    }\n",
       "</style>\n",
       "<table border=\"1\" class=\"dataframe\">\n",
       "  <thead>\n",
       "    <tr style=\"text-align: right;\">\n",
       "      <th></th>\n",
       "      <th>total_images</th>\n",
       "      <th>last_price</th>\n",
       "      <th>total_area</th>\n",
       "      <th>first_day_exposition</th>\n",
       "      <th>rooms</th>\n",
       "      <th>ceiling_height</th>\n",
       "      <th>floors_total</th>\n",
       "      <th>living_area</th>\n",
       "      <th>floor</th>\n",
       "      <th>is_apartment</th>\n",
       "      <th>...</th>\n",
       "      <th>kitchen_area</th>\n",
       "      <th>balcony</th>\n",
       "      <th>locality_name</th>\n",
       "      <th>airports_nearest</th>\n",
       "      <th>cityCenters_nearest</th>\n",
       "      <th>parks_around3000</th>\n",
       "      <th>parks_nearest</th>\n",
       "      <th>ponds_around3000</th>\n",
       "      <th>ponds_nearest</th>\n",
       "      <th>days_exposition</th>\n",
       "    </tr>\n",
       "  </thead>\n",
       "  <tbody>\n",
       "    <tr>\n",
       "      <td>0</td>\n",
       "      <td>20</td>\n",
       "      <td>13000000.0</td>\n",
       "      <td>108.00</td>\n",
       "      <td>2019-03-07T00:00:00</td>\n",
       "      <td>3</td>\n",
       "      <td>2.70</td>\n",
       "      <td>16.0</td>\n",
       "      <td>51.00</td>\n",
       "      <td>8</td>\n",
       "      <td>NaN</td>\n",
       "      <td>...</td>\n",
       "      <td>25.00</td>\n",
       "      <td>NaN</td>\n",
       "      <td>Санкт-Петербург</td>\n",
       "      <td>18863.0</td>\n",
       "      <td>16028.0</td>\n",
       "      <td>1.0</td>\n",
       "      <td>482.0</td>\n",
       "      <td>2.0</td>\n",
       "      <td>755.0</td>\n",
       "      <td>NaN</td>\n",
       "    </tr>\n",
       "    <tr>\n",
       "      <td>1</td>\n",
       "      <td>7</td>\n",
       "      <td>3350000.0</td>\n",
       "      <td>40.40</td>\n",
       "      <td>2018-12-04T00:00:00</td>\n",
       "      <td>1</td>\n",
       "      <td>NaN</td>\n",
       "      <td>11.0</td>\n",
       "      <td>18.60</td>\n",
       "      <td>1</td>\n",
       "      <td>NaN</td>\n",
       "      <td>...</td>\n",
       "      <td>11.00</td>\n",
       "      <td>2.0</td>\n",
       "      <td>посёлок Шушары</td>\n",
       "      <td>12817.0</td>\n",
       "      <td>18603.0</td>\n",
       "      <td>0.0</td>\n",
       "      <td>NaN</td>\n",
       "      <td>0.0</td>\n",
       "      <td>NaN</td>\n",
       "      <td>81.0</td>\n",
       "    </tr>\n",
       "    <tr>\n",
       "      <td>2</td>\n",
       "      <td>10</td>\n",
       "      <td>5196000.0</td>\n",
       "      <td>56.00</td>\n",
       "      <td>2015-08-20T00:00:00</td>\n",
       "      <td>2</td>\n",
       "      <td>NaN</td>\n",
       "      <td>5.0</td>\n",
       "      <td>34.30</td>\n",
       "      <td>4</td>\n",
       "      <td>NaN</td>\n",
       "      <td>...</td>\n",
       "      <td>8.30</td>\n",
       "      <td>0.0</td>\n",
       "      <td>Санкт-Петербург</td>\n",
       "      <td>21741.0</td>\n",
       "      <td>13933.0</td>\n",
       "      <td>1.0</td>\n",
       "      <td>90.0</td>\n",
       "      <td>2.0</td>\n",
       "      <td>574.0</td>\n",
       "      <td>558.0</td>\n",
       "    </tr>\n",
       "    <tr>\n",
       "      <td>3</td>\n",
       "      <td>0</td>\n",
       "      <td>64900000.0</td>\n",
       "      <td>159.00</td>\n",
       "      <td>2015-07-24T00:00:00</td>\n",
       "      <td>3</td>\n",
       "      <td>NaN</td>\n",
       "      <td>14.0</td>\n",
       "      <td>NaN</td>\n",
       "      <td>9</td>\n",
       "      <td>NaN</td>\n",
       "      <td>...</td>\n",
       "      <td>NaN</td>\n",
       "      <td>0.0</td>\n",
       "      <td>Санкт-Петербург</td>\n",
       "      <td>28098.0</td>\n",
       "      <td>6800.0</td>\n",
       "      <td>2.0</td>\n",
       "      <td>84.0</td>\n",
       "      <td>3.0</td>\n",
       "      <td>234.0</td>\n",
       "      <td>424.0</td>\n",
       "    </tr>\n",
       "    <tr>\n",
       "      <td>4</td>\n",
       "      <td>2</td>\n",
       "      <td>10000000.0</td>\n",
       "      <td>100.00</td>\n",
       "      <td>2018-06-19T00:00:00</td>\n",
       "      <td>2</td>\n",
       "      <td>3.03</td>\n",
       "      <td>14.0</td>\n",
       "      <td>32.00</td>\n",
       "      <td>13</td>\n",
       "      <td>NaN</td>\n",
       "      <td>...</td>\n",
       "      <td>41.00</td>\n",
       "      <td>NaN</td>\n",
       "      <td>Санкт-Петербург</td>\n",
       "      <td>31856.0</td>\n",
       "      <td>8098.0</td>\n",
       "      <td>2.0</td>\n",
       "      <td>112.0</td>\n",
       "      <td>1.0</td>\n",
       "      <td>48.0</td>\n",
       "      <td>121.0</td>\n",
       "    </tr>\n",
       "    <tr>\n",
       "      <td>5</td>\n",
       "      <td>10</td>\n",
       "      <td>2890000.0</td>\n",
       "      <td>30.40</td>\n",
       "      <td>2018-09-10T00:00:00</td>\n",
       "      <td>1</td>\n",
       "      <td>NaN</td>\n",
       "      <td>12.0</td>\n",
       "      <td>14.40</td>\n",
       "      <td>5</td>\n",
       "      <td>NaN</td>\n",
       "      <td>...</td>\n",
       "      <td>9.10</td>\n",
       "      <td>NaN</td>\n",
       "      <td>городской посёлок Янино-1</td>\n",
       "      <td>NaN</td>\n",
       "      <td>NaN</td>\n",
       "      <td>NaN</td>\n",
       "      <td>NaN</td>\n",
       "      <td>NaN</td>\n",
       "      <td>NaN</td>\n",
       "      <td>55.0</td>\n",
       "    </tr>\n",
       "    <tr>\n",
       "      <td>6</td>\n",
       "      <td>6</td>\n",
       "      <td>3700000.0</td>\n",
       "      <td>37.30</td>\n",
       "      <td>2017-11-02T00:00:00</td>\n",
       "      <td>1</td>\n",
       "      <td>NaN</td>\n",
       "      <td>26.0</td>\n",
       "      <td>10.60</td>\n",
       "      <td>6</td>\n",
       "      <td>NaN</td>\n",
       "      <td>...</td>\n",
       "      <td>14.40</td>\n",
       "      <td>1.0</td>\n",
       "      <td>посёлок Парголово</td>\n",
       "      <td>52996.0</td>\n",
       "      <td>19143.0</td>\n",
       "      <td>0.0</td>\n",
       "      <td>NaN</td>\n",
       "      <td>0.0</td>\n",
       "      <td>NaN</td>\n",
       "      <td>155.0</td>\n",
       "    </tr>\n",
       "    <tr>\n",
       "      <td>7</td>\n",
       "      <td>5</td>\n",
       "      <td>7915000.0</td>\n",
       "      <td>71.60</td>\n",
       "      <td>2019-04-18T00:00:00</td>\n",
       "      <td>2</td>\n",
       "      <td>NaN</td>\n",
       "      <td>24.0</td>\n",
       "      <td>NaN</td>\n",
       "      <td>22</td>\n",
       "      <td>NaN</td>\n",
       "      <td>...</td>\n",
       "      <td>18.90</td>\n",
       "      <td>2.0</td>\n",
       "      <td>Санкт-Петербург</td>\n",
       "      <td>23982.0</td>\n",
       "      <td>11634.0</td>\n",
       "      <td>0.0</td>\n",
       "      <td>NaN</td>\n",
       "      <td>0.0</td>\n",
       "      <td>NaN</td>\n",
       "      <td>NaN</td>\n",
       "    </tr>\n",
       "    <tr>\n",
       "      <td>8</td>\n",
       "      <td>20</td>\n",
       "      <td>2900000.0</td>\n",
       "      <td>33.16</td>\n",
       "      <td>2018-05-23T00:00:00</td>\n",
       "      <td>1</td>\n",
       "      <td>NaN</td>\n",
       "      <td>27.0</td>\n",
       "      <td>15.43</td>\n",
       "      <td>26</td>\n",
       "      <td>NaN</td>\n",
       "      <td>...</td>\n",
       "      <td>8.81</td>\n",
       "      <td>NaN</td>\n",
       "      <td>посёлок Мурино</td>\n",
       "      <td>NaN</td>\n",
       "      <td>NaN</td>\n",
       "      <td>NaN</td>\n",
       "      <td>NaN</td>\n",
       "      <td>NaN</td>\n",
       "      <td>NaN</td>\n",
       "      <td>189.0</td>\n",
       "    </tr>\n",
       "    <tr>\n",
       "      <td>9</td>\n",
       "      <td>18</td>\n",
       "      <td>5400000.0</td>\n",
       "      <td>61.00</td>\n",
       "      <td>2017-02-26T00:00:00</td>\n",
       "      <td>3</td>\n",
       "      <td>2.50</td>\n",
       "      <td>9.0</td>\n",
       "      <td>43.60</td>\n",
       "      <td>7</td>\n",
       "      <td>NaN</td>\n",
       "      <td>...</td>\n",
       "      <td>6.50</td>\n",
       "      <td>2.0</td>\n",
       "      <td>Санкт-Петербург</td>\n",
       "      <td>50898.0</td>\n",
       "      <td>15008.0</td>\n",
       "      <td>0.0</td>\n",
       "      <td>NaN</td>\n",
       "      <td>0.0</td>\n",
       "      <td>NaN</td>\n",
       "      <td>289.0</td>\n",
       "    </tr>\n",
       "  </tbody>\n",
       "</table>\n",
       "<p>10 rows × 22 columns</p>\n",
       "</div>"
      ],
      "text/plain": [
       "   total_images  last_price  total_area first_day_exposition  rooms  \\\n",
       "0            20  13000000.0      108.00  2019-03-07T00:00:00      3   \n",
       "1             7   3350000.0       40.40  2018-12-04T00:00:00      1   \n",
       "2            10   5196000.0       56.00  2015-08-20T00:00:00      2   \n",
       "3             0  64900000.0      159.00  2015-07-24T00:00:00      3   \n",
       "4             2  10000000.0      100.00  2018-06-19T00:00:00      2   \n",
       "5            10   2890000.0       30.40  2018-09-10T00:00:00      1   \n",
       "6             6   3700000.0       37.30  2017-11-02T00:00:00      1   \n",
       "7             5   7915000.0       71.60  2019-04-18T00:00:00      2   \n",
       "8            20   2900000.0       33.16  2018-05-23T00:00:00      1   \n",
       "9            18   5400000.0       61.00  2017-02-26T00:00:00      3   \n",
       "\n",
       "   ceiling_height  floors_total  living_area  floor is_apartment  ...  \\\n",
       "0            2.70          16.0        51.00      8          NaN  ...   \n",
       "1             NaN          11.0        18.60      1          NaN  ...   \n",
       "2             NaN           5.0        34.30      4          NaN  ...   \n",
       "3             NaN          14.0          NaN      9          NaN  ...   \n",
       "4            3.03          14.0        32.00     13          NaN  ...   \n",
       "5             NaN          12.0        14.40      5          NaN  ...   \n",
       "6             NaN          26.0        10.60      6          NaN  ...   \n",
       "7             NaN          24.0          NaN     22          NaN  ...   \n",
       "8             NaN          27.0        15.43     26          NaN  ...   \n",
       "9            2.50           9.0        43.60      7          NaN  ...   \n",
       "\n",
       "   kitchen_area  balcony              locality_name  airports_nearest  \\\n",
       "0         25.00      NaN            Санкт-Петербург           18863.0   \n",
       "1         11.00      2.0             посёлок Шушары           12817.0   \n",
       "2          8.30      0.0            Санкт-Петербург           21741.0   \n",
       "3           NaN      0.0            Санкт-Петербург           28098.0   \n",
       "4         41.00      NaN            Санкт-Петербург           31856.0   \n",
       "5          9.10      NaN  городской посёлок Янино-1               NaN   \n",
       "6         14.40      1.0          посёлок Парголово           52996.0   \n",
       "7         18.90      2.0            Санкт-Петербург           23982.0   \n",
       "8          8.81      NaN             посёлок Мурино               NaN   \n",
       "9          6.50      2.0            Санкт-Петербург           50898.0   \n",
       "\n",
       "  cityCenters_nearest  parks_around3000  parks_nearest  ponds_around3000  \\\n",
       "0             16028.0               1.0          482.0               2.0   \n",
       "1             18603.0               0.0            NaN               0.0   \n",
       "2             13933.0               1.0           90.0               2.0   \n",
       "3              6800.0               2.0           84.0               3.0   \n",
       "4              8098.0               2.0          112.0               1.0   \n",
       "5                 NaN               NaN            NaN               NaN   \n",
       "6             19143.0               0.0            NaN               0.0   \n",
       "7             11634.0               0.0            NaN               0.0   \n",
       "8                 NaN               NaN            NaN               NaN   \n",
       "9             15008.0               0.0            NaN               0.0   \n",
       "\n",
       "   ponds_nearest  days_exposition  \n",
       "0          755.0              NaN  \n",
       "1            NaN             81.0  \n",
       "2          574.0            558.0  \n",
       "3          234.0            424.0  \n",
       "4           48.0            121.0  \n",
       "5            NaN             55.0  \n",
       "6            NaN            155.0  \n",
       "7            NaN              NaN  \n",
       "8            NaN            189.0  \n",
       "9            NaN            289.0  \n",
       "\n",
       "[10 rows x 22 columns]"
      ]
     },
     "execution_count": 3,
     "metadata": {},
     "output_type": "execute_result"
    }
   ],
   "source": [
    "data.head(10)"
   ]
  },
  {
   "cell_type": "code",
   "execution_count": 4,
   "metadata": {},
   "outputs": [
    {
     "name": "stdout",
     "output_type": "stream",
     "text": [
      "<class 'pandas.core.frame.DataFrame'>\n",
      "RangeIndex: 23699 entries, 0 to 23698\n",
      "Data columns (total 22 columns):\n",
      "total_images            23699 non-null int64\n",
      "last_price              23699 non-null float64\n",
      "total_area              23699 non-null float64\n",
      "first_day_exposition    23699 non-null object\n",
      "rooms                   23699 non-null int64\n",
      "ceiling_height          14504 non-null float64\n",
      "floors_total            23613 non-null float64\n",
      "living_area             21796 non-null float64\n",
      "floor                   23699 non-null int64\n",
      "is_apartment            2775 non-null object\n",
      "studio                  23699 non-null bool\n",
      "open_plan               23699 non-null bool\n",
      "kitchen_area            21421 non-null float64\n",
      "balcony                 12180 non-null float64\n",
      "locality_name           23650 non-null object\n",
      "airports_nearest        18157 non-null float64\n",
      "cityCenters_nearest     18180 non-null float64\n",
      "parks_around3000        18181 non-null float64\n",
      "parks_nearest           8079 non-null float64\n",
      "ponds_around3000        18181 non-null float64\n",
      "ponds_nearest           9110 non-null float64\n",
      "days_exposition         20518 non-null float64\n",
      "dtypes: bool(2), float64(14), int64(3), object(3)\n",
      "memory usage: 3.7+ MB\n"
     ]
    }
   ],
   "source": [
    "data.info()"
   ]
  },
  {
   "cell_type": "markdown",
   "metadata": {},
   "source": [
    "### Вывод"
   ]
  },
  {
   "cell_type": "markdown",
   "metadata": {},
   "source": [
    "В данных встречается достаточно много пропусков, которые предстоит обработать. Кроме того, в некоторых столбцах стоит изменить тип данных (например, в столбце `floors_total` хотелось бы видеть тип `int64` вместо `float64`)"
   ]
  },
  {
   "cell_type": "markdown",
   "metadata": {},
   "source": [
    "## Предобработка данных"
   ]
  },
  {
   "cell_type": "markdown",
   "metadata": {},
   "source": [
    "Так как стоимость квартиры измеряется целым количеством рублей, изменим тип данных в столбце `last_price` на `int`:"
   ]
  },
  {
   "cell_type": "code",
   "execution_count": 5,
   "metadata": {},
   "outputs": [],
   "source": [
    "data['last_price'] = data['last_price'].astype('int')"
   ]
  },
  {
   "cell_type": "markdown",
   "metadata": {},
   "source": [
    "Если в столбце `is_apartment` значение пропущено, то, скорее всего, данный объект не является апартаментами. Поэтому заполним пропуски значением `False` и изменим тип данных на `bool`."
   ]
  },
  {
   "cell_type": "code",
   "execution_count": 6,
   "metadata": {},
   "outputs": [],
   "source": [
    "data['is_apartment'] = data['is_apartment'].fillna(False)\n",
    "data['is_apartment'] = data['is_apartment'].astype('bool')"
   ]
  },
  {
   "cell_type": "markdown",
   "metadata": {},
   "source": [
    "Значения в столбце `first_day_exposition` переведем в более удобный формат:"
   ]
  },
  {
   "cell_type": "code",
   "execution_count": 7,
   "metadata": {},
   "outputs": [],
   "source": [
    "data['first_day_exposition'] = pd.to_datetime(data['first_day_exposition'], format='%Y %m %dT%H:%M:%S')"
   ]
  },
  {
   "cell_type": "markdown",
   "metadata": {},
   "source": [
    "Если в столбце `balcony` значение пропущено, то, вероятно, у данного объекта балконов нет. Поэтому заполним пропуски на `0` и изменим тип данных на `int`."
   ]
  },
  {
   "cell_type": "code",
   "execution_count": 8,
   "metadata": {},
   "outputs": [],
   "source": [
    "data['balcony'] = data['balcony'].fillna(0)\n",
    "data['balcony'] = data['balcony'].astype('int')"
   ]
  },
  {
   "cell_type": "markdown",
   "metadata": {},
   "source": [
    "Точно так же заменим нулями пропущенные значения в столбцах `parks_around3000` и `ponds_around3000`:"
   ]
  },
  {
   "cell_type": "code",
   "execution_count": 9,
   "metadata": {},
   "outputs": [],
   "source": [
    "data['parks_around3000'] = data['parks_around3000'].fillna(data['parks_around3000'].median())\n",
    "data['parks_around3000'] = data['parks_around3000'].astype('int')\n",
    "data['ponds_around3000'] = data['ponds_around3000'].fillna(data['ponds_around3000'].median())\n",
    "data['ponds_around3000'] = data['ponds_around3000'].astype('int')"
   ]
  },
  {
   "cell_type": "markdown",
   "metadata": {},
   "source": [
    "Измменим тип данных на `int` в тех столбцах, в которых дробная часть у всех значений равна нулю:"
   ]
  },
  {
   "cell_type": "code",
   "execution_count": 10,
   "metadata": {},
   "outputs": [],
   "source": [
    "data['floors_total'] = data['floors_total'].astype('Int64')\n",
    "data['airports_nearest'] = data['airports_nearest'].astype('Int64')\n",
    "# data['cityCenters_nearest'] = data['cityCenters_nearest'].astype('Int64')\n",
    "data['parks_nearest'] = data['parks_nearest'].astype('float32').astype('Int64')\n",
    "data['ponds_nearest'] = data['ponds_nearest'].astype('float32').astype('Int64')\n",
    "data['days_exposition'] = data['days_exposition'].astype('float32').astype('Int64')"
   ]
  },
  {
   "cell_type": "code",
   "execution_count": 11,
   "metadata": {},
   "outputs": [],
   "source": [
    "data = data.rename(columns={'cityCenters_nearest': 'city_centers_nearest'})   # изменение названия столбца"
   ]
  },
  {
   "cell_type": "markdown",
   "metadata": {},
   "source": [
    "## Расчёты и добавление результатов в таблицу"
   ]
  },
  {
   "cell_type": "markdown",
   "metadata": {},
   "source": [
    "### Рассчет и добавление в таблицу цены квадратного метра"
   ]
  },
  {
   "cell_type": "code",
   "execution_count": 12,
   "metadata": {},
   "outputs": [
    {
     "data": {
      "text/html": [
       "<div>\n",
       "<style scoped>\n",
       "    .dataframe tbody tr th:only-of-type {\n",
       "        vertical-align: middle;\n",
       "    }\n",
       "\n",
       "    .dataframe tbody tr th {\n",
       "        vertical-align: top;\n",
       "    }\n",
       "\n",
       "    .dataframe thead th {\n",
       "        text-align: right;\n",
       "    }\n",
       "</style>\n",
       "<table border=\"1\" class=\"dataframe\">\n",
       "  <thead>\n",
       "    <tr style=\"text-align: right;\">\n",
       "      <th></th>\n",
       "      <th>total_images</th>\n",
       "      <th>last_price</th>\n",
       "      <th>total_area</th>\n",
       "      <th>first_day_exposition</th>\n",
       "      <th>rooms</th>\n",
       "      <th>ceiling_height</th>\n",
       "      <th>floors_total</th>\n",
       "      <th>living_area</th>\n",
       "      <th>floor</th>\n",
       "      <th>is_apartment</th>\n",
       "      <th>...</th>\n",
       "      <th>balcony</th>\n",
       "      <th>locality_name</th>\n",
       "      <th>airports_nearest</th>\n",
       "      <th>city_centers_nearest</th>\n",
       "      <th>parks_around3000</th>\n",
       "      <th>parks_nearest</th>\n",
       "      <th>ponds_around3000</th>\n",
       "      <th>ponds_nearest</th>\n",
       "      <th>days_exposition</th>\n",
       "      <th>sq_meter_price</th>\n",
       "    </tr>\n",
       "  </thead>\n",
       "  <tbody>\n",
       "    <tr>\n",
       "      <td>0</td>\n",
       "      <td>20</td>\n",
       "      <td>13000000</td>\n",
       "      <td>108.0</td>\n",
       "      <td>2019-03-07</td>\n",
       "      <td>3</td>\n",
       "      <td>2.70</td>\n",
       "      <td>16</td>\n",
       "      <td>51.0</td>\n",
       "      <td>8</td>\n",
       "      <td>False</td>\n",
       "      <td>...</td>\n",
       "      <td>0</td>\n",
       "      <td>Санкт-Петербург</td>\n",
       "      <td>18863</td>\n",
       "      <td>16028.0</td>\n",
       "      <td>1</td>\n",
       "      <td>482</td>\n",
       "      <td>2</td>\n",
       "      <td>755</td>\n",
       "      <td>NaN</td>\n",
       "      <td>120370</td>\n",
       "    </tr>\n",
       "    <tr>\n",
       "      <td>1</td>\n",
       "      <td>7</td>\n",
       "      <td>3350000</td>\n",
       "      <td>40.4</td>\n",
       "      <td>2018-12-04</td>\n",
       "      <td>1</td>\n",
       "      <td>NaN</td>\n",
       "      <td>11</td>\n",
       "      <td>18.6</td>\n",
       "      <td>1</td>\n",
       "      <td>False</td>\n",
       "      <td>...</td>\n",
       "      <td>2</td>\n",
       "      <td>посёлок Шушары</td>\n",
       "      <td>12817</td>\n",
       "      <td>18603.0</td>\n",
       "      <td>0</td>\n",
       "      <td>NaN</td>\n",
       "      <td>0</td>\n",
       "      <td>NaN</td>\n",
       "      <td>81</td>\n",
       "      <td>82921</td>\n",
       "    </tr>\n",
       "    <tr>\n",
       "      <td>2</td>\n",
       "      <td>10</td>\n",
       "      <td>5196000</td>\n",
       "      <td>56.0</td>\n",
       "      <td>2015-08-20</td>\n",
       "      <td>2</td>\n",
       "      <td>NaN</td>\n",
       "      <td>5</td>\n",
       "      <td>34.3</td>\n",
       "      <td>4</td>\n",
       "      <td>False</td>\n",
       "      <td>...</td>\n",
       "      <td>0</td>\n",
       "      <td>Санкт-Петербург</td>\n",
       "      <td>21741</td>\n",
       "      <td>13933.0</td>\n",
       "      <td>1</td>\n",
       "      <td>90</td>\n",
       "      <td>2</td>\n",
       "      <td>574</td>\n",
       "      <td>558</td>\n",
       "      <td>92786</td>\n",
       "    </tr>\n",
       "    <tr>\n",
       "      <td>3</td>\n",
       "      <td>0</td>\n",
       "      <td>64900000</td>\n",
       "      <td>159.0</td>\n",
       "      <td>2015-07-24</td>\n",
       "      <td>3</td>\n",
       "      <td>NaN</td>\n",
       "      <td>14</td>\n",
       "      <td>NaN</td>\n",
       "      <td>9</td>\n",
       "      <td>False</td>\n",
       "      <td>...</td>\n",
       "      <td>0</td>\n",
       "      <td>Санкт-Петербург</td>\n",
       "      <td>28098</td>\n",
       "      <td>6800.0</td>\n",
       "      <td>2</td>\n",
       "      <td>84</td>\n",
       "      <td>3</td>\n",
       "      <td>234</td>\n",
       "      <td>424</td>\n",
       "      <td>408176</td>\n",
       "    </tr>\n",
       "    <tr>\n",
       "      <td>4</td>\n",
       "      <td>2</td>\n",
       "      <td>10000000</td>\n",
       "      <td>100.0</td>\n",
       "      <td>2018-06-19</td>\n",
       "      <td>2</td>\n",
       "      <td>3.03</td>\n",
       "      <td>14</td>\n",
       "      <td>32.0</td>\n",
       "      <td>13</td>\n",
       "      <td>False</td>\n",
       "      <td>...</td>\n",
       "      <td>0</td>\n",
       "      <td>Санкт-Петербург</td>\n",
       "      <td>31856</td>\n",
       "      <td>8098.0</td>\n",
       "      <td>2</td>\n",
       "      <td>112</td>\n",
       "      <td>1</td>\n",
       "      <td>48</td>\n",
       "      <td>121</td>\n",
       "      <td>100000</td>\n",
       "    </tr>\n",
       "  </tbody>\n",
       "</table>\n",
       "<p>5 rows × 23 columns</p>\n",
       "</div>"
      ],
      "text/plain": [
       "   total_images  last_price  total_area first_day_exposition  rooms  \\\n",
       "0            20    13000000       108.0           2019-03-07      3   \n",
       "1             7     3350000        40.4           2018-12-04      1   \n",
       "2            10     5196000        56.0           2015-08-20      2   \n",
       "3             0    64900000       159.0           2015-07-24      3   \n",
       "4             2    10000000       100.0           2018-06-19      2   \n",
       "\n",
       "   ceiling_height  floors_total  living_area  floor  is_apartment  ...  \\\n",
       "0            2.70            16         51.0      8         False  ...   \n",
       "1             NaN            11         18.6      1         False  ...   \n",
       "2             NaN             5         34.3      4         False  ...   \n",
       "3             NaN            14          NaN      9         False  ...   \n",
       "4            3.03            14         32.0     13         False  ...   \n",
       "\n",
       "   balcony    locality_name  airports_nearest  city_centers_nearest  \\\n",
       "0        0  Санкт-Петербург             18863               16028.0   \n",
       "1        2   посёлок Шушары             12817               18603.0   \n",
       "2        0  Санкт-Петербург             21741               13933.0   \n",
       "3        0  Санкт-Петербург             28098                6800.0   \n",
       "4        0  Санкт-Петербург             31856                8098.0   \n",
       "\n",
       "  parks_around3000  parks_nearest  ponds_around3000  ponds_nearest  \\\n",
       "0                1            482                 2            755   \n",
       "1                0            NaN                 0            NaN   \n",
       "2                1             90                 2            574   \n",
       "3                2             84                 3            234   \n",
       "4                2            112                 1             48   \n",
       "\n",
       "   days_exposition  sq_meter_price  \n",
       "0              NaN          120370  \n",
       "1               81           82921  \n",
       "2              558           92786  \n",
       "3              424          408176  \n",
       "4              121          100000  \n",
       "\n",
       "[5 rows x 23 columns]"
      ]
     },
     "execution_count": 12,
     "metadata": {},
     "output_type": "execute_result"
    }
   ],
   "source": [
    "data['sq_meter_price'] = (data['last_price'] / data['total_area']).round().astype('int')\n",
    "data.head()"
   ]
  },
  {
   "cell_type": "markdown",
   "metadata": {},
   "source": [
    "### Добавление в таблицу дня недели, месяца и года публикации объявления"
   ]
  },
  {
   "cell_type": "code",
   "execution_count": 13,
   "metadata": {},
   "outputs": [
    {
     "data": {
      "text/html": [
       "<div>\n",
       "<style scoped>\n",
       "    .dataframe tbody tr th:only-of-type {\n",
       "        vertical-align: middle;\n",
       "    }\n",
       "\n",
       "    .dataframe tbody tr th {\n",
       "        vertical-align: top;\n",
       "    }\n",
       "\n",
       "    .dataframe thead th {\n",
       "        text-align: right;\n",
       "    }\n",
       "</style>\n",
       "<table border=\"1\" class=\"dataframe\">\n",
       "  <thead>\n",
       "    <tr style=\"text-align: right;\">\n",
       "      <th></th>\n",
       "      <th>total_images</th>\n",
       "      <th>last_price</th>\n",
       "      <th>total_area</th>\n",
       "      <th>first_day_exposition</th>\n",
       "      <th>rooms</th>\n",
       "      <th>ceiling_height</th>\n",
       "      <th>floors_total</th>\n",
       "      <th>living_area</th>\n",
       "      <th>floor</th>\n",
       "      <th>is_apartment</th>\n",
       "      <th>...</th>\n",
       "      <th>city_centers_nearest</th>\n",
       "      <th>parks_around3000</th>\n",
       "      <th>parks_nearest</th>\n",
       "      <th>ponds_around3000</th>\n",
       "      <th>ponds_nearest</th>\n",
       "      <th>days_exposition</th>\n",
       "      <th>sq_meter_price</th>\n",
       "      <th>year</th>\n",
       "      <th>weekday</th>\n",
       "      <th>month</th>\n",
       "    </tr>\n",
       "  </thead>\n",
       "  <tbody>\n",
       "    <tr>\n",
       "      <td>0</td>\n",
       "      <td>20</td>\n",
       "      <td>13000000</td>\n",
       "      <td>108.0</td>\n",
       "      <td>2019-03-07</td>\n",
       "      <td>3</td>\n",
       "      <td>2.70</td>\n",
       "      <td>16</td>\n",
       "      <td>51.0</td>\n",
       "      <td>8</td>\n",
       "      <td>False</td>\n",
       "      <td>...</td>\n",
       "      <td>16028.0</td>\n",
       "      <td>1</td>\n",
       "      <td>482</td>\n",
       "      <td>2</td>\n",
       "      <td>755</td>\n",
       "      <td>NaN</td>\n",
       "      <td>120370</td>\n",
       "      <td>2019</td>\n",
       "      <td>3-Чт</td>\n",
       "      <td>03-Март</td>\n",
       "    </tr>\n",
       "    <tr>\n",
       "      <td>1</td>\n",
       "      <td>7</td>\n",
       "      <td>3350000</td>\n",
       "      <td>40.4</td>\n",
       "      <td>2018-12-04</td>\n",
       "      <td>1</td>\n",
       "      <td>NaN</td>\n",
       "      <td>11</td>\n",
       "      <td>18.6</td>\n",
       "      <td>1</td>\n",
       "      <td>False</td>\n",
       "      <td>...</td>\n",
       "      <td>18603.0</td>\n",
       "      <td>0</td>\n",
       "      <td>NaN</td>\n",
       "      <td>0</td>\n",
       "      <td>NaN</td>\n",
       "      <td>81</td>\n",
       "      <td>82921</td>\n",
       "      <td>2018</td>\n",
       "      <td>1-Вт</td>\n",
       "      <td>12-Декабрь</td>\n",
       "    </tr>\n",
       "    <tr>\n",
       "      <td>2</td>\n",
       "      <td>10</td>\n",
       "      <td>5196000</td>\n",
       "      <td>56.0</td>\n",
       "      <td>2015-08-20</td>\n",
       "      <td>2</td>\n",
       "      <td>NaN</td>\n",
       "      <td>5</td>\n",
       "      <td>34.3</td>\n",
       "      <td>4</td>\n",
       "      <td>False</td>\n",
       "      <td>...</td>\n",
       "      <td>13933.0</td>\n",
       "      <td>1</td>\n",
       "      <td>90</td>\n",
       "      <td>2</td>\n",
       "      <td>574</td>\n",
       "      <td>558</td>\n",
       "      <td>92786</td>\n",
       "      <td>2015</td>\n",
       "      <td>3-Чт</td>\n",
       "      <td>08-Август</td>\n",
       "    </tr>\n",
       "    <tr>\n",
       "      <td>3</td>\n",
       "      <td>0</td>\n",
       "      <td>64900000</td>\n",
       "      <td>159.0</td>\n",
       "      <td>2015-07-24</td>\n",
       "      <td>3</td>\n",
       "      <td>NaN</td>\n",
       "      <td>14</td>\n",
       "      <td>NaN</td>\n",
       "      <td>9</td>\n",
       "      <td>False</td>\n",
       "      <td>...</td>\n",
       "      <td>6800.0</td>\n",
       "      <td>2</td>\n",
       "      <td>84</td>\n",
       "      <td>3</td>\n",
       "      <td>234</td>\n",
       "      <td>424</td>\n",
       "      <td>408176</td>\n",
       "      <td>2015</td>\n",
       "      <td>4-Пт</td>\n",
       "      <td>07-Июль</td>\n",
       "    </tr>\n",
       "    <tr>\n",
       "      <td>4</td>\n",
       "      <td>2</td>\n",
       "      <td>10000000</td>\n",
       "      <td>100.0</td>\n",
       "      <td>2018-06-19</td>\n",
       "      <td>2</td>\n",
       "      <td>3.03</td>\n",
       "      <td>14</td>\n",
       "      <td>32.0</td>\n",
       "      <td>13</td>\n",
       "      <td>False</td>\n",
       "      <td>...</td>\n",
       "      <td>8098.0</td>\n",
       "      <td>2</td>\n",
       "      <td>112</td>\n",
       "      <td>1</td>\n",
       "      <td>48</td>\n",
       "      <td>121</td>\n",
       "      <td>100000</td>\n",
       "      <td>2018</td>\n",
       "      <td>1-Вт</td>\n",
       "      <td>06-Июнь</td>\n",
       "    </tr>\n",
       "  </tbody>\n",
       "</table>\n",
       "<p>5 rows × 26 columns</p>\n",
       "</div>"
      ],
      "text/plain": [
       "   total_images  last_price  total_area first_day_exposition  rooms  \\\n",
       "0            20    13000000       108.0           2019-03-07      3   \n",
       "1             7     3350000        40.4           2018-12-04      1   \n",
       "2            10     5196000        56.0           2015-08-20      2   \n",
       "3             0    64900000       159.0           2015-07-24      3   \n",
       "4             2    10000000       100.0           2018-06-19      2   \n",
       "\n",
       "   ceiling_height  floors_total  living_area  floor  is_apartment  ...  \\\n",
       "0            2.70            16         51.0      8         False  ...   \n",
       "1             NaN            11         18.6      1         False  ...   \n",
       "2             NaN             5         34.3      4         False  ...   \n",
       "3             NaN            14          NaN      9         False  ...   \n",
       "4            3.03            14         32.0     13         False  ...   \n",
       "\n",
       "   city_centers_nearest  parks_around3000  parks_nearest  ponds_around3000  \\\n",
       "0               16028.0                 1            482                 2   \n",
       "1               18603.0                 0            NaN                 0   \n",
       "2               13933.0                 1             90                 2   \n",
       "3                6800.0                 2             84                 3   \n",
       "4                8098.0                 2            112                 1   \n",
       "\n",
       "  ponds_nearest  days_exposition  sq_meter_price  year  weekday       month  \n",
       "0           755              NaN          120370  2019     3-Чт     03-Март  \n",
       "1           NaN               81           82921  2018     1-Вт  12-Декабрь  \n",
       "2           574              558           92786  2015     3-Чт   08-Август  \n",
       "3           234              424          408176  2015     4-Пт     07-Июль  \n",
       "4            48              121          100000  2018     1-Вт     06-Июнь  \n",
       "\n",
       "[5 rows x 26 columns]"
      ]
     },
     "execution_count": 13,
     "metadata": {},
     "output_type": "execute_result"
    }
   ],
   "source": [
    "data['year'] = data['first_day_exposition'].dt.year \n",
    "data['weekday'] = data['first_day_exposition'].dt.weekday\n",
    "data.loc[data['weekday'] == 0, 'weekday'] = '0-Пн'\n",
    "data.loc[data['weekday'] == 1, 'weekday'] = '1-Вт'\n",
    "data.loc[data['weekday'] == 2, 'weekday'] = '2-Ср'\n",
    "data.loc[data['weekday'] == 3, 'weekday'] = '3-Чт'\n",
    "data.loc[data['weekday'] == 4, 'weekday'] = '4-Пт'\n",
    "data.loc[data['weekday'] == 5, 'weekday'] = '5-Сб'\n",
    "data.loc[data['weekday'] == 6, 'weekday'] = '6-Вс'\n",
    "data['month'] = data['first_day_exposition'].dt.month\n",
    "data.loc[data['month'] == 1, 'month'] = '01-Январь'\n",
    "data.loc[data['month'] == 2, 'month'] = '02-Февраль'\n",
    "data.loc[data['month'] == 3, 'month'] = '03-Март'\n",
    "data.loc[data['month'] == 4, 'month'] = '04-Апрель'\n",
    "data.loc[data['month'] == 5, 'month'] = '05-Май'\n",
    "data.loc[data['month'] == 6, 'month'] = '06-Июнь'\n",
    "data.loc[data['month'] == 7, 'month'] = '07-Июль'\n",
    "data.loc[data['month'] == 8, 'month'] = '08-Август'\n",
    "data.loc[data['month'] == 9, 'month'] = '09-Сентябрь'\n",
    "data.loc[data['month'] == 10, 'month'] = '10-Октябрь'\n",
    "data.loc[data['month'] == 11, 'month'] = '11-Ноябрь'\n",
    "data.loc[data['month'] == 12, 'month'] = '12-Декабрь'\n",
    "data.head()"
   ]
  },
  {
   "cell_type": "markdown",
   "metadata": {},
   "source": [
    "### Добавление в таблицу этажа квартиры (первый, последний или другой)"
   ]
  },
  {
   "cell_type": "code",
   "execution_count": 14,
   "metadata": {
    "scrolled": false
   },
   "outputs": [
    {
     "data": {
      "text/html": [
       "<div>\n",
       "<style scoped>\n",
       "    .dataframe tbody tr th:only-of-type {\n",
       "        vertical-align: middle;\n",
       "    }\n",
       "\n",
       "    .dataframe tbody tr th {\n",
       "        vertical-align: top;\n",
       "    }\n",
       "\n",
       "    .dataframe thead th {\n",
       "        text-align: right;\n",
       "    }\n",
       "</style>\n",
       "<table border=\"1\" class=\"dataframe\">\n",
       "  <thead>\n",
       "    <tr style=\"text-align: right;\">\n",
       "      <th></th>\n",
       "      <th>total_images</th>\n",
       "      <th>last_price</th>\n",
       "      <th>total_area</th>\n",
       "      <th>first_day_exposition</th>\n",
       "      <th>rooms</th>\n",
       "      <th>ceiling_height</th>\n",
       "      <th>floors_total</th>\n",
       "      <th>living_area</th>\n",
       "      <th>floor</th>\n",
       "      <th>is_apartment</th>\n",
       "      <th>...</th>\n",
       "      <th>parks_around3000</th>\n",
       "      <th>parks_nearest</th>\n",
       "      <th>ponds_around3000</th>\n",
       "      <th>ponds_nearest</th>\n",
       "      <th>days_exposition</th>\n",
       "      <th>sq_meter_price</th>\n",
       "      <th>year</th>\n",
       "      <th>weekday</th>\n",
       "      <th>month</th>\n",
       "      <th>apartment_floor</th>\n",
       "    </tr>\n",
       "  </thead>\n",
       "  <tbody>\n",
       "    <tr>\n",
       "      <td>0</td>\n",
       "      <td>20</td>\n",
       "      <td>13000000</td>\n",
       "      <td>108.00</td>\n",
       "      <td>2019-03-07</td>\n",
       "      <td>3</td>\n",
       "      <td>2.70</td>\n",
       "      <td>16</td>\n",
       "      <td>51.00</td>\n",
       "      <td>8</td>\n",
       "      <td>False</td>\n",
       "      <td>...</td>\n",
       "      <td>1</td>\n",
       "      <td>482</td>\n",
       "      <td>2</td>\n",
       "      <td>755</td>\n",
       "      <td>NaN</td>\n",
       "      <td>120370</td>\n",
       "      <td>2019</td>\n",
       "      <td>3-Чт</td>\n",
       "      <td>03-Март</td>\n",
       "      <td>2-другой</td>\n",
       "    </tr>\n",
       "    <tr>\n",
       "      <td>1</td>\n",
       "      <td>7</td>\n",
       "      <td>3350000</td>\n",
       "      <td>40.40</td>\n",
       "      <td>2018-12-04</td>\n",
       "      <td>1</td>\n",
       "      <td>NaN</td>\n",
       "      <td>11</td>\n",
       "      <td>18.60</td>\n",
       "      <td>1</td>\n",
       "      <td>False</td>\n",
       "      <td>...</td>\n",
       "      <td>0</td>\n",
       "      <td>NaN</td>\n",
       "      <td>0</td>\n",
       "      <td>NaN</td>\n",
       "      <td>81</td>\n",
       "      <td>82921</td>\n",
       "      <td>2018</td>\n",
       "      <td>1-Вт</td>\n",
       "      <td>12-Декабрь</td>\n",
       "      <td>1-первый</td>\n",
       "    </tr>\n",
       "    <tr>\n",
       "      <td>2</td>\n",
       "      <td>10</td>\n",
       "      <td>5196000</td>\n",
       "      <td>56.00</td>\n",
       "      <td>2015-08-20</td>\n",
       "      <td>2</td>\n",
       "      <td>NaN</td>\n",
       "      <td>5</td>\n",
       "      <td>34.30</td>\n",
       "      <td>4</td>\n",
       "      <td>False</td>\n",
       "      <td>...</td>\n",
       "      <td>1</td>\n",
       "      <td>90</td>\n",
       "      <td>2</td>\n",
       "      <td>574</td>\n",
       "      <td>558</td>\n",
       "      <td>92786</td>\n",
       "      <td>2015</td>\n",
       "      <td>3-Чт</td>\n",
       "      <td>08-Август</td>\n",
       "      <td>2-другой</td>\n",
       "    </tr>\n",
       "    <tr>\n",
       "      <td>3</td>\n",
       "      <td>0</td>\n",
       "      <td>64900000</td>\n",
       "      <td>159.00</td>\n",
       "      <td>2015-07-24</td>\n",
       "      <td>3</td>\n",
       "      <td>NaN</td>\n",
       "      <td>14</td>\n",
       "      <td>NaN</td>\n",
       "      <td>9</td>\n",
       "      <td>False</td>\n",
       "      <td>...</td>\n",
       "      <td>2</td>\n",
       "      <td>84</td>\n",
       "      <td>3</td>\n",
       "      <td>234</td>\n",
       "      <td>424</td>\n",
       "      <td>408176</td>\n",
       "      <td>2015</td>\n",
       "      <td>4-Пт</td>\n",
       "      <td>07-Июль</td>\n",
       "      <td>2-другой</td>\n",
       "    </tr>\n",
       "    <tr>\n",
       "      <td>4</td>\n",
       "      <td>2</td>\n",
       "      <td>10000000</td>\n",
       "      <td>100.00</td>\n",
       "      <td>2018-06-19</td>\n",
       "      <td>2</td>\n",
       "      <td>3.03</td>\n",
       "      <td>14</td>\n",
       "      <td>32.00</td>\n",
       "      <td>13</td>\n",
       "      <td>False</td>\n",
       "      <td>...</td>\n",
       "      <td>2</td>\n",
       "      <td>112</td>\n",
       "      <td>1</td>\n",
       "      <td>48</td>\n",
       "      <td>121</td>\n",
       "      <td>100000</td>\n",
       "      <td>2018</td>\n",
       "      <td>1-Вт</td>\n",
       "      <td>06-Июнь</td>\n",
       "      <td>2-другой</td>\n",
       "    </tr>\n",
       "    <tr>\n",
       "      <td>5</td>\n",
       "      <td>10</td>\n",
       "      <td>2890000</td>\n",
       "      <td>30.40</td>\n",
       "      <td>2018-09-10</td>\n",
       "      <td>1</td>\n",
       "      <td>NaN</td>\n",
       "      <td>12</td>\n",
       "      <td>14.40</td>\n",
       "      <td>5</td>\n",
       "      <td>False</td>\n",
       "      <td>...</td>\n",
       "      <td>0</td>\n",
       "      <td>NaN</td>\n",
       "      <td>1</td>\n",
       "      <td>NaN</td>\n",
       "      <td>55</td>\n",
       "      <td>95066</td>\n",
       "      <td>2018</td>\n",
       "      <td>0-Пн</td>\n",
       "      <td>09-Сентябрь</td>\n",
       "      <td>2-другой</td>\n",
       "    </tr>\n",
       "    <tr>\n",
       "      <td>6</td>\n",
       "      <td>6</td>\n",
       "      <td>3700000</td>\n",
       "      <td>37.30</td>\n",
       "      <td>2017-11-02</td>\n",
       "      <td>1</td>\n",
       "      <td>NaN</td>\n",
       "      <td>26</td>\n",
       "      <td>10.60</td>\n",
       "      <td>6</td>\n",
       "      <td>False</td>\n",
       "      <td>...</td>\n",
       "      <td>0</td>\n",
       "      <td>NaN</td>\n",
       "      <td>0</td>\n",
       "      <td>NaN</td>\n",
       "      <td>155</td>\n",
       "      <td>99196</td>\n",
       "      <td>2017</td>\n",
       "      <td>3-Чт</td>\n",
       "      <td>11-Ноябрь</td>\n",
       "      <td>2-другой</td>\n",
       "    </tr>\n",
       "    <tr>\n",
       "      <td>7</td>\n",
       "      <td>5</td>\n",
       "      <td>7915000</td>\n",
       "      <td>71.60</td>\n",
       "      <td>2019-04-18</td>\n",
       "      <td>2</td>\n",
       "      <td>NaN</td>\n",
       "      <td>24</td>\n",
       "      <td>NaN</td>\n",
       "      <td>22</td>\n",
       "      <td>False</td>\n",
       "      <td>...</td>\n",
       "      <td>0</td>\n",
       "      <td>NaN</td>\n",
       "      <td>0</td>\n",
       "      <td>NaN</td>\n",
       "      <td>NaN</td>\n",
       "      <td>110545</td>\n",
       "      <td>2019</td>\n",
       "      <td>3-Чт</td>\n",
       "      <td>04-Апрель</td>\n",
       "      <td>2-другой</td>\n",
       "    </tr>\n",
       "    <tr>\n",
       "      <td>8</td>\n",
       "      <td>20</td>\n",
       "      <td>2900000</td>\n",
       "      <td>33.16</td>\n",
       "      <td>2018-05-23</td>\n",
       "      <td>1</td>\n",
       "      <td>NaN</td>\n",
       "      <td>27</td>\n",
       "      <td>15.43</td>\n",
       "      <td>26</td>\n",
       "      <td>False</td>\n",
       "      <td>...</td>\n",
       "      <td>0</td>\n",
       "      <td>NaN</td>\n",
       "      <td>1</td>\n",
       "      <td>NaN</td>\n",
       "      <td>189</td>\n",
       "      <td>87455</td>\n",
       "      <td>2018</td>\n",
       "      <td>2-Ср</td>\n",
       "      <td>05-Май</td>\n",
       "      <td>2-другой</td>\n",
       "    </tr>\n",
       "    <tr>\n",
       "      <td>9</td>\n",
       "      <td>18</td>\n",
       "      <td>5400000</td>\n",
       "      <td>61.00</td>\n",
       "      <td>2017-02-26</td>\n",
       "      <td>3</td>\n",
       "      <td>2.50</td>\n",
       "      <td>9</td>\n",
       "      <td>43.60</td>\n",
       "      <td>7</td>\n",
       "      <td>False</td>\n",
       "      <td>...</td>\n",
       "      <td>0</td>\n",
       "      <td>NaN</td>\n",
       "      <td>0</td>\n",
       "      <td>NaN</td>\n",
       "      <td>289</td>\n",
       "      <td>88525</td>\n",
       "      <td>2017</td>\n",
       "      <td>6-Вс</td>\n",
       "      <td>02-Февраль</td>\n",
       "      <td>2-другой</td>\n",
       "    </tr>\n",
       "    <tr>\n",
       "      <td>10</td>\n",
       "      <td>5</td>\n",
       "      <td>5050000</td>\n",
       "      <td>39.60</td>\n",
       "      <td>2017-11-16</td>\n",
       "      <td>1</td>\n",
       "      <td>2.67</td>\n",
       "      <td>12</td>\n",
       "      <td>20.30</td>\n",
       "      <td>3</td>\n",
       "      <td>False</td>\n",
       "      <td>...</td>\n",
       "      <td>1</td>\n",
       "      <td>310</td>\n",
       "      <td>2</td>\n",
       "      <td>553</td>\n",
       "      <td>137</td>\n",
       "      <td>127525</td>\n",
       "      <td>2017</td>\n",
       "      <td>3-Чт</td>\n",
       "      <td>11-Ноябрь</td>\n",
       "      <td>2-другой</td>\n",
       "    </tr>\n",
       "    <tr>\n",
       "      <td>11</td>\n",
       "      <td>9</td>\n",
       "      <td>3300000</td>\n",
       "      <td>44.00</td>\n",
       "      <td>2018-08-27</td>\n",
       "      <td>2</td>\n",
       "      <td>NaN</td>\n",
       "      <td>5</td>\n",
       "      <td>31.00</td>\n",
       "      <td>4</td>\n",
       "      <td>False</td>\n",
       "      <td>...</td>\n",
       "      <td>0</td>\n",
       "      <td>NaN</td>\n",
       "      <td>0</td>\n",
       "      <td>NaN</td>\n",
       "      <td>7</td>\n",
       "      <td>75000</td>\n",
       "      <td>2018</td>\n",
       "      <td>0-Пн</td>\n",
       "      <td>08-Август</td>\n",
       "      <td>2-другой</td>\n",
       "    </tr>\n",
       "    <tr>\n",
       "      <td>12</td>\n",
       "      <td>10</td>\n",
       "      <td>3890000</td>\n",
       "      <td>54.00</td>\n",
       "      <td>2016-06-30</td>\n",
       "      <td>2</td>\n",
       "      <td>NaN</td>\n",
       "      <td>5</td>\n",
       "      <td>30.00</td>\n",
       "      <td>5</td>\n",
       "      <td>False</td>\n",
       "      <td>...</td>\n",
       "      <td>0</td>\n",
       "      <td>NaN</td>\n",
       "      <td>1</td>\n",
       "      <td>NaN</td>\n",
       "      <td>90</td>\n",
       "      <td>72037</td>\n",
       "      <td>2016</td>\n",
       "      <td>3-Чт</td>\n",
       "      <td>06-Июнь</td>\n",
       "      <td>3-последний</td>\n",
       "    </tr>\n",
       "    <tr>\n",
       "      <td>13</td>\n",
       "      <td>20</td>\n",
       "      <td>3550000</td>\n",
       "      <td>42.80</td>\n",
       "      <td>2017-07-01</td>\n",
       "      <td>2</td>\n",
       "      <td>2.56</td>\n",
       "      <td>5</td>\n",
       "      <td>27.00</td>\n",
       "      <td>5</td>\n",
       "      <td>False</td>\n",
       "      <td>...</td>\n",
       "      <td>1</td>\n",
       "      <td>294</td>\n",
       "      <td>3</td>\n",
       "      <td>298</td>\n",
       "      <td>366</td>\n",
       "      <td>82944</td>\n",
       "      <td>2017</td>\n",
       "      <td>5-Сб</td>\n",
       "      <td>07-Июль</td>\n",
       "      <td>3-последний</td>\n",
       "    </tr>\n",
       "    <tr>\n",
       "      <td>14</td>\n",
       "      <td>1</td>\n",
       "      <td>4400000</td>\n",
       "      <td>36.00</td>\n",
       "      <td>2016-06-23</td>\n",
       "      <td>1</td>\n",
       "      <td>NaN</td>\n",
       "      <td>6</td>\n",
       "      <td>17.00</td>\n",
       "      <td>1</td>\n",
       "      <td>False</td>\n",
       "      <td>...</td>\n",
       "      <td>0</td>\n",
       "      <td>NaN</td>\n",
       "      <td>1</td>\n",
       "      <td>96</td>\n",
       "      <td>203</td>\n",
       "      <td>122222</td>\n",
       "      <td>2016</td>\n",
       "      <td>3-Чт</td>\n",
       "      <td>06-Июнь</td>\n",
       "      <td>1-первый</td>\n",
       "    </tr>\n",
       "  </tbody>\n",
       "</table>\n",
       "<p>15 rows × 27 columns</p>\n",
       "</div>"
      ],
      "text/plain": [
       "    total_images  last_price  total_area first_day_exposition  rooms  \\\n",
       "0             20    13000000      108.00           2019-03-07      3   \n",
       "1              7     3350000       40.40           2018-12-04      1   \n",
       "2             10     5196000       56.00           2015-08-20      2   \n",
       "3              0    64900000      159.00           2015-07-24      3   \n",
       "4              2    10000000      100.00           2018-06-19      2   \n",
       "5             10     2890000       30.40           2018-09-10      1   \n",
       "6              6     3700000       37.30           2017-11-02      1   \n",
       "7              5     7915000       71.60           2019-04-18      2   \n",
       "8             20     2900000       33.16           2018-05-23      1   \n",
       "9             18     5400000       61.00           2017-02-26      3   \n",
       "10             5     5050000       39.60           2017-11-16      1   \n",
       "11             9     3300000       44.00           2018-08-27      2   \n",
       "12            10     3890000       54.00           2016-06-30      2   \n",
       "13            20     3550000       42.80           2017-07-01      2   \n",
       "14             1     4400000       36.00           2016-06-23      1   \n",
       "\n",
       "    ceiling_height  floors_total  living_area  floor  is_apartment  ...  \\\n",
       "0             2.70            16        51.00      8         False  ...   \n",
       "1              NaN            11        18.60      1         False  ...   \n",
       "2              NaN             5        34.30      4         False  ...   \n",
       "3              NaN            14          NaN      9         False  ...   \n",
       "4             3.03            14        32.00     13         False  ...   \n",
       "5              NaN            12        14.40      5         False  ...   \n",
       "6              NaN            26        10.60      6         False  ...   \n",
       "7              NaN            24          NaN     22         False  ...   \n",
       "8              NaN            27        15.43     26         False  ...   \n",
       "9             2.50             9        43.60      7         False  ...   \n",
       "10            2.67            12        20.30      3         False  ...   \n",
       "11             NaN             5        31.00      4         False  ...   \n",
       "12             NaN             5        30.00      5         False  ...   \n",
       "13            2.56             5        27.00      5         False  ...   \n",
       "14             NaN             6        17.00      1         False  ...   \n",
       "\n",
       "    parks_around3000  parks_nearest  ponds_around3000  ponds_nearest  \\\n",
       "0                  1            482                 2            755   \n",
       "1                  0            NaN                 0            NaN   \n",
       "2                  1             90                 2            574   \n",
       "3                  2             84                 3            234   \n",
       "4                  2            112                 1             48   \n",
       "5                  0            NaN                 1            NaN   \n",
       "6                  0            NaN                 0            NaN   \n",
       "7                  0            NaN                 0            NaN   \n",
       "8                  0            NaN                 1            NaN   \n",
       "9                  0            NaN                 0            NaN   \n",
       "10                 1            310                 2            553   \n",
       "11                 0            NaN                 0            NaN   \n",
       "12                 0            NaN                 1            NaN   \n",
       "13                 1            294                 3            298   \n",
       "14                 0            NaN                 1             96   \n",
       "\n",
       "   days_exposition  sq_meter_price  year  weekday        month  \\\n",
       "0              NaN          120370  2019     3-Чт      03-Март   \n",
       "1               81           82921  2018     1-Вт   12-Декабрь   \n",
       "2              558           92786  2015     3-Чт    08-Август   \n",
       "3              424          408176  2015     4-Пт      07-Июль   \n",
       "4              121          100000  2018     1-Вт      06-Июнь   \n",
       "5               55           95066  2018     0-Пн  09-Сентябрь   \n",
       "6              155           99196  2017     3-Чт    11-Ноябрь   \n",
       "7              NaN          110545  2019     3-Чт    04-Апрель   \n",
       "8              189           87455  2018     2-Ср       05-Май   \n",
       "9              289           88525  2017     6-Вс   02-Февраль   \n",
       "10             137          127525  2017     3-Чт    11-Ноябрь   \n",
       "11               7           75000  2018     0-Пн    08-Август   \n",
       "12              90           72037  2016     3-Чт      06-Июнь   \n",
       "13             366           82944  2017     5-Сб      07-Июль   \n",
       "14             203          122222  2016     3-Чт      06-Июнь   \n",
       "\n",
       "    apartment_floor  \n",
       "0          2-другой  \n",
       "1          1-первый  \n",
       "2          2-другой  \n",
       "3          2-другой  \n",
       "4          2-другой  \n",
       "5          2-другой  \n",
       "6          2-другой  \n",
       "7          2-другой  \n",
       "8          2-другой  \n",
       "9          2-другой  \n",
       "10         2-другой  \n",
       "11         2-другой  \n",
       "12      3-последний  \n",
       "13      3-последний  \n",
       "14         1-первый  \n",
       "\n",
       "[15 rows x 27 columns]"
      ]
     },
     "execution_count": 14,
     "metadata": {},
     "output_type": "execute_result"
    }
   ],
   "source": [
    "def floor(row):\n",
    "    if row['floor'] == 1:\n",
    "        return '1-первый'\n",
    "    elif row['floors_total'] - row['floor'] == 0:\n",
    "        return '3-последний'\n",
    "    else:\n",
    "        return '2-другой'\n",
    "                              \n",
    "data['apartment_floor'] = data.apply(floor, axis=1)\n",
    "data.head(15)"
   ]
  },
  {
   "cell_type": "markdown",
   "metadata": {},
   "source": [
    "### Добавление в таблицу соотношения жилой площади и площади кухни к общей"
   ]
  },
  {
   "cell_type": "code",
   "execution_count": 15,
   "metadata": {},
   "outputs": [
    {
     "data": {
      "text/html": [
       "<div>\n",
       "<style scoped>\n",
       "    .dataframe tbody tr th:only-of-type {\n",
       "        vertical-align: middle;\n",
       "    }\n",
       "\n",
       "    .dataframe tbody tr th {\n",
       "        vertical-align: top;\n",
       "    }\n",
       "\n",
       "    .dataframe thead th {\n",
       "        text-align: right;\n",
       "    }\n",
       "</style>\n",
       "<table border=\"1\" class=\"dataframe\">\n",
       "  <thead>\n",
       "    <tr style=\"text-align: right;\">\n",
       "      <th></th>\n",
       "      <th>total_images</th>\n",
       "      <th>last_price</th>\n",
       "      <th>total_area</th>\n",
       "      <th>first_day_exposition</th>\n",
       "      <th>rooms</th>\n",
       "      <th>ceiling_height</th>\n",
       "      <th>floors_total</th>\n",
       "      <th>living_area</th>\n",
       "      <th>floor</th>\n",
       "      <th>is_apartment</th>\n",
       "      <th>...</th>\n",
       "      <th>ponds_around3000</th>\n",
       "      <th>ponds_nearest</th>\n",
       "      <th>days_exposition</th>\n",
       "      <th>sq_meter_price</th>\n",
       "      <th>year</th>\n",
       "      <th>weekday</th>\n",
       "      <th>month</th>\n",
       "      <th>apartment_floor</th>\n",
       "      <th>ratio_living_area</th>\n",
       "      <th>ratio_kitchen_area</th>\n",
       "    </tr>\n",
       "  </thead>\n",
       "  <tbody>\n",
       "    <tr>\n",
       "      <td>0</td>\n",
       "      <td>20</td>\n",
       "      <td>13000000</td>\n",
       "      <td>108.0</td>\n",
       "      <td>2019-03-07</td>\n",
       "      <td>3</td>\n",
       "      <td>2.70</td>\n",
       "      <td>16</td>\n",
       "      <td>51.0</td>\n",
       "      <td>8</td>\n",
       "      <td>False</td>\n",
       "      <td>...</td>\n",
       "      <td>2</td>\n",
       "      <td>755</td>\n",
       "      <td>NaN</td>\n",
       "      <td>120370</td>\n",
       "      <td>2019</td>\n",
       "      <td>3-Чт</td>\n",
       "      <td>03-Март</td>\n",
       "      <td>2-другой</td>\n",
       "      <td>0.472</td>\n",
       "      <td>0.231</td>\n",
       "    </tr>\n",
       "    <tr>\n",
       "      <td>1</td>\n",
       "      <td>7</td>\n",
       "      <td>3350000</td>\n",
       "      <td>40.4</td>\n",
       "      <td>2018-12-04</td>\n",
       "      <td>1</td>\n",
       "      <td>NaN</td>\n",
       "      <td>11</td>\n",
       "      <td>18.6</td>\n",
       "      <td>1</td>\n",
       "      <td>False</td>\n",
       "      <td>...</td>\n",
       "      <td>0</td>\n",
       "      <td>NaN</td>\n",
       "      <td>81</td>\n",
       "      <td>82921</td>\n",
       "      <td>2018</td>\n",
       "      <td>1-Вт</td>\n",
       "      <td>12-Декабрь</td>\n",
       "      <td>1-первый</td>\n",
       "      <td>0.460</td>\n",
       "      <td>0.272</td>\n",
       "    </tr>\n",
       "    <tr>\n",
       "      <td>2</td>\n",
       "      <td>10</td>\n",
       "      <td>5196000</td>\n",
       "      <td>56.0</td>\n",
       "      <td>2015-08-20</td>\n",
       "      <td>2</td>\n",
       "      <td>NaN</td>\n",
       "      <td>5</td>\n",
       "      <td>34.3</td>\n",
       "      <td>4</td>\n",
       "      <td>False</td>\n",
       "      <td>...</td>\n",
       "      <td>2</td>\n",
       "      <td>574</td>\n",
       "      <td>558</td>\n",
       "      <td>92786</td>\n",
       "      <td>2015</td>\n",
       "      <td>3-Чт</td>\n",
       "      <td>08-Август</td>\n",
       "      <td>2-другой</td>\n",
       "      <td>0.612</td>\n",
       "      <td>0.148</td>\n",
       "    </tr>\n",
       "    <tr>\n",
       "      <td>3</td>\n",
       "      <td>0</td>\n",
       "      <td>64900000</td>\n",
       "      <td>159.0</td>\n",
       "      <td>2015-07-24</td>\n",
       "      <td>3</td>\n",
       "      <td>NaN</td>\n",
       "      <td>14</td>\n",
       "      <td>NaN</td>\n",
       "      <td>9</td>\n",
       "      <td>False</td>\n",
       "      <td>...</td>\n",
       "      <td>3</td>\n",
       "      <td>234</td>\n",
       "      <td>424</td>\n",
       "      <td>408176</td>\n",
       "      <td>2015</td>\n",
       "      <td>4-Пт</td>\n",
       "      <td>07-Июль</td>\n",
       "      <td>2-другой</td>\n",
       "      <td>NaN</td>\n",
       "      <td>NaN</td>\n",
       "    </tr>\n",
       "    <tr>\n",
       "      <td>4</td>\n",
       "      <td>2</td>\n",
       "      <td>10000000</td>\n",
       "      <td>100.0</td>\n",
       "      <td>2018-06-19</td>\n",
       "      <td>2</td>\n",
       "      <td>3.03</td>\n",
       "      <td>14</td>\n",
       "      <td>32.0</td>\n",
       "      <td>13</td>\n",
       "      <td>False</td>\n",
       "      <td>...</td>\n",
       "      <td>1</td>\n",
       "      <td>48</td>\n",
       "      <td>121</td>\n",
       "      <td>100000</td>\n",
       "      <td>2018</td>\n",
       "      <td>1-Вт</td>\n",
       "      <td>06-Июнь</td>\n",
       "      <td>2-другой</td>\n",
       "      <td>0.320</td>\n",
       "      <td>0.410</td>\n",
       "    </tr>\n",
       "  </tbody>\n",
       "</table>\n",
       "<p>5 rows × 29 columns</p>\n",
       "</div>"
      ],
      "text/plain": [
       "   total_images  last_price  total_area first_day_exposition  rooms  \\\n",
       "0            20    13000000       108.0           2019-03-07      3   \n",
       "1             7     3350000        40.4           2018-12-04      1   \n",
       "2            10     5196000        56.0           2015-08-20      2   \n",
       "3             0    64900000       159.0           2015-07-24      3   \n",
       "4             2    10000000       100.0           2018-06-19      2   \n",
       "\n",
       "   ceiling_height  floors_total  living_area  floor  is_apartment  ...  \\\n",
       "0            2.70            16         51.0      8         False  ...   \n",
       "1             NaN            11         18.6      1         False  ...   \n",
       "2             NaN             5         34.3      4         False  ...   \n",
       "3             NaN            14          NaN      9         False  ...   \n",
       "4            3.03            14         32.0     13         False  ...   \n",
       "\n",
       "   ponds_around3000  ponds_nearest  days_exposition  sq_meter_price  year  \\\n",
       "0                 2            755              NaN          120370  2019   \n",
       "1                 0            NaN               81           82921  2018   \n",
       "2                 2            574              558           92786  2015   \n",
       "3                 3            234              424          408176  2015   \n",
       "4                 1             48              121          100000  2018   \n",
       "\n",
       "   weekday       month  apartment_floor  ratio_living_area  ratio_kitchen_area  \n",
       "0     3-Чт     03-Март         2-другой              0.472               0.231  \n",
       "1     1-Вт  12-Декабрь         1-первый              0.460               0.272  \n",
       "2     3-Чт   08-Август         2-другой              0.612               0.148  \n",
       "3     4-Пт     07-Июль         2-другой                NaN                 NaN  \n",
       "4     1-Вт     06-Июнь         2-другой              0.320               0.410  \n",
       "\n",
       "[5 rows x 29 columns]"
      ]
     },
     "execution_count": 15,
     "metadata": {},
     "output_type": "execute_result"
    }
   ],
   "source": [
    "data['ratio_living_area'] = round(data['living_area'] / data['total_area'], 3)\n",
    "data['ratio_kitchen_area'] = round(data['kitchen_area'] / data['total_area'], 3)\n",
    "data.head()"
   ]
  },
  {
   "cell_type": "markdown",
   "metadata": {},
   "source": [
    "## Исследовательский анализ данных"
   ]
  },
  {
   "cell_type": "markdown",
   "metadata": {},
   "source": [
    "### Изучение параметров "
   ]
  },
  {
   "cell_type": "markdown",
   "metadata": {},
   "source": [
    "1. Построим гистограмму для площадей квартир:"
   ]
  },
  {
   "cell_type": "code",
   "execution_count": 16,
   "metadata": {
    "scrolled": false
   },
   "outputs": [
    {
     "data": {
      "text/plain": [
       "<matplotlib.axes._subplots.AxesSubplot at 0x7fe138469210>"
      ]
     },
     "execution_count": 16,
     "metadata": {},
     "output_type": "execute_result"
    },
    {
     "data": {
      "image/png": "[encoded data removed]",
      "text/plain": [
       "<Figure size 576x576 with 1 Axes>"
      ]
     },
     "metadata": {
      "needs_background": "light"
     },
     "output_type": "display_data"
    }
   ],
   "source": [
    "data['total_area'].hist(figsize=(8,8), bins=100, range=(0, 400))"
   ]
  },
  {
   "cell_type": "markdown",
   "metadata": {},
   "source": [
    "***Вывод***: \n",
    "Из гистограммы видно, что большинство квартир имеют площадь примерно 48 квадратных метров. \n",
    "\n",
    "Квартир, площадью больше 200 квадратных метров достаточно мало. Будем считать их редкими значениями и уберем из данных."
   ]
  },
  {
   "cell_type": "code",
   "execution_count": 17,
   "metadata": {},
   "outputs": [
    {
     "data": {
      "text/plain": [
       "<matplotlib.axes._subplots.AxesSubplot at 0x7fe1390ea750>"
      ]
     },
     "execution_count": 17,
     "metadata": {},
     "output_type": "execute_result"
    },
    {
     "data": {
      "image/png": "[encoded data removed]",
      "text/plain": [
       "<Figure size 432x288 with 1 Axes>"
      ]
     },
     "metadata": {
      "needs_background": "light"
     },
     "output_type": "display_data"
    }
   ],
   "source": [
    "data = data.query('total_area < 200')\n",
    "data['total_area'].hist(bins=50)"
   ]
  },
  {
   "cell_type": "markdown",
   "metadata": {},
   "source": [
    "2. Построим гистограмму для стоимости квартир:"
   ]
  },
  {
   "cell_type": "code",
   "execution_count": 18,
   "metadata": {},
   "outputs": [
    {
     "data": {
      "text/plain": [
       "<matplotlib.axes._subplots.AxesSubplot at 0x7fe12ff520d0>"
      ]
     },
     "execution_count": 18,
     "metadata": {},
     "output_type": "execute_result"
    },
    {
     "data": {
      "image/png": "[encoded data removed]",
      "text/plain": [
       "<Figure size 504x504 with 1 Axes>"
      ]
     },
     "metadata": {
      "needs_background": "light"
     },
     "output_type": "display_data"
    }
   ],
   "source": [
    "data['last_price'].hist(figsize=(7, 7), bins=10, range=(3000000, 9000000))"
   ]
  },
  {
   "cell_type": "markdown",
   "metadata": {},
   "source": [
    "***Вывод***: Из гистограмм видно, что стоимость большинства квартир составляет примерно 4,5 млн рублей.\n",
    "\n",
    "Ограничим цены кватир:"
   ]
  },
  {
   "cell_type": "code",
   "execution_count": 19,
   "metadata": {},
   "outputs": [
    {
     "data": {
      "text/plain": [
       "<matplotlib.axes._subplots.AxesSubplot at 0x7fe12fe64690>"
      ]
     },
     "execution_count": 19,
     "metadata": {},
     "output_type": "execute_result"
    },
    {
     "data": {
      "image/png": "[encoded data removed]",
      "text/plain": [
       "<Figure size 432x288 with 1 Axes>"
      ]
     },
     "metadata": {
      "needs_background": "light"
     },
     "output_type": "display_data"
    }
   ],
   "source": [
    "data = data.query('500000 < last_price < 100000000')\n",
    "data['last_price'].hist(bins=100)"
   ]
  },
  {
   "cell_type": "markdown",
   "metadata": {},
   "source": [
    "3. Построим гистограмму для количества комнат:"
   ]
  },
  {
   "cell_type": "code",
   "execution_count": 20,
   "metadata": {},
   "outputs": [
    {
     "data": {
      "text/plain": [
       "<matplotlib.axes._subplots.AxesSubplot at 0x7fe12fd4fe50>"
      ]
     },
     "execution_count": 20,
     "metadata": {},
     "output_type": "execute_result"
    },
    {
     "data": {
      "image/png": "[encoded data removed]",
      "text/plain": [
       "<Figure size 576x576 with 1 Axes>"
      ]
     },
     "metadata": {
      "needs_background": "light"
     },
     "output_type": "display_data"
    }
   ],
   "source": [
    "data['rooms'].hist(figsize=(8,8))"
   ]
  },
  {
   "cell_type": "markdown",
   "metadata": {},
   "source": [
    "***Вывод:*** Судя по гистограмме, преобладает количество однокомнатных и двухкомнатных квартир - их количество несильно различается.\n",
    "\n",
    "Ограничим количество комнат до семи (т. к. квартир с количеством комнат превышающим 7 достаточно мало). "
   ]
  },
  {
   "cell_type": "code",
   "execution_count": 21,
   "metadata": {},
   "outputs": [
    {
     "data": {
      "text/plain": [
       "<matplotlib.axes._subplots.AxesSubplot at 0x7fe12fc42a10>"
      ]
     },
     "execution_count": 21,
     "metadata": {},
     "output_type": "execute_result"
    },
    {
     "data": {
      "image/png": "[encoded data removed]",
      "text/plain": [
       "<Figure size 432x288 with 1 Axes>"
      ]
     },
     "metadata": {
      "needs_background": "light"
     },
     "output_type": "display_data"
    }
   ],
   "source": [
    "data = data.query('rooms <= 7')\n",
    "data['rooms'].hist(bins=7)"
   ]
  },
  {
   "cell_type": "markdown",
   "metadata": {},
   "source": [
    "4. Построим гисторамму для высоты потолков:"
   ]
  },
  {
   "cell_type": "code",
   "execution_count": 22,
   "metadata": {},
   "outputs": [
    {
     "data": {
      "text/plain": [
       "<matplotlib.axes._subplots.AxesSubplot at 0x7fe12fbc8ed0>"
      ]
     },
     "execution_count": 22,
     "metadata": {},
     "output_type": "execute_result"
    },
    {
     "data": {
      "image/png": "[encoded data removed]",
      "text/plain": [
       "<Figure size 576x576 with 1 Axes>"
      ]
     },
     "metadata": {
      "needs_background": "light"
     },
     "output_type": "display_data"
    }
   ],
   "source": [
    "data['ceiling_height'].hist(bins=50, range=(2, 5), figsize=(8, 8))"
   ]
  },
  {
   "cell_type": "markdown",
   "metadata": {},
   "source": [
    "***Вывод:*** Гистограмма показывает, что у большинства квартир высота 2,5 метра. \n",
    "\n",
    "Высоту потолков ограничим нижним значением - 2,4 метра, и верхним - 4 метра."
   ]
  },
  {
   "cell_type": "code",
   "execution_count": 23,
   "metadata": {},
   "outputs": [
    {
     "data": {
      "text/plain": [
       "<matplotlib.axes._subplots.AxesSubplot at 0x7fe12fc7df10>"
      ]
     },
     "execution_count": 23,
     "metadata": {},
     "output_type": "execute_result"
    },
    {
     "data": {
      "image/png": "[encoded data removed]",
      "text/plain": [
       "<Figure size 432x288 with 1 Axes>"
      ]
     },
     "metadata": {
      "needs_background": "light"
     },
     "output_type": "display_data"
    }
   ],
   "source": [
    "data = data.query('2.4 <= ceiling_height <= 4')\n",
    "data['ceiling_height'].hist()"
   ]
  },
  {
   "cell_type": "markdown",
   "metadata": {},
   "source": [
    "5. Построим гистограмму для времени продажи квартир:"
   ]
  },
  {
   "cell_type": "code",
   "execution_count": 24,
   "metadata": {},
   "outputs": [
    {
     "data": {
      "text/plain": [
       "<matplotlib.axes._subplots.AxesSubplot at 0x7fe12f9e8c10>"
      ]
     },
     "execution_count": 24,
     "metadata": {},
     "output_type": "execute_result"
    },
    {
     "data": {
      "image/png": "[encoded data removed]",
      "text/plain": [
       "<Figure size 576x576 with 1 Axes>"
      ]
     },
     "metadata": {
      "needs_background": "light"
     },
     "output_type": "display_data"
    }
   ],
   "source": [
    "data['days_exposition'].hist(figsize=(8, 8), bins=100)"
   ]
  },
  {
   "cell_type": "markdown",
   "metadata": {},
   "source": [
    "***Вывод:*** Похоже, что большинство квартир продаются в течении 100 дней. Так же наблюдаются слишком быстрые продажи (значения, близкие к нулю) и достаточно долгие продажи - от 400 дней.\n",
    "\n",
    "Посчитаем среднее количество дней продажи и медиану:"
   ]
  },
  {
   "cell_type": "code",
   "execution_count": 25,
   "metadata": {},
   "outputs": [
    {
     "name": "stdout",
     "output_type": "stream",
     "text": [
      "Среднее время продажи: 189.0191351260221\n",
      "Медианное время продажи: 103.0\n"
     ]
    }
   ],
   "source": [
    "mean_sale_time = data['days_exposition'].mean()\n",
    "median_sale_time = data['days_exposition'].median()\n",
    "print('Среднее время продажи:', mean_sale_time)\n",
    "print('Медианное время продажи:', median_sale_time)"
   ]
  },
  {
   "cell_type": "markdown",
   "metadata": {},
   "source": [
    "Среднее время продажи практически в два раза больше медианного. Выходит, чересчур долгие продажи сильно повлияли на среднее значение.\n",
    "\n",
    "Уберем из данных слишком короткие прдажи - до 2 дней, и слишком долгие продажи - свыше 1000 дней. Таких продаж не слишком много, поэтому важные данные не пострадают."
   ]
  },
  {
   "cell_type": "code",
   "execution_count": 26,
   "metadata": {
    "scrolled": false
   },
   "outputs": [
    {
     "data": {
      "text/plain": [
       "<matplotlib.axes._subplots.AxesSubplot at 0x7fe12fa0c950>"
      ]
     },
     "execution_count": 26,
     "metadata": {},
     "output_type": "execute_result"
    },
    {
     "data": {
      "image/png": "[encoded data removed]",
      "text/plain": [
       "<Figure size 432x288 with 1 Axes>"
      ]
     },
     "metadata": {
      "needs_background": "light"
     },
     "output_type": "display_data"
    }
   ],
   "source": [
    "data = data.query('2 <= days_exposition <= 1000')\n",
    "data['days_exposition'].hist(bins=50)"
   ]
  },
  {
   "cell_type": "markdown",
   "metadata": {},
   "source": [
    "### Построение графиков"
   ]
  },
  {
   "cell_type": "markdown",
   "metadata": {},
   "source": [
    "Построим графики зависимости цены от площади, числа комнат, удалённости от центра, этажа расположения квартиры, и даты размещения."
   ]
  },
  {
   "cell_type": "markdown",
   "metadata": {},
   "source": [
    "1) зависимость цены от площади:"
   ]
  },
  {
   "cell_type": "code",
   "execution_count": 27,
   "metadata": {
    "scrolled": false
   },
   "outputs": [
    {
     "data": {
      "text/plain": [
       "<matplotlib.axes._subplots.AxesSubplot at 0x7fe12f9e0a50>"
      ]
     },
     "execution_count": 27,
     "metadata": {},
     "output_type": "execute_result"
    },
    {
     "data": {
      "image/png": "[encoded data removed]",
      "text/plain": [
       "<Figure size 648x648 with 1 Axes>"
      ]
     },
     "metadata": {
      "needs_background": "light"
     },
     "output_type": "display_data"
    }
   ],
   "source": [
    "(data\n",
    " .pivot_table(index='total_area', values='last_price')\n",
    " .plot(ylim=(4000000, 20000000), style='o', grid=True, figsize=(9, 9)))"
   ]
  },
  {
   "cell_type": "markdown",
   "metadata": {},
   "source": [
    "***Вывод:*** График показал, что цена квартиры напрямую зависит от площади квартиры. Чем больше площадь - тем выше стоимость."
   ]
  },
  {
   "cell_type": "markdown",
   "metadata": {},
   "source": [
    "Посчитаем коэффициент корреляции цены и площади квартиры:"
   ]
  },
  {
   "cell_type": "code",
   "execution_count": 28,
   "metadata": {},
   "outputs": [
    {
     "name": "stdout",
     "output_type": "stream",
     "text": [
      "Коэффициент корреляции цены и площади квартиры: 0.7406912551619681\n"
     ]
    }
   ],
   "source": [
    "print('Коэффициент корреляции цены и площади квартиры:', data['last_price'].corr(data['total_area']))"
   ]
  },
  {
   "cell_type": "markdown",
   "metadata": {},
   "source": [
    "***Вывод:*** Кэффициент корреляции достаточно близок к единице, что подтверждает прямую зависимость цены от площади."
   ]
  },
  {
   "cell_type": "markdown",
   "metadata": {},
   "source": [
    "2) зависимость цены от числа комнат:"
   ]
  },
  {
   "cell_type": "code",
   "execution_count": 29,
   "metadata": {
    "scrolled": false
   },
   "outputs": [
    {
     "data": {
      "text/plain": [
       "<matplotlib.axes._subplots.AxesSubplot at 0x7fe12f6f4d50>"
      ]
     },
     "execution_count": 29,
     "metadata": {},
     "output_type": "execute_result"
    },
    {
     "data": {
      "image/png": "[encoded data removed]",
      "text/plain": [
       "<Figure size 648x648 with 1 Axes>"
      ]
     },
     "metadata": {
      "needs_background": "light"
     },
     "output_type": "display_data"
    }
   ],
   "source": [
    "(data\n",
    " .pivot_table(index='rooms', values='last_price')\n",
    " .plot(style='o-', grid=True, figsize=(9, 9))\n",
    ")"
   ]
  },
  {
   "cell_type": "markdown",
   "metadata": {},
   "source": [
    "***Вывод:*** Судя по графику, цена квартиры так же напрямую зависит от количества комнат. Чем больше комнат - тем выше цена."
   ]
  },
  {
   "cell_type": "markdown",
   "metadata": {},
   "source": [
    "Посчитаем коэффициент корреляции цены и количества комнат в квартире:"
   ]
  },
  {
   "cell_type": "code",
   "execution_count": 30,
   "metadata": {
    "scrolled": true
   },
   "outputs": [
    {
     "name": "stdout",
     "output_type": "stream",
     "text": [
      "Коэффициент корреляции цены и количества комнат в квартире: 0.4449672648121183\n"
     ]
    }
   ],
   "source": [
    "print('Коэффициент корреляции цены и количества комнат в квартире:', data['last_price'].corr(data['rooms']))"
   ]
  },
  {
   "cell_type": "markdown",
   "metadata": {},
   "source": [
    "***Вывод:*** Коэффициент корреляции цены и количества комнат в квартире положительный, что говорит прямой зависимости между ценой и количеством комнат, однако он меньше по модулю чем коэффициент корреляции цены и площади, что говорит о более слабой зависимости."
   ]
  },
  {
   "cell_type": "markdown",
   "metadata": {},
   "source": [
    "3) зависимость цены от удаленности от центра:"
   ]
  },
  {
   "cell_type": "code",
   "execution_count": 31,
   "metadata": {
    "scrolled": false
   },
   "outputs": [
    {
     "data": {
      "text/plain": [
       "<matplotlib.axes._subplots.AxesSubplot at 0x7fe12f690450>"
      ]
     },
     "execution_count": 31,
     "metadata": {},
     "output_type": "execute_result"
    },
    {
     "data": {
      "image/png": "[encoded data removed]",
      "text/plain": [
       "<Figure size 648x648 with 1 Axes>"
      ]
     },
     "metadata": {
      "needs_background": "light"
     },
     "output_type": "display_data"
    }
   ],
   "source": [
    "(data\n",
    " .pivot_table(index='city_centers_nearest', values='last_price')\n",
    " .plot(xlim=(200, 60000), ylim=(4000000, 20000000), style='o', grid=True, figsize=(9, 9))\n",
    ")"
   ]
  },
  {
   "cell_type": "markdown",
   "metadata": {},
   "source": [
    "***Вывод:*** По графику видно, что у квартир, находящихся в пределах 20 000 м от центра достаточно большой разброс цен. Однако явно видно резкое снижение цен дальше от центра."
   ]
  },
  {
   "cell_type": "markdown",
   "metadata": {},
   "source": [
    "Посчитаем коэффициент корреляции цены квартиры и удаленности от центра:"
   ]
  },
  {
   "cell_type": "code",
   "execution_count": 32,
   "metadata": {},
   "outputs": [
    {
     "name": "stdout",
     "output_type": "stream",
     "text": [
      "Коэффициент корреляции цены квартиры и удаленности от центра: -0.30685437516347264\n"
     ]
    }
   ],
   "source": [
    "print('Коэффициент корреляции цены квартиры и удаленности от центра:', data['last_price'].corr(data['city_centers_nearest']))"
   ]
  },
  {
   "cell_type": "markdown",
   "metadata": {},
   "source": [
    "***Вывод:*** Коэффициент корреляции говорит об оратной зависимости цен от удаленности от центра. Чем дальше от центра - тем ниже цена."
   ]
  },
  {
   "cell_type": "markdown",
   "metadata": {},
   "source": [
    "4) график зависимости цены от этажа:"
   ]
  },
  {
   "cell_type": "code",
   "execution_count": 33,
   "metadata": {
    "scrolled": false
   },
   "outputs": [
    {
     "data": {
      "text/plain": [
       "<matplotlib.axes._subplots.AxesSubplot at 0x7fe12f6047d0>"
      ]
     },
     "execution_count": 33,
     "metadata": {},
     "output_type": "execute_result"
    },
    {
     "data": {
      "image/png": "[encoded data removed]",
      "text/plain": [
       "<Figure size 648x648 with 1 Axes>"
      ]
     },
     "metadata": {
      "needs_background": "light"
     },
     "output_type": "display_data"
    }
   ],
   "source": [
    "(data\n",
    " .pivot_table(index='apartment_floor', values='last_price')\n",
    " .plot(style='o-', grid=True, figsize=(9, 9))\n",
    " )"
   ]
  },
  {
   "cell_type": "markdown",
   "metadata": {},
   "source": [
    "***Вывод:*** Исходя из графика, можно сделать вывод, что самые дорогие квартиры располагаются между первым и последнем этажом. Самые дешевые - на первом."
   ]
  },
  {
   "cell_type": "markdown",
   "metadata": {},
   "source": [
    "Посчитаем коэффициент корреляции цены и этажа квартиры:"
   ]
  },
  {
   "cell_type": "code",
   "execution_count": 34,
   "metadata": {},
   "outputs": [
    {
     "name": "stdout",
     "output_type": "stream",
     "text": [
      "Коэффициент корреляции цены и этажа квартиры: 0.07249741799884132\n"
     ]
    }
   ],
   "source": [
    "print('Коэффициент корреляции цены и этажа квартиры:', data['last_price'].corr(data['floor']))"
   ]
  },
  {
   "cell_type": "markdown",
   "metadata": {},
   "source": [
    "***Вывод:*** Коэффициетн корреляции говорит о слабой прямой зависисмости между ценой и этажом."
   ]
  },
  {
   "cell_type": "markdown",
   "metadata": {},
   "source": [
    "5) зависимость цены от даты размещения:"
   ]
  },
  {
   "cell_type": "code",
   "execution_count": 35,
   "metadata": {},
   "outputs": [
    {
     "data": {
      "text/plain": [
       "<matplotlib.axes._subplots.AxesSubplot at 0x7fe12f4b7b10>"
      ]
     },
     "execution_count": 35,
     "metadata": {},
     "output_type": "execute_result"
    },
    {
     "data": {
      "image/png": "[encoded data removed]",
      "text/plain": [
       "<Figure size 504x504 with 1 Axes>"
      ]
     },
     "metadata": {
      "needs_background": "light"
     },
     "output_type": "display_data"
    },
    {
     "data": {
      "image/png": "[encoded data removed]",
      "text/plain": [
       "<Figure size 504x504 with 1 Axes>"
      ]
     },
     "metadata": {
      "needs_background": "light"
     },
     "output_type": "display_data"
    },
    {
     "data": {
      "image/png": "[encoded data removed]",
      "text/plain": [
       "<Figure size 504x504 with 1 Axes>"
      ]
     },
     "metadata": {
      "needs_background": "light"
     },
     "output_type": "display_data"
    }
   ],
   "source": [
    "#  от дня недели\n",
    "(data\n",
    " .pivot_table(index='weekday', values='last_price')\n",
    " .plot(style='o-', grid=True, figsize=(7, 7))\n",
    " )\n",
    "\n",
    "#  от месяца\n",
    "(data\n",
    " .pivot_table(index='month', values='last_price')\n",
    " .plot(style='o-', grid=True, figsize=(7, 7))\n",
    " )\n",
    "\n",
    "#  от года\n",
    "(data\n",
    " .pivot_table(index='year', values='last_price')\n",
    " .plot(style='o-', grid=True, figsize=(7, 7))\n",
    " )"
   ]
  },
  {
   "cell_type": "markdown",
   "metadata": {},
   "source": [
    "***Вывод:*** \n",
    "Судя по графику зависимости цены от дня недели размещения объявления, самые дешевые объявления размещают в субботу, а самые дорогие - в четверг.\n",
    "График размещения объявления по месяцам достаточно сильно \"скачет\", цены то повышаются, то понижаются.\n",
    "А вот по графику зависимости цены от года размещения публикации можно заметить снижение цен с 2014 года до 2018. После 2018 года цены начинают повышаться."
   ]
  },
  {
   "cell_type": "markdown",
   "metadata": {},
   "source": [
    "### Анализ объявлений о продаже квартир в центре"
   ]
  },
  {
   "cell_type": "markdown",
   "metadata": {},
   "source": [
    "Выберем 10 населённых пунктов с наибольшим числом объявлений:"
   ]
  },
  {
   "cell_type": "code",
   "execution_count": 36,
   "metadata": {},
   "outputs": [
    {
     "data": {
      "text/html": [
       "<div>\n",
       "<style scoped>\n",
       "    .dataframe tbody tr th:only-of-type {\n",
       "        vertical-align: middle;\n",
       "    }\n",
       "\n",
       "    .dataframe tbody tr th {\n",
       "        vertical-align: top;\n",
       "    }\n",
       "\n",
       "    .dataframe thead th {\n",
       "        text-align: right;\n",
       "    }\n",
       "</style>\n",
       "<table border=\"1\" class=\"dataframe\">\n",
       "  <thead>\n",
       "    <tr style=\"text-align: right;\">\n",
       "      <th></th>\n",
       "      <th>count</th>\n",
       "    </tr>\n",
       "    <tr>\n",
       "      <th>locality_name</th>\n",
       "      <th></th>\n",
       "    </tr>\n",
       "  </thead>\n",
       "  <tbody>\n",
       "    <tr>\n",
       "      <td>Санкт-Петербург</td>\n",
       "      <td>8117</td>\n",
       "    </tr>\n",
       "    <tr>\n",
       "      <td>Всеволожск</td>\n",
       "      <td>219</td>\n",
       "    </tr>\n",
       "    <tr>\n",
       "      <td>посёлок Мурино</td>\n",
       "      <td>195</td>\n",
       "    </tr>\n",
       "    <tr>\n",
       "      <td>посёлок Шушары</td>\n",
       "      <td>188</td>\n",
       "    </tr>\n",
       "    <tr>\n",
       "      <td>Пушкин</td>\n",
       "      <td>182</td>\n",
       "    </tr>\n",
       "    <tr>\n",
       "      <td>Колпино</td>\n",
       "      <td>178</td>\n",
       "    </tr>\n",
       "    <tr>\n",
       "      <td>Гатчина</td>\n",
       "      <td>125</td>\n",
       "    </tr>\n",
       "    <tr>\n",
       "      <td>Петергоф</td>\n",
       "      <td>121</td>\n",
       "    </tr>\n",
       "    <tr>\n",
       "      <td>деревня Кудрово</td>\n",
       "      <td>119</td>\n",
       "    </tr>\n",
       "    <tr>\n",
       "      <td>посёлок Парголово</td>\n",
       "      <td>119</td>\n",
       "    </tr>\n",
       "  </tbody>\n",
       "</table>\n",
       "</div>"
      ],
      "text/plain": [
       "                   count\n",
       "locality_name           \n",
       "Санкт-Петербург     8117\n",
       "Всеволожск           219\n",
       "посёлок Мурино       195\n",
       "посёлок Шушары       188\n",
       "Пушкин               182\n",
       "Колпино              178\n",
       "Гатчина              125\n",
       "Петергоф             121\n",
       "деревня Кудрово      119\n",
       "посёлок Парголово    119"
      ]
     },
     "execution_count": 36,
     "metadata": {},
     "output_type": "execute_result"
    }
   ],
   "source": [
    "ten_locality = (data\n",
    " .pivot_table(index='locality_name', values='total_images', aggfunc='count')\n",
    " .sort_values(by='total_images', ascending=False)\n",
    " .head(10)\n",
    ")\n",
    "ten_locality.columns = ['count']\n",
    "ten_locality"
   ]
  },
  {
   "cell_type": "markdown",
   "metadata": {},
   "source": [
    "Расчитаем цену квадратного метра в выбранных населенных пунктах:"
   ]
  },
  {
   "cell_type": "code",
   "execution_count": 37,
   "metadata": {
    "scrolled": true
   },
   "outputs": [
    {
     "data": {
      "text/html": [
       "<div>\n",
       "<style scoped>\n",
       "    .dataframe tbody tr th:only-of-type {\n",
       "        vertical-align: middle;\n",
       "    }\n",
       "\n",
       "    .dataframe tbody tr th {\n",
       "        vertical-align: top;\n",
       "    }\n",
       "\n",
       "    .dataframe thead th {\n",
       "        text-align: right;\n",
       "    }\n",
       "</style>\n",
       "<table border=\"1\" class=\"dataframe\">\n",
       "  <thead>\n",
       "    <tr style=\"text-align: right;\">\n",
       "      <th></th>\n",
       "      <th>last_price</th>\n",
       "      <th>total_area</th>\n",
       "      <th>price</th>\n",
       "      <th>count</th>\n",
       "    </tr>\n",
       "    <tr>\n",
       "      <th>locality_name</th>\n",
       "      <th></th>\n",
       "      <th></th>\n",
       "      <th></th>\n",
       "      <th></th>\n",
       "    </tr>\n",
       "  </thead>\n",
       "  <tbody>\n",
       "    <tr>\n",
       "      <td>Санкт-Петербург</td>\n",
       "      <td>56307267149</td>\n",
       "      <td>491799.73</td>\n",
       "      <td>114492</td>\n",
       "      <td>8117.0</td>\n",
       "    </tr>\n",
       "    <tr>\n",
       "      <td>Всеволожск</td>\n",
       "      <td>806077298</td>\n",
       "      <td>12265.98</td>\n",
       "      <td>65717</td>\n",
       "      <td>219.0</td>\n",
       "    </tr>\n",
       "    <tr>\n",
       "      <td>посёлок Мурино</td>\n",
       "      <td>779736371</td>\n",
       "      <td>9219.95</td>\n",
       "      <td>84571</td>\n",
       "      <td>195.0</td>\n",
       "    </tr>\n",
       "    <tr>\n",
       "      <td>посёлок Шушары</td>\n",
       "      <td>787236999</td>\n",
       "      <td>10373.07</td>\n",
       "      <td>75892</td>\n",
       "      <td>188.0</td>\n",
       "    </tr>\n",
       "    <tr>\n",
       "      <td>Пушкин</td>\n",
       "      <td>1053853638</td>\n",
       "      <td>10115.34</td>\n",
       "      <td>104184</td>\n",
       "      <td>182.0</td>\n",
       "    </tr>\n",
       "    <tr>\n",
       "      <td>Колпино</td>\n",
       "      <td>689151722</td>\n",
       "      <td>9430.89</td>\n",
       "      <td>73074</td>\n",
       "      <td>178.0</td>\n",
       "    </tr>\n",
       "    <tr>\n",
       "      <td>Гатчина</td>\n",
       "      <td>429135060</td>\n",
       "      <td>6285.86</td>\n",
       "      <td>68270</td>\n",
       "      <td>125.0</td>\n",
       "    </tr>\n",
       "    <tr>\n",
       "      <td>Петергоф</td>\n",
       "      <td>495114000</td>\n",
       "      <td>5850.67</td>\n",
       "      <td>84625</td>\n",
       "      <td>121.0</td>\n",
       "    </tr>\n",
       "    <tr>\n",
       "      <td>деревня Кудрово</td>\n",
       "      <td>501398346</td>\n",
       "      <td>5676.37</td>\n",
       "      <td>88331</td>\n",
       "      <td>119.0</td>\n",
       "    </tr>\n",
       "    <tr>\n",
       "      <td>посёлок Парголово</td>\n",
       "      <td>523968999</td>\n",
       "      <td>6019.02</td>\n",
       "      <td>87052</td>\n",
       "      <td>119.0</td>\n",
       "    </tr>\n",
       "  </tbody>\n",
       "</table>\n",
       "</div>"
      ],
      "text/plain": [
       "                    last_price  total_area   price   count\n",
       "locality_name                                             \n",
       "Санкт-Петербург    56307267149   491799.73  114492  8117.0\n",
       "Всеволожск           806077298    12265.98   65717   219.0\n",
       "посёлок Мурино       779736371     9219.95   84571   195.0\n",
       "посёлок Шушары       787236999    10373.07   75892   188.0\n",
       "Пушкин              1053853638    10115.34  104184   182.0\n",
       "Колпино              689151722     9430.89   73074   178.0\n",
       "Гатчина              429135060     6285.86   68270   125.0\n",
       "Петергоф             495114000     5850.67   84625   121.0\n",
       "деревня Кудрово      501398346     5676.37   88331   119.0\n",
       "посёлок Парголово    523968999     6019.02   87052   119.0"
      ]
     },
     "execution_count": 37,
     "metadata": {},
     "output_type": "execute_result"
    }
   ],
   "source": [
    "ten_sq_meter_price = (data\n",
    " .pivot_table(index='locality_name', values=['last_price', 'total_area'], aggfunc='sum')\n",
    ")\n",
    "ten_sq_meter_price['price'] = (ten_sq_meter_price['last_price'] / ten_sq_meter_price['total_area']).round().astype('int')\n",
    "ten_sq_meter_price = ten_sq_meter_price.join(ten_locality, on='locality_name').sort_values(by='count', ascending=False).head(10)\n",
    "\n",
    "ten_sq_meter_price"
   ]
  },
  {
   "cell_type": "markdown",
   "metadata": {},
   "source": [
    "Выведем населенные пункты с максимальной и минимальной ценой за квадратный метр:"
   ]
  },
  {
   "cell_type": "code",
   "execution_count": 38,
   "metadata": {
    "scrolled": true
   },
   "outputs": [
    {
     "data": {
      "text/html": [
       "<div>\n",
       "<style scoped>\n",
       "    .dataframe tbody tr th:only-of-type {\n",
       "        vertical-align: middle;\n",
       "    }\n",
       "\n",
       "    .dataframe tbody tr th {\n",
       "        vertical-align: top;\n",
       "    }\n",
       "\n",
       "    .dataframe thead th {\n",
       "        text-align: right;\n",
       "    }\n",
       "</style>\n",
       "<table border=\"1\" class=\"dataframe\">\n",
       "  <thead>\n",
       "    <tr style=\"text-align: right;\">\n",
       "      <th></th>\n",
       "      <th>last_price</th>\n",
       "      <th>total_area</th>\n",
       "      <th>price</th>\n",
       "      <th>count</th>\n",
       "    </tr>\n",
       "    <tr>\n",
       "      <th>locality_name</th>\n",
       "      <th></th>\n",
       "      <th></th>\n",
       "      <th></th>\n",
       "      <th></th>\n",
       "    </tr>\n",
       "  </thead>\n",
       "  <tbody>\n",
       "    <tr>\n",
       "      <td>Санкт-Петербург</td>\n",
       "      <td>56307267149</td>\n",
       "      <td>491799.73</td>\n",
       "      <td>114492</td>\n",
       "      <td>8117.0</td>\n",
       "    </tr>\n",
       "    <tr>\n",
       "      <td>Всеволожск</td>\n",
       "      <td>806077298</td>\n",
       "      <td>12265.98</td>\n",
       "      <td>65717</td>\n",
       "      <td>219.0</td>\n",
       "    </tr>\n",
       "  </tbody>\n",
       "</table>\n",
       "</div>"
      ],
      "text/plain": [
       "                  last_price  total_area   price   count\n",
       "locality_name                                           \n",
       "Санкт-Петербург  56307267149   491799.73  114492  8117.0\n",
       "Всеволожск         806077298    12265.98   65717   219.0"
      ]
     },
     "execution_count": 38,
     "metadata": {},
     "output_type": "execute_result"
    }
   ],
   "source": [
    "ten_sq_meter_price[ten_sq_meter_price['price'] == ten_sq_meter_price['price'].max()].append(ten_sq_meter_price[ten_sq_meter_price['price'] == ten_sq_meter_price['price'].min()])"
   ]
  },
  {
   "cell_type": "markdown",
   "metadata": {},
   "source": [
    "Выделим квартиры в Санкт-Петербурге и добавим столбец с расстоянием до центра в километрах:"
   ]
  },
  {
   "cell_type": "code",
   "execution_count": 39,
   "metadata": {
    "scrolled": true
   },
   "outputs": [
    {
     "data": {
      "text/html": [
       "<div>\n",
       "<style scoped>\n",
       "    .dataframe tbody tr th:only-of-type {\n",
       "        vertical-align: middle;\n",
       "    }\n",
       "\n",
       "    .dataframe tbody tr th {\n",
       "        vertical-align: top;\n",
       "    }\n",
       "\n",
       "    .dataframe thead th {\n",
       "        text-align: right;\n",
       "    }\n",
       "</style>\n",
       "<table border=\"1\" class=\"dataframe\">\n",
       "  <thead>\n",
       "    <tr style=\"text-align: right;\">\n",
       "      <th></th>\n",
       "      <th>total_images</th>\n",
       "      <th>last_price</th>\n",
       "      <th>total_area</th>\n",
       "      <th>first_day_exposition</th>\n",
       "      <th>rooms</th>\n",
       "      <th>ceiling_height</th>\n",
       "      <th>floors_total</th>\n",
       "      <th>living_area</th>\n",
       "      <th>floor</th>\n",
       "      <th>is_apartment</th>\n",
       "      <th>...</th>\n",
       "      <th>ponds_nearest</th>\n",
       "      <th>days_exposition</th>\n",
       "      <th>sq_meter_price</th>\n",
       "      <th>year</th>\n",
       "      <th>weekday</th>\n",
       "      <th>month</th>\n",
       "      <th>apartment_floor</th>\n",
       "      <th>ratio_living_area</th>\n",
       "      <th>ratio_kitchen_area</th>\n",
       "      <th>km_city_centers</th>\n",
       "    </tr>\n",
       "  </thead>\n",
       "  <tbody>\n",
       "    <tr>\n",
       "      <td>4</td>\n",
       "      <td>2</td>\n",
       "      <td>10000000</td>\n",
       "      <td>100.0</td>\n",
       "      <td>2018-06-19</td>\n",
       "      <td>2</td>\n",
       "      <td>3.03</td>\n",
       "      <td>14</td>\n",
       "      <td>32.0</td>\n",
       "      <td>13</td>\n",
       "      <td>False</td>\n",
       "      <td>...</td>\n",
       "      <td>48</td>\n",
       "      <td>121</td>\n",
       "      <td>100000</td>\n",
       "      <td>2018</td>\n",
       "      <td>1-Вт</td>\n",
       "      <td>06-Июнь</td>\n",
       "      <td>2-другой</td>\n",
       "      <td>0.320</td>\n",
       "      <td>0.410</td>\n",
       "      <td>8</td>\n",
       "    </tr>\n",
       "    <tr>\n",
       "      <td>9</td>\n",
       "      <td>18</td>\n",
       "      <td>5400000</td>\n",
       "      <td>61.0</td>\n",
       "      <td>2017-02-26</td>\n",
       "      <td>3</td>\n",
       "      <td>2.50</td>\n",
       "      <td>9</td>\n",
       "      <td>43.6</td>\n",
       "      <td>7</td>\n",
       "      <td>False</td>\n",
       "      <td>...</td>\n",
       "      <td>NaN</td>\n",
       "      <td>289</td>\n",
       "      <td>88525</td>\n",
       "      <td>2017</td>\n",
       "      <td>6-Вс</td>\n",
       "      <td>02-Февраль</td>\n",
       "      <td>2-другой</td>\n",
       "      <td>0.715</td>\n",
       "      <td>0.107</td>\n",
       "      <td>15</td>\n",
       "    </tr>\n",
       "    <tr>\n",
       "      <td>10</td>\n",
       "      <td>5</td>\n",
       "      <td>5050000</td>\n",
       "      <td>39.6</td>\n",
       "      <td>2017-11-16</td>\n",
       "      <td>1</td>\n",
       "      <td>2.67</td>\n",
       "      <td>12</td>\n",
       "      <td>20.3</td>\n",
       "      <td>3</td>\n",
       "      <td>False</td>\n",
       "      <td>...</td>\n",
       "      <td>553</td>\n",
       "      <td>137</td>\n",
       "      <td>127525</td>\n",
       "      <td>2017</td>\n",
       "      <td>3-Чт</td>\n",
       "      <td>11-Ноябрь</td>\n",
       "      <td>2-другой</td>\n",
       "      <td>0.513</td>\n",
       "      <td>0.215</td>\n",
       "      <td>14</td>\n",
       "    </tr>\n",
       "    <tr>\n",
       "      <td>16</td>\n",
       "      <td>11</td>\n",
       "      <td>6700000</td>\n",
       "      <td>82.0</td>\n",
       "      <td>2017-11-23</td>\n",
       "      <td>3</td>\n",
       "      <td>3.05</td>\n",
       "      <td>5</td>\n",
       "      <td>55.6</td>\n",
       "      <td>1</td>\n",
       "      <td>False</td>\n",
       "      <td>...</td>\n",
       "      <td>NaN</td>\n",
       "      <td>397</td>\n",
       "      <td>81707</td>\n",
       "      <td>2017</td>\n",
       "      <td>3-Чт</td>\n",
       "      <td>11-Ноябрь</td>\n",
       "      <td>1-первый</td>\n",
       "      <td>0.678</td>\n",
       "      <td>0.110</td>\n",
       "      <td>11</td>\n",
       "    </tr>\n",
       "    <tr>\n",
       "      <td>18</td>\n",
       "      <td>8</td>\n",
       "      <td>3250000</td>\n",
       "      <td>31.0</td>\n",
       "      <td>2017-01-27</td>\n",
       "      <td>1</td>\n",
       "      <td>2.50</td>\n",
       "      <td>5</td>\n",
       "      <td>19.4</td>\n",
       "      <td>2</td>\n",
       "      <td>False</td>\n",
       "      <td>...</td>\n",
       "      <td>NaN</td>\n",
       "      <td>168</td>\n",
       "      <td>104839</td>\n",
       "      <td>2017</td>\n",
       "      <td>4-Пт</td>\n",
       "      <td>01-Январь</td>\n",
       "      <td>2-другой</td>\n",
       "      <td>0.626</td>\n",
       "      <td>0.181</td>\n",
       "      <td>11</td>\n",
       "    </tr>\n",
       "  </tbody>\n",
       "</table>\n",
       "<p>5 rows × 30 columns</p>\n",
       "</div>"
      ],
      "text/plain": [
       "    total_images  last_price  total_area first_day_exposition  rooms  \\\n",
       "4              2    10000000       100.0           2018-06-19      2   \n",
       "9             18     5400000        61.0           2017-02-26      3   \n",
       "10             5     5050000        39.6           2017-11-16      1   \n",
       "16            11     6700000        82.0           2017-11-23      3   \n",
       "18             8     3250000        31.0           2017-01-27      1   \n",
       "\n",
       "    ceiling_height  floors_total  living_area  floor  is_apartment  ...  \\\n",
       "4             3.03            14         32.0     13         False  ...   \n",
       "9             2.50             9         43.6      7         False  ...   \n",
       "10            2.67            12         20.3      3         False  ...   \n",
       "16            3.05             5         55.6      1         False  ...   \n",
       "18            2.50             5         19.4      2         False  ...   \n",
       "\n",
       "    ponds_nearest  days_exposition  sq_meter_price  year weekday       month  \\\n",
       "4              48              121          100000  2018    1-Вт     06-Июнь   \n",
       "9             NaN              289           88525  2017    6-Вс  02-Февраль   \n",
       "10            553              137          127525  2017    3-Чт   11-Ноябрь   \n",
       "16            NaN              397           81707  2017    3-Чт   11-Ноябрь   \n",
       "18            NaN              168          104839  2017    4-Пт   01-Январь   \n",
       "\n",
       "    apartment_floor  ratio_living_area  ratio_kitchen_area  km_city_centers  \n",
       "4          2-другой              0.320               0.410                8  \n",
       "9          2-другой              0.715               0.107               15  \n",
       "10         2-другой              0.513               0.215               14  \n",
       "16         1-первый              0.678               0.110               11  \n",
       "18         2-другой              0.626               0.181               11  \n",
       "\n",
       "[5 rows x 30 columns]"
      ]
     },
     "execution_count": 39,
     "metadata": {},
     "output_type": "execute_result"
    }
   ],
   "source": [
    "st_petersburg = data.query('\"Санкт-Петербург\" in locality_name').copy()\n",
    "st_petersburg['km_city_centers'] = (st_petersburg['city_centers_nearest'] / 1000).round().astype('Int64')\n",
    "st_petersburg.head()"
   ]
  },
  {
   "cell_type": "markdown",
   "metadata": {},
   "source": [
    "Построим график зависимости цены от удаленности от центра:"
   ]
  },
  {
   "cell_type": "code",
   "execution_count": 40,
   "metadata": {
    "scrolled": false
   },
   "outputs": [
    {
     "data": {
      "text/plain": [
       "<matplotlib.axes._subplots.AxesSubplot at 0x7fe12f417e10>"
      ]
     },
     "execution_count": 40,
     "metadata": {},
     "output_type": "execute_result"
    },
    {
     "data": {
      "image/png": "[encoded data removed]",
      "text/plain": [
       "<Figure size 648x648 with 1 Axes>"
      ]
     },
     "metadata": {
      "needs_background": "light"
     },
     "output_type": "display_data"
    }
   ],
   "source": [
    "kilometr_price = st_petersburg.pivot_table(index='km_city_centers', values='last_price', aggfunc='sum').reset_index()\n",
    "kilometr_price.plot(x='km_city_centers', y='last_price', style='o-', grid=True, figsize=(9, 9))\n",
    "\n",
    "#  kilometr_price"
   ]
  },
  {
   "cell_type": "markdown",
   "metadata": {},
   "source": [
    "Выделим сегмент квартир в центре (расстояние до центра не превышает 6 км):"
   ]
  },
  {
   "cell_type": "code",
   "execution_count": 41,
   "metadata": {
    "scrolled": false
   },
   "outputs": [
    {
     "data": {
      "text/html": [
       "<div>\n",
       "<style scoped>\n",
       "    .dataframe tbody tr th:only-of-type {\n",
       "        vertical-align: middle;\n",
       "    }\n",
       "\n",
       "    .dataframe tbody tr th {\n",
       "        vertical-align: top;\n",
       "    }\n",
       "\n",
       "    .dataframe thead th {\n",
       "        text-align: right;\n",
       "    }\n",
       "</style>\n",
       "<table border=\"1\" class=\"dataframe\">\n",
       "  <thead>\n",
       "    <tr style=\"text-align: right;\">\n",
       "      <th></th>\n",
       "      <th>total_images</th>\n",
       "      <th>last_price</th>\n",
       "      <th>total_area</th>\n",
       "      <th>first_day_exposition</th>\n",
       "      <th>rooms</th>\n",
       "      <th>ceiling_height</th>\n",
       "      <th>floors_total</th>\n",
       "      <th>living_area</th>\n",
       "      <th>floor</th>\n",
       "      <th>is_apartment</th>\n",
       "      <th>...</th>\n",
       "      <th>ponds_nearest</th>\n",
       "      <th>days_exposition</th>\n",
       "      <th>sq_meter_price</th>\n",
       "      <th>year</th>\n",
       "      <th>weekday</th>\n",
       "      <th>month</th>\n",
       "      <th>apartment_floor</th>\n",
       "      <th>ratio_living_area</th>\n",
       "      <th>ratio_kitchen_area</th>\n",
       "      <th>km_city_centers</th>\n",
       "    </tr>\n",
       "  </thead>\n",
       "  <tbody>\n",
       "    <tr>\n",
       "      <td>63</td>\n",
       "      <td>2</td>\n",
       "      <td>20000000</td>\n",
       "      <td>118.0</td>\n",
       "      <td>2018-09-11</td>\n",
       "      <td>3</td>\n",
       "      <td>3.00</td>\n",
       "      <td>9</td>\n",
       "      <td>68.00</td>\n",
       "      <td>7</td>\n",
       "      <td>False</td>\n",
       "      <td>...</td>\n",
       "      <td>779</td>\n",
       "      <td>37</td>\n",
       "      <td>169492</td>\n",
       "      <td>2018</td>\n",
       "      <td>1-Вт</td>\n",
       "      <td>09-Сентябрь</td>\n",
       "      <td>2-другой</td>\n",
       "      <td>0.576</td>\n",
       "      <td>0.136</td>\n",
       "      <td>5</td>\n",
       "    </tr>\n",
       "    <tr>\n",
       "      <td>106</td>\n",
       "      <td>9</td>\n",
       "      <td>10500000</td>\n",
       "      <td>124.1</td>\n",
       "      <td>2017-05-25</td>\n",
       "      <td>5</td>\n",
       "      <td>3.20</td>\n",
       "      <td>4</td>\n",
       "      <td>79.40</td>\n",
       "      <td>3</td>\n",
       "      <td>False</td>\n",
       "      <td>...</td>\n",
       "      <td>NaN</td>\n",
       "      <td>6</td>\n",
       "      <td>84609</td>\n",
       "      <td>2017</td>\n",
       "      <td>3-Чт</td>\n",
       "      <td>05-Май</td>\n",
       "      <td>2-другой</td>\n",
       "      <td>0.640</td>\n",
       "      <td>0.161</td>\n",
       "      <td>6</td>\n",
       "    </tr>\n",
       "    <tr>\n",
       "      <td>121</td>\n",
       "      <td>20</td>\n",
       "      <td>33000000</td>\n",
       "      <td>180.0</td>\n",
       "      <td>2017-02-17</td>\n",
       "      <td>3</td>\n",
       "      <td>2.90</td>\n",
       "      <td>9</td>\n",
       "      <td>86.00</td>\n",
       "      <td>8</td>\n",
       "      <td>False</td>\n",
       "      <td>...</td>\n",
       "      <td>NaN</td>\n",
       "      <td>144</td>\n",
       "      <td>183333</td>\n",
       "      <td>2017</td>\n",
       "      <td>4-Пт</td>\n",
       "      <td>02-Февраль</td>\n",
       "      <td>2-другой</td>\n",
       "      <td>0.478</td>\n",
       "      <td>0.133</td>\n",
       "      <td>4</td>\n",
       "    </tr>\n",
       "    <tr>\n",
       "      <td>136</td>\n",
       "      <td>16</td>\n",
       "      <td>6500000</td>\n",
       "      <td>51.8</td>\n",
       "      <td>2018-08-01</td>\n",
       "      <td>2</td>\n",
       "      <td>3.45</td>\n",
       "      <td>6</td>\n",
       "      <td>25.60</td>\n",
       "      <td>2</td>\n",
       "      <td>False</td>\n",
       "      <td>...</td>\n",
       "      <td>812</td>\n",
       "      <td>163</td>\n",
       "      <td>125483</td>\n",
       "      <td>2018</td>\n",
       "      <td>2-Ср</td>\n",
       "      <td>08-Август</td>\n",
       "      <td>2-другой</td>\n",
       "      <td>0.494</td>\n",
       "      <td>0.141</td>\n",
       "      <td>4</td>\n",
       "    </tr>\n",
       "    <tr>\n",
       "      <td>137</td>\n",
       "      <td>11</td>\n",
       "      <td>13310800</td>\n",
       "      <td>85.1</td>\n",
       "      <td>2018-01-01</td>\n",
       "      <td>2</td>\n",
       "      <td>2.70</td>\n",
       "      <td>10</td>\n",
       "      <td>31.52</td>\n",
       "      <td>5</td>\n",
       "      <td>False</td>\n",
       "      <td>...</td>\n",
       "      <td>133</td>\n",
       "      <td>340</td>\n",
       "      <td>156414</td>\n",
       "      <td>2018</td>\n",
       "      <td>0-Пн</td>\n",
       "      <td>01-Январь</td>\n",
       "      <td>2-другой</td>\n",
       "      <td>0.370</td>\n",
       "      <td>0.316</td>\n",
       "      <td>4</td>\n",
       "    </tr>\n",
       "  </tbody>\n",
       "</table>\n",
       "<p>5 rows × 30 columns</p>\n",
       "</div>"
      ],
      "text/plain": [
       "     total_images  last_price  total_area first_day_exposition  rooms  \\\n",
       "63              2    20000000       118.0           2018-09-11      3   \n",
       "106             9    10500000       124.1           2017-05-25      5   \n",
       "121            20    33000000       180.0           2017-02-17      3   \n",
       "136            16     6500000        51.8           2018-08-01      2   \n",
       "137            11    13310800        85.1           2018-01-01      2   \n",
       "\n",
       "     ceiling_height  floors_total  living_area  floor  is_apartment  ...  \\\n",
       "63             3.00             9        68.00      7         False  ...   \n",
       "106            3.20             4        79.40      3         False  ...   \n",
       "121            2.90             9        86.00      8         False  ...   \n",
       "136            3.45             6        25.60      2         False  ...   \n",
       "137            2.70            10        31.52      5         False  ...   \n",
       "\n",
       "     ponds_nearest  days_exposition  sq_meter_price  year weekday  \\\n",
       "63             779               37          169492  2018    1-Вт   \n",
       "106            NaN                6           84609  2017    3-Чт   \n",
       "121            NaN              144          183333  2017    4-Пт   \n",
       "136            812              163          125483  2018    2-Ср   \n",
       "137            133              340          156414  2018    0-Пн   \n",
       "\n",
       "           month  apartment_floor  ratio_living_area  ratio_kitchen_area  \\\n",
       "63   09-Сентябрь         2-другой              0.576               0.136   \n",
       "106       05-Май         2-другой              0.640               0.161   \n",
       "121   02-Февраль         2-другой              0.478               0.133   \n",
       "136    08-Август         2-другой              0.494               0.141   \n",
       "137    01-Январь         2-другой              0.370               0.316   \n",
       "\n",
       "     km_city_centers  \n",
       "63                 5  \n",
       "106                6  \n",
       "121                4  \n",
       "136                4  \n",
       "137                4  \n",
       "\n",
       "[5 rows x 30 columns]"
      ]
     },
     "execution_count": 41,
     "metadata": {},
     "output_type": "execute_result"
    }
   ],
   "source": [
    "centre = st_petersburg.query('km_city_centers <= 6')\n",
    "centre.head()"
   ]
  },
  {
   "cell_type": "markdown",
   "metadata": {},
   "source": [
    "Построим графики зависимости цены от площади, количества комнат, этажа, удалённости от центра, даты размещения объявления."
   ]
  },
  {
   "cell_type": "markdown",
   "metadata": {},
   "source": [
    "1) зависимость цены от площади квартиры:"
   ]
  },
  {
   "cell_type": "code",
   "execution_count": 42,
   "metadata": {},
   "outputs": [
    {
     "data": {
      "text/plain": [
       "<matplotlib.axes._subplots.AxesSubplot at 0x7fe12f3f1250>"
      ]
     },
     "execution_count": 42,
     "metadata": {},
     "output_type": "execute_result"
    },
    {
     "data": {
      "image/png": "[encoded data removed]",
      "text/plain": [
       "<Figure size 648x648 with 1 Axes>"
      ]
     },
     "metadata": {
      "needs_background": "light"
     },
     "output_type": "display_data"
    }
   ],
   "source": [
    "(centre\n",
    " .pivot_table(index='total_area', values='last_price')\n",
    " .plot(ylim=(4000000, 20000000), style='o', grid=True, figsize=(9, 9)))"
   ]
  },
  {
   "cell_type": "markdown",
   "metadata": {},
   "source": [
    "***Вывод:*** Существенных различий с графиком по всей базе нет."
   ]
  },
  {
   "cell_type": "markdown",
   "metadata": {},
   "source": [
    "2) зависимость цены от количества комнат:"
   ]
  },
  {
   "cell_type": "code",
   "execution_count": 43,
   "metadata": {
    "scrolled": false
   },
   "outputs": [
    {
     "data": {
      "text/plain": [
       "<matplotlib.axes._subplots.AxesSubplot at 0x7fe12f2eed10>"
      ]
     },
     "execution_count": 43,
     "metadata": {},
     "output_type": "execute_result"
    },
    {
     "data": {
      "image/png": "[encoded data removed]",
      "text/plain": [
       "<Figure size 648x648 with 1 Axes>"
      ]
     },
     "metadata": {
      "needs_background": "light"
     },
     "output_type": "display_data"
    }
   ],
   "source": [
    "(centre\n",
    " .pivot_table(index='rooms', values='last_price')\n",
    " .plot(style='o-', grid=True, figsize=(9, 9)) \n",
    ")"
   ]
  },
  {
   "cell_type": "markdown",
   "metadata": {},
   "source": [
    "***Вывод:*** График практически не отличается от графика по всей базе."
   ]
  },
  {
   "cell_type": "markdown",
   "metadata": {},
   "source": [
    "3) зависимость цены от удаленности от центра:"
   ]
  },
  {
   "cell_type": "code",
   "execution_count": 44,
   "metadata": {
    "scrolled": false
   },
   "outputs": [
    {
     "data": {
      "text/plain": [
       "<matplotlib.axes._subplots.AxesSubplot at 0x7fe12f49b9d0>"
      ]
     },
     "execution_count": 44,
     "metadata": {},
     "output_type": "execute_result"
    },
    {
     "data": {
      "image/png": "[encoded data removed]",
      "text/plain": [
       "<Figure size 648x648 with 1 Axes>"
      ]
     },
     "metadata": {
      "needs_background": "light"
     },
     "output_type": "display_data"
    }
   ],
   "source": [
    "(centre\n",
    " .pivot_table(index='km_city_centers', values='last_price')\n",
    " .plot(style='o-', grid=True, figsize=(9, 9))\n",
    ")"
   ]
  },
  {
   "cell_type": "markdown",
   "metadata": {},
   "source": [
    "***Вывод:*** Цены на квартиры центре города достаточно сильно изменяются."
   ]
  },
  {
   "cell_type": "markdown",
   "metadata": {},
   "source": [
    "4) зависимость цены от этажа:"
   ]
  },
  {
   "cell_type": "code",
   "execution_count": 45,
   "metadata": {},
   "outputs": [
    {
     "data": {
      "text/plain": [
       "<matplotlib.axes._subplots.AxesSubplot at 0x7fe12f4f1c50>"
      ]
     },
     "execution_count": 45,
     "metadata": {},
     "output_type": "execute_result"
    },
    {
     "data": {
      "image/png": "[encoded data removed]",
      "text/plain": [
       "<Figure size 648x648 with 1 Axes>"
      ]
     },
     "metadata": {
      "needs_background": "light"
     },
     "output_type": "display_data"
    }
   ],
   "source": [
    "(centre\n",
    " .pivot_table(index='apartment_floor', values='last_price')\n",
    " .plot(style='o-', grid=True, figsize=(9, 9))\n",
    " )"
   ]
  },
  {
   "cell_type": "markdown",
   "metadata": {},
   "source": [
    "***Вывод:*** Между данным графиком и графиком по всей базе различий нет."
   ]
  },
  {
   "cell_type": "markdown",
   "metadata": {},
   "source": [
    "5) зависимость цены от даты размещения объявления:"
   ]
  },
  {
   "cell_type": "code",
   "execution_count": 46,
   "metadata": {
    "scrolled": false
   },
   "outputs": [
    {
     "data": {
      "text/plain": [
       "<matplotlib.axes._subplots.AxesSubplot at 0x7fe12f1ad910>"
      ]
     },
     "execution_count": 46,
     "metadata": {},
     "output_type": "execute_result"
    },
    {
     "data": {
      "image/png": "[encoded data removed]",
      "text/plain": [
       "<Figure size 504x504 with 1 Axes>"
      ]
     },
     "metadata": {
      "needs_background": "light"
     },
     "output_type": "display_data"
    },
    {
     "data": {
      "image/png": "[encoded data removed]",
      "text/plain": [
       "<Figure size 504x504 with 1 Axes>"
      ]
     },
     "metadata": {
      "needs_background": "light"
     },
     "output_type": "display_data"
    },
    {
     "data": {
      "image/png": "[encoded data removed]",
      "text/plain": [
       "<Figure size 504x504 with 1 Axes>"
      ]
     },
     "metadata": {
      "needs_background": "light"
     },
     "output_type": "display_data"
    }
   ],
   "source": [
    "#  от дня недели\n",
    "(centre\n",
    " .pivot_table(index='weekday', values='last_price')\n",
    " .plot(style='o-', grid=True, figsize=(7, 7))\n",
    " )\n",
    "\n",
    "#  от месяца\n",
    "(centre\n",
    " .pivot_table(index='month', values='last_price')\n",
    " .plot(style='o-', grid=True, figsize=(7, 7))\n",
    " )\n",
    "\n",
    "#  от года\n",
    "(centre\n",
    " .pivot_table(index='year', values='last_price')\n",
    " .plot(style='o-', grid=True, figsize=(7, 7))\n",
    " )"
   ]
  },
  {
   "cell_type": "markdown",
   "metadata": {},
   "source": [
    "***Вывод:*** График зависимости цены от даты размещения по дням недели немного сдвинулся относительно соответствующего ему графику по всей базе. Самы дорогие объявления добавлены в воскресенье (а не в четверг), а самые дешевые по прежнему в субботу.\n",
    "\n",
    "График зависимости цены от даты размещения по месяцам тоже изменил свое поведение. Самые недорогие объявления приходятся на июнь (а не на март), а самые дорогие на февраль.\n",
    "\n",
    "График зависимости цены от даты размещения по годам стал менее плавным. Цены \"скакали\" до 2018 года, после 2018 замечен резкий подъем."
   ]
  },
  {
   "cell_type": "markdown",
   "metadata": {},
   "source": [
    "Сравним коэффициенты корреляции \"центральных\" квартир с коэффициентами корреляции по всей базе:"
   ]
  },
  {
   "cell_type": "code",
   "execution_count": 47,
   "metadata": {},
   "outputs": [
    {
     "name": "stdout",
     "output_type": "stream",
     "text": [
      "Коэффициент корреляции цены и площади квартиры: 0.6478072294082284\n",
      "Коэффициент корреляции цены и количества комнат в квартире: 0.3438222017232614\n",
      "Коэффициент корреляции цены квартиры и удаленности от центра: -0.03127301355069365\n",
      "Коэффициент корреляции цены и этажа квартиры: 0.20852016894410574\n"
     ]
    }
   ],
   "source": [
    "print('Коэффициент корреляции цены и площади квартиры:', centre['last_price'].corr(centre['total_area']))\n",
    "print('Коэффициент корреляции цены и количества комнат в квартире:', centre['last_price'].corr(centre['rooms']))\n",
    "print('Коэффициент корреляции цены квартиры и удаленности от центра:', centre['last_price'].corr(centre['city_centers_nearest']))\n",
    "print('Коэффициент корреляции цены и этажа квартиры:', centre['last_price'].corr(centre['floor']))"
   ]
  },
  {
   "cell_type": "markdown",
   "metadata": {},
   "source": [
    "***Вывод:*** Коэффициенты корреляции практически не отличаются от соответствующих им коэффициентов по всей базе данных. Выходит, зависимость сохранилась."
   ]
  },
  {
   "cell_type": "markdown",
   "metadata": {},
   "source": [
    "## Общий вывод"
   ]
  },
  {
   "cell_type": "markdown",
   "metadata": {},
   "source": [
    "Из проведенного анализа можно сделать вывод, что цена квартиры зависит от таких параметров, как:\n",
    "* площадь квартиры;\n",
    "* количество комнат;\n",
    "* удаленность от центра;\n",
    "* этаж расположения;\n",
    "* дата размещения объявления.\n",
    "\n",
    "Самой сильной зависимостью из первых четырех параметров оказалась зависимость цены от площади квартиры, а самой слабой - зависимость цены от этажа расположения.\n",
    "\n",
    "Среднее время продажи квартиры оказалось равным 189 дней, а медианное - 103 дня.\n",
    "\n",
    "В до 2018 года стоимость недвижимости в целом достаточно сильно снижалась, в то время как в центральных районах Петербурга такой тенденции не наблюдалось. После 2018 года было замечено резкое повышение цен в СПБ и плавное во всей базе объявлений. Судя по резкости изменения цен в зависимости от удаления от центра Санкт-Петербурга, был выявилен центр города в радиусе 6 километров.\n",
    "\n",
    "Для центра СПБ верны следущие показатели цен:\n",
    "* средняя стоимость квартиры равна 11 264 185\n",
    "* медианная стоимость квартиры равна 8 750 000.\n",
    "\n",
    "Для всей базы объявлений:\n",
    "* средняя стоимость квартиры равна 5 907 448\n",
    "* медианная стоимость квартиры равна 4 650 000\n",
    "\n",
    "Из показателей выше можно сделать вывод, что покупка квартиры в центре Санкт-Петербурга обойдется практически в два раза дороже."
   ]
  }
 ],
 "metadata": {
  "ExecuteTimeLog": [
   {
    "duration": 847,
    "start_time": "2022-02-25T09:10:40.622Z"
   },
   {
    "duration": 66,
    "start_time": "2022-02-25T09:10:53.743Z"
   },
   {
    "duration": 82,
    "start_time": "2022-02-25T09:11:11.824Z"
   },
   {
    "duration": 71,
    "start_time": "2022-02-25T09:12:13.538Z"
   },
   {
    "duration": 82,
    "start_time": "2022-02-25T09:12:51.424Z"
   },
   {
    "duration": 11,
    "start_time": "2022-02-25T09:13:08.596Z"
   },
   {
    "duration": 5,
    "start_time": "2022-02-25T09:25:48.870Z"
   },
   {
    "duration": 6,
    "start_time": "2022-02-25T09:26:38.678Z"
   },
   {
    "duration": 7,
    "start_time": "2022-02-25T09:27:11.886Z"
   },
   {
    "duration": 6,
    "start_time": "2022-02-25T09:27:39.789Z"
   },
   {
    "duration": 9,
    "start_time": "2022-02-25T09:28:05.934Z"
   },
   {
    "duration": 7,
    "start_time": "2022-02-25T09:28:35.008Z"
   },
   {
    "duration": 81,
    "start_time": "2022-02-25T09:30:28.174Z"
   },
   {
    "duration": 11,
    "start_time": "2022-02-25T09:30:28.583Z"
   },
   {
    "duration": 5,
    "start_time": "2022-02-25T09:30:53.943Z"
   },
   {
    "duration": 7,
    "start_time": "2022-02-25T09:31:30.496Z"
   },
   {
    "duration": 7,
    "start_time": "2022-02-25T09:31:33.340Z"
   },
   {
    "duration": 8,
    "start_time": "2022-02-25T09:32:04.510Z"
   },
   {
    "duration": 8,
    "start_time": "2022-02-25T09:32:06.829Z"
   },
   {
    "duration": 66,
    "start_time": "2022-02-25T09:32:50.283Z"
   },
   {
    "duration": 65,
    "start_time": "2022-02-25T09:32:52.884Z"
   },
   {
    "duration": 56,
    "start_time": "2022-02-25T09:33:08.838Z"
   },
   {
    "duration": 10,
    "start_time": "2022-02-25T09:33:58.869Z"
   },
   {
    "duration": 11,
    "start_time": "2022-02-25T09:34:02.082Z"
   },
   {
    "duration": 10,
    "start_time": "2022-02-25T09:34:05.288Z"
   },
   {
    "duration": 27,
    "start_time": "2022-02-25T09:34:18.336Z"
   },
   {
    "duration": 83,
    "start_time": "2022-02-25T09:34:45.466Z"
   },
   {
    "duration": 10,
    "start_time": "2022-02-25T09:34:45.634Z"
   },
   {
    "duration": 30,
    "start_time": "2022-02-25T09:34:48.548Z"
   },
   {
    "duration": 273,
    "start_time": "2022-02-25T09:35:29.397Z"
   },
   {
    "duration": 4,
    "start_time": "2022-02-25T09:35:35.908Z"
   },
   {
    "duration": 25,
    "start_time": "2022-02-25T09:35:44.099Z"
   },
   {
    "duration": 90,
    "start_time": "2022-02-25T09:36:59.084Z"
   },
   {
    "duration": 13,
    "start_time": "2022-02-25T09:36:59.743Z"
   },
   {
    "duration": 69,
    "start_time": "2022-02-25T09:37:01.466Z"
   },
   {
    "duration": 77,
    "start_time": "2022-02-25T09:37:11.049Z"
   },
   {
    "duration": 64,
    "start_time": "2022-02-25T09:37:15.647Z"
   },
   {
    "duration": 246,
    "start_time": "2022-02-25T09:37:36.812Z"
   },
   {
    "duration": 54,
    "start_time": "2022-02-25T09:37:44.422Z"
   },
   {
    "duration": 55,
    "start_time": "2022-02-25T09:37:55.675Z"
   },
   {
    "duration": 48,
    "start_time": "2022-02-25T09:38:05.318Z"
   },
   {
    "duration": 89,
    "start_time": "2022-02-25T09:38:09.058Z"
   },
   {
    "duration": 12,
    "start_time": "2022-02-25T09:38:09.485Z"
   },
   {
    "duration": 64,
    "start_time": "2022-02-25T09:38:11.766Z"
   },
   {
    "duration": 66,
    "start_time": "2022-02-25T09:38:30.184Z"
   },
   {
    "duration": 9,
    "start_time": "2022-02-25T09:38:44.955Z"
   },
   {
    "duration": 11,
    "start_time": "2022-02-25T09:39:04.002Z"
   },
   {
    "duration": 12,
    "start_time": "2022-02-25T09:39:06.217Z"
   },
   {
    "duration": 25,
    "start_time": "2022-02-25T09:39:12.979Z"
   },
   {
    "duration": 27,
    "start_time": "2022-02-25T09:39:37.842Z"
   },
   {
    "duration": 12,
    "start_time": "2022-02-25T09:39:43.809Z"
   },
   {
    "duration": 12,
    "start_time": "2022-02-25T09:39:49.642Z"
   },
   {
    "duration": 36,
    "start_time": "2022-02-25T09:40:04.793Z"
   },
   {
    "duration": 25,
    "start_time": "2022-02-25T09:40:09.453Z"
   },
   {
    "duration": 26,
    "start_time": "2022-02-25T09:40:49.645Z"
   },
   {
    "duration": 79,
    "start_time": "2022-02-25T09:41:02.331Z"
   },
   {
    "duration": 10,
    "start_time": "2022-02-25T09:41:02.809Z"
   },
   {
    "duration": 14,
    "start_time": "2022-02-25T09:41:04.472Z"
   },
   {
    "duration": 8,
    "start_time": "2022-02-25T09:41:14.304Z"
   },
   {
    "duration": 9,
    "start_time": "2022-02-25T09:41:47.432Z"
   },
   {
    "duration": 8,
    "start_time": "2022-02-25T09:41:56.194Z"
   },
   {
    "duration": 9,
    "start_time": "2022-02-25T09:41:58.602Z"
   },
   {
    "duration": 84,
    "start_time": "2022-02-25T09:42:01.914Z"
   },
   {
    "duration": 11,
    "start_time": "2022-02-25T09:42:02.226Z"
   },
   {
    "duration": 7,
    "start_time": "2022-02-25T09:42:03.867Z"
   },
   {
    "duration": 8,
    "start_time": "2022-02-25T09:43:10.250Z"
   },
   {
    "duration": 8,
    "start_time": "2022-02-25T09:43:20.123Z"
   },
   {
    "duration": 26,
    "start_time": "2022-02-25T09:43:28.450Z"
   },
   {
    "duration": 12,
    "start_time": "2022-02-25T09:43:37.876Z"
   },
   {
    "duration": 4,
    "start_time": "2022-02-25T09:43:49.584Z"
   },
   {
    "duration": 4,
    "start_time": "2022-02-25T09:48:36.095Z"
   },
   {
    "duration": 5,
    "start_time": "2022-02-25T09:49:28.087Z"
   },
   {
    "duration": 199,
    "start_time": "2022-02-25T09:49:47.426Z"
   },
   {
    "duration": 6,
    "start_time": "2022-02-25T09:50:03.099Z"
   },
   {
    "duration": 24,
    "start_time": "2022-02-25T09:50:12.814Z"
   },
   {
    "duration": 26,
    "start_time": "2022-02-25T09:52:53.911Z"
   },
   {
    "duration": 4,
    "start_time": "2022-02-25T09:53:32.552Z"
   },
   {
    "duration": 1337,
    "start_time": "2022-02-25T09:58:45.902Z"
   },
   {
    "duration": 9,
    "start_time": "2022-02-25T09:59:15.570Z"
   },
   {
    "duration": 206,
    "start_time": "2022-02-25T09:59:27.590Z"
   },
   {
    "duration": 24,
    "start_time": "2022-02-25T09:59:33.229Z"
   },
   {
    "duration": 23,
    "start_time": "2022-02-25T09:59:50.874Z"
   },
   {
    "duration": 27,
    "start_time": "2022-02-25T09:59:53.605Z"
   },
   {
    "duration": 25,
    "start_time": "2022-02-25T10:00:01.274Z"
   },
   {
    "duration": 89,
    "start_time": "2022-02-25T10:00:10.103Z"
   },
   {
    "duration": 11,
    "start_time": "2022-02-25T10:00:10.299Z"
   },
   {
    "duration": 6,
    "start_time": "2022-02-25T10:00:11.997Z"
   },
   {
    "duration": 6,
    "start_time": "2022-02-25T10:00:12.409Z"
   },
   {
    "duration": 29,
    "start_time": "2022-02-25T10:00:13.246Z"
   },
   {
    "duration": 25,
    "start_time": "2022-02-25T10:00:21.679Z"
   },
   {
    "duration": 25,
    "start_time": "2022-02-25T10:00:28.263Z"
   },
   {
    "duration": 25,
    "start_time": "2022-02-25T10:01:17.895Z"
   },
   {
    "duration": 24,
    "start_time": "2022-02-25T10:01:22.692Z"
   },
   {
    "duration": 5,
    "start_time": "2022-02-25T10:03:00.158Z"
   },
   {
    "duration": 5,
    "start_time": "2022-02-25T10:05:53.505Z"
   },
   {
    "duration": 4,
    "start_time": "2022-02-25T10:07:05.176Z"
   },
   {
    "duration": 7,
    "start_time": "2022-02-25T10:07:25.287Z"
   },
   {
    "duration": 25,
    "start_time": "2022-02-25T10:07:36.420Z"
   },
   {
    "duration": 13,
    "start_time": "2022-02-25T10:07:58.572Z"
   },
   {
    "duration": 4,
    "start_time": "2022-02-25T10:08:21.305Z"
   },
   {
    "duration": 653,
    "start_time": "2022-02-28T07:45:20.906Z"
   },
   {
    "duration": 9,
    "start_time": "2022-02-28T07:45:21.561Z"
   },
   {
    "duration": 4,
    "start_time": "2022-02-28T07:45:23.739Z"
   },
   {
    "duration": 5,
    "start_time": "2022-02-28T07:45:24.462Z"
   },
   {
    "duration": 8,
    "start_time": "2022-02-28T07:45:25.184Z"
   },
   {
    "duration": 6,
    "start_time": "2022-02-28T07:45:25.610Z"
   },
   {
    "duration": 20,
    "start_time": "2022-02-28T07:45:43.863Z"
   },
   {
    "duration": 9,
    "start_time": "2022-02-28T07:45:47.663Z"
   },
   {
    "duration": 15,
    "start_time": "2022-02-28T07:53:01.028Z"
   },
   {
    "duration": 21,
    "start_time": "2022-02-28T07:53:17.860Z"
   },
   {
    "duration": 4,
    "start_time": "2022-02-28T07:54:00.765Z"
   },
   {
    "duration": 20,
    "start_time": "2022-02-28T07:55:19.438Z"
   },
   {
    "duration": 372,
    "start_time": "2022-02-28T07:57:23.033Z"
   },
   {
    "duration": 22,
    "start_time": "2022-02-28T08:02:55.317Z"
   },
   {
    "duration": 279,
    "start_time": "2022-02-28T08:04:43.747Z"
   },
   {
    "duration": 284,
    "start_time": "2022-02-28T08:04:57.246Z"
   },
   {
    "duration": 306,
    "start_time": "2022-02-28T08:05:00.225Z"
   },
   {
    "duration": 299,
    "start_time": "2022-02-28T08:05:03.065Z"
   },
   {
    "duration": 420,
    "start_time": "2022-02-28T08:05:05.778Z"
   },
   {
    "duration": 23,
    "start_time": "2022-02-28T08:05:09.072Z"
   },
   {
    "duration": 308,
    "start_time": "2022-02-28T08:05:11.778Z"
   },
   {
    "duration": 941,
    "start_time": "2022-02-28T08:09:36.521Z"
   },
   {
    "duration": 591,
    "start_time": "2022-02-28T08:10:00.559Z"
   },
   {
    "duration": 491,
    "start_time": "2022-02-28T08:10:40.982Z"
   },
   {
    "duration": 25,
    "start_time": "2022-02-28T08:10:53.784Z"
   },
   {
    "duration": 87,
    "start_time": "2022-02-28T08:11:33.027Z"
   },
   {
    "duration": 9,
    "start_time": "2022-02-28T08:11:33.326Z"
   },
   {
    "duration": 4,
    "start_time": "2022-02-28T08:11:34.918Z"
   },
   {
    "duration": 6,
    "start_time": "2022-02-28T08:11:35.526Z"
   },
   {
    "duration": 8,
    "start_time": "2022-02-28T08:11:36.133Z"
   },
   {
    "duration": 6,
    "start_time": "2022-02-28T08:11:36.817Z"
   },
   {
    "duration": 7,
    "start_time": "2022-02-28T08:11:37.602Z"
   },
   {
    "duration": 24,
    "start_time": "2022-02-28T08:11:38.657Z"
   },
   {
    "duration": 23,
    "start_time": "2022-02-28T08:11:58.643Z"
   },
   {
    "duration": 77,
    "start_time": "2022-02-28T08:12:06.266Z"
   },
   {
    "duration": 9,
    "start_time": "2022-02-28T08:12:06.437Z"
   },
   {
    "duration": 4,
    "start_time": "2022-02-28T08:12:07.868Z"
   },
   {
    "duration": 6,
    "start_time": "2022-02-28T08:12:08.615Z"
   },
   {
    "duration": 8,
    "start_time": "2022-02-28T08:12:09.774Z"
   },
   {
    "duration": 5,
    "start_time": "2022-02-28T08:12:10.101Z"
   },
   {
    "duration": 6,
    "start_time": "2022-02-28T08:12:10.891Z"
   },
   {
    "duration": 23,
    "start_time": "2022-02-28T08:12:11.784Z"
   },
   {
    "duration": 461,
    "start_time": "2022-02-28T08:12:46.223Z"
   },
   {
    "duration": 470,
    "start_time": "2022-02-28T08:12:54.025Z"
   },
   {
    "duration": 24,
    "start_time": "2022-02-28T08:19:22.067Z"
   },
   {
    "duration": 79,
    "start_time": "2022-02-28T08:19:32.540Z"
   },
   {
    "duration": 10,
    "start_time": "2022-02-28T08:19:32.681Z"
   },
   {
    "duration": 5,
    "start_time": "2022-02-28T08:19:33.578Z"
   },
   {
    "duration": 7,
    "start_time": "2022-02-28T08:19:33.938Z"
   },
   {
    "duration": 7,
    "start_time": "2022-02-28T08:19:34.318Z"
   },
   {
    "duration": 5,
    "start_time": "2022-02-28T08:19:34.910Z"
   },
   {
    "duration": 8,
    "start_time": "2022-02-28T08:19:35.446Z"
   },
   {
    "duration": 25,
    "start_time": "2022-02-28T08:19:36.415Z"
   },
   {
    "duration": 78,
    "start_time": "2022-02-28T08:20:21.759Z"
   },
   {
    "duration": 11,
    "start_time": "2022-02-28T08:20:21.942Z"
   },
   {
    "duration": 5,
    "start_time": "2022-02-28T08:20:23.009Z"
   },
   {
    "duration": 6,
    "start_time": "2022-02-28T08:20:23.358Z"
   },
   {
    "duration": 9,
    "start_time": "2022-02-28T08:20:23.916Z"
   },
   {
    "duration": 5,
    "start_time": "2022-02-28T08:20:24.365Z"
   },
   {
    "duration": 7,
    "start_time": "2022-02-28T08:20:24.960Z"
   },
   {
    "duration": 337,
    "start_time": "2022-02-28T08:20:27.598Z"
   },
   {
    "duration": 399,
    "start_time": "2022-02-28T08:20:43.778Z"
   },
   {
    "duration": 93,
    "start_time": "2022-02-28T08:21:33.954Z"
   },
   {
    "duration": 23,
    "start_time": "2022-02-28T08:22:41.817Z"
   },
   {
    "duration": 21,
    "start_time": "2022-02-28T08:22:57.901Z"
   },
   {
    "duration": 78,
    "start_time": "2022-02-28T08:23:04.070Z"
   },
   {
    "duration": 10,
    "start_time": "2022-02-28T08:23:04.254Z"
   },
   {
    "duration": 5,
    "start_time": "2022-02-28T08:23:05.442Z"
   },
   {
    "duration": 5,
    "start_time": "2022-02-28T08:23:05.847Z"
   },
   {
    "duration": 7,
    "start_time": "2022-02-28T08:23:06.390Z"
   },
   {
    "duration": 6,
    "start_time": "2022-02-28T08:23:06.804Z"
   },
   {
    "duration": 6,
    "start_time": "2022-02-28T08:23:07.590Z"
   },
   {
    "duration": 22,
    "start_time": "2022-02-28T08:23:08.727Z"
   },
   {
    "duration": 27,
    "start_time": "2022-02-28T08:23:45.169Z"
   },
   {
    "duration": 16,
    "start_time": "2022-02-28T08:24:43.058Z"
   },
   {
    "duration": 17,
    "start_time": "2022-02-28T08:25:20.374Z"
   },
   {
    "duration": 10,
    "start_time": "2022-02-28T08:25:25.688Z"
   },
   {
    "duration": 6,
    "start_time": "2022-02-28T08:29:13.635Z"
   },
   {
    "duration": 10,
    "start_time": "2022-02-28T08:29:23.679Z"
   },
   {
    "duration": 22,
    "start_time": "2022-02-28T08:29:32.820Z"
   },
   {
    "duration": 20,
    "start_time": "2022-02-28T08:30:01.982Z"
   },
   {
    "duration": 1001,
    "start_time": "2022-02-28T08:31:05.614Z"
   },
   {
    "duration": 323,
    "start_time": "2022-02-28T08:31:24.967Z"
   },
   {
    "duration": 21,
    "start_time": "2022-02-28T08:31:53.096Z"
   },
   {
    "duration": 22,
    "start_time": "2022-02-28T08:32:53.697Z"
   },
   {
    "duration": 90,
    "start_time": "2022-02-28T08:33:02.942Z"
   },
   {
    "duration": 12,
    "start_time": "2022-02-28T08:33:03.088Z"
   },
   {
    "duration": 5,
    "start_time": "2022-02-28T08:33:03.990Z"
   },
   {
    "duration": 5,
    "start_time": "2022-02-28T08:33:04.330Z"
   },
   {
    "duration": 8,
    "start_time": "2022-02-28T08:33:04.701Z"
   },
   {
    "duration": 5,
    "start_time": "2022-02-28T08:33:05.207Z"
   },
   {
    "duration": 6,
    "start_time": "2022-02-28T08:33:05.711Z"
   },
   {
    "duration": 11,
    "start_time": "2022-02-28T08:33:06.392Z"
   },
   {
    "duration": 24,
    "start_time": "2022-02-28T08:33:13.070Z"
   },
   {
    "duration": 284,
    "start_time": "2022-02-28T08:33:24.269Z"
   },
   {
    "duration": 22,
    "start_time": "2022-02-28T08:33:31.217Z"
   },
   {
    "duration": 5,
    "start_time": "2022-02-28T08:37:04.989Z"
   },
   {
    "duration": 4,
    "start_time": "2022-02-28T08:37:19.360Z"
   },
   {
    "duration": 279,
    "start_time": "2022-02-28T08:37:29.048Z"
   },
   {
    "duration": 4,
    "start_time": "2022-02-28T08:37:46.302Z"
   },
   {
    "duration": 16,
    "start_time": "2022-02-28T08:42:22.114Z"
   },
   {
    "duration": 9,
    "start_time": "2022-02-28T08:42:28.637Z"
   },
   {
    "duration": 7,
    "start_time": "2022-02-28T08:42:36.827Z"
   },
   {
    "duration": 364,
    "start_time": "2022-02-28T08:43:16.661Z"
   },
   {
    "duration": 12,
    "start_time": "2022-02-28T08:44:41.752Z"
   },
   {
    "duration": 12,
    "start_time": "2022-02-28T08:45:13.090Z"
   },
   {
    "duration": 33,
    "start_time": "2022-02-28T08:45:19.392Z"
   },
   {
    "duration": 15,
    "start_time": "2022-02-28T08:46:08.266Z"
   },
   {
    "duration": 26,
    "start_time": "2022-02-28T08:46:15.922Z"
   },
   {
    "duration": 32,
    "start_time": "2022-02-28T08:49:17.662Z"
   },
   {
    "duration": 21,
    "start_time": "2022-02-28T08:49:40.790Z"
   },
   {
    "duration": 23,
    "start_time": "2022-02-28T08:50:02.054Z"
   },
   {
    "duration": 24,
    "start_time": "2022-02-28T08:50:19.875Z"
   },
   {
    "duration": 28,
    "start_time": "2022-02-28T08:50:34.337Z"
   },
   {
    "duration": 32,
    "start_time": "2022-02-28T08:50:46.738Z"
   },
   {
    "duration": 31,
    "start_time": "2022-02-28T08:50:57.465Z"
   },
   {
    "duration": 41,
    "start_time": "2022-02-28T08:51:08.574Z"
   },
   {
    "duration": 56,
    "start_time": "2022-02-28T08:51:14.774Z"
   },
   {
    "duration": 37,
    "start_time": "2022-02-28T08:52:20.771Z"
   },
   {
    "duration": 45,
    "start_time": "2022-02-28T08:52:42.577Z"
   },
   {
    "duration": 47,
    "start_time": "2022-02-28T08:52:55.199Z"
   },
   {
    "duration": 45,
    "start_time": "2022-02-28T08:53:01.215Z"
   },
   {
    "duration": 47,
    "start_time": "2022-02-28T08:53:12.059Z"
   },
   {
    "duration": 45,
    "start_time": "2022-02-28T08:53:24.063Z"
   },
   {
    "duration": 69,
    "start_time": "2022-02-28T08:54:48.538Z"
   },
   {
    "duration": 79,
    "start_time": "2022-02-28T08:54:53.823Z"
   },
   {
    "duration": 85,
    "start_time": "2022-02-28T08:55:17.249Z"
   },
   {
    "duration": 86,
    "start_time": "2022-02-28T08:55:50.289Z"
   },
   {
    "duration": 29,
    "start_time": "2022-02-28T09:00:43.083Z"
   },
   {
    "duration": 1331,
    "start_time": "2022-02-28T09:01:38.035Z"
   },
   {
    "duration": 109,
    "start_time": "2022-02-28T09:02:16.076Z"
   },
   {
    "duration": -178,
    "start_time": "2022-02-28T09:05:07.453Z"
   },
   {
    "duration": 6935,
    "start_time": "2022-02-28T09:05:24.928Z"
   },
   {
    "duration": 1317,
    "start_time": "2022-02-28T09:05:43.109Z"
   },
   {
    "duration": 24,
    "start_time": "2022-02-28T09:05:54.457Z"
   },
   {
    "duration": 93,
    "start_time": "2022-02-28T09:11:47.563Z"
   },
   {
    "duration": 175,
    "start_time": "2022-02-28T09:11:56.396Z"
   },
   {
    "duration": 1319,
    "start_time": "2022-02-28T09:12:04.598Z"
   },
   {
    "duration": 1402,
    "start_time": "2022-02-28T09:13:01.366Z"
   },
   {
    "duration": 5812,
    "start_time": "2022-02-28T09:14:22.014Z"
   },
   {
    "duration": 4293,
    "start_time": "2022-02-28T09:14:41.668Z"
   },
   {
    "duration": 524,
    "start_time": "2022-02-28T09:15:45.718Z"
   },
   {
    "duration": 541,
    "start_time": "2022-02-28T09:16:04.799Z"
   },
   {
    "duration": 536,
    "start_time": "2022-02-28T09:16:28.151Z"
   },
   {
    "duration": 88,
    "start_time": "2022-02-28T09:16:43.515Z"
   },
   {
    "duration": 9,
    "start_time": "2022-02-28T09:16:43.672Z"
   },
   {
    "duration": 4,
    "start_time": "2022-02-28T09:16:44.541Z"
   },
   {
    "duration": 6,
    "start_time": "2022-02-28T09:16:44.916Z"
   },
   {
    "duration": 7,
    "start_time": "2022-02-28T09:16:45.264Z"
   },
   {
    "duration": 5,
    "start_time": "2022-02-28T09:16:45.628Z"
   },
   {
    "duration": 7,
    "start_time": "2022-02-28T09:16:45.981Z"
   },
   {
    "duration": 11,
    "start_time": "2022-02-28T09:16:46.327Z"
   },
   {
    "duration": 22,
    "start_time": "2022-02-28T09:16:46.902Z"
   },
   {
    "duration": 81,
    "start_time": "2022-02-28T09:16:50.161Z"
   },
   {
    "duration": 576,
    "start_time": "2022-02-28T09:16:51.542Z"
   },
   {
    "duration": 519,
    "start_time": "2022-02-28T09:17:30.254Z"
   },
   {
    "duration": 4,
    "start_time": "2022-02-28T09:22:50.375Z"
   },
   {
    "duration": 21,
    "start_time": "2022-02-28T09:22:58.197Z"
   },
   {
    "duration": 20,
    "start_time": "2022-02-28T09:23:47.052Z"
   },
   {
    "duration": 20,
    "start_time": "2022-02-28T09:24:09.842Z"
   },
   {
    "duration": 19,
    "start_time": "2022-02-28T09:24:17.448Z"
   },
   {
    "duration": 20,
    "start_time": "2022-02-28T09:24:52.514Z"
   },
   {
    "duration": 20,
    "start_time": "2022-02-28T09:25:02.332Z"
   },
   {
    "duration": 22,
    "start_time": "2022-02-28T09:26:05.992Z"
   },
   {
    "duration": 194,
    "start_time": "2022-02-28T09:29:24.880Z"
   },
   {
    "duration": 143,
    "start_time": "2022-02-28T09:30:26.325Z"
   },
   {
    "duration": 155,
    "start_time": "2022-02-28T09:30:58.416Z"
   },
   {
    "duration": 129,
    "start_time": "2022-02-28T09:31:05.648Z"
   },
   {
    "duration": 173,
    "start_time": "2022-02-28T09:31:16.836Z"
   },
   {
    "duration": 193,
    "start_time": "2022-02-28T09:31:29.365Z"
   },
   {
    "duration": 1554,
    "start_time": "2022-02-28T09:31:40.696Z"
   },
   {
    "duration": 257,
    "start_time": "2022-02-28T09:31:49.892Z"
   },
   {
    "duration": 268,
    "start_time": "2022-02-28T09:32:19.655Z"
   },
   {
    "duration": 286,
    "start_time": "2022-02-28T09:32:34.221Z"
   },
   {
    "duration": 367,
    "start_time": "2022-02-28T09:32:47.244Z"
   },
   {
    "duration": 313,
    "start_time": "2022-02-28T09:32:56.737Z"
   },
   {
    "duration": 1838,
    "start_time": "2022-02-28T09:33:54.927Z"
   },
   {
    "duration": 16527,
    "start_time": "2022-02-28T09:34:12.496Z"
   },
   {
    "duration": 17544,
    "start_time": "2022-02-28T09:34:52.458Z"
   },
   {
    "duration": 366,
    "start_time": "2022-02-28T09:35:30.260Z"
   },
   {
    "duration": 352,
    "start_time": "2022-02-28T09:37:25.933Z"
   },
   {
    "duration": 368,
    "start_time": "2022-02-28T09:37:35.182Z"
   },
   {
    "duration": 345,
    "start_time": "2022-02-28T09:37:48.956Z"
   },
   {
    "duration": 366,
    "start_time": "2022-02-28T09:38:00.974Z"
   },
   {
    "duration": 1581,
    "start_time": "2022-02-28T09:38:42.453Z"
   },
   {
    "duration": 2498,
    "start_time": "2022-02-28T09:38:52.099Z"
   },
   {
    "duration": 364,
    "start_time": "2022-02-28T09:39:22.206Z"
   },
   {
    "duration": 378,
    "start_time": "2022-02-28T09:39:44.468Z"
   },
   {
    "duration": 420,
    "start_time": "2022-02-28T09:40:04.467Z"
   },
   {
    "duration": 516,
    "start_time": "2022-02-28T09:40:11.902Z"
   },
   {
    "duration": 337,
    "start_time": "2022-02-28T09:40:21.415Z"
   },
   {
    "duration": 4,
    "start_time": "2022-02-28T09:42:27.977Z"
   },
   {
    "duration": 4,
    "start_time": "2022-02-28T09:42:39.298Z"
   },
   {
    "duration": 7,
    "start_time": "2022-02-28T09:42:50.198Z"
   },
   {
    "duration": 5,
    "start_time": "2022-02-28T09:43:00.546Z"
   },
   {
    "duration": 340,
    "start_time": "2022-02-28T09:43:23.976Z"
   },
   {
    "duration": 324,
    "start_time": "2022-02-28T09:43:42.425Z"
   },
   {
    "duration": 342,
    "start_time": "2022-02-28T09:43:51.556Z"
   },
   {
    "duration": 313,
    "start_time": "2022-02-28T09:51:34.604Z"
   },
   {
    "duration": 334,
    "start_time": "2022-02-28T09:51:47.750Z"
   },
   {
    "duration": 311,
    "start_time": "2022-02-28T09:52:15.807Z"
   },
   {
    "duration": 324,
    "start_time": "2022-02-28T09:52:29.079Z"
   },
   {
    "duration": 331,
    "start_time": "2022-02-28T09:52:36.472Z"
   },
   {
    "duration": 324,
    "start_time": "2022-02-28T09:53:08.707Z"
   },
   {
    "duration": 454,
    "start_time": "2022-02-28T09:53:32.213Z"
   },
   {
    "duration": 472,
    "start_time": "2022-02-28T09:53:44.079Z"
   },
   {
    "duration": 336,
    "start_time": "2022-02-28T09:54:05.950Z"
   },
   {
    "duration": 200,
    "start_time": "2022-02-28T09:54:39.254Z"
   },
   {
    "duration": 761,
    "start_time": "2022-02-28T09:55:12.424Z"
   },
   {
    "duration": -314,
    "start_time": "2022-02-28T09:55:34.137Z"
   },
   {
    "duration": 231,
    "start_time": "2022-02-28T09:55:35.468Z"
   },
   {
    "duration": 211,
    "start_time": "2022-02-28T09:56:14.660Z"
   },
   {
    "duration": 369,
    "start_time": "2022-02-28T09:56:35.070Z"
   },
   {
    "duration": 316,
    "start_time": "2022-02-28T10:23:04.123Z"
   },
   {
    "duration": 330,
    "start_time": "2022-02-28T10:23:29.381Z"
   },
   {
    "duration": 307,
    "start_time": "2022-02-28T10:23:48.207Z"
   },
   {
    "duration": 328,
    "start_time": "2022-02-28T10:23:55.096Z"
   },
   {
    "duration": 340,
    "start_time": "2022-02-28T10:24:25.701Z"
   },
   {
    "duration": 323,
    "start_time": "2022-02-28T10:24:33.055Z"
   },
   {
    "duration": 322,
    "start_time": "2022-02-28T10:24:43.864Z"
   },
   {
    "duration": 91,
    "start_time": "2022-02-28T10:24:49.301Z"
   },
   {
    "duration": 10,
    "start_time": "2022-02-28T10:24:49.464Z"
   },
   {
    "duration": 4,
    "start_time": "2022-02-28T10:24:50.396Z"
   },
   {
    "duration": 6,
    "start_time": "2022-02-28T10:24:50.837Z"
   },
   {
    "duration": 8,
    "start_time": "2022-02-28T10:24:51.371Z"
   },
   {
    "duration": 5,
    "start_time": "2022-02-28T10:24:51.793Z"
   },
   {
    "duration": 6,
    "start_time": "2022-02-28T10:24:52.305Z"
   },
   {
    "duration": 11,
    "start_time": "2022-02-28T10:24:52.873Z"
   },
   {
    "duration": 22,
    "start_time": "2022-02-28T10:24:53.573Z"
   },
   {
    "duration": 80,
    "start_time": "2022-02-28T10:24:54.104Z"
   },
   {
    "duration": 529,
    "start_time": "2022-02-28T10:24:54.624Z"
   },
   {
    "duration": 22,
    "start_time": "2022-02-28T10:24:55.208Z"
   },
   {
    "duration": 316,
    "start_time": "2022-02-28T10:24:56.449Z"
   },
   {
    "duration": 345,
    "start_time": "2022-02-28T10:24:58.191Z"
   },
   {
    "duration": 772,
    "start_time": "2022-02-28T10:25:26.734Z"
   },
   {
    "duration": 334,
    "start_time": "2022-02-28T10:25:43.272Z"
   },
   {
    "duration": 719,
    "start_time": "2022-02-28T10:27:02.589Z"
   },
   {
    "duration": 321,
    "start_time": "2022-02-28T10:27:12.307Z"
   },
   {
    "duration": 321,
    "start_time": "2022-02-28T10:27:22.373Z"
   },
   {
    "duration": 587,
    "start_time": "2022-02-28T10:27:52.521Z"
   },
   {
    "duration": 331,
    "start_time": "2022-02-28T10:28:08.482Z"
   },
   {
    "duration": 334,
    "start_time": "2022-02-28T10:28:15.991Z"
   },
   {
    "duration": 333,
    "start_time": "2022-02-28T10:28:32.218Z"
   },
   {
    "duration": 9110,
    "start_time": "2022-02-28T10:28:39.605Z"
   },
   {
    "duration": 2575,
    "start_time": "2022-02-28T10:29:07.128Z"
   },
   {
    "duration": 7528,
    "start_time": "2022-02-28T10:30:34.586Z"
   },
   {
    "duration": 377,
    "start_time": "2022-02-28T10:31:16.426Z"
   },
   {
    "duration": 353,
    "start_time": "2022-02-28T10:31:42.914Z"
   },
   {
    "duration": 155,
    "start_time": "2022-02-28T10:33:42.241Z"
   },
   {
    "duration": 290,
    "start_time": "2022-02-28T10:33:56.749Z"
   },
   {
    "duration": 291,
    "start_time": "2022-02-28T10:34:43.517Z"
   },
   {
    "duration": 289,
    "start_time": "2022-02-28T10:34:52.882Z"
   },
   {
    "duration": 316,
    "start_time": "2022-02-28T10:35:40.529Z"
   },
   {
    "duration": 312,
    "start_time": "2022-02-28T10:36:00.313Z"
   },
   {
    "duration": 312,
    "start_time": "2022-02-28T10:36:12.876Z"
   },
   {
    "duration": 333,
    "start_time": "2022-02-28T10:36:36.474Z"
   },
   {
    "duration": 338,
    "start_time": "2022-02-28T10:36:47.092Z"
   },
   {
    "duration": 354,
    "start_time": "2022-02-28T10:36:59.353Z"
   },
   {
    "duration": 315,
    "start_time": "2022-02-28T10:37:11.377Z"
   },
   {
    "duration": 308,
    "start_time": "2022-02-28T10:37:20.252Z"
   },
   {
    "duration": 313,
    "start_time": "2022-02-28T10:37:31.690Z"
   },
   {
    "duration": 321,
    "start_time": "2022-02-28T10:37:56.466Z"
   },
   {
    "duration": 318,
    "start_time": "2022-02-28T10:38:09.326Z"
   },
   {
    "duration": 184,
    "start_time": "2022-02-28T10:38:19.811Z"
   },
   {
    "duration": 181,
    "start_time": "2022-02-28T10:38:28.672Z"
   },
   {
    "duration": 183,
    "start_time": "2022-02-28T10:38:43.477Z"
   },
   {
    "duration": 190,
    "start_time": "2022-02-28T10:38:50.856Z"
   },
   {
    "duration": 253,
    "start_time": "2022-02-28T10:38:58.110Z"
   },
   {
    "duration": 365,
    "start_time": "2022-02-28T10:39:09.003Z"
   },
   {
    "duration": 343,
    "start_time": "2022-02-28T10:40:50.289Z"
   },
   {
    "duration": 115,
    "start_time": "2022-02-28T10:41:00.371Z"
   },
   {
    "duration": 311,
    "start_time": "2022-02-28T10:41:08.892Z"
   },
   {
    "duration": 193,
    "start_time": "2022-02-28T10:41:19.573Z"
   },
   {
    "duration": 200,
    "start_time": "2022-02-28T10:41:37.651Z"
   },
   {
    "duration": 5,
    "start_time": "2022-02-28T10:42:15.784Z"
   },
   {
    "duration": 4,
    "start_time": "2022-02-28T10:42:29.404Z"
   },
   {
    "duration": 18,
    "start_time": "2022-02-28T10:43:02.206Z"
   },
   {
    "duration": 38,
    "start_time": "2022-02-28T10:43:58.325Z"
   },
   {
    "duration": 208,
    "start_time": "2022-02-28T10:44:23.230Z"
   },
   {
    "duration": 224,
    "start_time": "2022-02-28T10:44:42.592Z"
   },
   {
    "duration": 235,
    "start_time": "2022-02-28T10:44:55.590Z"
   },
   {
    "duration": 248,
    "start_time": "2022-02-28T10:45:10.005Z"
   },
   {
    "duration": 206,
    "start_time": "2022-02-28T10:45:39.707Z"
   },
   {
    "duration": 212,
    "start_time": "2022-02-28T10:45:50.375Z"
   },
   {
    "duration": 311,
    "start_time": "2022-02-28T10:46:02.380Z"
   },
   {
    "duration": 204,
    "start_time": "2022-02-28T10:46:09.172Z"
   },
   {
    "duration": 240,
    "start_time": "2022-02-28T10:46:48.025Z"
   },
   {
    "duration": 203,
    "start_time": "2022-02-28T10:46:54.932Z"
   },
   {
    "duration": 231,
    "start_time": "2022-02-28T10:46:58.877Z"
   },
   {
    "duration": 228,
    "start_time": "2022-02-28T10:47:29.405Z"
   },
   {
    "duration": 492,
    "start_time": "2022-02-28T10:47:42.714Z"
   },
   {
    "duration": 200,
    "start_time": "2022-02-28T10:47:58.572Z"
   },
   {
    "duration": 204,
    "start_time": "2022-02-28T10:48:04.058Z"
   },
   {
    "duration": 198,
    "start_time": "2022-02-28T10:48:22.518Z"
   },
   {
    "duration": 203,
    "start_time": "2022-02-28T10:48:56.810Z"
   },
   {
    "duration": 324,
    "start_time": "2022-02-28T10:49:47.510Z"
   },
   {
    "duration": 332,
    "start_time": "2022-02-28T10:49:58.451Z"
   },
   {
    "duration": 7477,
    "start_time": "2022-02-28T10:50:42.074Z"
   },
   {
    "duration": 154,
    "start_time": "2022-02-28T10:51:01.871Z"
   },
   {
    "duration": 156,
    "start_time": "2022-02-28T10:51:24.462Z"
   },
   {
    "duration": 154,
    "start_time": "2022-02-28T10:52:10.600Z"
   },
   {
    "duration": 153,
    "start_time": "2022-02-28T10:52:24.897Z"
   },
   {
    "duration": 150,
    "start_time": "2022-02-28T10:52:34.710Z"
   },
   {
    "duration": 153,
    "start_time": "2022-02-28T10:53:14.494Z"
   },
   {
    "duration": 144,
    "start_time": "2022-02-28T10:53:31.458Z"
   },
   {
    "duration": 209,
    "start_time": "2022-02-28T10:53:39.218Z"
   },
   {
    "duration": 162,
    "start_time": "2022-02-28T10:53:51.213Z"
   },
   {
    "duration": 163,
    "start_time": "2022-02-28T10:54:07.883Z"
   },
   {
    "duration": 165,
    "start_time": "2022-02-28T10:54:17.095Z"
   },
   {
    "duration": 159,
    "start_time": "2022-02-28T10:54:23.525Z"
   },
   {
    "duration": 179,
    "start_time": "2022-02-28T10:54:47.877Z"
   },
   {
    "duration": 245,
    "start_time": "2022-02-28T10:55:10.033Z"
   },
   {
    "duration": 273,
    "start_time": "2022-02-28T10:55:18.195Z"
   },
   {
    "duration": 251,
    "start_time": "2022-02-28T10:55:25.539Z"
   },
   {
    "duration": 323,
    "start_time": "2022-02-28T10:55:36.160Z"
   },
   {
    "duration": 322,
    "start_time": "2022-02-28T10:55:49.066Z"
   },
   {
    "duration": 322,
    "start_time": "2022-02-28T10:55:56.749Z"
   },
   {
    "duration": 241,
    "start_time": "2022-02-28T10:56:14.978Z"
   },
   {
    "duration": 192,
    "start_time": "2022-02-28T10:56:22.448Z"
   },
   {
    "duration": 214,
    "start_time": "2022-02-28T10:56:38.902Z"
   },
   {
    "duration": 222,
    "start_time": "2022-02-28T10:56:45.930Z"
   },
   {
    "duration": 218,
    "start_time": "2022-02-28T10:57:04.389Z"
   },
   {
    "duration": 405,
    "start_time": "2022-02-28T10:57:29.177Z"
   },
   {
    "duration": 282,
    "start_time": "2022-02-28T10:57:55.841Z"
   },
   {
    "duration": 321,
    "start_time": "2022-02-28T10:58:07.959Z"
   },
   {
    "duration": 217,
    "start_time": "2022-02-28T10:58:18.679Z"
   },
   {
    "duration": 217,
    "start_time": "2022-02-28T10:58:43.752Z"
   },
   {
    "duration": 234,
    "start_time": "2022-02-28T10:58:52.038Z"
   },
   {
    "duration": 602,
    "start_time": "2022-02-28T10:58:57.716Z"
   },
   {
    "duration": 268,
    "start_time": "2022-02-28T10:59:04.996Z"
   },
   {
    "duration": 217,
    "start_time": "2022-02-28T10:59:12.834Z"
   },
   {
    "duration": 214,
    "start_time": "2022-02-28T10:59:28.555Z"
   },
   {
    "duration": 244,
    "start_time": "2022-02-28T10:59:51.752Z"
   },
   {
    "duration": 346,
    "start_time": "2022-02-28T11:00:04.508Z"
   },
   {
    "duration": 3463,
    "start_time": "2022-02-28T11:00:16.073Z"
   },
   {
    "duration": 914,
    "start_time": "2022-02-28T11:00:43.181Z"
   },
   {
    "duration": 347,
    "start_time": "2022-02-28T11:00:52.147Z"
   },
   {
    "duration": 803,
    "start_time": "2022-03-01T07:56:39.794Z"
   },
   {
    "duration": 15,
    "start_time": "2022-03-01T07:56:40.599Z"
   },
   {
    "duration": 5,
    "start_time": "2022-03-01T07:56:40.880Z"
   },
   {
    "duration": 7,
    "start_time": "2022-03-01T07:56:41.312Z"
   },
   {
    "duration": 13,
    "start_time": "2022-03-01T07:56:42.154Z"
   },
   {
    "duration": 8,
    "start_time": "2022-03-01T07:56:42.861Z"
   },
   {
    "duration": 9,
    "start_time": "2022-03-01T07:56:43.648Z"
   },
   {
    "duration": 14,
    "start_time": "2022-03-01T07:56:44.379Z"
   },
   {
    "duration": 33,
    "start_time": "2022-03-01T07:56:45.564Z"
   },
   {
    "duration": 132,
    "start_time": "2022-03-01T07:56:46.401Z"
   },
   {
    "duration": 1008,
    "start_time": "2022-03-01T07:56:47.224Z"
   },
   {
    "duration": 36,
    "start_time": "2022-03-01T07:56:48.235Z"
   },
   {
    "duration": 469,
    "start_time": "2022-03-01T07:56:49.246Z"
   },
   {
    "duration": 379,
    "start_time": "2022-03-01T07:56:50.446Z"
   },
   {
    "duration": 378,
    "start_time": "2022-03-01T07:58:22.865Z"
   },
   {
    "duration": 383,
    "start_time": "2022-03-01T07:58:33.693Z"
   },
   {
    "duration": 537,
    "start_time": "2022-03-01T07:58:41.721Z"
   },
   {
    "duration": 369,
    "start_time": "2022-03-01T07:58:50.500Z"
   },
   {
    "duration": 291,
    "start_time": "2022-03-01T07:59:07.793Z"
   },
   {
    "duration": 595,
    "start_time": "2022-03-01T08:00:25.770Z"
   },
   {
    "duration": 623,
    "start_time": "2022-03-01T08:00:51.233Z"
   },
   {
    "duration": 672,
    "start_time": "2022-03-01T08:01:08.188Z"
   },
   {
    "duration": 582,
    "start_time": "2022-03-01T08:01:20.197Z"
   },
   {
    "duration": 538,
    "start_time": "2022-03-01T08:01:35.835Z"
   },
   {
    "duration": 660,
    "start_time": "2022-03-01T08:01:49.293Z"
   },
   {
    "duration": 525,
    "start_time": "2022-03-01T08:01:59.251Z"
   },
   {
    "duration": 524,
    "start_time": "2022-03-01T08:02:28.050Z"
   },
   {
    "duration": 585,
    "start_time": "2022-03-01T08:02:47.295Z"
   },
   {
    "duration": 66,
    "start_time": "2022-03-01T08:05:26.005Z"
   },
   {
    "duration": 70,
    "start_time": "2022-03-01T08:05:30.975Z"
   },
   {
    "duration": 231,
    "start_time": "2022-03-01T08:05:42.761Z"
   },
   {
    "duration": 316,
    "start_time": "2022-03-01T08:05:55.065Z"
   },
   {
    "duration": 205,
    "start_time": "2022-03-01T08:06:43.598Z"
   },
   {
    "duration": 218,
    "start_time": "2022-03-01T08:06:58.504Z"
   },
   {
    "duration": 175,
    "start_time": "2022-03-01T08:11:58.458Z"
   },
   {
    "duration": 305,
    "start_time": "2022-03-01T08:12:10.656Z"
   },
   {
    "duration": 306,
    "start_time": "2022-03-01T08:12:27.718Z"
   },
   {
    "duration": 305,
    "start_time": "2022-03-01T08:12:41.170Z"
   },
   {
    "duration": 420,
    "start_time": "2022-03-01T08:13:02.261Z"
   },
   {
    "duration": 172,
    "start_time": "2022-03-01T08:13:34.744Z"
   },
   {
    "duration": 243,
    "start_time": "2022-03-01T08:13:59.768Z"
   },
   {
    "duration": 270,
    "start_time": "2022-03-01T08:14:20.598Z"
   },
   {
    "duration": 277,
    "start_time": "2022-03-01T08:14:27.309Z"
   },
   {
    "duration": 344,
    "start_time": "2022-03-01T08:22:26.590Z"
   },
   {
    "duration": 594,
    "start_time": "2022-03-01T08:23:24.138Z"
   },
   {
    "duration": 376,
    "start_time": "2022-03-01T08:23:40.268Z"
   },
   {
    "duration": 580,
    "start_time": "2022-03-01T08:23:53.058Z"
   },
   {
    "duration": 385,
    "start_time": "2022-03-01T08:24:56.310Z"
   },
   {
    "duration": 339,
    "start_time": "2022-03-01T08:25:25.111Z"
   },
   {
    "duration": 200,
    "start_time": "2022-03-01T08:25:47.691Z"
   },
   {
    "duration": 264,
    "start_time": "2022-03-01T08:26:02.435Z"
   },
   {
    "duration": 224,
    "start_time": "2022-03-01T08:26:42.133Z"
   },
   {
    "duration": 178,
    "start_time": "2022-03-01T08:27:59.112Z"
   },
   {
    "duration": 218,
    "start_time": "2022-03-01T08:28:20.294Z"
   },
   {
    "duration": 321,
    "start_time": "2022-03-01T08:28:41.296Z"
   },
   {
    "duration": 225,
    "start_time": "2022-03-01T08:28:54.826Z"
   },
   {
    "duration": 345,
    "start_time": "2022-03-01T08:29:01.694Z"
   },
   {
    "duration": 360,
    "start_time": "2022-03-01T08:29:18.195Z"
   },
   {
    "duration": 362,
    "start_time": "2022-03-01T08:29:22.735Z"
   },
   {
    "duration": 547,
    "start_time": "2022-03-01T08:31:08.521Z"
   },
   {
    "duration": 341,
    "start_time": "2022-03-01T08:31:15.139Z"
   },
   {
    "duration": 439,
    "start_time": "2022-03-01T08:31:26.519Z"
   },
   {
    "duration": 347,
    "start_time": "2022-03-01T08:31:34.293Z"
   },
   {
    "duration": 524,
    "start_time": "2022-03-01T08:32:14.729Z"
   },
   {
    "duration": 509,
    "start_time": "2022-03-01T08:32:35.224Z"
   },
   {
    "duration": 637,
    "start_time": "2022-03-01T08:32:51.306Z"
   },
   {
    "duration": 369,
    "start_time": "2022-03-01T08:33:03.392Z"
   },
   {
    "duration": 4,
    "start_time": "2022-03-01T08:38:47.150Z"
   },
   {
    "duration": 3,
    "start_time": "2022-03-01T08:39:52.077Z"
   },
   {
    "duration": 4,
    "start_time": "2022-03-01T08:40:25.776Z"
   },
   {
    "duration": 5,
    "start_time": "2022-03-01T08:40:50.988Z"
   },
   {
    "duration": 151,
    "start_time": "2022-03-01T08:42:26.459Z"
   },
   {
    "duration": 82,
    "start_time": "2022-03-01T08:42:32.031Z"
   },
   {
    "duration": 7,
    "start_time": "2022-03-01T08:42:36.636Z"
   },
   {
    "duration": 168,
    "start_time": "2022-03-01T08:49:41.561Z"
   },
   {
    "duration": 13,
    "start_time": "2022-03-01T08:50:01.287Z"
   },
   {
    "duration": 16,
    "start_time": "2022-03-01T08:50:16.645Z"
   },
   {
    "duration": 14,
    "start_time": "2022-03-01T08:50:32.964Z"
   },
   {
    "duration": 13,
    "start_time": "2022-03-01T08:50:41.733Z"
   },
   {
    "duration": 85,
    "start_time": "2022-03-01T08:52:38.990Z"
   },
   {
    "duration": 10,
    "start_time": "2022-03-01T08:52:51.381Z"
   },
   {
    "duration": 360,
    "start_time": "2022-03-01T08:53:08.018Z"
   },
   {
    "duration": 347,
    "start_time": "2022-03-01T08:53:43.600Z"
   },
   {
    "duration": 87,
    "start_time": "2022-03-01T08:53:57.424Z"
   },
   {
    "duration": 10,
    "start_time": "2022-03-01T08:53:57.568Z"
   },
   {
    "duration": 5,
    "start_time": "2022-03-01T08:53:58.516Z"
   },
   {
    "duration": 6,
    "start_time": "2022-03-01T08:53:58.896Z"
   },
   {
    "duration": 10,
    "start_time": "2022-03-01T08:53:59.306Z"
   },
   {
    "duration": 5,
    "start_time": "2022-03-01T08:53:59.683Z"
   },
   {
    "duration": 8,
    "start_time": "2022-03-01T08:54:00.076Z"
   },
   {
    "duration": 13,
    "start_time": "2022-03-01T08:54:00.487Z"
   },
   {
    "duration": 24,
    "start_time": "2022-03-01T08:54:01.117Z"
   },
   {
    "duration": 87,
    "start_time": "2022-03-01T08:54:01.962Z"
   },
   {
    "duration": 569,
    "start_time": "2022-03-01T08:54:02.803Z"
   },
   {
    "duration": 25,
    "start_time": "2022-03-01T08:54:03.435Z"
   },
   {
    "duration": 345,
    "start_time": "2022-03-01T08:54:04.603Z"
   },
   {
    "duration": 520,
    "start_time": "2022-03-01T08:54:09.862Z"
   },
   {
    "duration": 216,
    "start_time": "2022-03-01T08:54:24.597Z"
   },
   {
    "duration": 277,
    "start_time": "2022-03-01T08:54:34.186Z"
   },
   {
    "duration": 196,
    "start_time": "2022-03-01T08:56:21.638Z"
   },
   {
    "duration": 215,
    "start_time": "2022-03-01T08:58:28.632Z"
   },
   {
    "duration": 208,
    "start_time": "2022-03-01T08:58:36.626Z"
   },
   {
    "duration": 216,
    "start_time": "2022-03-01T08:58:43.979Z"
   },
   {
    "duration": 15,
    "start_time": "2022-03-01T09:00:04.077Z"
   },
   {
    "duration": 227,
    "start_time": "2022-03-01T09:00:18.987Z"
   },
   {
    "duration": 354,
    "start_time": "2022-03-01T09:00:24.327Z"
   },
   {
    "duration": 229,
    "start_time": "2022-03-01T09:00:28.603Z"
   },
   {
    "duration": 226,
    "start_time": "2022-03-01T09:00:40.072Z"
   },
   {
    "duration": 220,
    "start_time": "2022-03-01T09:00:51.658Z"
   },
   {
    "duration": 227,
    "start_time": "2022-03-01T09:01:06.747Z"
   },
   {
    "duration": 218,
    "start_time": "2022-03-01T09:01:17.857Z"
   },
   {
    "duration": 278,
    "start_time": "2022-03-01T09:02:50.738Z"
   },
   {
    "duration": 474,
    "start_time": "2022-03-01T09:03:59.024Z"
   },
   {
    "duration": 286,
    "start_time": "2022-03-01T09:04:09.606Z"
   },
   {
    "duration": 79,
    "start_time": "2022-03-01T09:07:14.581Z"
   },
   {
    "duration": 268,
    "start_time": "2022-03-01T09:07:33.977Z"
   },
   {
    "duration": 15,
    "start_time": "2022-03-01T09:08:16.785Z"
   },
   {
    "duration": 15,
    "start_time": "2022-03-01T09:08:20.077Z"
   },
   {
    "duration": 464,
    "start_time": "2022-03-01T09:08:32.917Z"
   },
   {
    "duration": 738,
    "start_time": "2022-03-01T09:08:47.773Z"
   },
   {
    "duration": 365,
    "start_time": "2022-03-01T09:08:54.990Z"
   },
   {
    "duration": 219,
    "start_time": "2022-03-01T09:08:58.959Z"
   },
   {
    "duration": 291,
    "start_time": "2022-03-01T09:09:16.054Z"
   },
   {
    "duration": 223,
    "start_time": "2022-03-01T09:09:24.393Z"
   },
   {
    "duration": 178,
    "start_time": "2022-03-01T09:12:02.282Z"
   },
   {
    "duration": 12,
    "start_time": "2022-03-01T09:12:54.110Z"
   },
   {
    "duration": 282,
    "start_time": "2022-03-01T09:13:07.420Z"
   },
   {
    "duration": 24,
    "start_time": "2022-03-01T09:13:42.055Z"
   },
   {
    "duration": 22,
    "start_time": "2022-03-01T09:15:13.283Z"
   },
   {
    "duration": 10,
    "start_time": "2022-03-01T09:15:17.739Z"
   },
   {
    "duration": 192,
    "start_time": "2022-03-01T09:15:24.722Z"
   },
   {
    "duration": 173,
    "start_time": "2022-03-01T09:15:27.971Z"
   },
   {
    "duration": 189,
    "start_time": "2022-03-01T09:15:50.837Z"
   },
   {
    "duration": 210,
    "start_time": "2022-03-01T09:16:02.430Z"
   },
   {
    "duration": 216,
    "start_time": "2022-03-01T09:16:13.391Z"
   },
   {
    "duration": 225,
    "start_time": "2022-03-01T09:16:23.481Z"
   },
   {
    "duration": 251,
    "start_time": "2022-03-01T09:16:40.990Z"
   },
   {
    "duration": 320,
    "start_time": "2022-03-01T09:17:28.423Z"
   },
   {
    "duration": 245,
    "start_time": "2022-03-01T09:17:39.221Z"
   },
   {
    "duration": 178,
    "start_time": "2022-03-01T09:17:43.557Z"
   },
   {
    "duration": 251,
    "start_time": "2022-03-01T09:17:47.212Z"
   },
   {
    "duration": 382,
    "start_time": "2022-03-01T09:18:23.062Z"
   },
   {
    "duration": 393,
    "start_time": "2022-03-01T09:18:33.963Z"
   },
   {
    "duration": 45925,
    "start_time": "2022-03-01T09:37:38.209Z"
   },
   {
    "duration": 14,
    "start_time": "2022-03-01T09:42:24.061Z"
   },
   {
    "duration": 174,
    "start_time": "2022-03-01T09:42:43.441Z"
   },
   {
    "duration": 581,
    "start_time": "2022-03-01T09:44:15.253Z"
   },
   {
    "duration": 168,
    "start_time": "2022-03-01T09:45:40.918Z"
   },
   {
    "duration": 60,
    "start_time": "2022-03-01T09:45:56.786Z"
   },
   {
    "duration": 66,
    "start_time": "2022-03-01T09:46:05.214Z"
   },
   {
    "duration": 205,
    "start_time": "2022-03-01T09:47:58.038Z"
   },
   {
    "duration": 12,
    "start_time": "2022-03-01T09:48:05.549Z"
   },
   {
    "duration": 262,
    "start_time": "2022-03-01T09:48:14.048Z"
   },
   {
    "duration": 276,
    "start_time": "2022-03-01T09:48:38.071Z"
   },
   {
    "duration": 269,
    "start_time": "2022-03-01T09:48:49.968Z"
   },
   {
    "duration": 197,
    "start_time": "2022-03-01T09:49:22.504Z"
   },
   {
    "duration": 191,
    "start_time": "2022-03-01T09:49:50.287Z"
   },
   {
    "duration": 197,
    "start_time": "2022-03-01T09:50:09.221Z"
   },
   {
    "duration": 202,
    "start_time": "2022-03-01T09:50:50.414Z"
   },
   {
    "duration": 202,
    "start_time": "2022-03-01T09:51:07.770Z"
   },
   {
    "duration": 264,
    "start_time": "2022-03-01T09:51:25.280Z"
   },
   {
    "duration": 242,
    "start_time": "2022-03-01T09:51:46.773Z"
   },
   {
    "duration": 259,
    "start_time": "2022-03-01T09:52:00.635Z"
   },
   {
    "duration": 259,
    "start_time": "2022-03-01T09:52:10.313Z"
   },
   {
    "duration": 232,
    "start_time": "2022-03-01T09:52:51.410Z"
   },
   {
    "duration": 292,
    "start_time": "2022-03-01T09:53:02.651Z"
   },
   {
    "duration": 254,
    "start_time": "2022-03-01T09:53:36.379Z"
   },
   {
    "duration": 264,
    "start_time": "2022-03-01T09:53:47.901Z"
   },
   {
    "duration": 220,
    "start_time": "2022-03-01T09:54:49.206Z"
   },
   {
    "duration": 88,
    "start_time": "2022-03-01T09:55:00.021Z"
   },
   {
    "duration": 12,
    "start_time": "2022-03-01T09:55:00.168Z"
   },
   {
    "duration": 4,
    "start_time": "2022-03-01T09:55:01.026Z"
   },
   {
    "duration": 6,
    "start_time": "2022-03-01T09:55:01.354Z"
   },
   {
    "duration": 10,
    "start_time": "2022-03-01T09:55:01.705Z"
   },
   {
    "duration": 6,
    "start_time": "2022-03-01T09:55:02.057Z"
   },
   {
    "duration": 7,
    "start_time": "2022-03-01T09:55:02.388Z"
   },
   {
    "duration": 15,
    "start_time": "2022-03-01T09:55:02.750Z"
   },
   {
    "duration": 25,
    "start_time": "2022-03-01T09:55:03.318Z"
   },
   {
    "duration": 90,
    "start_time": "2022-03-01T09:55:03.702Z"
   },
   {
    "duration": 580,
    "start_time": "2022-03-01T09:55:04.099Z"
   },
   {
    "duration": 24,
    "start_time": "2022-03-01T09:55:04.681Z"
   },
   {
    "duration": 353,
    "start_time": "2022-03-01T09:55:05.121Z"
   },
   {
    "duration": 247,
    "start_time": "2022-03-01T09:55:05.969Z"
   },
   {
    "duration": 289,
    "start_time": "2022-03-01T09:55:08.922Z"
   },
   {
    "duration": 210,
    "start_time": "2022-03-01T09:55:10.604Z"
   },
   {
    "duration": 177,
    "start_time": "2022-03-01T09:55:15.051Z"
   },
   {
    "duration": 799,
    "start_time": "2022-03-01T09:55:16.659Z"
   },
   {
    "duration": 203,
    "start_time": "2022-03-01T09:55:17.460Z"
   },
   {
    "duration": 362,
    "start_time": "2022-03-01T09:55:17.974Z"
   },
   {
    "duration": 5,
    "start_time": "2022-03-01T09:55:18.916Z"
   },
   {
    "duration": 266,
    "start_time": "2022-03-01T09:55:19.759Z"
   },
   {
    "duration": 279,
    "start_time": "2022-03-01T09:55:20.215Z"
   },
   {
    "duration": 183,
    "start_time": "2022-03-01T09:58:30.225Z"
   },
   {
    "duration": 4796,
    "start_time": "2022-03-01T09:59:18.429Z"
   },
   {
    "duration": 5124,
    "start_time": "2022-03-01T09:59:37.537Z"
   },
   {
    "duration": 522,
    "start_time": "2022-03-01T09:59:47.332Z"
   },
   {
    "duration": 533,
    "start_time": "2022-03-01T10:01:23.705Z"
   },
   {
    "duration": 624,
    "start_time": "2022-03-01T10:01:33.569Z"
   },
   {
    "duration": 587,
    "start_time": "2022-03-01T10:03:48.631Z"
   },
   {
    "duration": 340,
    "start_time": "2022-03-01T10:04:21.639Z"
   },
   {
    "duration": 352,
    "start_time": "2022-03-01T10:04:34.588Z"
   },
   {
    "duration": 521,
    "start_time": "2022-03-01T10:04:49.148Z"
   },
   {
    "duration": 253,
    "start_time": "2022-03-01T10:05:11.637Z"
   },
   {
    "duration": 244,
    "start_time": "2022-03-01T10:05:53.546Z"
   },
   {
    "duration": 249,
    "start_time": "2022-03-01T10:06:03.692Z"
   },
   {
    "duration": 228,
    "start_time": "2022-03-01T10:06:44.041Z"
   },
   {
    "duration": 256,
    "start_time": "2022-03-01T10:06:52.542Z"
   },
   {
    "duration": 268,
    "start_time": "2022-03-01T10:07:01.789Z"
   },
   {
    "duration": 240,
    "start_time": "2022-03-01T10:07:15.665Z"
   },
   {
    "duration": 253,
    "start_time": "2022-03-01T10:07:41.433Z"
   },
   {
    "duration": 241,
    "start_time": "2022-03-01T10:10:24.305Z"
   },
   {
    "duration": 249,
    "start_time": "2022-03-01T10:10:37.928Z"
   },
   {
    "duration": 245,
    "start_time": "2022-03-01T10:10:43.764Z"
   },
   {
    "duration": 260,
    "start_time": "2022-03-01T10:10:53.211Z"
   },
   {
    "duration": 260,
    "start_time": "2022-03-01T10:11:48.942Z"
   },
   {
    "duration": 251,
    "start_time": "2022-03-01T10:12:11.542Z"
   },
   {
    "duration": 176,
    "start_time": "2022-03-01T10:15:06.671Z"
   },
   {
    "duration": 242,
    "start_time": "2022-03-01T10:15:21.133Z"
   },
   {
    "duration": 255,
    "start_time": "2022-03-01T10:15:47.584Z"
   },
   {
    "duration": 285,
    "start_time": "2022-03-01T10:15:56.627Z"
   },
   {
    "duration": 277,
    "start_time": "2022-03-01T10:16:03.858Z"
   },
   {
    "duration": 266,
    "start_time": "2022-03-01T10:16:13.799Z"
   },
   {
    "duration": 234,
    "start_time": "2022-03-01T10:16:43.639Z"
   },
   {
    "duration": 5469,
    "start_time": "2022-03-01T10:17:21.452Z"
   },
   {
    "duration": 397,
    "start_time": "2022-03-01T10:17:56.938Z"
   },
   {
    "duration": 234,
    "start_time": "2022-03-01T10:18:15.431Z"
   },
   {
    "duration": 488,
    "start_time": "2022-03-01T10:18:56.990Z"
   },
   {
    "duration": 541,
    "start_time": "2022-03-01T10:18:59.340Z"
   },
   {
    "duration": 435,
    "start_time": "2022-03-01T10:19:12.129Z"
   },
   {
    "duration": 493,
    "start_time": "2022-03-01T10:19:20.414Z"
   },
   {
    "duration": 515,
    "start_time": "2022-03-01T10:20:18.787Z"
   },
   {
    "duration": 433,
    "start_time": "2022-03-01T10:25:57.061Z"
   },
   {
    "duration": 256,
    "start_time": "2022-03-01T10:26:46.033Z"
   },
   {
    "duration": 536,
    "start_time": "2022-03-01T10:27:43.029Z"
   },
   {
    "duration": 253,
    "start_time": "2022-03-01T10:27:58.963Z"
   },
   {
    "duration": 232,
    "start_time": "2022-03-01T10:28:10.487Z"
   },
   {
    "duration": 530,
    "start_time": "2022-03-01T10:28:44.934Z"
   },
   {
    "duration": 244,
    "start_time": "2022-03-01T10:29:11.795Z"
   },
   {
    "duration": 527,
    "start_time": "2022-03-01T10:29:22.130Z"
   },
   {
    "duration": 1148,
    "start_time": "2022-03-01T10:30:01.107Z"
   },
   {
    "duration": 6,
    "start_time": "2022-03-01T10:30:15.235Z"
   },
   {
    "duration": 635,
    "start_time": "2022-03-01T10:30:21.899Z"
   },
   {
    "duration": 12,
    "start_time": "2022-03-01T10:30:43.711Z"
   },
   {
    "duration": 739,
    "start_time": "2022-03-01T10:31:51.357Z"
   },
   {
    "duration": 15,
    "start_time": "2022-03-01T10:32:03.813Z"
   },
   {
    "duration": 15,
    "start_time": "2022-03-01T10:32:15.006Z"
   },
   {
    "duration": 14,
    "start_time": "2022-03-01T10:32:26.835Z"
   },
   {
    "duration": 14,
    "start_time": "2022-03-01T10:32:40.033Z"
   },
   {
    "duration": 14,
    "start_time": "2022-03-01T10:33:08.539Z"
   },
   {
    "duration": 7,
    "start_time": "2022-03-01T10:33:25.039Z"
   },
   {
    "duration": 245,
    "start_time": "2022-03-01T10:35:46.782Z"
   },
   {
    "duration": 237,
    "start_time": "2022-03-01T10:35:56.597Z"
   },
   {
    "duration": 541,
    "start_time": "2022-03-01T10:36:59.387Z"
   },
   {
    "duration": 255,
    "start_time": "2022-03-01T10:37:10.299Z"
   },
   {
    "duration": 12,
    "start_time": "2022-03-01T10:39:44.548Z"
   },
   {
    "duration": 283,
    "start_time": "2022-03-01T10:41:16.414Z"
   },
   {
    "duration": 187,
    "start_time": "2022-03-01T10:41:45.834Z"
   },
   {
    "duration": 13,
    "start_time": "2022-03-01T10:41:59.644Z"
   },
   {
    "duration": 14,
    "start_time": "2022-03-01T10:42:33.345Z"
   },
   {
    "duration": 230,
    "start_time": "2022-03-01T10:42:47.549Z"
   },
   {
    "duration": 184,
    "start_time": "2022-03-01T10:43:17.006Z"
   },
   {
    "duration": 14,
    "start_time": "2022-03-01T10:43:51.797Z"
   },
   {
    "duration": 12,
    "start_time": "2022-03-01T10:44:16.652Z"
   },
   {
    "duration": 13,
    "start_time": "2022-03-01T10:44:25.198Z"
   },
   {
    "duration": 198,
    "start_time": "2022-03-01T10:44:33.571Z"
   },
   {
    "duration": 13,
    "start_time": "2022-03-01T10:44:47.863Z"
   },
   {
    "duration": 257,
    "start_time": "2022-03-01T10:46:01.303Z"
   },
   {
    "duration": 258,
    "start_time": "2022-03-01T10:46:07.143Z"
   },
   {
    "duration": 238,
    "start_time": "2022-03-01T10:46:55.232Z"
   },
   {
    "duration": 222,
    "start_time": "2022-03-01T10:47:05.287Z"
   },
   {
    "duration": 229,
    "start_time": "2022-03-01T10:47:09.991Z"
   },
   {
    "duration": 231,
    "start_time": "2022-03-01T10:47:22.582Z"
   },
   {
    "duration": 259,
    "start_time": "2022-03-01T10:47:47.382Z"
   },
   {
    "duration": 288,
    "start_time": "2022-03-01T10:47:53.033Z"
   },
   {
    "duration": 258,
    "start_time": "2022-03-01T10:48:00.321Z"
   },
   {
    "duration": 1012,
    "start_time": "2022-03-01T10:48:20.753Z"
   },
   {
    "duration": 516,
    "start_time": "2022-03-01T10:48:26.513Z"
   },
   {
    "duration": 8,
    "start_time": "2022-03-01T10:49:03.301Z"
   },
   {
    "duration": 7,
    "start_time": "2022-03-01T10:49:30.900Z"
   },
   {
    "duration": 5,
    "start_time": "2022-03-01T10:49:37.255Z"
   },
   {
    "duration": 337,
    "start_time": "2022-03-01T10:49:46.675Z"
   },
   {
    "duration": 255,
    "start_time": "2022-03-01T10:49:53.420Z"
   },
   {
    "duration": 12,
    "start_time": "2022-03-01T10:50:32.486Z"
   },
   {
    "duration": 6,
    "start_time": "2022-03-01T10:50:45.698Z"
   },
   {
    "duration": 711,
    "start_time": "2022-03-01T10:51:26.136Z"
   },
   {
    "duration": 7,
    "start_time": "2022-03-01T10:51:56.384Z"
   },
   {
    "duration": 12,
    "start_time": "2022-03-01T10:52:14.542Z"
   },
   {
    "duration": 13,
    "start_time": "2022-03-01T10:52:36.198Z"
   },
   {
    "duration": 229,
    "start_time": "2022-03-01T10:53:21.314Z"
   },
   {
    "duration": 237,
    "start_time": "2022-03-01T10:53:32.099Z"
   },
   {
    "duration": 229,
    "start_time": "2022-03-01T10:53:53.904Z"
   },
   {
    "duration": 13,
    "start_time": "2022-03-01T10:54:21.610Z"
   },
   {
    "duration": 221,
    "start_time": "2022-03-01T10:55:14.216Z"
   },
   {
    "duration": 234,
    "start_time": "2022-03-01T10:58:02.442Z"
   },
   {
    "duration": 209,
    "start_time": "2022-03-01T10:58:23.494Z"
   },
   {
    "duration": 215,
    "start_time": "2022-03-01T10:58:59.401Z"
   },
   {
    "duration": 16,
    "start_time": "2022-03-01T10:59:23.296Z"
   },
   {
    "duration": 12,
    "start_time": "2022-03-01T10:59:32.736Z"
   },
   {
    "duration": 248,
    "start_time": "2022-03-01T10:59:52.522Z"
   },
   {
    "duration": 249,
    "start_time": "2022-03-01T11:00:00.560Z"
   },
   {
    "duration": 262,
    "start_time": "2022-03-01T11:00:07.598Z"
   },
   {
    "duration": 273,
    "start_time": "2022-03-01T11:00:27.053Z"
   },
   {
    "duration": 273,
    "start_time": "2022-03-01T11:01:00.189Z"
   },
   {
    "duration": 236,
    "start_time": "2022-03-01T11:01:09.376Z"
   },
   {
    "duration": 242,
    "start_time": "2022-03-01T11:01:21.723Z"
   },
   {
    "duration": 256,
    "start_time": "2022-03-01T11:01:36.010Z"
   },
   {
    "duration": 420,
    "start_time": "2022-03-01T11:02:12.072Z"
   },
   {
    "duration": 648,
    "start_time": "2022-03-01T11:02:30.546Z"
   },
   {
    "duration": 591,
    "start_time": "2022-03-01T11:03:12.837Z"
   },
   {
    "duration": 6,
    "start_time": "2022-03-01T11:03:24.515Z"
   },
   {
    "duration": 8,
    "start_time": "2022-03-01T11:16:41.916Z"
   },
   {
    "duration": 8,
    "start_time": "2022-03-01T11:17:09.246Z"
   },
   {
    "duration": 15,
    "start_time": "2022-03-01T11:19:28.985Z"
   },
   {
    "duration": 177,
    "start_time": "2022-03-01T11:20:16.537Z"
   },
   {
    "duration": 15,
    "start_time": "2022-03-01T11:20:27.944Z"
   },
   {
    "duration": 209,
    "start_time": "2022-03-01T11:20:42.820Z"
   },
   {
    "duration": 16,
    "start_time": "2022-03-01T11:20:47.237Z"
   },
   {
    "duration": 12,
    "start_time": "2022-03-01T11:21:35.411Z"
   },
   {
    "duration": 9,
    "start_time": "2022-03-01T11:21:52.939Z"
   },
   {
    "duration": 14,
    "start_time": "2022-03-01T11:22:04.263Z"
   },
   {
    "duration": 17,
    "start_time": "2022-03-01T11:26:03.418Z"
   },
   {
    "duration": 188,
    "start_time": "2022-03-01T11:27:43.918Z"
   },
   {
    "duration": 179,
    "start_time": "2022-03-01T11:28:07.416Z"
   },
   {
    "duration": 178,
    "start_time": "2022-03-01T11:28:25.795Z"
   },
   {
    "duration": 205,
    "start_time": "2022-03-01T11:28:39.346Z"
   },
   {
    "duration": 690,
    "start_time": "2022-03-01T11:28:51.388Z"
   },
   {
    "duration": 15,
    "start_time": "2022-03-01T11:28:58.527Z"
   },
   {
    "duration": 11,
    "start_time": "2022-03-01T11:30:39.392Z"
   },
   {
    "duration": 18,
    "start_time": "2022-03-01T11:30:48.090Z"
   },
   {
    "duration": 184,
    "start_time": "2022-03-01T11:31:25.831Z"
   },
   {
    "duration": 19,
    "start_time": "2022-03-01T11:31:47.525Z"
   },
   {
    "duration": 27,
    "start_time": "2022-03-01T11:31:55.344Z"
   },
   {
    "duration": 20,
    "start_time": "2022-03-01T11:32:41.102Z"
   },
   {
    "duration": 18,
    "start_time": "2022-03-01T11:33:32.599Z"
   },
   {
    "duration": 21,
    "start_time": "2022-03-01T11:33:57.413Z"
   },
   {
    "duration": 21,
    "start_time": "2022-03-01T11:34:10.426Z"
   },
   {
    "duration": 189,
    "start_time": "2022-03-01T11:34:46.822Z"
   },
   {
    "duration": 181,
    "start_time": "2022-03-01T11:35:21.863Z"
   },
   {
    "duration": 180,
    "start_time": "2022-03-01T11:35:34.382Z"
   },
   {
    "duration": 23,
    "start_time": "2022-03-01T11:41:58.284Z"
   },
   {
    "duration": 24,
    "start_time": "2022-03-01T11:42:12.932Z"
   },
   {
    "duration": 24,
    "start_time": "2022-03-01T11:42:36.150Z"
   },
   {
    "duration": 23,
    "start_time": "2022-03-01T11:43:02.026Z"
   },
   {
    "duration": 24,
    "start_time": "2022-03-01T11:43:12.276Z"
   },
   {
    "duration": 14,
    "start_time": "2022-03-01T11:45:17.959Z"
   },
   {
    "duration": 21,
    "start_time": "2022-03-01T11:45:23.179Z"
   },
   {
    "duration": 17,
    "start_time": "2022-03-01T11:45:58.318Z"
   },
   {
    "duration": 20,
    "start_time": "2022-03-01T11:46:05.731Z"
   },
   {
    "duration": 60,
    "start_time": "2022-03-01T11:46:53.129Z"
   },
   {
    "duration": 4698,
    "start_time": "2022-03-01T11:46:59.363Z"
   },
   {
    "duration": 4312,
    "start_time": "2022-03-01T11:47:06.442Z"
   },
   {
    "duration": 4375,
    "start_time": "2022-03-01T11:47:18.288Z"
   },
   {
    "duration": 4670,
    "start_time": "2022-03-01T11:47:30.497Z"
   },
   {
    "duration": 4275,
    "start_time": "2022-03-01T11:47:38.744Z"
   },
   {
    "duration": 201,
    "start_time": "2022-03-01T11:47:58.071Z"
   },
   {
    "duration": 22,
    "start_time": "2022-03-01T11:48:05.839Z"
   },
   {
    "duration": 25,
    "start_time": "2022-03-01T11:48:23.869Z"
   },
   {
    "duration": 4547,
    "start_time": "2022-03-01T11:48:47.995Z"
   },
   {
    "duration": 22,
    "start_time": "2022-03-01T11:49:04.573Z"
   },
   {
    "duration": 24,
    "start_time": "2022-03-01T11:49:48.096Z"
   },
   {
    "duration": 27,
    "start_time": "2022-03-01T11:50:25.553Z"
   },
   {
    "duration": 25,
    "start_time": "2022-03-01T11:50:52.878Z"
   },
   {
    "duration": 220,
    "start_time": "2022-03-01T11:51:43.059Z"
   },
   {
    "duration": 327,
    "start_time": "2022-03-01T11:52:18.714Z"
   },
   {
    "duration": 34,
    "start_time": "2022-03-01T11:53:55.282Z"
   },
   {
    "duration": 26,
    "start_time": "2022-03-01T11:54:14.124Z"
   },
   {
    "duration": 28,
    "start_time": "2022-03-01T11:54:55.159Z"
   },
   {
    "duration": 20,
    "start_time": "2022-03-01T11:57:14.705Z"
   },
   {
    "duration": 11,
    "start_time": "2022-03-01T11:57:21.662Z"
   },
   {
    "duration": 11,
    "start_time": "2022-03-01T11:58:13.652Z"
   },
   {
    "duration": 8,
    "start_time": "2022-03-01T12:01:51.946Z"
   },
   {
    "duration": 37,
    "start_time": "2022-03-01T12:01:57.512Z"
   },
   {
    "duration": 9,
    "start_time": "2022-03-01T12:02:25.325Z"
   },
   {
    "duration": 7,
    "start_time": "2022-03-01T12:03:10.630Z"
   },
   {
    "duration": 8,
    "start_time": "2022-03-01T12:03:14.604Z"
   },
   {
    "duration": 8,
    "start_time": "2022-03-01T12:05:18.659Z"
   },
   {
    "duration": 9,
    "start_time": "2022-03-01T12:05:22.810Z"
   },
   {
    "duration": 89,
    "start_time": "2022-03-01T12:05:30.049Z"
   },
   {
    "duration": 10,
    "start_time": "2022-03-01T12:05:30.198Z"
   },
   {
    "duration": 4,
    "start_time": "2022-03-01T12:05:31.072Z"
   },
   {
    "duration": 6,
    "start_time": "2022-03-01T12:05:31.429Z"
   },
   {
    "duration": 10,
    "start_time": "2022-03-01T12:05:31.795Z"
   },
   {
    "duration": 5,
    "start_time": "2022-03-01T12:05:32.160Z"
   },
   {
    "duration": 7,
    "start_time": "2022-03-01T12:05:32.557Z"
   },
   {
    "duration": 12,
    "start_time": "2022-03-01T12:05:32.924Z"
   },
   {
    "duration": 25,
    "start_time": "2022-03-01T12:05:33.468Z"
   },
   {
    "duration": 94,
    "start_time": "2022-03-01T12:05:33.862Z"
   },
   {
    "duration": 603,
    "start_time": "2022-03-01T12:05:34.231Z"
   },
   {
    "duration": 23,
    "start_time": "2022-03-01T12:05:34.836Z"
   },
   {
    "duration": 343,
    "start_time": "2022-03-01T12:05:35.115Z"
   },
   {
    "duration": 237,
    "start_time": "2022-03-01T12:05:35.474Z"
   },
   {
    "duration": 201,
    "start_time": "2022-03-01T12:05:35.834Z"
   },
   {
    "duration": 208,
    "start_time": "2022-03-01T12:05:36.158Z"
   },
   {
    "duration": 176,
    "start_time": "2022-03-01T12:05:36.523Z"
   },
   {
    "duration": 277,
    "start_time": "2022-03-01T12:05:36.884Z"
   },
   {
    "duration": 1222,
    "start_time": "2022-03-01T12:05:37.276Z"
   },
   {
    "duration": 358,
    "start_time": "2022-03-01T12:05:38.500Z"
   },
   {
    "duration": 5,
    "start_time": "2022-03-01T12:05:38.860Z"
   },
   {
    "duration": 257,
    "start_time": "2022-03-01T12:05:38.866Z"
   },
   {
    "duration": 259,
    "start_time": "2022-03-01T12:05:39.143Z"
   },
   {
    "duration": 244,
    "start_time": "2022-03-01T12:05:39.502Z"
   },
   {
    "duration": 305,
    "start_time": "2022-03-01T12:05:39.869Z"
   },
   {
    "duration": 12,
    "start_time": "2022-03-01T12:05:40.216Z"
   },
   {
    "duration": 222,
    "start_time": "2022-03-01T12:05:40.422Z"
   },
   {
    "duration": 663,
    "start_time": "2022-03-01T12:05:40.785Z"
   },
   {
    "duration": 567,
    "start_time": "2022-03-01T12:05:41.450Z"
   },
   {
    "duration": -1934,
    "start_time": "2022-03-01T12:05:43.953Z"
   },
   {
    "duration": -1941,
    "start_time": "2022-03-01T12:05:43.960Z"
   },
   {
    "duration": 13,
    "start_time": "2022-03-01T12:05:42.116Z"
   },
   {
    "duration": 10,
    "start_time": "2022-03-01T12:05:42.521Z"
   },
   {
    "duration": 71,
    "start_time": "2022-03-01T12:06:08.055Z"
   },
   {
    "duration": 11,
    "start_time": "2022-03-01T12:06:08.240Z"
   },
   {
    "duration": 6,
    "start_time": "2022-03-01T12:06:09.406Z"
   },
   {
    "duration": 6,
    "start_time": "2022-03-01T12:06:09.935Z"
   },
   {
    "duration": 10,
    "start_time": "2022-03-01T12:06:10.339Z"
   },
   {
    "duration": 6,
    "start_time": "2022-03-01T12:06:10.708Z"
   },
   {
    "duration": 8,
    "start_time": "2022-03-01T12:06:11.091Z"
   },
   {
    "duration": 13,
    "start_time": "2022-03-01T12:06:11.512Z"
   },
   {
    "duration": 26,
    "start_time": "2022-03-01T12:06:12.073Z"
   },
   {
    "duration": 91,
    "start_time": "2022-03-01T12:06:12.424Z"
   },
   {
    "duration": 555,
    "start_time": "2022-03-01T12:06:12.794Z"
   },
   {
    "duration": 22,
    "start_time": "2022-03-01T12:06:13.351Z"
   },
   {
    "duration": 344,
    "start_time": "2022-03-01T12:06:13.764Z"
   },
   {
    "duration": 235,
    "start_time": "2022-03-01T12:06:14.166Z"
   },
   {
    "duration": 193,
    "start_time": "2022-03-01T12:06:14.571Z"
   },
   {
    "duration": 217,
    "start_time": "2022-03-01T12:06:14.976Z"
   },
   {
    "duration": 186,
    "start_time": "2022-03-01T12:06:15.424Z"
   },
   {
    "duration": 271,
    "start_time": "2022-03-01T12:06:16.020Z"
   },
   {
    "duration": 180,
    "start_time": "2022-03-01T12:06:16.458Z"
   },
   {
    "duration": 366,
    "start_time": "2022-03-01T12:06:16.928Z"
   },
   {
    "duration": 5,
    "start_time": "2022-03-01T12:06:17.365Z"
   },
   {
    "duration": 237,
    "start_time": "2022-03-01T12:06:17.768Z"
   },
   {
    "duration": 252,
    "start_time": "2022-03-01T12:06:18.410Z"
   },
   {
    "duration": 237,
    "start_time": "2022-03-01T12:06:18.807Z"
   },
   {
    "duration": 284,
    "start_time": "2022-03-01T12:06:19.196Z"
   },
   {
    "duration": 12,
    "start_time": "2022-03-01T12:06:19.603Z"
   },
   {
    "duration": 232,
    "start_time": "2022-03-01T12:06:19.801Z"
   },
   {
    "duration": 638,
    "start_time": "2022-03-01T12:06:20.196Z"
   },
   {
    "duration": 560,
    "start_time": "2022-03-01T12:06:20.836Z"
   },
   {
    "duration": -1863,
    "start_time": "2022-03-01T12:06:23.261Z"
   },
   {
    "duration": 22,
    "start_time": "2022-03-01T12:06:21.402Z"
   },
   {
    "duration": 11,
    "start_time": "2022-03-01T12:06:22.633Z"
   },
   {
    "duration": 10,
    "start_time": "2022-03-01T12:06:23.610Z"
   },
   {
    "duration": 12,
    "start_time": "2022-03-01T12:06:26.838Z"
   },
   {
    "duration": 9,
    "start_time": "2022-03-01T12:06:28.588Z"
   },
   {
    "duration": 8,
    "start_time": "2022-03-01T12:06:34.553Z"
   },
   {
    "duration": 11,
    "start_time": "2022-03-01T12:06:49.758Z"
   },
   {
    "duration": 11,
    "start_time": "2022-03-01T12:06:55.092Z"
   },
   {
    "duration": 10,
    "start_time": "2022-03-01T12:07:15.146Z"
   },
   {
    "duration": 10,
    "start_time": "2022-03-01T12:08:02.274Z"
   },
   {
    "duration": 12,
    "start_time": "2022-03-01T12:08:29.009Z"
   },
   {
    "duration": 10,
    "start_time": "2022-03-01T12:08:56.327Z"
   },
   {
    "duration": 9,
    "start_time": "2022-03-01T12:09:10.292Z"
   },
   {
    "duration": 10,
    "start_time": "2022-03-01T12:09:18.426Z"
   },
   {
    "duration": 11,
    "start_time": "2022-03-01T12:09:30.179Z"
   },
   {
    "duration": 10,
    "start_time": "2022-03-01T12:10:56.189Z"
   },
   {
    "duration": 10,
    "start_time": "2022-03-01T12:11:00.911Z"
   },
   {
    "duration": 38,
    "start_time": "2022-03-01T12:11:25.842Z"
   },
   {
    "duration": 39,
    "start_time": "2022-03-01T12:11:42.005Z"
   },
   {
    "duration": 39,
    "start_time": "2022-03-01T12:12:11.302Z"
   },
   {
    "duration": 185,
    "start_time": "2022-03-01T12:12:45.539Z"
   },
   {
    "duration": 38,
    "start_time": "2022-03-01T12:12:58.400Z"
   },
   {
    "duration": 40,
    "start_time": "2022-03-01T12:13:16.145Z"
   },
   {
    "duration": 16,
    "start_time": "2022-03-01T12:14:52.532Z"
   },
   {
    "duration": 4220,
    "start_time": "2022-03-01T12:15:57.896Z"
   },
   {
    "duration": 12,
    "start_time": "2022-03-01T12:16:17.575Z"
   },
   {
    "duration": 15,
    "start_time": "2022-03-01T12:16:24.632Z"
   },
   {
    "duration": 15,
    "start_time": "2022-03-01T12:16:42.431Z"
   },
   {
    "duration": 15,
    "start_time": "2022-03-01T12:17:03.558Z"
   },
   {
    "duration": 19,
    "start_time": "2022-03-01T12:19:24.761Z"
   },
   {
    "duration": 19,
    "start_time": "2022-03-01T12:20:22.629Z"
   },
   {
    "duration": 20,
    "start_time": "2022-03-01T12:20:42.892Z"
   },
   {
    "duration": 28,
    "start_time": "2022-03-01T12:20:48.247Z"
   },
   {
    "duration": 18,
    "start_time": "2022-03-01T12:21:03.668Z"
   },
   {
    "duration": 16,
    "start_time": "2022-03-01T12:21:18.578Z"
   },
   {
    "duration": 17,
    "start_time": "2022-03-01T12:21:25.662Z"
   },
   {
    "duration": 191,
    "start_time": "2022-03-01T12:24:02.170Z"
   },
   {
    "duration": 4199,
    "start_time": "2022-03-01T12:24:43.514Z"
   },
   {
    "duration": 20,
    "start_time": "2022-03-01T12:25:03.497Z"
   },
   {
    "duration": 17,
    "start_time": "2022-03-01T12:25:22.840Z"
   },
   {
    "duration": 19,
    "start_time": "2022-03-01T12:25:29.514Z"
   },
   {
    "duration": 18,
    "start_time": "2022-03-01T12:26:13.881Z"
   },
   {
    "duration": 18,
    "start_time": "2022-03-01T12:26:19.453Z"
   },
   {
    "duration": 20,
    "start_time": "2022-03-01T12:26:46.081Z"
   },
   {
    "duration": 19,
    "start_time": "2022-03-01T12:26:52.411Z"
   },
   {
    "duration": 16,
    "start_time": "2022-03-01T12:27:05.483Z"
   },
   {
    "duration": 55,
    "start_time": "2022-03-01T12:27:13.019Z"
   },
   {
    "duration": 19,
    "start_time": "2022-03-01T12:27:15.488Z"
   },
   {
    "duration": 19,
    "start_time": "2022-03-01T12:30:42.610Z"
   },
   {
    "duration": 76,
    "start_time": "2022-03-01T12:31:06.634Z"
   },
   {
    "duration": 11,
    "start_time": "2022-03-01T12:31:06.785Z"
   },
   {
    "duration": 5,
    "start_time": "2022-03-01T12:31:07.650Z"
   },
   {
    "duration": 6,
    "start_time": "2022-03-01T12:31:08.001Z"
   },
   {
    "duration": 9,
    "start_time": "2022-03-01T12:31:08.672Z"
   },
   {
    "duration": 5,
    "start_time": "2022-03-01T12:31:09.302Z"
   },
   {
    "duration": 7,
    "start_time": "2022-03-01T12:31:09.659Z"
   },
   {
    "duration": 12,
    "start_time": "2022-03-01T12:31:10.039Z"
   },
   {
    "duration": 25,
    "start_time": "2022-03-01T12:31:10.873Z"
   },
   {
    "duration": 87,
    "start_time": "2022-03-01T12:31:11.438Z"
   },
   {
    "duration": 554,
    "start_time": "2022-03-01T12:31:11.805Z"
   },
   {
    "duration": 23,
    "start_time": "2022-03-01T12:31:12.478Z"
   },
   {
    "duration": 351,
    "start_time": "2022-03-01T12:31:13.038Z"
   },
   {
    "duration": 238,
    "start_time": "2022-03-01T12:31:13.613Z"
   },
   {
    "duration": 191,
    "start_time": "2022-03-01T12:31:14.043Z"
   },
   {
    "duration": 202,
    "start_time": "2022-03-01T12:31:14.463Z"
   },
   {
    "duration": 180,
    "start_time": "2022-03-01T12:31:14.986Z"
   },
   {
    "duration": 270,
    "start_time": "2022-03-01T12:31:15.500Z"
   },
   {
    "duration": 183,
    "start_time": "2022-03-01T12:31:15.906Z"
   },
   {
    "duration": 349,
    "start_time": "2022-03-01T12:31:16.339Z"
   },
   {
    "duration": 5,
    "start_time": "2022-03-01T12:31:16.968Z"
   },
   {
    "duration": 658,
    "start_time": "2022-03-01T12:31:17.650Z"
   },
   {
    "duration": 259,
    "start_time": "2022-03-01T12:31:18.332Z"
   },
   {
    "duration": 243,
    "start_time": "2022-03-01T12:31:18.738Z"
   },
   {
    "duration": 284,
    "start_time": "2022-03-01T12:31:19.154Z"
   },
   {
    "duration": 12,
    "start_time": "2022-03-01T12:31:19.641Z"
   },
   {
    "duration": 224,
    "start_time": "2022-03-01T12:31:19.897Z"
   },
   {
    "duration": 663,
    "start_time": "2022-03-01T12:31:20.695Z"
   },
   {
    "duration": 494,
    "start_time": "2022-03-01T12:31:21.359Z"
   },
   {
    "duration": -1936,
    "start_time": "2022-03-01T12:31:23.791Z"
   },
   {
    "duration": 70,
    "start_time": "2022-03-01T12:32:49.795Z"
   },
   {
    "duration": 11,
    "start_time": "2022-03-01T12:32:50.138Z"
   },
   {
    "duration": 5,
    "start_time": "2022-03-01T12:32:52.017Z"
   },
   {
    "duration": 7,
    "start_time": "2022-03-01T12:32:52.628Z"
   },
   {
    "duration": 10,
    "start_time": "2022-03-01T12:32:54.265Z"
   },
   {
    "duration": 6,
    "start_time": "2022-03-01T12:32:55.106Z"
   },
   {
    "duration": 8,
    "start_time": "2022-03-01T12:32:55.923Z"
   },
   {
    "duration": 11,
    "start_time": "2022-03-01T12:32:56.606Z"
   },
   {
    "duration": 24,
    "start_time": "2022-03-01T12:32:57.183Z"
   },
   {
    "duration": 88,
    "start_time": "2022-03-01T12:32:57.550Z"
   },
   {
    "duration": 566,
    "start_time": "2022-03-01T12:32:57.897Z"
   },
   {
    "duration": 25,
    "start_time": "2022-03-01T12:32:58.466Z"
   },
   {
    "duration": 348,
    "start_time": "2022-03-01T12:32:59.087Z"
   },
   {
    "duration": 236,
    "start_time": "2022-03-01T12:32:59.533Z"
   },
   {
    "duration": 203,
    "start_time": "2022-03-01T12:32:59.948Z"
   },
   {
    "duration": 221,
    "start_time": "2022-03-01T12:33:00.350Z"
   },
   {
    "duration": 181,
    "start_time": "2022-03-01T12:33:00.846Z"
   },
   {
    "duration": 286,
    "start_time": "2022-03-01T12:33:01.285Z"
   },
   {
    "duration": 179,
    "start_time": "2022-03-01T12:33:01.742Z"
   },
   {
    "duration": 374,
    "start_time": "2022-03-01T12:33:02.216Z"
   },
   {
    "duration": 6,
    "start_time": "2022-03-01T12:33:03.151Z"
   },
   {
    "duration": 235,
    "start_time": "2022-03-01T12:33:03.893Z"
   },
   {
    "duration": 247,
    "start_time": "2022-03-01T12:33:05.593Z"
   },
   {
    "duration": 235,
    "start_time": "2022-03-01T12:33:06.543Z"
   },
   {
    "duration": 277,
    "start_time": "2022-03-01T12:33:07.283Z"
   },
   {
    "duration": 13,
    "start_time": "2022-03-01T12:33:08.241Z"
   },
   {
    "duration": 223,
    "start_time": "2022-03-01T12:33:08.695Z"
   },
   {
    "duration": 690,
    "start_time": "2022-03-01T12:33:09.574Z"
   },
   {
    "duration": 8,
    "start_time": "2022-03-01T12:33:10.401Z"
   },
   {
    "duration": 15,
    "start_time": "2022-03-01T12:33:12.457Z"
   },
   {
    "duration": 21,
    "start_time": "2022-03-01T12:33:14.120Z"
   },
   {
    "duration": 11,
    "start_time": "2022-03-01T12:33:15.131Z"
   },
   {
    "duration": 40,
    "start_time": "2022-03-01T12:33:15.996Z"
   },
   {
    "duration": 18,
    "start_time": "2022-03-01T12:33:16.639Z"
   },
   {
    "duration": 18,
    "start_time": "2022-03-01T12:33:37.113Z"
   },
   {
    "duration": 18,
    "start_time": "2022-03-01T12:34:14.371Z"
   },
   {
    "duration": 29,
    "start_time": "2022-03-01T12:35:12.193Z"
   },
   {
    "duration": 8930,
    "start_time": "2022-03-01T12:36:10.523Z"
   },
   {
    "duration": 195,
    "start_time": "2022-03-01T12:37:09.902Z"
   },
   {
    "duration": 19,
    "start_time": "2022-03-01T12:37:30.886Z"
   },
   {
    "duration": 18,
    "start_time": "2022-03-01T12:38:16.233Z"
   },
   {
    "duration": 18,
    "start_time": "2022-03-01T12:38:30.662Z"
   },
   {
    "duration": 80,
    "start_time": "2022-03-01T12:38:47.465Z"
   },
   {
    "duration": 11,
    "start_time": "2022-03-01T12:38:47.626Z"
   },
   {
    "duration": 5,
    "start_time": "2022-03-01T12:38:48.502Z"
   },
   {
    "duration": 6,
    "start_time": "2022-03-01T12:38:48.902Z"
   },
   {
    "duration": 11,
    "start_time": "2022-03-01T12:38:49.306Z"
   },
   {
    "duration": 6,
    "start_time": "2022-03-01T12:38:49.704Z"
   },
   {
    "duration": 8,
    "start_time": "2022-03-01T12:38:50.042Z"
   },
   {
    "duration": 11,
    "start_time": "2022-03-01T12:38:50.451Z"
   },
   {
    "duration": 26,
    "start_time": "2022-03-01T12:38:51.069Z"
   },
   {
    "duration": 95,
    "start_time": "2022-03-01T12:38:51.823Z"
   },
   {
    "duration": 562,
    "start_time": "2022-03-01T12:38:52.787Z"
   },
   {
    "duration": 22,
    "start_time": "2022-03-01T12:38:53.711Z"
   },
   {
    "duration": 347,
    "start_time": "2022-03-01T12:38:54.588Z"
   },
   {
    "duration": 235,
    "start_time": "2022-03-01T12:38:54.985Z"
   },
   {
    "duration": 195,
    "start_time": "2022-03-01T12:38:55.365Z"
   },
   {
    "duration": 211,
    "start_time": "2022-03-01T12:38:55.782Z"
   },
   {
    "duration": 180,
    "start_time": "2022-03-01T12:38:56.500Z"
   },
   {
    "duration": 274,
    "start_time": "2022-03-01T12:38:57.066Z"
   },
   {
    "duration": 176,
    "start_time": "2022-03-01T12:38:57.643Z"
   },
   {
    "duration": 361,
    "start_time": "2022-03-01T12:38:58.868Z"
   },
   {
    "duration": 6,
    "start_time": "2022-03-01T12:39:00.126Z"
   },
   {
    "duration": 239,
    "start_time": "2022-03-01T12:39:00.708Z"
   },
   {
    "duration": 254,
    "start_time": "2022-03-01T12:39:01.482Z"
   },
   {
    "duration": 287,
    "start_time": "2022-03-01T12:39:02.509Z"
   },
   {
    "duration": 279,
    "start_time": "2022-03-01T12:39:04.177Z"
   },
   {
    "duration": 13,
    "start_time": "2022-03-01T12:39:05.324Z"
   },
   {
    "duration": 228,
    "start_time": "2022-03-01T12:39:05.557Z"
   },
   {
    "duration": 672,
    "start_time": "2022-03-01T12:39:06.428Z"
   },
   {
    "duration": 9,
    "start_time": "2022-03-01T12:39:07.102Z"
   },
   {
    "duration": 13,
    "start_time": "2022-03-01T12:39:07.610Z"
   },
   {
    "duration": 20,
    "start_time": "2022-03-01T12:39:08.626Z"
   },
   {
    "duration": 13,
    "start_time": "2022-03-01T12:39:09.741Z"
   },
   {
    "duration": 47,
    "start_time": "2022-03-01T12:39:10.629Z"
   },
   {
    "duration": 18,
    "start_time": "2022-03-01T12:39:11.191Z"
   },
   {
    "duration": 18,
    "start_time": "2022-03-01T12:39:30.875Z"
   },
   {
    "duration": 14,
    "start_time": "2022-03-01T12:39:41.532Z"
   },
   {
    "duration": 16,
    "start_time": "2022-03-01T12:40:04.048Z"
   },
   {
    "duration": 19,
    "start_time": "2022-03-01T12:40:07.990Z"
   },
   {
    "duration": 16,
    "start_time": "2022-03-01T12:40:25.030Z"
   },
   {
    "duration": 14,
    "start_time": "2022-03-01T12:41:34.652Z"
   },
   {
    "duration": 14,
    "start_time": "2022-03-01T12:41:50.610Z"
   },
   {
    "duration": 15,
    "start_time": "2022-03-01T12:42:12.778Z"
   },
   {
    "duration": 167,
    "start_time": "2022-03-01T12:42:20.391Z"
   },
   {
    "duration": 178,
    "start_time": "2022-03-01T12:42:42.031Z"
   },
   {
    "duration": 234,
    "start_time": "2022-03-01T12:43:17.118Z"
   },
   {
    "duration": 12,
    "start_time": "2022-03-01T12:43:59.534Z"
   },
   {
    "duration": 13,
    "start_time": "2022-03-01T12:44:24.306Z"
   },
   {
    "duration": 206,
    "start_time": "2022-03-01T12:45:55.984Z"
   },
   {
    "duration": 201,
    "start_time": "2022-03-01T12:46:35.089Z"
   },
   {
    "duration": 214,
    "start_time": "2022-03-01T12:47:20.430Z"
   },
   {
    "duration": 692,
    "start_time": "2022-03-01T12:47:43.253Z"
   },
   {
    "duration": 211,
    "start_time": "2022-03-01T12:48:00.495Z"
   },
   {
    "duration": 209,
    "start_time": "2022-03-01T12:48:36.071Z"
   },
   {
    "duration": 56,
    "start_time": "2022-03-01T12:49:27.261Z"
   },
   {
    "duration": 512,
    "start_time": "2022-03-01T12:49:32.085Z"
   },
   {
    "duration": 215,
    "start_time": "2022-03-01T12:49:37.026Z"
   },
   {
    "duration": 205,
    "start_time": "2022-03-01T12:49:55.768Z"
   },
   {
    "duration": 192,
    "start_time": "2022-03-01T12:56:45.277Z"
   },
   {
    "duration": 201,
    "start_time": "2022-03-01T12:57:16.202Z"
   },
   {
    "duration": 213,
    "start_time": "2022-03-01T12:58:07.256Z"
   },
   {
    "duration": 204,
    "start_time": "2022-03-01T12:58:21.487Z"
   },
   {
    "duration": 196,
    "start_time": "2022-03-01T12:58:59.269Z"
   },
   {
    "duration": 195,
    "start_time": "2022-03-01T12:59:12.693Z"
   },
   {
    "duration": 199,
    "start_time": "2022-03-01T12:59:24.458Z"
   },
   {
    "duration": 190,
    "start_time": "2022-03-01T12:59:58.587Z"
   },
   {
    "duration": 212,
    "start_time": "2022-03-01T13:00:18.003Z"
   },
   {
    "duration": 195,
    "start_time": "2022-03-01T13:00:41.305Z"
   },
   {
    "duration": 205,
    "start_time": "2022-03-01T13:02:10.914Z"
   },
   {
    "duration": 210,
    "start_time": "2022-03-01T13:02:57.832Z"
   },
   {
    "duration": 194,
    "start_time": "2022-03-01T13:04:55.402Z"
   },
   {
    "duration": 228,
    "start_time": "2022-03-01T13:05:02.640Z"
   },
   {
    "duration": 231,
    "start_time": "2022-03-01T13:05:27.888Z"
   },
   {
    "duration": 500,
    "start_time": "2022-03-01T13:05:59.888Z"
   },
   {
    "duration": 220,
    "start_time": "2022-03-01T13:06:05.615Z"
   },
   {
    "duration": 305,
    "start_time": "2022-03-01T13:06:22.851Z"
   },
   {
    "duration": 1652,
    "start_time": "2022-03-01T13:06:26.121Z"
   },
   {
    "duration": 2216,
    "start_time": "2022-03-01T13:07:07.618Z"
   },
   {
    "duration": 295,
    "start_time": "2022-03-01T13:07:12.652Z"
   },
   {
    "duration": 87,
    "start_time": "2022-03-01T13:07:37.585Z"
   },
   {
    "duration": 12,
    "start_time": "2022-03-01T13:07:37.735Z"
   },
   {
    "duration": 6,
    "start_time": "2022-03-01T13:07:38.568Z"
   },
   {
    "duration": 6,
    "start_time": "2022-03-01T13:07:38.896Z"
   },
   {
    "duration": 10,
    "start_time": "2022-03-01T13:07:39.222Z"
   },
   {
    "duration": 6,
    "start_time": "2022-03-01T13:07:39.539Z"
   },
   {
    "duration": 7,
    "start_time": "2022-03-01T13:07:39.887Z"
   },
   {
    "duration": 11,
    "start_time": "2022-03-01T13:07:40.159Z"
   },
   {
    "duration": 25,
    "start_time": "2022-03-01T13:07:40.672Z"
   },
   {
    "duration": 96,
    "start_time": "2022-03-01T13:07:41.026Z"
   },
   {
    "duration": 562,
    "start_time": "2022-03-01T13:07:41.397Z"
   },
   {
    "duration": 23,
    "start_time": "2022-03-01T13:07:41.960Z"
   },
   {
    "duration": 354,
    "start_time": "2022-03-01T13:07:42.298Z"
   },
   {
    "duration": 239,
    "start_time": "2022-03-01T13:07:42.689Z"
   },
   {
    "duration": 217,
    "start_time": "2022-03-01T13:07:43.033Z"
   },
   {
    "duration": 323,
    "start_time": "2022-03-01T13:07:43.396Z"
   },
   {
    "duration": 217,
    "start_time": "2022-03-01T13:07:43.758Z"
   },
   {
    "duration": 184,
    "start_time": "2022-03-01T13:07:44.105Z"
   },
   {
    "duration": 283,
    "start_time": "2022-03-01T13:07:44.466Z"
   },
   {
    "duration": 188,
    "start_time": "2022-03-01T13:07:44.822Z"
   },
   {
    "duration": 360,
    "start_time": "2022-03-01T13:07:45.178Z"
   },
   {
    "duration": 5,
    "start_time": "2022-03-01T13:07:45.572Z"
   },
   {
    "duration": 246,
    "start_time": "2022-03-01T13:07:46.047Z"
   },
   {
    "duration": 257,
    "start_time": "2022-03-01T13:07:47.040Z"
   },
   {
    "duration": 275,
    "start_time": "2022-03-01T13:07:47.451Z"
   },
   {
    "duration": 280,
    "start_time": "2022-03-01T13:07:47.789Z"
   },
   {
    "duration": 14,
    "start_time": "2022-03-01T13:07:48.212Z"
   },
   {
    "duration": 218,
    "start_time": "2022-03-01T13:07:48.620Z"
   },
   {
    "duration": 681,
    "start_time": "2022-03-01T13:07:49.431Z"
   },
   {
    "duration": 21,
    "start_time": "2022-03-01T13:07:50.114Z"
   },
   {
    "duration": 15,
    "start_time": "2022-03-01T13:07:50.281Z"
   },
   {
    "duration": 22,
    "start_time": "2022-03-01T13:07:51.736Z"
   },
   {
    "duration": 11,
    "start_time": "2022-03-01T13:07:52.923Z"
   },
   {
    "duration": 11,
    "start_time": "2022-03-01T13:07:54.756Z"
   },
   {
    "duration": 383,
    "start_time": "2022-03-01T13:07:55.277Z"
   },
   {
    "duration": 237,
    "start_time": "2022-03-01T13:08:33.116Z"
   },
   {
    "duration": 241,
    "start_time": "2022-03-01T13:09:01.931Z"
   },
   {
    "duration": 226,
    "start_time": "2022-03-01T13:09:22.626Z"
   },
   {
    "duration": 222,
    "start_time": "2022-03-01T13:09:31.189Z"
   },
   {
    "duration": 40,
    "start_time": "2022-03-01T13:10:41.438Z"
   },
   {
    "duration": 234,
    "start_time": "2022-03-01T13:11:22.947Z"
   },
   {
    "duration": 231,
    "start_time": "2022-03-01T13:11:32.981Z"
   },
   {
    "duration": 221,
    "start_time": "2022-03-01T13:11:46.246Z"
   },
   {
    "duration": 243,
    "start_time": "2022-03-01T13:12:08.877Z"
   },
   {
    "duration": 227,
    "start_time": "2022-03-01T13:12:21.535Z"
   },
   {
    "duration": 236,
    "start_time": "2022-03-01T13:13:51.504Z"
   },
   {
    "duration": 248,
    "start_time": "2022-03-01T13:15:09.922Z"
   },
   {
    "duration": 242,
    "start_time": "2022-03-01T13:16:54.837Z"
   },
   {
    "duration": 241,
    "start_time": "2022-03-01T13:19:29.625Z"
   },
   {
    "duration": 225,
    "start_time": "2022-03-01T13:19:46.663Z"
   },
   {
    "duration": 228,
    "start_time": "2022-03-01T13:23:34.495Z"
   },
   {
    "duration": 225,
    "start_time": "2022-03-01T13:24:50.685Z"
   },
   {
    "duration": 223,
    "start_time": "2022-03-01T13:25:10.481Z"
   },
   {
    "duration": 86,
    "start_time": "2022-03-01T13:25:28.392Z"
   },
   {
    "duration": 10,
    "start_time": "2022-03-01T13:25:28.601Z"
   },
   {
    "duration": 5,
    "start_time": "2022-03-01T13:25:29.479Z"
   },
   {
    "duration": 6,
    "start_time": "2022-03-01T13:25:29.854Z"
   },
   {
    "duration": 9,
    "start_time": "2022-03-01T13:25:30.242Z"
   },
   {
    "duration": 6,
    "start_time": "2022-03-01T13:25:30.663Z"
   },
   {
    "duration": 8,
    "start_time": "2022-03-01T13:25:31.033Z"
   },
   {
    "duration": 11,
    "start_time": "2022-03-01T13:25:31.560Z"
   },
   {
    "duration": 24,
    "start_time": "2022-03-01T13:25:32.184Z"
   },
   {
    "duration": 95,
    "start_time": "2022-03-01T13:25:32.648Z"
   },
   {
    "duration": 564,
    "start_time": "2022-03-01T13:25:33.243Z"
   },
   {
    "duration": 23,
    "start_time": "2022-03-01T13:25:34.051Z"
   },
   {
    "duration": 343,
    "start_time": "2022-03-01T13:25:36.030Z"
   },
   {
    "duration": 235,
    "start_time": "2022-03-01T13:25:37.890Z"
   },
   {
    "duration": 197,
    "start_time": "2022-03-01T13:25:38.259Z"
   },
   {
    "duration": 311,
    "start_time": "2022-03-01T13:25:38.582Z"
   },
   {
    "duration": 205,
    "start_time": "2022-03-01T13:25:38.950Z"
   },
   {
    "duration": 171,
    "start_time": "2022-03-01T13:25:39.445Z"
   },
   {
    "duration": 279,
    "start_time": "2022-03-01T13:25:40.039Z"
   },
   {
    "duration": 177,
    "start_time": "2022-03-01T13:25:40.712Z"
   },
   {
    "duration": 357,
    "start_time": "2022-03-01T13:25:41.041Z"
   },
   {
    "duration": 6,
    "start_time": "2022-03-01T13:25:41.583Z"
   },
   {
    "duration": 245,
    "start_time": "2022-03-01T13:25:41.958Z"
   },
   {
    "duration": 247,
    "start_time": "2022-03-01T13:25:42.585Z"
   },
   {
    "duration": 239,
    "start_time": "2022-03-01T13:25:43.210Z"
   },
   {
    "duration": 280,
    "start_time": "2022-03-01T13:25:43.776Z"
   },
   {
    "duration": 14,
    "start_time": "2022-03-01T13:25:44.160Z"
   },
   {
    "duration": 238,
    "start_time": "2022-03-01T13:25:44.424Z"
   },
   {
    "duration": 680,
    "start_time": "2022-03-01T13:25:44.970Z"
   },
   {
    "duration": 8,
    "start_time": "2022-03-01T13:25:45.652Z"
   },
   {
    "duration": 13,
    "start_time": "2022-03-01T13:25:45.774Z"
   },
   {
    "duration": 21,
    "start_time": "2022-03-01T13:25:46.480Z"
   },
   {
    "duration": 11,
    "start_time": "2022-03-01T13:25:47.124Z"
   },
   {
    "duration": 41,
    "start_time": "2022-03-01T13:25:48.178Z"
   },
   {
    "duration": 237,
    "start_time": "2022-03-01T13:25:49.057Z"
   },
   {
    "duration": 57,
    "start_time": "2022-03-01T13:44:08.648Z"
   },
   {
    "duration": 298,
    "start_time": "2022-03-01T13:44:12.587Z"
   },
   {
    "duration": 23,
    "start_time": "2022-03-01T13:44:13.142Z"
   },
   {
    "duration": 341,
    "start_time": "2022-03-01T13:44:13.783Z"
   },
   {
    "duration": 874,
    "start_time": "2022-03-01T13:44:14.188Z"
   },
   {
    "duration": 222,
    "start_time": "2022-03-01T13:44:15.064Z"
   },
   {
    "duration": 305,
    "start_time": "2022-03-01T13:44:15.288Z"
   },
   {
    "duration": 226,
    "start_time": "2022-03-01T13:44:15.594Z"
   },
   {
    "duration": 181,
    "start_time": "2022-03-01T13:44:15.990Z"
   },
   {
    "duration": 269,
    "start_time": "2022-03-01T13:44:16.985Z"
   },
   {
    "duration": 189,
    "start_time": "2022-03-01T13:44:17.409Z"
   },
   {
    "duration": 352,
    "start_time": "2022-03-01T13:44:17.910Z"
   },
   {
    "duration": 6,
    "start_time": "2022-03-01T13:44:18.667Z"
   },
   {
    "duration": 236,
    "start_time": "2022-03-01T13:44:19.062Z"
   },
   {
    "duration": 254,
    "start_time": "2022-03-01T13:44:20.193Z"
   },
   {
    "duration": 243,
    "start_time": "2022-03-01T13:44:21.204Z"
   },
   {
    "duration": 270,
    "start_time": "2022-03-01T13:44:22.152Z"
   },
   {
    "duration": 13,
    "start_time": "2022-03-01T13:44:23.015Z"
   },
   {
    "duration": 216,
    "start_time": "2022-03-01T13:44:23.196Z"
   },
   {
    "duration": 695,
    "start_time": "2022-03-01T13:44:34.270Z"
   },
   {
    "duration": 83,
    "start_time": "2022-03-01T13:46:44.097Z"
   },
   {
    "duration": 304,
    "start_time": "2022-03-01T13:46:44.522Z"
   },
   {
    "duration": 21,
    "start_time": "2022-03-01T13:46:44.884Z"
   },
   {
    "duration": 344,
    "start_time": "2022-03-01T13:46:45.402Z"
   },
   {
    "duration": 248,
    "start_time": "2022-03-01T13:46:45.748Z"
   },
   {
    "duration": 198,
    "start_time": "2022-03-01T13:46:46.085Z"
   },
   {
    "duration": 292,
    "start_time": "2022-03-01T13:46:46.442Z"
   },
   {
    "duration": 222,
    "start_time": "2022-03-01T13:46:46.828Z"
   },
   {
    "duration": 184,
    "start_time": "2022-03-01T13:46:47.312Z"
   },
   {
    "duration": 270,
    "start_time": "2022-03-01T13:46:47.718Z"
   },
   {
    "duration": 197,
    "start_time": "2022-03-01T13:46:48.071Z"
   },
   {
    "duration": 350,
    "start_time": "2022-03-01T13:46:48.441Z"
   },
   {
    "duration": 5,
    "start_time": "2022-03-01T13:46:48.857Z"
   },
   {
    "duration": 258,
    "start_time": "2022-03-01T13:46:49.394Z"
   },
   {
    "duration": 255,
    "start_time": "2022-03-01T13:46:49.938Z"
   },
   {
    "duration": 247,
    "start_time": "2022-03-01T13:46:50.965Z"
   },
   {
    "duration": 277,
    "start_time": "2022-03-01T13:46:51.988Z"
   },
   {
    "duration": 12,
    "start_time": "2022-03-01T13:46:52.770Z"
   },
   {
    "duration": 225,
    "start_time": "2022-03-01T13:46:53.002Z"
   },
   {
    "duration": 667,
    "start_time": "2022-03-01T13:46:56.952Z"
   },
   {
    "duration": 10,
    "start_time": "2022-03-01T13:46:57.627Z"
   },
   {
    "duration": 14,
    "start_time": "2022-03-01T13:47:06.829Z"
   },
   {
    "duration": 21,
    "start_time": "2022-03-01T13:47:07.531Z"
   },
   {
    "duration": 11,
    "start_time": "2022-03-01T13:47:08.298Z"
   },
   {
    "duration": 42,
    "start_time": "2022-03-01T13:47:09.150Z"
   },
   {
    "duration": 223,
    "start_time": "2022-03-01T13:47:09.672Z"
   },
   {
    "duration": 38,
    "start_time": "2022-03-01T13:48:19.246Z"
   },
   {
    "duration": 10,
    "start_time": "2022-03-01T13:48:44.399Z"
   },
   {
    "duration": 10,
    "start_time": "2022-03-01T13:48:51.381Z"
   },
   {
    "duration": 34,
    "start_time": "2022-03-01T13:48:58.375Z"
   },
   {
    "duration": 25,
    "start_time": "2022-03-01T13:49:04.747Z"
   },
   {
    "duration": 29,
    "start_time": "2022-03-01T13:49:13.003Z"
   },
   {
    "duration": 249,
    "start_time": "2022-03-01T13:50:41.910Z"
   },
   {
    "duration": 253,
    "start_time": "2022-03-01T13:50:50.106Z"
   },
   {
    "duration": 245,
    "start_time": "2022-03-01T13:51:15.073Z"
   },
   {
    "duration": 252,
    "start_time": "2022-03-01T13:51:24.550Z"
   },
   {
    "duration": 836,
    "start_time": "2022-03-02T08:36:53.969Z"
   },
   {
    "duration": 16,
    "start_time": "2022-03-02T08:36:54.808Z"
   },
   {
    "duration": 6,
    "start_time": "2022-03-02T08:36:55.396Z"
   },
   {
    "duration": 10,
    "start_time": "2022-03-02T08:36:55.866Z"
   },
   {
    "duration": 18,
    "start_time": "2022-03-02T08:36:56.344Z"
   },
   {
    "duration": 10,
    "start_time": "2022-03-02T08:36:56.798Z"
   },
   {
    "duration": 12,
    "start_time": "2022-03-02T08:36:57.255Z"
   },
   {
    "duration": 18,
    "start_time": "2022-03-02T08:36:57.721Z"
   },
   {
    "duration": 59,
    "start_time": "2022-03-02T08:36:58.417Z"
   },
   {
    "duration": 139,
    "start_time": "2022-03-02T08:36:58.882Z"
   },
   {
    "duration": 971,
    "start_time": "2022-03-02T08:36:59.352Z"
   },
   {
    "duration": 66,
    "start_time": "2022-03-02T08:37:00.327Z"
   },
   {
    "duration": 759,
    "start_time": "2022-03-02T08:37:00.395Z"
   },
   {
    "duration": 437,
    "start_time": "2022-03-02T08:37:01.157Z"
   },
   {
    "duration": 346,
    "start_time": "2022-03-02T08:37:01.597Z"
   },
   {
    "duration": 551,
    "start_time": "2022-03-02T08:37:01.945Z"
   },
   {
    "duration": 405,
    "start_time": "2022-03-02T08:37:02.500Z"
   },
   {
    "duration": 327,
    "start_time": "2022-03-02T08:37:02.909Z"
   },
   {
    "duration": 487,
    "start_time": "2022-03-02T08:37:03.239Z"
   },
   {
    "duration": 313,
    "start_time": "2022-03-02T08:37:03.728Z"
   },
   {
    "duration": 694,
    "start_time": "2022-03-02T08:37:04.051Z"
   },
   {
    "duration": 10,
    "start_time": "2022-03-02T08:37:04.751Z"
   },
   {
    "duration": 415,
    "start_time": "2022-03-02T08:37:04.962Z"
   },
   {
    "duration": 432,
    "start_time": "2022-03-02T08:37:05.729Z"
   },
   {
    "duration": 395,
    "start_time": "2022-03-02T08:37:06.186Z"
   },
   {
    "duration": 525,
    "start_time": "2022-03-02T08:37:06.766Z"
   },
   {
    "duration": 18,
    "start_time": "2022-03-02T08:37:07.294Z"
   },
   {
    "duration": 361,
    "start_time": "2022-03-02T08:37:07.504Z"
   },
   {
    "duration": 1190,
    "start_time": "2022-03-02T08:37:08.028Z"
   },
   {
    "duration": 10,
    "start_time": "2022-03-02T08:37:09.221Z"
   },
   {
    "duration": 36,
    "start_time": "2022-03-02T08:37:09.234Z"
   },
   {
    "duration": 29,
    "start_time": "2022-03-02T08:37:09.304Z"
   },
   {
    "duration": 16,
    "start_time": "2022-03-02T08:37:09.728Z"
   },
   {
    "duration": 70,
    "start_time": "2022-03-02T08:37:10.160Z"
   },
   {
    "duration": 400,
    "start_time": "2022-03-02T08:37:11.297Z"
   },
   {
    "duration": 41,
    "start_time": "2022-03-02T08:37:14.303Z"
   },
   {
    "duration": 417,
    "start_time": "2022-03-02T08:37:14.634Z"
   },
   {
    "duration": 476,
    "start_time": "2022-03-02T08:40:11.782Z"
   },
   {
    "duration": 392,
    "start_time": "2022-03-02T08:41:24.679Z"
   },
   {
    "duration": 771,
    "start_time": "2022-03-02T08:41:50.405Z"
   },
   {
    "duration": 84,
    "start_time": "2022-03-02T08:42:15.600Z"
   },
   {
    "duration": 1180,
    "start_time": "2022-03-02T08:42:29.354Z"
   },
   {
    "duration": 75,
    "start_time": "2022-03-02T08:42:37.867Z"
   },
   {
    "duration": 82,
    "start_time": "2022-03-02T08:42:44.444Z"
   },
   {
    "duration": 397,
    "start_time": "2022-03-02T08:42:48.372Z"
   },
   {
    "duration": 399,
    "start_time": "2022-03-02T08:44:27.378Z"
   },
   {
    "duration": 453,
    "start_time": "2022-03-02T08:44:42.279Z"
   },
   {
    "duration": 406,
    "start_time": "2022-03-02T08:45:23.488Z"
   },
   {
    "duration": 399,
    "start_time": "2022-03-02T08:45:29.626Z"
   },
   {
    "duration": 410,
    "start_time": "2022-03-02T08:46:00.741Z"
   },
   {
    "duration": 394,
    "start_time": "2022-03-02T08:47:21.857Z"
   },
   {
    "duration": 393,
    "start_time": "2022-03-02T08:47:33.020Z"
   },
   {
    "duration": 385,
    "start_time": "2022-03-02T08:47:49.404Z"
   },
   {
    "duration": 464,
    "start_time": "2022-03-02T08:48:15.596Z"
   },
   {
    "duration": 382,
    "start_time": "2022-03-02T08:48:43.303Z"
   },
   {
    "duration": 486,
    "start_time": "2022-03-02T08:49:03.252Z"
   },
   {
    "duration": 38,
    "start_time": "2022-03-02T08:49:10.664Z"
   },
   {
    "duration": 594,
    "start_time": "2022-03-02T08:49:11.433Z"
   },
   {
    "duration": 422,
    "start_time": "2022-03-02T08:49:12.029Z"
   },
   {
    "duration": 358,
    "start_time": "2022-03-02T08:49:12.454Z"
   },
   {
    "duration": 557,
    "start_time": "2022-03-02T08:49:12.815Z"
   },
   {
    "duration": 378,
    "start_time": "2022-03-02T08:49:13.375Z"
   },
   {
    "duration": 337,
    "start_time": "2022-03-02T08:49:13.756Z"
   },
   {
    "duration": 604,
    "start_time": "2022-03-02T08:49:14.096Z"
   },
   {
    "duration": 330,
    "start_time": "2022-03-02T08:49:14.703Z"
   },
   {
    "duration": 639,
    "start_time": "2022-03-02T08:49:15.035Z"
   },
   {
    "duration": 7,
    "start_time": "2022-03-02T08:49:15.676Z"
   },
   {
    "duration": 482,
    "start_time": "2022-03-02T08:49:15.686Z"
   },
   {
    "duration": 473,
    "start_time": "2022-03-02T08:49:16.171Z"
   },
   {
    "duration": 399,
    "start_time": "2022-03-02T08:49:18.033Z"
   },
   {
    "duration": 467,
    "start_time": "2022-03-02T08:49:19.901Z"
   },
   {
    "duration": 376,
    "start_time": "2022-03-02T08:49:20.943Z"
   },
   {
    "duration": 1078,
    "start_time": "2022-03-02T08:49:26.190Z"
   },
   {
    "duration": 11,
    "start_time": "2022-03-02T08:49:27.271Z"
   },
   {
    "duration": 19,
    "start_time": "2022-03-02T08:49:27.513Z"
   },
   {
    "duration": 31,
    "start_time": "2022-03-02T08:49:27.858Z"
   },
   {
    "duration": 15,
    "start_time": "2022-03-02T08:49:28.220Z"
   },
   {
    "duration": 44,
    "start_time": "2022-03-02T08:49:28.577Z"
   },
   {
    "duration": 402,
    "start_time": "2022-03-02T08:49:28.753Z"
   },
   {
    "duration": 39,
    "start_time": "2022-03-02T08:49:29.158Z"
   },
   {
    "duration": 414,
    "start_time": "2022-03-02T08:49:29.657Z"
   },
   {
    "duration": 417,
    "start_time": "2022-03-02T08:49:30.107Z"
   },
   {
    "duration": 376,
    "start_time": "2022-03-02T08:49:31.117Z"
   },
   {
    "duration": 380,
    "start_time": "2022-03-02T08:49:32.093Z"
   },
   {
    "duration": 1218,
    "start_time": "2022-03-02T08:50:50.926Z"
   },
   {
    "duration": 11,
    "start_time": "2022-03-02T08:52:44.519Z"
   },
   {
    "duration": 11,
    "start_time": "2022-03-02T08:53:14.487Z"
   },
   {
    "duration": 12,
    "start_time": "2022-03-02T08:54:04.469Z"
   },
   {
    "duration": 12,
    "start_time": "2022-03-02T08:54:04.843Z"
   },
   {
    "duration": 609,
    "start_time": "2022-03-02T08:55:01.464Z"
   },
   {
    "duration": 351,
    "start_time": "2022-03-02T08:55:08.803Z"
   },
   {
    "duration": 356,
    "start_time": "2022-03-02T08:55:14.311Z"
   },
   {
    "duration": 125,
    "start_time": "2022-03-02T08:55:41.361Z"
   },
   {
    "duration": 17,
    "start_time": "2022-03-02T08:55:41.528Z"
   },
   {
    "duration": 6,
    "start_time": "2022-03-02T08:55:42.356Z"
   },
   {
    "duration": 8,
    "start_time": "2022-03-02T08:55:42.719Z"
   },
   {
    "duration": 11,
    "start_time": "2022-03-02T08:55:43.083Z"
   },
   {
    "duration": 7,
    "start_time": "2022-03-02T08:55:43.443Z"
   },
   {
    "duration": 9,
    "start_time": "2022-03-02T08:55:43.801Z"
   },
   {
    "duration": 14,
    "start_time": "2022-03-02T08:55:44.153Z"
   },
   {
    "duration": 36,
    "start_time": "2022-03-02T08:55:44.724Z"
   },
   {
    "duration": 131,
    "start_time": "2022-03-02T08:55:45.074Z"
   },
   {
    "duration": 948,
    "start_time": "2022-03-02T08:55:45.455Z"
   },
   {
    "duration": 52,
    "start_time": "2022-03-02T08:55:46.406Z"
   },
   {
    "duration": 606,
    "start_time": "2022-03-02T08:55:46.460Z"
   },
   {
    "duration": 420,
    "start_time": "2022-03-02T08:55:47.068Z"
   },
   {
    "duration": 346,
    "start_time": "2022-03-02T08:55:47.490Z"
   },
   {
    "duration": 707,
    "start_time": "2022-03-02T08:55:47.839Z"
   },
   {
    "duration": 365,
    "start_time": "2022-03-02T08:55:48.552Z"
   },
   {
    "duration": 314,
    "start_time": "2022-03-02T08:55:48.920Z"
   },
   {
    "duration": 471,
    "start_time": "2022-03-02T08:55:49.236Z"
   },
   {
    "duration": 319,
    "start_time": "2022-03-02T08:55:49.709Z"
   },
   {
    "duration": 647,
    "start_time": "2022-03-02T08:55:50.031Z"
   },
   {
    "duration": 7,
    "start_time": "2022-03-02T08:55:50.680Z"
   },
   {
    "duration": 412,
    "start_time": "2022-03-02T08:55:52.297Z"
   },
   {
    "duration": 422,
    "start_time": "2022-03-02T08:55:52.864Z"
   },
   {
    "duration": 399,
    "start_time": "2022-03-02T08:55:53.685Z"
   },
   {
    "duration": 6,
    "start_time": "2022-03-02T08:58:16.428Z"
   },
   {
    "duration": 74,
    "start_time": "2022-03-02T08:59:27.037Z"
   },
   {
    "duration": 6,
    "start_time": "2022-03-02T08:59:40.698Z"
   },
   {
    "duration": 6,
    "start_time": "2022-03-02T09:00:24.979Z"
   },
   {
    "duration": 6,
    "start_time": "2022-03-02T09:00:56.713Z"
   },
   {
    "duration": 6,
    "start_time": "2022-03-02T09:01:05.823Z"
   },
   {
    "duration": 5615,
    "start_time": "2022-03-02T09:06:39.380Z"
   },
   {
    "duration": 6,
    "start_time": "2022-03-02T09:06:52.038Z"
   },
   {
    "duration": 75,
    "start_time": "2022-03-02T09:07:49.036Z"
   },
   {
    "duration": 844,
    "start_time": "2022-03-02T09:26:16.256Z"
   },
   {
    "duration": 436,
    "start_time": "2022-03-02T09:26:28.073Z"
   },
   {
    "duration": 787,
    "start_time": "2022-03-02T09:27:55.932Z"
   },
   {
    "duration": 415,
    "start_time": "2022-03-02T09:28:18.052Z"
   },
   {
    "duration": 629,
    "start_time": "2022-03-02T09:29:37.906Z"
   },
   {
    "duration": 371,
    "start_time": "2022-03-02T09:29:48.298Z"
   },
   {
    "duration": 391,
    "start_time": "2022-03-02T09:29:54.897Z"
   },
   {
    "duration": 385,
    "start_time": "2022-03-02T09:29:59.119Z"
   },
   {
    "duration": 733,
    "start_time": "2022-03-02T09:31:17.874Z"
   },
   {
    "duration": 373,
    "start_time": "2022-03-02T09:33:33.838Z"
   },
   {
    "duration": 364,
    "start_time": "2022-03-02T09:49:48.843Z"
   },
   {
    "duration": 722,
    "start_time": "2022-03-02T09:51:06.553Z"
   },
   {
    "duration": 606,
    "start_time": "2022-03-02T09:51:42.089Z"
   },
   {
    "duration": 118,
    "start_time": "2022-03-02T10:00:09.029Z"
   },
   {
    "duration": 14,
    "start_time": "2022-03-02T10:00:09.201Z"
   },
   {
    "duration": 6,
    "start_time": "2022-03-02T10:00:10.803Z"
   },
   {
    "duration": 8,
    "start_time": "2022-03-02T10:00:11.483Z"
   },
   {
    "duration": 13,
    "start_time": "2022-03-02T10:00:12.131Z"
   },
   {
    "duration": 9,
    "start_time": "2022-03-02T10:00:12.732Z"
   },
   {
    "duration": 9,
    "start_time": "2022-03-02T10:00:13.309Z"
   },
   {
    "duration": 16,
    "start_time": "2022-03-02T10:00:13.974Z"
   },
   {
    "duration": 40,
    "start_time": "2022-03-02T10:00:14.877Z"
   },
   {
    "duration": 137,
    "start_time": "2022-03-02T10:00:15.490Z"
   },
   {
    "duration": 948,
    "start_time": "2022-03-02T10:00:16.189Z"
   },
   {
    "duration": 46,
    "start_time": "2022-03-02T10:00:17.141Z"
   },
   {
    "duration": 598,
    "start_time": "2022-03-02T10:00:18.224Z"
   },
   {
    "duration": 412,
    "start_time": "2022-03-02T10:00:18.934Z"
   },
   {
    "duration": 329,
    "start_time": "2022-03-02T10:00:19.557Z"
   },
   {
    "duration": 531,
    "start_time": "2022-03-02T10:00:20.187Z"
   },
   {
    "duration": 339,
    "start_time": "2022-03-02T10:00:20.814Z"
   },
   {
    "duration": 300,
    "start_time": "2022-03-02T10:00:28.941Z"
   },
   {
    "duration": 467,
    "start_time": "2022-03-02T10:00:30.771Z"
   },
   {
    "duration": 310,
    "start_time": "2022-03-02T10:00:32.020Z"
   },
   {
    "duration": 592,
    "start_time": "2022-03-02T10:00:33.171Z"
   },
   {
    "duration": 8,
    "start_time": "2022-03-02T10:00:34.137Z"
   },
   {
    "duration": 437,
    "start_time": "2022-03-02T10:00:34.940Z"
   },
   {
    "duration": 694,
    "start_time": "2022-03-02T10:00:36.821Z"
   },
   {
    "duration": 6,
    "start_time": "2022-03-02T10:00:38.306Z"
   },
   {
    "duration": 393,
    "start_time": "2022-03-02T10:00:39.775Z"
   },
   {
    "duration": 6,
    "start_time": "2022-03-02T10:00:40.987Z"
   },
   {
    "duration": 444,
    "start_time": "2022-03-02T10:00:41.799Z"
   },
   {
    "duration": 6,
    "start_time": "2022-03-02T10:00:42.598Z"
   },
   {
    "duration": 367,
    "start_time": "2022-03-02T10:00:43.245Z"
   },
   {
    "duration": 6,
    "start_time": "2022-03-02T10:00:43.969Z"
   },
   {
    "duration": 1132,
    "start_time": "2022-03-02T10:00:45.190Z"
   },
   {
    "duration": 22,
    "start_time": "2022-03-02T10:00:47.467Z"
   },
   {
    "duration": 34,
    "start_time": "2022-03-02T10:00:48.385Z"
   },
   {
    "duration": 17,
    "start_time": "2022-03-02T10:00:51.058Z"
   },
   {
    "duration": 48,
    "start_time": "2022-03-02T10:00:51.079Z"
   },
   {
    "duration": 400,
    "start_time": "2022-03-02T10:00:52.076Z"
   },
   {
    "duration": 43,
    "start_time": "2022-03-02T10:00:54.217Z"
   },
   {
    "duration": 422,
    "start_time": "2022-03-02T10:00:55.880Z"
   },
   {
    "duration": 413,
    "start_time": "2022-03-02T10:00:57.531Z"
   },
   {
    "duration": 410,
    "start_time": "2022-03-02T10:00:58.560Z"
   },
   {
    "duration": 552,
    "start_time": "2022-03-02T10:00:59.414Z"
   },
   {
    "duration": 1137,
    "start_time": "2022-03-02T10:01:00.414Z"
   },
   {
    "duration": 25,
    "start_time": "2022-03-02T10:01:41.243Z"
   },
   {
    "duration": 32,
    "start_time": "2022-03-02T10:01:42.047Z"
   },
   {
    "duration": 24,
    "start_time": "2022-03-02T10:01:42.584Z"
   },
   {
    "duration": 62,
    "start_time": "2022-03-02T10:01:43.043Z"
   },
   {
    "duration": 390,
    "start_time": "2022-03-02T10:01:44.054Z"
   },
   {
    "duration": 41,
    "start_time": "2022-03-02T10:01:44.527Z"
   },
   {
    "duration": 417,
    "start_time": "2022-03-02T10:01:45.192Z"
   },
   {
    "duration": 403,
    "start_time": "2022-03-02T10:01:45.798Z"
   },
   {
    "duration": 415,
    "start_time": "2022-03-02T10:01:46.431Z"
   },
   {
    "duration": 371,
    "start_time": "2022-03-02T10:01:47.070Z"
   },
   {
    "duration": 1115,
    "start_time": "2022-03-02T10:01:47.642Z"
   },
   {
    "duration": 12,
    "start_time": "2022-03-02T10:01:48.760Z"
   },
   {
    "duration": 683,
    "start_time": "2022-03-10T18:43:19.114Z"
   },
   {
    "duration": 11,
    "start_time": "2022-03-10T18:43:19.798Z"
   },
   {
    "duration": 4,
    "start_time": "2022-03-10T18:43:19.811Z"
   },
   {
    "duration": 7,
    "start_time": "2022-03-10T18:43:19.817Z"
   },
   {
    "duration": 10,
    "start_time": "2022-03-10T18:43:19.826Z"
   },
   {
    "duration": 9,
    "start_time": "2022-03-10T18:43:19.838Z"
   },
   {
    "duration": 28,
    "start_time": "2022-03-10T18:43:19.849Z"
   },
   {
    "duration": 11,
    "start_time": "2022-03-10T18:43:19.879Z"
   },
   {
    "duration": 27,
    "start_time": "2022-03-10T18:43:19.893Z"
   },
   {
    "duration": 119,
    "start_time": "2022-03-10T18:43:19.921Z"
   },
   {
    "duration": 648,
    "start_time": "2022-03-10T18:43:20.041Z"
   },
   {
    "duration": 27,
    "start_time": "2022-03-10T18:43:20.690Z"
   },
   {
    "duration": 572,
    "start_time": "2022-03-10T18:43:20.719Z"
   },
   {
    "duration": 300,
    "start_time": "2022-03-10T18:43:21.292Z"
   },
   {
    "duration": 255,
    "start_time": "2022-03-10T18:43:21.594Z"
   },
   {
    "duration": 403,
    "start_time": "2022-03-10T18:43:21.851Z"
   },
   {
    "duration": 276,
    "start_time": "2022-03-10T18:43:22.257Z"
   },
   {
    "duration": 235,
    "start_time": "2022-03-10T18:43:22.535Z"
   },
   {
    "duration": 349,
    "start_time": "2022-03-10T18:43:22.772Z"
   },
   {
    "duration": 226,
    "start_time": "2022-03-10T18:43:23.123Z"
   },
   {
    "duration": 492,
    "start_time": "2022-03-10T18:43:23.351Z"
   },
   {
    "duration": 6,
    "start_time": "2022-03-10T18:43:23.845Z"
   },
   {
    "duration": 307,
    "start_time": "2022-03-10T18:43:23.854Z"
   },
   {
    "duration": 317,
    "start_time": "2022-03-10T18:43:24.163Z"
   },
   {
    "duration": 4,
    "start_time": "2022-03-10T18:43:24.482Z"
   },
   {
    "duration": 300,
    "start_time": "2022-03-10T18:43:24.487Z"
   },
   {
    "duration": 4,
    "start_time": "2022-03-10T18:43:24.789Z"
   },
   {
    "duration": 351,
    "start_time": "2022-03-10T18:43:24.795Z"
   },
   {
    "duration": 5,
    "start_time": "2022-03-10T18:43:25.148Z"
   },
   {
    "duration": 294,
    "start_time": "2022-03-10T18:43:25.155Z"
   },
   {
    "duration": 4,
    "start_time": "2022-03-10T18:43:25.451Z"
   },
   {
    "duration": 774,
    "start_time": "2022-03-10T18:43:25.457Z"
   },
   {
    "duration": 15,
    "start_time": "2022-03-10T18:43:26.232Z"
   },
   {
    "duration": 39,
    "start_time": "2022-03-10T18:43:26.249Z"
   },
   {
    "duration": 11,
    "start_time": "2022-03-10T18:43:26.289Z"
   },
   {
    "duration": 32,
    "start_time": "2022-03-10T18:43:26.302Z"
   },
   {
    "duration": 306,
    "start_time": "2022-03-10T18:43:26.336Z"
   },
   {
    "duration": 39,
    "start_time": "2022-03-10T18:43:26.643Z"
   },
   {
    "duration": 317,
    "start_time": "2022-03-10T18:43:26.684Z"
   },
   {
    "duration": 362,
    "start_time": "2022-03-10T18:43:27.003Z"
   },
   {
    "duration": 304,
    "start_time": "2022-03-10T18:43:27.366Z"
   },
   {
    "duration": 276,
    "start_time": "2022-03-10T18:43:27.676Z"
   },
   {
    "duration": 768,
    "start_time": "2022-03-10T18:43:27.954Z"
   },
   {
    "duration": 8,
    "start_time": "2022-03-10T18:43:28.723Z"
   },
   {
    "duration": 543,
    "start_time": "2022-03-14T06:52:51.521Z"
   },
   {
    "duration": 79,
    "start_time": "2022-03-14T06:52:52.095Z"
   },
   {
    "duration": 28,
    "start_time": "2022-03-14T06:52:52.750Z"
   },
   {
    "duration": 11,
    "start_time": "2022-03-14T06:53:15.625Z"
   },
   {
    "duration": 9,
    "start_time": "2022-03-14T07:02:57.416Z"
   },
   {
    "duration": 7,
    "start_time": "2022-03-14T07:03:17.609Z"
   },
   {
    "duration": 8,
    "start_time": "2022-03-14T07:03:46.940Z"
   },
   {
    "duration": 9,
    "start_time": "2022-03-14T07:03:58.656Z"
   },
   {
    "duration": 3,
    "start_time": "2022-03-14T07:06:09.264Z"
   },
   {
    "duration": 62,
    "start_time": "2022-03-14T07:06:09.550Z"
   },
   {
    "duration": 22,
    "start_time": "2022-03-14T07:06:09.752Z"
   },
   {
    "duration": 11,
    "start_time": "2022-03-14T07:06:10.748Z"
   },
   {
    "duration": 4,
    "start_time": "2022-03-14T07:06:12.357Z"
   },
   {
    "duration": 5,
    "start_time": "2022-03-14T07:06:12.966Z"
   },
   {
    "duration": 8,
    "start_time": "2022-03-14T07:06:13.740Z"
   },
   {
    "duration": 7,
    "start_time": "2022-03-14T07:06:14.795Z"
   },
   {
    "duration": 8,
    "start_time": "2022-03-14T07:06:15.645Z"
   },
   {
    "duration": 9,
    "start_time": "2022-03-14T07:06:36.870Z"
   },
   {
    "duration": 8,
    "start_time": "2022-03-14T07:06:42.601Z"
   },
   {
    "duration": 6,
    "start_time": "2022-03-14T07:06:48.717Z"
   },
   {
    "duration": 22,
    "start_time": "2022-03-14T07:08:51.481Z"
   },
   {
    "duration": 21,
    "start_time": "2022-03-14T07:09:11.120Z"
   },
   {
    "duration": 20,
    "start_time": "2022-03-14T07:09:27.912Z"
   },
   {
    "duration": 14,
    "start_time": "2022-03-14T07:09:40.398Z"
   },
   {
    "duration": 7,
    "start_time": "2022-03-14T07:10:20.932Z"
   },
   {
    "duration": 227,
    "start_time": "2022-03-14T07:13:11.420Z"
   },
   {
    "duration": 638,
    "start_time": "2022-03-14T07:13:40.549Z"
   },
   {
    "duration": 167,
    "start_time": "2022-03-14T07:13:55.660Z"
   },
   {
    "duration": 501,
    "start_time": "2022-03-14T07:14:17.491Z"
   },
   {
    "duration": 160,
    "start_time": "2022-03-14T07:15:25.368Z"
   },
   {
    "duration": 169,
    "start_time": "2022-03-14T07:15:32.387Z"
   },
   {
    "duration": 88,
    "start_time": "2022-03-14T07:17:02.745Z"
   },
   {
    "duration": 535,
    "start_time": "2022-03-14T07:17:03.906Z"
   },
   {
    "duration": 22,
    "start_time": "2022-03-14T07:17:04.443Z"
   },
   {
    "duration": 317,
    "start_time": "2022-03-14T07:17:05.243Z"
   },
   {
    "duration": 223,
    "start_time": "2022-03-14T07:17:05.603Z"
   },
   {
    "duration": 185,
    "start_time": "2022-03-14T07:17:06.116Z"
   },
   {
    "duration": 327,
    "start_time": "2022-03-14T07:17:06.471Z"
   },
   {
    "duration": 203,
    "start_time": "2022-03-14T07:17:06.834Z"
   },
   {
    "duration": 167,
    "start_time": "2022-03-14T07:17:07.188Z"
   },
   {
    "duration": 249,
    "start_time": "2022-03-14T07:17:07.921Z"
   },
   {
    "duration": 165,
    "start_time": "2022-03-14T07:17:08.268Z"
   },
   {
    "duration": 328,
    "start_time": "2022-03-14T07:17:08.619Z"
   },
   {
    "duration": 5,
    "start_time": "2022-03-14T07:17:08.966Z"
   },
   {
    "duration": 212,
    "start_time": "2022-03-14T07:17:09.322Z"
   },
   {
    "duration": 235,
    "start_time": "2022-03-14T07:17:10.524Z"
   },
   {
    "duration": 5,
    "start_time": "2022-03-14T07:17:11.430Z"
   },
   {
    "duration": 231,
    "start_time": "2022-03-14T07:17:12.028Z"
   },
   {
    "duration": 4,
    "start_time": "2022-03-14T07:17:13.441Z"
   },
   {
    "duration": 307,
    "start_time": "2022-03-14T07:17:14.264Z"
   },
   {
    "duration": 267,
    "start_time": "2022-03-14T07:17:37.069Z"
   },
   {
    "duration": 686,
    "start_time": "2022-03-14T07:17:47.698Z"
   },
   {
    "duration": 14,
    "start_time": "2022-03-14T07:18:09.567Z"
   },
   {
    "duration": 21,
    "start_time": "2022-03-14T07:18:12.143Z"
   },
   {
    "duration": 11,
    "start_time": "2022-03-14T07:18:13.066Z"
   },
   {
    "duration": 7467,
    "start_time": "2022-03-14T07:18:15.200Z"
   },
   {
    "duration": -836,
    "start_time": "2022-03-14T07:18:39.008Z"
   },
   {
    "duration": 30,
    "start_time": "2022-03-14T07:18:55.707Z"
   },
   {
    "duration": 3,
    "start_time": "2022-03-14T07:19:20.339Z"
   },
   {
    "duration": 78,
    "start_time": "2022-03-14T07:19:20.631Z"
   },
   {
    "duration": 22,
    "start_time": "2022-03-14T07:19:20.894Z"
   },
   {
    "duration": 11,
    "start_time": "2022-03-14T07:19:21.681Z"
   },
   {
    "duration": 4,
    "start_time": "2022-03-14T07:19:24.202Z"
   },
   {
    "duration": 5,
    "start_time": "2022-03-14T07:19:25.352Z"
   },
   {
    "duration": 8,
    "start_time": "2022-03-14T07:19:25.848Z"
   },
   {
    "duration": 5,
    "start_time": "2022-03-14T07:19:26.485Z"
   },
   {
    "duration": 8,
    "start_time": "2022-03-14T07:19:27.347Z"
   },
   {
    "duration": 10,
    "start_time": "2022-03-14T07:19:29.414Z"
   },
   {
    "duration": 7,
    "start_time": "2022-03-14T07:19:29.621Z"
   },
   {
    "duration": 23,
    "start_time": "2022-03-14T07:19:31.014Z"
   },
   {
    "duration": 87,
    "start_time": "2022-03-14T07:19:31.591Z"
   },
   {
    "duration": 525,
    "start_time": "2022-03-14T07:19:33.086Z"
   },
   {
    "duration": 21,
    "start_time": "2022-03-14T07:19:33.787Z"
   },
   {
    "duration": 319,
    "start_time": "2022-03-14T07:19:39.686Z"
   },
   {
    "duration": 228,
    "start_time": "2022-03-14T07:19:40.898Z"
   },
   {
    "duration": 197,
    "start_time": "2022-03-14T07:19:42.513Z"
   },
   {
    "duration": 287,
    "start_time": "2022-03-14T07:19:43.535Z"
   },
   {
    "duration": 297,
    "start_time": "2022-03-14T07:19:44.645Z"
   },
   {
    "duration": 171,
    "start_time": "2022-03-14T07:19:45.837Z"
   },
   {
    "duration": 277,
    "start_time": "2022-03-14T07:19:48.079Z"
   },
   {
    "duration": 171,
    "start_time": "2022-03-14T07:19:49.202Z"
   },
   {
    "duration": 335,
    "start_time": "2022-03-14T07:19:50.208Z"
   },
   {
    "duration": 5,
    "start_time": "2022-03-14T07:19:55.374Z"
   },
   {
    "duration": 219,
    "start_time": "2022-03-14T07:19:56.411Z"
   },
   {
    "duration": 237,
    "start_time": "2022-03-14T07:19:58.844Z"
   },
   {
    "duration": 5,
    "start_time": "2022-03-14T07:20:00.455Z"
   },
   {
    "duration": 229,
    "start_time": "2022-03-14T07:20:01.748Z"
   },
   {
    "duration": 4,
    "start_time": "2022-03-14T07:20:03.227Z"
   },
   {
    "duration": 258,
    "start_time": "2022-03-14T07:20:04.559Z"
   },
   {
    "duration": 14385,
    "start_time": "2022-03-14T07:20:06.111Z"
   },
   {
    "duration": -845,
    "start_time": "2022-03-14T07:20:21.343Z"
   },
   {
    "duration": 219,
    "start_time": "2022-03-14T07:20:36.040Z"
   },
   {
    "duration": 4,
    "start_time": "2022-03-14T07:20:39.418Z"
   },
   {
    "duration": 705,
    "start_time": "2022-03-14T07:20:40.624Z"
   },
   {
    "duration": 14,
    "start_time": "2022-03-14T07:20:44.376Z"
   },
   {
    "duration": 21,
    "start_time": "2022-03-14T07:20:45.433Z"
   },
   {
    "duration": 10,
    "start_time": "2022-03-14T07:20:46.448Z"
   },
   {
    "duration": 28,
    "start_time": "2022-03-14T07:20:47.386Z"
   },
   {
    "duration": 285,
    "start_time": "2022-03-14T07:21:14.125Z"
   },
   {
    "duration": 8122,
    "start_time": "2022-03-14T07:21:50.658Z"
   },
   {
    "duration": 216,
    "start_time": "2022-03-14T07:22:10.331Z"
   },
   {
    "duration": 5,
    "start_time": "2022-03-14T07:23:40.779Z"
   },
   {
    "duration": 208,
    "start_time": "2022-03-14T07:23:46.762Z"
   },
   {
    "duration": 4,
    "start_time": "2022-03-14T07:23:52.039Z"
   },
   {
    "duration": 608,
    "start_time": "2022-03-14T07:23:54.236Z"
   },
   {
    "duration": 27,
    "start_time": "2022-03-14T07:24:23.979Z"
   },
   {
    "duration": 212,
    "start_time": "2022-03-14T07:24:31.831Z"
   },
   {
    "duration": 24,
    "start_time": "2022-03-14T07:24:49.937Z"
   },
   {
    "duration": 23,
    "start_time": "2022-03-14T07:28:01.967Z"
   },
   {
    "duration": 233,
    "start_time": "2022-03-14T07:28:11.617Z"
   },
   {
    "duration": 219,
    "start_time": "2022-03-14T07:28:18.670Z"
   },
   {
    "duration": 293,
    "start_time": "2022-03-14T07:28:28.842Z"
   },
   {
    "duration": 211,
    "start_time": "2022-03-14T07:28:36.722Z"
   },
   {
    "duration": 222,
    "start_time": "2022-03-14T07:33:16.776Z"
   },
   {
    "duration": 623,
    "start_time": "2022-03-14T07:34:33.922Z"
   },
   {
    "duration": 7603,
    "start_time": "2022-03-14T07:34:51.401Z"
   },
   {
    "duration": 22127,
    "start_time": "2022-03-14T07:35:07.561Z"
   },
   {
    "duration": 7,
    "start_time": "2022-03-14T07:35:42.511Z"
   },
   {
    "duration": 623,
    "start_time": "2022-03-14T07:36:27.862Z"
   },
   {
    "duration": 579,
    "start_time": "2022-03-14T07:36:37.729Z"
   },
   {
    "duration": 654,
    "start_time": "2022-03-14T07:38:28.923Z"
   },
   {
    "duration": 520,
    "start_time": "2022-03-14T07:39:26.138Z"
   },
   {
    "duration": 7,
    "start_time": "2022-03-14T07:49:15.084Z"
   },
   {
    "duration": 11,
    "start_time": "2022-03-14T08:19:41.500Z"
   },
   {
    "duration": 11,
    "start_time": "2022-03-14T08:19:51.503Z"
   },
   {
    "duration": 11,
    "start_time": "2022-03-14T08:20:01.375Z"
   },
   {
    "duration": 8783,
    "start_time": "2022-03-14T08:20:20.649Z"
   },
   {
    "duration": 302,
    "start_time": "2022-03-14T08:20:39.522Z"
   },
   {
    "duration": 307,
    "start_time": "2022-03-14T08:20:48.165Z"
   },
   {
    "duration": 25,
    "start_time": "2022-03-14T08:21:33.898Z"
   },
   {
    "duration": 11,
    "start_time": "2022-03-14T08:22:24.066Z"
   },
   {
    "duration": 92,
    "start_time": "2022-03-14T08:22:48.677Z"
   },
   {
    "duration": 9,
    "start_time": "2022-03-14T08:22:57.441Z"
   },
   {
    "duration": 24,
    "start_time": "2022-03-14T08:23:05.184Z"
   },
   {
    "duration": 9,
    "start_time": "2022-03-14T08:23:58.031Z"
   },
   {
    "duration": 10,
    "start_time": "2022-03-14T08:24:23.155Z"
   },
   {
    "duration": 25,
    "start_time": "2022-03-14T08:24:30.242Z"
   },
   {
    "duration": 10,
    "start_time": "2022-03-14T08:26:48.028Z"
   },
   {
    "duration": 7,
    "start_time": "2022-03-14T08:26:58.661Z"
   },
   {
    "duration": 664,
    "start_time": "2022-03-14T10:19:19.171Z"
   },
   {
    "duration": 75,
    "start_time": "2022-03-14T10:19:19.837Z"
   },
   {
    "duration": 37,
    "start_time": "2022-03-14T10:19:19.914Z"
   },
   {
    "duration": 26,
    "start_time": "2022-03-14T10:19:19.953Z"
   },
   {
    "duration": 5,
    "start_time": "2022-03-14T10:19:19.982Z"
   },
   {
    "duration": 8,
    "start_time": "2022-03-14T10:19:19.989Z"
   },
   {
    "duration": 11,
    "start_time": "2022-03-14T10:19:19.998Z"
   },
   {
    "duration": 8,
    "start_time": "2022-03-14T10:19:20.013Z"
   },
   {
    "duration": 12,
    "start_time": "2022-03-14T10:19:20.023Z"
   },
   {
    "duration": 48,
    "start_time": "2022-03-14T10:19:20.037Z"
   },
   {
    "duration": 12,
    "start_time": "2022-03-14T10:19:20.087Z"
   },
   {
    "duration": 31,
    "start_time": "2022-03-14T10:19:20.101Z"
   },
   {
    "duration": 127,
    "start_time": "2022-03-14T10:19:20.134Z"
   },
   {
    "duration": 637,
    "start_time": "2022-03-14T10:19:20.264Z"
   },
   {
    "duration": 27,
    "start_time": "2022-03-14T10:19:20.902Z"
   },
   {
    "duration": 564,
    "start_time": "2022-03-14T10:19:20.931Z"
   },
   {
    "duration": 307,
    "start_time": "2022-03-14T10:19:21.497Z"
   },
   {
    "duration": 252,
    "start_time": "2022-03-14T10:19:21.806Z"
   },
   {
    "duration": 401,
    "start_time": "2022-03-14T10:19:22.060Z"
   },
   {
    "duration": 279,
    "start_time": "2022-03-14T10:19:22.463Z"
   },
   {
    "duration": 238,
    "start_time": "2022-03-14T10:19:22.744Z"
   },
   {
    "duration": 357,
    "start_time": "2022-03-14T10:19:22.984Z"
   },
   {
    "duration": 242,
    "start_time": "2022-03-14T10:19:23.345Z"
   },
   {
    "duration": 516,
    "start_time": "2022-03-14T10:19:23.589Z"
   },
   {
    "duration": 5,
    "start_time": "2022-03-14T10:19:24.107Z"
   },
   {
    "duration": 321,
    "start_time": "2022-03-14T10:19:24.114Z"
   },
   {
    "duration": 307,
    "start_time": "2022-03-14T10:19:24.436Z"
   },
   {
    "duration": 4,
    "start_time": "2022-03-14T10:19:24.745Z"
   },
   {
    "duration": 319,
    "start_time": "2022-03-14T10:19:24.751Z"
   },
   {
    "duration": 5,
    "start_time": "2022-03-14T10:19:25.077Z"
   },
   {
    "duration": 360,
    "start_time": "2022-03-14T10:19:25.084Z"
   },
   {
    "duration": 6,
    "start_time": "2022-03-14T10:19:25.446Z"
   },
   {
    "duration": 300,
    "start_time": "2022-03-14T10:19:25.454Z"
   },
   {
    "duration": 5,
    "start_time": "2022-03-14T10:19:25.756Z"
   },
   {
    "duration": 723,
    "start_time": "2022-03-14T10:19:25.763Z"
   },
   {
    "duration": 16,
    "start_time": "2022-03-14T10:19:26.488Z"
   },
   {
    "duration": 34,
    "start_time": "2022-03-14T10:19:26.505Z"
   },
   {
    "duration": 13,
    "start_time": "2022-03-14T10:19:26.541Z"
   },
   {
    "duration": 53,
    "start_time": "2022-03-14T10:19:26.556Z"
   },
   {
    "duration": 299,
    "start_time": "2022-03-14T10:19:26.611Z"
   },
   {
    "duration": 31,
    "start_time": "2022-03-14T10:19:26.912Z"
   },
   {
    "duration": 318,
    "start_time": "2022-03-14T10:19:26.945Z"
   },
   {
    "duration": 387,
    "start_time": "2022-03-14T10:19:27.265Z"
   },
   {
    "duration": 288,
    "start_time": "2022-03-14T10:19:27.654Z"
   },
   {
    "duration": 290,
    "start_time": "2022-03-14T10:19:27.944Z"
   },
   {
    "duration": 690,
    "start_time": "2022-03-14T10:19:28.235Z"
   },
   {
    "duration": 8,
    "start_time": "2022-03-14T10:19:28.926Z"
   }
  ],
  "kernelspec": {
   "display_name": "Python 3 (ipykernel)",
   "language": "python",
   "name": "python3"
  },
  "language_info": {
   "codemirror_mode": {
    "name": "ipython",
    "version": 3
   },
   "file_extension": ".py",
   "mimetype": "text/x-python",
   "name": "python",
   "nbconvert_exporter": "python",
   "pygments_lexer": "ipython3",
   "version": "3.9.5"
  },
  "toc": {
   "base_numbering": 1,
   "nav_menu": {},
   "number_sections": true,
   "sideBar": true,
   "skip_h1_title": true,
   "title_cell": "Содержание",
   "title_sidebar": "Contents",
   "toc_cell": true,
   "toc_position": {
    "height": "calc(100% - 180px)",
    "left": "10px",
    "top": "150px",
    "width": "287px"
   },
   "toc_section_display": true,
   "toc_window_display": true
  }
 },
 "nbformat": 4,
 "nbformat_minor": 4
}
