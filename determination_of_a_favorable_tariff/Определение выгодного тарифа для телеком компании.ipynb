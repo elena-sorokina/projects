{
 "cells": [
  {
   "cell_type": "markdown",
   "metadata": {},
   "source": [
    "# Определение перспективного тарифа для телеком-компании"
   ]
  },
  {
   "cell_type": "markdown",
   "metadata": {},
   "source": [
    "## Описание проекта"
   ]
  },
  {
   "cell_type": "markdown",
   "metadata": {},
   "source": [
    "Компания «Мегалайн» — федеральный оператор сотовой связи. Клиентам предлагают два тарифных плана: «Смарт» и «Ультра». Чтобы скорректировать рекламный бюджет, коммерческий департамент хочет понять, какой тариф приносит больше денег.\n",
    "\n",
    "В данной работе предстоит сделать предварительный анализ тарифов на небольшой выборке клиентов. По предоставленным данным нужно проанализировать поведение клиентов и сделать вывод — какой тариф лучше."
   ]
  },
  {
   "cell_type": "markdown",
   "metadata": {},
   "source": [
    "## Обзор данных"
   ]
  },
  {
   "cell_type": "code",
   "execution_count": 33,
   "metadata": {},
   "outputs": [],
   "source": [
    "import pandas as pd     #  импорт библиотек\n",
    "import numpy as np\n",
    "from scipy import stats as st\n",
    "from functools import reduce"
   ]
  },
  {
   "cell_type": "code",
   "execution_count": 34,
   "metadata": {},
   "outputs": [],
   "source": [
    "#  прочтение данных\n",
    "users = pd.read_csv('/datasets/users.csv')\n",
    "calls = pd.read_csv('/datasets/calls.csv')\n",
    "messages = pd.read_csv('/datasets/messages.csv')\n",
    "internet = pd.read_csv('/datasets/internet.csv')\n",
    "tariffs = pd.read_csv('/datasets/tariffs.csv')"
   ]
  },
  {
   "cell_type": "markdown",
   "metadata": {},
   "source": [
    "Просмотрим информацию о каждой таблице в отдельности:"
   ]
  },
  {
   "cell_type": "code",
   "execution_count": 35,
   "metadata": {},
   "outputs": [
    {
     "data": {
      "text/html": [
       "<div>\n",
       "<style scoped>\n",
       "    .dataframe tbody tr th:only-of-type {\n",
       "        vertical-align: middle;\n",
       "    }\n",
       "\n",
       "    .dataframe tbody tr th {\n",
       "        vertical-align: top;\n",
       "    }\n",
       "\n",
       "    .dataframe thead th {\n",
       "        text-align: right;\n",
       "    }\n",
       "</style>\n",
       "<table border=\"1\" class=\"dataframe\">\n",
       "  <thead>\n",
       "    <tr style=\"text-align: right;\">\n",
       "      <th></th>\n",
       "      <th>user_id</th>\n",
       "      <th>age</th>\n",
       "      <th>churn_date</th>\n",
       "      <th>city</th>\n",
       "      <th>first_name</th>\n",
       "      <th>last_name</th>\n",
       "      <th>reg_date</th>\n",
       "      <th>tariff</th>\n",
       "    </tr>\n",
       "  </thead>\n",
       "  <tbody>\n",
       "    <tr>\n",
       "      <th>0</th>\n",
       "      <td>1000</td>\n",
       "      <td>52</td>\n",
       "      <td>NaN</td>\n",
       "      <td>Краснодар</td>\n",
       "      <td>Рафаил</td>\n",
       "      <td>Верещагин</td>\n",
       "      <td>2018-05-25</td>\n",
       "      <td>ultra</td>\n",
       "    </tr>\n",
       "    <tr>\n",
       "      <th>1</th>\n",
       "      <td>1001</td>\n",
       "      <td>41</td>\n",
       "      <td>NaN</td>\n",
       "      <td>Москва</td>\n",
       "      <td>Иван</td>\n",
       "      <td>Ежов</td>\n",
       "      <td>2018-11-01</td>\n",
       "      <td>smart</td>\n",
       "    </tr>\n",
       "    <tr>\n",
       "      <th>2</th>\n",
       "      <td>1002</td>\n",
       "      <td>59</td>\n",
       "      <td>NaN</td>\n",
       "      <td>Стерлитамак</td>\n",
       "      <td>Евгений</td>\n",
       "      <td>Абрамович</td>\n",
       "      <td>2018-06-17</td>\n",
       "      <td>smart</td>\n",
       "    </tr>\n",
       "    <tr>\n",
       "      <th>3</th>\n",
       "      <td>1003</td>\n",
       "      <td>23</td>\n",
       "      <td>NaN</td>\n",
       "      <td>Москва</td>\n",
       "      <td>Белла</td>\n",
       "      <td>Белякова</td>\n",
       "      <td>2018-08-17</td>\n",
       "      <td>ultra</td>\n",
       "    </tr>\n",
       "    <tr>\n",
       "      <th>4</th>\n",
       "      <td>1004</td>\n",
       "      <td>68</td>\n",
       "      <td>NaN</td>\n",
       "      <td>Новокузнецк</td>\n",
       "      <td>Татьяна</td>\n",
       "      <td>Авдеенко</td>\n",
       "      <td>2018-05-14</td>\n",
       "      <td>ultra</td>\n",
       "    </tr>\n",
       "  </tbody>\n",
       "</table>\n",
       "</div>"
      ],
      "text/plain": [
       "   user_id  age churn_date         city first_name  last_name    reg_date  \\\n",
       "0     1000   52        NaN    Краснодар     Рафаил  Верещагин  2018-05-25   \n",
       "1     1001   41        NaN       Москва       Иван       Ежов  2018-11-01   \n",
       "2     1002   59        NaN  Стерлитамак    Евгений  Абрамович  2018-06-17   \n",
       "3     1003   23        NaN       Москва      Белла   Белякова  2018-08-17   \n",
       "4     1004   68        NaN  Новокузнецк    Татьяна   Авдеенко  2018-05-14   \n",
       "\n",
       "  tariff  \n",
       "0  ultra  \n",
       "1  smart  \n",
       "2  smart  \n",
       "3  ultra  \n",
       "4  ultra  "
      ]
     },
     "metadata": {},
     "output_type": "display_data"
    },
    {
     "name": "stdout",
     "output_type": "stream",
     "text": [
      "<class 'pandas.core.frame.DataFrame'>\n",
      "RangeIndex: 500 entries, 0 to 499\n",
      "Data columns (total 8 columns):\n",
      " #   Column      Non-Null Count  Dtype \n",
      "---  ------      --------------  ----- \n",
      " 0   user_id     500 non-null    int64 \n",
      " 1   age         500 non-null    int64 \n",
      " 2   churn_date  38 non-null     object\n",
      " 3   city        500 non-null    object\n",
      " 4   first_name  500 non-null    object\n",
      " 5   last_name   500 non-null    object\n",
      " 6   reg_date    500 non-null    object\n",
      " 7   tariff      500 non-null    object\n",
      "dtypes: int64(2), object(6)\n",
      "memory usage: 31.4+ KB\n"
     ]
    }
   ],
   "source": [
    "display(users.head())\n",
    "users.info()"
   ]
  },
  {
   "cell_type": "code",
   "execution_count": 36,
   "metadata": {},
   "outputs": [
    {
     "data": {
      "text/html": [
       "<div>\n",
       "<style scoped>\n",
       "    .dataframe tbody tr th:only-of-type {\n",
       "        vertical-align: middle;\n",
       "    }\n",
       "\n",
       "    .dataframe tbody tr th {\n",
       "        vertical-align: top;\n",
       "    }\n",
       "\n",
       "    .dataframe thead th {\n",
       "        text-align: right;\n",
       "    }\n",
       "</style>\n",
       "<table border=\"1\" class=\"dataframe\">\n",
       "  <thead>\n",
       "    <tr style=\"text-align: right;\">\n",
       "      <th></th>\n",
       "      <th>id</th>\n",
       "      <th>call_date</th>\n",
       "      <th>duration</th>\n",
       "      <th>user_id</th>\n",
       "    </tr>\n",
       "  </thead>\n",
       "  <tbody>\n",
       "    <tr>\n",
       "      <th>0</th>\n",
       "      <td>1000_0</td>\n",
       "      <td>2018-07-25</td>\n",
       "      <td>0.00</td>\n",
       "      <td>1000</td>\n",
       "    </tr>\n",
       "    <tr>\n",
       "      <th>1</th>\n",
       "      <td>1000_1</td>\n",
       "      <td>2018-08-17</td>\n",
       "      <td>0.00</td>\n",
       "      <td>1000</td>\n",
       "    </tr>\n",
       "    <tr>\n",
       "      <th>2</th>\n",
       "      <td>1000_2</td>\n",
       "      <td>2018-06-11</td>\n",
       "      <td>2.85</td>\n",
       "      <td>1000</td>\n",
       "    </tr>\n",
       "    <tr>\n",
       "      <th>3</th>\n",
       "      <td>1000_3</td>\n",
       "      <td>2018-09-21</td>\n",
       "      <td>13.80</td>\n",
       "      <td>1000</td>\n",
       "    </tr>\n",
       "    <tr>\n",
       "      <th>4</th>\n",
       "      <td>1000_4</td>\n",
       "      <td>2018-12-15</td>\n",
       "      <td>5.18</td>\n",
       "      <td>1000</td>\n",
       "    </tr>\n",
       "  </tbody>\n",
       "</table>\n",
       "</div>"
      ],
      "text/plain": [
       "       id   call_date  duration  user_id\n",
       "0  1000_0  2018-07-25      0.00     1000\n",
       "1  1000_1  2018-08-17      0.00     1000\n",
       "2  1000_2  2018-06-11      2.85     1000\n",
       "3  1000_3  2018-09-21     13.80     1000\n",
       "4  1000_4  2018-12-15      5.18     1000"
      ]
     },
     "metadata": {},
     "output_type": "display_data"
    },
    {
     "name": "stdout",
     "output_type": "stream",
     "text": [
      "<class 'pandas.core.frame.DataFrame'>\n",
      "RangeIndex: 202607 entries, 0 to 202606\n",
      "Data columns (total 4 columns):\n",
      " #   Column     Non-Null Count   Dtype  \n",
      "---  ------     --------------   -----  \n",
      " 0   id         202607 non-null  object \n",
      " 1   call_date  202607 non-null  object \n",
      " 2   duration   202607 non-null  float64\n",
      " 3   user_id    202607 non-null  int64  \n",
      "dtypes: float64(1), int64(1), object(2)\n",
      "memory usage: 6.2+ MB\n"
     ]
    }
   ],
   "source": [
    "display(calls.head())\n",
    "calls.info()"
   ]
  },
  {
   "cell_type": "code",
   "execution_count": 37,
   "metadata": {},
   "outputs": [
    {
     "data": {
      "text/html": [
       "<div>\n",
       "<style scoped>\n",
       "    .dataframe tbody tr th:only-of-type {\n",
       "        vertical-align: middle;\n",
       "    }\n",
       "\n",
       "    .dataframe tbody tr th {\n",
       "        vertical-align: top;\n",
       "    }\n",
       "\n",
       "    .dataframe thead th {\n",
       "        text-align: right;\n",
       "    }\n",
       "</style>\n",
       "<table border=\"1\" class=\"dataframe\">\n",
       "  <thead>\n",
       "    <tr style=\"text-align: right;\">\n",
       "      <th></th>\n",
       "      <th>id</th>\n",
       "      <th>message_date</th>\n",
       "      <th>user_id</th>\n",
       "    </tr>\n",
       "  </thead>\n",
       "  <tbody>\n",
       "    <tr>\n",
       "      <th>0</th>\n",
       "      <td>1000_0</td>\n",
       "      <td>2018-06-27</td>\n",
       "      <td>1000</td>\n",
       "    </tr>\n",
       "    <tr>\n",
       "      <th>1</th>\n",
       "      <td>1000_1</td>\n",
       "      <td>2018-10-08</td>\n",
       "      <td>1000</td>\n",
       "    </tr>\n",
       "    <tr>\n",
       "      <th>2</th>\n",
       "      <td>1000_2</td>\n",
       "      <td>2018-08-04</td>\n",
       "      <td>1000</td>\n",
       "    </tr>\n",
       "    <tr>\n",
       "      <th>3</th>\n",
       "      <td>1000_3</td>\n",
       "      <td>2018-06-16</td>\n",
       "      <td>1000</td>\n",
       "    </tr>\n",
       "    <tr>\n",
       "      <th>4</th>\n",
       "      <td>1000_4</td>\n",
       "      <td>2018-12-05</td>\n",
       "      <td>1000</td>\n",
       "    </tr>\n",
       "  </tbody>\n",
       "</table>\n",
       "</div>"
      ],
      "text/plain": [
       "       id message_date  user_id\n",
       "0  1000_0   2018-06-27     1000\n",
       "1  1000_1   2018-10-08     1000\n",
       "2  1000_2   2018-08-04     1000\n",
       "3  1000_3   2018-06-16     1000\n",
       "4  1000_4   2018-12-05     1000"
      ]
     },
     "metadata": {},
     "output_type": "display_data"
    },
    {
     "name": "stdout",
     "output_type": "stream",
     "text": [
      "<class 'pandas.core.frame.DataFrame'>\n",
      "RangeIndex: 123036 entries, 0 to 123035\n",
      "Data columns (total 3 columns):\n",
      " #   Column        Non-Null Count   Dtype \n",
      "---  ------        --------------   ----- \n",
      " 0   id            123036 non-null  object\n",
      " 1   message_date  123036 non-null  object\n",
      " 2   user_id       123036 non-null  int64 \n",
      "dtypes: int64(1), object(2)\n",
      "memory usage: 2.8+ MB\n"
     ]
    }
   ],
   "source": [
    "display(messages.head())\n",
    "messages.info()"
   ]
  },
  {
   "cell_type": "code",
   "execution_count": 38,
   "metadata": {},
   "outputs": [
    {
     "data": {
      "text/html": [
       "<div>\n",
       "<style scoped>\n",
       "    .dataframe tbody tr th:only-of-type {\n",
       "        vertical-align: middle;\n",
       "    }\n",
       "\n",
       "    .dataframe tbody tr th {\n",
       "        vertical-align: top;\n",
       "    }\n",
       "\n",
       "    .dataframe thead th {\n",
       "        text-align: right;\n",
       "    }\n",
       "</style>\n",
       "<table border=\"1\" class=\"dataframe\">\n",
       "  <thead>\n",
       "    <tr style=\"text-align: right;\">\n",
       "      <th></th>\n",
       "      <th>Unnamed: 0</th>\n",
       "      <th>id</th>\n",
       "      <th>mb_used</th>\n",
       "      <th>session_date</th>\n",
       "      <th>user_id</th>\n",
       "    </tr>\n",
       "  </thead>\n",
       "  <tbody>\n",
       "    <tr>\n",
       "      <th>0</th>\n",
       "      <td>0</td>\n",
       "      <td>1000_0</td>\n",
       "      <td>112.95</td>\n",
       "      <td>2018-11-25</td>\n",
       "      <td>1000</td>\n",
       "    </tr>\n",
       "    <tr>\n",
       "      <th>1</th>\n",
       "      <td>1</td>\n",
       "      <td>1000_1</td>\n",
       "      <td>1052.81</td>\n",
       "      <td>2018-09-07</td>\n",
       "      <td>1000</td>\n",
       "    </tr>\n",
       "    <tr>\n",
       "      <th>2</th>\n",
       "      <td>2</td>\n",
       "      <td>1000_2</td>\n",
       "      <td>1197.26</td>\n",
       "      <td>2018-06-25</td>\n",
       "      <td>1000</td>\n",
       "    </tr>\n",
       "    <tr>\n",
       "      <th>3</th>\n",
       "      <td>3</td>\n",
       "      <td>1000_3</td>\n",
       "      <td>550.27</td>\n",
       "      <td>2018-08-22</td>\n",
       "      <td>1000</td>\n",
       "    </tr>\n",
       "    <tr>\n",
       "      <th>4</th>\n",
       "      <td>4</td>\n",
       "      <td>1000_4</td>\n",
       "      <td>302.56</td>\n",
       "      <td>2018-09-24</td>\n",
       "      <td>1000</td>\n",
       "    </tr>\n",
       "  </tbody>\n",
       "</table>\n",
       "</div>"
      ],
      "text/plain": [
       "   Unnamed: 0      id  mb_used session_date  user_id\n",
       "0           0  1000_0   112.95   2018-11-25     1000\n",
       "1           1  1000_1  1052.81   2018-09-07     1000\n",
       "2           2  1000_2  1197.26   2018-06-25     1000\n",
       "3           3  1000_3   550.27   2018-08-22     1000\n",
       "4           4  1000_4   302.56   2018-09-24     1000"
      ]
     },
     "metadata": {},
     "output_type": "display_data"
    },
    {
     "name": "stdout",
     "output_type": "stream",
     "text": [
      "<class 'pandas.core.frame.DataFrame'>\n",
      "RangeIndex: 149396 entries, 0 to 149395\n",
      "Data columns (total 5 columns):\n",
      " #   Column        Non-Null Count   Dtype  \n",
      "---  ------        --------------   -----  \n",
      " 0   Unnamed: 0    149396 non-null  int64  \n",
      " 1   id            149396 non-null  object \n",
      " 2   mb_used       149396 non-null  float64\n",
      " 3   session_date  149396 non-null  object \n",
      " 4   user_id       149396 non-null  int64  \n",
      "dtypes: float64(1), int64(2), object(2)\n",
      "memory usage: 5.7+ MB\n"
     ]
    }
   ],
   "source": [
    "display(internet.head())\n",
    "internet.info()"
   ]
  },
  {
   "cell_type": "markdown",
   "metadata": {},
   "source": [
    "Удалим столбец `Unnamed: 0`:"
   ]
  },
  {
   "cell_type": "code",
   "execution_count": 39,
   "metadata": {},
   "outputs": [
    {
     "data": {
      "text/html": [
       "<div>\n",
       "<style scoped>\n",
       "    .dataframe tbody tr th:only-of-type {\n",
       "        vertical-align: middle;\n",
       "    }\n",
       "\n",
       "    .dataframe tbody tr th {\n",
       "        vertical-align: top;\n",
       "    }\n",
       "\n",
       "    .dataframe thead th {\n",
       "        text-align: right;\n",
       "    }\n",
       "</style>\n",
       "<table border=\"1\" class=\"dataframe\">\n",
       "  <thead>\n",
       "    <tr style=\"text-align: right;\">\n",
       "      <th></th>\n",
       "      <th>id</th>\n",
       "      <th>mb_used</th>\n",
       "      <th>session_date</th>\n",
       "      <th>user_id</th>\n",
       "    </tr>\n",
       "  </thead>\n",
       "  <tbody>\n",
       "    <tr>\n",
       "      <th>0</th>\n",
       "      <td>1000_0</td>\n",
       "      <td>112.95</td>\n",
       "      <td>2018-11-25</td>\n",
       "      <td>1000</td>\n",
       "    </tr>\n",
       "    <tr>\n",
       "      <th>1</th>\n",
       "      <td>1000_1</td>\n",
       "      <td>1052.81</td>\n",
       "      <td>2018-09-07</td>\n",
       "      <td>1000</td>\n",
       "    </tr>\n",
       "    <tr>\n",
       "      <th>2</th>\n",
       "      <td>1000_2</td>\n",
       "      <td>1197.26</td>\n",
       "      <td>2018-06-25</td>\n",
       "      <td>1000</td>\n",
       "    </tr>\n",
       "    <tr>\n",
       "      <th>3</th>\n",
       "      <td>1000_3</td>\n",
       "      <td>550.27</td>\n",
       "      <td>2018-08-22</td>\n",
       "      <td>1000</td>\n",
       "    </tr>\n",
       "    <tr>\n",
       "      <th>4</th>\n",
       "      <td>1000_4</td>\n",
       "      <td>302.56</td>\n",
       "      <td>2018-09-24</td>\n",
       "      <td>1000</td>\n",
       "    </tr>\n",
       "  </tbody>\n",
       "</table>\n",
       "</div>"
      ],
      "text/plain": [
       "       id  mb_used session_date  user_id\n",
       "0  1000_0   112.95   2018-11-25     1000\n",
       "1  1000_1  1052.81   2018-09-07     1000\n",
       "2  1000_2  1197.26   2018-06-25     1000\n",
       "3  1000_3   550.27   2018-08-22     1000\n",
       "4  1000_4   302.56   2018-09-24     1000"
      ]
     },
     "metadata": {},
     "output_type": "display_data"
    }
   ],
   "source": [
    "del internet['Unnamed: 0']\n",
    "display(internet.head())"
   ]
  },
  {
   "cell_type": "code",
   "execution_count": 40,
   "metadata": {},
   "outputs": [
    {
     "data": {
      "text/html": [
       "<div>\n",
       "<style scoped>\n",
       "    .dataframe tbody tr th:only-of-type {\n",
       "        vertical-align: middle;\n",
       "    }\n",
       "\n",
       "    .dataframe tbody tr th {\n",
       "        vertical-align: top;\n",
       "    }\n",
       "\n",
       "    .dataframe thead th {\n",
       "        text-align: right;\n",
       "    }\n",
       "</style>\n",
       "<table border=\"1\" class=\"dataframe\">\n",
       "  <thead>\n",
       "    <tr style=\"text-align: right;\">\n",
       "      <th></th>\n",
       "      <th>messages_included</th>\n",
       "      <th>mb_per_month_included</th>\n",
       "      <th>minutes_included</th>\n",
       "      <th>rub_monthly_fee</th>\n",
       "      <th>rub_per_gb</th>\n",
       "      <th>rub_per_message</th>\n",
       "      <th>rub_per_minute</th>\n",
       "      <th>tariff_name</th>\n",
       "    </tr>\n",
       "  </thead>\n",
       "  <tbody>\n",
       "    <tr>\n",
       "      <th>0</th>\n",
       "      <td>50</td>\n",
       "      <td>15360</td>\n",
       "      <td>500</td>\n",
       "      <td>550</td>\n",
       "      <td>200</td>\n",
       "      <td>3</td>\n",
       "      <td>3</td>\n",
       "      <td>smart</td>\n",
       "    </tr>\n",
       "    <tr>\n",
       "      <th>1</th>\n",
       "      <td>1000</td>\n",
       "      <td>30720</td>\n",
       "      <td>3000</td>\n",
       "      <td>1950</td>\n",
       "      <td>150</td>\n",
       "      <td>1</td>\n",
       "      <td>1</td>\n",
       "      <td>ultra</td>\n",
       "    </tr>\n",
       "  </tbody>\n",
       "</table>\n",
       "</div>"
      ],
      "text/plain": [
       "   messages_included  mb_per_month_included  minutes_included  \\\n",
       "0                 50                  15360               500   \n",
       "1               1000                  30720              3000   \n",
       "\n",
       "   rub_monthly_fee  rub_per_gb  rub_per_message  rub_per_minute tariff_name  \n",
       "0              550         200                3               3       smart  \n",
       "1             1950         150                1               1       ultra  "
      ]
     },
     "metadata": {},
     "output_type": "display_data"
    },
    {
     "name": "stdout",
     "output_type": "stream",
     "text": [
      "<class 'pandas.core.frame.DataFrame'>\n",
      "RangeIndex: 2 entries, 0 to 1\n",
      "Data columns (total 8 columns):\n",
      " #   Column                 Non-Null Count  Dtype \n",
      "---  ------                 --------------  ----- \n",
      " 0   messages_included      2 non-null      int64 \n",
      " 1   mb_per_month_included  2 non-null      int64 \n",
      " 2   minutes_included       2 non-null      int64 \n",
      " 3   rub_monthly_fee        2 non-null      int64 \n",
      " 4   rub_per_gb             2 non-null      int64 \n",
      " 5   rub_per_message        2 non-null      int64 \n",
      " 6   rub_per_minute         2 non-null      int64 \n",
      " 7   tariff_name            2 non-null      object\n",
      "dtypes: int64(7), object(1)\n",
      "memory usage: 256.0+ bytes\n"
     ]
    }
   ],
   "source": [
    "display(tariffs.head())\n",
    "tariffs.info()"
   ]
  },
  {
   "cell_type": "markdown",
   "metadata": {},
   "source": [
    "## Подготовка данных"
   ]
  },
  {
   "cell_type": "markdown",
   "metadata": {},
   "source": [
    "1) Изменим в таблицах **users**, **calls**, **messages** и **internet** в столбцах с датой тип данных на `datetime`:"
   ]
  },
  {
   "cell_type": "code",
   "execution_count": 41,
   "metadata": {},
   "outputs": [],
   "source": [
    "users['reg_date'] = pd.to_datetime(users['reg_date'], format='%Y-%m-%d')\n",
    "#users.info()"
   ]
  },
  {
   "cell_type": "code",
   "execution_count": 42,
   "metadata": {},
   "outputs": [],
   "source": [
    "calls['call_date'] = pd.to_datetime(calls['call_date'], format='%Y-%m-%d')\n",
    "#calls.info()"
   ]
  },
  {
   "cell_type": "code",
   "execution_count": 43,
   "metadata": {},
   "outputs": [],
   "source": [
    "messages['message_date'] = pd.to_datetime(messages['message_date'], format='%Y-%m-%d')\n",
    "#messages.info()"
   ]
  },
  {
   "cell_type": "code",
   "execution_count": 44,
   "metadata": {},
   "outputs": [],
   "source": [
    "internet['session_date'] = pd.to_datetime(internet['session_date'], format='%Y-%m-%d')\n",
    "#internet.info()"
   ]
  },
  {
   "cell_type": "markdown",
   "metadata": {},
   "source": [
    "2) округлим длительность каждого звонка вверх:"
   ]
  },
  {
   "cell_type": "code",
   "execution_count": 45,
   "metadata": {},
   "outputs": [
    {
     "data": {
      "text/html": [
       "<div>\n",
       "<style scoped>\n",
       "    .dataframe tbody tr th:only-of-type {\n",
       "        vertical-align: middle;\n",
       "    }\n",
       "\n",
       "    .dataframe tbody tr th {\n",
       "        vertical-align: top;\n",
       "    }\n",
       "\n",
       "    .dataframe thead th {\n",
       "        text-align: right;\n",
       "    }\n",
       "</style>\n",
       "<table border=\"1\" class=\"dataframe\">\n",
       "  <thead>\n",
       "    <tr style=\"text-align: right;\">\n",
       "      <th></th>\n",
       "      <th>id</th>\n",
       "      <th>call_date</th>\n",
       "      <th>duration</th>\n",
       "      <th>user_id</th>\n",
       "    </tr>\n",
       "  </thead>\n",
       "  <tbody>\n",
       "    <tr>\n",
       "      <th>0</th>\n",
       "      <td>1000_0</td>\n",
       "      <td>2018-07-25</td>\n",
       "      <td>0</td>\n",
       "      <td>1000</td>\n",
       "    </tr>\n",
       "    <tr>\n",
       "      <th>1</th>\n",
       "      <td>1000_1</td>\n",
       "      <td>2018-08-17</td>\n",
       "      <td>0</td>\n",
       "      <td>1000</td>\n",
       "    </tr>\n",
       "    <tr>\n",
       "      <th>2</th>\n",
       "      <td>1000_2</td>\n",
       "      <td>2018-06-11</td>\n",
       "      <td>3</td>\n",
       "      <td>1000</td>\n",
       "    </tr>\n",
       "    <tr>\n",
       "      <th>3</th>\n",
       "      <td>1000_3</td>\n",
       "      <td>2018-09-21</td>\n",
       "      <td>14</td>\n",
       "      <td>1000</td>\n",
       "    </tr>\n",
       "    <tr>\n",
       "      <th>4</th>\n",
       "      <td>1000_4</td>\n",
       "      <td>2018-12-15</td>\n",
       "      <td>6</td>\n",
       "      <td>1000</td>\n",
       "    </tr>\n",
       "  </tbody>\n",
       "</table>\n",
       "</div>"
      ],
      "text/plain": [
       "       id  call_date  duration  user_id\n",
       "0  1000_0 2018-07-25         0     1000\n",
       "1  1000_1 2018-08-17         0     1000\n",
       "2  1000_2 2018-06-11         3     1000\n",
       "3  1000_3 2018-09-21        14     1000\n",
       "4  1000_4 2018-12-15         6     1000"
      ]
     },
     "execution_count": 45,
     "metadata": {},
     "output_type": "execute_result"
    }
   ],
   "source": [
    "calls['duration'] = np.ceil(calls['duration']).astype(int)\n",
    "calls.head()"
   ]
  },
  {
   "cell_type": "markdown",
   "metadata": {},
   "source": [
    "3) добавим в таблицу **calls** столбец `month`:"
   ]
  },
  {
   "cell_type": "code",
   "execution_count": 46,
   "metadata": {},
   "outputs": [
    {
     "data": {
      "text/html": [
       "<div>\n",
       "<style scoped>\n",
       "    .dataframe tbody tr th:only-of-type {\n",
       "        vertical-align: middle;\n",
       "    }\n",
       "\n",
       "    .dataframe tbody tr th {\n",
       "        vertical-align: top;\n",
       "    }\n",
       "\n",
       "    .dataframe thead th {\n",
       "        text-align: right;\n",
       "    }\n",
       "</style>\n",
       "<table border=\"1\" class=\"dataframe\">\n",
       "  <thead>\n",
       "    <tr style=\"text-align: right;\">\n",
       "      <th></th>\n",
       "      <th>id</th>\n",
       "      <th>call_date</th>\n",
       "      <th>duration</th>\n",
       "      <th>user_id</th>\n",
       "      <th>month</th>\n",
       "    </tr>\n",
       "  </thead>\n",
       "  <tbody>\n",
       "    <tr>\n",
       "      <th>0</th>\n",
       "      <td>1000_0</td>\n",
       "      <td>2018-07-25</td>\n",
       "      <td>0</td>\n",
       "      <td>1000</td>\n",
       "      <td>July</td>\n",
       "    </tr>\n",
       "    <tr>\n",
       "      <th>1</th>\n",
       "      <td>1000_1</td>\n",
       "      <td>2018-08-17</td>\n",
       "      <td>0</td>\n",
       "      <td>1000</td>\n",
       "      <td>August</td>\n",
       "    </tr>\n",
       "    <tr>\n",
       "      <th>2</th>\n",
       "      <td>1000_2</td>\n",
       "      <td>2018-06-11</td>\n",
       "      <td>3</td>\n",
       "      <td>1000</td>\n",
       "      <td>June</td>\n",
       "    </tr>\n",
       "    <tr>\n",
       "      <th>3</th>\n",
       "      <td>1000_3</td>\n",
       "      <td>2018-09-21</td>\n",
       "      <td>14</td>\n",
       "      <td>1000</td>\n",
       "      <td>September</td>\n",
       "    </tr>\n",
       "    <tr>\n",
       "      <th>4</th>\n",
       "      <td>1000_4</td>\n",
       "      <td>2018-12-15</td>\n",
       "      <td>6</td>\n",
       "      <td>1000</td>\n",
       "      <td>December</td>\n",
       "    </tr>\n",
       "  </tbody>\n",
       "</table>\n",
       "</div>"
      ],
      "text/plain": [
       "       id  call_date  duration  user_id      month\n",
       "0  1000_0 2018-07-25         0     1000       July\n",
       "1  1000_1 2018-08-17         0     1000     August\n",
       "2  1000_2 2018-06-11         3     1000       June\n",
       "3  1000_3 2018-09-21        14     1000  September\n",
       "4  1000_4 2018-12-15         6     1000   December"
      ]
     },
     "execution_count": 46,
     "metadata": {},
     "output_type": "execute_result"
    }
   ],
   "source": [
    "calls['month'] = calls['call_date'].dt.month_name()\n",
    "calls.head()"
   ]
  },
  {
   "cell_type": "markdown",
   "metadata": {},
   "source": [
    "4) сгруппируем данные таблицы **calls** по `user_id` и `month` и подсчитем общую продолжительность разговоров и их количество по месяцам для каждого пользователя:"
   ]
  },
  {
   "cell_type": "code",
   "execution_count": 47,
   "metadata": {},
   "outputs": [
    {
     "data": {
      "text/html": [
       "<div>\n",
       "<style scoped>\n",
       "    .dataframe tbody tr th:only-of-type {\n",
       "        vertical-align: middle;\n",
       "    }\n",
       "\n",
       "    .dataframe tbody tr th {\n",
       "        vertical-align: top;\n",
       "    }\n",
       "\n",
       "    .dataframe thead th {\n",
       "        text-align: right;\n",
       "    }\n",
       "</style>\n",
       "<table border=\"1\" class=\"dataframe\">\n",
       "  <thead>\n",
       "    <tr style=\"text-align: right;\">\n",
       "      <th></th>\n",
       "      <th></th>\n",
       "      <th>sum_duration</th>\n",
       "      <th>number_of_calls</th>\n",
       "    </tr>\n",
       "    <tr>\n",
       "      <th>user_id</th>\n",
       "      <th>month</th>\n",
       "      <th></th>\n",
       "      <th></th>\n",
       "    </tr>\n",
       "  </thead>\n",
       "  <tbody>\n",
       "    <tr>\n",
       "      <th rowspan=\"8\" valign=\"top\">1000</th>\n",
       "      <th>August</th>\n",
       "      <td>408</td>\n",
       "      <td>52</td>\n",
       "    </tr>\n",
       "    <tr>\n",
       "      <th>December</th>\n",
       "      <td>333</td>\n",
       "      <td>46</td>\n",
       "    </tr>\n",
       "    <tr>\n",
       "      <th>July</th>\n",
       "      <td>340</td>\n",
       "      <td>47</td>\n",
       "    </tr>\n",
       "    <tr>\n",
       "      <th>June</th>\n",
       "      <td>172</td>\n",
       "      <td>43</td>\n",
       "    </tr>\n",
       "    <tr>\n",
       "      <th>May</th>\n",
       "      <td>159</td>\n",
       "      <td>22</td>\n",
       "    </tr>\n",
       "    <tr>\n",
       "      <th>November</th>\n",
       "      <td>338</td>\n",
       "      <td>43</td>\n",
       "    </tr>\n",
       "    <tr>\n",
       "      <th>October</th>\n",
       "      <td>350</td>\n",
       "      <td>57</td>\n",
       "    </tr>\n",
       "    <tr>\n",
       "      <th>September</th>\n",
       "      <td>466</td>\n",
       "      <td>58</td>\n",
       "    </tr>\n",
       "    <tr>\n",
       "      <th rowspan=\"2\" valign=\"top\">1001</th>\n",
       "      <th>December</th>\n",
       "      <td>414</td>\n",
       "      <td>63</td>\n",
       "    </tr>\n",
       "    <tr>\n",
       "      <th>November</th>\n",
       "      <td>430</td>\n",
       "      <td>59</td>\n",
       "    </tr>\n",
       "  </tbody>\n",
       "</table>\n",
       "</div>"
      ],
      "text/plain": [
       "                   sum_duration  number_of_calls\n",
       "user_id month                                   \n",
       "1000    August              408               52\n",
       "        December            333               46\n",
       "        July                340               47\n",
       "        June                172               43\n",
       "        May                 159               22\n",
       "        November            338               43\n",
       "        October             350               57\n",
       "        September           466               58\n",
       "1001    December            414               63\n",
       "        November            430               59"
      ]
     },
     "execution_count": 47,
     "metadata": {},
     "output_type": "execute_result"
    }
   ],
   "source": [
    "calls_grouped = calls.pivot_table(index=['user_id', 'month'], values='duration', aggfunc=['sum', 'count'])\n",
    "calls_grouped.columns = ['sum_duration', 'number_of_calls']\n",
    "calls_grouped.head(10)"
   ]
  },
  {
   "cell_type": "markdown",
   "metadata": {},
   "source": [
    "5) добавим в таблицу **messages** столбец `month`:"
   ]
  },
  {
   "cell_type": "code",
   "execution_count": 48,
   "metadata": {},
   "outputs": [
    {
     "data": {
      "text/html": [
       "<div>\n",
       "<style scoped>\n",
       "    .dataframe tbody tr th:only-of-type {\n",
       "        vertical-align: middle;\n",
       "    }\n",
       "\n",
       "    .dataframe tbody tr th {\n",
       "        vertical-align: top;\n",
       "    }\n",
       "\n",
       "    .dataframe thead th {\n",
       "        text-align: right;\n",
       "    }\n",
       "</style>\n",
       "<table border=\"1\" class=\"dataframe\">\n",
       "  <thead>\n",
       "    <tr style=\"text-align: right;\">\n",
       "      <th></th>\n",
       "      <th>id</th>\n",
       "      <th>message_date</th>\n",
       "      <th>user_id</th>\n",
       "      <th>month</th>\n",
       "    </tr>\n",
       "  </thead>\n",
       "  <tbody>\n",
       "    <tr>\n",
       "      <th>0</th>\n",
       "      <td>1000_0</td>\n",
       "      <td>2018-06-27</td>\n",
       "      <td>1000</td>\n",
       "      <td>June</td>\n",
       "    </tr>\n",
       "    <tr>\n",
       "      <th>1</th>\n",
       "      <td>1000_1</td>\n",
       "      <td>2018-10-08</td>\n",
       "      <td>1000</td>\n",
       "      <td>October</td>\n",
       "    </tr>\n",
       "    <tr>\n",
       "      <th>2</th>\n",
       "      <td>1000_2</td>\n",
       "      <td>2018-08-04</td>\n",
       "      <td>1000</td>\n",
       "      <td>August</td>\n",
       "    </tr>\n",
       "    <tr>\n",
       "      <th>3</th>\n",
       "      <td>1000_3</td>\n",
       "      <td>2018-06-16</td>\n",
       "      <td>1000</td>\n",
       "      <td>June</td>\n",
       "    </tr>\n",
       "    <tr>\n",
       "      <th>4</th>\n",
       "      <td>1000_4</td>\n",
       "      <td>2018-12-05</td>\n",
       "      <td>1000</td>\n",
       "      <td>December</td>\n",
       "    </tr>\n",
       "  </tbody>\n",
       "</table>\n",
       "</div>"
      ],
      "text/plain": [
       "       id message_date  user_id     month\n",
       "0  1000_0   2018-06-27     1000      June\n",
       "1  1000_1   2018-10-08     1000   October\n",
       "2  1000_2   2018-08-04     1000    August\n",
       "3  1000_3   2018-06-16     1000      June\n",
       "4  1000_4   2018-12-05     1000  December"
      ]
     },
     "execution_count": 48,
     "metadata": {},
     "output_type": "execute_result"
    }
   ],
   "source": [
    "messages['month'] = messages['message_date'].dt.month_name()\n",
    "messages.head()"
   ]
  },
  {
   "cell_type": "markdown",
   "metadata": {},
   "source": [
    "6) сгруппируем данные таблицы **messages** по `user_id` и `month` и подсчитем количество отправленных сообщений по месяцам для каждого пользователя:"
   ]
  },
  {
   "cell_type": "code",
   "execution_count": 49,
   "metadata": {},
   "outputs": [
    {
     "data": {
      "text/html": [
       "<div>\n",
       "<style scoped>\n",
       "    .dataframe tbody tr th:only-of-type {\n",
       "        vertical-align: middle;\n",
       "    }\n",
       "\n",
       "    .dataframe tbody tr th {\n",
       "        vertical-align: top;\n",
       "    }\n",
       "\n",
       "    .dataframe thead th {\n",
       "        text-align: right;\n",
       "    }\n",
       "</style>\n",
       "<table border=\"1\" class=\"dataframe\">\n",
       "  <thead>\n",
       "    <tr style=\"text-align: right;\">\n",
       "      <th></th>\n",
       "      <th></th>\n",
       "      <th>number_of_messages</th>\n",
       "    </tr>\n",
       "    <tr>\n",
       "      <th>user_id</th>\n",
       "      <th>month</th>\n",
       "      <th></th>\n",
       "    </tr>\n",
       "  </thead>\n",
       "  <tbody>\n",
       "    <tr>\n",
       "      <th rowspan=\"8\" valign=\"top\">1000</th>\n",
       "      <th>August</th>\n",
       "      <td>81</td>\n",
       "    </tr>\n",
       "    <tr>\n",
       "      <th>December</th>\n",
       "      <td>70</td>\n",
       "    </tr>\n",
       "    <tr>\n",
       "      <th>July</th>\n",
       "      <td>75</td>\n",
       "    </tr>\n",
       "    <tr>\n",
       "      <th>June</th>\n",
       "      <td>60</td>\n",
       "    </tr>\n",
       "    <tr>\n",
       "      <th>May</th>\n",
       "      <td>22</td>\n",
       "    </tr>\n",
       "    <tr>\n",
       "      <th>November</th>\n",
       "      <td>58</td>\n",
       "    </tr>\n",
       "    <tr>\n",
       "      <th>October</th>\n",
       "      <td>73</td>\n",
       "    </tr>\n",
       "    <tr>\n",
       "      <th>September</th>\n",
       "      <td>57</td>\n",
       "    </tr>\n",
       "    <tr>\n",
       "      <th rowspan=\"2\" valign=\"top\">1002</th>\n",
       "      <th>August</th>\n",
       "      <td>13</td>\n",
       "    </tr>\n",
       "    <tr>\n",
       "      <th>December</th>\n",
       "      <td>12</td>\n",
       "    </tr>\n",
       "  </tbody>\n",
       "</table>\n",
       "</div>"
      ],
      "text/plain": [
       "                   number_of_messages\n",
       "user_id month                        \n",
       "1000    August                     81\n",
       "        December                   70\n",
       "        July                       75\n",
       "        June                       60\n",
       "        May                        22\n",
       "        November                   58\n",
       "        October                    73\n",
       "        September                  57\n",
       "1002    August                     13\n",
       "        December                   12"
      ]
     },
     "execution_count": 49,
     "metadata": {},
     "output_type": "execute_result"
    }
   ],
   "source": [
    "messages_grouped = messages.pivot_table(index=['user_id', 'month'], values='id', aggfunc='count')\n",
    "messages_grouped.columns = ['number_of_messages']\n",
    "messages_grouped.head(10)"
   ]
  },
  {
   "cell_type": "markdown",
   "metadata": {},
   "source": [
    "7) добавим в таблицу **internet** столбец `month`:"
   ]
  },
  {
   "cell_type": "code",
   "execution_count": 50,
   "metadata": {},
   "outputs": [
    {
     "data": {
      "text/html": [
       "<div>\n",
       "<style scoped>\n",
       "    .dataframe tbody tr th:only-of-type {\n",
       "        vertical-align: middle;\n",
       "    }\n",
       "\n",
       "    .dataframe tbody tr th {\n",
       "        vertical-align: top;\n",
       "    }\n",
       "\n",
       "    .dataframe thead th {\n",
       "        text-align: right;\n",
       "    }\n",
       "</style>\n",
       "<table border=\"1\" class=\"dataframe\">\n",
       "  <thead>\n",
       "    <tr style=\"text-align: right;\">\n",
       "      <th></th>\n",
       "      <th>id</th>\n",
       "      <th>mb_used</th>\n",
       "      <th>session_date</th>\n",
       "      <th>user_id</th>\n",
       "      <th>month</th>\n",
       "    </tr>\n",
       "  </thead>\n",
       "  <tbody>\n",
       "    <tr>\n",
       "      <th>0</th>\n",
       "      <td>1000_0</td>\n",
       "      <td>112.95</td>\n",
       "      <td>2018-11-25</td>\n",
       "      <td>1000</td>\n",
       "      <td>November</td>\n",
       "    </tr>\n",
       "    <tr>\n",
       "      <th>1</th>\n",
       "      <td>1000_1</td>\n",
       "      <td>1052.81</td>\n",
       "      <td>2018-09-07</td>\n",
       "      <td>1000</td>\n",
       "      <td>September</td>\n",
       "    </tr>\n",
       "    <tr>\n",
       "      <th>2</th>\n",
       "      <td>1000_2</td>\n",
       "      <td>1197.26</td>\n",
       "      <td>2018-06-25</td>\n",
       "      <td>1000</td>\n",
       "      <td>June</td>\n",
       "    </tr>\n",
       "    <tr>\n",
       "      <th>3</th>\n",
       "      <td>1000_3</td>\n",
       "      <td>550.27</td>\n",
       "      <td>2018-08-22</td>\n",
       "      <td>1000</td>\n",
       "      <td>August</td>\n",
       "    </tr>\n",
       "    <tr>\n",
       "      <th>4</th>\n",
       "      <td>1000_4</td>\n",
       "      <td>302.56</td>\n",
       "      <td>2018-09-24</td>\n",
       "      <td>1000</td>\n",
       "      <td>September</td>\n",
       "    </tr>\n",
       "  </tbody>\n",
       "</table>\n",
       "</div>"
      ],
      "text/plain": [
       "       id  mb_used session_date  user_id      month\n",
       "0  1000_0   112.95   2018-11-25     1000   November\n",
       "1  1000_1  1052.81   2018-09-07     1000  September\n",
       "2  1000_2  1197.26   2018-06-25     1000       June\n",
       "3  1000_3   550.27   2018-08-22     1000     August\n",
       "4  1000_4   302.56   2018-09-24     1000  September"
      ]
     },
     "execution_count": 50,
     "metadata": {},
     "output_type": "execute_result"
    }
   ],
   "source": [
    "internet['month'] = internet['session_date'].dt.month_name()\n",
    "internet.head()"
   ]
  },
  {
   "cell_type": "markdown",
   "metadata": {},
   "source": [
    "8) сгруппируем данные таблицы **internet** по `user_id` и `month` и подсчитем объем израсходованного интернет-трафика по месяцам для каждого пользователя:"
   ]
  },
  {
   "cell_type": "code",
   "execution_count": 51,
   "metadata": {},
   "outputs": [
    {
     "data": {
      "text/html": [
       "<div>\n",
       "<style scoped>\n",
       "    .dataframe tbody tr th:only-of-type {\n",
       "        vertical-align: middle;\n",
       "    }\n",
       "\n",
       "    .dataframe tbody tr th {\n",
       "        vertical-align: top;\n",
       "    }\n",
       "\n",
       "    .dataframe thead th {\n",
       "        text-align: right;\n",
       "    }\n",
       "</style>\n",
       "<table border=\"1\" class=\"dataframe\">\n",
       "  <thead>\n",
       "    <tr style=\"text-align: right;\">\n",
       "      <th></th>\n",
       "      <th></th>\n",
       "      <th>mb_used</th>\n",
       "    </tr>\n",
       "    <tr>\n",
       "      <th>user_id</th>\n",
       "      <th>month</th>\n",
       "      <th></th>\n",
       "    </tr>\n",
       "  </thead>\n",
       "  <tbody>\n",
       "    <tr>\n",
       "      <th rowspan=\"8\" valign=\"top\">1000</th>\n",
       "      <th>August</th>\n",
       "      <td>14055.93</td>\n",
       "    </tr>\n",
       "    <tr>\n",
       "      <th>December</th>\n",
       "      <td>9817.61</td>\n",
       "    </tr>\n",
       "    <tr>\n",
       "      <th>July</th>\n",
       "      <td>14003.64</td>\n",
       "    </tr>\n",
       "    <tr>\n",
       "      <th>June</th>\n",
       "      <td>23233.77</td>\n",
       "    </tr>\n",
       "    <tr>\n",
       "      <th>May</th>\n",
       "      <td>2253.49</td>\n",
       "    </tr>\n",
       "    <tr>\n",
       "      <th>November</th>\n",
       "      <td>14756.47</td>\n",
       "    </tr>\n",
       "    <tr>\n",
       "      <th>October</th>\n",
       "      <td>14702.49</td>\n",
       "    </tr>\n",
       "    <tr>\n",
       "      <th>September</th>\n",
       "      <td>14568.91</td>\n",
       "    </tr>\n",
       "    <tr>\n",
       "      <th rowspan=\"2\" valign=\"top\">1001</th>\n",
       "      <th>December</th>\n",
       "      <td>14036.66</td>\n",
       "    </tr>\n",
       "    <tr>\n",
       "      <th>November</th>\n",
       "      <td>18429.34</td>\n",
       "    </tr>\n",
       "  </tbody>\n",
       "</table>\n",
       "</div>"
      ],
      "text/plain": [
       "                    mb_used\n",
       "user_id month              \n",
       "1000    August     14055.93\n",
       "        December    9817.61\n",
       "        July       14003.64\n",
       "        June       23233.77\n",
       "        May         2253.49\n",
       "        November   14756.47\n",
       "        October    14702.49\n",
       "        September  14568.91\n",
       "1001    December   14036.66\n",
       "        November   18429.34"
      ]
     },
     "execution_count": 51,
     "metadata": {},
     "output_type": "execute_result"
    }
   ],
   "source": [
    "internet_grouped = internet.pivot_table(index=['user_id', 'month'], values='mb_used', aggfunc='sum')\n",
    "internet_grouped.head(10)"
   ]
  },
  {
   "cell_type": "markdown",
   "metadata": {},
   "source": [
    "Переведем мегабайты в гигабайты и округлим значения в большую сторону:"
   ]
  },
  {
   "cell_type": "code",
   "execution_count": 52,
   "metadata": {},
   "outputs": [
    {
     "data": {
      "text/html": [
       "<div>\n",
       "<style scoped>\n",
       "    .dataframe tbody tr th:only-of-type {\n",
       "        vertical-align: middle;\n",
       "    }\n",
       "\n",
       "    .dataframe tbody tr th {\n",
       "        vertical-align: top;\n",
       "    }\n",
       "\n",
       "    .dataframe thead th {\n",
       "        text-align: right;\n",
       "    }\n",
       "</style>\n",
       "<table border=\"1\" class=\"dataframe\">\n",
       "  <thead>\n",
       "    <tr style=\"text-align: right;\">\n",
       "      <th></th>\n",
       "      <th></th>\n",
       "      <th>gb_used</th>\n",
       "    </tr>\n",
       "    <tr>\n",
       "      <th>user_id</th>\n",
       "      <th>month</th>\n",
       "      <th></th>\n",
       "    </tr>\n",
       "  </thead>\n",
       "  <tbody>\n",
       "    <tr>\n",
       "      <th rowspan=\"8\" valign=\"top\">1000</th>\n",
       "      <th>August</th>\n",
       "      <td>14</td>\n",
       "    </tr>\n",
       "    <tr>\n",
       "      <th>December</th>\n",
       "      <td>10</td>\n",
       "    </tr>\n",
       "    <tr>\n",
       "      <th>July</th>\n",
       "      <td>14</td>\n",
       "    </tr>\n",
       "    <tr>\n",
       "      <th>June</th>\n",
       "      <td>23</td>\n",
       "    </tr>\n",
       "    <tr>\n",
       "      <th>May</th>\n",
       "      <td>3</td>\n",
       "    </tr>\n",
       "    <tr>\n",
       "      <th>November</th>\n",
       "      <td>15</td>\n",
       "    </tr>\n",
       "    <tr>\n",
       "      <th>October</th>\n",
       "      <td>15</td>\n",
       "    </tr>\n",
       "    <tr>\n",
       "      <th>September</th>\n",
       "      <td>15</td>\n",
       "    </tr>\n",
       "    <tr>\n",
       "      <th rowspan=\"2\" valign=\"top\">1001</th>\n",
       "      <th>December</th>\n",
       "      <td>14</td>\n",
       "    </tr>\n",
       "    <tr>\n",
       "      <th>November</th>\n",
       "      <td>18</td>\n",
       "    </tr>\n",
       "  </tbody>\n",
       "</table>\n",
       "</div>"
      ],
      "text/plain": [
       "                   gb_used\n",
       "user_id month             \n",
       "1000    August          14\n",
       "        December        10\n",
       "        July            14\n",
       "        June            23\n",
       "        May              3\n",
       "        November        15\n",
       "        October         15\n",
       "        September       15\n",
       "1001    December        14\n",
       "        November        18"
      ]
     },
     "execution_count": 52,
     "metadata": {},
     "output_type": "execute_result"
    }
   ],
   "source": [
    "internet_grouped['mb_used'] = np.ceil(internet_grouped['mb_used'] / 1024).astype('int')\n",
    "internet_grouped.columns = ['gb_used']\n",
    "internet_grouped.head(10)"
   ]
  },
  {
   "cell_type": "markdown",
   "metadata": {},
   "source": [
    "9) объединим таблицы **calls_grouped**, **messages_grouped** и **internet_grouped**:"
   ]
  },
  {
   "cell_type": "code",
   "execution_count": 64,
   "metadata": {},
   "outputs": [
    {
     "data": {
      "text/html": [
       "<div>\n",
       "<style scoped>\n",
       "    .dataframe tbody tr th:only-of-type {\n",
       "        vertical-align: middle;\n",
       "    }\n",
       "\n",
       "    .dataframe tbody tr th {\n",
       "        vertical-align: top;\n",
       "    }\n",
       "\n",
       "    .dataframe thead th {\n",
       "        text-align: right;\n",
       "    }\n",
       "</style>\n",
       "<table border=\"1\" class=\"dataframe\">\n",
       "  <thead>\n",
       "    <tr style=\"text-align: right;\">\n",
       "      <th></th>\n",
       "      <th></th>\n",
       "      <th>sum_duration</th>\n",
       "      <th>number_of_calls</th>\n",
       "      <th>number_of_messages</th>\n",
       "      <th>gb_used</th>\n",
       "    </tr>\n",
       "    <tr>\n",
       "      <th>user_id</th>\n",
       "      <th>month</th>\n",
       "      <th></th>\n",
       "      <th></th>\n",
       "      <th></th>\n",
       "      <th></th>\n",
       "    </tr>\n",
       "  </thead>\n",
       "  <tbody>\n",
       "    <tr>\n",
       "      <th rowspan=\"8\" valign=\"top\">1000</th>\n",
       "      <th>August</th>\n",
       "      <td>408</td>\n",
       "      <td>52</td>\n",
       "      <td>81.0</td>\n",
       "      <td>14.0</td>\n",
       "    </tr>\n",
       "    <tr>\n",
       "      <th>December</th>\n",
       "      <td>333</td>\n",
       "      <td>46</td>\n",
       "      <td>70.0</td>\n",
       "      <td>10.0</td>\n",
       "    </tr>\n",
       "    <tr>\n",
       "      <th>July</th>\n",
       "      <td>340</td>\n",
       "      <td>47</td>\n",
       "      <td>75.0</td>\n",
       "      <td>14.0</td>\n",
       "    </tr>\n",
       "    <tr>\n",
       "      <th>June</th>\n",
       "      <td>172</td>\n",
       "      <td>43</td>\n",
       "      <td>60.0</td>\n",
       "      <td>23.0</td>\n",
       "    </tr>\n",
       "    <tr>\n",
       "      <th>May</th>\n",
       "      <td>159</td>\n",
       "      <td>22</td>\n",
       "      <td>22.0</td>\n",
       "      <td>3.0</td>\n",
       "    </tr>\n",
       "    <tr>\n",
       "      <th>November</th>\n",
       "      <td>338</td>\n",
       "      <td>43</td>\n",
       "      <td>58.0</td>\n",
       "      <td>15.0</td>\n",
       "    </tr>\n",
       "    <tr>\n",
       "      <th>October</th>\n",
       "      <td>350</td>\n",
       "      <td>57</td>\n",
       "      <td>73.0</td>\n",
       "      <td>15.0</td>\n",
       "    </tr>\n",
       "    <tr>\n",
       "      <th>September</th>\n",
       "      <td>466</td>\n",
       "      <td>58</td>\n",
       "      <td>57.0</td>\n",
       "      <td>15.0</td>\n",
       "    </tr>\n",
       "    <tr>\n",
       "      <th rowspan=\"2\" valign=\"top\">1001</th>\n",
       "      <th>December</th>\n",
       "      <td>414</td>\n",
       "      <td>63</td>\n",
       "      <td>NaN</td>\n",
       "      <td>14.0</td>\n",
       "    </tr>\n",
       "    <tr>\n",
       "      <th>November</th>\n",
       "      <td>430</td>\n",
       "      <td>59</td>\n",
       "      <td>NaN</td>\n",
       "      <td>18.0</td>\n",
       "    </tr>\n",
       "  </tbody>\n",
       "</table>\n",
       "</div>"
      ],
      "text/plain": [
       "                   sum_duration  number_of_calls  number_of_messages  gb_used\n",
       "user_id month                                                                \n",
       "1000    August              408               52                81.0     14.0\n",
       "        December            333               46                70.0     10.0\n",
       "        July                340               47                75.0     14.0\n",
       "        June                172               43                60.0     23.0\n",
       "        May                 159               22                22.0      3.0\n",
       "        November            338               43                58.0     15.0\n",
       "        October             350               57                73.0     15.0\n",
       "        September           466               58                57.0     15.0\n",
       "1001    December            414               63                 NaN     14.0\n",
       "        November            430               59                 NaN     18.0"
      ]
     },
     "metadata": {},
     "output_type": "display_data"
    },
    {
     "name": "stdout",
     "output_type": "stream",
     "text": [
      "<class 'pandas.core.frame.DataFrame'>\n",
      "MultiIndex: 3174 entries, (1000, 'August') to (1499, 'September')\n",
      "Data columns (total 4 columns):\n",
      " #   Column              Non-Null Count  Dtype  \n",
      "---  ------              --------------  -----  \n",
      " 0   sum_duration        3174 non-null   int64  \n",
      " 1   number_of_calls     3174 non-null   int64  \n",
      " 2   number_of_messages  2678 non-null   float64\n",
      " 3   gb_used             3163 non-null   float64\n",
      "dtypes: float64(2), int64(2)\n",
      "memory usage: 129.0+ KB\n"
     ]
    }
   ],
   "source": [
    "data_frames = [calls_grouped, messages_grouped, internet_grouped]\n",
    "revenue = reduce(lambda left,right: pd.merge(left,right,on=['user_id', 'month'],\n",
    "                                            how='left'), data_frames)\n",
    "display(revenue.head(10))\n",
    "revenue.info()"
   ]
  },
  {
   "cell_type": "markdown",
   "metadata": {},
   "source": [
    "В объединенной таблице пропуски в столбцах `number_of_messages` и `gb_used`, так как пользователь мог не отправлять sms или не использовать мобильный интернет в какой-то из месяцов. Заполним эти пропуски нулями:"
   ]
  },
  {
   "cell_type": "code",
   "execution_count": 65,
   "metadata": {},
   "outputs": [
    {
     "name": "stdout",
     "output_type": "stream",
     "text": [
      "<class 'pandas.core.frame.DataFrame'>\n",
      "RangeIndex: 3174 entries, 0 to 3173\n",
      "Data columns (total 6 columns):\n",
      " #   Column              Non-Null Count  Dtype \n",
      "---  ------              --------------  ----- \n",
      " 0   user_id             3174 non-null   int64 \n",
      " 1   month               3174 non-null   object\n",
      " 2   sum_duration        3174 non-null   int64 \n",
      " 3   number_of_calls     3174 non-null   int64 \n",
      " 4   number_of_messages  3174 non-null   int64 \n",
      " 5   gb_used             3174 non-null   int64 \n",
      "dtypes: int64(5), object(1)\n",
      "memory usage: 148.9+ KB\n"
     ]
    }
   ],
   "source": [
    "revenue['number_of_messages'] = revenue['number_of_messages'].fillna(0).astype('int')\n",
    "revenue['gb_used'] = revenue['gb_used'].fillna(0).astype('int')\n",
    "revenue = revenue.reset_index()\n",
    "revenue.info()"
   ]
  },
  {
   "cell_type": "markdown",
   "metadata": {},
   "source": [
    "Создадим датафрейм с идентификатор пользователя и его тарифом:"
   ]
  },
  {
   "cell_type": "code",
   "execution_count": 66,
   "metadata": {},
   "outputs": [
    {
     "data": {
      "text/html": [
       "<div>\n",
       "<style scoped>\n",
       "    .dataframe tbody tr th:only-of-type {\n",
       "        vertical-align: middle;\n",
       "    }\n",
       "\n",
       "    .dataframe tbody tr th {\n",
       "        vertical-align: top;\n",
       "    }\n",
       "\n",
       "    .dataframe thead th {\n",
       "        text-align: right;\n",
       "    }\n",
       "</style>\n",
       "<table border=\"1\" class=\"dataframe\">\n",
       "  <thead>\n",
       "    <tr style=\"text-align: right;\">\n",
       "      <th></th>\n",
       "      <th>user_id</th>\n",
       "      <th>tariff_name</th>\n",
       "    </tr>\n",
       "  </thead>\n",
       "  <tbody>\n",
       "    <tr>\n",
       "      <th>0</th>\n",
       "      <td>1000</td>\n",
       "      <td>ultra</td>\n",
       "    </tr>\n",
       "    <tr>\n",
       "      <th>1</th>\n",
       "      <td>1001</td>\n",
       "      <td>smart</td>\n",
       "    </tr>\n",
       "    <tr>\n",
       "      <th>2</th>\n",
       "      <td>1002</td>\n",
       "      <td>smart</td>\n",
       "    </tr>\n",
       "    <tr>\n",
       "      <th>3</th>\n",
       "      <td>1003</td>\n",
       "      <td>ultra</td>\n",
       "    </tr>\n",
       "    <tr>\n",
       "      <th>4</th>\n",
       "      <td>1004</td>\n",
       "      <td>ultra</td>\n",
       "    </tr>\n",
       "  </tbody>\n",
       "</table>\n",
       "</div>"
      ],
      "text/plain": [
       "   user_id tariff_name\n",
       "0     1000       ultra\n",
       "1     1001       smart\n",
       "2     1002       smart\n",
       "3     1003       ultra\n",
       "4     1004       ultra"
      ]
     },
     "execution_count": 66,
     "metadata": {},
     "output_type": "execute_result"
    }
   ],
   "source": [
    "users_tariff = users[['user_id', 'tariff']]\n",
    "users_tariff.columns=['user_id', 'tariff_name']\n",
    "users_tariff = users_tariff.drop_duplicates().reset_index(drop=True)\n",
    "users_tariff.head()"
   ]
  },
  {
   "cell_type": "markdown",
   "metadata": {},
   "source": [
    "Объединим датафреймы **revenue** и **users_tariff**:"
   ]
  },
  {
   "cell_type": "code",
   "execution_count": 67,
   "metadata": {
    "scrolled": true
   },
   "outputs": [
    {
     "data": {
      "text/html": [
       "<div>\n",
       "<style scoped>\n",
       "    .dataframe tbody tr th:only-of-type {\n",
       "        vertical-align: middle;\n",
       "    }\n",
       "\n",
       "    .dataframe tbody tr th {\n",
       "        vertical-align: top;\n",
       "    }\n",
       "\n",
       "    .dataframe thead th {\n",
       "        text-align: right;\n",
       "    }\n",
       "</style>\n",
       "<table border=\"1\" class=\"dataframe\">\n",
       "  <thead>\n",
       "    <tr style=\"text-align: right;\">\n",
       "      <th></th>\n",
       "      <th>user_id</th>\n",
       "      <th>month</th>\n",
       "      <th>sum_duration</th>\n",
       "      <th>number_of_calls</th>\n",
       "      <th>number_of_messages</th>\n",
       "      <th>gb_used</th>\n",
       "      <th>tariff_name</th>\n",
       "    </tr>\n",
       "  </thead>\n",
       "  <tbody>\n",
       "    <tr>\n",
       "      <th>0</th>\n",
       "      <td>1000</td>\n",
       "      <td>August</td>\n",
       "      <td>408</td>\n",
       "      <td>52</td>\n",
       "      <td>81</td>\n",
       "      <td>14</td>\n",
       "      <td>ultra</td>\n",
       "    </tr>\n",
       "    <tr>\n",
       "      <th>1</th>\n",
       "      <td>1000</td>\n",
       "      <td>December</td>\n",
       "      <td>333</td>\n",
       "      <td>46</td>\n",
       "      <td>70</td>\n",
       "      <td>10</td>\n",
       "      <td>ultra</td>\n",
       "    </tr>\n",
       "    <tr>\n",
       "      <th>2</th>\n",
       "      <td>1000</td>\n",
       "      <td>July</td>\n",
       "      <td>340</td>\n",
       "      <td>47</td>\n",
       "      <td>75</td>\n",
       "      <td>14</td>\n",
       "      <td>ultra</td>\n",
       "    </tr>\n",
       "    <tr>\n",
       "      <th>3</th>\n",
       "      <td>1000</td>\n",
       "      <td>June</td>\n",
       "      <td>172</td>\n",
       "      <td>43</td>\n",
       "      <td>60</td>\n",
       "      <td>23</td>\n",
       "      <td>ultra</td>\n",
       "    </tr>\n",
       "    <tr>\n",
       "      <th>4</th>\n",
       "      <td>1000</td>\n",
       "      <td>May</td>\n",
       "      <td>159</td>\n",
       "      <td>22</td>\n",
       "      <td>22</td>\n",
       "      <td>3</td>\n",
       "      <td>ultra</td>\n",
       "    </tr>\n",
       "  </tbody>\n",
       "</table>\n",
       "</div>"
      ],
      "text/plain": [
       "   user_id     month  sum_duration  number_of_calls  number_of_messages  \\\n",
       "0     1000    August           408               52                  81   \n",
       "1     1000  December           333               46                  70   \n",
       "2     1000      July           340               47                  75   \n",
       "3     1000      June           172               43                  60   \n",
       "4     1000       May           159               22                  22   \n",
       "\n",
       "   gb_used tariff_name  \n",
       "0       14       ultra  \n",
       "1       10       ultra  \n",
       "2       14       ultra  \n",
       "3       23       ultra  \n",
       "4        3       ultra  "
      ]
     },
     "execution_count": 67,
     "metadata": {},
     "output_type": "execute_result"
    }
   ],
   "source": [
    "revenue = revenue.merge(users_tariff, on='user_id', how='left')\n",
    "revenue.head()"
   ]
  },
  {
   "cell_type": "markdown",
   "metadata": {},
   "source": [
    "Для удобства дальнейших расчетов объединим датафреймы **revenue** и **tariffs**: "
   ]
  },
  {
   "cell_type": "code",
   "execution_count": 68,
   "metadata": {},
   "outputs": [
    {
     "data": {
      "text/html": [
       "<div>\n",
       "<style scoped>\n",
       "    .dataframe tbody tr th:only-of-type {\n",
       "        vertical-align: middle;\n",
       "    }\n",
       "\n",
       "    .dataframe tbody tr th {\n",
       "        vertical-align: top;\n",
       "    }\n",
       "\n",
       "    .dataframe thead th {\n",
       "        text-align: right;\n",
       "    }\n",
       "</style>\n",
       "<table border=\"1\" class=\"dataframe\">\n",
       "  <thead>\n",
       "    <tr style=\"text-align: right;\">\n",
       "      <th></th>\n",
       "      <th>user_id</th>\n",
       "      <th>month</th>\n",
       "      <th>sum_duration</th>\n",
       "      <th>number_of_calls</th>\n",
       "      <th>number_of_messages</th>\n",
       "      <th>gb_used</th>\n",
       "      <th>tariff_name</th>\n",
       "      <th>messages_included</th>\n",
       "      <th>mb_per_month_included</th>\n",
       "      <th>minutes_included</th>\n",
       "      <th>rub_monthly_fee</th>\n",
       "      <th>rub_per_gb</th>\n",
       "      <th>rub_per_message</th>\n",
       "      <th>rub_per_minute</th>\n",
       "    </tr>\n",
       "  </thead>\n",
       "  <tbody>\n",
       "    <tr>\n",
       "      <th>0</th>\n",
       "      <td>1000</td>\n",
       "      <td>August</td>\n",
       "      <td>408</td>\n",
       "      <td>52</td>\n",
       "      <td>81</td>\n",
       "      <td>14</td>\n",
       "      <td>ultra</td>\n",
       "      <td>1000</td>\n",
       "      <td>30720</td>\n",
       "      <td>3000</td>\n",
       "      <td>1950</td>\n",
       "      <td>150</td>\n",
       "      <td>1</td>\n",
       "      <td>1</td>\n",
       "    </tr>\n",
       "    <tr>\n",
       "      <th>1</th>\n",
       "      <td>1000</td>\n",
       "      <td>December</td>\n",
       "      <td>333</td>\n",
       "      <td>46</td>\n",
       "      <td>70</td>\n",
       "      <td>10</td>\n",
       "      <td>ultra</td>\n",
       "      <td>1000</td>\n",
       "      <td>30720</td>\n",
       "      <td>3000</td>\n",
       "      <td>1950</td>\n",
       "      <td>150</td>\n",
       "      <td>1</td>\n",
       "      <td>1</td>\n",
       "    </tr>\n",
       "    <tr>\n",
       "      <th>2</th>\n",
       "      <td>1000</td>\n",
       "      <td>July</td>\n",
       "      <td>340</td>\n",
       "      <td>47</td>\n",
       "      <td>75</td>\n",
       "      <td>14</td>\n",
       "      <td>ultra</td>\n",
       "      <td>1000</td>\n",
       "      <td>30720</td>\n",
       "      <td>3000</td>\n",
       "      <td>1950</td>\n",
       "      <td>150</td>\n",
       "      <td>1</td>\n",
       "      <td>1</td>\n",
       "    </tr>\n",
       "    <tr>\n",
       "      <th>3</th>\n",
       "      <td>1000</td>\n",
       "      <td>June</td>\n",
       "      <td>172</td>\n",
       "      <td>43</td>\n",
       "      <td>60</td>\n",
       "      <td>23</td>\n",
       "      <td>ultra</td>\n",
       "      <td>1000</td>\n",
       "      <td>30720</td>\n",
       "      <td>3000</td>\n",
       "      <td>1950</td>\n",
       "      <td>150</td>\n",
       "      <td>1</td>\n",
       "      <td>1</td>\n",
       "    </tr>\n",
       "    <tr>\n",
       "      <th>4</th>\n",
       "      <td>1000</td>\n",
       "      <td>May</td>\n",
       "      <td>159</td>\n",
       "      <td>22</td>\n",
       "      <td>22</td>\n",
       "      <td>3</td>\n",
       "      <td>ultra</td>\n",
       "      <td>1000</td>\n",
       "      <td>30720</td>\n",
       "      <td>3000</td>\n",
       "      <td>1950</td>\n",
       "      <td>150</td>\n",
       "      <td>1</td>\n",
       "      <td>1</td>\n",
       "    </tr>\n",
       "  </tbody>\n",
       "</table>\n",
       "</div>"
      ],
      "text/plain": [
       "   user_id     month  sum_duration  number_of_calls  number_of_messages  \\\n",
       "0     1000    August           408               52                  81   \n",
       "1     1000  December           333               46                  70   \n",
       "2     1000      July           340               47                  75   \n",
       "3     1000      June           172               43                  60   \n",
       "4     1000       May           159               22                  22   \n",
       "\n",
       "   gb_used tariff_name  messages_included  mb_per_month_included  \\\n",
       "0       14       ultra               1000                  30720   \n",
       "1       10       ultra               1000                  30720   \n",
       "2       14       ultra               1000                  30720   \n",
       "3       23       ultra               1000                  30720   \n",
       "4        3       ultra               1000                  30720   \n",
       "\n",
       "   minutes_included  rub_monthly_fee  rub_per_gb  rub_per_message  \\\n",
       "0              3000             1950         150                1   \n",
       "1              3000             1950         150                1   \n",
       "2              3000             1950         150                1   \n",
       "3              3000             1950         150                1   \n",
       "4              3000             1950         150                1   \n",
       "\n",
       "   rub_per_minute  \n",
       "0               1  \n",
       "1               1  \n",
       "2               1  \n",
       "3               1  \n",
       "4               1  "
      ]
     },
     "execution_count": 68,
     "metadata": {},
     "output_type": "execute_result"
    }
   ],
   "source": [
    "revenue = revenue.merge(tariffs, on='tariff_name', how='left')\n",
    "revenue.head()"
   ]
  },
  {
   "cell_type": "markdown",
   "metadata": {},
   "source": [
    "10) рассчиаем и добавим в таблицу помесячную выручку с каждого пользователя:"
   ]
  },
  {
   "cell_type": "code",
   "execution_count": 69,
   "metadata": {},
   "outputs": [
    {
     "data": {
      "text/html": [
       "<div>\n",
       "<style scoped>\n",
       "    .dataframe tbody tr th:only-of-type {\n",
       "        vertical-align: middle;\n",
       "    }\n",
       "\n",
       "    .dataframe tbody tr th {\n",
       "        vertical-align: top;\n",
       "    }\n",
       "\n",
       "    .dataframe thead th {\n",
       "        text-align: right;\n",
       "    }\n",
       "</style>\n",
       "<table border=\"1\" class=\"dataframe\">\n",
       "  <thead>\n",
       "    <tr style=\"text-align: right;\">\n",
       "      <th></th>\n",
       "      <th>user_id</th>\n",
       "      <th>month</th>\n",
       "      <th>sum_duration</th>\n",
       "      <th>number_of_calls</th>\n",
       "      <th>number_of_messages</th>\n",
       "      <th>gb_used</th>\n",
       "      <th>tariff_name</th>\n",
       "      <th>messages_included</th>\n",
       "      <th>mb_per_month_included</th>\n",
       "      <th>minutes_included</th>\n",
       "      <th>rub_monthly_fee</th>\n",
       "      <th>rub_per_gb</th>\n",
       "      <th>rub_per_message</th>\n",
       "      <th>rub_per_minute</th>\n",
       "      <th>calls_purchase</th>\n",
       "    </tr>\n",
       "  </thead>\n",
       "  <tbody>\n",
       "    <tr>\n",
       "      <th>0</th>\n",
       "      <td>1000</td>\n",
       "      <td>August</td>\n",
       "      <td>408</td>\n",
       "      <td>52</td>\n",
       "      <td>81</td>\n",
       "      <td>14</td>\n",
       "      <td>ultra</td>\n",
       "      <td>1000</td>\n",
       "      <td>30720</td>\n",
       "      <td>3000</td>\n",
       "      <td>1950</td>\n",
       "      <td>150</td>\n",
       "      <td>1</td>\n",
       "      <td>1</td>\n",
       "      <td>-2592</td>\n",
       "    </tr>\n",
       "    <tr>\n",
       "      <th>1</th>\n",
       "      <td>1000</td>\n",
       "      <td>December</td>\n",
       "      <td>333</td>\n",
       "      <td>46</td>\n",
       "      <td>70</td>\n",
       "      <td>10</td>\n",
       "      <td>ultra</td>\n",
       "      <td>1000</td>\n",
       "      <td>30720</td>\n",
       "      <td>3000</td>\n",
       "      <td>1950</td>\n",
       "      <td>150</td>\n",
       "      <td>1</td>\n",
       "      <td>1</td>\n",
       "      <td>-2667</td>\n",
       "    </tr>\n",
       "    <tr>\n",
       "      <th>2</th>\n",
       "      <td>1000</td>\n",
       "      <td>July</td>\n",
       "      <td>340</td>\n",
       "      <td>47</td>\n",
       "      <td>75</td>\n",
       "      <td>14</td>\n",
       "      <td>ultra</td>\n",
       "      <td>1000</td>\n",
       "      <td>30720</td>\n",
       "      <td>3000</td>\n",
       "      <td>1950</td>\n",
       "      <td>150</td>\n",
       "      <td>1</td>\n",
       "      <td>1</td>\n",
       "      <td>-2660</td>\n",
       "    </tr>\n",
       "    <tr>\n",
       "      <th>3</th>\n",
       "      <td>1000</td>\n",
       "      <td>June</td>\n",
       "      <td>172</td>\n",
       "      <td>43</td>\n",
       "      <td>60</td>\n",
       "      <td>23</td>\n",
       "      <td>ultra</td>\n",
       "      <td>1000</td>\n",
       "      <td>30720</td>\n",
       "      <td>3000</td>\n",
       "      <td>1950</td>\n",
       "      <td>150</td>\n",
       "      <td>1</td>\n",
       "      <td>1</td>\n",
       "      <td>-2828</td>\n",
       "    </tr>\n",
       "    <tr>\n",
       "      <th>4</th>\n",
       "      <td>1000</td>\n",
       "      <td>May</td>\n",
       "      <td>159</td>\n",
       "      <td>22</td>\n",
       "      <td>22</td>\n",
       "      <td>3</td>\n",
       "      <td>ultra</td>\n",
       "      <td>1000</td>\n",
       "      <td>30720</td>\n",
       "      <td>3000</td>\n",
       "      <td>1950</td>\n",
       "      <td>150</td>\n",
       "      <td>1</td>\n",
       "      <td>1</td>\n",
       "      <td>-2841</td>\n",
       "    </tr>\n",
       "  </tbody>\n",
       "</table>\n",
       "</div>"
      ],
      "text/plain": [
       "   user_id     month  sum_duration  number_of_calls  number_of_messages  \\\n",
       "0     1000    August           408               52                  81   \n",
       "1     1000  December           333               46                  70   \n",
       "2     1000      July           340               47                  75   \n",
       "3     1000      June           172               43                  60   \n",
       "4     1000       May           159               22                  22   \n",
       "\n",
       "   gb_used tariff_name  messages_included  mb_per_month_included  \\\n",
       "0       14       ultra               1000                  30720   \n",
       "1       10       ultra               1000                  30720   \n",
       "2       14       ultra               1000                  30720   \n",
       "3       23       ultra               1000                  30720   \n",
       "4        3       ultra               1000                  30720   \n",
       "\n",
       "   minutes_included  rub_monthly_fee  rub_per_gb  rub_per_message  \\\n",
       "0              3000             1950         150                1   \n",
       "1              3000             1950         150                1   \n",
       "2              3000             1950         150                1   \n",
       "3              3000             1950         150                1   \n",
       "4              3000             1950         150                1   \n",
       "\n",
       "   rub_per_minute  calls_purchase  \n",
       "0               1           -2592  \n",
       "1               1           -2667  \n",
       "2               1           -2660  \n",
       "3               1           -2828  \n",
       "4               1           -2841  "
      ]
     },
     "execution_count": 69,
     "metadata": {},
     "output_type": "execute_result"
    }
   ],
   "source": [
    "revenue['calls_purchase'] = revenue['sum_duration'] - revenue['minutes_included']    #  вычитаем бесплатный лимит из суммарного количества звонков \n",
    "revenue.head()                                             "
   ]
  },
  {
   "cell_type": "markdown",
   "metadata": {},
   "source": [
    "Если лимит минут не исчерпан, то значения в столбце будут отрицательными, и дополнительная плата за звонки взыматься не будет, поэтому для верных расчетов лучше заменить эти значения на 0."
   ]
  },
  {
   "cell_type": "code",
   "execution_count": 70,
   "metadata": {
    "scrolled": true
   },
   "outputs": [
    {
     "data": {
      "text/html": [
       "<div>\n",
       "<style scoped>\n",
       "    .dataframe tbody tr th:only-of-type {\n",
       "        vertical-align: middle;\n",
       "    }\n",
       "\n",
       "    .dataframe tbody tr th {\n",
       "        vertical-align: top;\n",
       "    }\n",
       "\n",
       "    .dataframe thead th {\n",
       "        text-align: right;\n",
       "    }\n",
       "</style>\n",
       "<table border=\"1\" class=\"dataframe\">\n",
       "  <thead>\n",
       "    <tr style=\"text-align: right;\">\n",
       "      <th></th>\n",
       "      <th>user_id</th>\n",
       "      <th>month</th>\n",
       "      <th>sum_duration</th>\n",
       "      <th>number_of_calls</th>\n",
       "      <th>number_of_messages</th>\n",
       "      <th>gb_used</th>\n",
       "      <th>tariff_name</th>\n",
       "      <th>messages_included</th>\n",
       "      <th>mb_per_month_included</th>\n",
       "      <th>minutes_included</th>\n",
       "      <th>rub_monthly_fee</th>\n",
       "      <th>rub_per_gb</th>\n",
       "      <th>rub_per_message</th>\n",
       "      <th>rub_per_minute</th>\n",
       "      <th>calls_purchase</th>\n",
       "    </tr>\n",
       "  </thead>\n",
       "  <tbody>\n",
       "    <tr>\n",
       "      <th>0</th>\n",
       "      <td>1000</td>\n",
       "      <td>August</td>\n",
       "      <td>408</td>\n",
       "      <td>52</td>\n",
       "      <td>81</td>\n",
       "      <td>14</td>\n",
       "      <td>ultra</td>\n",
       "      <td>1000</td>\n",
       "      <td>30720</td>\n",
       "      <td>3000</td>\n",
       "      <td>1950</td>\n",
       "      <td>150</td>\n",
       "      <td>1</td>\n",
       "      <td>1</td>\n",
       "      <td>0</td>\n",
       "    </tr>\n",
       "    <tr>\n",
       "      <th>1</th>\n",
       "      <td>1000</td>\n",
       "      <td>December</td>\n",
       "      <td>333</td>\n",
       "      <td>46</td>\n",
       "      <td>70</td>\n",
       "      <td>10</td>\n",
       "      <td>ultra</td>\n",
       "      <td>1000</td>\n",
       "      <td>30720</td>\n",
       "      <td>3000</td>\n",
       "      <td>1950</td>\n",
       "      <td>150</td>\n",
       "      <td>1</td>\n",
       "      <td>1</td>\n",
       "      <td>0</td>\n",
       "    </tr>\n",
       "    <tr>\n",
       "      <th>2</th>\n",
       "      <td>1000</td>\n",
       "      <td>July</td>\n",
       "      <td>340</td>\n",
       "      <td>47</td>\n",
       "      <td>75</td>\n",
       "      <td>14</td>\n",
       "      <td>ultra</td>\n",
       "      <td>1000</td>\n",
       "      <td>30720</td>\n",
       "      <td>3000</td>\n",
       "      <td>1950</td>\n",
       "      <td>150</td>\n",
       "      <td>1</td>\n",
       "      <td>1</td>\n",
       "      <td>0</td>\n",
       "    </tr>\n",
       "    <tr>\n",
       "      <th>3</th>\n",
       "      <td>1000</td>\n",
       "      <td>June</td>\n",
       "      <td>172</td>\n",
       "      <td>43</td>\n",
       "      <td>60</td>\n",
       "      <td>23</td>\n",
       "      <td>ultra</td>\n",
       "      <td>1000</td>\n",
       "      <td>30720</td>\n",
       "      <td>3000</td>\n",
       "      <td>1950</td>\n",
       "      <td>150</td>\n",
       "      <td>1</td>\n",
       "      <td>1</td>\n",
       "      <td>0</td>\n",
       "    </tr>\n",
       "    <tr>\n",
       "      <th>4</th>\n",
       "      <td>1000</td>\n",
       "      <td>May</td>\n",
       "      <td>159</td>\n",
       "      <td>22</td>\n",
       "      <td>22</td>\n",
       "      <td>3</td>\n",
       "      <td>ultra</td>\n",
       "      <td>1000</td>\n",
       "      <td>30720</td>\n",
       "      <td>3000</td>\n",
       "      <td>1950</td>\n",
       "      <td>150</td>\n",
       "      <td>1</td>\n",
       "      <td>1</td>\n",
       "      <td>0</td>\n",
       "    </tr>\n",
       "  </tbody>\n",
       "</table>\n",
       "</div>"
      ],
      "text/plain": [
       "   user_id     month  sum_duration  number_of_calls  number_of_messages  \\\n",
       "0     1000    August           408               52                  81   \n",
       "1     1000  December           333               46                  70   \n",
       "2     1000      July           340               47                  75   \n",
       "3     1000      June           172               43                  60   \n",
       "4     1000       May           159               22                  22   \n",
       "\n",
       "   gb_used tariff_name  messages_included  mb_per_month_included  \\\n",
       "0       14       ultra               1000                  30720   \n",
       "1       10       ultra               1000                  30720   \n",
       "2       14       ultra               1000                  30720   \n",
       "3       23       ultra               1000                  30720   \n",
       "4        3       ultra               1000                  30720   \n",
       "\n",
       "   minutes_included  rub_monthly_fee  rub_per_gb  rub_per_message  \\\n",
       "0              3000             1950         150                1   \n",
       "1              3000             1950         150                1   \n",
       "2              3000             1950         150                1   \n",
       "3              3000             1950         150                1   \n",
       "4              3000             1950         150                1   \n",
       "\n",
       "   rub_per_minute  calls_purchase  \n",
       "0               1               0  \n",
       "1               1               0  \n",
       "2               1               0  \n",
       "3               1               0  \n",
       "4               1               0  "
      ]
     },
     "execution_count": 70,
     "metadata": {},
     "output_type": "execute_result"
    }
   ],
   "source": [
    "revenue.loc[revenue['calls_purchase'] < 0, 'calls_purchase'] = 0  \n",
    "revenue.head()"
   ]
  },
  {
   "cell_type": "markdown",
   "metadata": {},
   "source": [
    "Умножим получившиеся значения на значения из тарифного плана:"
   ]
  },
  {
   "cell_type": "code",
   "execution_count": 71,
   "metadata": {},
   "outputs": [],
   "source": [
    "revenue['calls_purchase'] = revenue['calls_purchase'] * revenue['rub_per_minute']"
   ]
  },
  {
   "cell_type": "markdown",
   "metadata": {},
   "source": [
    "Аналогично для сообщений:"
   ]
  },
  {
   "cell_type": "code",
   "execution_count": 72,
   "metadata": {},
   "outputs": [
    {
     "data": {
      "text/html": [
       "<div>\n",
       "<style scoped>\n",
       "    .dataframe tbody tr th:only-of-type {\n",
       "        vertical-align: middle;\n",
       "    }\n",
       "\n",
       "    .dataframe tbody tr th {\n",
       "        vertical-align: top;\n",
       "    }\n",
       "\n",
       "    .dataframe thead th {\n",
       "        text-align: right;\n",
       "    }\n",
       "</style>\n",
       "<table border=\"1\" class=\"dataframe\">\n",
       "  <thead>\n",
       "    <tr style=\"text-align: right;\">\n",
       "      <th></th>\n",
       "      <th>user_id</th>\n",
       "      <th>month</th>\n",
       "      <th>sum_duration</th>\n",
       "      <th>number_of_calls</th>\n",
       "      <th>number_of_messages</th>\n",
       "      <th>gb_used</th>\n",
       "      <th>tariff_name</th>\n",
       "      <th>messages_included</th>\n",
       "      <th>mb_per_month_included</th>\n",
       "      <th>minutes_included</th>\n",
       "      <th>rub_monthly_fee</th>\n",
       "      <th>rub_per_gb</th>\n",
       "      <th>rub_per_message</th>\n",
       "      <th>rub_per_minute</th>\n",
       "      <th>calls_purchase</th>\n",
       "      <th>messages_purchase</th>\n",
       "    </tr>\n",
       "  </thead>\n",
       "  <tbody>\n",
       "    <tr>\n",
       "      <th>3169</th>\n",
       "      <td>1498</td>\n",
       "      <td>September</td>\n",
       "      <td>471</td>\n",
       "      <td>59</td>\n",
       "      <td>44</td>\n",
       "      <td>22</td>\n",
       "      <td>smart</td>\n",
       "      <td>50</td>\n",
       "      <td>15360</td>\n",
       "      <td>500</td>\n",
       "      <td>550</td>\n",
       "      <td>200</td>\n",
       "      <td>3</td>\n",
       "      <td>3</td>\n",
       "      <td>0</td>\n",
       "      <td>0</td>\n",
       "    </tr>\n",
       "    <tr>\n",
       "      <th>3170</th>\n",
       "      <td>1499</td>\n",
       "      <td>December</td>\n",
       "      <td>492</td>\n",
       "      <td>69</td>\n",
       "      <td>66</td>\n",
       "      <td>13</td>\n",
       "      <td>smart</td>\n",
       "      <td>50</td>\n",
       "      <td>15360</td>\n",
       "      <td>500</td>\n",
       "      <td>550</td>\n",
       "      <td>200</td>\n",
       "      <td>3</td>\n",
       "      <td>3</td>\n",
       "      <td>0</td>\n",
       "      <td>48</td>\n",
       "    </tr>\n",
       "    <tr>\n",
       "      <th>3171</th>\n",
       "      <td>1499</td>\n",
       "      <td>November</td>\n",
       "      <td>612</td>\n",
       "      <td>74</td>\n",
       "      <td>59</td>\n",
       "      <td>18</td>\n",
       "      <td>smart</td>\n",
       "      <td>50</td>\n",
       "      <td>15360</td>\n",
       "      <td>500</td>\n",
       "      <td>550</td>\n",
       "      <td>200</td>\n",
       "      <td>3</td>\n",
       "      <td>3</td>\n",
       "      <td>336</td>\n",
       "      <td>27</td>\n",
       "    </tr>\n",
       "    <tr>\n",
       "      <th>3172</th>\n",
       "      <td>1499</td>\n",
       "      <td>October</td>\n",
       "      <td>449</td>\n",
       "      <td>68</td>\n",
       "      <td>48</td>\n",
       "      <td>18</td>\n",
       "      <td>smart</td>\n",
       "      <td>50</td>\n",
       "      <td>15360</td>\n",
       "      <td>500</td>\n",
       "      <td>550</td>\n",
       "      <td>200</td>\n",
       "      <td>3</td>\n",
       "      <td>3</td>\n",
       "      <td>0</td>\n",
       "      <td>0</td>\n",
       "    </tr>\n",
       "    <tr>\n",
       "      <th>3173</th>\n",
       "      <td>1499</td>\n",
       "      <td>September</td>\n",
       "      <td>70</td>\n",
       "      <td>9</td>\n",
       "      <td>11</td>\n",
       "      <td>2</td>\n",
       "      <td>smart</td>\n",
       "      <td>50</td>\n",
       "      <td>15360</td>\n",
       "      <td>500</td>\n",
       "      <td>550</td>\n",
       "      <td>200</td>\n",
       "      <td>3</td>\n",
       "      <td>3</td>\n",
       "      <td>0</td>\n",
       "      <td>0</td>\n",
       "    </tr>\n",
       "  </tbody>\n",
       "</table>\n",
       "</div>"
      ],
      "text/plain": [
       "      user_id      month  sum_duration  number_of_calls  number_of_messages  \\\n",
       "3169     1498  September           471               59                  44   \n",
       "3170     1499   December           492               69                  66   \n",
       "3171     1499   November           612               74                  59   \n",
       "3172     1499    October           449               68                  48   \n",
       "3173     1499  September            70                9                  11   \n",
       "\n",
       "      gb_used tariff_name  messages_included  mb_per_month_included  \\\n",
       "3169       22       smart                 50                  15360   \n",
       "3170       13       smart                 50                  15360   \n",
       "3171       18       smart                 50                  15360   \n",
       "3172       18       smart                 50                  15360   \n",
       "3173        2       smart                 50                  15360   \n",
       "\n",
       "      minutes_included  rub_monthly_fee  rub_per_gb  rub_per_message  \\\n",
       "3169               500              550         200                3   \n",
       "3170               500              550         200                3   \n",
       "3171               500              550         200                3   \n",
       "3172               500              550         200                3   \n",
       "3173               500              550         200                3   \n",
       "\n",
       "      rub_per_minute  calls_purchase  messages_purchase  \n",
       "3169               3               0                  0  \n",
       "3170               3               0                 48  \n",
       "3171               3             336                 27  \n",
       "3172               3               0                  0  \n",
       "3173               3               0                  0  "
      ]
     },
     "execution_count": 72,
     "metadata": {},
     "output_type": "execute_result"
    }
   ],
   "source": [
    "revenue['messages_purchase'] = revenue['number_of_messages'] - revenue['messages_included']\n",
    "revenue.loc[revenue['messages_purchase'] < 0, 'messages_purchase'] = 0  \n",
    "revenue['messages_purchase'] = revenue['messages_purchase'] * revenue['rub_per_message']\n",
    "revenue.tail() "
   ]
  },
  {
   "cell_type": "markdown",
   "metadata": {},
   "source": [
    "А так же для интернет-трафика:"
   ]
  },
  {
   "cell_type": "code",
   "execution_count": 73,
   "metadata": {},
   "outputs": [
    {
     "data": {
      "text/html": [
       "<div>\n",
       "<style scoped>\n",
       "    .dataframe tbody tr th:only-of-type {\n",
       "        vertical-align: middle;\n",
       "    }\n",
       "\n",
       "    .dataframe tbody tr th {\n",
       "        vertical-align: top;\n",
       "    }\n",
       "\n",
       "    .dataframe thead th {\n",
       "        text-align: right;\n",
       "    }\n",
       "</style>\n",
       "<table border=\"1\" class=\"dataframe\">\n",
       "  <thead>\n",
       "    <tr style=\"text-align: right;\">\n",
       "      <th></th>\n",
       "      <th>user_id</th>\n",
       "      <th>month</th>\n",
       "      <th>sum_duration</th>\n",
       "      <th>number_of_calls</th>\n",
       "      <th>number_of_messages</th>\n",
       "      <th>gb_used</th>\n",
       "      <th>tariff_name</th>\n",
       "      <th>messages_included</th>\n",
       "      <th>mb_per_month_included</th>\n",
       "      <th>minutes_included</th>\n",
       "      <th>rub_monthly_fee</th>\n",
       "      <th>rub_per_gb</th>\n",
       "      <th>rub_per_message</th>\n",
       "      <th>rub_per_minute</th>\n",
       "      <th>calls_purchase</th>\n",
       "      <th>messages_purchase</th>\n",
       "      <th>gb_purchase</th>\n",
       "    </tr>\n",
       "  </thead>\n",
       "  <tbody>\n",
       "    <tr>\n",
       "      <th>0</th>\n",
       "      <td>1000</td>\n",
       "      <td>August</td>\n",
       "      <td>408</td>\n",
       "      <td>52</td>\n",
       "      <td>81</td>\n",
       "      <td>14</td>\n",
       "      <td>ultra</td>\n",
       "      <td>1000</td>\n",
       "      <td>30720</td>\n",
       "      <td>3000</td>\n",
       "      <td>1950</td>\n",
       "      <td>150</td>\n",
       "      <td>1</td>\n",
       "      <td>1</td>\n",
       "      <td>0</td>\n",
       "      <td>0</td>\n",
       "      <td>0</td>\n",
       "    </tr>\n",
       "    <tr>\n",
       "      <th>1</th>\n",
       "      <td>1000</td>\n",
       "      <td>December</td>\n",
       "      <td>333</td>\n",
       "      <td>46</td>\n",
       "      <td>70</td>\n",
       "      <td>10</td>\n",
       "      <td>ultra</td>\n",
       "      <td>1000</td>\n",
       "      <td>30720</td>\n",
       "      <td>3000</td>\n",
       "      <td>1950</td>\n",
       "      <td>150</td>\n",
       "      <td>1</td>\n",
       "      <td>1</td>\n",
       "      <td>0</td>\n",
       "      <td>0</td>\n",
       "      <td>0</td>\n",
       "    </tr>\n",
       "    <tr>\n",
       "      <th>2</th>\n",
       "      <td>1000</td>\n",
       "      <td>July</td>\n",
       "      <td>340</td>\n",
       "      <td>47</td>\n",
       "      <td>75</td>\n",
       "      <td>14</td>\n",
       "      <td>ultra</td>\n",
       "      <td>1000</td>\n",
       "      <td>30720</td>\n",
       "      <td>3000</td>\n",
       "      <td>1950</td>\n",
       "      <td>150</td>\n",
       "      <td>1</td>\n",
       "      <td>1</td>\n",
       "      <td>0</td>\n",
       "      <td>0</td>\n",
       "      <td>0</td>\n",
       "    </tr>\n",
       "    <tr>\n",
       "      <th>3</th>\n",
       "      <td>1000</td>\n",
       "      <td>June</td>\n",
       "      <td>172</td>\n",
       "      <td>43</td>\n",
       "      <td>60</td>\n",
       "      <td>23</td>\n",
       "      <td>ultra</td>\n",
       "      <td>1000</td>\n",
       "      <td>30720</td>\n",
       "      <td>3000</td>\n",
       "      <td>1950</td>\n",
       "      <td>150</td>\n",
       "      <td>1</td>\n",
       "      <td>1</td>\n",
       "      <td>0</td>\n",
       "      <td>0</td>\n",
       "      <td>0</td>\n",
       "    </tr>\n",
       "    <tr>\n",
       "      <th>4</th>\n",
       "      <td>1000</td>\n",
       "      <td>May</td>\n",
       "      <td>159</td>\n",
       "      <td>22</td>\n",
       "      <td>22</td>\n",
       "      <td>3</td>\n",
       "      <td>ultra</td>\n",
       "      <td>1000</td>\n",
       "      <td>30720</td>\n",
       "      <td>3000</td>\n",
       "      <td>1950</td>\n",
       "      <td>150</td>\n",
       "      <td>1</td>\n",
       "      <td>1</td>\n",
       "      <td>0</td>\n",
       "      <td>0</td>\n",
       "      <td>0</td>\n",
       "    </tr>\n",
       "  </tbody>\n",
       "</table>\n",
       "</div>"
      ],
      "text/plain": [
       "   user_id     month  sum_duration  number_of_calls  number_of_messages  \\\n",
       "0     1000    August           408               52                  81   \n",
       "1     1000  December           333               46                  70   \n",
       "2     1000      July           340               47                  75   \n",
       "3     1000      June           172               43                  60   \n",
       "4     1000       May           159               22                  22   \n",
       "\n",
       "   gb_used tariff_name  messages_included  mb_per_month_included  \\\n",
       "0       14       ultra               1000                  30720   \n",
       "1       10       ultra               1000                  30720   \n",
       "2       14       ultra               1000                  30720   \n",
       "3       23       ultra               1000                  30720   \n",
       "4        3       ultra               1000                  30720   \n",
       "\n",
       "   minutes_included  rub_monthly_fee  rub_per_gb  rub_per_message  \\\n",
       "0              3000             1950         150                1   \n",
       "1              3000             1950         150                1   \n",
       "2              3000             1950         150                1   \n",
       "3              3000             1950         150                1   \n",
       "4              3000             1950         150                1   \n",
       "\n",
       "   rub_per_minute  calls_purchase  messages_purchase  gb_purchase  \n",
       "0               1               0                  0            0  \n",
       "1               1               0                  0            0  \n",
       "2               1               0                  0            0  \n",
       "3               1               0                  0            0  \n",
       "4               1               0                  0            0  "
      ]
     },
     "execution_count": 73,
     "metadata": {},
     "output_type": "execute_result"
    }
   ],
   "source": [
    "revenue['gb_purchase'] = revenue['gb_used'] - revenue['mb_per_month_included'] / 1024\n",
    "revenue.loc[revenue['gb_purchase'] < 0, 'gb_purchase'] = 0  \n",
    "revenue['gb_purchase'] = revenue['gb_purchase'] * revenue['rub_per_gb']\n",
    "revenue['gb_purchase'] = revenue['gb_purchase'].astype('int')\n",
    "revenue.head() "
   ]
  },
  {
   "cell_type": "markdown",
   "metadata": {},
   "source": [
    "Добавим столбец с итоговой помесячной выручкой с каждого пользователя:"
   ]
  },
  {
   "cell_type": "code",
   "execution_count": 74,
   "metadata": {
    "scrolled": true
   },
   "outputs": [
    {
     "data": {
      "text/html": [
       "<div>\n",
       "<style scoped>\n",
       "    .dataframe tbody tr th:only-of-type {\n",
       "        vertical-align: middle;\n",
       "    }\n",
       "\n",
       "    .dataframe tbody tr th {\n",
       "        vertical-align: top;\n",
       "    }\n",
       "\n",
       "    .dataframe thead th {\n",
       "        text-align: right;\n",
       "    }\n",
       "</style>\n",
       "<table border=\"1\" class=\"dataframe\">\n",
       "  <thead>\n",
       "    <tr style=\"text-align: right;\">\n",
       "      <th></th>\n",
       "      <th>user_id</th>\n",
       "      <th>month</th>\n",
       "      <th>sum_duration</th>\n",
       "      <th>number_of_calls</th>\n",
       "      <th>number_of_messages</th>\n",
       "      <th>gb_used</th>\n",
       "      <th>tariff_name</th>\n",
       "      <th>messages_included</th>\n",
       "      <th>mb_per_month_included</th>\n",
       "      <th>minutes_included</th>\n",
       "      <th>rub_monthly_fee</th>\n",
       "      <th>rub_per_gb</th>\n",
       "      <th>rub_per_message</th>\n",
       "      <th>rub_per_minute</th>\n",
       "      <th>calls_purchase</th>\n",
       "      <th>messages_purchase</th>\n",
       "      <th>gb_purchase</th>\n",
       "      <th>total</th>\n",
       "    </tr>\n",
       "  </thead>\n",
       "  <tbody>\n",
       "    <tr>\n",
       "      <th>3169</th>\n",
       "      <td>1498</td>\n",
       "      <td>September</td>\n",
       "      <td>471</td>\n",
       "      <td>59</td>\n",
       "      <td>44</td>\n",
       "      <td>22</td>\n",
       "      <td>smart</td>\n",
       "      <td>50</td>\n",
       "      <td>15360</td>\n",
       "      <td>500</td>\n",
       "      <td>550</td>\n",
       "      <td>200</td>\n",
       "      <td>3</td>\n",
       "      <td>3</td>\n",
       "      <td>0</td>\n",
       "      <td>0</td>\n",
       "      <td>1400</td>\n",
       "      <td>1950</td>\n",
       "    </tr>\n",
       "    <tr>\n",
       "      <th>3170</th>\n",
       "      <td>1499</td>\n",
       "      <td>December</td>\n",
       "      <td>492</td>\n",
       "      <td>69</td>\n",
       "      <td>66</td>\n",
       "      <td>13</td>\n",
       "      <td>smart</td>\n",
       "      <td>50</td>\n",
       "      <td>15360</td>\n",
       "      <td>500</td>\n",
       "      <td>550</td>\n",
       "      <td>200</td>\n",
       "      <td>3</td>\n",
       "      <td>3</td>\n",
       "      <td>0</td>\n",
       "      <td>48</td>\n",
       "      <td>0</td>\n",
       "      <td>598</td>\n",
       "    </tr>\n",
       "    <tr>\n",
       "      <th>3171</th>\n",
       "      <td>1499</td>\n",
       "      <td>November</td>\n",
       "      <td>612</td>\n",
       "      <td>74</td>\n",
       "      <td>59</td>\n",
       "      <td>18</td>\n",
       "      <td>smart</td>\n",
       "      <td>50</td>\n",
       "      <td>15360</td>\n",
       "      <td>500</td>\n",
       "      <td>550</td>\n",
       "      <td>200</td>\n",
       "      <td>3</td>\n",
       "      <td>3</td>\n",
       "      <td>336</td>\n",
       "      <td>27</td>\n",
       "      <td>600</td>\n",
       "      <td>1513</td>\n",
       "    </tr>\n",
       "    <tr>\n",
       "      <th>3172</th>\n",
       "      <td>1499</td>\n",
       "      <td>October</td>\n",
       "      <td>449</td>\n",
       "      <td>68</td>\n",
       "      <td>48</td>\n",
       "      <td>18</td>\n",
       "      <td>smart</td>\n",
       "      <td>50</td>\n",
       "      <td>15360</td>\n",
       "      <td>500</td>\n",
       "      <td>550</td>\n",
       "      <td>200</td>\n",
       "      <td>3</td>\n",
       "      <td>3</td>\n",
       "      <td>0</td>\n",
       "      <td>0</td>\n",
       "      <td>600</td>\n",
       "      <td>1150</td>\n",
       "    </tr>\n",
       "    <tr>\n",
       "      <th>3173</th>\n",
       "      <td>1499</td>\n",
       "      <td>September</td>\n",
       "      <td>70</td>\n",
       "      <td>9</td>\n",
       "      <td>11</td>\n",
       "      <td>2</td>\n",
       "      <td>smart</td>\n",
       "      <td>50</td>\n",
       "      <td>15360</td>\n",
       "      <td>500</td>\n",
       "      <td>550</td>\n",
       "      <td>200</td>\n",
       "      <td>3</td>\n",
       "      <td>3</td>\n",
       "      <td>0</td>\n",
       "      <td>0</td>\n",
       "      <td>0</td>\n",
       "      <td>550</td>\n",
       "    </tr>\n",
       "  </tbody>\n",
       "</table>\n",
       "</div>"
      ],
      "text/plain": [
       "      user_id      month  sum_duration  number_of_calls  number_of_messages  \\\n",
       "3169     1498  September           471               59                  44   \n",
       "3170     1499   December           492               69                  66   \n",
       "3171     1499   November           612               74                  59   \n",
       "3172     1499    October           449               68                  48   \n",
       "3173     1499  September            70                9                  11   \n",
       "\n",
       "      gb_used tariff_name  messages_included  mb_per_month_included  \\\n",
       "3169       22       smart                 50                  15360   \n",
       "3170       13       smart                 50                  15360   \n",
       "3171       18       smart                 50                  15360   \n",
       "3172       18       smart                 50                  15360   \n",
       "3173        2       smart                 50                  15360   \n",
       "\n",
       "      minutes_included  rub_monthly_fee  rub_per_gb  rub_per_message  \\\n",
       "3169               500              550         200                3   \n",
       "3170               500              550         200                3   \n",
       "3171               500              550         200                3   \n",
       "3172               500              550         200                3   \n",
       "3173               500              550         200                3   \n",
       "\n",
       "      rub_per_minute  calls_purchase  messages_purchase  gb_purchase  total  \n",
       "3169               3               0                  0         1400   1950  \n",
       "3170               3               0                 48            0    598  \n",
       "3171               3             336                 27          600   1513  \n",
       "3172               3               0                  0          600   1150  \n",
       "3173               3               0                  0            0    550  "
      ]
     },
     "execution_count": 74,
     "metadata": {},
     "output_type": "execute_result"
    }
   ],
   "source": [
    "revenue['total'] = revenue['calls_purchase'] + revenue['messages_purchase'] + revenue['gb_purchase'] + revenue['rub_monthly_fee']\n",
    "revenue.tail()"
   ]
  },
  {
   "cell_type": "markdown",
   "metadata": {},
   "source": [
    "Удалим столбцы, которые больше не понадобятся:"
   ]
  },
  {
   "cell_type": "code",
   "execution_count": 75,
   "metadata": {},
   "outputs": [
    {
     "data": {
      "text/html": [
       "<div>\n",
       "<style scoped>\n",
       "    .dataframe tbody tr th:only-of-type {\n",
       "        vertical-align: middle;\n",
       "    }\n",
       "\n",
       "    .dataframe tbody tr th {\n",
       "        vertical-align: top;\n",
       "    }\n",
       "\n",
       "    .dataframe thead th {\n",
       "        text-align: right;\n",
       "    }\n",
       "</style>\n",
       "<table border=\"1\" class=\"dataframe\">\n",
       "  <thead>\n",
       "    <tr style=\"text-align: right;\">\n",
       "      <th></th>\n",
       "      <th>user_id</th>\n",
       "      <th>month</th>\n",
       "      <th>sum_duration</th>\n",
       "      <th>number_of_calls</th>\n",
       "      <th>number_of_messages</th>\n",
       "      <th>gb_used</th>\n",
       "      <th>tariff_name</th>\n",
       "      <th>calls_purchase</th>\n",
       "      <th>messages_purchase</th>\n",
       "      <th>gb_purchase</th>\n",
       "      <th>total</th>\n",
       "    </tr>\n",
       "  </thead>\n",
       "  <tbody>\n",
       "    <tr>\n",
       "      <th>0</th>\n",
       "      <td>1000</td>\n",
       "      <td>August</td>\n",
       "      <td>408</td>\n",
       "      <td>52</td>\n",
       "      <td>81</td>\n",
       "      <td>14</td>\n",
       "      <td>ultra</td>\n",
       "      <td>0</td>\n",
       "      <td>0</td>\n",
       "      <td>0</td>\n",
       "      <td>1950</td>\n",
       "    </tr>\n",
       "    <tr>\n",
       "      <th>1</th>\n",
       "      <td>1000</td>\n",
       "      <td>December</td>\n",
       "      <td>333</td>\n",
       "      <td>46</td>\n",
       "      <td>70</td>\n",
       "      <td>10</td>\n",
       "      <td>ultra</td>\n",
       "      <td>0</td>\n",
       "      <td>0</td>\n",
       "      <td>0</td>\n",
       "      <td>1950</td>\n",
       "    </tr>\n",
       "    <tr>\n",
       "      <th>2</th>\n",
       "      <td>1000</td>\n",
       "      <td>July</td>\n",
       "      <td>340</td>\n",
       "      <td>47</td>\n",
       "      <td>75</td>\n",
       "      <td>14</td>\n",
       "      <td>ultra</td>\n",
       "      <td>0</td>\n",
       "      <td>0</td>\n",
       "      <td>0</td>\n",
       "      <td>1950</td>\n",
       "    </tr>\n",
       "    <tr>\n",
       "      <th>3</th>\n",
       "      <td>1000</td>\n",
       "      <td>June</td>\n",
       "      <td>172</td>\n",
       "      <td>43</td>\n",
       "      <td>60</td>\n",
       "      <td>23</td>\n",
       "      <td>ultra</td>\n",
       "      <td>0</td>\n",
       "      <td>0</td>\n",
       "      <td>0</td>\n",
       "      <td>1950</td>\n",
       "    </tr>\n",
       "    <tr>\n",
       "      <th>4</th>\n",
       "      <td>1000</td>\n",
       "      <td>May</td>\n",
       "      <td>159</td>\n",
       "      <td>22</td>\n",
       "      <td>22</td>\n",
       "      <td>3</td>\n",
       "      <td>ultra</td>\n",
       "      <td>0</td>\n",
       "      <td>0</td>\n",
       "      <td>0</td>\n",
       "      <td>1950</td>\n",
       "    </tr>\n",
       "  </tbody>\n",
       "</table>\n",
       "</div>"
      ],
      "text/plain": [
       "   user_id     month  sum_duration  number_of_calls  number_of_messages  \\\n",
       "0     1000    August           408               52                  81   \n",
       "1     1000  December           333               46                  70   \n",
       "2     1000      July           340               47                  75   \n",
       "3     1000      June           172               43                  60   \n",
       "4     1000       May           159               22                  22   \n",
       "\n",
       "   gb_used tariff_name  calls_purchase  messages_purchase  gb_purchase  total  \n",
       "0       14       ultra               0                  0            0   1950  \n",
       "1       10       ultra               0                  0            0   1950  \n",
       "2       14       ultra               0                  0            0   1950  \n",
       "3       23       ultra               0                  0            0   1950  \n",
       "4        3       ultra               0                  0            0   1950  "
      ]
     },
     "execution_count": 75,
     "metadata": {},
     "output_type": "execute_result"
    }
   ],
   "source": [
    "revenue = revenue.drop(labels=['messages_included', 'mb_per_month_included', 'minutes_included', 'rub_monthly_fee', 'rub_per_gb', 'rub_per_message', 'rub_per_minute'], axis=1)\n",
    "revenue.head()"
   ]
  },
  {
   "cell_type": "markdown",
   "metadata": {},
   "source": [
    "## Анализ данных"
   ]
  },
  {
   "cell_type": "markdown",
   "metadata": {},
   "source": [
    "Сравним количество минут разговора, требуемое клиентам каждого тарифа в месяц. "
   ]
  },
  {
   "cell_type": "code",
   "execution_count": 138,
   "metadata": {
    "scrolled": true
   },
   "outputs": [
    {
     "data": {
      "text/plain": [
       "Text(0.5, 0, 'Minutes')"
      ]
     },
     "execution_count": 138,
     "metadata": {},
     "output_type": "execute_result"
    },
    {
     "data": {
      "image/png": "[encoded data removed]",
      "text/plain": [
       "<Figure size 432x288 with 1 Axes>"
      ]
     },
     "metadata": {
      "needs_background": "light"
     },
     "output_type": "display_data"
    }
   ],
   "source": [
    "ultra = revenue.loc[revenue.loc[:, 'tariff_name'] == 'ultra']\n",
    "ultra['sum_duration'].plot(kind='hist', alpha=0.7, grid=True, legend=True, \n",
    "                           title='Количество минут разговора', label='ultra')\n",
    "smart = revenue.loc[revenue.loc[:, 'tariff_name'] == 'smart']\n",
    "smart['sum_duration'].plot(kind='hist', alpha=0.7, grid=True, \n",
    "                           legend=True, label='smart').set_xlabel('Minutes')"
   ]
  },
  {
   "cell_type": "code",
   "execution_count": 139,
   "metadata": {
    "scrolled": false
   },
   "outputs": [
    {
     "name": "stdout",
     "output_type": "stream",
     "text": [
      "Среднее количество минут разговора пользователей ultra: 545.4511041009464\n",
      "Среднее количество минут разговора пользователей smart: 419.0629779577148\n"
     ]
    }
   ],
   "source": [
    "print('Среднее количество минут разговора пользователей ultra:', ultra['sum_duration'].mean())\n",
    "print('Среднее количество минут разговора пользователей smart:', smart['sum_duration'].mean())"
   ]
  },
  {
   "cell_type": "code",
   "execution_count": 140,
   "metadata": {},
   "outputs": [
    {
     "name": "stdout",
     "output_type": "stream",
     "text": [
      "Дисперсия количества минут разговора пользователей ultra: 94203.41839614812\n",
      "Дисперсия количества минут разговора пользователей smart: 35844.1895513438\n"
     ]
    }
   ],
   "source": [
    "print('Дисперсия количества минут разговора пользователей ultra:', np.var(ultra['sum_duration'], ddof=1))\n",
    "print('Дисперсия количества минут разговора пользователей smart:', np.var(smart['sum_duration'], ddof=1))"
   ]
  },
  {
   "cell_type": "code",
   "execution_count": 141,
   "metadata": {},
   "outputs": [
    {
     "name": "stdout",
     "output_type": "stream",
     "text": [
      "Стандартное отклонение количества минут разговора пользователей ultra: 306.92575388218586\n",
      "Стандартное отклонение количества минут разговора пользователей smart: 189.3256177894154\n"
     ]
    }
   ],
   "source": [
    "print('Стандартное отклонение количества минут разговора пользователей ultra:', np.std(ultra['sum_duration'], ddof=1))\n",
    "print('Стандартное отклонение количества минут разговора пользователей smart:', np.std(smart['sum_duration'], ddof=1))"
   ]
  },
  {
   "cell_type": "markdown",
   "metadata": {},
   "source": [
    "***Вывод:*** \n",
    "\n",
    "1) распределения для обих тарифов нормальные;\n",
    "\n",
    "2) пользователям тарифа **smart** в среднем необходимо меньшее количество минут разговора в месяц;\n",
    "\n",
    "3) дисперсии количества минут разговора пользователей обоих тарифов различаются;\n",
    "\n",
    "4) пользователи **ultra** не превышают лимит минут;\n",
    "\n",
    "5) пользователи **smart** зачастую превышают лимит минут."
   ]
  },
  {
   "cell_type": "markdown",
   "metadata": {},
   "source": [
    "Сравним количество sms, требуемое клиентам каждого тарифа в месяц."
   ]
  },
  {
   "cell_type": "code",
   "execution_count": 143,
   "metadata": {},
   "outputs": [
    {
     "data": {
      "text/plain": [
       "Text(0.5, 0, 'SMS')"
      ]
     },
     "execution_count": 143,
     "metadata": {},
     "output_type": "execute_result"
    },
    {
     "data": {
      "image/png": "[encoded data removed]",
      "text/plain": [
       "<Figure size 432x288 with 1 Axes>"
      ]
     },
     "metadata": {
      "needs_background": "light"
     },
     "output_type": "display_data"
    }
   ],
   "source": [
    "ultra['number_of_messages'].plot(kind='hist', alpha=0.7, grid=True, legend=True, \n",
    "                                 title='Количество sms', label='ultra')\n",
    "smart['number_of_messages'].plot(kind='hist', alpha=0.7, grid=True, legend=True, \n",
    "                                 label='smart').set_xlabel('SMS')"
   ]
  },
  {
   "cell_type": "code",
   "execution_count": 144,
   "metadata": {},
   "outputs": [
    {
     "name": "stdout",
     "output_type": "stream",
     "text": [
      "Среднее количество sms пользователей ultra: 49.03364879074658\n",
      "Среднее количество sms пользователей smart: 33.396311291048136\n"
     ]
    }
   ],
   "source": [
    "print('Среднее количество sms пользователей ultra:', ultra['number_of_messages'].mean())\n",
    "print('Среднее количество sms пользователей smart:', smart['number_of_messages'].mean())"
   ]
  },
  {
   "cell_type": "code",
   "execution_count": 145,
   "metadata": {},
   "outputs": [
    {
     "name": "stdout",
     "output_type": "stream",
     "text": [
      "Дисперсия количества sms пользователей ultra: 2198.7336034091536\n",
      "Дисперсия количества sms пользователей smart: 798.5957919678607\n"
     ]
    }
   ],
   "source": [
    "print('Дисперсия количества sms пользователей ultra:', np.var(ultra['number_of_messages'], ddof=1))\n",
    "print('Дисперсия количества sms пользователей smart:', np.var(smart['number_of_messages'], ddof=1))"
   ]
  },
  {
   "cell_type": "code",
   "execution_count": 146,
   "metadata": {},
   "outputs": [
    {
     "name": "stdout",
     "output_type": "stream",
     "text": [
      "Стандартное отклонение количества sms пользователей ultra: 46.89065582191353\n",
      "Стандартное отклонение количества sms пользователей smart: 28.259437219588445\n"
     ]
    }
   ],
   "source": [
    "print('Стандартное отклонение количества sms пользователей ultra:', np.std(ultra['number_of_messages'], ddof=1))\n",
    "print('Стандартное отклонение количества sms пользователей smart:', np.std(smart['number_of_messages'], ddof=1))"
   ]
  },
  {
   "cell_type": "markdown",
   "metadata": {},
   "source": [
    "***Вывод:*** \n",
    "\n",
    "1) у тарифов распределение количества sms - распределение Пуассона;\n",
    "\n",
    "2) пользователям тарифа **smart** в среднем необходимо меньшее количество sms в месяц;\n",
    "\n",
    "3) дисперсии количества sms пользователей обоих тарифов различаются;\n",
    "\n",
    "4) пользователи **ultra** не превышают лимит sms;\n",
    "\n",
    "5) пользователи **smart** зачастую превышают лимит sms."
   ]
  },
  {
   "cell_type": "markdown",
   "metadata": {},
   "source": [
    "Сравним объём интернет-трафика, требуемый клиентам каждого тарифа в месяц."
   ]
  },
  {
   "cell_type": "code",
   "execution_count": 148,
   "metadata": {},
   "outputs": [
    {
     "data": {
      "text/plain": [
       "Text(0.5, 0, 'Gb')"
      ]
     },
     "execution_count": 148,
     "metadata": {},
     "output_type": "execute_result"
    },
    {
     "data": {
      "image/png": "[encoded data removed]",
      "text/plain": [
       "<Figure size 432x288 with 1 Axes>"
      ]
     },
     "metadata": {
      "needs_background": "light"
     },
     "output_type": "display_data"
    }
   ],
   "source": [
    "ultra['gb_used'].plot(kind='hist', alpha=0.7, grid=True, legend=True, \n",
    "                                 title='Объем интернет-трафика', label='ultra')\n",
    "smart['gb_used'].plot(kind='hist', alpha=0.7, grid=True, legend=True, \n",
    "                                 label='smart').set_xlabel('Gb')"
   ]
  },
  {
   "cell_type": "code",
   "execution_count": 149,
   "metadata": {},
   "outputs": [
    {
     "name": "stdout",
     "output_type": "stream",
     "text": [
      "Средний объем интернет-трафика пользователей ultra: 19.487907465825447\n",
      "Средний объем интернет-трафика пользователей smart: 16.32973459289249\n"
     ]
    }
   ],
   "source": [
    "print('Средний объем интернет-трафика пользователей ultra:', ultra['gb_used'].mean())\n",
    "print('Средний объем интернет-трафика пользователей smart:', smart['gb_used'].mean())"
   ]
  },
  {
   "cell_type": "code",
   "execution_count": 150,
   "metadata": {},
   "outputs": [
    {
     "name": "stdout",
     "output_type": "stream",
     "text": [
      "Дисперсия объема интернет-трафика пользователей ultra: 97.82064309037578\n",
      "Дисперсия объема интернет-трафика пользователей smart: 798.5957919678607\n"
     ]
    }
   ],
   "source": [
    "print('Дисперсия объема интернет-трафика пользователей ultra:', np.var(ultra['gb_used'], ddof=1))\n",
    "print('Дисперсия объема интернет-трафика пользователей smart:', np.var(smart['number_of_messages'], ddof=1))"
   ]
  },
  {
   "cell_type": "code",
   "execution_count": 151,
   "metadata": {},
   "outputs": [
    {
     "name": "stdout",
     "output_type": "stream",
     "text": [
      "Стандартное отклонение объема интернет-трафика пользователей ultra: 9.890431896048614\n",
      "Стандартное отклонение объема интернет-трафика пользователей smart: 5.7525990894692836\n"
     ]
    }
   ],
   "source": [
    "print('Стандартное отклонение объема интернет-трафика пользователей ultra:', np.std(ultra['gb_used'], ddof=1))\n",
    "print('Стандартное отклонение объема интернет-трафика пользователей smart:', np.std(smart['gb_used'], ddof=1))"
   ]
  },
  {
   "cell_type": "markdown",
   "metadata": {},
   "source": [
    "***Вывод:*** \n",
    "\n",
    "1) у тарифов распределение объема интернет-трафика нормальное;\n",
    "\n",
    "2) пользователям тарифа **smart** в среднем необходим меньший объем интернет-трафика в месяц;\n",
    "\n",
    "3) дисперсии объема интернет-трафика пользователей обоих тарифов различаются;\n",
    "\n",
    "4) пользователи **ultra** превышают лимит интернет-трафика;\n",
    "\n",
    "5) пользователи **smart** так же превышают лимит интернет-трафика."
   ]
  },
  {
   "cell_type": "markdown",
   "metadata": {},
   "source": [
    "## Проверка гипотез"
   ]
  },
  {
   "cell_type": "markdown",
   "metadata": {},
   "source": [
    "1. Сформулируем гипотезы:\n",
    "\n",
    "H0 : средняя выручка пользователей тарифов «Ультра» и «Смарт» равны;\n",
    "\n",
    "Н1 : средняя выручка пользователей тарифов «Ультра» и «Смарт» различаются."
   ]
  },
  {
   "cell_type": "markdown",
   "metadata": {},
   "source": [
    "Так как дисперсии выборок различаются, воспользуемся методом `scipy.stats.ttest_ind(array1, array2, equal_var=False)`."
   ]
  },
  {
   "cell_type": "code",
   "execution_count": 152,
   "metadata": {},
   "outputs": [
    {
     "name": "stdout",
     "output_type": "stream",
     "text": [
      "p-значение: 3.155173205867294e-245\n",
      "Отвергаем нулевую гипотезу\n"
     ]
    }
   ],
   "source": [
    "alpha = .05\n",
    "results = st.ttest_ind(ultra['total'], smart['total'], equal_var=False)\n",
    "print('p-значение:', results.pvalue)\n",
    "if results.pvalue < alpha:\n",
    "    print('Отвергаем нулевую гипотезу')\n",
    "else:\n",
    "    print('Не отвергаем нулевую гипотезу')"
   ]
  },
  {
   "cell_type": "markdown",
   "metadata": {},
   "source": [
    "***Вывод:***\n",
    "\n",
    "P-значение оказалось достаточно маленьким, поэтому вероятность равенства средних двух выборок очень низкая. Отвергаем нулевую гипотезу и делаем вывод, что средняя выручка пользователей тарифов «Ультра» и «Смарт» различаются.\n",
    "\n",
    "Посчитаем общую выручку по двум тарифам:"
   ]
  },
  {
   "cell_type": "code",
   "execution_count": 153,
   "metadata": {},
   "outputs": [
    {
     "name": "stdout",
     "output_type": "stream",
     "text": [
      "Общая выручка тарифа ultra: 1969500\n",
      "Общая выручка тарифа smart: 2869651\n"
     ]
    }
   ],
   "source": [
    "print('Общая выручка тарифа ultra:', ultra['total'].sum())\n",
    "print('Общая выручка тарифа smart:', smart['total'].sum())"
   ]
  },
  {
   "cell_type": "markdown",
   "metadata": {},
   "source": [
    "Сравним количество пользователей двух тарифов:"
   ]
  },
  {
   "cell_type": "code",
   "execution_count": 154,
   "metadata": {},
   "outputs": [
    {
     "name": "stdout",
     "output_type": "stream",
     "text": [
      "Количество пользователей ultra: 149\n",
      "Количество пользователей smart: 351\n"
     ]
    }
   ],
   "source": [
    "print('Количество пользователей ultra:', users[users['tariff'] == 'ultra']['tariff'].count())\n",
    "print('Количество пользователей smart:', users[users['tariff'] == 'smart']['tariff'].count())"
   ]
  },
  {
   "cell_type": "markdown",
   "metadata": {},
   "source": [
    "Посчитаем среднюю выручку по каждому тарифу за месяц:"
   ]
  },
  {
   "cell_type": "code",
   "execution_count": 155,
   "metadata": {},
   "outputs": [
    {
     "name": "stdout",
     "output_type": "stream",
     "text": [
      "Средняя выручка тарифа ultra: 2070.9779179810726\n",
      "Средняя выручка тарифа smart: 1290.8911381016644\n"
     ]
    }
   ],
   "source": [
    "print('Средняя выручка тарифа ultra:', ultra['total'].mean())\n",
    "print('Средняя выручка тарифа smart:', smart['total'].mean())"
   ]
  },
  {
   "cell_type": "markdown",
   "metadata": {},
   "source": [
    "2. Сформулируем гипотезы:\n",
    "\n",
    "Н0: средняя выручка пользователей из Москвы равна выручке пользователей из других регионов;\n",
    "\n",
    "Н1: средняя выручка пользователей из Москвы отличается от выручки пользователей из других регионов."
   ]
  },
  {
   "cell_type": "markdown",
   "metadata": {},
   "source": [
    "Для начала \"отделим\" пользовательй из Москвы от пользователей других регионов."
   ]
  },
  {
   "cell_type": "code",
   "execution_count": 156,
   "metadata": {},
   "outputs": [],
   "source": [
    "revenue = users.merge(revenue, on='user_id', how='left')\n",
    "msk = revenue[revenue['city'] == 'Москва']\n",
    "other = revenue[revenue['city'] != 'Москва']"
   ]
  },
  {
   "cell_type": "markdown",
   "metadata": {},
   "source": [
    "Воспользуемся методом `scipy.stats.ttest_ind(array1, array2)`."
   ]
  },
  {
   "cell_type": "code",
   "execution_count": 157,
   "metadata": {},
   "outputs": [
    {
     "name": "stdout",
     "output_type": "stream",
     "text": [
      "p-значение: 0.4619932225305272\n",
      "Не отвергаем нулевую гипотезу\n"
     ]
    }
   ],
   "source": [
    "alpha = .05\n",
    "results = st.ttest_ind(msk['total'], other['total'], nan_policy='omit')\n",
    "print('p-значение:', results.pvalue)\n",
    "if results.pvalue < alpha:\n",
    "    print('Отвергаем нулевую гипотезу')\n",
    "else:\n",
    "    print('Не отвергаем нулевую гипотезу')"
   ]
  },
  {
   "cell_type": "markdown",
   "metadata": {},
   "source": [
    "***Вывод:***\n",
    "\n",
    "Р-значение равно 0.46, значит, есть большая вероятность того, что отличие средних значений выборок случайно. Отвергать гипотезу о равенстве средних значений нельзя."
   ]
  },
  {
   "cell_type": "markdown",
   "metadata": {},
   "source": [
    "## Вывод"
   ]
  },
  {
   "cell_type": "markdown",
   "metadata": {},
   "source": [
    "В ходе исследования были получены следущие выводы:\n",
    "\n",
    "1) пользователи предпочитают тариф `smart`:\n",
    "* Количество пользователей `ultra`: 149;\n",
    "* Количество пользователей `smart`: 351.\n",
    "\n",
    "2) средняя прибыль двух тарифов различается;\n",
    "\n",
    "3) общая прибыль тарифа `smart` значительно выше прибыли тарифа `ultra`:\n",
    "* Общая выручка тарифа `ultra`: 1 969 500 р.;\n",
    "* Общая выручка тарифа `smart`: 2 869 651 р.\n",
    "\n",
    "4)  средняя выручка пользователей из Москвы равна выручке пользователей из других регионов;\n",
    "\n",
    "5) пользователи тарифа `smart` превышают лимиты минут, sms и интернет-трафика;\n",
    "\n",
    "6) пользователи тарифа `ultra` превышают только лимит интернет-трафика;\n",
    "\n",
    "7) несмотря на то, что больше выручки приносит тариф `smart`, средняя выручка тарифа `ultra` выше:\n",
    "* Средняя выручка тарифа ultra: 2 070 р.;\n",
    "* Средняя выручка тарифа smart: 1 290 р."
   ]
  }
 ],
 "metadata": {
  "ExecuteTimeLog": [
   {
    "duration": 514,
    "start_time": "2022-03-15T09:52:09.368Z"
   },
   {
    "duration": 342,
    "start_time": "2022-03-15T09:54:52.407Z"
   },
   {
    "duration": 15,
    "start_time": "2022-03-15T09:55:06.271Z"
   },
   {
    "duration": 7,
    "start_time": "2022-03-15T09:55:38.907Z"
   },
   {
    "duration": 9,
    "start_time": "2022-03-15T09:55:57.750Z"
   },
   {
    "duration": 7,
    "start_time": "2022-03-15T09:56:16.247Z"
   },
   {
    "duration": 9,
    "start_time": "2022-03-15T09:56:24.605Z"
   },
   {
    "duration": 7,
    "start_time": "2022-03-15T09:56:38.284Z"
   },
   {
    "duration": 9,
    "start_time": "2022-03-15T09:56:52.989Z"
   },
   {
    "duration": 8,
    "start_time": "2022-03-15T09:57:12.538Z"
   },
   {
    "duration": 10,
    "start_time": "2022-03-15T09:57:29.726Z"
   },
   {
    "duration": 218,
    "start_time": "2022-03-16T08:52:57.170Z"
   },
   {
    "duration": 732,
    "start_time": "2022-03-16T08:53:01.727Z"
   },
   {
    "duration": 570,
    "start_time": "2022-03-16T08:53:02.462Z"
   },
   {
    "duration": 27,
    "start_time": "2022-03-16T08:53:18.667Z"
   },
   {
    "duration": 11,
    "start_time": "2022-03-16T08:53:32.191Z"
   },
   {
    "duration": 26,
    "start_time": "2022-03-16T08:54:07.502Z"
   },
   {
    "duration": 20,
    "start_time": "2022-03-16T08:54:15.218Z"
   },
   {
    "duration": 24,
    "start_time": "2022-03-16T08:54:21.266Z"
   },
   {
    "duration": 10,
    "start_time": "2022-03-16T08:54:29.243Z"
   },
   {
    "duration": 12,
    "start_time": "2022-03-16T08:54:36.579Z"
   },
   {
    "duration": 13,
    "start_time": "2022-03-16T08:55:43.667Z"
   },
   {
    "duration": 29,
    "start_time": "2022-03-16T08:55:51.807Z"
   },
   {
    "duration": 9,
    "start_time": "2022-03-16T08:56:10.392Z"
   },
   {
    "duration": 36,
    "start_time": "2022-03-16T08:56:34.887Z"
   },
   {
    "duration": 19,
    "start_time": "2022-03-16T08:56:51.082Z"
   },
   {
    "duration": 28,
    "start_time": "2022-03-16T08:57:16.098Z"
   },
   {
    "duration": 31,
    "start_time": "2022-03-16T08:57:34.195Z"
   },
   {
    "duration": 24,
    "start_time": "2022-03-16T08:57:58.388Z"
   },
   {
    "duration": 199,
    "start_time": "2022-03-16T09:19:55.137Z"
   },
   {
    "duration": 1283,
    "start_time": "2022-03-16T09:20:06.604Z"
   },
   {
    "duration": 9,
    "start_time": "2022-03-16T09:20:28.594Z"
   },
   {
    "duration": 6,
    "start_time": "2022-03-16T09:20:40.218Z"
   },
   {
    "duration": 17,
    "start_time": "2022-03-16T09:20:54.292Z"
   },
   {
    "duration": 13,
    "start_time": "2022-03-16T09:20:59.895Z"
   },
   {
    "duration": 17,
    "start_time": "2022-03-16T09:21:08.572Z"
   },
   {
    "duration": 17,
    "start_time": "2022-03-16T09:21:16.160Z"
   },
   {
    "duration": 17,
    "start_time": "2022-03-16T09:21:19.420Z"
   },
   {
    "duration": 11,
    "start_time": "2022-03-16T09:21:25.451Z"
   },
   {
    "duration": 6,
    "start_time": "2022-03-16T09:21:50.269Z"
   },
   {
    "duration": 64,
    "start_time": "2022-03-16T09:23:43.894Z"
   },
   {
    "duration": 10,
    "start_time": "2022-03-16T09:23:47.975Z"
   },
   {
    "duration": 6,
    "start_time": "2022-03-16T09:24:14.861Z"
   },
   {
    "duration": 46,
    "start_time": "2022-03-16T09:25:08.936Z"
   },
   {
    "duration": 28,
    "start_time": "2022-03-16T09:25:18.574Z"
   },
   {
    "duration": 36,
    "start_time": "2022-03-16T09:25:28.344Z"
   },
   {
    "duration": 10,
    "start_time": "2022-03-16T09:25:44.500Z"
   },
   {
    "duration": 40,
    "start_time": "2022-03-16T09:26:25.460Z"
   },
   {
    "duration": 8,
    "start_time": "2022-03-16T09:26:31.179Z"
   },
   {
    "duration": 49,
    "start_time": "2022-03-16T09:27:19.815Z"
   },
   {
    "duration": 10,
    "start_time": "2022-03-16T09:27:28.037Z"
   },
   {
    "duration": 38,
    "start_time": "2022-03-16T09:29:25.052Z"
   },
   {
    "duration": 23,
    "start_time": "2022-03-16T09:30:11.715Z"
   },
   {
    "duration": 12,
    "start_time": "2022-03-16T09:36:05.555Z"
   },
   {
    "duration": 10,
    "start_time": "2022-03-16T09:36:12.999Z"
   },
   {
    "duration": 138,
    "start_time": "2022-03-16T09:36:17.342Z"
   },
   {
    "duration": 61,
    "start_time": "2022-03-16T09:36:23.389Z"
   },
   {
    "duration": 102,
    "start_time": "2022-03-16T09:36:28.800Z"
   },
   {
    "duration": 31,
    "start_time": "2022-03-16T09:41:21.371Z"
   },
   {
    "duration": 184,
    "start_time": "2022-03-16T09:42:08.985Z"
   },
   {
    "duration": 184,
    "start_time": "2022-03-16T09:42:37.715Z"
   },
   {
    "duration": 4,
    "start_time": "2022-03-16T09:42:59.599Z"
   },
   {
    "duration": 172,
    "start_time": "2022-03-16T09:43:04.224Z"
   },
   {
    "duration": 171,
    "start_time": "2022-03-16T09:43:25.091Z"
   },
   {
    "duration": 256,
    "start_time": "2022-03-16T09:43:30.845Z"
   },
   {
    "duration": 193,
    "start_time": "2022-03-16T09:44:11.491Z"
   },
   {
    "duration": 157,
    "start_time": "2022-03-16T09:44:55.916Z"
   },
   {
    "duration": 4,
    "start_time": "2022-03-16T09:46:32.578Z"
   },
   {
    "duration": 5,
    "start_time": "2022-03-16T09:46:42.606Z"
   },
   {
    "duration": 25,
    "start_time": "2022-03-16T09:46:53.795Z"
   },
   {
    "duration": 342,
    "start_time": "2022-03-16T09:52:53.571Z"
   },
   {
    "duration": 186,
    "start_time": "2022-03-16T09:57:22.607Z"
   },
   {
    "duration": 5,
    "start_time": "2022-03-16T09:57:27.619Z"
   },
   {
    "duration": 9,
    "start_time": "2022-03-16T09:57:34.068Z"
   },
   {
    "duration": 21,
    "start_time": "2022-03-16T09:57:48.121Z"
   },
   {
    "duration": 58,
    "start_time": "2022-03-16T09:59:00.573Z"
   },
   {
    "duration": 79,
    "start_time": "2022-03-16T09:59:06.156Z"
   },
   {
    "duration": 66,
    "start_time": "2022-03-16T09:59:55.090Z"
   },
   {
    "duration": 175,
    "start_time": "2022-03-16T10:00:29.258Z"
   },
   {
    "duration": 66,
    "start_time": "2022-03-16T10:00:41.042Z"
   },
   {
    "duration": 188,
    "start_time": "2022-03-16T10:01:11.826Z"
   },
   {
    "duration": 15,
    "start_time": "2022-03-16T10:01:23.556Z"
   },
   {
    "duration": 309,
    "start_time": "2022-03-16T10:01:26.267Z"
   },
   {
    "duration": 67,
    "start_time": "2022-03-16T10:01:28.261Z"
   },
   {
    "duration": 742,
    "start_time": "2022-03-16T10:02:24.853Z"
   },
   {
    "duration": 83,
    "start_time": "2022-03-16T10:02:35.644Z"
   },
   {
    "duration": 132,
    "start_time": "2022-03-16T10:02:56.200Z"
   },
   {
    "duration": 135,
    "start_time": "2022-03-16T10:03:07.765Z"
   },
   {
    "duration": 133,
    "start_time": "2022-03-16T10:03:18.066Z"
   },
   {
    "duration": 83,
    "start_time": "2022-03-16T10:03:41.150Z"
   },
   {
    "duration": 69,
    "start_time": "2022-03-16T10:03:46.700Z"
   },
   {
    "duration": 244,
    "start_time": "2022-03-16T10:03:57.270Z"
   },
   {
    "duration": 131,
    "start_time": "2022-03-16T10:04:06.375Z"
   },
   {
    "duration": 163,
    "start_time": "2022-03-16T10:05:09.752Z"
   },
   {
    "duration": 109,
    "start_time": "2022-03-16T10:07:40.946Z"
   },
   {
    "duration": 120,
    "start_time": "2022-03-16T10:07:55.038Z"
   },
   {
    "duration": 123,
    "start_time": "2022-03-16T10:08:07.450Z"
   },
   {
    "duration": 117,
    "start_time": "2022-03-16T10:09:00.694Z"
   },
   {
    "duration": 114,
    "start_time": "2022-03-16T10:09:09.828Z"
   },
   {
    "duration": 134,
    "start_time": "2022-03-16T10:09:46.868Z"
   },
   {
    "duration": 102,
    "start_time": "2022-03-16T10:10:22.694Z"
   },
   {
    "duration": 105,
    "start_time": "2022-03-16T10:10:29.152Z"
   },
   {
    "duration": 102,
    "start_time": "2022-03-16T10:14:36.159Z"
   },
   {
    "duration": 190,
    "start_time": "2022-03-16T10:18:58.040Z"
   },
   {
    "duration": 188,
    "start_time": "2022-03-16T10:20:59.116Z"
   },
   {
    "duration": 177,
    "start_time": "2022-03-16T10:21:19.531Z"
   },
   {
    "duration": 49,
    "start_time": "2022-03-16T10:21:32.058Z"
   },
   {
    "duration": 46,
    "start_time": "2022-03-16T10:21:54.336Z"
   },
   {
    "duration": 704,
    "start_time": "2022-03-16T10:22:15.591Z"
   },
   {
    "duration": 41,
    "start_time": "2022-03-16T10:22:30.580Z"
   },
   {
    "duration": 47,
    "start_time": "2022-03-16T10:22:42.592Z"
   },
   {
    "duration": 51,
    "start_time": "2022-03-16T10:23:02.280Z"
   },
   {
    "duration": 51,
    "start_time": "2022-03-16T10:23:06.478Z"
   },
   {
    "duration": 8,
    "start_time": "2022-03-16T10:35:51.081Z"
   },
   {
    "duration": 233,
    "start_time": "2022-03-16T10:35:56.939Z"
   },
   {
    "duration": 3,
    "start_time": "2022-03-16T10:37:04.208Z"
   },
   {
    "duration": 544,
    "start_time": "2022-03-16T10:37:04.402Z"
   },
   {
    "duration": 24,
    "start_time": "2022-03-16T10:37:04.949Z"
   },
   {
    "duration": 37,
    "start_time": "2022-03-16T10:37:05.828Z"
   },
   {
    "duration": 26,
    "start_time": "2022-03-16T10:37:07.126Z"
   },
   {
    "duration": 35,
    "start_time": "2022-03-16T10:37:07.937Z"
   },
   {
    "duration": 32,
    "start_time": "2022-03-16T10:37:35.452Z"
   },
   {
    "duration": 4287,
    "start_time": "2022-03-16T10:37:50.634Z"
   },
   {
    "duration": 31,
    "start_time": "2022-03-16T10:37:57.447Z"
   },
   {
    "duration": 4,
    "start_time": "2022-03-16T10:38:02.629Z"
   },
   {
    "duration": 563,
    "start_time": "2022-03-16T10:38:02.791Z"
   },
   {
    "duration": 21,
    "start_time": "2022-03-16T10:38:03.357Z"
   },
   {
    "duration": 36,
    "start_time": "2022-03-16T10:38:05.536Z"
   },
   {
    "duration": 26,
    "start_time": "2022-03-16T10:38:06.430Z"
   },
   {
    "duration": 32,
    "start_time": "2022-03-16T10:38:07.237Z"
   },
   {
    "duration": 14,
    "start_time": "2022-03-16T10:38:26.728Z"
   },
   {
    "duration": 3873,
    "start_time": "2022-03-16T10:38:49.258Z"
   },
   {
    "duration": 4,
    "start_time": "2022-03-16T10:39:01.058Z"
   },
   {
    "duration": 536,
    "start_time": "2022-03-16T10:39:01.239Z"
   },
   {
    "duration": 20,
    "start_time": "2022-03-16T10:39:01.778Z"
   },
   {
    "duration": 36,
    "start_time": "2022-03-16T10:39:03.520Z"
   },
   {
    "duration": 29,
    "start_time": "2022-03-16T10:39:03.907Z"
   },
   {
    "duration": 34,
    "start_time": "2022-03-16T10:39:04.475Z"
   },
   {
    "duration": 13,
    "start_time": "2022-03-16T10:39:05.849Z"
   },
   {
    "duration": 177,
    "start_time": "2022-03-16T10:39:31.306Z"
   },
   {
    "duration": 4,
    "start_time": "2022-03-16T10:39:39.883Z"
   },
   {
    "duration": 514,
    "start_time": "2022-03-16T10:39:40.051Z"
   },
   {
    "duration": 23,
    "start_time": "2022-03-16T10:39:40.567Z"
   },
   {
    "duration": 49,
    "start_time": "2022-03-16T10:39:40.593Z"
   },
   {
    "duration": 27,
    "start_time": "2022-03-16T10:39:40.978Z"
   },
   {
    "duration": 32,
    "start_time": "2022-03-16T10:39:41.378Z"
   },
   {
    "duration": 13,
    "start_time": "2022-03-16T10:39:42.198Z"
   },
   {
    "duration": 17,
    "start_time": "2022-03-16T10:39:42.621Z"
   },
   {
    "duration": 6,
    "start_time": "2022-03-16T10:39:43.758Z"
   },
   {
    "duration": 40,
    "start_time": "2022-03-16T10:39:43.968Z"
   },
   {
    "duration": 25,
    "start_time": "2022-03-16T10:39:44.160Z"
   },
   {
    "duration": 34,
    "start_time": "2022-03-16T10:39:44.622Z"
   },
   {
    "duration": 17,
    "start_time": "2022-03-16T10:39:45.328Z"
   },
   {
    "duration": 302,
    "start_time": "2022-03-16T10:39:46.279Z"
   },
   {
    "duration": 116,
    "start_time": "2022-03-16T10:39:47.593Z"
   },
   {
    "duration": 190,
    "start_time": "2022-03-16T10:39:48.675Z"
   },
   {
    "duration": 52,
    "start_time": "2022-03-16T10:39:49.633Z"
   },
   {
    "duration": 218,
    "start_time": "2022-03-16T10:39:50.479Z"
   },
   {
    "duration": 48,
    "start_time": "2022-03-16T10:42:17.468Z"
   },
   {
    "duration": 46,
    "start_time": "2022-03-16T10:42:37.990Z"
   },
   {
    "duration": 43,
    "start_time": "2022-03-16T10:42:46.887Z"
   },
   {
    "duration": 17,
    "start_time": "2022-03-16T10:47:20.812Z"
   },
   {
    "duration": 832,
    "start_time": "2022-03-16T10:47:59.375Z"
   },
   {
    "duration": 15,
    "start_time": "2022-03-16T10:48:04.384Z"
   },
   {
    "duration": 4411,
    "start_time": "2022-03-16T10:48:11.787Z"
   },
   {
    "duration": 4442,
    "start_time": "2022-03-16T10:48:31.718Z"
   },
   {
    "duration": 3,
    "start_time": "2022-03-16T10:48:39.109Z"
   },
   {
    "duration": 504,
    "start_time": "2022-03-16T10:48:39.265Z"
   },
   {
    "duration": 20,
    "start_time": "2022-03-16T10:48:39.772Z"
   },
   {
    "duration": 36,
    "start_time": "2022-03-16T10:48:39.795Z"
   },
   {
    "duration": 27,
    "start_time": "2022-03-16T10:48:39.929Z"
   },
   {
    "duration": 35,
    "start_time": "2022-03-16T10:48:40.108Z"
   },
   {
    "duration": 13,
    "start_time": "2022-03-16T10:48:40.462Z"
   },
   {
    "duration": 18,
    "start_time": "2022-03-16T10:48:40.631Z"
   },
   {
    "duration": 6,
    "start_time": "2022-03-16T10:48:41.161Z"
   },
   {
    "duration": 42,
    "start_time": "2022-03-16T10:48:41.321Z"
   },
   {
    "duration": 25,
    "start_time": "2022-03-16T10:48:41.495Z"
   },
   {
    "duration": 30,
    "start_time": "2022-03-16T10:48:41.662Z"
   },
   {
    "duration": 13,
    "start_time": "2022-03-16T10:48:42.020Z"
   },
   {
    "duration": 295,
    "start_time": "2022-03-16T10:48:42.377Z"
   },
   {
    "duration": 97,
    "start_time": "2022-03-16T10:48:42.891Z"
   },
   {
    "duration": 192,
    "start_time": "2022-03-16T10:48:43.527Z"
   },
   {
    "duration": 49,
    "start_time": "2022-03-16T10:48:44.571Z"
   },
   {
    "duration": 230,
    "start_time": "2022-03-16T10:48:45.564Z"
   },
   {
    "duration": 44,
    "start_time": "2022-03-16T10:48:46.576Z"
   },
   {
    "duration": 15,
    "start_time": "2022-03-16T10:48:47.746Z"
   },
   {
    "duration": 14,
    "start_time": "2022-03-16T10:49:00.706Z"
   },
   {
    "duration": 4514,
    "start_time": "2022-03-16T10:49:50.304Z"
   },
   {
    "duration": 3,
    "start_time": "2022-03-16T10:49:59.466Z"
   },
   {
    "duration": 519,
    "start_time": "2022-03-16T10:49:59.659Z"
   },
   {
    "duration": 21,
    "start_time": "2022-03-16T10:50:00.181Z"
   },
   {
    "duration": 38,
    "start_time": "2022-03-16T10:50:00.241Z"
   },
   {
    "duration": 30,
    "start_time": "2022-03-16T10:50:00.435Z"
   },
   {
    "duration": 33,
    "start_time": "2022-03-16T10:50:00.623Z"
   },
   {
    "duration": 13,
    "start_time": "2022-03-16T10:50:00.978Z"
   },
   {
    "duration": 20,
    "start_time": "2022-03-16T10:50:01.152Z"
   },
   {
    "duration": 6,
    "start_time": "2022-03-16T10:50:01.703Z"
   },
   {
    "duration": 43,
    "start_time": "2022-03-16T10:50:01.882Z"
   },
   {
    "duration": 27,
    "start_time": "2022-03-16T10:50:02.055Z"
   },
   {
    "duration": 32,
    "start_time": "2022-03-16T10:50:02.241Z"
   },
   {
    "duration": 17,
    "start_time": "2022-03-16T10:50:02.586Z"
   },
   {
    "duration": 299,
    "start_time": "2022-03-16T10:50:02.929Z"
   },
   {
    "duration": 118,
    "start_time": "2022-03-16T10:50:03.290Z"
   },
   {
    "duration": 210,
    "start_time": "2022-03-16T10:50:03.657Z"
   },
   {
    "duration": 52,
    "start_time": "2022-03-16T10:50:04.029Z"
   },
   {
    "duration": 230,
    "start_time": "2022-03-16T10:50:04.400Z"
   },
   {
    "duration": 44,
    "start_time": "2022-03-16T10:50:04.764Z"
   },
   {
    "duration": 14,
    "start_time": "2022-03-16T10:50:05.130Z"
   },
   {
    "duration": 4155,
    "start_time": "2022-03-16T10:50:41.313Z"
   },
   {
    "duration": 4,
    "start_time": "2022-03-16T10:50:49.712Z"
   },
   {
    "duration": 508,
    "start_time": "2022-03-16T10:50:49.875Z"
   },
   {
    "duration": 21,
    "start_time": "2022-03-16T10:50:50.386Z"
   },
   {
    "duration": 62,
    "start_time": "2022-03-16T10:50:50.411Z"
   },
   {
    "duration": 29,
    "start_time": "2022-03-16T10:50:50.547Z"
   },
   {
    "duration": 31,
    "start_time": "2022-03-16T10:50:50.723Z"
   },
   {
    "duration": 14,
    "start_time": "2022-03-16T10:50:51.090Z"
   },
   {
    "duration": 20,
    "start_time": "2022-03-16T10:50:51.279Z"
   },
   {
    "duration": 6,
    "start_time": "2022-03-16T10:50:51.886Z"
   },
   {
    "duration": 41,
    "start_time": "2022-03-16T10:50:52.084Z"
   },
   {
    "duration": 27,
    "start_time": "2022-03-16T10:50:52.270Z"
   },
   {
    "duration": 31,
    "start_time": "2022-03-16T10:50:52.459Z"
   },
   {
    "duration": 14,
    "start_time": "2022-03-16T10:50:52.810Z"
   },
   {
    "duration": 295,
    "start_time": "2022-03-16T10:50:53.179Z"
   },
   {
    "duration": 107,
    "start_time": "2022-03-16T10:50:53.546Z"
   },
   {
    "duration": 190,
    "start_time": "2022-03-16T10:50:53.907Z"
   },
   {
    "duration": 49,
    "start_time": "2022-03-16T10:50:54.255Z"
   },
   {
    "duration": 221,
    "start_time": "2022-03-16T10:50:54.620Z"
   },
   {
    "duration": 50,
    "start_time": "2022-03-16T10:50:55.040Z"
   },
   {
    "duration": 13,
    "start_time": "2022-03-16T10:50:55.550Z"
   },
   {
    "duration": 4233,
    "start_time": "2022-03-16T10:52:04.724Z"
   },
   {
    "duration": 3,
    "start_time": "2022-03-16T10:52:34.454Z"
   },
   {
    "duration": 490,
    "start_time": "2022-03-16T10:52:34.597Z"
   },
   {
    "duration": 21,
    "start_time": "2022-03-16T10:52:35.139Z"
   },
   {
    "duration": 35,
    "start_time": "2022-03-16T10:52:35.169Z"
   },
   {
    "duration": 26,
    "start_time": "2022-03-16T10:52:35.209Z"
   },
   {
    "duration": 52,
    "start_time": "2022-03-16T10:52:35.238Z"
   },
   {
    "duration": 12,
    "start_time": "2022-03-16T10:52:35.303Z"
   },
   {
    "duration": 17,
    "start_time": "2022-03-16T10:52:35.335Z"
   },
   {
    "duration": 7,
    "start_time": "2022-03-16T10:52:35.433Z"
   },
   {
    "duration": 42,
    "start_time": "2022-03-16T10:52:35.463Z"
   },
   {
    "duration": 28,
    "start_time": "2022-03-16T10:52:35.508Z"
   },
   {
    "duration": 51,
    "start_time": "2022-03-16T10:52:35.540Z"
   },
   {
    "duration": 14,
    "start_time": "2022-03-16T10:52:35.595Z"
   },
   {
    "duration": 294,
    "start_time": "2022-03-16T10:52:35.665Z"
   },
   {
    "duration": 127,
    "start_time": "2022-03-16T10:52:35.962Z"
   },
   {
    "duration": 206,
    "start_time": "2022-03-16T10:52:36.091Z"
   },
   {
    "duration": 50,
    "start_time": "2022-03-16T10:52:36.301Z"
   },
   {
    "duration": 247,
    "start_time": "2022-03-16T10:52:36.353Z"
   },
   {
    "duration": 47,
    "start_time": "2022-03-16T10:52:36.603Z"
   },
   {
    "duration": 30,
    "start_time": "2022-03-16T10:52:36.652Z"
   },
   {
    "duration": 218,
    "start_time": "2022-03-16T10:56:06.676Z"
   },
   {
    "duration": 700,
    "start_time": "2022-03-16T10:56:35.619Z"
   },
   {
    "duration": 548,
    "start_time": "2022-03-16T10:56:36.322Z"
   },
   {
    "duration": 30,
    "start_time": "2022-03-16T10:56:36.873Z"
   },
   {
    "duration": 38,
    "start_time": "2022-03-16T10:56:36.905Z"
   },
   {
    "duration": 51,
    "start_time": "2022-03-16T10:56:36.945Z"
   },
   {
    "duration": 30,
    "start_time": "2022-03-16T10:56:36.998Z"
   },
   {
    "duration": 12,
    "start_time": "2022-03-16T10:56:37.078Z"
   },
   {
    "duration": 17,
    "start_time": "2022-03-16T10:56:37.270Z"
   },
   {
    "duration": 6,
    "start_time": "2022-03-16T10:56:37.854Z"
   },
   {
    "duration": 47,
    "start_time": "2022-03-16T10:56:38.055Z"
   },
   {
    "duration": 29,
    "start_time": "2022-03-16T10:56:38.239Z"
   },
   {
    "duration": 34,
    "start_time": "2022-03-16T10:56:38.431Z"
   },
   {
    "duration": 16,
    "start_time": "2022-03-16T10:56:38.905Z"
   },
   {
    "duration": 300,
    "start_time": "2022-03-16T10:56:40.029Z"
   },
   {
    "duration": 104,
    "start_time": "2022-03-16T10:56:41.304Z"
   },
   {
    "duration": 205,
    "start_time": "2022-03-16T10:56:42.280Z"
   },
   {
    "duration": 74,
    "start_time": "2022-03-16T10:56:43.119Z"
   },
   {
    "duration": 295,
    "start_time": "2022-03-16T10:56:43.913Z"
   },
   {
    "duration": 69,
    "start_time": "2022-03-16T10:56:44.815Z"
   },
   {
    "duration": 17,
    "start_time": "2022-03-16T10:56:45.825Z"
   },
   {
    "duration": 271,
    "start_time": "2022-03-16T10:58:37.946Z"
   },
   {
    "duration": 733,
    "start_time": "2022-03-16T10:58:44.085Z"
   },
   {
    "duration": 547,
    "start_time": "2022-03-16T10:58:44.821Z"
   },
   {
    "duration": 31,
    "start_time": "2022-03-16T10:58:45.371Z"
   },
   {
    "duration": 48,
    "start_time": "2022-03-16T10:58:45.405Z"
   },
   {
    "duration": 43,
    "start_time": "2022-03-16T10:58:45.455Z"
   },
   {
    "duration": 30,
    "start_time": "2022-03-16T10:58:45.501Z"
   },
   {
    "duration": 51,
    "start_time": "2022-03-16T10:58:45.534Z"
   },
   {
    "duration": 31,
    "start_time": "2022-03-16T10:58:45.590Z"
   },
   {
    "duration": 21,
    "start_time": "2022-03-16T10:58:45.624Z"
   },
   {
    "duration": 59,
    "start_time": "2022-03-16T10:58:45.647Z"
   },
   {
    "duration": 29,
    "start_time": "2022-03-16T10:58:45.708Z"
   },
   {
    "duration": 51,
    "start_time": "2022-03-16T10:58:45.740Z"
   },
   {
    "duration": 16,
    "start_time": "2022-03-16T10:58:45.794Z"
   },
   {
    "duration": 312,
    "start_time": "2022-03-16T10:58:45.812Z"
   },
   {
    "duration": 117,
    "start_time": "2022-03-16T10:58:46.127Z"
   },
   {
    "duration": 202,
    "start_time": "2022-03-16T10:58:46.246Z"
   },
   {
    "duration": 61,
    "start_time": "2022-03-16T10:58:46.450Z"
   },
   {
    "duration": 235,
    "start_time": "2022-03-16T10:58:46.513Z"
   },
   {
    "duration": 57,
    "start_time": "2022-03-16T10:58:46.750Z"
   },
   {
    "duration": 18,
    "start_time": "2022-03-16T10:58:46.810Z"
   },
   {
    "duration": 2077,
    "start_time": "2022-03-16T10:58:46.830Z"
   },
   {
    "duration": 2062,
    "start_time": "2022-03-16T10:59:45.724Z"
   },
   {
    "duration": 212,
    "start_time": "2022-03-16T11:01:21.266Z"
   },
   {
    "duration": 173,
    "start_time": "2022-03-16T11:01:31.281Z"
   },
   {
    "duration": 2206,
    "start_time": "2022-03-16T11:02:44.347Z"
   },
   {
    "duration": 4806,
    "start_time": "2022-03-16T11:03:35.061Z"
   },
   {
    "duration": 27,
    "start_time": "2022-03-16T11:04:19.059Z"
   },
   {
    "duration": 29,
    "start_time": "2022-03-16T11:04:38.696Z"
   },
   {
    "duration": 4,
    "start_time": "2022-03-16T11:04:54.740Z"
   },
   {
    "duration": 507,
    "start_time": "2022-03-16T11:04:54.849Z"
   },
   {
    "duration": 20,
    "start_time": "2022-03-16T11:04:55.359Z"
   },
   {
    "duration": 35,
    "start_time": "2022-03-16T11:04:55.432Z"
   },
   {
    "duration": 32,
    "start_time": "2022-03-16T11:04:55.618Z"
   },
   {
    "duration": 32,
    "start_time": "2022-03-16T11:04:55.826Z"
   },
   {
    "duration": 15,
    "start_time": "2022-03-16T11:04:56.402Z"
   },
   {
    "duration": 20,
    "start_time": "2022-03-16T11:04:56.618Z"
   },
   {
    "duration": 7,
    "start_time": "2022-03-16T11:04:57.278Z"
   },
   {
    "duration": 46,
    "start_time": "2022-03-16T11:04:57.479Z"
   },
   {
    "duration": 26,
    "start_time": "2022-03-16T11:04:57.659Z"
   },
   {
    "duration": 32,
    "start_time": "2022-03-16T11:04:57.839Z"
   },
   {
    "duration": 14,
    "start_time": "2022-03-16T11:04:58.191Z"
   },
   {
    "duration": 285,
    "start_time": "2022-03-16T11:04:58.545Z"
   },
   {
    "duration": 95,
    "start_time": "2022-03-16T11:04:59.095Z"
   },
   {
    "duration": 191,
    "start_time": "2022-03-16T11:04:59.773Z"
   },
   {
    "duration": 49,
    "start_time": "2022-03-16T11:05:00.483Z"
   },
   {
    "duration": 228,
    "start_time": "2022-03-16T11:05:01.303Z"
   },
   {
    "duration": 45,
    "start_time": "2022-03-16T11:05:02.263Z"
   },
   {
    "duration": 16,
    "start_time": "2022-03-16T11:05:03.082Z"
   },
   {
    "duration": 27,
    "start_time": "2022-03-16T11:05:03.965Z"
   },
   {
    "duration": 40,
    "start_time": "2022-03-16T11:05:50.311Z"
   },
   {
    "duration": 39,
    "start_time": "2022-03-16T11:09:52.105Z"
   },
   {
    "duration": 11,
    "start_time": "2022-03-16T11:10:14.091Z"
   },
   {
    "duration": 38,
    "start_time": "2022-03-16T11:11:32.931Z"
   },
   {
    "duration": 43,
    "start_time": "2022-03-16T11:11:46.365Z"
   },
   {
    "duration": 6,
    "start_time": "2022-03-16T11:13:00.641Z"
   },
   {
    "duration": 13,
    "start_time": "2022-03-16T11:13:10.242Z"
   },
   {
    "duration": 16,
    "start_time": "2022-03-16T11:13:14.745Z"
   },
   {
    "duration": 17,
    "start_time": "2022-03-16T11:13:18.534Z"
   },
   {
    "duration": 12,
    "start_time": "2022-03-16T11:13:28.102Z"
   },
   {
    "duration": 13,
    "start_time": "2022-03-16T11:13:44.549Z"
   },
   {
    "duration": 15,
    "start_time": "2022-03-16T11:13:57.126Z"
   },
   {
    "duration": 11,
    "start_time": "2022-03-16T11:14:17.654Z"
   },
   {
    "duration": 17,
    "start_time": "2022-03-16T11:16:19.989Z"
   },
   {
    "duration": 18,
    "start_time": "2022-03-16T11:17:28.809Z"
   },
   {
    "duration": 15,
    "start_time": "2022-03-16T11:17:47.593Z"
   },
   {
    "duration": 182,
    "start_time": "2022-03-16T11:19:44.589Z"
   },
   {
    "duration": 23,
    "start_time": "2022-03-16T11:19:56.302Z"
   },
   {
    "duration": 243,
    "start_time": "2022-03-16T11:25:32.994Z"
   },
   {
    "duration": 216,
    "start_time": "2022-03-16T11:27:09.885Z"
   },
   {
    "duration": 2939,
    "start_time": "2022-03-16T11:27:42.938Z"
   },
   {
    "duration": 2897,
    "start_time": "2022-03-16T11:28:57.070Z"
   },
   {
    "duration": 16,
    "start_time": "2022-03-16T11:29:09.324Z"
   },
   {
    "duration": 268,
    "start_time": "2022-03-16T11:29:30.014Z"
   },
   {
    "duration": 18,
    "start_time": "2022-03-16T11:29:43.063Z"
   },
   {
    "duration": 28,
    "start_time": "2022-03-16T11:35:10.646Z"
   },
   {
    "duration": 4319,
    "start_time": "2022-03-16T11:35:17.911Z"
   },
   {
    "duration": 4,
    "start_time": "2022-03-16T11:35:51.111Z"
   },
   {
    "duration": 520,
    "start_time": "2022-03-16T11:35:51.282Z"
   },
   {
    "duration": 28,
    "start_time": "2022-03-16T11:35:51.806Z"
   },
   {
    "duration": 36,
    "start_time": "2022-03-16T11:35:52.132Z"
   },
   {
    "duration": 27,
    "start_time": "2022-03-16T11:35:52.170Z"
   },
   {
    "duration": 32,
    "start_time": "2022-03-16T11:35:52.201Z"
   },
   {
    "duration": 13,
    "start_time": "2022-03-16T11:35:52.267Z"
   },
   {
    "duration": 17,
    "start_time": "2022-03-16T11:35:52.298Z"
   },
   {
    "duration": 7,
    "start_time": "2022-03-16T11:35:52.395Z"
   },
   {
    "duration": 44,
    "start_time": "2022-03-16T11:35:52.431Z"
   },
   {
    "duration": 30,
    "start_time": "2022-03-16T11:35:52.478Z"
   },
   {
    "duration": 33,
    "start_time": "2022-03-16T11:35:53.011Z"
   },
   {
    "duration": 15,
    "start_time": "2022-03-16T11:35:53.391Z"
   },
   {
    "duration": 293,
    "start_time": "2022-03-16T11:35:53.935Z"
   },
   {
    "duration": 111,
    "start_time": "2022-03-16T11:35:54.231Z"
   },
   {
    "duration": 200,
    "start_time": "2022-03-16T11:35:54.564Z"
   },
   {
    "duration": 49,
    "start_time": "2022-03-16T11:35:54.948Z"
   },
   {
    "duration": 224,
    "start_time": "2022-03-16T11:35:55.640Z"
   },
   {
    "duration": 45,
    "start_time": "2022-03-16T11:35:56.538Z"
   },
   {
    "duration": 14,
    "start_time": "2022-03-16T11:35:57.366Z"
   },
   {
    "duration": 49,
    "start_time": "2022-03-16T11:35:58.733Z"
   },
   {
    "duration": 15,
    "start_time": "2022-03-16T11:36:01.621Z"
   },
   {
    "duration": 15,
    "start_time": "2022-03-16T11:36:03.295Z"
   },
   {
    "duration": 4193,
    "start_time": "2022-03-16T11:36:04.287Z"
   },
   {
    "duration": 4166,
    "start_time": "2022-03-16T11:36:50.683Z"
   },
   {
    "duration": 4104,
    "start_time": "2022-03-16T11:37:14.917Z"
   },
   {
    "duration": 4464,
    "start_time": "2022-03-16T11:37:22.719Z"
   },
   {
    "duration": 4540,
    "start_time": "2022-03-16T11:37:35.579Z"
   },
   {
    "duration": 31,
    "start_time": "2022-03-16T11:37:57.667Z"
   },
   {
    "duration": 15,
    "start_time": "2022-03-16T11:38:08.829Z"
   },
   {
    "duration": 4210,
    "start_time": "2022-03-16T11:38:08.847Z"
   },
   {
    "duration": 14,
    "start_time": "2022-03-16T11:38:29.212Z"
   },
   {
    "duration": 11,
    "start_time": "2022-03-16T11:38:41.763Z"
   },
   {
    "duration": 19,
    "start_time": "2022-03-16T11:38:47.519Z"
   },
   {
    "duration": 21,
    "start_time": "2022-03-16T11:39:02.191Z"
   },
   {
    "duration": 14,
    "start_time": "2022-03-16T11:39:08.251Z"
   },
   {
    "duration": 14,
    "start_time": "2022-03-16T11:39:21.262Z"
   },
   {
    "duration": 15,
    "start_time": "2022-03-16T11:39:22.498Z"
   },
   {
    "duration": 4136,
    "start_time": "2022-03-16T11:39:23.150Z"
   },
   {
    "duration": 14,
    "start_time": "2022-03-16T11:41:42.189Z"
   },
   {
    "duration": 15,
    "start_time": "2022-03-16T11:41:47.017Z"
   },
   {
    "duration": 186,
    "start_time": "2022-03-16T11:42:25.404Z"
   },
   {
    "duration": 3,
    "start_time": "2022-03-16T11:42:34.856Z"
   },
   {
    "duration": 494,
    "start_time": "2022-03-16T11:42:34.889Z"
   },
   {
    "duration": 20,
    "start_time": "2022-03-16T11:42:35.385Z"
   },
   {
    "duration": 35,
    "start_time": "2022-03-16T11:42:35.408Z"
   },
   {
    "duration": 26,
    "start_time": "2022-03-16T11:42:35.474Z"
   },
   {
    "duration": 33,
    "start_time": "2022-03-16T11:42:35.502Z"
   },
   {
    "duration": 45,
    "start_time": "2022-03-16T11:42:35.538Z"
   },
   {
    "duration": 18,
    "start_time": "2022-03-16T11:42:35.586Z"
   },
   {
    "duration": 10,
    "start_time": "2022-03-16T11:42:35.608Z"
   },
   {
    "duration": 72,
    "start_time": "2022-03-16T11:42:35.621Z"
   },
   {
    "duration": 25,
    "start_time": "2022-03-16T11:42:35.695Z"
   },
   {
    "duration": 56,
    "start_time": "2022-03-16T11:42:35.722Z"
   },
   {
    "duration": 14,
    "start_time": "2022-03-16T11:42:35.781Z"
   },
   {
    "duration": 298,
    "start_time": "2022-03-16T11:42:35.797Z"
   },
   {
    "duration": 100,
    "start_time": "2022-03-16T11:42:36.098Z"
   },
   {
    "duration": 196,
    "start_time": "2022-03-16T11:42:36.200Z"
   },
   {
    "duration": 47,
    "start_time": "2022-03-16T11:42:36.399Z"
   },
   {
    "duration": 221,
    "start_time": "2022-03-16T11:42:36.884Z"
   },
   {
    "duration": 44,
    "start_time": "2022-03-16T11:42:37.109Z"
   },
   {
    "duration": 15,
    "start_time": "2022-03-16T11:42:37.175Z"
   },
   {
    "duration": 46,
    "start_time": "2022-03-16T11:42:37.193Z"
   },
   {
    "duration": 55,
    "start_time": "2022-03-16T11:42:37.241Z"
   },
   {
    "duration": 26,
    "start_time": "2022-03-16T11:42:59.454Z"
   },
   {
    "duration": 26,
    "start_time": "2022-03-16T11:43:12.648Z"
   },
   {
    "duration": 23,
    "start_time": "2022-03-16T11:43:45.443Z"
   },
   {
    "duration": 23,
    "start_time": "2022-03-16T11:44:48.996Z"
   },
   {
    "duration": 4,
    "start_time": "2022-03-16T11:44:56.048Z"
   },
   {
    "duration": 504,
    "start_time": "2022-03-16T11:44:56.079Z"
   },
   {
    "duration": 20,
    "start_time": "2022-03-16T11:44:56.585Z"
   },
   {
    "duration": 40,
    "start_time": "2022-03-16T11:44:56.608Z"
   },
   {
    "duration": 44,
    "start_time": "2022-03-16T11:44:56.650Z"
   },
   {
    "duration": 31,
    "start_time": "2022-03-16T11:44:56.696Z"
   },
   {
    "duration": 46,
    "start_time": "2022-03-16T11:44:56.729Z"
   },
   {
    "duration": 17,
    "start_time": "2022-03-16T11:44:56.778Z"
   },
   {
    "duration": 6,
    "start_time": "2022-03-16T11:44:56.799Z"
   },
   {
    "duration": 75,
    "start_time": "2022-03-16T11:44:56.808Z"
   },
   {
    "duration": 27,
    "start_time": "2022-03-16T11:44:56.885Z"
   },
   {
    "duration": 59,
    "start_time": "2022-03-16T11:44:56.914Z"
   },
   {
    "duration": 14,
    "start_time": "2022-03-16T11:44:56.976Z"
   },
   {
    "duration": 303,
    "start_time": "2022-03-16T11:44:56.993Z"
   },
   {
    "duration": 104,
    "start_time": "2022-03-16T11:44:57.299Z"
   },
   {
    "duration": 194,
    "start_time": "2022-03-16T11:44:57.406Z"
   },
   {
    "duration": 50,
    "start_time": "2022-03-16T11:44:57.604Z"
   },
   {
    "duration": 245,
    "start_time": "2022-03-16T11:44:57.657Z"
   },
   {
    "duration": 45,
    "start_time": "2022-03-16T11:44:57.905Z"
   },
   {
    "duration": 32,
    "start_time": "2022-03-16T11:44:57.952Z"
   },
   {
    "duration": 44,
    "start_time": "2022-03-16T11:44:57.986Z"
   },
   {
    "duration": 53,
    "start_time": "2022-03-16T11:44:58.033Z"
   },
   {
    "duration": 15,
    "start_time": "2022-03-16T11:44:58.090Z"
   },
   {
    "duration": 12,
    "start_time": "2022-03-16T11:45:07.574Z"
   },
   {
    "duration": 5,
    "start_time": "2022-03-16T11:46:52.933Z"
   },
   {
    "duration": 14,
    "start_time": "2022-03-16T11:46:59.081Z"
   },
   {
    "duration": 205,
    "start_time": "2022-03-16T11:47:33.902Z"
   },
   {
    "duration": 9,
    "start_time": "2022-03-16T11:47:37.346Z"
   },
   {
    "duration": 180,
    "start_time": "2022-03-16T11:48:07.608Z"
   },
   {
    "duration": 14,
    "start_time": "2022-03-16T11:48:10.669Z"
   },
   {
    "duration": 16,
    "start_time": "2022-03-16T11:48:42.372Z"
   },
   {
    "duration": 60,
    "start_time": "2022-03-16T11:50:17.761Z"
   },
   {
    "duration": 4870,
    "start_time": "2022-03-16T11:52:06.620Z"
   },
   {
    "duration": 4191,
    "start_time": "2022-03-16T11:52:27.646Z"
   },
   {
    "duration": 4361,
    "start_time": "2022-03-16T11:52:40.118Z"
   },
   {
    "duration": 4928,
    "start_time": "2022-03-16T11:52:58.140Z"
   },
   {
    "duration": 14,
    "start_time": "2022-03-16T12:02:24.308Z"
   },
   {
    "duration": 15,
    "start_time": "2022-03-16T12:02:27.574Z"
   },
   {
    "duration": 19,
    "start_time": "2022-03-16T12:02:31.296Z"
   },
   {
    "duration": 17,
    "start_time": "2022-03-16T12:02:39.803Z"
   },
   {
    "duration": 16,
    "start_time": "2022-03-16T12:02:44.783Z"
   },
   {
    "duration": 27,
    "start_time": "2022-03-16T12:03:37.793Z"
   },
   {
    "duration": 23,
    "start_time": "2022-03-16T12:03:54.433Z"
   },
   {
    "duration": 28,
    "start_time": "2022-03-16T12:04:05.218Z"
   },
   {
    "duration": 29,
    "start_time": "2022-03-16T12:04:12.296Z"
   },
   {
    "duration": 25,
    "start_time": "2022-03-16T12:04:25.886Z"
   },
   {
    "duration": 32,
    "start_time": "2022-03-16T12:05:36.935Z"
   },
   {
    "duration": 28,
    "start_time": "2022-03-16T12:05:58.857Z"
   },
   {
    "duration": 4,
    "start_time": "2022-03-16T12:06:04.137Z"
   },
   {
    "duration": 534,
    "start_time": "2022-03-16T12:06:04.170Z"
   },
   {
    "duration": 23,
    "start_time": "2022-03-16T12:06:04.707Z"
   },
   {
    "duration": 77,
    "start_time": "2022-03-16T12:06:04.733Z"
   },
   {
    "duration": 31,
    "start_time": "2022-03-16T12:06:04.814Z"
   },
   {
    "duration": 52,
    "start_time": "2022-03-16T12:06:04.848Z"
   },
   {
    "duration": 13,
    "start_time": "2022-03-16T12:06:04.902Z"
   },
   {
    "duration": 68,
    "start_time": "2022-03-16T12:06:04.918Z"
   },
   {
    "duration": 10,
    "start_time": "2022-03-16T12:06:04.990Z"
   },
   {
    "duration": 48,
    "start_time": "2022-03-16T12:06:05.002Z"
   },
   {
    "duration": 28,
    "start_time": "2022-03-16T12:06:05.075Z"
   },
   {
    "duration": 33,
    "start_time": "2022-03-16T12:06:05.106Z"
   },
   {
    "duration": 42,
    "start_time": "2022-03-16T12:06:05.142Z"
   },
   {
    "duration": 307,
    "start_time": "2022-03-16T12:06:05.187Z"
   },
   {
    "duration": 112,
    "start_time": "2022-03-16T12:06:05.497Z"
   },
   {
    "duration": 205,
    "start_time": "2022-03-16T12:06:05.611Z"
   },
   {
    "duration": 66,
    "start_time": "2022-03-16T12:06:05.819Z"
   },
   {
    "duration": 241,
    "start_time": "2022-03-16T12:06:05.888Z"
   },
   {
    "duration": 64,
    "start_time": "2022-03-16T12:06:06.131Z"
   },
   {
    "duration": 16,
    "start_time": "2022-03-16T12:06:06.198Z"
   },
   {
    "duration": 88,
    "start_time": "2022-03-16T12:06:06.216Z"
   },
   {
    "duration": 15,
    "start_time": "2022-03-16T12:06:06.307Z"
   },
   {
    "duration": 20,
    "start_time": "2022-03-16T12:06:06.325Z"
   },
   {
    "duration": 41,
    "start_time": "2022-03-16T12:06:06.348Z"
   },
   {
    "duration": 27,
    "start_time": "2022-03-16T12:06:15.887Z"
   },
   {
    "duration": 27,
    "start_time": "2022-03-16T12:06:23.332Z"
   },
   {
    "duration": 29,
    "start_time": "2022-03-16T12:06:27.319Z"
   },
   {
    "duration": 32,
    "start_time": "2022-03-16T12:06:37.249Z"
   },
   {
    "duration": 4,
    "start_time": "2022-03-16T12:06:42.516Z"
   },
   {
    "duration": 508,
    "start_time": "2022-03-16T12:06:42.550Z"
   },
   {
    "duration": 19,
    "start_time": "2022-03-16T12:06:43.061Z"
   },
   {
    "duration": 42,
    "start_time": "2022-03-16T12:06:43.084Z"
   },
   {
    "duration": 52,
    "start_time": "2022-03-16T12:06:43.129Z"
   },
   {
    "duration": 32,
    "start_time": "2022-03-16T12:06:43.183Z"
   },
   {
    "duration": 12,
    "start_time": "2022-03-16T12:06:43.217Z"
   },
   {
    "duration": 55,
    "start_time": "2022-03-16T12:06:43.231Z"
   },
   {
    "duration": 12,
    "start_time": "2022-03-16T12:06:43.290Z"
   },
   {
    "duration": 65,
    "start_time": "2022-03-16T12:06:43.305Z"
   },
   {
    "duration": 26,
    "start_time": "2022-03-16T12:06:43.372Z"
   },
   {
    "duration": 31,
    "start_time": "2022-03-16T12:06:43.401Z"
   },
   {
    "duration": 40,
    "start_time": "2022-03-16T12:06:43.435Z"
   },
   {
    "duration": 301,
    "start_time": "2022-03-16T12:06:43.477Z"
   },
   {
    "duration": 107,
    "start_time": "2022-03-16T12:06:43.781Z"
   },
   {
    "duration": 204,
    "start_time": "2022-03-16T12:06:43.891Z"
   },
   {
    "duration": 50,
    "start_time": "2022-03-16T12:06:44.100Z"
   },
   {
    "duration": 252,
    "start_time": "2022-03-16T12:06:44.153Z"
   },
   {
    "duration": 45,
    "start_time": "2022-03-16T12:06:44.407Z"
   },
   {
    "duration": 31,
    "start_time": "2022-03-16T12:06:44.454Z"
   },
   {
    "duration": 65,
    "start_time": "2022-03-16T12:06:44.488Z"
   },
   {
    "duration": 24,
    "start_time": "2022-03-16T12:06:44.556Z"
   },
   {
    "duration": 25,
    "start_time": "2022-03-16T12:06:44.583Z"
   },
   {
    "duration": 29,
    "start_time": "2022-03-16T12:06:44.610Z"
   },
   {
    "duration": 211,
    "start_time": "2022-03-16T12:07:29.534Z"
   },
   {
    "duration": 19,
    "start_time": "2022-03-16T12:07:43.040Z"
   },
   {
    "duration": 12,
    "start_time": "2022-03-16T12:08:40.806Z"
   },
   {
    "duration": 29,
    "start_time": "2022-03-16T12:11:46.576Z"
   },
   {
    "duration": 15,
    "start_time": "2022-03-16T12:14:08.471Z"
   },
   {
    "duration": 23,
    "start_time": "2022-03-16T12:14:11.738Z"
   },
   {
    "duration": 13,
    "start_time": "2022-03-16T12:14:30.437Z"
   },
   {
    "duration": 39,
    "start_time": "2022-03-16T12:14:33.265Z"
   },
   {
    "duration": 39,
    "start_time": "2022-03-16T12:14:55.919Z"
   },
   {
    "duration": 39,
    "start_time": "2022-03-16T12:15:15.242Z"
   },
   {
    "duration": 32,
    "start_time": "2022-03-16T12:15:37.419Z"
   },
   {
    "duration": 4,
    "start_time": "2022-03-16T12:15:51.881Z"
   },
   {
    "duration": 512,
    "start_time": "2022-03-16T12:15:51.913Z"
   },
   {
    "duration": 21,
    "start_time": "2022-03-16T12:15:52.428Z"
   },
   {
    "duration": 52,
    "start_time": "2022-03-16T12:15:52.451Z"
   },
   {
    "duration": 26,
    "start_time": "2022-03-16T12:15:52.506Z"
   },
   {
    "duration": 61,
    "start_time": "2022-03-16T12:15:52.535Z"
   },
   {
    "duration": 14,
    "start_time": "2022-03-16T12:15:52.599Z"
   },
   {
    "duration": 19,
    "start_time": "2022-03-16T12:15:52.616Z"
   },
   {
    "duration": 6,
    "start_time": "2022-03-16T12:15:52.675Z"
   },
   {
    "duration": 44,
    "start_time": "2022-03-16T12:15:52.684Z"
   },
   {
    "duration": 50,
    "start_time": "2022-03-16T12:15:52.731Z"
   },
   {
    "duration": 31,
    "start_time": "2022-03-16T12:15:52.784Z"
   },
   {
    "duration": 14,
    "start_time": "2022-03-16T12:15:52.818Z"
   },
   {
    "duration": 315,
    "start_time": "2022-03-16T12:15:52.834Z"
   },
   {
    "duration": 107,
    "start_time": "2022-03-16T12:15:53.152Z"
   },
   {
    "duration": 195,
    "start_time": "2022-03-16T12:15:53.273Z"
   },
   {
    "duration": 49,
    "start_time": "2022-03-16T12:15:53.476Z"
   },
   {
    "duration": 265,
    "start_time": "2022-03-16T12:15:53.528Z"
   },
   {
    "duration": 46,
    "start_time": "2022-03-16T12:15:53.797Z"
   },
   {
    "duration": 39,
    "start_time": "2022-03-16T12:15:53.846Z"
   },
   {
    "duration": 65,
    "start_time": "2022-03-16T12:15:53.888Z"
   },
   {
    "duration": 32,
    "start_time": "2022-03-16T12:15:53.955Z"
   },
   {
    "duration": 16,
    "start_time": "2022-03-16T12:15:53.989Z"
   },
   {
    "duration": 21,
    "start_time": "2022-03-16T12:15:54.007Z"
   },
   {
    "duration": 69,
    "start_time": "2022-03-16T12:15:54.030Z"
   },
   {
    "duration": 28,
    "start_time": "2022-03-16T12:16:39.618Z"
   },
   {
    "duration": 29,
    "start_time": "2022-03-16T12:17:41.641Z"
   },
   {
    "duration": 34,
    "start_time": "2022-03-16T12:18:50.140Z"
   },
   {
    "duration": 4,
    "start_time": "2022-03-16T12:19:01.948Z"
   },
   {
    "duration": 513,
    "start_time": "2022-03-16T12:19:01.981Z"
   },
   {
    "duration": 20,
    "start_time": "2022-03-16T12:19:02.497Z"
   },
   {
    "duration": 57,
    "start_time": "2022-03-16T12:19:02.520Z"
   },
   {
    "duration": 28,
    "start_time": "2022-03-16T12:19:02.580Z"
   },
   {
    "duration": 62,
    "start_time": "2022-03-16T12:19:02.611Z"
   },
   {
    "duration": 13,
    "start_time": "2022-03-16T12:19:02.676Z"
   },
   {
    "duration": 26,
    "start_time": "2022-03-16T12:19:02.691Z"
   },
   {
    "duration": 6,
    "start_time": "2022-03-16T12:19:03.222Z"
   },
   {
    "duration": 43,
    "start_time": "2022-03-16T12:19:03.448Z"
   },
   {
    "duration": 26,
    "start_time": "2022-03-16T12:19:03.626Z"
   },
   {
    "duration": 32,
    "start_time": "2022-03-16T12:19:03.790Z"
   },
   {
    "duration": 14,
    "start_time": "2022-03-16T12:19:04.145Z"
   },
   {
    "duration": 290,
    "start_time": "2022-03-16T12:19:04.489Z"
   },
   {
    "duration": 95,
    "start_time": "2022-03-16T12:19:05.112Z"
   },
   {
    "duration": 194,
    "start_time": "2022-03-16T12:19:06.264Z"
   },
   {
    "duration": 49,
    "start_time": "2022-03-16T12:19:06.952Z"
   },
   {
    "duration": 224,
    "start_time": "2022-03-16T12:19:07.691Z"
   },
   {
    "duration": 45,
    "start_time": "2022-03-16T12:19:08.383Z"
   },
   {
    "duration": 14,
    "start_time": "2022-03-16T12:19:09.315Z"
   },
   {
    "duration": 45,
    "start_time": "2022-03-16T12:19:09.934Z"
   },
   {
    "duration": 21,
    "start_time": "2022-03-16T12:19:10.321Z"
   },
   {
    "duration": 16,
    "start_time": "2022-03-16T12:19:10.849Z"
   },
   {
    "duration": 20,
    "start_time": "2022-03-16T12:19:11.639Z"
   },
   {
    "duration": 28,
    "start_time": "2022-03-16T12:19:13.740Z"
   },
   {
    "duration": 45,
    "start_time": "2022-03-16T12:22:23.846Z"
   },
   {
    "duration": 42,
    "start_time": "2022-03-16T12:23:49.543Z"
   },
   {
    "duration": 33,
    "start_time": "2022-03-16T12:24:18.726Z"
   },
   {
    "duration": 4,
    "start_time": "2022-03-16T12:24:32.850Z"
   },
   {
    "duration": 736,
    "start_time": "2022-03-16T12:24:32.884Z"
   },
   {
    "duration": 21,
    "start_time": "2022-03-16T12:24:33.624Z"
   },
   {
    "duration": 49,
    "start_time": "2022-03-16T12:24:33.648Z"
   },
   {
    "duration": 28,
    "start_time": "2022-03-16T12:24:33.699Z"
   },
   {
    "duration": 61,
    "start_time": "2022-03-16T12:24:33.729Z"
   },
   {
    "duration": 12,
    "start_time": "2022-03-16T12:24:33.792Z"
   },
   {
    "duration": 19,
    "start_time": "2022-03-16T12:24:33.807Z"
   },
   {
    "duration": 42,
    "start_time": "2022-03-16T12:24:33.831Z"
   },
   {
    "duration": 40,
    "start_time": "2022-03-16T12:24:33.877Z"
   },
   {
    "duration": 26,
    "start_time": "2022-03-16T12:24:33.919Z"
   },
   {
    "duration": 30,
    "start_time": "2022-03-16T12:24:33.973Z"
   },
   {
    "duration": 16,
    "start_time": "2022-03-16T12:24:34.112Z"
   },
   {
    "duration": 288,
    "start_time": "2022-03-16T12:24:34.653Z"
   },
   {
    "duration": 106,
    "start_time": "2022-03-16T12:24:34.945Z"
   },
   {
    "duration": 208,
    "start_time": "2022-03-16T12:24:35.055Z"
   },
   {
    "duration": 50,
    "start_time": "2022-03-16T12:24:35.265Z"
   },
   {
    "duration": 227,
    "start_time": "2022-03-16T12:24:35.317Z"
   },
   {
    "duration": 45,
    "start_time": "2022-03-16T12:24:36.797Z"
   },
   {
    "duration": 14,
    "start_time": "2022-03-16T12:24:37.404Z"
   },
   {
    "duration": 43,
    "start_time": "2022-03-16T12:24:37.752Z"
   },
   {
    "duration": 15,
    "start_time": "2022-03-16T12:24:38.033Z"
   },
   {
    "duration": 16,
    "start_time": "2022-03-16T12:24:38.867Z"
   },
   {
    "duration": 19,
    "start_time": "2022-03-16T12:24:39.250Z"
   },
   {
    "duration": 25,
    "start_time": "2022-03-16T12:24:39.605Z"
   },
   {
    "duration": 35,
    "start_time": "2022-03-16T12:24:40.183Z"
   },
   {
    "duration": 24,
    "start_time": "2022-03-16T12:30:04.784Z"
   },
   {
    "duration": 22,
    "start_time": "2022-03-16T12:32:23.361Z"
   },
   {
    "duration": 4,
    "start_time": "2022-03-16T12:32:31.340Z"
   },
   {
    "duration": 506,
    "start_time": "2022-03-16T12:32:31.374Z"
   },
   {
    "duration": 27,
    "start_time": "2022-03-16T12:32:31.883Z"
   },
   {
    "duration": 63,
    "start_time": "2022-03-16T12:32:31.913Z"
   },
   {
    "duration": 26,
    "start_time": "2022-03-16T12:32:31.978Z"
   },
   {
    "duration": 42,
    "start_time": "2022-03-16T12:32:32.006Z"
   },
   {
    "duration": 34,
    "start_time": "2022-03-16T12:32:32.050Z"
   },
   {
    "duration": 33,
    "start_time": "2022-03-16T12:32:32.086Z"
   },
   {
    "duration": 8,
    "start_time": "2022-03-16T12:32:32.123Z"
   },
   {
    "duration": 64,
    "start_time": "2022-03-16T12:32:32.134Z"
   },
   {
    "duration": 36,
    "start_time": "2022-03-16T12:32:32.201Z"
   },
   {
    "duration": 53,
    "start_time": "2022-03-16T12:32:32.240Z"
   },
   {
    "duration": 15,
    "start_time": "2022-03-16T12:32:32.296Z"
   },
   {
    "duration": 291,
    "start_time": "2022-03-16T12:32:32.872Z"
   },
   {
    "duration": 97,
    "start_time": "2022-03-16T12:32:33.318Z"
   },
   {
    "duration": 189,
    "start_time": "2022-03-16T12:32:33.737Z"
   },
   {
    "duration": 48,
    "start_time": "2022-03-16T12:32:34.084Z"
   },
   {
    "duration": 212,
    "start_time": "2022-03-16T12:32:34.441Z"
   },
   {
    "duration": 42,
    "start_time": "2022-03-16T12:32:34.810Z"
   },
   {
    "duration": 14,
    "start_time": "2022-03-16T12:32:35.155Z"
   },
   {
    "duration": 43,
    "start_time": "2022-03-16T12:32:35.501Z"
   },
   {
    "duration": 17,
    "start_time": "2022-03-16T12:32:35.855Z"
   },
   {
    "duration": 14,
    "start_time": "2022-03-16T12:32:36.220Z"
   },
   {
    "duration": 21,
    "start_time": "2022-03-16T12:32:36.776Z"
   },
   {
    "duration": 23,
    "start_time": "2022-03-16T12:32:37.274Z"
   },
   {
    "duration": 21,
    "start_time": "2022-03-16T12:32:37.704Z"
   },
   {
    "duration": 21,
    "start_time": "2022-03-16T12:32:38.158Z"
   },
   {
    "duration": 20,
    "start_time": "2022-03-16T12:33:58.519Z"
   },
   {
    "duration": 22,
    "start_time": "2022-03-16T12:34:11.372Z"
   },
   {
    "duration": 6,
    "start_time": "2022-03-16T12:37:58.646Z"
   },
   {
    "duration": 21,
    "start_time": "2022-03-16T12:39:22.866Z"
   },
   {
    "duration": 25,
    "start_time": "2022-03-16T12:40:16.211Z"
   },
   {
    "duration": 56,
    "start_time": "2022-03-16T12:40:58.994Z"
   },
   {
    "duration": 36,
    "start_time": "2022-03-16T12:41:31.115Z"
   },
   {
    "duration": 30,
    "start_time": "2022-03-16T12:41:38.209Z"
   },
   {
    "duration": 46,
    "start_time": "2022-03-16T12:41:50.078Z"
   },
   {
    "duration": 27,
    "start_time": "2022-03-16T12:42:26.225Z"
   },
   {
    "duration": 28,
    "start_time": "2022-03-16T12:46:15.271Z"
   },
   {
    "duration": 14,
    "start_time": "2022-03-16T12:54:04.811Z"
   },
   {
    "duration": 34,
    "start_time": "2022-03-16T12:54:32.673Z"
   },
   {
    "duration": 23,
    "start_time": "2022-03-16T13:09:28.087Z"
   },
   {
    "duration": 25,
    "start_time": "2022-03-16T13:09:38.027Z"
   },
   {
    "duration": 3,
    "start_time": "2022-03-16T13:23:47.492Z"
   },
   {
    "duration": 531,
    "start_time": "2022-03-16T13:23:47.521Z"
   },
   {
    "duration": 20,
    "start_time": "2022-03-16T13:23:48.055Z"
   },
   {
    "duration": 41,
    "start_time": "2022-03-16T13:23:48.079Z"
   },
   {
    "duration": 65,
    "start_time": "2022-03-16T13:23:48.123Z"
   },
   {
    "duration": 35,
    "start_time": "2022-03-16T13:23:48.190Z"
   },
   {
    "duration": 49,
    "start_time": "2022-03-16T13:23:48.227Z"
   },
   {
    "duration": 20,
    "start_time": "2022-03-16T13:23:48.279Z"
   },
   {
    "duration": 5,
    "start_time": "2022-03-16T13:23:48.302Z"
   },
   {
    "duration": 67,
    "start_time": "2022-03-16T13:23:48.310Z"
   },
   {
    "duration": 31,
    "start_time": "2022-03-16T13:23:48.379Z"
   },
   {
    "duration": 34,
    "start_time": "2022-03-16T13:23:48.412Z"
   },
   {
    "duration": 36,
    "start_time": "2022-03-16T13:23:48.449Z"
   },
   {
    "duration": 312,
    "start_time": "2022-03-16T13:23:48.488Z"
   },
   {
    "duration": 113,
    "start_time": "2022-03-16T13:23:48.802Z"
   },
   {
    "duration": 204,
    "start_time": "2022-03-16T13:23:48.917Z"
   },
   {
    "duration": 75,
    "start_time": "2022-03-16T13:23:49.126Z"
   },
   {
    "duration": 252,
    "start_time": "2022-03-16T13:23:49.204Z"
   },
   {
    "duration": 62,
    "start_time": "2022-03-16T13:23:49.459Z"
   },
   {
    "duration": 15,
    "start_time": "2022-03-16T13:23:49.725Z"
   },
   {
    "duration": 55,
    "start_time": "2022-03-16T13:23:50.067Z"
   },
   {
    "duration": 17,
    "start_time": "2022-03-16T13:23:50.386Z"
   },
   {
    "duration": 16,
    "start_time": "2022-03-16T13:23:50.715Z"
   },
   {
    "duration": 22,
    "start_time": "2022-03-16T13:23:51.047Z"
   },
   {
    "duration": 26,
    "start_time": "2022-03-16T13:23:51.414Z"
   },
   {
    "duration": 22,
    "start_time": "2022-03-16T13:23:51.786Z"
   },
   {
    "duration": 23,
    "start_time": "2022-03-16T13:23:52.198Z"
   },
   {
    "duration": 5,
    "start_time": "2022-03-16T13:23:52.702Z"
   },
   {
    "duration": 30,
    "start_time": "2022-03-16T13:23:53.077Z"
   },
   {
    "duration": 29,
    "start_time": "2022-03-16T13:23:53.486Z"
   },
   {
    "duration": 23,
    "start_time": "2022-03-16T13:23:54.090Z"
   },
   {
    "duration": 4830,
    "start_time": "2022-03-16T13:23:54.410Z"
   },
   {
    "duration": 173,
    "start_time": "2022-03-16T13:28:51.747Z"
   },
   {
    "duration": 214,
    "start_time": "2022-03-16T13:34:01.274Z"
   },
   {
    "duration": 29,
    "start_time": "2022-03-16T13:34:30.131Z"
   },
   {
    "duration": 30,
    "start_time": "2022-03-16T13:35:17.940Z"
   },
   {
    "duration": 8,
    "start_time": "2022-03-16T13:35:29.271Z"
   },
   {
    "duration": 399,
    "start_time": "2022-03-16T13:35:40.414Z"
   },
   {
    "duration": 226,
    "start_time": "2022-03-16T13:35:53.088Z"
   },
   {
    "duration": 4,
    "start_time": "2022-03-16T13:36:03.276Z"
   },
   {
    "duration": 562,
    "start_time": "2022-03-16T13:36:03.314Z"
   },
   {
    "duration": 22,
    "start_time": "2022-03-16T13:36:03.879Z"
   },
   {
    "duration": 69,
    "start_time": "2022-03-16T13:36:03.905Z"
   },
   {
    "duration": 31,
    "start_time": "2022-03-16T13:36:03.978Z"
   },
   {
    "duration": 66,
    "start_time": "2022-03-16T13:36:04.011Z"
   },
   {
    "duration": 13,
    "start_time": "2022-03-16T13:36:04.079Z"
   },
   {
    "duration": 34,
    "start_time": "2022-03-16T13:36:04.094Z"
   },
   {
    "duration": 7,
    "start_time": "2022-03-16T13:36:04.132Z"
   },
   {
    "duration": 71,
    "start_time": "2022-03-16T13:36:04.142Z"
   },
   {
    "duration": 27,
    "start_time": "2022-03-16T13:36:04.216Z"
   },
   {
    "duration": 54,
    "start_time": "2022-03-16T13:36:04.246Z"
   },
   {
    "duration": 15,
    "start_time": "2022-03-16T13:36:04.303Z"
   },
   {
    "duration": 439,
    "start_time": "2022-03-16T13:36:04.321Z"
   },
   {
    "duration": 115,
    "start_time": "2022-03-16T13:36:04.763Z"
   },
   {
    "duration": 298,
    "start_time": "2022-03-16T13:36:04.881Z"
   },
   {
    "duration": 48,
    "start_time": "2022-03-16T13:36:05.182Z"
   },
   {
    "duration": 259,
    "start_time": "2022-03-16T13:36:05.233Z"
   },
   {
    "duration": 45,
    "start_time": "2022-03-16T13:36:05.494Z"
   },
   {
    "duration": 34,
    "start_time": "2022-03-16T13:36:05.542Z"
   },
   {
    "duration": 86,
    "start_time": "2022-03-16T13:36:05.579Z"
   },
   {
    "duration": 16,
    "start_time": "2022-03-16T13:36:05.668Z"
   },
   {
    "duration": 21,
    "start_time": "2022-03-16T13:36:05.687Z"
   },
   {
    "duration": 21,
    "start_time": "2022-03-16T13:36:05.711Z"
   },
   {
    "duration": 57,
    "start_time": "2022-03-16T13:36:05.735Z"
   },
   {
    "duration": 21,
    "start_time": "2022-03-16T13:36:05.795Z"
   },
   {
    "duration": 47,
    "start_time": "2022-03-16T13:36:05.819Z"
   },
   {
    "duration": 5,
    "start_time": "2022-03-16T13:36:06.139Z"
   },
   {
    "duration": 25,
    "start_time": "2022-03-16T13:36:06.495Z"
   },
   {
    "duration": 29,
    "start_time": "2022-03-16T13:36:06.973Z"
   },
   {
    "duration": 22,
    "start_time": "2022-03-16T13:36:07.361Z"
   },
   {
    "duration": 18,
    "start_time": "2022-03-16T13:36:07.684Z"
   },
   {
    "duration": 362,
    "start_time": "2022-03-21T06:36:50.082Z"
   },
   {
    "duration": 409,
    "start_time": "2022-03-21T06:36:50.446Z"
   },
   {
    "duration": 24,
    "start_time": "2022-03-21T06:36:51.150Z"
   },
   {
    "duration": 30,
    "start_time": "2022-03-21T06:36:51.770Z"
   },
   {
    "duration": 24,
    "start_time": "2022-03-21T06:36:51.982Z"
   },
   {
    "duration": 29,
    "start_time": "2022-03-21T06:36:52.169Z"
   },
   {
    "duration": 9,
    "start_time": "2022-03-21T06:36:52.525Z"
   },
   {
    "duration": 16,
    "start_time": "2022-03-21T06:36:52.703Z"
   },
   {
    "duration": 4,
    "start_time": "2022-03-21T06:36:53.428Z"
   },
   {
    "duration": 32,
    "start_time": "2022-03-21T06:36:53.445Z"
   },
   {
    "duration": 19,
    "start_time": "2022-03-21T06:36:53.479Z"
   },
   {
    "duration": 26,
    "start_time": "2022-03-21T06:36:53.512Z"
   },
   {
    "duration": 11,
    "start_time": "2022-03-21T06:36:53.575Z"
   },
   {
    "duration": 185,
    "start_time": "2022-03-21T06:36:53.646Z"
   },
   {
    "duration": 110,
    "start_time": "2022-03-21T06:36:53.837Z"
   },
   {
    "duration": 124,
    "start_time": "2022-03-21T06:36:53.949Z"
   },
   {
    "duration": 62,
    "start_time": "2022-03-21T06:36:54.076Z"
   },
   {
    "duration": 153,
    "start_time": "2022-03-21T06:36:54.140Z"
   },
   {
    "duration": 66,
    "start_time": "2022-03-21T06:36:54.295Z"
   },
   {
    "duration": 9,
    "start_time": "2022-03-21T06:36:54.363Z"
   },
   {
    "duration": 29,
    "start_time": "2022-03-21T06:36:54.374Z"
   },
   {
    "duration": 39,
    "start_time": "2022-03-21T06:36:54.405Z"
   },
   {
    "duration": 9,
    "start_time": "2022-03-21T06:36:54.445Z"
   },
   {
    "duration": 15,
    "start_time": "2022-03-21T06:36:54.455Z"
   },
   {
    "duration": 13,
    "start_time": "2022-03-21T06:36:54.472Z"
   },
   {
    "duration": 12,
    "start_time": "2022-03-21T06:36:54.487Z"
   },
   {
    "duration": 40,
    "start_time": "2022-03-21T06:36:54.500Z"
   },
   {
    "duration": 4,
    "start_time": "2022-03-21T06:36:54.549Z"
   },
   {
    "duration": 14,
    "start_time": "2022-03-21T06:36:54.617Z"
   },
   {
    "duration": 16,
    "start_time": "2022-03-21T06:36:54.682Z"
   },
   {
    "duration": 14,
    "start_time": "2022-03-21T06:36:54.747Z"
   },
   {
    "duration": 13,
    "start_time": "2022-03-21T06:36:54.819Z"
   },
   {
    "duration": 536,
    "start_time": "2022-03-21T06:38:06.519Z"
   },
   {
    "duration": 6,
    "start_time": "2022-03-21T06:38:25.956Z"
   },
   {
    "duration": 4,
    "start_time": "2022-03-21T06:38:33.637Z"
   },
   {
    "duration": 122,
    "start_time": "2022-03-21T06:39:04.098Z"
   },
   {
    "duration": 133,
    "start_time": "2022-03-21T06:39:07.795Z"
   },
   {
    "duration": 118,
    "start_time": "2022-03-21T06:39:34.627Z"
   },
   {
    "duration": 6,
    "start_time": "2022-03-21T06:40:15.285Z"
   },
   {
    "duration": 5,
    "start_time": "2022-03-21T06:41:28.088Z"
   },
   {
    "duration": 5,
    "start_time": "2022-03-21T06:41:45.356Z"
   },
   {
    "duration": 6,
    "start_time": "2022-03-21T06:42:14.352Z"
   },
   {
    "duration": 823,
    "start_time": "2022-03-21T06:45:51.258Z"
   },
   {
    "duration": 1764,
    "start_time": "2022-03-21T06:47:13.940Z"
   },
   {
    "duration": 121,
    "start_time": "2022-03-21T06:47:35.206Z"
   },
   {
    "duration": 117,
    "start_time": "2022-03-21T06:47:42.810Z"
   },
   {
    "duration": 6,
    "start_time": "2022-03-21T06:47:47.968Z"
   },
   {
    "duration": 5,
    "start_time": "2022-03-21T06:47:59.082Z"
   },
   {
    "duration": 137,
    "start_time": "2022-03-21T06:48:15.115Z"
   },
   {
    "duration": 7,
    "start_time": "2022-03-21T06:48:19.058Z"
   },
   {
    "duration": 7,
    "start_time": "2022-03-21T06:48:50.229Z"
   },
   {
    "duration": 134,
    "start_time": "2022-03-21T06:49:00.875Z"
   },
   {
    "duration": 141,
    "start_time": "2022-03-21T06:49:54.867Z"
   },
   {
    "duration": 144,
    "start_time": "2022-03-21T06:50:14.857Z"
   },
   {
    "duration": 143,
    "start_time": "2022-03-21T06:51:07.535Z"
   },
   {
    "duration": 148,
    "start_time": "2022-03-21T06:51:21.284Z"
   },
   {
    "duration": 250,
    "start_time": "2022-03-21T06:51:25.544Z"
   },
   {
    "duration": 177,
    "start_time": "2022-03-21T06:51:32.732Z"
   },
   {
    "duration": 170,
    "start_time": "2022-03-21T06:51:41.393Z"
   },
   {
    "duration": 177,
    "start_time": "2022-03-21T06:51:51.665Z"
   },
   {
    "duration": 171,
    "start_time": "2022-03-21T06:52:04.660Z"
   },
   {
    "duration": 154,
    "start_time": "2022-03-21T06:52:13.973Z"
   },
   {
    "duration": 130,
    "start_time": "2022-03-21T06:52:27.126Z"
   },
   {
    "duration": 147,
    "start_time": "2022-03-21T06:52:33.006Z"
   },
   {
    "duration": 151,
    "start_time": "2022-03-21T06:55:13.951Z"
   },
   {
    "duration": 145,
    "start_time": "2022-03-21T06:55:21.561Z"
   },
   {
    "duration": 142,
    "start_time": "2022-03-21T06:55:52.998Z"
   },
   {
    "duration": 267,
    "start_time": "2022-03-21T06:56:01.986Z"
   },
   {
    "duration": 168,
    "start_time": "2022-03-21T06:56:16.990Z"
   },
   {
    "duration": 191,
    "start_time": "2022-03-21T06:56:24.768Z"
   },
   {
    "duration": 161,
    "start_time": "2022-03-21T06:56:35.132Z"
   },
   {
    "duration": 6,
    "start_time": "2022-03-21T06:56:44.992Z"
   },
   {
    "duration": 5,
    "start_time": "2022-03-21T06:56:54.726Z"
   },
   {
    "duration": 4,
    "start_time": "2022-03-21T06:57:12.807Z"
   },
   {
    "duration": 4,
    "start_time": "2022-03-21T06:58:20.829Z"
   },
   {
    "duration": 123,
    "start_time": "2022-03-21T06:59:44.645Z"
   },
   {
    "duration": 5,
    "start_time": "2022-03-21T07:00:17.285Z"
   },
   {
    "duration": 5,
    "start_time": "2022-03-21T07:01:39.903Z"
   },
   {
    "duration": 129,
    "start_time": "2022-03-21T07:04:07.647Z"
   },
   {
    "duration": 138,
    "start_time": "2022-03-21T07:04:18.151Z"
   },
   {
    "duration": 5,
    "start_time": "2022-03-21T07:05:20.077Z"
   },
   {
    "duration": 5,
    "start_time": "2022-03-21T07:05:51.358Z"
   },
   {
    "duration": 5,
    "start_time": "2022-03-21T07:06:22.612Z"
   },
   {
    "duration": 149,
    "start_time": "2022-03-21T07:07:25.453Z"
   },
   {
    "duration": 128,
    "start_time": "2022-03-21T07:07:53.594Z"
   },
   {
    "duration": 471,
    "start_time": "2022-03-21T07:08:23.865Z"
   },
   {
    "duration": 160,
    "start_time": "2022-03-21T07:08:27.179Z"
   },
   {
    "duration": 130,
    "start_time": "2022-03-21T07:08:41.076Z"
   },
   {
    "duration": 4,
    "start_time": "2022-03-21T07:09:18.553Z"
   },
   {
    "duration": 5,
    "start_time": "2022-03-21T07:09:49.539Z"
   },
   {
    "duration": 5,
    "start_time": "2022-03-21T07:10:36.049Z"
   },
   {
    "duration": 5,
    "start_time": "2022-03-21T07:10:37.547Z"
   },
   {
    "duration": 6,
    "start_time": "2022-03-21T07:10:38.876Z"
   },
   {
    "duration": 5,
    "start_time": "2022-03-21T07:18:27.811Z"
   },
   {
    "duration": 4,
    "start_time": "2022-03-21T07:18:51.329Z"
   },
   {
    "duration": 9,
    "start_time": "2022-03-21T07:37:30.709Z"
   },
   {
    "duration": 468,
    "start_time": "2022-03-21T07:38:14.077Z"
   },
   {
    "duration": 402,
    "start_time": "2022-03-21T07:38:14.873Z"
   },
   {
    "duration": 19,
    "start_time": "2022-03-21T07:38:16.323Z"
   },
   {
    "duration": 31,
    "start_time": "2022-03-21T07:38:16.356Z"
   },
   {
    "duration": 23,
    "start_time": "2022-03-21T07:38:16.390Z"
   },
   {
    "duration": 38,
    "start_time": "2022-03-21T07:38:16.416Z"
   },
   {
    "duration": 10,
    "start_time": "2022-03-21T07:38:16.475Z"
   },
   {
    "duration": 17,
    "start_time": "2022-03-21T07:38:16.514Z"
   },
   {
    "duration": 5,
    "start_time": "2022-03-21T07:38:16.609Z"
   },
   {
    "duration": 30,
    "start_time": "2022-03-21T07:38:16.651Z"
   },
   {
    "duration": 19,
    "start_time": "2022-03-21T07:38:16.683Z"
   },
   {
    "duration": 23,
    "start_time": "2022-03-21T07:38:16.707Z"
   },
   {
    "duration": 10,
    "start_time": "2022-03-21T07:38:17.208Z"
   },
   {
    "duration": 173,
    "start_time": "2022-03-21T07:38:17.545Z"
   },
   {
    "duration": 101,
    "start_time": "2022-03-21T07:38:18.165Z"
   },
   {
    "duration": 115,
    "start_time": "2022-03-21T07:38:18.569Z"
   },
   {
    "duration": 43,
    "start_time": "2022-03-21T07:38:18.955Z"
   },
   {
    "duration": 135,
    "start_time": "2022-03-21T07:38:19.309Z"
   },
   {
    "duration": 48,
    "start_time": "2022-03-21T07:38:19.662Z"
   },
   {
    "duration": 10,
    "start_time": "2022-03-21T07:38:20.006Z"
   },
   {
    "duration": 32,
    "start_time": "2022-03-21T07:38:20.330Z"
   },
   {
    "duration": 16,
    "start_time": "2022-03-21T07:38:20.659Z"
   },
   {
    "duration": 12,
    "start_time": "2022-03-21T07:38:20.974Z"
   },
   {
    "duration": 14,
    "start_time": "2022-03-21T07:38:21.291Z"
   },
   {
    "duration": 14,
    "start_time": "2022-03-21T07:38:21.622Z"
   },
   {
    "duration": 12,
    "start_time": "2022-03-21T07:38:21.948Z"
   },
   {
    "duration": 13,
    "start_time": "2022-03-21T07:38:22.266Z"
   },
   {
    "duration": 3,
    "start_time": "2022-03-21T07:38:22.605Z"
   },
   {
    "duration": 14,
    "start_time": "2022-03-21T07:38:22.925Z"
   },
   {
    "duration": 16,
    "start_time": "2022-03-21T07:38:23.258Z"
   },
   {
    "duration": 13,
    "start_time": "2022-03-21T07:38:23.549Z"
   },
   {
    "duration": 12,
    "start_time": "2022-03-21T07:38:23.909Z"
   },
   {
    "duration": 149,
    "start_time": "2022-03-21T07:38:24.431Z"
   },
   {
    "duration": 5,
    "start_time": "2022-03-21T07:38:24.600Z"
   },
   {
    "duration": 4,
    "start_time": "2022-03-21T07:38:24.818Z"
   },
   {
    "duration": 5,
    "start_time": "2022-03-21T07:38:25.024Z"
   },
   {
    "duration": 139,
    "start_time": "2022-03-21T07:38:25.727Z"
   },
   {
    "duration": 5,
    "start_time": "2022-03-21T07:38:25.967Z"
   },
   {
    "duration": 7,
    "start_time": "2022-03-21T07:38:26.176Z"
   },
   {
    "duration": 5,
    "start_time": "2022-03-21T07:38:26.411Z"
   },
   {
    "duration": 133,
    "start_time": "2022-03-21T07:38:27.395Z"
   },
   {
    "duration": 5,
    "start_time": "2022-03-21T07:38:27.706Z"
   },
   {
    "duration": 5,
    "start_time": "2022-03-21T07:38:28.121Z"
   },
   {
    "duration": 5,
    "start_time": "2022-03-21T07:38:28.335Z"
   },
   {
    "duration": 6,
    "start_time": "2022-03-21T07:38:29.452Z"
   },
   {
    "duration": 37,
    "start_time": "2022-03-21T07:52:37.038Z"
   },
   {
    "duration": 32,
    "start_time": "2022-03-21T07:53:25.752Z"
   },
   {
    "duration": 9,
    "start_time": "2022-03-21T07:53:51.790Z"
   },
   {
    "duration": 2103,
    "start_time": "2022-03-21T07:54:10.896Z"
   },
   {
    "duration": 18,
    "start_time": "2022-03-21T07:54:44.566Z"
   },
   {
    "duration": 3079,
    "start_time": "2022-03-21T07:54:50.690Z"
   },
   {
    "duration": 2,
    "start_time": "2022-03-21T07:55:07.843Z"
   },
   {
    "duration": 430,
    "start_time": "2022-03-21T07:55:07.865Z"
   },
   {
    "duration": 23,
    "start_time": "2022-03-21T07:55:08.298Z"
   },
   {
    "duration": 42,
    "start_time": "2022-03-21T07:55:08.323Z"
   },
   {
    "duration": 28,
    "start_time": "2022-03-21T07:55:08.368Z"
   },
   {
    "duration": 61,
    "start_time": "2022-03-21T07:55:08.398Z"
   },
   {
    "duration": 15,
    "start_time": "2022-03-21T07:55:08.462Z"
   },
   {
    "duration": 18,
    "start_time": "2022-03-21T07:55:08.480Z"
   },
   {
    "duration": 38,
    "start_time": "2022-03-21T07:55:08.500Z"
   },
   {
    "duration": 40,
    "start_time": "2022-03-21T07:55:08.540Z"
   },
   {
    "duration": 23,
    "start_time": "2022-03-21T07:55:08.584Z"
   },
   {
    "duration": 42,
    "start_time": "2022-03-21T07:55:08.609Z"
   },
   {
    "duration": 11,
    "start_time": "2022-03-21T07:55:08.653Z"
   },
   {
    "duration": 231,
    "start_time": "2022-03-21T07:55:08.667Z"
   },
   {
    "duration": 118,
    "start_time": "2022-03-21T07:55:08.901Z"
   },
   {
    "duration": 150,
    "start_time": "2022-03-21T07:55:09.021Z"
   },
   {
    "duration": 47,
    "start_time": "2022-03-21T07:55:09.174Z"
   },
   {
    "duration": 185,
    "start_time": "2022-03-21T07:55:09.223Z"
   },
   {
    "duration": 63,
    "start_time": "2022-03-21T07:55:09.410Z"
   },
   {
    "duration": 11,
    "start_time": "2022-03-21T07:55:09.475Z"
   },
   {
    "duration": 65,
    "start_time": "2022-03-21T07:55:09.488Z"
   },
   {
    "duration": 22,
    "start_time": "2022-03-21T07:55:09.556Z"
   },
   {
    "duration": 12,
    "start_time": "2022-03-21T07:55:09.580Z"
   },
   {
    "duration": 50,
    "start_time": "2022-03-21T07:55:09.594Z"
   },
   {
    "duration": 19,
    "start_time": "2022-03-21T07:55:09.646Z"
   },
   {
    "duration": 14,
    "start_time": "2022-03-21T07:55:09.668Z"
   },
   {
    "duration": 17,
    "start_time": "2022-03-21T07:55:09.684Z"
   },
   {
    "duration": 35,
    "start_time": "2022-03-21T07:55:09.703Z"
   },
   {
    "duration": 20,
    "start_time": "2022-03-21T07:55:09.740Z"
   },
   {
    "duration": 18,
    "start_time": "2022-03-21T07:55:09.763Z"
   },
   {
    "duration": 23,
    "start_time": "2022-03-21T07:55:09.784Z"
   },
   {
    "duration": 44,
    "start_time": "2022-03-21T07:55:09.810Z"
   },
   {
    "duration": 205,
    "start_time": "2022-03-21T07:55:09.858Z"
   },
   {
    "duration": 5,
    "start_time": "2022-03-21T07:55:10.066Z"
   },
   {
    "duration": 28,
    "start_time": "2022-03-21T07:55:10.074Z"
   },
   {
    "duration": 15,
    "start_time": "2022-03-21T07:55:10.104Z"
   },
   {
    "duration": 203,
    "start_time": "2022-03-21T07:55:10.121Z"
   },
   {
    "duration": 11,
    "start_time": "2022-03-21T07:55:10.327Z"
   },
   {
    "duration": 6,
    "start_time": "2022-03-21T07:55:10.341Z"
   },
   {
    "duration": 7,
    "start_time": "2022-03-21T07:55:10.350Z"
   },
   {
    "duration": 182,
    "start_time": "2022-03-21T07:55:10.358Z"
   },
   {
    "duration": 6,
    "start_time": "2022-03-21T07:55:10.544Z"
   },
   {
    "duration": 13,
    "start_time": "2022-03-21T07:55:10.552Z"
   },
   {
    "duration": 15,
    "start_time": "2022-03-21T07:55:10.567Z"
   },
   {
    "duration": 12,
    "start_time": "2022-03-21T07:55:10.584Z"
   },
   {
    "duration": 55,
    "start_time": "2022-03-21T07:55:10.598Z"
   },
   {
    "duration": 6,
    "start_time": "2022-03-21T07:55:10.655Z"
   },
   {
    "duration": 2053,
    "start_time": "2022-03-21T07:55:49.302Z"
   },
   {
    "duration": 2,
    "start_time": "2022-03-21T07:56:00.712Z"
   },
   {
    "duration": 413,
    "start_time": "2022-03-21T07:56:01.221Z"
   },
   {
    "duration": 20,
    "start_time": "2022-03-21T07:56:01.636Z"
   },
   {
    "duration": 36,
    "start_time": "2022-03-21T07:56:01.659Z"
   },
   {
    "duration": 57,
    "start_time": "2022-03-21T07:56:01.698Z"
   },
   {
    "duration": 33,
    "start_time": "2022-03-21T07:56:01.758Z"
   },
   {
    "duration": 11,
    "start_time": "2022-03-21T07:56:01.794Z"
   },
   {
    "duration": 23,
    "start_time": "2022-03-21T07:56:01.839Z"
   },
   {
    "duration": 10,
    "start_time": "2022-03-21T07:56:01.865Z"
   },
   {
    "duration": 42,
    "start_time": "2022-03-21T07:56:01.877Z"
   },
   {
    "duration": 34,
    "start_time": "2022-03-21T07:56:01.921Z"
   },
   {
    "duration": 37,
    "start_time": "2022-03-21T07:56:01.957Z"
   },
   {
    "duration": 17,
    "start_time": "2022-03-21T07:56:01.996Z"
   },
   {
    "duration": 236,
    "start_time": "2022-03-21T07:56:02.016Z"
   },
   {
    "duration": 109,
    "start_time": "2022-03-21T07:56:02.254Z"
   },
   {
    "duration": 137,
    "start_time": "2022-03-21T07:56:02.366Z"
   },
   {
    "duration": 61,
    "start_time": "2022-03-21T07:56:02.505Z"
   },
   {
    "duration": 159,
    "start_time": "2022-03-21T07:56:02.567Z"
   },
   {
    "duration": 53,
    "start_time": "2022-03-21T07:56:02.728Z"
   },
   {
    "duration": 10,
    "start_time": "2022-03-21T07:56:02.783Z"
   },
   {
    "duration": 57,
    "start_time": "2022-03-21T07:56:02.795Z"
   },
   {
    "duration": 14,
    "start_time": "2022-03-21T07:56:02.854Z"
   },
   {
    "duration": 13,
    "start_time": "2022-03-21T07:56:02.871Z"
   },
   {
    "duration": 16,
    "start_time": "2022-03-21T07:56:02.886Z"
   },
   {
    "duration": 41,
    "start_time": "2022-03-21T07:56:02.903Z"
   },
   {
    "duration": 14,
    "start_time": "2022-03-21T07:56:02.946Z"
   },
   {
    "duration": 14,
    "start_time": "2022-03-21T07:56:02.962Z"
   },
   {
    "duration": 4,
    "start_time": "2022-03-21T07:56:02.978Z"
   },
   {
    "duration": 18,
    "start_time": "2022-03-21T07:56:02.984Z"
   },
   {
    "duration": 20,
    "start_time": "2022-03-21T07:56:03.038Z"
   },
   {
    "duration": 15,
    "start_time": "2022-03-21T07:56:03.061Z"
   },
   {
    "duration": 21,
    "start_time": "2022-03-21T07:56:03.078Z"
   },
   {
    "duration": 201,
    "start_time": "2022-03-21T07:56:03.101Z"
   },
   {
    "duration": 5,
    "start_time": "2022-03-21T07:56:03.304Z"
   },
   {
    "duration": 8,
    "start_time": "2022-03-21T07:56:03.312Z"
   },
   {
    "duration": 22,
    "start_time": "2022-03-21T07:56:03.339Z"
   },
   {
    "duration": 162,
    "start_time": "2022-03-21T07:56:03.364Z"
   },
   {
    "duration": 11,
    "start_time": "2022-03-21T07:56:03.529Z"
   },
   {
    "duration": 7,
    "start_time": "2022-03-21T07:56:03.543Z"
   },
   {
    "duration": 8,
    "start_time": "2022-03-21T07:56:03.552Z"
   },
   {
    "duration": 145,
    "start_time": "2022-03-21T07:56:04.890Z"
   },
   {
    "duration": 6,
    "start_time": "2022-03-21T07:56:05.038Z"
   },
   {
    "duration": 10,
    "start_time": "2022-03-21T07:56:05.046Z"
   },
   {
    "duration": 9,
    "start_time": "2022-03-21T07:56:05.058Z"
   },
   {
    "duration": 6,
    "start_time": "2022-03-21T07:56:05.137Z"
   },
   {
    "duration": 36,
    "start_time": "2022-03-21T07:56:05.265Z"
   },
   {
    "duration": 2170,
    "start_time": "2022-03-21T07:56:14.846Z"
   },
   {
    "duration": 3,
    "start_time": "2022-03-21T07:56:29.220Z"
   },
   {
    "duration": 387,
    "start_time": "2022-03-21T07:56:29.399Z"
   },
   {
    "duration": 25,
    "start_time": "2022-03-21T07:56:29.942Z"
   },
   {
    "duration": 30,
    "start_time": "2022-03-21T07:56:29.975Z"
   },
   {
    "duration": 40,
    "start_time": "2022-03-21T07:56:30.010Z"
   },
   {
    "duration": 31,
    "start_time": "2022-03-21T07:56:30.053Z"
   },
   {
    "duration": 11,
    "start_time": "2022-03-21T07:56:30.110Z"
   },
   {
    "duration": 19,
    "start_time": "2022-03-21T07:56:30.141Z"
   },
   {
    "duration": 4,
    "start_time": "2022-03-21T07:56:30.233Z"
   },
   {
    "duration": 31,
    "start_time": "2022-03-21T07:56:30.267Z"
   },
   {
    "duration": 20,
    "start_time": "2022-03-21T07:56:30.300Z"
   },
   {
    "duration": 24,
    "start_time": "2022-03-21T07:56:30.340Z"
   },
   {
    "duration": 11,
    "start_time": "2022-03-21T07:56:30.398Z"
   },
   {
    "duration": 186,
    "start_time": "2022-03-21T07:56:30.468Z"
   },
   {
    "duration": 105,
    "start_time": "2022-03-21T07:56:30.656Z"
   },
   {
    "duration": 133,
    "start_time": "2022-03-21T07:56:30.763Z"
   },
   {
    "duration": 53,
    "start_time": "2022-03-21T07:56:30.899Z"
   },
   {
    "duration": 166,
    "start_time": "2022-03-21T07:56:30.954Z"
   },
   {
    "duration": 60,
    "start_time": "2022-03-21T07:56:31.122Z"
   },
   {
    "duration": 10,
    "start_time": "2022-03-21T07:56:31.184Z"
   },
   {
    "duration": 63,
    "start_time": "2022-03-21T07:56:31.197Z"
   },
   {
    "duration": 26,
    "start_time": "2022-03-21T07:56:31.261Z"
   },
   {
    "duration": 30,
    "start_time": "2022-03-21T07:56:31.289Z"
   },
   {
    "duration": 35,
    "start_time": "2022-03-21T07:56:31.321Z"
   },
   {
    "duration": 18,
    "start_time": "2022-03-21T07:56:31.996Z"
   },
   {
    "duration": 14,
    "start_time": "2022-03-21T07:56:32.552Z"
   },
   {
    "duration": 14,
    "start_time": "2022-03-21T07:56:32.603Z"
   },
   {
    "duration": 4,
    "start_time": "2022-03-21T07:56:32.670Z"
   },
   {
    "duration": 17,
    "start_time": "2022-03-21T07:56:32.735Z"
   },
   {
    "duration": 16,
    "start_time": "2022-03-21T07:56:32.800Z"
   },
   {
    "duration": 16,
    "start_time": "2022-03-21T07:56:32.863Z"
   },
   {
    "duration": 14,
    "start_time": "2022-03-21T07:56:32.931Z"
   },
   {
    "duration": 196,
    "start_time": "2022-03-21T07:56:33.833Z"
   },
   {
    "duration": 5,
    "start_time": "2022-03-21T07:56:34.089Z"
   },
   {
    "duration": 7,
    "start_time": "2022-03-21T07:56:34.262Z"
   },
   {
    "duration": 5,
    "start_time": "2022-03-21T07:56:34.413Z"
   },
   {
    "duration": 166,
    "start_time": "2022-03-21T07:56:34.943Z"
   },
   {
    "duration": 4,
    "start_time": "2022-03-21T07:56:35.150Z"
   },
   {
    "duration": 6,
    "start_time": "2022-03-21T07:56:35.336Z"
   },
   {
    "duration": 5,
    "start_time": "2022-03-21T07:56:35.546Z"
   },
   {
    "duration": 299,
    "start_time": "2022-03-21T07:56:36.124Z"
   },
   {
    "duration": 12,
    "start_time": "2022-03-21T07:56:36.426Z"
   },
   {
    "duration": 6,
    "start_time": "2022-03-21T07:56:36.497Z"
   },
   {
    "duration": 5,
    "start_time": "2022-03-21T07:56:36.682Z"
   },
   {
    "duration": 7,
    "start_time": "2022-03-21T07:56:38.112Z"
   },
   {
    "duration": 12,
    "start_time": "2022-03-21T07:56:39.535Z"
   },
   {
    "duration": 5,
    "start_time": "2022-03-21T07:57:14.351Z"
   },
   {
    "duration": 6,
    "start_time": "2022-03-21T07:58:00.784Z"
   },
   {
    "duration": 27,
    "start_time": "2022-03-21T07:58:53.962Z"
   },
   {
    "duration": 27,
    "start_time": "2022-03-21T07:59:03.433Z"
   },
   {
    "duration": 5,
    "start_time": "2022-03-21T07:59:54.452Z"
   },
   {
    "duration": 5,
    "start_time": "2022-03-21T08:00:10.211Z"
   },
   {
    "duration": 28,
    "start_time": "2022-03-21T08:00:29.019Z"
   },
   {
    "duration": 5,
    "start_time": "2022-03-21T08:00:52.944Z"
   },
   {
    "duration": 5,
    "start_time": "2022-03-21T08:00:57.793Z"
   },
   {
    "duration": 28,
    "start_time": "2022-03-21T08:01:47.664Z"
   },
   {
    "duration": 6,
    "start_time": "2022-03-21T08:12:29.901Z"
   },
   {
    "duration": 6,
    "start_time": "2022-03-21T08:13:26.058Z"
   },
   {
    "duration": 6,
    "start_time": "2022-03-21T08:13:31.177Z"
   },
   {
    "duration": 26,
    "start_time": "2022-03-21T08:13:58.587Z"
   },
   {
    "duration": 6,
    "start_time": "2022-03-21T08:16:02.993Z"
   },
   {
    "duration": 2248,
    "start_time": "2022-03-21T08:17:09.482Z"
   },
   {
    "duration": 3,
    "start_time": "2022-03-21T08:17:38.176Z"
   },
   {
    "duration": 377,
    "start_time": "2022-03-21T08:17:38.207Z"
   },
   {
    "duration": 16,
    "start_time": "2022-03-21T08:17:38.586Z"
   },
   {
    "duration": 47,
    "start_time": "2022-03-21T08:17:38.604Z"
   },
   {
    "duration": 23,
    "start_time": "2022-03-21T08:17:38.654Z"
   },
   {
    "duration": 26,
    "start_time": "2022-03-21T08:17:38.679Z"
   },
   {
    "duration": 32,
    "start_time": "2022-03-21T08:17:38.707Z"
   },
   {
    "duration": 16,
    "start_time": "2022-03-21T08:17:38.740Z"
   },
   {
    "duration": 12,
    "start_time": "2022-03-21T08:17:38.758Z"
   },
   {
    "duration": 35,
    "start_time": "2022-03-21T08:17:38.772Z"
   },
   {
    "duration": 35,
    "start_time": "2022-03-21T08:17:38.809Z"
   },
   {
    "duration": 22,
    "start_time": "2022-03-21T08:17:38.846Z"
   },
   {
    "duration": 10,
    "start_time": "2022-03-21T08:17:38.869Z"
   },
   {
    "duration": 193,
    "start_time": "2022-03-21T08:17:38.881Z"
   },
   {
    "duration": 108,
    "start_time": "2022-03-21T08:17:39.075Z"
   },
   {
    "duration": 125,
    "start_time": "2022-03-21T08:17:39.186Z"
   },
   {
    "duration": 51,
    "start_time": "2022-03-21T08:17:39.313Z"
   },
   {
    "duration": 148,
    "start_time": "2022-03-21T08:17:39.366Z"
   },
   {
    "duration": 52,
    "start_time": "2022-03-21T08:17:39.516Z"
   },
   {
    "duration": 8,
    "start_time": "2022-03-21T08:17:39.571Z"
   },
   {
    "duration": 32,
    "start_time": "2022-03-21T08:17:40.137Z"
   },
   {
    "duration": 14,
    "start_time": "2022-03-21T08:17:40.475Z"
   },
   {
    "duration": 12,
    "start_time": "2022-03-21T08:17:40.802Z"
   },
   {
    "duration": 14,
    "start_time": "2022-03-21T08:17:41.152Z"
   },
   {
    "duration": 14,
    "start_time": "2022-03-21T08:17:41.483Z"
   },
   {
    "duration": 12,
    "start_time": "2022-03-21T08:17:41.818Z"
   },
   {
    "duration": 12,
    "start_time": "2022-03-21T08:17:42.144Z"
   },
   {
    "duration": 4,
    "start_time": "2022-03-21T08:17:42.480Z"
   },
   {
    "duration": 16,
    "start_time": "2022-03-21T08:17:42.823Z"
   },
   {
    "duration": 17,
    "start_time": "2022-03-21T08:17:43.157Z"
   },
   {
    "duration": 14,
    "start_time": "2022-03-21T08:17:43.492Z"
   },
   {
    "duration": 13,
    "start_time": "2022-03-21T08:17:43.826Z"
   },
   {
    "duration": 157,
    "start_time": "2022-03-21T08:17:44.328Z"
   },
   {
    "duration": 4,
    "start_time": "2022-03-21T08:17:44.506Z"
   },
   {
    "duration": 6,
    "start_time": "2022-03-21T08:17:44.734Z"
   },
   {
    "duration": 5,
    "start_time": "2022-03-21T08:17:44.914Z"
   },
   {
    "duration": 146,
    "start_time": "2022-03-21T08:17:45.434Z"
   },
   {
    "duration": 4,
    "start_time": "2022-03-21T08:17:45.641Z"
   },
   {
    "duration": 6,
    "start_time": "2022-03-21T08:17:45.818Z"
   },
   {
    "duration": 5,
    "start_time": "2022-03-21T08:17:46.296Z"
   },
   {
    "duration": 136,
    "start_time": "2022-03-21T08:17:46.813Z"
   },
   {
    "duration": 5,
    "start_time": "2022-03-21T08:17:47.017Z"
   },
   {
    "duration": 6,
    "start_time": "2022-03-21T08:17:47.278Z"
   },
   {
    "duration": 5,
    "start_time": "2022-03-21T08:17:47.549Z"
   },
   {
    "duration": 6,
    "start_time": "2022-03-21T08:17:49.069Z"
   },
   {
    "duration": 13,
    "start_time": "2022-03-21T08:17:51.076Z"
   },
   {
    "duration": 28,
    "start_time": "2022-03-21T08:18:04.746Z"
   },
   {
    "duration": 6,
    "start_time": "2022-03-21T08:18:09.263Z"
   },
   {
    "duration": 17,
    "start_time": "2022-03-21T08:19:11.059Z"
   },
   {
    "duration": 17,
    "start_time": "2022-03-21T08:19:24.043Z"
   },
   {
    "duration": 20,
    "start_time": "2022-03-21T08:19:32.830Z"
   },
   {
    "duration": 20,
    "start_time": "2022-03-21T08:21:04.786Z"
   },
   {
    "duration": 19,
    "start_time": "2022-03-21T08:21:34.718Z"
   },
   {
    "duration": 33,
    "start_time": "2022-03-21T08:21:36.670Z"
   },
   {
    "duration": 28,
    "start_time": "2022-03-21T08:21:36.861Z"
   },
   {
    "duration": 31,
    "start_time": "2022-03-21T08:21:37.036Z"
   },
   {
    "duration": 2606,
    "start_time": "2022-03-21T08:21:37.367Z"
   },
   {
    "duration": 0,
    "start_time": "2022-03-21T08:21:39.975Z"
   },
   {
    "duration": 0,
    "start_time": "2022-03-21T08:21:39.976Z"
   },
   {
    "duration": 0,
    "start_time": "2022-03-21T08:21:39.977Z"
   },
   {
    "duration": 15,
    "start_time": "2022-03-21T08:21:42.890Z"
   },
   {
    "duration": 15,
    "start_time": "2022-03-21T08:21:43.552Z"
   },
   {
    "duration": 3,
    "start_time": "2022-03-21T08:21:46.815Z"
   },
   {
    "duration": 377,
    "start_time": "2022-03-21T08:21:46.852Z"
   },
   {
    "duration": 18,
    "start_time": "2022-03-21T08:21:47.231Z"
   },
   {
    "duration": 31,
    "start_time": "2022-03-21T08:21:47.250Z"
   },
   {
    "duration": 24,
    "start_time": "2022-03-21T08:21:47.283Z"
   },
   {
    "duration": 51,
    "start_time": "2022-03-21T08:21:47.308Z"
   },
   {
    "duration": 8,
    "start_time": "2022-03-21T08:21:47.361Z"
   },
   {
    "duration": 23,
    "start_time": "2022-03-21T08:21:47.371Z"
   },
   {
    "duration": 3,
    "start_time": "2022-03-21T08:21:47.396Z"
   },
   {
    "duration": 58,
    "start_time": "2022-03-21T08:21:47.401Z"
   },
   {
    "duration": 22,
    "start_time": "2022-03-21T08:21:47.462Z"
   },
   {
    "duration": 24,
    "start_time": "2022-03-21T08:21:47.485Z"
   },
   {
    "duration": 32,
    "start_time": "2022-03-21T08:21:47.511Z"
   },
   {
    "duration": 201,
    "start_time": "2022-03-21T08:21:47.544Z"
   },
   {
    "duration": 102,
    "start_time": "2022-03-21T08:21:47.748Z"
   },
   {
    "duration": 129,
    "start_time": "2022-03-21T08:21:47.852Z"
   },
   {
    "duration": 41,
    "start_time": "2022-03-21T08:21:47.982Z"
   },
   {
    "duration": 162,
    "start_time": "2022-03-21T08:21:48.025Z"
   },
   {
    "duration": 59,
    "start_time": "2022-03-21T08:21:48.189Z"
   },
   {
    "duration": 9,
    "start_time": "2022-03-21T08:21:48.250Z"
   },
   {
    "duration": 33,
    "start_time": "2022-03-21T08:21:48.262Z"
   },
   {
    "duration": 45,
    "start_time": "2022-03-21T08:21:48.297Z"
   },
   {
    "duration": 12,
    "start_time": "2022-03-21T08:21:48.344Z"
   },
   {
    "duration": 19,
    "start_time": "2022-03-21T08:21:48.358Z"
   },
   {
    "duration": 16,
    "start_time": "2022-03-21T08:21:48.379Z"
   },
   {
    "duration": 41,
    "start_time": "2022-03-21T08:21:48.398Z"
   },
   {
    "duration": 13,
    "start_time": "2022-03-21T08:21:48.441Z"
   },
   {
    "duration": 9,
    "start_time": "2022-03-21T08:21:48.455Z"
   },
   {
    "duration": 18,
    "start_time": "2022-03-21T08:21:48.466Z"
   },
   {
    "duration": 15,
    "start_time": "2022-03-21T08:21:48.485Z"
   },
   {
    "duration": 14,
    "start_time": "2022-03-21T08:21:48.547Z"
   },
   {
    "duration": 12,
    "start_time": "2022-03-21T08:21:48.613Z"
   },
   {
    "duration": 150,
    "start_time": "2022-03-21T08:21:48.722Z"
   },
   {
    "duration": 5,
    "start_time": "2022-03-21T08:21:48.874Z"
   },
   {
    "duration": 9,
    "start_time": "2022-03-21T08:21:48.880Z"
   },
   {
    "duration": 10,
    "start_time": "2022-03-21T08:21:48.890Z"
   },
   {
    "duration": 165,
    "start_time": "2022-03-21T08:21:48.906Z"
   },
   {
    "duration": 5,
    "start_time": "2022-03-21T08:21:49.074Z"
   },
   {
    "duration": 7,
    "start_time": "2022-03-21T08:21:49.080Z"
   },
   {
    "duration": 9,
    "start_time": "2022-03-21T08:21:49.089Z"
   },
   {
    "duration": 131,
    "start_time": "2022-03-21T08:21:50.111Z"
   },
   {
    "duration": 5,
    "start_time": "2022-03-21T08:21:50.282Z"
   },
   {
    "duration": 4,
    "start_time": "2022-03-21T08:21:50.439Z"
   },
   {
    "duration": 5,
    "start_time": "2022-03-21T08:21:50.607Z"
   },
   {
    "duration": 6,
    "start_time": "2022-03-21T08:21:51.446Z"
   },
   {
    "duration": 14,
    "start_time": "2022-03-21T08:21:52.297Z"
   },
   {
    "duration": 21,
    "start_time": "2022-03-21T08:21:52.475Z"
   },
   {
    "duration": 6,
    "start_time": "2022-03-21T08:21:52.652Z"
   },
   {
    "duration": 6,
    "start_time": "2022-03-21T08:26:12.897Z"
   },
   {
    "duration": 3,
    "start_time": "2022-03-21T08:26:19.371Z"
   },
   {
    "duration": 379,
    "start_time": "2022-03-21T08:26:19.551Z"
   },
   {
    "duration": 20,
    "start_time": "2022-03-21T08:26:19.933Z"
   },
   {
    "duration": 37,
    "start_time": "2022-03-21T08:26:20.074Z"
   },
   {
    "duration": 27,
    "start_time": "2022-03-21T08:26:20.258Z"
   },
   {
    "duration": 31,
    "start_time": "2022-03-21T08:26:20.449Z"
   },
   {
    "duration": 11,
    "start_time": "2022-03-21T08:26:20.814Z"
   },
   {
    "duration": 17,
    "start_time": "2022-03-21T08:26:21.002Z"
   },
   {
    "duration": 5,
    "start_time": "2022-03-21T08:26:21.569Z"
   },
   {
    "duration": 31,
    "start_time": "2022-03-21T08:26:21.749Z"
   },
   {
    "duration": 26,
    "start_time": "2022-03-21T08:26:21.937Z"
   },
   {
    "duration": 26,
    "start_time": "2022-03-21T08:26:22.096Z"
   },
   {
    "duration": 11,
    "start_time": "2022-03-21T08:26:22.466Z"
   },
   {
    "duration": 184,
    "start_time": "2022-03-21T08:26:22.827Z"
   },
   {
    "duration": 93,
    "start_time": "2022-03-21T08:26:23.202Z"
   },
   {
    "duration": 125,
    "start_time": "2022-03-21T08:26:23.565Z"
   },
   {
    "duration": 45,
    "start_time": "2022-03-21T08:26:23.928Z"
   },
   {
    "duration": 144,
    "start_time": "2022-03-21T08:26:24.307Z"
   },
   {
    "duration": 43,
    "start_time": "2022-03-21T08:26:24.675Z"
   },
   {
    "duration": 13,
    "start_time": "2022-03-21T08:26:25.025Z"
   },
   {
    "duration": 45,
    "start_time": "2022-03-21T08:26:25.390Z"
   },
   {
    "duration": 17,
    "start_time": "2022-03-21T08:26:25.755Z"
   },
   {
    "duration": 11,
    "start_time": "2022-03-21T08:26:26.362Z"
   },
   {
    "duration": 14,
    "start_time": "2022-03-21T08:26:26.807Z"
   },
   {
    "duration": 23,
    "start_time": "2022-03-21T08:26:27.152Z"
   },
   {
    "duration": 18,
    "start_time": "2022-03-21T08:26:27.552Z"
   },
   {
    "duration": 18,
    "start_time": "2022-03-21T08:26:28.092Z"
   },
   {
    "duration": 5,
    "start_time": "2022-03-21T08:26:28.162Z"
   },
   {
    "duration": 18,
    "start_time": "2022-03-21T08:26:28.236Z"
   },
   {
    "duration": 18,
    "start_time": "2022-03-21T08:26:28.298Z"
   },
   {
    "duration": 15,
    "start_time": "2022-03-21T08:26:28.362Z"
   },
   {
    "duration": 17,
    "start_time": "2022-03-21T08:26:28.422Z"
   },
   {
    "duration": 186,
    "start_time": "2022-03-21T08:26:28.855Z"
   },
   {
    "duration": 6,
    "start_time": "2022-03-21T08:26:29.045Z"
   },
   {
    "duration": 6,
    "start_time": "2022-03-21T08:26:29.203Z"
   },
   {
    "duration": 6,
    "start_time": "2022-03-21T08:26:29.373Z"
   },
   {
    "duration": 163,
    "start_time": "2022-03-21T08:26:29.887Z"
   },
   {
    "duration": 5,
    "start_time": "2022-03-21T08:26:30.067Z"
   },
   {
    "duration": 5,
    "start_time": "2022-03-21T08:26:30.241Z"
   },
   {
    "duration": 5,
    "start_time": "2022-03-21T08:26:30.425Z"
   },
   {
    "duration": 150,
    "start_time": "2022-03-21T08:26:30.996Z"
   },
   {
    "duration": 5,
    "start_time": "2022-03-21T08:26:31.189Z"
   },
   {
    "duration": 6,
    "start_time": "2022-03-21T08:26:31.366Z"
   },
   {
    "duration": 6,
    "start_time": "2022-03-21T08:26:31.546Z"
   },
   {
    "duration": 8,
    "start_time": "2022-03-21T08:26:32.593Z"
   },
   {
    "duration": 16,
    "start_time": "2022-03-21T08:26:33.324Z"
   },
   {
    "duration": 23,
    "start_time": "2022-03-21T08:26:33.510Z"
   },
   {
    "duration": 6,
    "start_time": "2022-03-21T08:26:33.697Z"
   },
   {
    "duration": 13,
    "start_time": "2022-03-21T08:35:20.154Z"
   },
   {
    "duration": 6,
    "start_time": "2022-03-21T08:35:47.991Z"
   },
   {
    "duration": 6,
    "start_time": "2022-03-21T08:36:18.878Z"
   },
   {
    "duration": 8,
    "start_time": "2022-03-21T08:37:59.779Z"
   },
   {
    "duration": 29,
    "start_time": "2022-03-21T08:47:50.027Z"
   },
   {
    "duration": 6,
    "start_time": "2022-03-21T08:48:13.634Z"
   },
   {
    "duration": 6,
    "start_time": "2022-03-21T08:48:18.408Z"
   },
   {
    "duration": 26,
    "start_time": "2022-03-21T08:48:23.158Z"
   },
   {
    "duration": 15,
    "start_time": "2022-03-21T08:48:48.080Z"
   },
   {
    "duration": 28,
    "start_time": "2022-03-21T08:49:09.966Z"
   },
   {
    "duration": 146,
    "start_time": "2022-03-21T08:51:52.946Z"
   },
   {
    "duration": 136,
    "start_time": "2022-03-21T08:52:10.009Z"
   },
   {
    "duration": 29,
    "start_time": "2022-03-21T08:52:40.696Z"
   },
   {
    "duration": 2773,
    "start_time": "2022-03-21T08:54:44.321Z"
   },
   {
    "duration": 4,
    "start_time": "2022-03-21T08:55:38.568Z"
   },
   {
    "duration": 12,
    "start_time": "2022-03-21T08:55:43.544Z"
   },
   {
    "duration": 3,
    "start_time": "2022-03-21T08:56:16.468Z"
   },
   {
    "duration": 355,
    "start_time": "2022-03-21T08:56:16.497Z"
   },
   {
    "duration": 19,
    "start_time": "2022-03-21T08:56:16.854Z"
   },
   {
    "duration": 46,
    "start_time": "2022-03-21T08:56:16.875Z"
   },
   {
    "duration": 28,
    "start_time": "2022-03-21T08:56:16.939Z"
   },
   {
    "duration": 38,
    "start_time": "2022-03-21T08:56:16.969Z"
   },
   {
    "duration": 31,
    "start_time": "2022-03-21T08:56:17.009Z"
   },
   {
    "duration": 25,
    "start_time": "2022-03-21T08:56:17.041Z"
   },
   {
    "duration": 4,
    "start_time": "2022-03-21T08:56:17.068Z"
   },
   {
    "duration": 33,
    "start_time": "2022-03-21T08:56:17.074Z"
   },
   {
    "duration": 46,
    "start_time": "2022-03-21T08:56:17.110Z"
   },
   {
    "duration": 30,
    "start_time": "2022-03-21T08:56:17.159Z"
   },
   {
    "duration": 11,
    "start_time": "2022-03-21T08:56:17.191Z"
   },
   {
    "duration": 215,
    "start_time": "2022-03-21T08:56:17.203Z"
   },
   {
    "duration": 83,
    "start_time": "2022-03-21T08:56:17.420Z"
   },
   {
    "duration": 127,
    "start_time": "2022-03-21T08:56:17.505Z"
   },
   {
    "duration": 40,
    "start_time": "2022-03-21T08:56:17.634Z"
   },
   {
    "duration": 160,
    "start_time": "2022-03-21T08:56:17.676Z"
   },
   {
    "duration": 36,
    "start_time": "2022-03-21T08:56:17.838Z"
   },
   {
    "duration": 9,
    "start_time": "2022-03-21T08:56:17.877Z"
   },
   {
    "duration": 56,
    "start_time": "2022-03-21T08:56:17.888Z"
   },
   {
    "duration": 15,
    "start_time": "2022-03-21T08:56:17.946Z"
   },
   {
    "duration": 11,
    "start_time": "2022-03-21T08:56:17.963Z"
   },
   {
    "duration": 15,
    "start_time": "2022-03-21T08:56:18.190Z"
   },
   {
    "duration": 14,
    "start_time": "2022-03-21T08:56:18.733Z"
   },
   {
    "duration": 13,
    "start_time": "2022-03-21T08:56:19.264Z"
   },
   {
    "duration": 14,
    "start_time": "2022-03-21T08:56:19.718Z"
   },
   {
    "duration": 5,
    "start_time": "2022-03-21T08:56:20.154Z"
   },
   {
    "duration": 22,
    "start_time": "2022-03-21T08:56:20.592Z"
   },
   {
    "duration": 25,
    "start_time": "2022-03-21T08:56:21.203Z"
   },
   {
    "duration": 21,
    "start_time": "2022-03-21T08:56:21.631Z"
   },
   {
    "duration": 12,
    "start_time": "2022-03-21T08:56:22.088Z"
   },
   {
    "duration": 156,
    "start_time": "2022-03-21T08:56:22.818Z"
   },
   {
    "duration": 5,
    "start_time": "2022-03-21T08:56:23.071Z"
   },
   {
    "duration": 6,
    "start_time": "2022-03-21T08:56:23.270Z"
   },
   {
    "duration": 6,
    "start_time": "2022-03-21T08:56:23.494Z"
   },
   {
    "duration": 140,
    "start_time": "2022-03-21T08:56:24.332Z"
   },
   {
    "duration": 4,
    "start_time": "2022-03-21T08:56:24.699Z"
   },
   {
    "duration": 5,
    "start_time": "2022-03-21T08:56:24.945Z"
   },
   {
    "duration": 6,
    "start_time": "2022-03-21T08:56:25.135Z"
   },
   {
    "duration": 140,
    "start_time": "2022-03-21T08:56:25.797Z"
   },
   {
    "duration": 5,
    "start_time": "2022-03-21T08:56:26.249Z"
   },
   {
    "duration": 5,
    "start_time": "2022-03-21T08:56:26.473Z"
   },
   {
    "duration": 5,
    "start_time": "2022-03-21T08:56:26.721Z"
   },
   {
    "duration": 5,
    "start_time": "2022-03-21T08:56:28.225Z"
   },
   {
    "duration": 16,
    "start_time": "2022-03-21T08:56:29.614Z"
   },
   {
    "duration": 27,
    "start_time": "2022-03-21T08:56:30.073Z"
   },
   {
    "duration": 6,
    "start_time": "2022-03-21T08:56:30.652Z"
   },
   {
    "duration": 25,
    "start_time": "2022-03-21T08:56:35.659Z"
   },
   {
    "duration": 6,
    "start_time": "2022-03-21T08:58:29.103Z"
   },
   {
    "duration": 7,
    "start_time": "2022-03-21T08:58:36.380Z"
   },
   {
    "duration": 5,
    "start_time": "2022-03-21T08:59:10.334Z"
   },
   {
    "duration": 5,
    "start_time": "2022-03-21T08:59:14.983Z"
   },
   {
    "duration": 382,
    "start_time": "2022-03-21T09:00:13.435Z"
   },
   {
    "duration": 5,
    "start_time": "2022-03-21T09:00:21.345Z"
   },
   {
    "duration": 5,
    "start_time": "2022-03-21T09:01:49.891Z"
   },
   {
    "duration": 12,
    "start_time": "2022-03-21T09:02:10.671Z"
   },
   {
    "duration": 7,
    "start_time": "2022-03-21T09:02:27.723Z"
   },
   {
    "duration": 7,
    "start_time": "2022-03-21T09:09:46.924Z"
   },
   {
    "duration": 7,
    "start_time": "2022-03-21T09:09:52.049Z"
   },
   {
    "duration": 5,
    "start_time": "2022-03-21T09:13:33.515Z"
   },
   {
    "duration": 5,
    "start_time": "2022-03-21T09:13:46.989Z"
   },
   {
    "duration": 5,
    "start_time": "2022-03-21T09:13:53.550Z"
   },
   {
    "duration": 6,
    "start_time": "2022-03-21T09:16:20.508Z"
   },
   {
    "duration": 142,
    "start_time": "2022-03-21T09:16:43.400Z"
   },
   {
    "duration": 150,
    "start_time": "2022-03-21T09:16:59.445Z"
   },
   {
    "duration": 140,
    "start_time": "2022-03-21T09:17:20.547Z"
   },
   {
    "duration": 135,
    "start_time": "2022-03-21T09:17:38.357Z"
   },
   {
    "duration": 131,
    "start_time": "2022-03-21T09:17:43.864Z"
   },
   {
    "duration": 140,
    "start_time": "2022-03-21T09:18:07.581Z"
   },
   {
    "duration": 184,
    "start_time": "2022-03-21T09:18:19.214Z"
   },
   {
    "duration": 140,
    "start_time": "2022-03-21T09:19:58.897Z"
   },
   {
    "duration": 10,
    "start_time": "2022-03-21T09:20:21.394Z"
   },
   {
    "duration": 127,
    "start_time": "2022-03-21T09:20:25.510Z"
   },
   {
    "duration": 131,
    "start_time": "2022-03-21T09:20:38.273Z"
   },
   {
    "duration": 6,
    "start_time": "2022-03-21T09:20:48.086Z"
   },
   {
    "duration": 4,
    "start_time": "2022-03-21T09:21:46.426Z"
   },
   {
    "duration": 5,
    "start_time": "2022-03-21T09:21:54.649Z"
   },
   {
    "duration": 15,
    "start_time": "2022-03-21T09:28:32.308Z"
   },
   {
    "duration": 17,
    "start_time": "2022-03-21T09:28:53.152Z"
   },
   {
    "duration": 15,
    "start_time": "2022-03-21T09:29:09.222Z"
   },
   {
    "duration": 23,
    "start_time": "2022-03-21T09:29:27.786Z"
   },
   {
    "duration": 14,
    "start_time": "2022-03-21T09:30:10.271Z"
   },
   {
    "duration": 4865,
    "start_time": "2022-03-21T09:31:25.110Z"
   },
   {
    "duration": 9,
    "start_time": "2022-03-21T09:32:30.596Z"
   },
   {
    "duration": 6,
    "start_time": "2022-03-21T09:33:17.782Z"
   },
   {
    "duration": 7,
    "start_time": "2022-03-21T09:34:09.580Z"
   },
   {
    "duration": 7,
    "start_time": "2022-03-21T09:37:47.719Z"
   },
   {
    "duration": 7,
    "start_time": "2022-03-21T09:37:57.509Z"
   },
   {
    "duration": 116,
    "start_time": "2022-03-21T09:45:22.113Z"
   },
   {
    "duration": 133,
    "start_time": "2022-03-21T09:45:39.937Z"
   },
   {
    "duration": 144,
    "start_time": "2022-03-21T09:46:01.362Z"
   },
   {
    "duration": 153,
    "start_time": "2022-03-21T09:46:21.330Z"
   },
   {
    "duration": 2560,
    "start_time": "2022-03-21T09:47:22.046Z"
   },
   {
    "duration": 3,
    "start_time": "2022-03-21T09:47:45.608Z"
   },
   {
    "duration": 354,
    "start_time": "2022-03-21T09:47:45.758Z"
   },
   {
    "duration": 19,
    "start_time": "2022-03-21T09:47:46.114Z"
   },
   {
    "duration": 31,
    "start_time": "2022-03-21T09:47:46.249Z"
   },
   {
    "duration": 23,
    "start_time": "2022-03-21T09:47:46.415Z"
   },
   {
    "duration": 31,
    "start_time": "2022-03-21T09:47:46.589Z"
   },
   {
    "duration": 10,
    "start_time": "2022-03-21T09:47:46.924Z"
   },
   {
    "duration": 15,
    "start_time": "2022-03-21T09:47:47.089Z"
   },
   {
    "duration": 4,
    "start_time": "2022-03-21T09:47:47.640Z"
   },
   {
    "duration": 29,
    "start_time": "2022-03-21T09:47:47.816Z"
   },
   {
    "duration": 19,
    "start_time": "2022-03-21T09:47:47.991Z"
   },
   {
    "duration": 25,
    "start_time": "2022-03-21T09:47:48.174Z"
   },
   {
    "duration": 10,
    "start_time": "2022-03-21T09:47:48.542Z"
   },
   {
    "duration": 174,
    "start_time": "2022-03-21T09:47:48.897Z"
   },
   {
    "duration": 81,
    "start_time": "2022-03-21T09:47:49.288Z"
   },
   {
    "duration": 115,
    "start_time": "2022-03-21T09:47:49.663Z"
   },
   {
    "duration": 39,
    "start_time": "2022-03-21T09:47:50.044Z"
   },
   {
    "duration": 131,
    "start_time": "2022-03-21T09:47:50.459Z"
   },
   {
    "duration": 37,
    "start_time": "2022-03-21T09:47:50.878Z"
   },
   {
    "duration": 10,
    "start_time": "2022-03-21T09:47:51.487Z"
   },
   {
    "duration": 29,
    "start_time": "2022-03-21T09:47:52.144Z"
   },
   {
    "duration": 15,
    "start_time": "2022-03-21T09:47:52.632Z"
   },
   {
    "duration": 11,
    "start_time": "2022-03-21T09:47:54.519Z"
   },
   {
    "duration": 12,
    "start_time": "2022-03-21T09:47:56.770Z"
   },
   {
    "duration": 16,
    "start_time": "2022-03-21T09:47:57.858Z"
   },
   {
    "duration": 13,
    "start_time": "2022-03-21T09:47:58.186Z"
   },
   {
    "duration": 12,
    "start_time": "2022-03-21T09:47:58.537Z"
   },
   {
    "duration": 4,
    "start_time": "2022-03-21T09:47:58.871Z"
   },
   {
    "duration": 16,
    "start_time": "2022-03-21T09:48:02.970Z"
   },
   {
    "duration": 11,
    "start_time": "2022-03-21T09:48:03.465Z"
   },
   {
    "duration": 119,
    "start_time": "2022-03-21T09:48:31.059Z"
   },
   {
    "duration": 16,
    "start_time": "2022-03-21T09:48:41.393Z"
   },
   {
    "duration": 5,
    "start_time": "2022-03-21T09:57:55.042Z"
   },
   {
    "duration": 4,
    "start_time": "2022-03-21T09:58:14.386Z"
   },
   {
    "duration": 1263,
    "start_time": "2022-03-31T21:38:04.044Z"
   },
   {
    "duration": 699,
    "start_time": "2022-03-31T21:38:05.311Z"
   },
   {
    "duration": 53,
    "start_time": "2022-03-31T21:38:06.012Z"
   },
   {
    "duration": 50,
    "start_time": "2022-03-31T21:38:06.067Z"
   },
   {
    "duration": 52,
    "start_time": "2022-03-31T21:38:06.124Z"
   },
   {
    "duration": 70,
    "start_time": "2022-03-31T21:38:06.179Z"
   },
   {
    "duration": 23,
    "start_time": "2022-03-31T21:38:06.252Z"
   },
   {
    "duration": 33,
    "start_time": "2022-03-31T21:38:06.277Z"
   },
   {
    "duration": 5,
    "start_time": "2022-03-31T21:38:06.314Z"
   },
   {
    "duration": 78,
    "start_time": "2022-03-31T21:38:06.322Z"
   },
   {
    "duration": 32,
    "start_time": "2022-03-31T21:38:06.402Z"
   },
   {
    "duration": 50,
    "start_time": "2022-03-31T21:38:06.448Z"
   },
   {
    "duration": 16,
    "start_time": "2022-03-31T21:38:06.500Z"
   },
   {
    "duration": 355,
    "start_time": "2022-03-31T21:38:06.522Z"
   },
   {
    "duration": 163,
    "start_time": "2022-03-31T21:38:06.882Z"
   },
   {
    "duration": 225,
    "start_time": "2022-03-31T21:38:07.048Z"
   },
   {
    "duration": 91,
    "start_time": "2022-03-31T21:38:07.278Z"
   },
   {
    "duration": 258,
    "start_time": "2022-03-31T21:38:07.372Z"
   },
   {
    "duration": 83,
    "start_time": "2022-03-31T21:38:07.633Z"
   },
   {
    "duration": 28,
    "start_time": "2022-03-31T21:38:07.718Z"
   },
   {
    "duration": 49,
    "start_time": "2022-03-31T21:38:07.750Z"
   },
   {
    "duration": 57,
    "start_time": "2022-03-31T21:38:07.801Z"
   },
   {
    "duration": 17,
    "start_time": "2022-03-31T21:38:07.860Z"
   },
   {
    "duration": 19,
    "start_time": "2022-03-31T21:38:07.880Z"
   },
   {
    "duration": 65,
    "start_time": "2022-03-31T21:38:07.901Z"
   },
   {
    "duration": 20,
    "start_time": "2022-03-31T21:38:07.969Z"
   },
   {
    "duration": 22,
    "start_time": "2022-03-31T21:38:07.991Z"
   },
   {
    "duration": 9,
    "start_time": "2022-03-31T21:38:08.015Z"
   },
   {
    "duration": 47,
    "start_time": "2022-03-31T21:38:08.026Z"
   },
   {
    "duration": 26,
    "start_time": "2022-03-31T21:38:08.075Z"
   },
   {
    "duration": 21,
    "start_time": "2022-03-31T21:38:08.103Z"
   },
   {
    "duration": 25,
    "start_time": "2022-03-31T21:38:08.145Z"
   },
   {
    "duration": 725,
    "start_time": "2022-03-31T21:38:08.173Z"
   },
   {
    "duration": 8,
    "start_time": "2022-03-31T21:38:08.900Z"
   },
   {
    "duration": 18,
    "start_time": "2022-03-31T21:38:08.911Z"
   },
   {
    "duration": 8,
    "start_time": "2022-03-31T21:38:08.950Z"
   },
   {
    "duration": 245,
    "start_time": "2022-03-31T21:38:08.960Z"
   },
   {
    "duration": 6,
    "start_time": "2022-03-31T21:38:09.207Z"
   },
   {
    "duration": 28,
    "start_time": "2022-03-31T21:38:09.215Z"
   },
   {
    "duration": 11,
    "start_time": "2022-03-31T21:38:09.250Z"
   },
   {
    "duration": 231,
    "start_time": "2022-03-31T21:38:09.272Z"
   },
   {
    "duration": 6,
    "start_time": "2022-03-31T21:38:09.505Z"
   },
   {
    "duration": 9,
    "start_time": "2022-03-31T21:38:09.513Z"
   },
   {
    "duration": 33,
    "start_time": "2022-03-31T21:38:09.524Z"
   },
   {
    "duration": 23,
    "start_time": "2022-03-31T21:38:09.564Z"
   },
   {
    "duration": 6,
    "start_time": "2022-03-31T21:38:09.589Z"
   },
   {
    "duration": 9,
    "start_time": "2022-03-31T21:38:09.597Z"
   },
   {
    "duration": 8,
    "start_time": "2022-03-31T21:38:09.608Z"
   },
   {
    "duration": 48,
    "start_time": "2022-03-31T21:38:09.618Z"
   },
   {
    "duration": 20,
    "start_time": "2022-03-31T21:38:09.668Z"
   },
   {
    "duration": 43,
    "start_time": "2022-03-31T21:42:01.624Z"
   },
   {
    "duration": 873,
    "start_time": "2022-04-01T14:59:24.218Z"
   },
   {
    "duration": 406,
    "start_time": "2022-04-01T14:59:25.093Z"
   },
   {
    "duration": 26,
    "start_time": "2022-04-01T14:59:26.597Z"
   },
   {
    "duration": 32,
    "start_time": "2022-04-01T14:59:27.229Z"
   },
   {
    "duration": 26,
    "start_time": "2022-04-01T14:59:27.654Z"
   },
   {
    "duration": 29,
    "start_time": "2022-04-01T14:59:28.045Z"
   },
   {
    "duration": 11,
    "start_time": "2022-04-01T14:59:29.030Z"
   },
   {
    "duration": 17,
    "start_time": "2022-04-01T14:59:30.161Z"
   },
   {
    "duration": 5,
    "start_time": "2022-04-01T14:59:32.302Z"
   },
   {
    "duration": 34,
    "start_time": "2022-04-01T14:59:32.457Z"
   },
   {
    "duration": 22,
    "start_time": "2022-04-01T14:59:32.628Z"
   },
   {
    "duration": 26,
    "start_time": "2022-04-01T14:59:32.794Z"
   },
   {
    "duration": 12,
    "start_time": "2022-04-01T14:59:33.563Z"
   },
   {
    "duration": 12,
    "start_time": "2022-04-01T14:59:46.217Z"
   },
   {
    "duration": 91,
    "start_time": "2022-04-01T14:59:57.281Z"
   },
   {
    "duration": 11,
    "start_time": "2022-04-01T15:02:06.729Z"
   },
   {
    "duration": 11,
    "start_time": "2022-04-01T15:02:21.008Z"
   },
   {
    "duration": 77,
    "start_time": "2022-04-01T15:02:32.766Z"
   },
   {
    "duration": 76,
    "start_time": "2022-04-01T15:02:53.285Z"
   },
   {
    "duration": 77,
    "start_time": "2022-04-01T15:03:00.586Z"
   },
   {
    "duration": 124,
    "start_time": "2022-04-01T15:03:03.960Z"
   },
   {
    "duration": 48,
    "start_time": "2022-04-01T15:03:15.610Z"
   },
   {
    "duration": 50,
    "start_time": "2022-04-01T15:03:18.613Z"
   },
   {
    "duration": 53,
    "start_time": "2022-04-01T15:03:27.025Z"
   },
   {
    "duration": 58,
    "start_time": "2022-04-01T15:03:30.253Z"
   },
   {
    "duration": 10,
    "start_time": "2022-04-01T15:03:32.336Z"
   },
   {
    "duration": 29,
    "start_time": "2022-04-01T15:03:36.075Z"
   },
   {
    "duration": 10,
    "start_time": "2022-04-01T15:06:35.870Z"
   },
   {
    "duration": 3,
    "start_time": "2022-04-01T15:06:55.643Z"
   },
   {
    "duration": 28,
    "start_time": "2022-04-01T15:07:04.290Z"
   },
   {
    "duration": 30,
    "start_time": "2022-04-01T15:07:25.572Z"
   },
   {
    "duration": 109,
    "start_time": "2022-04-01T15:08:40.786Z"
   },
   {
    "duration": 4,
    "start_time": "2022-04-01T15:08:48.355Z"
   },
   {
    "duration": 444,
    "start_time": "2022-04-01T15:08:48.383Z"
   },
   {
    "duration": 19,
    "start_time": "2022-04-01T15:08:48.829Z"
   },
   {
    "duration": 36,
    "start_time": "2022-04-01T15:08:48.850Z"
   },
   {
    "duration": 50,
    "start_time": "2022-04-01T15:08:48.889Z"
   },
   {
    "duration": 30,
    "start_time": "2022-04-01T15:08:48.947Z"
   },
   {
    "duration": 10,
    "start_time": "2022-04-01T15:08:49.264Z"
   },
   {
    "duration": 18,
    "start_time": "2022-04-01T15:08:49.608Z"
   },
   {
    "duration": 4,
    "start_time": "2022-04-01T15:08:50.294Z"
   },
   {
    "duration": 34,
    "start_time": "2022-04-01T15:08:50.454Z"
   },
   {
    "duration": 22,
    "start_time": "2022-04-01T15:08:50.653Z"
   },
   {
    "duration": 27,
    "start_time": "2022-04-01T15:08:50.839Z"
   },
   {
    "duration": 11,
    "start_time": "2022-04-01T15:08:51.275Z"
   },
   {
    "duration": 71,
    "start_time": "2022-04-01T15:08:52.062Z"
   },
   {
    "duration": 133,
    "start_time": "2022-04-01T15:08:53.335Z"
   },
   {
    "duration": 48,
    "start_time": "2022-04-01T15:08:53.822Z"
   },
   {
    "duration": 52,
    "start_time": "2022-04-01T15:08:54.577Z"
   },
   {
    "duration": 54,
    "start_time": "2022-04-01T15:08:55.428Z"
   },
   {
    "duration": 59,
    "start_time": "2022-04-01T15:08:56.280Z"
   },
   {
    "duration": 9,
    "start_time": "2022-04-01T15:08:57.824Z"
   },
   {
    "duration": 113,
    "start_time": "2022-04-01T15:08:59.761Z"
   },
   {
    "duration": 31,
    "start_time": "2022-04-01T15:09:09.931Z"
   },
   {
    "duration": 108,
    "start_time": "2022-04-01T15:09:25.206Z"
   },
   {
    "duration": 30,
    "start_time": "2022-04-01T15:09:33.185Z"
   },
   {
    "duration": 40,
    "start_time": "2022-04-01T15:10:00.978Z"
   },
   {
    "duration": 40,
    "start_time": "2022-04-01T15:10:08.148Z"
   },
   {
    "duration": 37,
    "start_time": "2022-04-01T15:10:42.359Z"
   },
   {
    "duration": 40,
    "start_time": "2022-04-01T15:10:46.173Z"
   },
   {
    "duration": 29,
    "start_time": "2022-04-01T15:11:08.588Z"
   },
   {
    "duration": 30,
    "start_time": "2022-04-01T15:12:49.737Z"
   },
   {
    "duration": 31,
    "start_time": "2022-04-01T15:12:56.211Z"
   },
   {
    "duration": 34,
    "start_time": "2022-04-01T15:13:13.045Z"
   },
   {
    "duration": 14,
    "start_time": "2022-04-01T15:13:17.753Z"
   },
   {
    "duration": 11,
    "start_time": "2022-04-01T15:13:20.057Z"
   },
   {
    "duration": 14,
    "start_time": "2022-04-01T15:13:20.882Z"
   },
   {
    "duration": 16,
    "start_time": "2022-04-01T15:13:21.642Z"
   },
   {
    "duration": 14,
    "start_time": "2022-04-01T15:13:22.340Z"
   },
   {
    "duration": 13,
    "start_time": "2022-04-01T15:13:23.038Z"
   },
   {
    "duration": 5,
    "start_time": "2022-04-01T15:13:23.836Z"
   },
   {
    "duration": 16,
    "start_time": "2022-04-01T15:13:24.640Z"
   },
   {
    "duration": 17,
    "start_time": "2022-04-01T15:13:25.421Z"
   },
   {
    "duration": 16,
    "start_time": "2022-04-01T15:13:26.178Z"
   },
   {
    "duration": 13,
    "start_time": "2022-04-01T15:13:26.912Z"
   },
   {
    "duration": 119,
    "start_time": "2022-04-01T15:14:16.038Z"
   },
   {
    "duration": 629,
    "start_time": "2022-04-01T15:14:19.585Z"
   },
   {
    "duration": 174,
    "start_time": "2022-04-01T15:14:37.702Z"
   },
   {
    "duration": 187,
    "start_time": "2022-04-01T15:14:46.514Z"
   },
   {
    "duration": 156,
    "start_time": "2022-04-01T15:16:16.537Z"
   },
   {
    "duration": 12382,
    "start_time": "2022-04-01T15:17:14.220Z"
   },
   {
    "duration": 142,
    "start_time": "2022-04-01T15:17:52.800Z"
   },
   {
    "duration": 186,
    "start_time": "2022-04-01T15:18:00.314Z"
   },
   {
    "duration": 114,
    "start_time": "2022-04-01T15:19:48.551Z"
   },
   {
    "duration": 193,
    "start_time": "2022-04-01T15:20:00.038Z"
   },
   {
    "duration": 193,
    "start_time": "2022-04-01T15:22:07.773Z"
   },
   {
    "duration": 185,
    "start_time": "2022-04-01T15:22:17.347Z"
   },
   {
    "duration": 125,
    "start_time": "2022-04-01T15:22:26.093Z"
   },
   {
    "duration": 11103,
    "start_time": "2022-04-01T15:22:35.234Z"
   },
   {
    "duration": 333,
    "start_time": "2022-04-01T15:23:00.898Z"
   },
   {
    "duration": 168,
    "start_time": "2022-04-01T15:23:18.621Z"
   },
   {
    "duration": 155,
    "start_time": "2022-04-01T15:23:46.084Z"
   },
   {
    "duration": 198,
    "start_time": "2022-04-01T15:24:04.502Z"
   },
   {
    "duration": 179,
    "start_time": "2022-04-01T15:24:20.203Z"
   },
   {
    "duration": 198,
    "start_time": "2022-04-01T15:24:52.533Z"
   },
   {
    "duration": 196,
    "start_time": "2022-04-01T15:25:01.876Z"
   },
   {
    "duration": 191,
    "start_time": "2022-04-01T15:25:33.636Z"
   },
   {
    "duration": 189,
    "start_time": "2022-04-01T15:27:06.709Z"
   },
   {
    "duration": 181,
    "start_time": "2022-04-01T15:27:14.677Z"
   },
   {
    "duration": 204,
    "start_time": "2022-04-01T15:27:23.382Z"
   },
   {
    "duration": 192,
    "start_time": "2022-04-01T15:27:28.411Z"
   },
   {
    "duration": 203,
    "start_time": "2022-04-01T15:27:32.421Z"
   },
   {
    "duration": 182,
    "start_time": "2022-04-01T15:27:40.544Z"
   },
   {
    "duration": 186,
    "start_time": "2022-04-01T15:27:57.848Z"
   },
   {
    "duration": 215,
    "start_time": "2022-04-01T15:28:01.415Z"
   },
   {
    "duration": 192,
    "start_time": "2022-04-01T15:28:07.999Z"
   },
   {
    "duration": 193,
    "start_time": "2022-04-01T15:29:10.705Z"
   },
   {
    "duration": 112,
    "start_time": "2022-04-01T15:29:43.019Z"
   },
   {
    "duration": 124,
    "start_time": "2022-04-01T15:29:46.881Z"
   },
   {
    "duration": 180,
    "start_time": "2022-04-01T15:29:55.071Z"
   },
   {
    "duration": 138,
    "start_time": "2022-04-01T15:30:03.182Z"
   },
   {
    "duration": 112,
    "start_time": "2022-04-01T15:30:09.983Z"
   },
   {
    "duration": 189,
    "start_time": "2022-04-01T15:30:12.886Z"
   },
   {
    "duration": 183,
    "start_time": "2022-04-01T15:30:27.083Z"
   },
   {
    "duration": 187,
    "start_time": "2022-04-01T15:30:38.669Z"
   },
   {
    "duration": 114,
    "start_time": "2022-04-01T15:31:47.349Z"
   },
   {
    "duration": 172,
    "start_time": "2022-04-01T15:32:01.809Z"
   },
   {
    "duration": 220,
    "start_time": "2022-04-01T15:32:16.383Z"
   },
   {
    "duration": 132,
    "start_time": "2022-04-01T15:32:23.920Z"
   },
   {
    "duration": 187,
    "start_time": "2022-04-01T15:33:31.193Z"
   },
   {
    "duration": 450,
    "start_time": "2022-04-01T15:33:34.596Z"
   },
   {
    "duration": 186,
    "start_time": "2022-04-01T15:33:44.698Z"
   },
   {
    "duration": 190,
    "start_time": "2022-04-01T15:34:10.867Z"
   },
   {
    "duration": 188,
    "start_time": "2022-04-01T15:34:25.665Z"
   },
   {
    "duration": 201,
    "start_time": "2022-04-01T15:34:59.739Z"
   },
   {
    "duration": 208,
    "start_time": "2022-04-01T15:35:15.851Z"
   },
   {
    "duration": 192,
    "start_time": "2022-04-01T15:35:25.562Z"
   },
   {
    "duration": 199,
    "start_time": "2022-04-01T15:35:53.744Z"
   },
   {
    "duration": 187,
    "start_time": "2022-04-01T15:36:14.607Z"
   },
   {
    "duration": 207,
    "start_time": "2022-04-01T15:36:40.921Z"
   },
   {
    "duration": 4,
    "start_time": "2022-04-01T15:36:42.387Z"
   },
   {
    "duration": 4,
    "start_time": "2022-04-01T15:36:42.860Z"
   },
   {
    "duration": 5,
    "start_time": "2022-04-01T15:36:43.381Z"
   },
   {
    "duration": 186,
    "start_time": "2022-04-01T15:38:25.058Z"
   },
   {
    "duration": 184,
    "start_time": "2022-04-01T15:39:05.522Z"
   },
   {
    "duration": 200,
    "start_time": "2022-04-01T15:39:34.091Z"
   },
   {
    "duration": 213,
    "start_time": "2022-04-01T15:39:56.969Z"
   },
   {
    "duration": 6,
    "start_time": "2022-04-01T15:40:01.509Z"
   },
   {
    "duration": 7,
    "start_time": "2022-04-01T15:40:01.652Z"
   },
   {
    "duration": 5,
    "start_time": "2022-04-01T15:40:01.831Z"
   },
   {
    "duration": 195,
    "start_time": "2022-04-01T15:40:03.482Z"
   },
   {
    "duration": 183,
    "start_time": "2022-04-01T15:40:14.617Z"
   },
   {
    "duration": 4,
    "start_time": "2022-04-01T15:40:15.904Z"
   },
   {
    "duration": 6,
    "start_time": "2022-04-01T15:40:16.096Z"
   },
   {
    "duration": 5,
    "start_time": "2022-04-01T15:40:16.458Z"
   },
   {
    "duration": 133,
    "start_time": "2022-04-01T15:40:38.585Z"
   },
   {
    "duration": 180,
    "start_time": "2022-04-01T15:41:37.975Z"
   },
   {
    "duration": 5,
    "start_time": "2022-04-01T15:41:44.527Z"
   },
   {
    "duration": 6,
    "start_time": "2022-04-01T15:41:44.835Z"
   },
   {
    "duration": 5,
    "start_time": "2022-04-01T15:41:45.123Z"
   },
   {
    "duration": 5,
    "start_time": "2022-04-01T15:41:49.226Z"
   },
   {
    "duration": 5,
    "start_time": "2022-04-01T15:41:49.873Z"
   },
   {
    "duration": 6,
    "start_time": "2022-04-01T15:41:50.460Z"
   },
   {
    "duration": 4,
    "start_time": "2022-04-01T15:41:50.930Z"
   },
   {
    "duration": 11,
    "start_time": "2022-04-01T15:41:51.590Z"
   },
   {
    "duration": 7,
    "start_time": "2022-04-01T15:41:52.058Z"
   }
  ],
  "kernelspec": {
   "display_name": "Python 3 (ipykernel)",
   "language": "python",
   "name": "python3"
  },
  "language_info": {
   "codemirror_mode": {
    "name": "ipython",
    "version": 3
   },
   "file_extension": ".py",
   "mimetype": "text/x-python",
   "name": "python",
   "nbconvert_exporter": "python",
   "pygments_lexer": "ipython3",
   "version": "3.9.5"
  },
  "toc": {
   "base_numbering": 1,
   "nav_menu": {},
   "number_sections": true,
   "sideBar": true,
   "skip_h1_title": true,
   "title_cell": "Table of Contents",
   "title_sidebar": "Contents",
   "toc_cell": false,
   "toc_position": {},
   "toc_section_display": true,
   "toc_window_display": false
  }
 },
 "nbformat": 4,
 "nbformat_minor": 2
}
