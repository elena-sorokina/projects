{
 "cells": [
  {
   "cell_type": "markdown",
   "metadata": {},
   "source": [
    "## Описание проекта\n",
    "\n",
    "Я — аналитик крупного интернет-магазина. Вместе с отделом маркетинга мы подготовили список гипотез для увеличения выручки.\n",
    "\n",
    "**Цель:** Приоритизировать гипотезы, запустить A/B-тест и проанализировать результаты.\n",
    "\n",
    "### Описание данных\n",
    "\n",
    "**Данные для первой части**\n",
    "Файл `/datasets/hypothesis.csv`:\n",
    "* `Hypothesis` — краткое описание гипотезы;\n",
    "* `Reach` — охват пользователей по 10-балльной шкале;\n",
    "* `Impact` — влияние на пользователей по 10-балльной шкале;\n",
    "* `Confidence` — уверенность в гипотезе по 10-балльной шкале;\n",
    "* `Efforts` — затраты ресурсов на проверку гипотезы по 10-балльной шкале. Чем больше значение Efforts, тем дороже проверка гипотезы.\n",
    "\n",
    "**Данные для второй части**\n",
    "Файл `/datasets/orders.csv`\n",
    "* `transactionId` — идентификатор заказа;\n",
    "* `visitorId` — идентификатор пользователя, совершившего заказ;\n",
    "* `date` — дата, когда был совершён заказ;\n",
    "* `revenue` — выручка заказа;\n",
    "* `group` — группа A/B-теста, в которую попал заказ.\n",
    "\n",
    "Файл `/datasets/visitors.csv`\n",
    "* `date` — дата;\n",
    "* `group` — группа A/B-теста;\n",
    "* `visitors` — количество пользователей в указанную дату в указанной группе A/B-теста  "
   ]
  },
  {
   "cell_type": "markdown",
   "metadata": {},
   "source": [
    "## Оглавление:\n",
    "\n",
    "1. [Часть 1. Приоритизация гипотез](#step1)  \n",
    "2. [Часть 2. Анализ A/B-теста](#step2)\n",
    "3. [Общий вывод и решение по результатам теста](#step3)"
   ]
  },
  {
   "cell_type": "markdown",
   "metadata": {},
   "source": [
    "# Часть 1. Приоритизация гипотез <a id=\"step1\"></a>"
   ]
  },
  {
   "cell_type": "code",
   "execution_count": 2,
   "metadata": {},
   "outputs": [],
   "source": [
    "import pandas as pd    #  импорт библиотек \n",
    "import matplotlib.pyplot as plt\n",
    "import numpy as np\n",
    "import scipy.stats as stats"
   ]
  },
  {
   "cell_type": "code",
   "execution_count": 3,
   "metadata": {},
   "outputs": [
    {
     "data": {
      "text/html": [
       "<div>\n",
       "<style scoped>\n",
       "    .dataframe tbody tr th:only-of-type {\n",
       "        vertical-align: middle;\n",
       "    }\n",
       "\n",
       "    .dataframe tbody tr th {\n",
       "        vertical-align: top;\n",
       "    }\n",
       "\n",
       "    .dataframe thead th {\n",
       "        text-align: right;\n",
       "    }\n",
       "</style>\n",
       "<table border=\"1\" class=\"dataframe\">\n",
       "  <thead>\n",
       "    <tr style=\"text-align: right;\">\n",
       "      <th></th>\n",
       "      <th>Hypothesis</th>\n",
       "      <th>Reach</th>\n",
       "      <th>Impact</th>\n",
       "      <th>Confidence</th>\n",
       "      <th>Efforts</th>\n",
       "    </tr>\n",
       "  </thead>\n",
       "  <tbody>\n",
       "    <tr>\n",
       "      <th>0</th>\n",
       "      <td>Добавить два новых канала привлечения трафика, что позволит привлекать на 30% больше пользователей</td>\n",
       "      <td>3</td>\n",
       "      <td>10</td>\n",
       "      <td>8</td>\n",
       "      <td>6</td>\n",
       "    </tr>\n",
       "    <tr>\n",
       "      <th>1</th>\n",
       "      <td>Запустить собственную службу доставки, что сократит срок доставки заказов</td>\n",
       "      <td>2</td>\n",
       "      <td>5</td>\n",
       "      <td>4</td>\n",
       "      <td>10</td>\n",
       "    </tr>\n",
       "    <tr>\n",
       "      <th>2</th>\n",
       "      <td>Добавить блоки рекомендаций товаров на сайт интернет магазина, чтобы повысить конверсию и средний чек заказа</td>\n",
       "      <td>8</td>\n",
       "      <td>3</td>\n",
       "      <td>7</td>\n",
       "      <td>3</td>\n",
       "    </tr>\n",
       "    <tr>\n",
       "      <th>3</th>\n",
       "      <td>Изменить структура категорий, что увеличит конверсию, т.к. пользователи быстрее найдут нужный товар</td>\n",
       "      <td>8</td>\n",
       "      <td>3</td>\n",
       "      <td>3</td>\n",
       "      <td>8</td>\n",
       "    </tr>\n",
       "    <tr>\n",
       "      <th>4</th>\n",
       "      <td>Изменить цвет фона главной страницы, чтобы увеличить вовлеченность пользователей</td>\n",
       "      <td>3</td>\n",
       "      <td>1</td>\n",
       "      <td>1</td>\n",
       "      <td>1</td>\n",
       "    </tr>\n",
       "    <tr>\n",
       "      <th>5</th>\n",
       "      <td>Добавить страницу отзывов клиентов о магазине, что позволит увеличить количество заказов</td>\n",
       "      <td>3</td>\n",
       "      <td>2</td>\n",
       "      <td>2</td>\n",
       "      <td>3</td>\n",
       "    </tr>\n",
       "    <tr>\n",
       "      <th>6</th>\n",
       "      <td>Показать на главной странице баннеры с актуальными акциями и распродажами, чтобы увеличить конверсию</td>\n",
       "      <td>5</td>\n",
       "      <td>3</td>\n",
       "      <td>8</td>\n",
       "      <td>3</td>\n",
       "    </tr>\n",
       "    <tr>\n",
       "      <th>7</th>\n",
       "      <td>Добавить форму подписки на все основные страницы, чтобы собрать базу клиентов для email-рассылок</td>\n",
       "      <td>10</td>\n",
       "      <td>7</td>\n",
       "      <td>8</td>\n",
       "      <td>5</td>\n",
       "    </tr>\n",
       "    <tr>\n",
       "      <th>8</th>\n",
       "      <td>Запустить акцию, дающую скидку на товар в день рождения</td>\n",
       "      <td>1</td>\n",
       "      <td>9</td>\n",
       "      <td>9</td>\n",
       "      <td>5</td>\n",
       "    </tr>\n",
       "  </tbody>\n",
       "</table>\n",
       "</div>"
      ],
      "text/plain": [
       "                                                                                                     Hypothesis  \\\n",
       "0            Добавить два новых канала привлечения трафика, что позволит привлекать на 30% больше пользователей   \n",
       "1                                     Запустить собственную службу доставки, что сократит срок доставки заказов   \n",
       "2  Добавить блоки рекомендаций товаров на сайт интернет магазина, чтобы повысить конверсию и средний чек заказа   \n",
       "3           Изменить структура категорий, что увеличит конверсию, т.к. пользователи быстрее найдут нужный товар   \n",
       "4                              Изменить цвет фона главной страницы, чтобы увеличить вовлеченность пользователей   \n",
       "5                      Добавить страницу отзывов клиентов о магазине, что позволит увеличить количество заказов   \n",
       "6          Показать на главной странице баннеры с актуальными акциями и распродажами, чтобы увеличить конверсию   \n",
       "7              Добавить форму подписки на все основные страницы, чтобы собрать базу клиентов для email-рассылок   \n",
       "8                                                       Запустить акцию, дающую скидку на товар в день рождения   \n",
       "\n",
       "   Reach  Impact  Confidence  Efforts  \n",
       "0      3      10           8        6  \n",
       "1      2       5           4       10  \n",
       "2      8       3           7        3  \n",
       "3      8       3           3        8  \n",
       "4      3       1           1        1  \n",
       "5      3       2           2        3  \n",
       "6      5       3           8        3  \n",
       "7     10       7           8        5  \n",
       "8      1       9           9        5  "
      ]
     },
     "execution_count": 3,
     "metadata": {},
     "output_type": "execute_result"
    }
   ],
   "source": [
    "dt = pd.read_csv('/datasets/hypothesis.csv')    #  прочтение файла\n",
    "pd.set_option('display.max_colwidth', 150)\n",
    "dt"
   ]
  },
  {
   "cell_type": "markdown",
   "metadata": {},
   "source": [
    "В файле 9 гипотез по увеличению выручки интернет-магазина с указанными параметрами `Reach`, `Impact`, `Confidence`, `Effort`. \n",
    "\n",
    "Для упрощения дальнейшей работы, приведем названия столбцов к нижнему регистру:"
   ]
  },
  {
   "cell_type": "code",
   "execution_count": 4,
   "metadata": {},
   "outputs": [
    {
     "data": {
      "text/plain": [
       "Index(['hypothesis', 'reach', 'impact', 'confidence', 'efforts'], dtype='object')"
      ]
     },
     "execution_count": 4,
     "metadata": {},
     "output_type": "execute_result"
    }
   ],
   "source": [
    "dt.columns = dt.columns.str.lower()\n",
    "dt.columns"
   ]
  },
  {
   "cell_type": "markdown",
   "metadata": {},
   "source": [
    "**1) Применим фреймворк ICE для приоритизации гипотез. Отсортируем их по убыванию приоритета.**"
   ]
  },
  {
   "cell_type": "code",
   "execution_count": 7,
   "metadata": {},
   "outputs": [
    {
     "data": {
      "text/html": [
       "<div>\n",
       "<style scoped>\n",
       "    .dataframe tbody tr th:only-of-type {\n",
       "        vertical-align: middle;\n",
       "    }\n",
       "\n",
       "    .dataframe tbody tr th {\n",
       "        vertical-align: top;\n",
       "    }\n",
       "\n",
       "    .dataframe thead th {\n",
       "        text-align: right;\n",
       "    }\n",
       "</style>\n",
       "<table border=\"1\" class=\"dataframe\">\n",
       "  <thead>\n",
       "    <tr style=\"text-align: right;\">\n",
       "      <th></th>\n",
       "      <th>hypothesis</th>\n",
       "      <th>reach</th>\n",
       "      <th>impact</th>\n",
       "      <th>confidence</th>\n",
       "      <th>efforts</th>\n",
       "      <th>ICE</th>\n",
       "    </tr>\n",
       "  </thead>\n",
       "  <tbody>\n",
       "    <tr>\n",
       "      <th>8</th>\n",
       "      <td>Запустить акцию, дающую скидку на товар в день рождения</td>\n",
       "      <td>1</td>\n",
       "      <td>9</td>\n",
       "      <td>9</td>\n",
       "      <td>5</td>\n",
       "      <td>16</td>\n",
       "    </tr>\n",
       "    <tr>\n",
       "      <th>0</th>\n",
       "      <td>Добавить два новых канала привлечения трафика, что позволит привлекать на 30% больше пользователей</td>\n",
       "      <td>3</td>\n",
       "      <td>10</td>\n",
       "      <td>8</td>\n",
       "      <td>6</td>\n",
       "      <td>13</td>\n",
       "    </tr>\n",
       "    <tr>\n",
       "      <th>7</th>\n",
       "      <td>Добавить форму подписки на все основные страницы, чтобы собрать базу клиентов для email-рассылок</td>\n",
       "      <td>10</td>\n",
       "      <td>7</td>\n",
       "      <td>8</td>\n",
       "      <td>5</td>\n",
       "      <td>11</td>\n",
       "    </tr>\n",
       "    <tr>\n",
       "      <th>6</th>\n",
       "      <td>Показать на главной странице баннеры с актуальными акциями и распродажами, чтобы увеличить конверсию</td>\n",
       "      <td>5</td>\n",
       "      <td>3</td>\n",
       "      <td>8</td>\n",
       "      <td>3</td>\n",
       "      <td>8</td>\n",
       "    </tr>\n",
       "    <tr>\n",
       "      <th>2</th>\n",
       "      <td>Добавить блоки рекомендаций товаров на сайт интернет магазина, чтобы повысить конверсию и средний чек заказа</td>\n",
       "      <td>8</td>\n",
       "      <td>3</td>\n",
       "      <td>7</td>\n",
       "      <td>3</td>\n",
       "      <td>7</td>\n",
       "    </tr>\n",
       "    <tr>\n",
       "      <th>1</th>\n",
       "      <td>Запустить собственную службу доставки, что сократит срок доставки заказов</td>\n",
       "      <td>2</td>\n",
       "      <td>5</td>\n",
       "      <td>4</td>\n",
       "      <td>10</td>\n",
       "      <td>2</td>\n",
       "    </tr>\n",
       "    <tr>\n",
       "      <th>5</th>\n",
       "      <td>Добавить страницу отзывов клиентов о магазине, что позволит увеличить количество заказов</td>\n",
       "      <td>3</td>\n",
       "      <td>2</td>\n",
       "      <td>2</td>\n",
       "      <td>3</td>\n",
       "      <td>1</td>\n",
       "    </tr>\n",
       "    <tr>\n",
       "      <th>3</th>\n",
       "      <td>Изменить структура категорий, что увеличит конверсию, т.к. пользователи быстрее найдут нужный товар</td>\n",
       "      <td>8</td>\n",
       "      <td>3</td>\n",
       "      <td>3</td>\n",
       "      <td>8</td>\n",
       "      <td>1</td>\n",
       "    </tr>\n",
       "    <tr>\n",
       "      <th>4</th>\n",
       "      <td>Изменить цвет фона главной страницы, чтобы увеличить вовлеченность пользователей</td>\n",
       "      <td>3</td>\n",
       "      <td>1</td>\n",
       "      <td>1</td>\n",
       "      <td>1</td>\n",
       "      <td>1</td>\n",
       "    </tr>\n",
       "  </tbody>\n",
       "</table>\n",
       "</div>"
      ],
      "text/plain": [
       "                                                                                                     hypothesis  \\\n",
       "8                                                       Запустить акцию, дающую скидку на товар в день рождения   \n",
       "0            Добавить два новых канала привлечения трафика, что позволит привлекать на 30% больше пользователей   \n",
       "7              Добавить форму подписки на все основные страницы, чтобы собрать базу клиентов для email-рассылок   \n",
       "6          Показать на главной странице баннеры с актуальными акциями и распродажами, чтобы увеличить конверсию   \n",
       "2  Добавить блоки рекомендаций товаров на сайт интернет магазина, чтобы повысить конверсию и средний чек заказа   \n",
       "1                                     Запустить собственную службу доставки, что сократит срок доставки заказов   \n",
       "5                      Добавить страницу отзывов клиентов о магазине, что позволит увеличить количество заказов   \n",
       "3           Изменить структура категорий, что увеличит конверсию, т.к. пользователи быстрее найдут нужный товар   \n",
       "4                              Изменить цвет фона главной страницы, чтобы увеличить вовлеченность пользователей   \n",
       "\n",
       "   reach  impact  confidence  efforts  ICE  \n",
       "8      1       9           9        5   16  \n",
       "0      3      10           8        6   13  \n",
       "7     10       7           8        5   11  \n",
       "6      5       3           8        3    8  \n",
       "2      8       3           7        3    7  \n",
       "1      2       5           4       10    2  \n",
       "5      3       2           2        3    1  \n",
       "3      8       3           3        8    1  \n",
       "4      3       1           1        1    1  "
      ]
     },
     "execution_count": 7,
     "metadata": {},
     "output_type": "execute_result"
    }
   ],
   "source": [
    "dt['ICE'] = round(dt['impact'] * dt['confidence'] / dt['efforts']).astype('int')\n",
    "dt = dt.sort_values(by='ICE', ascending=False)\n",
    "dt"
   ]
  },
  {
   "cell_type": "markdown",
   "metadata": {},
   "source": [
    "***Вывод:***\n",
    "\n",
    "Наиболее перспективные гипотезы по **ICE** - 8, 0, 7."
   ]
  },
  {
   "cell_type": "markdown",
   "metadata": {},
   "source": [
    "**2) Применим фреймворк RICE для приоритизации гипотез. Отсортируем их по убыванию приоритета.**"
   ]
  },
  {
   "cell_type": "code",
   "execution_count": 9,
   "metadata": {},
   "outputs": [
    {
     "data": {
      "text/html": [
       "<div>\n",
       "<style scoped>\n",
       "    .dataframe tbody tr th:only-of-type {\n",
       "        vertical-align: middle;\n",
       "    }\n",
       "\n",
       "    .dataframe tbody tr th {\n",
       "        vertical-align: top;\n",
       "    }\n",
       "\n",
       "    .dataframe thead th {\n",
       "        text-align: right;\n",
       "    }\n",
       "</style>\n",
       "<table border=\"1\" class=\"dataframe\">\n",
       "  <thead>\n",
       "    <tr style=\"text-align: right;\">\n",
       "      <th></th>\n",
       "      <th>hypothesis</th>\n",
       "      <th>reach</th>\n",
       "      <th>impact</th>\n",
       "      <th>confidence</th>\n",
       "      <th>efforts</th>\n",
       "      <th>ICE</th>\n",
       "      <th>RICE</th>\n",
       "    </tr>\n",
       "  </thead>\n",
       "  <tbody>\n",
       "    <tr>\n",
       "      <th>7</th>\n",
       "      <td>Добавить форму подписки на все основные страницы, чтобы собрать базу клиентов для email-рассылок</td>\n",
       "      <td>10</td>\n",
       "      <td>7</td>\n",
       "      <td>8</td>\n",
       "      <td>5</td>\n",
       "      <td>11</td>\n",
       "      <td>112</td>\n",
       "    </tr>\n",
       "    <tr>\n",
       "      <th>2</th>\n",
       "      <td>Добавить блоки рекомендаций товаров на сайт интернет магазина, чтобы повысить конверсию и средний чек заказа</td>\n",
       "      <td>8</td>\n",
       "      <td>3</td>\n",
       "      <td>7</td>\n",
       "      <td>3</td>\n",
       "      <td>7</td>\n",
       "      <td>56</td>\n",
       "    </tr>\n",
       "    <tr>\n",
       "      <th>0</th>\n",
       "      <td>Добавить два новых канала привлечения трафика, что позволит привлекать на 30% больше пользователей</td>\n",
       "      <td>3</td>\n",
       "      <td>10</td>\n",
       "      <td>8</td>\n",
       "      <td>6</td>\n",
       "      <td>13</td>\n",
       "      <td>40</td>\n",
       "    </tr>\n",
       "    <tr>\n",
       "      <th>6</th>\n",
       "      <td>Показать на главной странице баннеры с актуальными акциями и распродажами, чтобы увеличить конверсию</td>\n",
       "      <td>5</td>\n",
       "      <td>3</td>\n",
       "      <td>8</td>\n",
       "      <td>3</td>\n",
       "      <td>8</td>\n",
       "      <td>40</td>\n",
       "    </tr>\n",
       "    <tr>\n",
       "      <th>8</th>\n",
       "      <td>Запустить акцию, дающую скидку на товар в день рождения</td>\n",
       "      <td>1</td>\n",
       "      <td>9</td>\n",
       "      <td>9</td>\n",
       "      <td>5</td>\n",
       "      <td>16</td>\n",
       "      <td>16</td>\n",
       "    </tr>\n",
       "    <tr>\n",
       "      <th>3</th>\n",
       "      <td>Изменить структура категорий, что увеличит конверсию, т.к. пользователи быстрее найдут нужный товар</td>\n",
       "      <td>8</td>\n",
       "      <td>3</td>\n",
       "      <td>3</td>\n",
       "      <td>8</td>\n",
       "      <td>1</td>\n",
       "      <td>9</td>\n",
       "    </tr>\n",
       "    <tr>\n",
       "      <th>1</th>\n",
       "      <td>Запустить собственную службу доставки, что сократит срок доставки заказов</td>\n",
       "      <td>2</td>\n",
       "      <td>5</td>\n",
       "      <td>4</td>\n",
       "      <td>10</td>\n",
       "      <td>2</td>\n",
       "      <td>4</td>\n",
       "    </tr>\n",
       "    <tr>\n",
       "      <th>5</th>\n",
       "      <td>Добавить страницу отзывов клиентов о магазине, что позволит увеличить количество заказов</td>\n",
       "      <td>3</td>\n",
       "      <td>2</td>\n",
       "      <td>2</td>\n",
       "      <td>3</td>\n",
       "      <td>1</td>\n",
       "      <td>4</td>\n",
       "    </tr>\n",
       "    <tr>\n",
       "      <th>4</th>\n",
       "      <td>Изменить цвет фона главной страницы, чтобы увеличить вовлеченность пользователей</td>\n",
       "      <td>3</td>\n",
       "      <td>1</td>\n",
       "      <td>1</td>\n",
       "      <td>1</td>\n",
       "      <td>1</td>\n",
       "      <td>3</td>\n",
       "    </tr>\n",
       "  </tbody>\n",
       "</table>\n",
       "</div>"
      ],
      "text/plain": [
       "                                                                                                     hypothesis  \\\n",
       "7              Добавить форму подписки на все основные страницы, чтобы собрать базу клиентов для email-рассылок   \n",
       "2  Добавить блоки рекомендаций товаров на сайт интернет магазина, чтобы повысить конверсию и средний чек заказа   \n",
       "0            Добавить два новых канала привлечения трафика, что позволит привлекать на 30% больше пользователей   \n",
       "6          Показать на главной странице баннеры с актуальными акциями и распродажами, чтобы увеличить конверсию   \n",
       "8                                                       Запустить акцию, дающую скидку на товар в день рождения   \n",
       "3           Изменить структура категорий, что увеличит конверсию, т.к. пользователи быстрее найдут нужный товар   \n",
       "1                                     Запустить собственную службу доставки, что сократит срок доставки заказов   \n",
       "5                      Добавить страницу отзывов клиентов о магазине, что позволит увеличить количество заказов   \n",
       "4                              Изменить цвет фона главной страницы, чтобы увеличить вовлеченность пользователей   \n",
       "\n",
       "   reach  impact  confidence  efforts  ICE  RICE  \n",
       "7     10       7           8        5   11   112  \n",
       "2      8       3           7        3    7    56  \n",
       "0      3      10           8        6   13    40  \n",
       "6      5       3           8        3    8    40  \n",
       "8      1       9           9        5   16    16  \n",
       "3      8       3           3        8    1     9  \n",
       "1      2       5           4       10    2     4  \n",
       "5      3       2           2        3    1     4  \n",
       "4      3       1           1        1    1     3  "
      ]
     },
     "execution_count": 9,
     "metadata": {},
     "output_type": "execute_result"
    }
   ],
   "source": [
    "dt['RICE'] = (dt['reach'] * dt['impact'] * dt['confidence'] / dt['efforts']).astype('int')\n",
    "dt = dt.sort_values(by='RICE', ascending=False)\n",
    "dt"
   ]
  },
  {
   "cell_type": "markdown",
   "metadata": {},
   "source": [
    "***Вывод:***\n",
    "\n",
    "А вот по **RICE** наиболее перспективными оказались гипотезы 7, 2, 0, 6. Гипотеза номер 8 в топ не вошла. Приоритизация гипотез изменилась благодаря учету параметра `reach`, который показывает, скольких пользователей затронет изменение, которое мы хотим внести. Неудивительно, что седьмая гипотеза оказалась на первом месте - оценка `reach` у нее самая высокая - 10 баллов, в то время, как у восьмой гипотезы всего 1 балл."
   ]
  },
  {
   "cell_type": "markdown",
   "metadata": {},
   "source": [
    "# Часть 2. Анализ A/B-теста  <a id=\"step2\"></a>"
   ]
  },
  {
   "cell_type": "markdown",
   "metadata": {},
   "source": [
    "Мы провели A/B-тест и получили результаты, которые описаны в файлах `/datasets/orders.csv` и `/datasets/visitors.csv`."
   ]
  },
  {
   "cell_type": "code",
   "execution_count": 10,
   "metadata": {},
   "outputs": [
    {
     "data": {
      "text/html": [
       "<div>\n",
       "<style scoped>\n",
       "    .dataframe tbody tr th:only-of-type {\n",
       "        vertical-align: middle;\n",
       "    }\n",
       "\n",
       "    .dataframe tbody tr th {\n",
       "        vertical-align: top;\n",
       "    }\n",
       "\n",
       "    .dataframe thead th {\n",
       "        text-align: right;\n",
       "    }\n",
       "</style>\n",
       "<table border=\"1\" class=\"dataframe\">\n",
       "  <thead>\n",
       "    <tr style=\"text-align: right;\">\n",
       "      <th></th>\n",
       "      <th>transactionId</th>\n",
       "      <th>visitorId</th>\n",
       "      <th>date</th>\n",
       "      <th>revenue</th>\n",
       "      <th>group</th>\n",
       "    </tr>\n",
       "  </thead>\n",
       "  <tbody>\n",
       "    <tr>\n",
       "      <th>0</th>\n",
       "      <td>3667963787</td>\n",
       "      <td>3312258926</td>\n",
       "      <td>2019-08-15</td>\n",
       "      <td>1650</td>\n",
       "      <td>B</td>\n",
       "    </tr>\n",
       "    <tr>\n",
       "      <th>1</th>\n",
       "      <td>2804400009</td>\n",
       "      <td>3642806036</td>\n",
       "      <td>2019-08-15</td>\n",
       "      <td>730</td>\n",
       "      <td>B</td>\n",
       "    </tr>\n",
       "    <tr>\n",
       "      <th>2</th>\n",
       "      <td>2961555356</td>\n",
       "      <td>4069496402</td>\n",
       "      <td>2019-08-15</td>\n",
       "      <td>400</td>\n",
       "      <td>A</td>\n",
       "    </tr>\n",
       "    <tr>\n",
       "      <th>3</th>\n",
       "      <td>3797467345</td>\n",
       "      <td>1196621759</td>\n",
       "      <td>2019-08-15</td>\n",
       "      <td>9759</td>\n",
       "      <td>B</td>\n",
       "    </tr>\n",
       "    <tr>\n",
       "      <th>4</th>\n",
       "      <td>2282983706</td>\n",
       "      <td>2322279887</td>\n",
       "      <td>2019-08-15</td>\n",
       "      <td>2308</td>\n",
       "      <td>B</td>\n",
       "    </tr>\n",
       "    <tr>\n",
       "      <th>5</th>\n",
       "      <td>182168103</td>\n",
       "      <td>935554773</td>\n",
       "      <td>2019-08-15</td>\n",
       "      <td>2210</td>\n",
       "      <td>B</td>\n",
       "    </tr>\n",
       "    <tr>\n",
       "      <th>6</th>\n",
       "      <td>398296753</td>\n",
       "      <td>2900797465</td>\n",
       "      <td>2019-08-15</td>\n",
       "      <td>1860</td>\n",
       "      <td>B</td>\n",
       "    </tr>\n",
       "    <tr>\n",
       "      <th>7</th>\n",
       "      <td>2626614568</td>\n",
       "      <td>78758296</td>\n",
       "      <td>2019-08-15</td>\n",
       "      <td>1044</td>\n",
       "      <td>A</td>\n",
       "    </tr>\n",
       "    <tr>\n",
       "      <th>8</th>\n",
       "      <td>1576988021</td>\n",
       "      <td>295230930</td>\n",
       "      <td>2019-08-15</td>\n",
       "      <td>13710</td>\n",
       "      <td>A</td>\n",
       "    </tr>\n",
       "    <tr>\n",
       "      <th>9</th>\n",
       "      <td>1506739906</td>\n",
       "      <td>1882260405</td>\n",
       "      <td>2019-08-15</td>\n",
       "      <td>1855</td>\n",
       "      <td>B</td>\n",
       "    </tr>\n",
       "  </tbody>\n",
       "</table>\n",
       "</div>"
      ],
      "text/plain": [
       "   transactionId   visitorId        date  revenue group\n",
       "0     3667963787  3312258926  2019-08-15     1650     B\n",
       "1     2804400009  3642806036  2019-08-15      730     B\n",
       "2     2961555356  4069496402  2019-08-15      400     A\n",
       "3     3797467345  1196621759  2019-08-15     9759     B\n",
       "4     2282983706  2322279887  2019-08-15     2308     B\n",
       "5      182168103   935554773  2019-08-15     2210     B\n",
       "6      398296753  2900797465  2019-08-15     1860     B\n",
       "7     2626614568    78758296  2019-08-15     1044     A\n",
       "8     1576988021   295230930  2019-08-15    13710     A\n",
       "9     1506739906  1882260405  2019-08-15     1855     B"
      ]
     },
     "metadata": {},
     "output_type": "display_data"
    },
    {
     "data": {
      "text/html": [
       "<div>\n",
       "<style scoped>\n",
       "    .dataframe tbody tr th:only-of-type {\n",
       "        vertical-align: middle;\n",
       "    }\n",
       "\n",
       "    .dataframe tbody tr th {\n",
       "        vertical-align: top;\n",
       "    }\n",
       "\n",
       "    .dataframe thead th {\n",
       "        text-align: right;\n",
       "    }\n",
       "</style>\n",
       "<table border=\"1\" class=\"dataframe\">\n",
       "  <thead>\n",
       "    <tr style=\"text-align: right;\">\n",
       "      <th></th>\n",
       "      <th>date</th>\n",
       "      <th>group</th>\n",
       "      <th>visitors</th>\n",
       "    </tr>\n",
       "  </thead>\n",
       "  <tbody>\n",
       "    <tr>\n",
       "      <th>0</th>\n",
       "      <td>2019-08-01</td>\n",
       "      <td>A</td>\n",
       "      <td>719</td>\n",
       "    </tr>\n",
       "    <tr>\n",
       "      <th>1</th>\n",
       "      <td>2019-08-02</td>\n",
       "      <td>A</td>\n",
       "      <td>619</td>\n",
       "    </tr>\n",
       "    <tr>\n",
       "      <th>2</th>\n",
       "      <td>2019-08-03</td>\n",
       "      <td>A</td>\n",
       "      <td>507</td>\n",
       "    </tr>\n",
       "    <tr>\n",
       "      <th>3</th>\n",
       "      <td>2019-08-04</td>\n",
       "      <td>A</td>\n",
       "      <td>717</td>\n",
       "    </tr>\n",
       "    <tr>\n",
       "      <th>4</th>\n",
       "      <td>2019-08-05</td>\n",
       "      <td>A</td>\n",
       "      <td>756</td>\n",
       "    </tr>\n",
       "    <tr>\n",
       "      <th>5</th>\n",
       "      <td>2019-08-06</td>\n",
       "      <td>A</td>\n",
       "      <td>667</td>\n",
       "    </tr>\n",
       "    <tr>\n",
       "      <th>6</th>\n",
       "      <td>2019-08-07</td>\n",
       "      <td>A</td>\n",
       "      <td>644</td>\n",
       "    </tr>\n",
       "    <tr>\n",
       "      <th>7</th>\n",
       "      <td>2019-08-08</td>\n",
       "      <td>A</td>\n",
       "      <td>610</td>\n",
       "    </tr>\n",
       "    <tr>\n",
       "      <th>8</th>\n",
       "      <td>2019-08-09</td>\n",
       "      <td>A</td>\n",
       "      <td>617</td>\n",
       "    </tr>\n",
       "    <tr>\n",
       "      <th>9</th>\n",
       "      <td>2019-08-10</td>\n",
       "      <td>A</td>\n",
       "      <td>406</td>\n",
       "    </tr>\n",
       "  </tbody>\n",
       "</table>\n",
       "</div>"
      ],
      "text/plain": [
       "         date group  visitors\n",
       "0  2019-08-01     A       719\n",
       "1  2019-08-02     A       619\n",
       "2  2019-08-03     A       507\n",
       "3  2019-08-04     A       717\n",
       "4  2019-08-05     A       756\n",
       "5  2019-08-06     A       667\n",
       "6  2019-08-07     A       644\n",
       "7  2019-08-08     A       610\n",
       "8  2019-08-09     A       617\n",
       "9  2019-08-10     A       406"
      ]
     },
     "metadata": {},
     "output_type": "display_data"
    }
   ],
   "source": [
    "orders = pd.read_csv('/datasets/orders.csv')\n",
    "visitors = pd.read_csv('/datasets/visitors.csv')\n",
    "display(orders.head(10), visitors.head(10))"
   ]
  },
  {
   "cell_type": "code",
   "execution_count": 70,
   "metadata": {},
   "outputs": [
    {
     "name": "stdout",
     "output_type": "stream",
     "text": [
      "Количество дубликатов в таблице orders: 0\n",
      "Количество дубликатов в таблице visitors: 0\n"
     ]
    }
   ],
   "source": [
    "print('Количество дубликатов в таблице orders:', orders.duplicated().sum())\n",
    "print('Количество дубликатов в таблице visitors:', visitors.duplicated().sum())"
   ]
  },
  {
   "cell_type": "markdown",
   "metadata": {},
   "source": [
    "Проанализируем A/B-тест:\n",
    "\n",
    "**1) Построим график кумулятивной выручки по группам**"
   ]
  },
  {
   "cell_type": "markdown",
   "metadata": {},
   "source": [
    "Чтобы построить графики, нужно собрать кумулятивные данные. Объявим датафрейм `cumulativeData` со столбцами:\n",
    "* `date` — дата;\n",
    "* `group` — группа A/B-теста (A или B);\n",
    "* `orders` — кумулятивное количество заказов на указанную дату в указанной группе;\n",
    "* `buyers` — кумулятивное количество пользователей, совершивших хотя бы один заказ, на указанную дату в указанной группе;\n",
    "* `revenue` — кумулятивная выручка на указанную дату в указанной группе (средний чек);\n",
    "* `visitors` — кумулятивное количество посетителей интернет-магазина на указанную дату в определённой группе.\n",
    "\n",
    "Создадим массив уникальных пар значений дат и групп теста методом `drop_duplicates():`"
   ]
  },
  {
   "cell_type": "code",
   "execution_count": 71,
   "metadata": {},
   "outputs": [],
   "source": [
    "datesGroups = orders[['date','group']].drop_duplicates() "
   ]
  },
  {
   "cell_type": "markdown",
   "metadata": {},
   "source": [
    "Соберём агрегированные кумулятивные по дням данные о заказах:"
   ]
  },
  {
   "cell_type": "code",
   "execution_count": 93,
   "metadata": {},
   "outputs": [
    {
     "data": {
      "text/html": [
       "<div>\n",
       "<style scoped>\n",
       "    .dataframe tbody tr th:only-of-type {\n",
       "        vertical-align: middle;\n",
       "    }\n",
       "\n",
       "    .dataframe tbody tr th {\n",
       "        vertical-align: top;\n",
       "    }\n",
       "\n",
       "    .dataframe thead th {\n",
       "        text-align: right;\n",
       "    }\n",
       "</style>\n",
       "<table border=\"1\" class=\"dataframe\">\n",
       "  <thead>\n",
       "    <tr style=\"text-align: right;\">\n",
       "      <th></th>\n",
       "      <th>date</th>\n",
       "      <th>group</th>\n",
       "      <th>orders</th>\n",
       "      <th>buyers</th>\n",
       "      <th>revenue</th>\n",
       "      <th>visitors</th>\n",
       "    </tr>\n",
       "  </thead>\n",
       "  <tbody>\n",
       "    <tr>\n",
       "      <th>0</th>\n",
       "      <td>2019-08-01</td>\n",
       "      <td>A</td>\n",
       "      <td>24</td>\n",
       "      <td>20</td>\n",
       "      <td>148579</td>\n",
       "      <td>719</td>\n",
       "    </tr>\n",
       "    <tr>\n",
       "      <th>1</th>\n",
       "      <td>2019-08-01</td>\n",
       "      <td>B</td>\n",
       "      <td>21</td>\n",
       "      <td>20</td>\n",
       "      <td>101217</td>\n",
       "      <td>713</td>\n",
       "    </tr>\n",
       "    <tr>\n",
       "      <th>2</th>\n",
       "      <td>2019-08-02</td>\n",
       "      <td>A</td>\n",
       "      <td>44</td>\n",
       "      <td>38</td>\n",
       "      <td>242401</td>\n",
       "      <td>1338</td>\n",
       "    </tr>\n",
       "    <tr>\n",
       "      <th>3</th>\n",
       "      <td>2019-08-02</td>\n",
       "      <td>B</td>\n",
       "      <td>45</td>\n",
       "      <td>43</td>\n",
       "      <td>266748</td>\n",
       "      <td>1294</td>\n",
       "    </tr>\n",
       "    <tr>\n",
       "      <th>4</th>\n",
       "      <td>2019-08-03</td>\n",
       "      <td>A</td>\n",
       "      <td>68</td>\n",
       "      <td>62</td>\n",
       "      <td>354874</td>\n",
       "      <td>1845</td>\n",
       "    </tr>\n",
       "  </tbody>\n",
       "</table>\n",
       "</div>"
      ],
      "text/plain": [
       "         date group  orders  buyers  revenue  visitors\n",
       "0  2019-08-01     A      24      20   148579       719\n",
       "1  2019-08-01     B      21      20   101217       713\n",
       "2  2019-08-02     A      44      38   242401      1338\n",
       "3  2019-08-02     B      45      43   266748      1294\n",
       "4  2019-08-03     A      68      62   354874      1845"
      ]
     },
     "execution_count": 93,
     "metadata": {},
     "output_type": "execute_result"
    }
   ],
   "source": [
    "# агрегируем значения, вычисляем максимальную дату; \n",
    "# для группы рассчитаем максимум, найдём число уникальных ID заказов и пользователей\n",
    "# подсчитаем сумму средних чеков\n",
    "ordersAggregated = (datesGroups\n",
    "                    .apply(lambda x: orders[np.logical_and(orders['date'] <= x['date'], orders['group'] == x['group'])]\\\n",
    ".agg({'date' : 'max', \n",
    "      'group' : 'max', \n",
    "      'transactionId' : 'nunique', \n",
    "      'visitorId' : 'nunique', \n",
    "      'revenue' : 'sum'}), axis=1)\n",
    "                    .sort_values(by=['date','group']))\n",
    "\n",
    "# получаем агрегированные кумулятивные по дням данные о посетителях интернет-магазина\n",
    "visitorsAggregated = (datesGroups\n",
    "                      .apply(lambda x: visitors[np.logical_and(visitors['date'] <= x['date'], visitors['group'] == x['group'])]\n",
    "                             .agg({'date' : 'max', 'group' : 'max', 'visitors' : 'sum'}), axis=1)\n",
    "                      .sort_values(by=['date','group']))\n",
    "\n",
    "# создаем массив уникальных пар значений дат и групп теста\n",
    "datesGroups = orders[['date','group']].drop_duplicates()\n",
    "\n",
    "# получаем агрегированные кумулятивные по дням данные о заказах \n",
    "ordersAggregated = datesGroups.apply(lambda x: orders[np.logical_and(orders['date'] <= x['date'], orders['group'] == x['group'])].agg({'date' : 'max', 'group' : 'max', 'transactionId' : 'nunique', 'visitorId' : 'nunique', 'revenue' : 'sum'}), axis=1).sort_values(by=['date','group'])\n",
    "\n",
    "# получаем агрегированные кумулятивные по дням данные о посетителях интернет-магазина \n",
    "visitorsAggregated = datesGroups.apply(lambda x: visitors[np.logical_and(visitors['date'] <= x['date'], visitors['group'] == x['group'])].agg({'date' : 'max', 'group' : 'max', 'visitors' : 'sum'}), axis=1).sort_values(by=['date','group'])\n",
    "\n",
    "# объединяем кумулятивные данные в одной таблице и присваиваем ее столбцам понятные названия\n",
    "cumulativeData = ordersAggregated.merge(visitorsAggregated, left_on=['date', 'group'], right_on=['date', 'group'])\n",
    "cumulativeData.columns = ['date', 'group', 'orders', 'buyers', 'revenue', 'visitors']\n",
    "\n",
    "cumulativeData.head(5)"
   ]
  },
  {
   "cell_type": "markdown",
   "metadata": {},
   "source": [
    "Построим графики кумулятивной выручки по дням и группам A/B-тестирования:"
   ]
  },
  {
   "cell_type": "code",
   "execution_count": 94,
   "metadata": {},
   "outputs": [
    {
     "data": {
      "text/plain": [
       "Text(0, 0.5, 'Кумулятивная выручка')"
      ]
     },
     "execution_count": 94,
     "metadata": {},
     "output_type": "execute_result"
    },
    {
     "data": {
      "image/png": "[encoded data removed]",
      "text/plain": [
       "<Figure size 1440x576 with 1 Axes>"
      ]
     },
     "metadata": {
      "needs_background": "light"
     },
     "output_type": "display_data"
    }
   ],
   "source": [
    "# датафрейм с кумулятивным количеством заказов и кумулятивной выручкой по дням в группе А\n",
    "cumulativeRevenueA = cumulativeData[cumulativeData['group']=='A'][['date','revenue', 'orders']]\n",
    "\n",
    "# датафрейм с кумулятивным количеством заказов и кумулятивной выручкой по дням в группе B\n",
    "cumulativeRevenueB = cumulativeData[cumulativeData['group']=='B'][['date','revenue', 'orders']]\n",
    "\n",
    "plt.figure(figsize=(20, 8))\n",
    "plt.xticks(rotation = 45)\n",
    "# Строим график выручки группы А\n",
    "plt.plot(cumulativeRevenueA['date'], cumulativeRevenueA['revenue'], label='A')\n",
    "\n",
    "# Строим график выручки группы B\n",
    "plt.plot(cumulativeRevenueB['date'], cumulativeRevenueB['revenue'], label='B')\n",
    "\n",
    "plt.legend() \n",
    "\n",
    "plt.xlabel('Дата')\n",
    "plt.ylabel('Кумулятивная выручка')"
   ]
  },
  {
   "cell_type": "markdown",
   "metadata": {},
   "source": [
    "***Вывод:***\n",
    "\n",
    "Выручка почти равномерно увеличивается в течение всего теста. Хороший знак.\n",
    "\n",
    "Однако на графике выручки группы **В** можно наблюдать резкое изменение в нескольких точках. Это может сигнализировать о всплесках числа заказов, либо о появлении очень дорогих заказов в выборке.\n",
    "\n",
    "**2) Построим график кумулятивного среднего чека по группам**"
   ]
  },
  {
   "cell_type": "code",
   "execution_count": 95,
   "metadata": {},
   "outputs": [
    {
     "data": {
      "text/plain": [
       "Text(0, 0.5, 'Кумулятивный средний чек')"
      ]
     },
     "execution_count": 95,
     "metadata": {},
     "output_type": "execute_result"
    },
    {
     "data": {
      "image/png": "[encoded data removed]",
      "text/plain": [
       "<Figure size 1440x576 with 1 Axes>"
      ]
     },
     "metadata": {
      "needs_background": "light"
     },
     "output_type": "display_data"
    }
   ],
   "source": [
    "plt.figure(figsize=(20, 8))\n",
    "plt.xticks(rotation = 45)\n",
    "# разделим кумулятивную выручку на кумулятивное число заказов\n",
    "plt.plot(cumulativeRevenueA['date'], cumulativeRevenueA['revenue']/cumulativeRevenueA['orders'], label='A')\n",
    "plt.plot(cumulativeRevenueB['date'], cumulativeRevenueB['revenue']/cumulativeRevenueB['orders'], label='B')\n",
    "plt.legend()\n",
    "\n",
    "plt.xlabel('Дата')\n",
    "plt.ylabel('Кумулятивный средний чек')"
   ]
  },
  {
   "cell_type": "markdown",
   "metadata": {},
   "source": [
    "***Вывод:***\n",
    "\n",
    "Средний чек становится равномерным ближе к концу теста, но продолжает падать для обеих групп. \n",
    "\n",
    "Возможно, в группу B попали крупные заказы (резкий всплеск на графике). Тогда ей нужно больше данных, чтобы прийти к реальному среднему чеку и установиться на его уровне.\n",
    "\n",
    "**3) Построим график относительного изменения кумулятивного среднего чека группы B к группе A**"
   ]
  },
  {
   "cell_type": "code",
   "execution_count": 96,
   "metadata": {},
   "outputs": [
    {
     "data": {
      "text/plain": [
       "<matplotlib.lines.Line2D at 0x7fd73d4d4af0>"
      ]
     },
     "execution_count": 96,
     "metadata": {},
     "output_type": "execute_result"
    },
    {
     "data": {
      "image/png": "[encoded data removed]",
      "text/plain": [
       "<Figure size 1440x576 with 1 Axes>"
      ]
     },
     "metadata": {
      "needs_background": "light"
     },
     "output_type": "display_data"
    }
   ],
   "source": [
    "# собираем данные в одном датафрейме\n",
    "mergedCumulativeRevenue = cumulativeRevenueA.merge(cumulativeRevenueB, left_on='date', right_on='date', how='left', suffixes=['A', 'B'])\n",
    "\n",
    "plt.figure(figsize=(20, 8))\n",
    "plt.xticks(rotation = 45)\n",
    "\n",
    "# cтроим отношение средних чеков\n",
    "plt.plot(mergedCumulativeRevenue['date'], (mergedCumulativeRevenue['revenueB']/mergedCumulativeRevenue['ordersB'])/(mergedCumulativeRevenue['revenueA']/mergedCumulativeRevenue['ordersA'])-1)\n",
    "\n",
    "plt.xlabel('Дата')\n",
    "plt.ylabel('Кумулятивный средний чек')\n",
    "\n",
    "# добавляем ось X\n",
    "plt.axhline(y=0, color='black', linestyle='--')"
   ]
  },
  {
   "cell_type": "markdown",
   "metadata": {},
   "source": [
    "***Вывод:***\n",
    "\n",
    "В нескольких точках график различия между сегментами резко «скачет». Похоже, дело действительно в крупных заказах.\n",
    "\n",
    "**4) Построим график кумулятивной конверсии по группам**"
   ]
  },
  {
   "cell_type": "code",
   "execution_count": 97,
   "metadata": {},
   "outputs": [
    {
     "data": {
      "text/plain": [
       "(0.0, 30.0, 0.028, 0.037)"
      ]
     },
     "execution_count": 97,
     "metadata": {},
     "output_type": "execute_result"
    },
    {
     "data": {
      "image/png": "[encoded data removed]",
      "text/plain": [
       "<Figure size 1440x576 with 1 Axes>"
      ]
     },
     "metadata": {
      "needs_background": "light"
     },
     "output_type": "display_data"
    }
   ],
   "source": [
    "# считаем кумулятивную конверсию\n",
    "cumulativeData['conversion'] = cumulativeData['orders']/cumulativeData['visitors']\n",
    "\n",
    "# отделяем данные по группе A\n",
    "cumulativeDataA = cumulativeData[cumulativeData['group']=='A']\n",
    "\n",
    "# отделяем данные по группе B\n",
    "cumulativeDataB = cumulativeData[cumulativeData['group']=='B']\n",
    "\n",
    "# строим графики\n",
    "plt.figure(figsize=(20, 8))\n",
    "plt.xticks(rotation = 45)\n",
    "plt.plot(cumulativeDataA['date'], cumulativeDataA['conversion'], label='A')\n",
    "plt.plot(cumulativeDataB['date'], cumulativeDataB['conversion'], label='B')\n",
    "plt.legend()\n",
    "\n",
    "plt.xlabel('Дата')\n",
    "plt.ylabel('Кумулятивная конверсия')\n",
    "\n",
    "# задаем масштаб осей\n",
    "plt.axis([\"2019-08-01\", '2019-08-31', 0.028, 0.037])"
   ]
  },
  {
   "cell_type": "markdown",
   "metadata": {},
   "source": [
    "***Вывод:***\n",
    "\n",
    "Группа **В** сильно вырвалась вперед, однако к концу эксперимента конверсия обеих групп снижается.\n",
    "\n",
    "**5) Построим график относительного изменения кумулятивной конверсии группы B к группе A**"
   ]
  },
  {
   "cell_type": "code",
   "execution_count": 98,
   "metadata": {},
   "outputs": [
    {
     "data": {
      "text/plain": [
       "Text(0, 0.5, 'Кумулятивная конверсия')"
      ]
     },
     "execution_count": 98,
     "metadata": {},
     "output_type": "execute_result"
    },
    {
     "data": {
      "image/png": "[encoded data removed]",
      "text/plain": [
       "<Figure size 1440x576 with 1 Axes>"
      ]
     },
     "metadata": {
      "needs_background": "light"
     },
     "output_type": "display_data"
    }
   ],
   "source": [
    "mergedCumulativeConversions = cumulativeDataA[['date','conversion']].merge(cumulativeDataB[['date','conversion']], left_on='date', right_on='date', how='left', suffixes=['A', 'B'])\n",
    "\n",
    "plt.figure(figsize=(20, 8))\n",
    "plt.xticks(rotation = 45)\n",
    "plt.plot(mergedCumulativeConversions['date'], mergedCumulativeConversions['conversionB']/mergedCumulativeConversions['conversionA']-1, label=\"Относительный прирост конверсии группы B относительно группы A\")\n",
    "plt.legend()\n",
    "\n",
    "plt.axhline(y=0, color='black', linestyle='--')\n",
    "plt.axhline(y=-0.1, color='grey', linestyle='--')\n",
    "plt.axis([\"2019-08-01\", '2019-08-31', -0.15, 0.25])\n",
    "plt.xlabel('Дата')\n",
    "plt.ylabel('Кумулятивная конверсия')"
   ]
  },
  {
   "cell_type": "markdown",
   "metadata": {},
   "source": [
    "***Вывод:***\n",
    "\n",
    "В начале теста группа B проигрывала группе A, но в конечном итоге сильно вырвалась вперед.\n",
    "\n",
    "**6) Построим точечный график количества заказов по пользователям**"
   ]
  },
  {
   "cell_type": "code",
   "execution_count": 101,
   "metadata": {},
   "outputs": [
    {
     "data": {
      "text/html": [
       "<div>\n",
       "<style scoped>\n",
       "    .dataframe tbody tr th:only-of-type {\n",
       "        vertical-align: middle;\n",
       "    }\n",
       "\n",
       "    .dataframe tbody tr th {\n",
       "        vertical-align: top;\n",
       "    }\n",
       "\n",
       "    .dataframe thead th {\n",
       "        text-align: right;\n",
       "    }\n",
       "</style>\n",
       "<table border=\"1\" class=\"dataframe\">\n",
       "  <thead>\n",
       "    <tr style=\"text-align: right;\">\n",
       "      <th></th>\n",
       "      <th>userId</th>\n",
       "      <th>orders</th>\n",
       "    </tr>\n",
       "  </thead>\n",
       "  <tbody>\n",
       "    <tr>\n",
       "      <th>1023</th>\n",
       "      <td>4256040402</td>\n",
       "      <td>11</td>\n",
       "    </tr>\n",
       "    <tr>\n",
       "      <th>591</th>\n",
       "      <td>2458001652</td>\n",
       "      <td>11</td>\n",
       "    </tr>\n",
       "    <tr>\n",
       "      <th>569</th>\n",
       "      <td>2378935119</td>\n",
       "      <td>9</td>\n",
       "    </tr>\n",
       "    <tr>\n",
       "      <th>487</th>\n",
       "      <td>2038680547</td>\n",
       "      <td>8</td>\n",
       "    </tr>\n",
       "    <tr>\n",
       "      <th>44</th>\n",
       "      <td>199603092</td>\n",
       "      <td>5</td>\n",
       "    </tr>\n",
       "    <tr>\n",
       "      <th>744</th>\n",
       "      <td>3062433592</td>\n",
       "      <td>5</td>\n",
       "    </tr>\n",
       "    <tr>\n",
       "      <th>55</th>\n",
       "      <td>237748145</td>\n",
       "      <td>5</td>\n",
       "    </tr>\n",
       "    <tr>\n",
       "      <th>917</th>\n",
       "      <td>3803269165</td>\n",
       "      <td>5</td>\n",
       "    </tr>\n",
       "    <tr>\n",
       "      <th>299</th>\n",
       "      <td>1230306981</td>\n",
       "      <td>5</td>\n",
       "    </tr>\n",
       "    <tr>\n",
       "      <th>897</th>\n",
       "      <td>3717692402</td>\n",
       "      <td>5</td>\n",
       "    </tr>\n",
       "  </tbody>\n",
       "</table>\n",
       "</div>"
      ],
      "text/plain": [
       "          userId  orders\n",
       "1023  4256040402      11\n",
       "591   2458001652      11\n",
       "569   2378935119       9\n",
       "487   2038680547       8\n",
       "44     199603092       5\n",
       "744   3062433592       5\n",
       "55     237748145       5\n",
       "917   3803269165       5\n",
       "299   1230306981       5\n",
       "897   3717692402       5"
      ]
     },
     "metadata": {},
     "output_type": "display_data"
    },
    {
     "data": {
      "text/plain": [
       "Text(0, 0.5, 'Количество заказов')"
      ]
     },
     "execution_count": 101,
     "metadata": {},
     "output_type": "execute_result"
    },
    {
     "data": {
      "image/png": "[encoded data removed]",
      "text/plain": [
       "<Figure size 1080x576 with 1 Axes>"
      ]
     },
     "metadata": {
      "needs_background": "light"
     },
     "output_type": "display_data"
    }
   ],
   "source": [
    "#  считаем количество заказов по пользователям\n",
    "ordersByUsers = (\n",
    "    orders.groupby('visitorId', as_index=False)\n",
    "    .agg({'transactionId': 'nunique'})\n",
    ")\n",
    "\n",
    "ordersByUsers.columns = ['userId', 'orders']\n",
    "\n",
    "display(ordersByUsers.sort_values(by='orders', ascending=False).head(10))\n",
    "\n",
    "# строим график\n",
    "x_values = pd.Series(range(0,len(ordersByUsers)))\n",
    "plt.figure(figsize=(15, 8))\n",
    "plt.scatter(x_values, ordersByUsers['orders'])\n",
    "\n",
    "plt.xlabel('Количество пользователей')\n",
    "plt.ylabel('Количество заказов')"
   ]
  },
  {
   "cell_type": "markdown",
   "metadata": {},
   "source": [
    "***Вывод:***\n",
    "\n",
    "Большинство покупателей заказывали только один раз. Однако пользователей с 2-3 заказами тоже достаточно много.\n",
    "\n",
    "**7) Посчитаем 95-й и 99-й перцентили количества заказов на пользователя. Выберем границу для определения аномальных пользователей.**"
   ]
  },
  {
   "cell_type": "code",
   "execution_count": 102,
   "metadata": {},
   "outputs": [
    {
     "name": "stdout",
     "output_type": "stream",
     "text": [
      "[2. 4.]\n"
     ]
    }
   ],
   "source": [
    "print(np.percentile(ordersByUsers['orders'], [95, 99]))"
   ]
  },
  {
   "cell_type": "markdown",
   "metadata": {},
   "source": [
    "***Вывод:***\n",
    "\n",
    "Не более 5% пользователей оформляли больше чем 2 заказа. И 1% более 4-х. Выберем 4 заказа на одного пользователя за нижнюю границу числа заказов, и отсеем аномальных пользователей по ней. \n",
    "\n",
    "**8) Построим точечный график стоимостей заказов**"
   ]
  },
  {
   "cell_type": "code",
   "execution_count": 105,
   "metadata": {
    "scrolled": false
   },
   "outputs": [
    {
     "data": {
      "text/plain": [
       "Text(0, 0.5, 'Стоимость заказов')"
      ]
     },
     "execution_count": 105,
     "metadata": {},
     "output_type": "execute_result"
    },
    {
     "data": {
      "image/png": "[encoded data removed]",
      "text/plain": [
       "<Figure size 1440x576 with 1 Axes>"
      ]
     },
     "metadata": {
      "needs_background": "light"
     },
     "output_type": "display_data"
    }
   ],
   "source": [
    "x_values = pd.Series(range(0,len(orders['revenue'])))\n",
    "plt.figure(figsize=(20, 8))\n",
    "plt.scatter(x_values, orders['revenue'])\n",
    "\n",
    "plt.xlabel('Количество пользователей')\n",
    "plt.ylabel('Стоимость заказов')"
   ]
  },
  {
   "cell_type": "markdown",
   "metadata": {},
   "source": [
    "***Вывод:***\n",
    "\n",
    "Дорогих заказов немного.\n",
    "\n",
    "**9) Посчитаим 95-й и 99-й перцентили стоимости заказов**"
   ]
  },
  {
   "cell_type": "code",
   "execution_count": 106,
   "metadata": {},
   "outputs": [
    {
     "name": "stdout",
     "output_type": "stream",
     "text": [
      "[28000.  58233.2]\n"
     ]
    }
   ],
   "source": [
    "print(np.percentile(orders['revenue'], [95, 99]))"
   ]
  },
  {
   "cell_type": "markdown",
   "metadata": {},
   "source": [
    "***Вывод:***\n",
    "\n",
    "Не более 5% заказов дороже 28 000. И не более 1% дороже 58 234. Выберем за нижнюю границу сумму заказа в 58233, и отсеем аномальные заказы по ней.\n",
    "\n",
    "**10) Посчитаем статистическую значимость различий в конверсии между группами по «сырым» данным**\n",
    "\n",
    "Сформулируем гипотезы:\n",
    "\n",
    "Н0: Статистически значимых различий в конверсии между группами нет.\n",
    "\n",
    "Н1: Статистически значимые различия в конверсии между группами есть.\n",
    "\n",
    "Начнем с подготовки данных:"
   ]
  },
  {
   "cell_type": "code",
   "execution_count": 114,
   "metadata": {
    "scrolled": true
   },
   "outputs": [
    {
     "data": {
      "text/html": [
       "<div>\n",
       "<style scoped>\n",
       "    .dataframe tbody tr th:only-of-type {\n",
       "        vertical-align: middle;\n",
       "    }\n",
       "\n",
       "    .dataframe tbody tr th {\n",
       "        vertical-align: top;\n",
       "    }\n",
       "\n",
       "    .dataframe thead th {\n",
       "        text-align: right;\n",
       "    }\n",
       "</style>\n",
       "<table border=\"1\" class=\"dataframe\">\n",
       "  <thead>\n",
       "    <tr style=\"text-align: right;\">\n",
       "      <th></th>\n",
       "      <th>date</th>\n",
       "      <th>ordersPerDateA</th>\n",
       "      <th>revenuePerDateA</th>\n",
       "      <th>ordersPerDateB</th>\n",
       "      <th>revenuePerDateB</th>\n",
       "      <th>ordersCummulativeA</th>\n",
       "      <th>revenueCummulativeA</th>\n",
       "      <th>ordersCummulativeB</th>\n",
       "      <th>revenueCummulativeB</th>\n",
       "      <th>visitorsPerDateA</th>\n",
       "      <th>visitorsPerDateB</th>\n",
       "      <th>visitorsCummulativeA</th>\n",
       "      <th>visitorsCummulativeB</th>\n",
       "    </tr>\n",
       "  </thead>\n",
       "  <tbody>\n",
       "    <tr>\n",
       "      <th>0</th>\n",
       "      <td>2019-08-01</td>\n",
       "      <td>24</td>\n",
       "      <td>148579</td>\n",
       "      <td>21</td>\n",
       "      <td>101217</td>\n",
       "      <td>24</td>\n",
       "      <td>148579</td>\n",
       "      <td>21</td>\n",
       "      <td>101217</td>\n",
       "      <td>719</td>\n",
       "      <td>713</td>\n",
       "      <td>719</td>\n",
       "      <td>713</td>\n",
       "    </tr>\n",
       "    <tr>\n",
       "      <th>1</th>\n",
       "      <td>2019-08-02</td>\n",
       "      <td>20</td>\n",
       "      <td>93822</td>\n",
       "      <td>24</td>\n",
       "      <td>165531</td>\n",
       "      <td>44</td>\n",
       "      <td>242401</td>\n",
       "      <td>45</td>\n",
       "      <td>266748</td>\n",
       "      <td>619</td>\n",
       "      <td>581</td>\n",
       "      <td>1338</td>\n",
       "      <td>1294</td>\n",
       "    </tr>\n",
       "    <tr>\n",
       "      <th>2</th>\n",
       "      <td>2019-08-03</td>\n",
       "      <td>24</td>\n",
       "      <td>112473</td>\n",
       "      <td>16</td>\n",
       "      <td>114248</td>\n",
       "      <td>68</td>\n",
       "      <td>354874</td>\n",
       "      <td>61</td>\n",
       "      <td>380996</td>\n",
       "      <td>507</td>\n",
       "      <td>509</td>\n",
       "      <td>1845</td>\n",
       "      <td>1803</td>\n",
       "    </tr>\n",
       "    <tr>\n",
       "      <th>3</th>\n",
       "      <td>2019-08-04</td>\n",
       "      <td>16</td>\n",
       "      <td>70825</td>\n",
       "      <td>17</td>\n",
       "      <td>108571</td>\n",
       "      <td>84</td>\n",
       "      <td>425699</td>\n",
       "      <td>78</td>\n",
       "      <td>489567</td>\n",
       "      <td>717</td>\n",
       "      <td>770</td>\n",
       "      <td>2562</td>\n",
       "      <td>2573</td>\n",
       "    </tr>\n",
       "    <tr>\n",
       "      <th>4</th>\n",
       "      <td>2019-08-05</td>\n",
       "      <td>25</td>\n",
       "      <td>124218</td>\n",
       "      <td>23</td>\n",
       "      <td>92428</td>\n",
       "      <td>109</td>\n",
       "      <td>549917</td>\n",
       "      <td>101</td>\n",
       "      <td>581995</td>\n",
       "      <td>756</td>\n",
       "      <td>707</td>\n",
       "      <td>3318</td>\n",
       "      <td>3280</td>\n",
       "    </tr>\n",
       "  </tbody>\n",
       "</table>\n",
       "</div>"
      ],
      "text/plain": [
       "         date  ordersPerDateA  revenuePerDateA  ordersPerDateB  \\\n",
       "0  2019-08-01              24           148579              21   \n",
       "1  2019-08-02              20            93822              24   \n",
       "2  2019-08-03              24           112473              16   \n",
       "3  2019-08-04              16            70825              17   \n",
       "4  2019-08-05              25           124218              23   \n",
       "\n",
       "   revenuePerDateB  ordersCummulativeA  revenueCummulativeA  \\\n",
       "0           101217                  24               148579   \n",
       "1           165531                  44               242401   \n",
       "2           114248                  68               354874   \n",
       "3           108571                  84               425699   \n",
       "4            92428                 109               549917   \n",
       "\n",
       "   ordersCummulativeB  revenueCummulativeB  visitorsPerDateA  \\\n",
       "0                  21               101217               719   \n",
       "1                  45               266748               619   \n",
       "2                  61               380996               507   \n",
       "3                  78               489567               717   \n",
       "4                 101               581995               756   \n",
       "\n",
       "   visitorsPerDateB  visitorsCummulativeA  visitorsCummulativeB  \n",
       "0               713                   719                   713  \n",
       "1               581                  1338                  1294  \n",
       "2               509                  1845                  1803  \n",
       "3               770                  2562                  2573  \n",
       "4               707                  3318                  3280  "
      ]
     },
     "execution_count": 114,
     "metadata": {},
     "output_type": "execute_result"
    }
   ],
   "source": [
    "visitorsADaily = visitors[visitors['group'] == 'A'][['date', 'visitors']]\n",
    "visitorsADaily.columns = ['date', 'visitorsPerDateA']\n",
    "\n",
    "visitorsACummulative = visitorsADaily.apply(\n",
    "    lambda x: visitorsADaily[visitorsADaily['date'] <= x['date']].agg(\n",
    "        {'date': 'max', 'visitorsPerDateA': 'sum'}\n",
    "    ),\n",
    "    axis=1,\n",
    ")\n",
    "visitorsACummulative.columns = ['date', 'visitorsCummulativeA']\n",
    "\n",
    "visitorsBDaily = visitors[visitors['group'] == 'B'][['date', 'visitors']]\n",
    "visitorsBDaily.columns = ['date', 'visitorsPerDateB']\n",
    "\n",
    "visitorsBCummulative = visitorsBDaily.apply(\n",
    "    lambda x: visitorsBDaily[visitorsBDaily['date'] <= x['date']].agg(\n",
    "        {'date': 'max', 'visitorsPerDateB': 'sum'}\n",
    "    ),\n",
    "    axis=1,\n",
    ")\n",
    "visitorsBCummulative.columns = ['date', 'visitorsCummulativeB']\n",
    "\n",
    "ordersADaily = (\n",
    "    orders[orders['group'] == 'A'][['date', 'transactionId', 'visitorId', 'revenue']]\n",
    "    .groupby('date', as_index=False)\n",
    "    .agg({'transactionId': pd.Series.nunique, 'revenue': 'sum'})\n",
    ")\n",
    "ordersADaily.columns = ['date', 'ordersPerDateA', 'revenuePerDateA']\n",
    "\n",
    "ordersACummulative = ordersADaily.apply(\n",
    "    lambda x: ordersADaily[ordersADaily['date'] <= x['date']].agg(\n",
    "        {'date': 'max', 'ordersPerDateA': 'sum', 'revenuePerDateA': 'sum'}\n",
    "    ),\n",
    "    axis=1,\n",
    ").sort_values(by=['date'])\n",
    "ordersACummulative.columns = [\n",
    "    'date',\n",
    "    'ordersCummulativeA',\n",
    "    'revenueCummulativeA',\n",
    "]\n",
    "\n",
    "ordersBDaily = (\n",
    "    orders[orders['group'] == 'B'][['date', 'transactionId', 'visitorId', 'revenue']]\n",
    "    .groupby('date', as_index=False)\n",
    "    .agg({'transactionId': pd.Series.nunique, 'revenue': 'sum'})\n",
    ")\n",
    "ordersBDaily.columns = ['date', 'ordersPerDateB', 'revenuePerDateB']\n",
    "\n",
    "ordersBCummulative = ordersBDaily.apply(\n",
    "    lambda x: ordersBDaily[ordersBDaily['date'] <= x['date']].agg(\n",
    "        {'date': 'max', 'ordersPerDateB': 'sum', 'revenuePerDateB': 'sum'}\n",
    "    ),\n",
    "    axis=1,\n",
    ").sort_values(by=['date'])\n",
    "ordersBCummulative.columns = [\n",
    "    'date',\n",
    "    'ordersCummulativeB',\n",
    "    'revenueCummulativeB',\n",
    "]\n",
    "\n",
    "data = (\n",
    "    ordersADaily.merge(\n",
    "        ordersBDaily, left_on='date', right_on='date', how='left'\n",
    "    )\n",
    "    .merge(ordersACummulative, left_on='date', right_on='date', how='left')\n",
    "    .merge(ordersBCummulative, left_on='date', right_on='date', how='left')\n",
    "    .merge(visitorsADaily, left_on='date', right_on='date', how='left')\n",
    "    .merge(visitorsBDaily, left_on='date', right_on='date', how='left')\n",
    "    .merge(visitorsACummulative, left_on='date', right_on='date', how='left')\n",
    "    .merge(visitorsBCummulative, left_on='date', right_on='date', how='left')\n",
    ")\n",
    "\n",
    "data.head(5)"
   ]
  },
  {
   "cell_type": "markdown",
   "metadata": {},
   "source": [
    "Создадим переменные `ordersByUsersA` и `ordersByUsersB` со столбцами `userId` и `orders`. В них для пользователей, которые заказывали хотя бы 1 раз, укажем число совершённых заказов."
   ]
  },
  {
   "cell_type": "code",
   "execution_count": 115,
   "metadata": {},
   "outputs": [],
   "source": [
    "ordersByUsersA = (\n",
    "    orders[orders['group'] == 'A']\n",
    "    .groupby('visitorId', as_index=False)\n",
    "    .agg({'transactionId': pd.Series.nunique})\n",
    ")\n",
    "ordersByUsersA.columns = ['userId', 'orders']\n",
    "\n",
    "ordersByUsersB = (\n",
    "    orders[orders['group'] == 'B']\n",
    "    .groupby('visitorId', as_index=False)\n",
    "    .agg({'transactionId': pd.Series.nunique})\n",
    ")\n",
    "ordersByUsersB.columns = ['userId', 'orders']"
   ]
  },
  {
   "cell_type": "markdown",
   "metadata": {},
   "source": [
    "Объявим переменные `sampleA` и `sampleB`, в которых пользователям из разных групп будет соответствовать количество заказов. Тем, кто ничего не заказал, будут соответствовать нули."
   ]
  },
  {
   "cell_type": "code",
   "execution_count": 116,
   "metadata": {},
   "outputs": [],
   "source": [
    "sampleA = pd.concat([ordersByUsersA['orders'],pd.Series(0, index=np.arange(data['visitorsPerDateA'].sum() - len(ordersByUsersA['orders'])), name='orders')],axis=0)\n",
    "\n",
    "sampleB = pd.concat([ordersByUsersB['orders'],pd.Series(0, index=np.arange(data['visitorsPerDateB'].sum() - len(ordersByUsersB['orders'])), name='orders')],axis=0)"
   ]
  },
  {
   "cell_type": "markdown",
   "metadata": {},
   "source": [
    "Выведем относительный прирост конверсии группы B: "
   ]
  },
  {
   "cell_type": "code",
   "execution_count": 117,
   "metadata": {},
   "outputs": [
    {
     "name": "stdout",
     "output_type": "stream",
     "text": [
      "0.017\n",
      "0.138\n"
     ]
    }
   ],
   "source": [
    "ordersByUsersA = (\n",
    "    orders[orders['group'] == 'A']\n",
    "    .groupby('visitorId', as_index=False)\n",
    "    .agg({'transactionId': pd.Series.nunique})\n",
    ")\n",
    "ordersByUsersA.columns = ['userId', 'orders']\n",
    "\n",
    "ordersByUsersB = (\n",
    "    orders[orders['group'] == 'B']\n",
    "    .groupby('visitorId', as_index=False)\n",
    "    .agg({'transactionId': pd.Series.nunique})\n",
    ")\n",
    "ordersByUsersB.columns = ['userId', 'orders']\n",
    "\n",
    "sampleA = pd.concat(\n",
    "    [\n",
    "        ordersByUsersA['orders'],\n",
    "        pd.Series(\n",
    "            0,\n",
    "            index=np.arange(\n",
    "                data['visitorsPerDateA'].sum() - len(ordersByUsersA['orders'])\n",
    "            ),\n",
    "            name='orders',\n",
    "        ),\n",
    "    ],\n",
    "    axis=0,\n",
    ")\n",
    "\n",
    "sampleB = pd.concat(\n",
    "    [\n",
    "        ordersByUsersB['orders'],\n",
    "        pd.Series(\n",
    "            0,\n",
    "            index=np.arange(\n",
    "                data['visitorsPerDateB'].sum() - len(ordersByUsersB['orders'])\n",
    "            ),\n",
    "            name='orders',\n",
    "        ),\n",
    "    ],\n",
    "    axis=0,\n",
    ")\n",
    "\n",
    "print(\"{0:.3f}\".format(stats.mannwhitneyu(sampleA, sampleB)[1]))\n",
    "\n",
    "print(\"{0:.3f}\".format(sampleB.mean() / sampleA.mean() - 1))\n"
   ]
  },
  {
   "cell_type": "markdown",
   "metadata": {},
   "source": [
    "***Вывод:***\n",
    "\n",
    "По «сырым» данным есть различия в конверсии групп A и B.\n",
    " \n",
    "Первое число — `p-value` = 0.017 меньше 0.05. Значит, нулевую гипотезу о том, что статистически значимых различий в конверсии между группами нет, отвергаем. К тому же, относительный выигрыш группы B равен 13.8% — второе число в выводе.\n",
    "\n",
    "**11) Посчитаем статистическую значимость различий в среднем чеке заказа между группами по «сырым» данным**"
   ]
  },
  {
   "cell_type": "markdown",
   "metadata": {},
   "source": [
    "Сформулируем гипотезы:\n",
    "\n",
    "Н0: Статистически значимых различий в среднем чеке между группами нет.\n",
    "\n",
    "Н1: Статистически значимые различия в среднем чеке между группами есть.\n"
   ]
  },
  {
   "cell_type": "code",
   "execution_count": null,
   "metadata": {},
   "outputs": [],
   "source": [
    "print('{0:.3f}'.format(stats.mannwhitneyu(orders[orders['group']=='A']['revenue'], orders[orders['group']=='B']['revenue'])[1]))\n",
    "print('{0:.3f}'.format(orders[orders['group']=='B']['revenue'].mean()/orders[orders['group']=='A']['revenue'].mean()-1))"
   ]
  },
  {
   "cell_type": "markdown",
   "metadata": {},
   "source": [
    "***Вывод:***\n",
    "\n",
    "`P-value` значительно больше 0.05. Значит, отвергать нулевую гипотезу и считать, что в среднем чеке есть различия, не будем. Средний чек группы B выше среднего чека группы A на 25,9%.\n",
    "\n",
    "**12) Посчитаем статистическую значимость различий в конверсии между группами по «очищенным» данным**"
   ]
  },
  {
   "cell_type": "markdown",
   "metadata": {},
   "source": [
    "Сделаем срезы пользователей с числом заказов больше 4 — `usersWithManyOrders` и пользователей, совершивших заказы дороже 20 000 — `usersWithExpensiveOrders`. Объединим их в таблице `abnormalUsers`:"
   ]
  },
  {
   "cell_type": "code",
   "execution_count": 124,
   "metadata": {},
   "outputs": [
    {
     "name": "stdout",
     "output_type": "stream",
     "text": [
      "1099     148427295\n",
      "949      887908475\n",
      "744      888512513\n",
      "1103    1164614297\n",
      "1136    1307669133\n",
      "dtype: int64\n"
     ]
    }
   ],
   "source": [
    "per1 = 4\n",
    "per2 = 58233\n",
    "usersWithManyOrders = pd.concat(\n",
    "    [\n",
    "        ordersByUsersA[ordersByUsersA['orders'] > per1]['userId'],\n",
    "        ordersByUsersB[ordersByUsersB['orders'] > per1]['userId'],\n",
    "    ],\n",
    "    axis=0,\n",
    ")\n",
    "usersWithExpensiveOrders = orders[orders['revenue'] > per2]['visitorId']\n",
    "abnormalUsers = (\n",
    "    pd.concat([usersWithManyOrders, usersWithExpensiveOrders], axis=0)\n",
    "    .drop_duplicates()\n",
    "    .sort_values()\n",
    ")\n",
    "print(abnormalUsers.head(5))"
   ]
  },
  {
   "cell_type": "markdown",
   "metadata": {},
   "source": [
    "Подготовим выборки количества заказов по пользователям по группам теста и применим статистический критерий Манна-Уитни к полученным выборкам:"
   ]
  },
  {
   "cell_type": "code",
   "execution_count": 125,
   "metadata": {},
   "outputs": [
    {
     "name": "stdout",
     "output_type": "stream",
     "text": [
      "0.014\n",
      "0.153\n"
     ]
    }
   ],
   "source": [
    "sampleAFiltered = pd.concat(\n",
    "    [\n",
    "        ordersByUsersA[\n",
    "            np.logical_not(ordersByUsersA['userId'].isin(abnormalUsers))\n",
    "        ]['orders'],\n",
    "        pd.Series(\n",
    "            0,\n",
    "            index=np.arange(\n",
    "                data['visitorsPerDateA'].sum() - len(ordersByUsersA['orders'])\n",
    "            ),\n",
    "            name='orders',\n",
    "        ),\n",
    "    ],\n",
    "    axis=0,\n",
    ")\n",
    "\n",
    "sampleBFiltered = pd.concat(\n",
    "    [\n",
    "        ordersByUsersB[\n",
    "            np.logical_not(ordersByUsersB['userId'].isin(abnormalUsers))\n",
    "        ]['orders'],\n",
    "        pd.Series(\n",
    "            0,\n",
    "            index=np.arange(\n",
    "                data['visitorsPerDateB'].sum() - len(ordersByUsersB['orders'])\n",
    "            ),\n",
    "            name='orders',\n",
    "        ),\n",
    "    ],\n",
    "    axis=0,\n",
    ")\n",
    "\n",
    "print('{0:.3f}'.format(stats.mannwhitneyu(sampleAFiltered, sampleBFiltered)[1]))\n",
    "print('{0:.3f}'.format(sampleBFiltered.mean()/sampleAFiltered.mean()-1))"
   ]
  },
  {
   "cell_type": "markdown",
   "metadata": {},
   "source": [
    "***Вывод:***\n",
    "\n",
    "Результаты по конверсии сильно не изменились, выводы остаются теми же. (результаты по сырым данным: 0.017 и 0.138)\n",
    "\n",
    "**13) Посчитаем статистическую значимость различий в среднем чеке заказа между группами по «очищенным» данным**"
   ]
  },
  {
   "cell_type": "code",
   "execution_count": 126,
   "metadata": {},
   "outputs": [
    {
     "name": "stdout",
     "output_type": "stream",
     "text": [
      "0.851\n",
      "-0.006\n"
     ]
    }
   ],
   "source": [
    "print(\n",
    "    '{0:.3f}'.format(\n",
    "        stats.mannwhitneyu(\n",
    "            orders[\n",
    "                np.logical_and(\n",
    "                    orders['group'] == 'A',\n",
    "                    np.logical_not(orders['visitorId'].isin(abnormalUsers)),\n",
    "                )\n",
    "            ]['revenue'],\n",
    "            orders[\n",
    "                np.logical_and(\n",
    "                    orders['group'] == 'B',\n",
    "                    np.logical_not(orders['visitorId'].isin(abnormalUsers)),\n",
    "                )\n",
    "            ]['revenue'],\n",
    "        )[1]\n",
    "    )\n",
    ")\n",
    "\n",
    "print(\n",
    "    \"{0:.3f}\".format(\n",
    "        orders[\n",
    "            np.logical_and(\n",
    "                orders['group'] == 'B',\n",
    "                np.logical_not(orders['visitorId'].isin(abnormalUsers)),\n",
    "            )\n",
    "        ]['revenue'].mean()\n",
    "        / orders[\n",
    "            np.logical_and(\n",
    "                orders['group'] == 'A',\n",
    "                np.logical_not(orders['visitorId'].isin(abnormalUsers)),\n",
    "            )\n",
    "        ]['revenue'].mean()\n",
    "        - 1\n",
    "    )\n",
    ")"
   ]
  },
  {
   "cell_type": "markdown",
   "metadata": {},
   "source": [
    "***Вывод:***\n",
    "\n",
    "Разница между сегментами очень сильно изменилась. Теперь по среднему чеку группа **В** немного отстает от группы **А** (на 0,06%), хотя по сырым данным она выигрывала на все 25,9%! (результаты по сырым данным: 0.729, 0.259)"
   ]
  },
  {
   "cell_type": "markdown",
   "metadata": {},
   "source": [
    "# Общий вывод и решение по результатам теста <a id=\"step3\"></a>"
   ]
  },
  {
   "cell_type": "markdown",
   "metadata": {},
   "source": [
    "* Статистически значимые различия в конверсии между группами А и В есть и в \"сырых\" данных, и в данных без аномалий;\n",
    "* Конверсия группы В выше на 17%;\n",
    "* Нет статистически значимого различия по среднему чеку между группами ни по «сырым», ни по данным после фильтрации аномалий;\n",
    "* График различия конверсии между группами сообщает, что результаты группы B лучше группы A;\n",
    "* График различия среднего чека говорит о том, что на результаты группы В сильно повлияли аномалии;\n",
    "* Средний чек группы В без аномалий ниже среднего чека группы А на 0,06%.\n",
    "\n",
    "**14) Решение по результатам теста**\n",
    "\n",
    "Так как по конверсии группы различаются, а по среднему чеку - нет, предлагаю продолжить тест."
   ]
  }
 ],
 "metadata": {
  "ExecuteTimeLog": [
   {
    "duration": 395,
    "start_time": "2022-05-05T14:25:53.040Z"
   },
   {
    "duration": 21,
    "start_time": "2022-05-05T14:26:53.914Z"
   },
   {
    "duration": 4,
    "start_time": "2022-05-05T14:29:45.745Z"
   },
   {
    "duration": 5,
    "start_time": "2022-05-05T14:29:58.828Z"
   },
   {
    "duration": 6,
    "start_time": "2022-05-05T14:41:28.487Z"
   },
   {
    "duration": 10,
    "start_time": "2022-05-05T14:41:32.867Z"
   },
   {
    "duration": 5,
    "start_time": "2022-05-05T14:46:05.068Z"
   },
   {
    "duration": 11,
    "start_time": "2022-05-05T14:46:09.300Z"
   },
   {
    "duration": 2,
    "start_time": "2022-05-05T14:54:20.419Z"
   },
   {
    "duration": 15,
    "start_time": "2022-05-05T14:54:20.548Z"
   },
   {
    "duration": 5,
    "start_time": "2022-05-05T14:54:20.884Z"
   },
   {
    "duration": 11,
    "start_time": "2022-05-05T14:54:21.177Z"
   },
   {
    "duration": 12,
    "start_time": "2022-05-05T14:54:21.663Z"
   },
   {
    "duration": 46,
    "start_time": "2022-05-05T14:59:08.273Z"
   },
   {
    "duration": 36,
    "start_time": "2022-05-05T14:59:28.817Z"
   },
   {
    "duration": 420,
    "start_time": "2022-05-05T15:08:10.116Z"
   },
   {
    "duration": 6,
    "start_time": "2022-05-05T15:11:38.314Z"
   },
   {
    "duration": 77,
    "start_time": "2022-05-05T15:15:05.618Z"
   },
   {
    "duration": 2,
    "start_time": "2022-05-05T15:15:27.248Z"
   },
   {
    "duration": 19,
    "start_time": "2022-05-05T15:15:32.600Z"
   },
   {
    "duration": 143,
    "start_time": "2022-05-05T15:17:08.706Z"
   },
   {
    "duration": 225,
    "start_time": "2022-05-05T15:18:35.705Z"
   },
   {
    "duration": 234,
    "start_time": "2022-05-05T15:19:09.938Z"
   },
   {
    "duration": 240,
    "start_time": "2022-05-05T15:22:49.960Z"
   },
   {
    "duration": 461,
    "start_time": "2022-05-05T15:25:01.315Z"
   },
   {
    "duration": 457,
    "start_time": "2022-05-05T15:25:12.404Z"
   },
   {
    "duration": 228,
    "start_time": "2022-05-05T15:26:16.385Z"
   },
   {
    "duration": 277,
    "start_time": "2022-05-05T15:27:32.450Z"
   },
   {
    "duration": 125,
    "start_time": "2022-05-05T15:27:46.439Z"
   },
   {
    "duration": 110,
    "start_time": "2022-05-05T15:27:55.227Z"
   },
   {
    "duration": 231,
    "start_time": "2022-05-05T15:28:58.871Z"
   },
   {
    "duration": 245,
    "start_time": "2022-05-05T15:29:07.951Z"
   },
   {
    "duration": 222,
    "start_time": "2022-05-05T15:30:29.457Z"
   },
   {
    "duration": 232,
    "start_time": "2022-05-05T15:30:37.441Z"
   },
   {
    "duration": 226,
    "start_time": "2022-05-05T15:30:57.136Z"
   },
   {
    "duration": 228,
    "start_time": "2022-05-05T15:32:00.650Z"
   },
   {
    "duration": 223,
    "start_time": "2022-05-05T15:33:03.600Z"
   },
   {
    "duration": 215,
    "start_time": "2022-05-05T15:33:13.806Z"
   },
   {
    "duration": 219,
    "start_time": "2022-05-05T15:33:22.367Z"
   },
   {
    "duration": 221,
    "start_time": "2022-05-05T15:33:29.618Z"
   },
   {
    "duration": 228,
    "start_time": "2022-05-05T15:34:04.443Z"
   },
   {
    "duration": 206,
    "start_time": "2022-05-05T15:34:37.301Z"
   },
   {
    "duration": 227,
    "start_time": "2022-05-05T15:34:45.174Z"
   },
   {
    "duration": 254,
    "start_time": "2022-05-05T15:35:28.160Z"
   },
   {
    "duration": 244,
    "start_time": "2022-05-05T15:35:36.855Z"
   },
   {
    "duration": 259,
    "start_time": "2022-05-05T15:35:45.384Z"
   },
   {
    "duration": 328,
    "start_time": "2022-05-05T15:35:56.163Z"
   },
   {
    "duration": 293,
    "start_time": "2022-05-05T15:36:18.651Z"
   },
   {
    "duration": 287,
    "start_time": "2022-05-05T15:36:22.827Z"
   },
   {
    "duration": 308,
    "start_time": "2022-05-05T15:36:29.921Z"
   },
   {
    "duration": 280,
    "start_time": "2022-05-05T15:36:39.570Z"
   },
   {
    "duration": 291,
    "start_time": "2022-05-05T15:36:50.000Z"
   },
   {
    "duration": 288,
    "start_time": "2022-05-05T15:36:57.823Z"
   },
   {
    "duration": 283,
    "start_time": "2022-05-05T15:37:06.469Z"
   },
   {
    "duration": 296,
    "start_time": "2022-05-05T15:37:59.389Z"
   },
   {
    "duration": 296,
    "start_time": "2022-05-05T15:38:16.669Z"
   },
   {
    "duration": 224,
    "start_time": "2022-05-05T15:43:21.469Z"
   },
   {
    "duration": 355,
    "start_time": "2022-05-05T15:43:38.356Z"
   },
   {
    "duration": 397,
    "start_time": "2022-05-05T15:48:16.920Z"
   },
   {
    "duration": 405,
    "start_time": "2022-05-05T15:48:33.626Z"
   },
   {
    "duration": 370,
    "start_time": "2022-05-05T15:48:36.572Z"
   },
   {
    "duration": 234,
    "start_time": "2022-05-05T15:52:14.557Z"
   },
   {
    "duration": 292,
    "start_time": "2022-05-05T15:52:32.699Z"
   },
   {
    "duration": 450,
    "start_time": "2022-05-05T15:53:28.402Z"
   },
   {
    "duration": 456,
    "start_time": "2022-05-05T15:53:36.506Z"
   },
   {
    "duration": 299,
    "start_time": "2022-05-05T15:53:47.545Z"
   },
   {
    "duration": 275,
    "start_time": "2022-05-05T16:00:44.213Z"
   },
   {
    "duration": 280,
    "start_time": "2022-05-05T16:01:12.102Z"
   },
   {
    "duration": 274,
    "start_time": "2022-05-05T16:01:16.906Z"
   },
   {
    "duration": 387,
    "start_time": "2022-05-05T16:01:26.021Z"
   },
   {
    "duration": 353,
    "start_time": "2022-05-05T16:04:38.846Z"
   },
   {
    "duration": 365,
    "start_time": "2022-05-05T16:04:53.072Z"
   },
   {
    "duration": 394,
    "start_time": "2022-05-05T16:06:19.265Z"
   },
   {
    "duration": 374,
    "start_time": "2022-05-05T16:06:24.474Z"
   },
   {
    "duration": 9,
    "start_time": "2022-05-05T16:11:51.745Z"
   },
   {
    "duration": 102,
    "start_time": "2022-05-05T16:14:16.326Z"
   },
   {
    "duration": 107,
    "start_time": "2022-05-05T16:14:28.166Z"
   },
   {
    "duration": 127,
    "start_time": "2022-05-05T16:15:38.145Z"
   },
   {
    "duration": 149,
    "start_time": "2022-05-05T16:15:54.540Z"
   },
   {
    "duration": 114,
    "start_time": "2022-05-05T16:16:12.259Z"
   },
   {
    "duration": 156,
    "start_time": "2022-05-05T16:16:18.022Z"
   },
   {
    "duration": 131,
    "start_time": "2022-05-05T16:16:23.599Z"
   },
   {
    "duration": 4,
    "start_time": "2022-05-05T16:21:17.105Z"
   },
   {
    "duration": 4,
    "start_time": "2022-05-05T16:21:25.945Z"
   },
   {
    "duration": 1978,
    "start_time": "2022-05-05T16:26:26.730Z"
   },
   {
    "duration": 116,
    "start_time": "2022-05-05T16:26:46.311Z"
   },
   {
    "duration": 156,
    "start_time": "2022-05-05T16:27:34.486Z"
   },
   {
    "duration": 108,
    "start_time": "2022-05-05T16:29:52.158Z"
   },
   {
    "duration": 5,
    "start_time": "2022-05-05T16:29:57.373Z"
   },
   {
    "duration": 14,
    "start_time": "2022-05-05T16:30:22.709Z"
   },
   {
    "duration": 117,
    "start_time": "2022-05-05T16:30:48.864Z"
   },
   {
    "duration": 282,
    "start_time": "2022-05-05T16:31:05.394Z"
   },
   {
    "duration": 162,
    "start_time": "2022-05-05T16:31:28.437Z"
   },
   {
    "duration": 164,
    "start_time": "2022-05-05T16:31:47.166Z"
   },
   {
    "duration": 130,
    "start_time": "2022-05-05T16:31:52.667Z"
   },
   {
    "duration": 5,
    "start_time": "2022-05-05T16:32:43.979Z"
   },
   {
    "duration": 1796,
    "start_time": "2022-05-05T16:35:40.692Z"
   },
   {
    "duration": 2042,
    "start_time": "2022-05-05T16:35:51.436Z"
   },
   {
    "duration": 2340,
    "start_time": "2022-05-05T16:36:07.437Z"
   },
   {
    "duration": 9,
    "start_time": "2022-05-05T16:36:32.580Z"
   },
   {
    "duration": 4,
    "start_time": "2022-05-05T16:37:03.491Z"
   },
   {
    "duration": 13,
    "start_time": "2022-05-05T16:53:38.297Z"
   },
   {
    "duration": 131,
    "start_time": "2022-05-05T16:54:20.991Z"
   },
   {
    "duration": 2175,
    "start_time": "2022-05-05T16:56:15.365Z"
   },
   {
    "duration": 2145,
    "start_time": "2022-05-05T16:58:31.703Z"
   },
   {
    "duration": 189,
    "start_time": "2022-05-05T16:58:51.080Z"
   },
   {
    "duration": 187,
    "start_time": "2022-05-05T16:59:47.165Z"
   },
   {
    "duration": 37,
    "start_time": "2022-05-05T16:59:49.215Z"
   },
   {
    "duration": 9,
    "start_time": "2022-05-05T17:00:33.009Z"
   },
   {
    "duration": 459,
    "start_time": "2022-05-05T17:00:41.263Z"
   },
   {
    "duration": 256,
    "start_time": "2022-05-05T17:01:16.519Z"
   },
   {
    "duration": 174,
    "start_time": "2022-05-05T17:01:39.131Z"
   },
   {
    "duration": 177,
    "start_time": "2022-05-05T17:01:48.000Z"
   },
   {
    "duration": 180,
    "start_time": "2022-05-05T17:01:55.927Z"
   },
   {
    "duration": 15,
    "start_time": "2022-05-05T17:02:11.860Z"
   },
   {
    "duration": 5,
    "start_time": "2022-05-05T17:02:25.722Z"
   },
   {
    "duration": 14,
    "start_time": "2022-05-05T17:02:46.764Z"
   },
   {
    "duration": 15,
    "start_time": "2022-05-05T17:03:10.944Z"
   },
   {
    "duration": 171,
    "start_time": "2022-05-05T17:09:30.887Z"
   },
   {
    "duration": 14,
    "start_time": "2022-05-05T17:09:34.577Z"
   },
   {
    "duration": 8,
    "start_time": "2022-05-05T17:09:59.098Z"
   },
   {
    "duration": 11,
    "start_time": "2022-05-05T17:10:02.674Z"
   },
   {
    "duration": 23,
    "start_time": "2022-05-05T17:10:31.945Z"
   },
   {
    "duration": 37,
    "start_time": "2022-05-05T17:11:05.105Z"
   },
   {
    "duration": 4,
    "start_time": "2022-05-05T17:13:18.387Z"
   },
   {
    "duration": 19,
    "start_time": "2022-05-05T17:13:18.541Z"
   },
   {
    "duration": 5,
    "start_time": "2022-05-05T17:13:18.916Z"
   },
   {
    "duration": 13,
    "start_time": "2022-05-05T17:13:19.328Z"
   },
   {
    "duration": 15,
    "start_time": "2022-05-05T17:13:19.921Z"
   },
   {
    "duration": 42,
    "start_time": "2022-05-05T17:13:21.195Z"
   },
   {
    "duration": 6,
    "start_time": "2022-05-05T17:13:21.872Z"
   },
   {
    "duration": 475,
    "start_time": "2022-05-05T17:13:22.280Z"
   },
   {
    "duration": 296,
    "start_time": "2022-05-05T17:13:23.365Z"
   },
   {
    "duration": 308,
    "start_time": "2022-05-05T17:13:23.843Z"
   },
   {
    "duration": 358,
    "start_time": "2022-05-05T17:13:24.482Z"
   },
   {
    "duration": 308,
    "start_time": "2022-05-05T17:13:25.039Z"
   },
   {
    "duration": 542,
    "start_time": "2022-05-05T17:13:26.113Z"
   },
   {
    "duration": 131,
    "start_time": "2022-05-05T17:13:26.721Z"
   },
   {
    "duration": 5,
    "start_time": "2022-05-05T17:13:27.394Z"
   },
   {
    "duration": 173,
    "start_time": "2022-05-05T17:13:28.238Z"
   },
   {
    "duration": 5,
    "start_time": "2022-05-05T17:13:28.895Z"
   },
   {
    "duration": 93,
    "start_time": "2022-05-05T17:13:29.789Z"
   },
   {
    "duration": 93,
    "start_time": "2022-05-05T17:14:44.629Z"
   },
   {
    "duration": 138,
    "start_time": "2022-05-05T17:15:27.280Z"
   },
   {
    "duration": 197,
    "start_time": "2022-05-05T17:16:01.078Z"
   },
   {
    "duration": 14,
    "start_time": "2022-05-05T17:16:05.738Z"
   },
   {
    "duration": 123,
    "start_time": "2022-05-05T17:16:26.615Z"
   },
   {
    "duration": 7,
    "start_time": "2022-05-05T17:16:29.742Z"
   },
   {
    "duration": 16,
    "start_time": "2022-05-05T17:17:19.496Z"
   },
   {
    "duration": 161,
    "start_time": "2022-05-05T17:18:04.718Z"
   },
   {
    "duration": 10,
    "start_time": "2022-05-05T17:22:42.673Z"
   },
   {
    "duration": 1925,
    "start_time": "2022-05-05T17:32:26.180Z"
   },
   {
    "duration": 1989,
    "start_time": "2022-05-05T17:32:44.480Z"
   },
   {
    "duration": 7,
    "start_time": "2022-05-05T17:32:59.512Z"
   },
   {
    "duration": 12,
    "start_time": "2022-05-05T17:33:21.249Z"
   },
   {
    "duration": 9,
    "start_time": "2022-05-05T17:34:46.000Z"
   },
   {
    "duration": 8,
    "start_time": "2022-05-05T17:37:18.771Z"
   },
   {
    "duration": 27,
    "start_time": "2022-05-05T17:38:07.289Z"
   },
   {
    "duration": 994,
    "start_time": "2022-05-05T19:21:07.012Z"
   },
   {
    "duration": 50,
    "start_time": "2022-05-05T19:21:08.959Z"
   },
   {
    "duration": 5,
    "start_time": "2022-05-05T19:21:13.128Z"
   },
   {
    "duration": 27,
    "start_time": "2022-05-05T19:21:14.329Z"
   },
   {
    "duration": 22,
    "start_time": "2022-05-05T19:21:15.515Z"
   },
   {
    "duration": 67,
    "start_time": "2022-05-05T19:21:17.287Z"
   },
   {
    "duration": 6,
    "start_time": "2022-05-05T19:21:18.524Z"
   },
   {
    "duration": 586,
    "start_time": "2022-05-05T19:21:19.896Z"
   },
   {
    "duration": 401,
    "start_time": "2022-05-05T19:21:20.484Z"
   },
   {
    "duration": 401,
    "start_time": "2022-05-05T19:21:21.096Z"
   },
   {
    "duration": 526,
    "start_time": "2022-05-05T19:21:21.499Z"
   },
   {
    "duration": 486,
    "start_time": "2022-05-05T19:21:22.027Z"
   },
   {
    "duration": 501,
    "start_time": "2022-05-05T19:21:22.515Z"
   },
   {
    "duration": 193,
    "start_time": "2022-05-05T19:21:23.018Z"
   },
   {
    "duration": 4,
    "start_time": "2022-05-05T19:21:23.214Z"
   },
   {
    "duration": 232,
    "start_time": "2022-05-05T19:21:23.220Z"
   },
   {
    "duration": 5,
    "start_time": "2022-05-05T19:21:23.551Z"
   },
   {
    "duration": 251,
    "start_time": "2022-05-05T19:21:24.088Z"
   },
   {
    "duration": 164,
    "start_time": "2022-05-05T19:21:25.346Z"
   },
   {
    "duration": 7,
    "start_time": "2022-05-05T19:21:25.512Z"
   },
   {
    "duration": 241,
    "start_time": "2022-05-05T19:21:25.705Z"
   },
   {
    "duration": 0,
    "start_time": "2022-05-05T19:21:25.947Z"
   },
   {
    "duration": 10,
    "start_time": "2022-05-05T19:21:26.401Z"
   },
   {
    "duration": 19,
    "start_time": "2022-05-05T19:21:26.912Z"
   },
   {
    "duration": 442,
    "start_time": "2022-05-05T19:22:14.013Z"
   },
   {
    "duration": 33,
    "start_time": "2022-05-05T19:22:21.478Z"
   },
   {
    "duration": 2969,
    "start_time": "2022-05-05T19:23:22.731Z"
   },
   {
    "duration": 21,
    "start_time": "2022-05-05T19:23:58.235Z"
   },
   {
    "duration": 14,
    "start_time": "2022-05-05T19:24:35.752Z"
   },
   {
    "duration": 248,
    "start_time": "2022-05-05T19:31:24.058Z"
   },
   {
    "duration": 22,
    "start_time": "2022-05-05T19:43:39.594Z"
   },
   {
    "duration": 9,
    "start_time": "2022-05-05T19:48:54.610Z"
   },
   {
    "duration": 15,
    "start_time": "2022-05-05T19:48:59.327Z"
   },
   {
    "duration": 7,
    "start_time": "2022-05-05T19:49:02.958Z"
   },
   {
    "duration": 7,
    "start_time": "2022-05-05T19:49:32.333Z"
   },
   {
    "duration": 6,
    "start_time": "2022-05-05T19:49:41.297Z"
   },
   {
    "duration": 7,
    "start_time": "2022-05-05T19:49:44.745Z"
   },
   {
    "duration": 46,
    "start_time": "2022-05-11T08:34:16.127Z"
   },
   {
    "duration": 1634,
    "start_time": "2022-05-11T08:34:22.540Z"
   },
   {
    "duration": 62,
    "start_time": "2022-05-11T08:34:24.177Z"
   },
   {
    "duration": 6,
    "start_time": "2022-05-11T08:34:29.223Z"
   },
   {
    "duration": 17,
    "start_time": "2022-05-11T08:34:30.882Z"
   },
   {
    "duration": 14,
    "start_time": "2022-05-11T08:35:40.753Z"
   },
   {
    "duration": 14,
    "start_time": "2022-05-11T08:35:49.953Z"
   },
   {
    "duration": 11,
    "start_time": "2022-05-11T08:36:00.920Z"
   },
   {
    "duration": 15,
    "start_time": "2022-05-11T08:36:17.105Z"
   },
   {
    "duration": 164,
    "start_time": "2022-05-11T08:36:24.558Z"
   },
   {
    "duration": 6,
    "start_time": "2022-05-11T08:36:25.445Z"
   },
   {
    "duration": 5,
    "start_time": "2022-05-11T08:36:27.199Z"
   },
   {
    "duration": 8,
    "start_time": "2022-05-11T08:40:00.619Z"
   },
   {
    "duration": 17,
    "start_time": "2022-05-11T08:40:05.858Z"
   },
   {
    "duration": 60,
    "start_time": "2022-05-11T08:41:15.365Z"
   },
   {
    "duration": 7,
    "start_time": "2022-05-11T08:41:35.096Z"
   },
   {
    "duration": 14,
    "start_time": "2022-05-11T08:41:57.624Z"
   },
   {
    "duration": 15,
    "start_time": "2022-05-11T08:44:14.210Z"
   },
   {
    "duration": 9,
    "start_time": "2022-05-11T08:44:37.544Z"
   },
   {
    "duration": 8,
    "start_time": "2022-05-11T08:44:47.106Z"
   },
   {
    "duration": 16,
    "start_time": "2022-05-11T08:44:54.082Z"
   },
   {
    "duration": 15,
    "start_time": "2022-05-11T08:45:07.545Z"
   },
   {
    "duration": 15,
    "start_time": "2022-05-11T08:45:15.693Z"
   },
   {
    "duration": 7,
    "start_time": "2022-05-11T08:45:22.353Z"
   },
   {
    "duration": 17,
    "start_time": "2022-05-11T08:45:45.357Z"
   },
   {
    "duration": 16,
    "start_time": "2022-05-11T08:45:59.177Z"
   },
   {
    "duration": 15,
    "start_time": "2022-05-11T08:46:12.673Z"
   },
   {
    "duration": 22,
    "start_time": "2022-05-11T08:46:35.619Z"
   },
   {
    "duration": 15,
    "start_time": "2022-05-11T08:46:49.152Z"
   },
   {
    "duration": 73,
    "start_time": "2022-05-11T08:47:37.205Z"
   },
   {
    "duration": 98,
    "start_time": "2022-05-11T08:49:49.042Z"
   },
   {
    "duration": 128,
    "start_time": "2022-05-11T08:51:57.049Z"
   },
   {
    "duration": 105,
    "start_time": "2022-05-11T08:52:11.608Z"
   },
   {
    "duration": 109,
    "start_time": "2022-05-11T08:52:52.008Z"
   },
   {
    "duration": 16,
    "start_time": "2022-05-11T08:53:03.633Z"
   },
   {
    "duration": 198,
    "start_time": "2022-05-11T08:53:07.831Z"
   },
   {
    "duration": 194,
    "start_time": "2022-05-11T08:53:10.710Z"
   },
   {
    "duration": 59,
    "start_time": "2022-05-11T08:53:15.071Z"
   },
   {
    "duration": 55,
    "start_time": "2022-05-11T08:53:38.581Z"
   },
   {
    "duration": 57,
    "start_time": "2022-05-11T08:55:48.383Z"
   },
   {
    "duration": 58,
    "start_time": "2022-05-11T08:56:04.300Z"
   },
   {
    "duration": 58,
    "start_time": "2022-05-11T08:56:37.319Z"
   },
   {
    "duration": 227,
    "start_time": "2022-05-11T08:56:43.151Z"
   },
   {
    "duration": 66,
    "start_time": "2022-05-11T08:56:49.810Z"
   },
   {
    "duration": 63,
    "start_time": "2022-05-11T08:57:15.287Z"
   },
   {
    "duration": 103,
    "start_time": "2022-05-11T08:57:36.798Z"
   },
   {
    "duration": 15,
    "start_time": "2022-05-11T09:00:09.450Z"
   },
   {
    "duration": 15,
    "start_time": "2022-05-11T09:00:20.277Z"
   },
   {
    "duration": 9,
    "start_time": "2022-05-11T09:02:20.768Z"
   },
   {
    "duration": 3249,
    "start_time": "2022-05-11T09:04:02.669Z"
   },
   {
    "duration": 9,
    "start_time": "2022-05-11T09:07:11.576Z"
   },
   {
    "duration": 7,
    "start_time": "2022-05-11T09:09:04.496Z"
   },
   {
    "duration": 11,
    "start_time": "2022-05-11T09:09:11.189Z"
   },
   {
    "duration": 6,
    "start_time": "2022-05-11T09:09:23.737Z"
   },
   {
    "duration": 6,
    "start_time": "2022-05-11T09:09:33.121Z"
   },
   {
    "duration": 5,
    "start_time": "2022-05-11T09:09:49.889Z"
   },
   {
    "duration": 5,
    "start_time": "2022-05-11T09:09:54.619Z"
   },
   {
    "duration": 5,
    "start_time": "2022-05-11T09:10:00.825Z"
   },
   {
    "duration": 191,
    "start_time": "2022-05-11T09:10:55.431Z"
   },
   {
    "duration": 5,
    "start_time": "2022-05-11T09:10:58.292Z"
   },
   {
    "duration": 9,
    "start_time": "2022-05-11T09:11:17.086Z"
   },
   {
    "duration": 8,
    "start_time": "2022-05-11T09:12:45.906Z"
   },
   {
    "duration": 1469,
    "start_time": "2022-05-11T09:13:45.627Z"
   },
   {
    "duration": 9,
    "start_time": "2022-05-11T09:14:36.411Z"
   },
   {
    "duration": 25,
    "start_time": "2022-05-11T09:14:44.359Z"
   },
   {
    "duration": 25,
    "start_time": "2022-05-11T09:15:16.935Z"
   },
   {
    "duration": 25,
    "start_time": "2022-05-11T09:15:54.571Z"
   },
   {
    "duration": 17,
    "start_time": "2022-05-11T09:16:00.940Z"
   },
   {
    "duration": 19,
    "start_time": "2022-05-11T09:16:08.378Z"
   },
   {
    "duration": 6,
    "start_time": "2022-05-11T09:17:13.342Z"
   },
   {
    "duration": 5,
    "start_time": "2022-05-11T09:17:15.507Z"
   },
   {
    "duration": 462,
    "start_time": "2022-05-11T09:17:17.308Z"
   },
   {
    "duration": 278,
    "start_time": "2022-05-11T09:17:17.952Z"
   },
   {
    "duration": 282,
    "start_time": "2022-05-11T09:17:19.012Z"
   },
   {
    "duration": 421,
    "start_time": "2022-05-11T09:17:24.697Z"
   },
   {
    "duration": 296,
    "start_time": "2022-05-11T09:17:25.520Z"
   },
   {
    "duration": 407,
    "start_time": "2022-05-11T09:17:26.416Z"
   },
   {
    "duration": 18,
    "start_time": "2022-05-11T09:19:29.776Z"
   },
   {
    "duration": 168,
    "start_time": "2022-05-11T09:20:10.205Z"
   },
   {
    "duration": 458,
    "start_time": "2022-05-11T09:21:21.612Z"
   },
   {
    "duration": 414,
    "start_time": "2022-05-11T09:22:01.713Z"
   },
   {
    "duration": 521,
    "start_time": "2022-05-11T09:22:12.317Z"
   },
   {
    "duration": 486,
    "start_time": "2022-05-11T09:22:19.760Z"
   },
   {
    "duration": 403,
    "start_time": "2022-05-11T09:22:25.741Z"
   },
   {
    "duration": 444,
    "start_time": "2022-05-11T09:22:35.752Z"
   },
   {
    "duration": 450,
    "start_time": "2022-05-11T09:22:52.567Z"
   },
   {
    "duration": 400,
    "start_time": "2022-05-11T09:23:05.953Z"
   },
   {
    "duration": 409,
    "start_time": "2022-05-11T09:23:12.700Z"
   },
   {
    "duration": 321,
    "start_time": "2022-05-11T09:23:26.282Z"
   },
   {
    "duration": 386,
    "start_time": "2022-05-11T09:23:52.829Z"
   },
   {
    "duration": 287,
    "start_time": "2022-05-11T09:24:13.834Z"
   },
   {
    "duration": 293,
    "start_time": "2022-05-11T09:24:33.207Z"
   },
   {
    "duration": 591,
    "start_time": "2022-05-11T09:24:48.985Z"
   },
   {
    "duration": 311,
    "start_time": "2022-05-11T09:24:49.578Z"
   },
   {
    "duration": 395,
    "start_time": "2022-05-11T09:24:49.891Z"
   },
   {
    "duration": 397,
    "start_time": "2022-05-11T09:24:50.750Z"
   },
   {
    "duration": 308,
    "start_time": "2022-05-11T09:24:51.998Z"
   },
   {
    "duration": 388,
    "start_time": "2022-05-11T09:24:52.830Z"
   },
   {
    "duration": 131,
    "start_time": "2022-05-11T09:25:00.321Z"
   },
   {
    "duration": 3,
    "start_time": "2022-05-11T09:25:02.478Z"
   },
   {
    "duration": 141,
    "start_time": "2022-05-11T09:25:34.996Z"
   },
   {
    "duration": 4,
    "start_time": "2022-05-11T09:25:39.004Z"
   },
   {
    "duration": 157,
    "start_time": "2022-05-11T09:26:14.021Z"
   },
   {
    "duration": 4,
    "start_time": "2022-05-11T09:26:19.961Z"
   },
   {
    "duration": 158,
    "start_time": "2022-05-11T09:27:27.226Z"
   },
   {
    "duration": 4,
    "start_time": "2022-05-11T09:27:27.670Z"
   },
   {
    "duration": 271,
    "start_time": "2022-05-11T09:27:28.888Z"
   },
   {
    "duration": 195,
    "start_time": "2022-05-11T09:27:29.834Z"
   },
   {
    "duration": 8,
    "start_time": "2022-05-11T09:27:31.009Z"
   },
   {
    "duration": 322,
    "start_time": "2022-05-11T09:27:32.751Z"
   },
   {
    "duration": 9,
    "start_time": "2022-05-11T09:27:38.005Z"
   },
   {
    "duration": 10,
    "start_time": "2022-05-11T09:27:40.574Z"
   },
   {
    "duration": 8,
    "start_time": "2022-05-11T09:28:13.661Z"
   },
   {
    "duration": 189,
    "start_time": "2022-05-11T09:31:12.139Z"
   },
   {
    "duration": 118,
    "start_time": "2022-05-11T09:31:12.783Z"
   },
   {
    "duration": 6,
    "start_time": "2022-05-11T09:31:13.479Z"
   },
   {
    "duration": 175,
    "start_time": "2022-05-11T09:31:14.233Z"
   },
   {
    "duration": 9,
    "start_time": "2022-05-11T09:31:15.134Z"
   },
   {
    "duration": 9,
    "start_time": "2022-05-11T09:31:16.485Z"
   },
   {
    "duration": 26,
    "start_time": "2022-05-11T09:31:23.385Z"
   },
   {
    "duration": 13,
    "start_time": "2022-05-11T09:31:24.762Z"
   },
   {
    "duration": 9,
    "start_time": "2022-05-11T09:33:02.643Z"
   },
   {
    "duration": 8,
    "start_time": "2022-05-11T09:33:10.639Z"
   },
   {
    "duration": 8,
    "start_time": "2022-05-11T09:34:02.568Z"
   },
   {
    "duration": 27,
    "start_time": "2022-05-11T09:34:08.568Z"
   },
   {
    "duration": 11,
    "start_time": "2022-05-11T09:34:21.937Z"
   },
   {
    "duration": 52,
    "start_time": "2022-05-12T05:41:40.027Z"
   }
  ],
  "kernelspec": {
   "display_name": "Python 3 (ipykernel)",
   "language": "python",
   "name": "python3"
  },
  "language_info": {
   "codemirror_mode": {
    "name": "ipython",
    "version": 3
   },
   "file_extension": ".py",
   "mimetype": "text/x-python",
   "name": "python",
   "nbconvert_exporter": "python",
   "pygments_lexer": "ipython3",
   "version": "3.9.5"
  },
  "toc": {
   "base_numbering": 1,
   "nav_menu": {},
   "number_sections": true,
   "sideBar": true,
   "skip_h1_title": true,
   "title_cell": "Table of Contents",
   "title_sidebar": "Contents",
   "toc_cell": false,
   "toc_position": {},
   "toc_section_display": true,
   "toc_window_display": false
  }
 },
 "nbformat": 4,
 "nbformat_minor": 2
}
