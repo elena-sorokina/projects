{
 "cells": [
  {
   "cell_type": "markdown",
   "id": "5a7b7332",
   "metadata": {},
   "source": [
    "# Изучение закономерностей, определяющих успешность игр"
   ]
  },
  {
   "cell_type": "markdown",
   "id": "c5638c37",
   "metadata": {},
   "source": [
    "### Описание проекта"
   ]
  },
  {
   "cell_type": "markdown",
   "id": "6a51a551",
   "metadata": {},
   "source": [
    "Интернет-магазин «Стримчик» продаёт по всему миру компьютерные игры. Из открытых источников доступны исторические данные о продажах игр, оценки пользователей и экспертов, жанры и платформы (например, Xboxили PlayStation). Нужно выявить определяющие успешность игры закономерности. Это позволит сделать ставку на потенциально популярный продукт и спланировать рекламные кампании. Предоставлены данные до 2016 года. Представим, что сейчас декабрь 2016 г., и вы планируете кампанию на 2017-й. Нужно отработать принцип работы с данными.\n",
    "\n",
    "В наборе данных попадается аббревиатура ESRB (Entertainment Software Rating\n",
    "Board) — это ассоциация, определяющая возрастной рейтинг компьютерных\n",
    "игр. ESRB оценивает игровой контент и присваивает ему подходящую возрастную\n",
    "категорию, например, «Для взрослых», «Для детей младшего возраста» или «Для\n",
    "подростков»."
   ]
  },
  {
   "cell_type": "markdown",
   "id": "83c0406e",
   "metadata": {},
   "source": [
    "### Изучение данных"
   ]
  },
  {
   "cell_type": "code",
   "execution_count": 1,
   "id": "1d636ca4",
   "metadata": {},
   "outputs": [],
   "source": [
    "import pandas as pd\n",
    "import matplotlib.pyplot as plt\n",
    "import seaborn as sns\n",
    "from scipy import stats as st "
   ]
  },
  {
   "cell_type": "code",
   "execution_count": 2,
   "id": "d59a39ee",
   "metadata": {},
   "outputs": [],
   "source": [
    "#  data = pd.read_csv('C:\\\\Users\\\\elena\\\\OneDrive\\\\Рабочий стол\\\\games.csv')\n",
    "data = pd.read_csv('/datasets/games.csv')"
   ]
  },
  {
   "cell_type": "code",
   "execution_count": 3,
   "id": "5ab2cb35",
   "metadata": {},
   "outputs": [
    {
     "data": {
      "text/html": [
       "<div>\n",
       "<style scoped>\n",
       "    .dataframe tbody tr th:only-of-type {\n",
       "        vertical-align: middle;\n",
       "    }\n",
       "\n",
       "    .dataframe tbody tr th {\n",
       "        vertical-align: top;\n",
       "    }\n",
       "\n",
       "    .dataframe thead th {\n",
       "        text-align: right;\n",
       "    }\n",
       "</style>\n",
       "<table border=\"1\" class=\"dataframe\">\n",
       "  <thead>\n",
       "    <tr style=\"text-align: right;\">\n",
       "      <th></th>\n",
       "      <th>Name</th>\n",
       "      <th>Platform</th>\n",
       "      <th>Year_of_Release</th>\n",
       "      <th>Genre</th>\n",
       "      <th>NA_sales</th>\n",
       "      <th>EU_sales</th>\n",
       "      <th>JP_sales</th>\n",
       "      <th>Other_sales</th>\n",
       "      <th>Critic_Score</th>\n",
       "      <th>User_Score</th>\n",
       "      <th>Rating</th>\n",
       "    </tr>\n",
       "  </thead>\n",
       "  <tbody>\n",
       "    <tr>\n",
       "      <th>0</th>\n",
       "      <td>Wii Sports</td>\n",
       "      <td>Wii</td>\n",
       "      <td>2006.0</td>\n",
       "      <td>Sports</td>\n",
       "      <td>41.36</td>\n",
       "      <td>28.96</td>\n",
       "      <td>3.77</td>\n",
       "      <td>8.45</td>\n",
       "      <td>76.0</td>\n",
       "      <td>8</td>\n",
       "      <td>E</td>\n",
       "    </tr>\n",
       "    <tr>\n",
       "      <th>1</th>\n",
       "      <td>Super Mario Bros.</td>\n",
       "      <td>NES</td>\n",
       "      <td>1985.0</td>\n",
       "      <td>Platform</td>\n",
       "      <td>29.08</td>\n",
       "      <td>3.58</td>\n",
       "      <td>6.81</td>\n",
       "      <td>0.77</td>\n",
       "      <td>NaN</td>\n",
       "      <td>NaN</td>\n",
       "      <td>NaN</td>\n",
       "    </tr>\n",
       "    <tr>\n",
       "      <th>2</th>\n",
       "      <td>Mario Kart Wii</td>\n",
       "      <td>Wii</td>\n",
       "      <td>2008.0</td>\n",
       "      <td>Racing</td>\n",
       "      <td>15.68</td>\n",
       "      <td>12.76</td>\n",
       "      <td>3.79</td>\n",
       "      <td>3.29</td>\n",
       "      <td>82.0</td>\n",
       "      <td>8.3</td>\n",
       "      <td>E</td>\n",
       "    </tr>\n",
       "    <tr>\n",
       "      <th>3</th>\n",
       "      <td>Wii Sports Resort</td>\n",
       "      <td>Wii</td>\n",
       "      <td>2009.0</td>\n",
       "      <td>Sports</td>\n",
       "      <td>15.61</td>\n",
       "      <td>10.93</td>\n",
       "      <td>3.28</td>\n",
       "      <td>2.95</td>\n",
       "      <td>80.0</td>\n",
       "      <td>8</td>\n",
       "      <td>E</td>\n",
       "    </tr>\n",
       "    <tr>\n",
       "      <th>4</th>\n",
       "      <td>Pokemon Red/Pokemon Blue</td>\n",
       "      <td>GB</td>\n",
       "      <td>1996.0</td>\n",
       "      <td>Role-Playing</td>\n",
       "      <td>11.27</td>\n",
       "      <td>8.89</td>\n",
       "      <td>10.22</td>\n",
       "      <td>1.00</td>\n",
       "      <td>NaN</td>\n",
       "      <td>NaN</td>\n",
       "      <td>NaN</td>\n",
       "    </tr>\n",
       "  </tbody>\n",
       "</table>\n",
       "</div>"
      ],
      "text/plain": [
       "                       Name Platform  Year_of_Release         Genre  NA_sales  \\\n",
       "0                Wii Sports      Wii           2006.0        Sports     41.36   \n",
       "1         Super Mario Bros.      NES           1985.0      Platform     29.08   \n",
       "2            Mario Kart Wii      Wii           2008.0        Racing     15.68   \n",
       "3         Wii Sports Resort      Wii           2009.0        Sports     15.61   \n",
       "4  Pokemon Red/Pokemon Blue       GB           1996.0  Role-Playing     11.27   \n",
       "\n",
       "   EU_sales  JP_sales  Other_sales  Critic_Score User_Score Rating  \n",
       "0     28.96      3.77         8.45          76.0          8      E  \n",
       "1      3.58      6.81         0.77           NaN        NaN    NaN  \n",
       "2     12.76      3.79         3.29          82.0        8.3      E  \n",
       "3     10.93      3.28         2.95          80.0          8      E  \n",
       "4      8.89     10.22         1.00           NaN        NaN    NaN  "
      ]
     },
     "metadata": {},
     "output_type": "display_data"
    },
    {
     "name": "stdout",
     "output_type": "stream",
     "text": [
      "<class 'pandas.core.frame.DataFrame'>\n",
      "RangeIndex: 16715 entries, 0 to 16714\n",
      "Data columns (total 11 columns):\n",
      " #   Column           Non-Null Count  Dtype  \n",
      "---  ------           --------------  -----  \n",
      " 0   Name             16713 non-null  object \n",
      " 1   Platform         16715 non-null  object \n",
      " 2   Year_of_Release  16446 non-null  float64\n",
      " 3   Genre            16713 non-null  object \n",
      " 4   NA_sales         16715 non-null  float64\n",
      " 5   EU_sales         16715 non-null  float64\n",
      " 6   JP_sales         16715 non-null  float64\n",
      " 7   Other_sales      16715 non-null  float64\n",
      " 8   Critic_Score     8137 non-null   float64\n",
      " 9   User_Score       10014 non-null  object \n",
      " 10  Rating           9949 non-null   object \n",
      "dtypes: float64(6), object(5)\n",
      "memory usage: 1.4+ MB\n"
     ]
    }
   ],
   "source": [
    "display(data.head())\n",
    "data.info()"
   ]
  },
  {
   "cell_type": "markdown",
   "id": "4af63a54",
   "metadata": {},
   "source": [
    "***Вывод:***\n",
    "\n",
    "В данных встречается достаточно много пропусков, типы данных не во всех столбцах корректны. Названия столбцов предстоит привести к нижнему регистру."
   ]
  },
  {
   "cell_type": "markdown",
   "id": "161569bc",
   "metadata": {},
   "source": [
    "### Подготовка данных"
   ]
  },
  {
   "cell_type": "markdown",
   "id": "cbc80831",
   "metadata": {},
   "source": [
    "1) Для начала приведем названия столбцов к нижнему регистру:"
   ]
  },
  {
   "cell_type": "code",
   "execution_count": 4,
   "id": "a17065c1",
   "metadata": {
    "scrolled": true
   },
   "outputs": [
    {
     "data": {
      "text/html": [
       "<div>\n",
       "<style scoped>\n",
       "    .dataframe tbody tr th:only-of-type {\n",
       "        vertical-align: middle;\n",
       "    }\n",
       "\n",
       "    .dataframe tbody tr th {\n",
       "        vertical-align: top;\n",
       "    }\n",
       "\n",
       "    .dataframe thead th {\n",
       "        text-align: right;\n",
       "    }\n",
       "</style>\n",
       "<table border=\"1\" class=\"dataframe\">\n",
       "  <thead>\n",
       "    <tr style=\"text-align: right;\">\n",
       "      <th></th>\n",
       "      <th>name</th>\n",
       "      <th>platform</th>\n",
       "      <th>year_of_release</th>\n",
       "      <th>genre</th>\n",
       "      <th>na_sales</th>\n",
       "      <th>eu_sales</th>\n",
       "      <th>jp_sales</th>\n",
       "      <th>other_sales</th>\n",
       "      <th>critic_score</th>\n",
       "      <th>user_score</th>\n",
       "      <th>rating</th>\n",
       "    </tr>\n",
       "  </thead>\n",
       "  <tbody>\n",
       "    <tr>\n",
       "      <th>0</th>\n",
       "      <td>Wii Sports</td>\n",
       "      <td>Wii</td>\n",
       "      <td>2006.0</td>\n",
       "      <td>Sports</td>\n",
       "      <td>41.36</td>\n",
       "      <td>28.96</td>\n",
       "      <td>3.77</td>\n",
       "      <td>8.45</td>\n",
       "      <td>76.0</td>\n",
       "      <td>8</td>\n",
       "      <td>E</td>\n",
       "    </tr>\n",
       "    <tr>\n",
       "      <th>1</th>\n",
       "      <td>Super Mario Bros.</td>\n",
       "      <td>NES</td>\n",
       "      <td>1985.0</td>\n",
       "      <td>Platform</td>\n",
       "      <td>29.08</td>\n",
       "      <td>3.58</td>\n",
       "      <td>6.81</td>\n",
       "      <td>0.77</td>\n",
       "      <td>NaN</td>\n",
       "      <td>NaN</td>\n",
       "      <td>NaN</td>\n",
       "    </tr>\n",
       "    <tr>\n",
       "      <th>2</th>\n",
       "      <td>Mario Kart Wii</td>\n",
       "      <td>Wii</td>\n",
       "      <td>2008.0</td>\n",
       "      <td>Racing</td>\n",
       "      <td>15.68</td>\n",
       "      <td>12.76</td>\n",
       "      <td>3.79</td>\n",
       "      <td>3.29</td>\n",
       "      <td>82.0</td>\n",
       "      <td>8.3</td>\n",
       "      <td>E</td>\n",
       "    </tr>\n",
       "    <tr>\n",
       "      <th>3</th>\n",
       "      <td>Wii Sports Resort</td>\n",
       "      <td>Wii</td>\n",
       "      <td>2009.0</td>\n",
       "      <td>Sports</td>\n",
       "      <td>15.61</td>\n",
       "      <td>10.93</td>\n",
       "      <td>3.28</td>\n",
       "      <td>2.95</td>\n",
       "      <td>80.0</td>\n",
       "      <td>8</td>\n",
       "      <td>E</td>\n",
       "    </tr>\n",
       "    <tr>\n",
       "      <th>4</th>\n",
       "      <td>Pokemon Red/Pokemon Blue</td>\n",
       "      <td>GB</td>\n",
       "      <td>1996.0</td>\n",
       "      <td>Role-Playing</td>\n",
       "      <td>11.27</td>\n",
       "      <td>8.89</td>\n",
       "      <td>10.22</td>\n",
       "      <td>1.00</td>\n",
       "      <td>NaN</td>\n",
       "      <td>NaN</td>\n",
       "      <td>NaN</td>\n",
       "    </tr>\n",
       "  </tbody>\n",
       "</table>\n",
       "</div>"
      ],
      "text/plain": [
       "                       name platform  year_of_release         genre  na_sales  \\\n",
       "0                Wii Sports      Wii           2006.0        Sports     41.36   \n",
       "1         Super Mario Bros.      NES           1985.0      Platform     29.08   \n",
       "2            Mario Kart Wii      Wii           2008.0        Racing     15.68   \n",
       "3         Wii Sports Resort      Wii           2009.0        Sports     15.61   \n",
       "4  Pokemon Red/Pokemon Blue       GB           1996.0  Role-Playing     11.27   \n",
       "\n",
       "   eu_sales  jp_sales  other_sales  critic_score user_score rating  \n",
       "0     28.96      3.77         8.45          76.0          8      E  \n",
       "1      3.58      6.81         0.77           NaN        NaN    NaN  \n",
       "2     12.76      3.79         3.29          82.0        8.3      E  \n",
       "3     10.93      3.28         2.95          80.0          8      E  \n",
       "4      8.89     10.22         1.00           NaN        NaN    NaN  "
      ]
     },
     "execution_count": 4,
     "metadata": {},
     "output_type": "execute_result"
    }
   ],
   "source": [
    "data.columns = data.columns.str.lower()\n",
    "data.head()"
   ]
  },
  {
   "cell_type": "markdown",
   "id": "a7a33de0",
   "metadata": {},
   "source": [
    "2) Обработаем пропуски:\n",
    "* заметим, что в столбце `name` и `genre` всего два пропуска - выведем эти строки на экран;"
   ]
  },
  {
   "cell_type": "code",
   "execution_count": 5,
   "id": "b4969bce",
   "metadata": {},
   "outputs": [
    {
     "data": {
      "text/html": [
       "<div>\n",
       "<style scoped>\n",
       "    .dataframe tbody tr th:only-of-type {\n",
       "        vertical-align: middle;\n",
       "    }\n",
       "\n",
       "    .dataframe tbody tr th {\n",
       "        vertical-align: top;\n",
       "    }\n",
       "\n",
       "    .dataframe thead th {\n",
       "        text-align: right;\n",
       "    }\n",
       "</style>\n",
       "<table border=\"1\" class=\"dataframe\">\n",
       "  <thead>\n",
       "    <tr style=\"text-align: right;\">\n",
       "      <th></th>\n",
       "      <th>name</th>\n",
       "      <th>platform</th>\n",
       "      <th>year_of_release</th>\n",
       "      <th>genre</th>\n",
       "      <th>na_sales</th>\n",
       "      <th>eu_sales</th>\n",
       "      <th>jp_sales</th>\n",
       "      <th>other_sales</th>\n",
       "      <th>critic_score</th>\n",
       "      <th>user_score</th>\n",
       "      <th>rating</th>\n",
       "    </tr>\n",
       "  </thead>\n",
       "  <tbody>\n",
       "    <tr>\n",
       "      <th>659</th>\n",
       "      <td>NaN</td>\n",
       "      <td>GEN</td>\n",
       "      <td>1993.0</td>\n",
       "      <td>NaN</td>\n",
       "      <td>1.78</td>\n",
       "      <td>0.53</td>\n",
       "      <td>0.00</td>\n",
       "      <td>0.08</td>\n",
       "      <td>NaN</td>\n",
       "      <td>NaN</td>\n",
       "      <td>NaN</td>\n",
       "    </tr>\n",
       "    <tr>\n",
       "      <th>14244</th>\n",
       "      <td>NaN</td>\n",
       "      <td>GEN</td>\n",
       "      <td>1993.0</td>\n",
       "      <td>NaN</td>\n",
       "      <td>0.00</td>\n",
       "      <td>0.00</td>\n",
       "      <td>0.03</td>\n",
       "      <td>0.00</td>\n",
       "      <td>NaN</td>\n",
       "      <td>NaN</td>\n",
       "      <td>NaN</td>\n",
       "    </tr>\n",
       "  </tbody>\n",
       "</table>\n",
       "</div>"
      ],
      "text/plain": [
       "      name platform  year_of_release genre  na_sales  eu_sales  jp_sales  \\\n",
       "659    NaN      GEN           1993.0   NaN      1.78      0.53      0.00   \n",
       "14244  NaN      GEN           1993.0   NaN      0.00      0.00      0.03   \n",
       "\n",
       "       other_sales  critic_score user_score rating  \n",
       "659           0.08           NaN        NaN    NaN  \n",
       "14244         0.00           NaN        NaN    NaN  "
      ]
     },
     "execution_count": 5,
     "metadata": {},
     "output_type": "execute_result"
    }
   ],
   "source": [
    "data[data['name'].isna()]"
   ]
  },
  {
   "cell_type": "markdown",
   "id": "a655184f",
   "metadata": {},
   "source": [
    "Информации об этих играх практически нет - ни названия, ни жанра, ни оценок, ни рейтинга. Кроме того, продажи достаточно низкие. Удалим эти данные, так как их информативность практически нулевая."
   ]
  },
  {
   "cell_type": "code",
   "execution_count": 6,
   "id": "086925b8",
   "metadata": {},
   "outputs": [
    {
     "name": "stdout",
     "output_type": "stream",
     "text": [
      "<class 'pandas.core.frame.DataFrame'>\n",
      "RangeIndex: 16713 entries, 0 to 16712\n",
      "Data columns (total 11 columns):\n",
      " #   Column           Non-Null Count  Dtype  \n",
      "---  ------           --------------  -----  \n",
      " 0   name             16713 non-null  object \n",
      " 1   platform         16713 non-null  object \n",
      " 2   year_of_release  16444 non-null  float64\n",
      " 3   genre            16713 non-null  object \n",
      " 4   na_sales         16713 non-null  float64\n",
      " 5   eu_sales         16713 non-null  float64\n",
      " 6   jp_sales         16713 non-null  float64\n",
      " 7   other_sales      16713 non-null  float64\n",
      " 8   critic_score     8137 non-null   float64\n",
      " 9   user_score       10014 non-null  object \n",
      " 10  rating           9949 non-null   object \n",
      "dtypes: float64(6), object(5)\n",
      "memory usage: 1.4+ MB\n"
     ]
    }
   ],
   "source": [
    "data = data.drop(labels=[659, 14244], axis=0)\n",
    "data = data.reset_index(drop=True)\n",
    "data.info()"
   ]
  },
  {
   "cell_type": "markdown",
   "id": "30b08f17",
   "metadata": {},
   "source": [
    "* в столбце `year_of_release` пропусков не так много, но заменить их на медиану или среднее было бы не очень коректно - лучше оставить как есть"
   ]
  },
  {
   "cell_type": "markdown",
   "id": "90a2be2c",
   "metadata": {},
   "source": [
    "В столбце `user_score` тип данных **object**, что вызывает подозрения. Посмотрим на уникальные значения этого столбца:"
   ]
  },
  {
   "cell_type": "code",
   "execution_count": 7,
   "id": "0e680de4",
   "metadata": {},
   "outputs": [
    {
     "data": {
      "text/plain": [
       "array(['8', nan, '8.3', '8.5', '6.6', '8.4', '8.6', '7.7', '6.3', '7.4',\n",
       "       '8.2', '9', '7.9', '8.1', '8.7', '7.1', '3.4', '5.3', '4.8', '3.2',\n",
       "       '8.9', '6.4', '7.8', '7.5', '2.6', '7.2', '9.2', '7', '7.3', '4.3',\n",
       "       '7.6', '5.7', '5', '9.1', '6.5', 'tbd', '8.8', '6.9', '9.4', '6.8',\n",
       "       '6.1', '6.7', '5.4', '4', '4.9', '4.5', '9.3', '6.2', '4.2', '6',\n",
       "       '3.7', '4.1', '5.8', '5.6', '5.5', '4.4', '4.6', '5.9', '3.9',\n",
       "       '3.1', '2.9', '5.2', '3.3', '4.7', '5.1', '3.5', '2.5', '1.9', '3',\n",
       "       '2.7', '2.2', '2', '9.5', '2.1', '3.6', '2.8', '1.8', '3.8', '0',\n",
       "       '1.6', '9.6', '2.4', '1.7', '1.1', '0.3', '1.5', '0.7', '1.2',\n",
       "       '2.3', '0.5', '1.3', '0.2', '0.6', '1.4', '0.9', '1', '9.7'],\n",
       "      dtype=object)"
      ]
     },
     "execution_count": 7,
     "metadata": {},
     "output_type": "execute_result"
    }
   ],
   "source": [
    "data['user_score'].unique()"
   ]
  },
  {
   "cell_type": "markdown",
   "id": "cc2730a9",
   "metadata": {},
   "source": [
    "Видим строковое значение **tbd**. Оказывается, что TBD - аббревиатура от английского To Be Determined (будет определено) или To Be Decided (будет решено). Используется, если какая-то информация еще не определена или решение по вопросу не принято. Получается, оценок было недостаточно для составления рейтинга. \n",
    "\n",
    "* так как в столбце `user_score` есть нулевой рейтинг, то заменять пропуски и **tbd**-значения нулями не стоит. Заменим эти значения, например, на ***-1***, чтобы не присваивать неверные оценки и, в то же время, не оставлять проспуски. Таким образом,  ***-1*** будет сигнализировать о том, что информации в конкретной ячейке нет;"
   ]
  },
  {
   "cell_type": "code",
   "execution_count": 8,
   "id": "0cc3f7ea",
   "metadata": {},
   "outputs": [],
   "source": [
    "data.loc[data['user_score'] == 'tbd', 'user_score'] = -1\n",
    "data['user_score'] = data['user_score'].fillna(-1)"
   ]
  },
  {
   "cell_type": "markdown",
   "id": "50b92f13",
   "metadata": {},
   "source": [
    "* так же поступим со столбцом `critic_score`;"
   ]
  },
  {
   "cell_type": "code",
   "execution_count": 9,
   "id": "9bba7466",
   "metadata": {},
   "outputs": [],
   "source": [
    "data['critic_score'] = data['critic_score'].fillna(-1)"
   ]
  },
  {
   "cell_type": "markdown",
   "id": "138f0773",
   "metadata": {},
   "source": [
    "* в столбце `rating` заменим пропуски на строковое значение **nan**;"
   ]
  },
  {
   "cell_type": "code",
   "execution_count": 10,
   "id": "49cbb6d0",
   "metadata": {},
   "outputs": [],
   "source": [
    "data['rating'] = data['rating'].fillna('nan')"
   ]
  },
  {
   "cell_type": "markdown",
   "id": "7b058588",
   "metadata": {},
   "source": [
    "3) Изменим типы данных в следующих столбцах:\n",
    "* в столбце `year_of_release` изменим тип данных на **int**, так как в нем указан год выпуска - целое число;"
   ]
  },
  {
   "cell_type": "code",
   "execution_count": 11,
   "id": "d457455a",
   "metadata": {},
   "outputs": [],
   "source": [
    "data['year_of_release'] = data['year_of_release'].astype('Int64')"
   ]
  },
  {
   "cell_type": "markdown",
   "id": "dfdb931c",
   "metadata": {},
   "source": [
    "* в столбце `user_score` изменим тип данных на **float**;"
   ]
  },
  {
   "cell_type": "code",
   "execution_count": 12,
   "id": "785d966f",
   "metadata": {},
   "outputs": [],
   "source": [
    "data['user_score'] = data['user_score'].astype('float')"
   ]
  },
  {
   "cell_type": "code",
   "execution_count": 13,
   "id": "2a5b8634",
   "metadata": {},
   "outputs": [
    {
     "data": {
      "text/plain": [
       "array([76., -1., 82., 80., 89., 58., 87., 91., 61., 97., 95., 77., 88.,\n",
       "       83., 94., 93., 85., 86., 98., 96., 90., 84., 73., 74., 78., 92.,\n",
       "       71., 72., 68., 62., 49., 67., 81., 66., 56., 79., 70., 59., 64.,\n",
       "       75., 60., 63., 69., 50., 25., 42., 44., 55., 48., 57., 29., 47.,\n",
       "       65., 54., 20., 53., 37., 38., 33., 52., 30., 32., 43., 45., 51.,\n",
       "       40., 46., 39., 34., 35., 41., 36., 28., 31., 27., 26., 19., 23.,\n",
       "       24., 21., 17., 22., 13.])"
      ]
     },
     "execution_count": 13,
     "metadata": {},
     "output_type": "execute_result"
    }
   ],
   "source": [
    "data['critic_score'].unique()"
   ]
  },
  {
   "cell_type": "markdown",
   "id": "53bc2b19",
   "metadata": {},
   "source": [
    "Посмотрев на уникальные значения колонки `critic_score`, приходим к выводу, что все значения целочисленные. Смело меняем тип данных на **int**:"
   ]
  },
  {
   "cell_type": "code",
   "execution_count": 14,
   "id": "7c29a46d",
   "metadata": {},
   "outputs": [],
   "source": [
    "data['critic_score'] = data['critic_score'].astype('int64')"
   ]
  },
  {
   "cell_type": "code",
   "execution_count": 15,
   "id": "3a4eef82",
   "metadata": {},
   "outputs": [
    {
     "data": {
      "text/html": [
       "<div>\n",
       "<style scoped>\n",
       "    .dataframe tbody tr th:only-of-type {\n",
       "        vertical-align: middle;\n",
       "    }\n",
       "\n",
       "    .dataframe tbody tr th {\n",
       "        vertical-align: top;\n",
       "    }\n",
       "\n",
       "    .dataframe thead th {\n",
       "        text-align: right;\n",
       "    }\n",
       "</style>\n",
       "<table border=\"1\" class=\"dataframe\">\n",
       "  <thead>\n",
       "    <tr style=\"text-align: right;\">\n",
       "      <th></th>\n",
       "      <th>name</th>\n",
       "      <th>platform</th>\n",
       "      <th>year_of_release</th>\n",
       "      <th>genre</th>\n",
       "      <th>na_sales</th>\n",
       "      <th>eu_sales</th>\n",
       "      <th>jp_sales</th>\n",
       "      <th>other_sales</th>\n",
       "      <th>critic_score</th>\n",
       "      <th>user_score</th>\n",
       "      <th>rating</th>\n",
       "    </tr>\n",
       "  </thead>\n",
       "  <tbody>\n",
       "    <tr>\n",
       "      <th>0</th>\n",
       "      <td>Wii Sports</td>\n",
       "      <td>Wii</td>\n",
       "      <td>2006</td>\n",
       "      <td>Sports</td>\n",
       "      <td>41.36</td>\n",
       "      <td>28.96</td>\n",
       "      <td>3.77</td>\n",
       "      <td>8.45</td>\n",
       "      <td>76</td>\n",
       "      <td>8.0</td>\n",
       "      <td>E</td>\n",
       "    </tr>\n",
       "    <tr>\n",
       "      <th>1</th>\n",
       "      <td>Super Mario Bros.</td>\n",
       "      <td>NES</td>\n",
       "      <td>1985</td>\n",
       "      <td>Platform</td>\n",
       "      <td>29.08</td>\n",
       "      <td>3.58</td>\n",
       "      <td>6.81</td>\n",
       "      <td>0.77</td>\n",
       "      <td>-1</td>\n",
       "      <td>-1.0</td>\n",
       "      <td>nan</td>\n",
       "    </tr>\n",
       "    <tr>\n",
       "      <th>2</th>\n",
       "      <td>Mario Kart Wii</td>\n",
       "      <td>Wii</td>\n",
       "      <td>2008</td>\n",
       "      <td>Racing</td>\n",
       "      <td>15.68</td>\n",
       "      <td>12.76</td>\n",
       "      <td>3.79</td>\n",
       "      <td>3.29</td>\n",
       "      <td>82</td>\n",
       "      <td>8.3</td>\n",
       "      <td>E</td>\n",
       "    </tr>\n",
       "    <tr>\n",
       "      <th>3</th>\n",
       "      <td>Wii Sports Resort</td>\n",
       "      <td>Wii</td>\n",
       "      <td>2009</td>\n",
       "      <td>Sports</td>\n",
       "      <td>15.61</td>\n",
       "      <td>10.93</td>\n",
       "      <td>3.28</td>\n",
       "      <td>2.95</td>\n",
       "      <td>80</td>\n",
       "      <td>8.0</td>\n",
       "      <td>E</td>\n",
       "    </tr>\n",
       "    <tr>\n",
       "      <th>4</th>\n",
       "      <td>Pokemon Red/Pokemon Blue</td>\n",
       "      <td>GB</td>\n",
       "      <td>1996</td>\n",
       "      <td>Role-Playing</td>\n",
       "      <td>11.27</td>\n",
       "      <td>8.89</td>\n",
       "      <td>10.22</td>\n",
       "      <td>1.00</td>\n",
       "      <td>-1</td>\n",
       "      <td>-1.0</td>\n",
       "      <td>nan</td>\n",
       "    </tr>\n",
       "  </tbody>\n",
       "</table>\n",
       "</div>"
      ],
      "text/plain": [
       "                       name platform  year_of_release         genre  na_sales  \\\n",
       "0                Wii Sports      Wii             2006        Sports     41.36   \n",
       "1         Super Mario Bros.      NES             1985      Platform     29.08   \n",
       "2            Mario Kart Wii      Wii             2008        Racing     15.68   \n",
       "3         Wii Sports Resort      Wii             2009        Sports     15.61   \n",
       "4  Pokemon Red/Pokemon Blue       GB             1996  Role-Playing     11.27   \n",
       "\n",
       "   eu_sales  jp_sales  other_sales  critic_score  user_score rating  \n",
       "0     28.96      3.77         8.45            76         8.0      E  \n",
       "1      3.58      6.81         0.77            -1        -1.0    nan  \n",
       "2     12.76      3.79         3.29            82         8.3      E  \n",
       "3     10.93      3.28         2.95            80         8.0      E  \n",
       "4      8.89     10.22         1.00            -1        -1.0    nan  "
      ]
     },
     "metadata": {},
     "output_type": "display_data"
    },
    {
     "name": "stdout",
     "output_type": "stream",
     "text": [
      "<class 'pandas.core.frame.DataFrame'>\n",
      "RangeIndex: 16713 entries, 0 to 16712\n",
      "Data columns (total 11 columns):\n",
      " #   Column           Non-Null Count  Dtype  \n",
      "---  ------           --------------  -----  \n",
      " 0   name             16713 non-null  object \n",
      " 1   platform         16713 non-null  object \n",
      " 2   year_of_release  16444 non-null  Int64  \n",
      " 3   genre            16713 non-null  object \n",
      " 4   na_sales         16713 non-null  float64\n",
      " 5   eu_sales         16713 non-null  float64\n",
      " 6   jp_sales         16713 non-null  float64\n",
      " 7   other_sales      16713 non-null  float64\n",
      " 8   critic_score     16713 non-null  int64  \n",
      " 9   user_score       16713 non-null  float64\n",
      " 10  rating           16713 non-null  object \n",
      "dtypes: Int64(1), float64(5), int64(1), object(4)\n",
      "memory usage: 1.4+ MB\n"
     ]
    }
   ],
   "source": [
    "display(data.head())\n",
    "data.info()"
   ]
  },
  {
   "cell_type": "markdown",
   "id": "f2be724f",
   "metadata": {},
   "source": [
    "Теперь типы данных более подходящие для дальнейшей работы, пропуски по возможности заполнены, можно приступать к расчетам и анализу данных."
   ]
  },
  {
   "cell_type": "markdown",
   "id": "eabd266d",
   "metadata": {},
   "source": [
    "4) Посчитаем суммарные продажи во всех регионах и запишем их в отдельный столбец:"
   ]
  },
  {
   "cell_type": "code",
   "execution_count": 16,
   "id": "13548cfc",
   "metadata": {},
   "outputs": [
    {
     "data": {
      "text/html": [
       "<div>\n",
       "<style scoped>\n",
       "    .dataframe tbody tr th:only-of-type {\n",
       "        vertical-align: middle;\n",
       "    }\n",
       "\n",
       "    .dataframe tbody tr th {\n",
       "        vertical-align: top;\n",
       "    }\n",
       "\n",
       "    .dataframe thead th {\n",
       "        text-align: right;\n",
       "    }\n",
       "</style>\n",
       "<table border=\"1\" class=\"dataframe\">\n",
       "  <thead>\n",
       "    <tr style=\"text-align: right;\">\n",
       "      <th></th>\n",
       "      <th>name</th>\n",
       "      <th>platform</th>\n",
       "      <th>year_of_release</th>\n",
       "      <th>genre</th>\n",
       "      <th>na_sales</th>\n",
       "      <th>eu_sales</th>\n",
       "      <th>jp_sales</th>\n",
       "      <th>other_sales</th>\n",
       "      <th>critic_score</th>\n",
       "      <th>user_score</th>\n",
       "      <th>rating</th>\n",
       "      <th>total_sales</th>\n",
       "    </tr>\n",
       "  </thead>\n",
       "  <tbody>\n",
       "    <tr>\n",
       "      <th>0</th>\n",
       "      <td>Wii Sports</td>\n",
       "      <td>Wii</td>\n",
       "      <td>2006</td>\n",
       "      <td>Sports</td>\n",
       "      <td>41.36</td>\n",
       "      <td>28.96</td>\n",
       "      <td>3.77</td>\n",
       "      <td>8.45</td>\n",
       "      <td>76</td>\n",
       "      <td>8.0</td>\n",
       "      <td>E</td>\n",
       "      <td>82.54</td>\n",
       "    </tr>\n",
       "    <tr>\n",
       "      <th>1</th>\n",
       "      <td>Super Mario Bros.</td>\n",
       "      <td>NES</td>\n",
       "      <td>1985</td>\n",
       "      <td>Platform</td>\n",
       "      <td>29.08</td>\n",
       "      <td>3.58</td>\n",
       "      <td>6.81</td>\n",
       "      <td>0.77</td>\n",
       "      <td>-1</td>\n",
       "      <td>-1.0</td>\n",
       "      <td>nan</td>\n",
       "      <td>40.24</td>\n",
       "    </tr>\n",
       "    <tr>\n",
       "      <th>2</th>\n",
       "      <td>Mario Kart Wii</td>\n",
       "      <td>Wii</td>\n",
       "      <td>2008</td>\n",
       "      <td>Racing</td>\n",
       "      <td>15.68</td>\n",
       "      <td>12.76</td>\n",
       "      <td>3.79</td>\n",
       "      <td>3.29</td>\n",
       "      <td>82</td>\n",
       "      <td>8.3</td>\n",
       "      <td>E</td>\n",
       "      <td>35.52</td>\n",
       "    </tr>\n",
       "    <tr>\n",
       "      <th>3</th>\n",
       "      <td>Wii Sports Resort</td>\n",
       "      <td>Wii</td>\n",
       "      <td>2009</td>\n",
       "      <td>Sports</td>\n",
       "      <td>15.61</td>\n",
       "      <td>10.93</td>\n",
       "      <td>3.28</td>\n",
       "      <td>2.95</td>\n",
       "      <td>80</td>\n",
       "      <td>8.0</td>\n",
       "      <td>E</td>\n",
       "      <td>32.77</td>\n",
       "    </tr>\n",
       "    <tr>\n",
       "      <th>4</th>\n",
       "      <td>Pokemon Red/Pokemon Blue</td>\n",
       "      <td>GB</td>\n",
       "      <td>1996</td>\n",
       "      <td>Role-Playing</td>\n",
       "      <td>11.27</td>\n",
       "      <td>8.89</td>\n",
       "      <td>10.22</td>\n",
       "      <td>1.00</td>\n",
       "      <td>-1</td>\n",
       "      <td>-1.0</td>\n",
       "      <td>nan</td>\n",
       "      <td>31.38</td>\n",
       "    </tr>\n",
       "  </tbody>\n",
       "</table>\n",
       "</div>"
      ],
      "text/plain": [
       "                       name platform  year_of_release         genre  na_sales  \\\n",
       "0                Wii Sports      Wii             2006        Sports     41.36   \n",
       "1         Super Mario Bros.      NES             1985      Platform     29.08   \n",
       "2            Mario Kart Wii      Wii             2008        Racing     15.68   \n",
       "3         Wii Sports Resort      Wii             2009        Sports     15.61   \n",
       "4  Pokemon Red/Pokemon Blue       GB             1996  Role-Playing     11.27   \n",
       "\n",
       "   eu_sales  jp_sales  other_sales  critic_score  user_score rating  \\\n",
       "0     28.96      3.77         8.45            76         8.0      E   \n",
       "1      3.58      6.81         0.77            -1        -1.0    nan   \n",
       "2     12.76      3.79         3.29            82         8.3      E   \n",
       "3     10.93      3.28         2.95            80         8.0      E   \n",
       "4      8.89     10.22         1.00            -1        -1.0    nan   \n",
       "\n",
       "   total_sales  \n",
       "0        82.54  \n",
       "1        40.24  \n",
       "2        35.52  \n",
       "3        32.77  \n",
       "4        31.38  "
      ]
     },
     "execution_count": 16,
     "metadata": {},
     "output_type": "execute_result"
    }
   ],
   "source": [
    "data['total_sales'] = data['na_sales'] + data['eu_sales'] + data['jp_sales'] + data['other_sales']\n",
    "data.head()"
   ]
  },
  {
   "cell_type": "markdown",
   "id": "a28b3acc",
   "metadata": {},
   "source": [
    "### Исследовательский анализ данных"
   ]
  },
  {
   "cell_type": "markdown",
   "id": "9c99d9c7",
   "metadata": {},
   "source": [
    "1) Построим гисторгамму распределения по годам выпуска игр:"
   ]
  },
  {
   "cell_type": "code",
   "execution_count": 17,
   "id": "87961e4d",
   "metadata": {},
   "outputs": [
    {
     "data": {
      "text/plain": [
       "<AxesSubplot:>"
      ]
     },
     "execution_count": 17,
     "metadata": {},
     "output_type": "execute_result"
    },
    {
     "data": {
      "image/png": "[encoded data removed]",
      "text/plain": [
       "<Figure size 504x360 with 1 Axes>"
      ]
     },
     "metadata": {
      "needs_background": "light"
     },
     "output_type": "display_data"
    }
   ],
   "source": [
    "data['year_of_release'].hist(bins=38, figsize=(7, 5))"
   ]
  },
  {
   "cell_type": "markdown",
   "id": "88530335",
   "metadata": {},
   "source": [
    "***Вывод:***\n",
    "\n",
    "Из гистограммы видно, что до 1994-го года было выпущено достаточно мало игр. Пик наблюдается в 2009-2010 годах, далее - спад. "
   ]
  },
  {
   "cell_type": "markdown",
   "id": "bee962a3",
   "metadata": {},
   "source": [
    "2) Далее выделим платформы с наибольшими суммарными продажами при помощи гистограммы:"
   ]
  },
  {
   "cell_type": "code",
   "execution_count": 18,
   "id": "c1747b9e",
   "metadata": {},
   "outputs": [
    {
     "data": {
      "text/plain": [
       "<matplotlib.legend.Legend at 0x7f835bb23970>"
      ]
     },
     "execution_count": 18,
     "metadata": {},
     "output_type": "execute_result"
    },
    {
     "data": {
      "image/png": "[encoded data removed]",
      "text/plain": [
       "<Figure size 504x504 with 1 Axes>"
      ]
     },
     "metadata": {
      "needs_background": "light"
     },
     "output_type": "display_data"
    }
   ],
   "source": [
    "(data.pivot_table(index='platform', values='total_sales', aggfunc='sum')\n",
    " .sort_values(by='total_sales', ascending=False)\n",
    " .plot(kind='bar', figsize=(7, 7)).legend())"
   ]
  },
  {
   "cell_type": "markdown",
   "id": "0d7614ef",
   "metadata": {},
   "source": [
    "***Вывод:***\n",
    "\n",
    "По графику хорошо видно топ-6 платформ - **PS2**, **X360**, **PS3**, **Wii**, **DS**, **PS**. Выделим их в отдельную таблицу:"
   ]
  },
  {
   "cell_type": "code",
   "execution_count": 19,
   "id": "c86a118f",
   "metadata": {},
   "outputs": [],
   "source": [
    "top = ['PS2', 'X360', 'PS3', 'Wii', 'DS', 'PS']"
   ]
  },
  {
   "cell_type": "code",
   "execution_count": 20,
   "id": "da5a0807",
   "metadata": {},
   "outputs": [],
   "source": [
    "top_platform = data[data['platform'].isin(top)]"
   ]
  },
  {
   "cell_type": "markdown",
   "id": "25774adb",
   "metadata": {},
   "source": [
    "3) Посмотрим, за какой характерный срок появляются новые и исчезают старые платформы:"
   ]
  },
  {
   "cell_type": "code",
   "execution_count": 21,
   "id": "25a44172",
   "metadata": {},
   "outputs": [
    {
     "data": {
      "text/plain": [
       "<AxesSubplot:xlabel='year_of_release'>"
      ]
     },
     "execution_count": 21,
     "metadata": {},
     "output_type": "execute_result"
    },
    {
     "data": {
      "image/png": "[encoded data removed]",
      "text/plain": [
       "<Figure size 1080x504 with 1 Axes>"
      ]
     },
     "metadata": {
      "needs_background": "light"
     },
     "output_type": "display_data"
    }
   ],
   "source": [
    "(top_platform.pivot_table(index='year_of_release', columns = 'platform', values='name', aggfunc='count')\n",
    " .plot(style='o-', figsize=(15, 7), grid=True))"
   ]
  },
  {
   "cell_type": "markdown",
   "id": "b914b225",
   "metadata": {},
   "source": [
    "***Вывод:***\n",
    "\n",
    "* платформа **DS** выпускала игры с 2004 года до 2013 (появилась в 1985г., однако данных до 2004 нет);\n",
    "* платформа **PS** выпускала игры с 1994 года до 2003 (9 лет);\n",
    "* платформа **PS2** выпускала игры с 2000 года до 2011 (11 лет);\n",
    "* платформа **PS3** выпускала игры с 2006 года до настоящего времени, однако игр выпускает все меньше;\n",
    "* платформа **Wii** выпускала игры с 2006 года до 2016 (10 лет);\n",
    "* платформа **X360** выпускала игры с 2005 года до до настоящего времени, однако игр выпускает все меньше;\n",
    "\n",
    "Выходит, каждая платформа живет в среднем 10 лет."
   ]
  },
  {
   "cell_type": "markdown",
   "id": "93f607e2",
   "metadata": {},
   "source": [
    "4) Теперь выделим *актуальный период*. Так как рынок игровых платформ достаточно динамичен, то для прогнозирования продаж выделим временной интервал длиной в три года. Будем считать началом *актуального периода* 2013 год, а концом сам 2016 год."
   ]
  },
  {
   "cell_type": "code",
   "execution_count": 22,
   "id": "8955ba8d",
   "metadata": {
    "scrolled": true
   },
   "outputs": [
    {
     "data": {
      "text/html": [
       "<div>\n",
       "<style scoped>\n",
       "    .dataframe tbody tr th:only-of-type {\n",
       "        vertical-align: middle;\n",
       "    }\n",
       "\n",
       "    .dataframe tbody tr th {\n",
       "        vertical-align: top;\n",
       "    }\n",
       "\n",
       "    .dataframe thead th {\n",
       "        text-align: right;\n",
       "    }\n",
       "</style>\n",
       "<table border=\"1\" class=\"dataframe\">\n",
       "  <thead>\n",
       "    <tr style=\"text-align: right;\">\n",
       "      <th></th>\n",
       "      <th>name</th>\n",
       "      <th>platform</th>\n",
       "      <th>year_of_release</th>\n",
       "      <th>genre</th>\n",
       "      <th>na_sales</th>\n",
       "      <th>eu_sales</th>\n",
       "      <th>jp_sales</th>\n",
       "      <th>other_sales</th>\n",
       "      <th>critic_score</th>\n",
       "      <th>user_score</th>\n",
       "      <th>rating</th>\n",
       "      <th>total_sales</th>\n",
       "    </tr>\n",
       "  </thead>\n",
       "  <tbody>\n",
       "    <tr>\n",
       "      <th>31</th>\n",
       "      <td>Call of Duty: Black Ops 3</td>\n",
       "      <td>PS4</td>\n",
       "      <td>2015</td>\n",
       "      <td>Shooter</td>\n",
       "      <td>6.03</td>\n",
       "      <td>5.86</td>\n",
       "      <td>0.36</td>\n",
       "      <td>2.38</td>\n",
       "      <td>-1</td>\n",
       "      <td>-1.0</td>\n",
       "      <td>nan</td>\n",
       "      <td>14.63</td>\n",
       "    </tr>\n",
       "    <tr>\n",
       "      <th>42</th>\n",
       "      <td>Grand Theft Auto V</td>\n",
       "      <td>PS4</td>\n",
       "      <td>2014</td>\n",
       "      <td>Action</td>\n",
       "      <td>3.96</td>\n",
       "      <td>6.31</td>\n",
       "      <td>0.38</td>\n",
       "      <td>1.97</td>\n",
       "      <td>97</td>\n",
       "      <td>8.3</td>\n",
       "      <td>M</td>\n",
       "      <td>12.62</td>\n",
       "    </tr>\n",
       "    <tr>\n",
       "      <th>47</th>\n",
       "      <td>Pokemon Omega Ruby/Pokemon Alpha Sapphire</td>\n",
       "      <td>3DS</td>\n",
       "      <td>2014</td>\n",
       "      <td>Role-Playing</td>\n",
       "      <td>4.35</td>\n",
       "      <td>3.49</td>\n",
       "      <td>3.10</td>\n",
       "      <td>0.74</td>\n",
       "      <td>-1</td>\n",
       "      <td>-1.0</td>\n",
       "      <td>nan</td>\n",
       "      <td>11.68</td>\n",
       "    </tr>\n",
       "    <tr>\n",
       "      <th>77</th>\n",
       "      <td>FIFA 16</td>\n",
       "      <td>PS4</td>\n",
       "      <td>2015</td>\n",
       "      <td>Sports</td>\n",
       "      <td>1.12</td>\n",
       "      <td>6.12</td>\n",
       "      <td>0.06</td>\n",
       "      <td>1.28</td>\n",
       "      <td>82</td>\n",
       "      <td>4.3</td>\n",
       "      <td>E</td>\n",
       "      <td>8.58</td>\n",
       "    </tr>\n",
       "    <tr>\n",
       "      <th>87</th>\n",
       "      <td>Star Wars Battlefront (2015)</td>\n",
       "      <td>PS4</td>\n",
       "      <td>2015</td>\n",
       "      <td>Shooter</td>\n",
       "      <td>2.99</td>\n",
       "      <td>3.49</td>\n",
       "      <td>0.22</td>\n",
       "      <td>1.28</td>\n",
       "      <td>-1</td>\n",
       "      <td>-1.0</td>\n",
       "      <td>nan</td>\n",
       "      <td>7.98</td>\n",
       "    </tr>\n",
       "  </tbody>\n",
       "</table>\n",
       "</div>"
      ],
      "text/plain": [
       "                                         name platform  year_of_release  \\\n",
       "31                  Call of Duty: Black Ops 3      PS4             2015   \n",
       "42                         Grand Theft Auto V      PS4             2014   \n",
       "47  Pokemon Omega Ruby/Pokemon Alpha Sapphire      3DS             2014   \n",
       "77                                    FIFA 16      PS4             2015   \n",
       "87               Star Wars Battlefront (2015)      PS4             2015   \n",
       "\n",
       "           genre  na_sales  eu_sales  jp_sales  other_sales  critic_score  \\\n",
       "31       Shooter      6.03      5.86      0.36         2.38            -1   \n",
       "42        Action      3.96      6.31      0.38         1.97            97   \n",
       "47  Role-Playing      4.35      3.49      3.10         0.74            -1   \n",
       "77        Sports      1.12      6.12      0.06         1.28            82   \n",
       "87       Shooter      2.99      3.49      0.22         1.28            -1   \n",
       "\n",
       "    user_score rating  total_sales  \n",
       "31        -1.0    nan        14.63  \n",
       "42         8.3      M        12.62  \n",
       "47        -1.0    nan        11.68  \n",
       "77         4.3      E         8.58  \n",
       "87        -1.0    nan         7.98  "
      ]
     },
     "execution_count": 22,
     "metadata": {},
     "output_type": "execute_result"
    }
   ],
   "source": [
    "period = data[data['year_of_release'] >= 2014]\n",
    "period.head()"
   ]
  },
  {
   "cell_type": "markdown",
   "id": "822ceb9f",
   "metadata": {},
   "source": [
    "Посмотрим на продажи в конце 2016 года и выделим лидеров:"
   ]
  },
  {
   "cell_type": "code",
   "execution_count": 23,
   "id": "cc187664",
   "metadata": {
    "scrolled": false
   },
   "outputs": [
    {
     "data": {
      "text/plain": [
       "<AxesSubplot:xlabel='platform'>"
      ]
     },
     "execution_count": 23,
     "metadata": {},
     "output_type": "execute_result"
    },
    {
     "data": {
      "image/png": "[encoded data removed]",
      "text/plain": [
       "<Figure size 1080x576 with 1 Axes>"
      ]
     },
     "metadata": {
      "needs_background": "light"
     },
     "output_type": "display_data"
    },
    {
     "data": {
      "image/png": "[encoded data removed]",
      "text/plain": [
       "<Figure size 432x288 with 1 Axes>"
      ]
     },
     "metadata": {
      "needs_background": "light"
     },
     "output_type": "display_data"
    }
   ],
   "source": [
    "(period.pivot_table(index='year_of_release', columns = 'platform', values='name', aggfunc='count')\n",
    " .plot(style='o-', figsize=(15, 8), grid=True, alpha=0.7))\n",
    "period[period['year_of_release'] > 2015].pivot_table(index=['platform'], values='name', aggfunc='count').sort_values(by='name', ascending=False).plot(kind='bar')"
   ]
  },
  {
   "cell_type": "markdown",
   "id": "1a46c544",
   "metadata": {},
   "source": [
    "***Вывод:***\n",
    "\n",
    "Можно выделить восемь лидеров по продажам на конец 2016 года:\n",
    "* **PS4**\n",
    "* **XOne**\n",
    "* **PSV**\n",
    "* **PC**\n",
    "* **3DS**\n",
    "* **PS3**\n",
    "* **WiiU**\n",
    "* **X360**\n",
    "\n",
    "Так же отметим, что рынок игр в целом падает."
   ]
  },
  {
   "cell_type": "markdown",
   "id": "08c7e0eb",
   "metadata": {},
   "source": [
    "Далее будем работать только с лидирующими платформами."
   ]
  },
  {
   "cell_type": "code",
   "execution_count": 24,
   "id": "b36831af",
   "metadata": {},
   "outputs": [],
   "source": [
    "leaders = ['PS4', 'XOne', 'PSV', 'PC', '3DS', 'PS3', 'WiiU', 'X360']\n",
    "period = period[period['platform'].isin(leaders)]"
   ]
  },
  {
   "cell_type": "markdown",
   "id": "800de164",
   "metadata": {},
   "source": [
    "5) Построим график «ящик с усами» по глобальным продажам игр за актуальный период:"
   ]
  },
  {
   "cell_type": "code",
   "execution_count": 25,
   "id": "0e21f1c9",
   "metadata": {},
   "outputs": [
    {
     "data": {
      "text/plain": [
       "(0.0, 3.0)"
      ]
     },
     "execution_count": 25,
     "metadata": {},
     "output_type": "execute_result"
    },
    {
     "data": {
      "image/png": "[encoded data removed]",
      "text/plain": [
       "<Figure size 1080x504 with 1 Axes>"
      ]
     },
     "metadata": {
      "needs_background": "light"
     },
     "output_type": "display_data"
    }
   ],
   "source": [
    "period.boxplot(column='total_sales', figsize=(15, 7))\n",
    "plt.ylim(0, 3)"
   ]
  },
  {
   "cell_type": "markdown",
   "id": "52a6e208",
   "metadata": {},
   "source": [
    "***Вывод:***\n",
    "\n",
    "Суммарные продажи игр в среднем составляют до 0,8 млн долларов, медиана - 0,2 млн."
   ]
  },
  {
   "cell_type": "markdown",
   "id": "d2e57cf6",
   "metadata": {},
   "source": [
    "Построим графики «ящик с усами» по глобальным продажам игр в разбивке по платформам за актуальный период:"
   ]
  },
  {
   "cell_type": "code",
   "execution_count": 26,
   "id": "5ed59c9c",
   "metadata": {},
   "outputs": [
    {
     "data": {
      "text/plain": [
       "(0.0, 3.0)"
      ]
     },
     "execution_count": 26,
     "metadata": {},
     "output_type": "execute_result"
    },
    {
     "data": {
      "image/png": "[encoded data removed]",
      "text/plain": [
       "<Figure size 1080x504 with 1 Axes>"
      ]
     },
     "metadata": {
      "needs_background": "light"
     },
     "output_type": "display_data"
    }
   ],
   "source": [
    "period.boxplot(column='total_sales', by='platform', figsize=(15, 7))\n",
    "plt.ylim(0, 3)"
   ]
  },
  {
   "cell_type": "markdown",
   "id": "b189456e",
   "metadata": {},
   "source": [
    "***Вывод:***\n",
    "\n",
    "Медиана лидирующих платформ \"скачет\" от 0,1 до 0,25 млн долларов. Наибольшую прибыль приносят **PS4**, **XOne** и **WiiU** - до 1,6 млн. Самыми неприбылиными оказались платформы **PSV** и **PC** - их медиана всего 0,1 млн, а максимальная прибыль - 0,2-0,4 млн."
   ]
  },
  {
   "cell_type": "markdown",
   "id": "e44d26ff",
   "metadata": {},
   "source": [
    "6) Посмотрим, как влияют на продажи внутри одной популярной платформы отзывы пользователей и критиков. Для примера возьмем **PS4**:"
   ]
  },
  {
   "cell_type": "code",
   "execution_count": 27,
   "id": "6910d3eb",
   "metadata": {},
   "outputs": [],
   "source": [
    "ps4 = period[(period['platform'] == 'PS4') & (period['critic_score'] >= 0) & (period['user_score'] >= 0)]"
   ]
  },
  {
   "cell_type": "markdown",
   "id": "aeb38609",
   "metadata": {},
   "source": [
    "Построим диаграмму рассеивания зависимости продаж от оценки критиков:"
   ]
  },
  {
   "cell_type": "code",
   "execution_count": 28,
   "id": "5a053a37",
   "metadata": {},
   "outputs": [
    {
     "data": {
      "text/plain": [
       "<AxesSubplot:xlabel='critic_score', ylabel='total_sales'>"
      ]
     },
     "execution_count": 28,
     "metadata": {},
     "output_type": "execute_result"
    },
    {
     "data": {
      "image/png": "[encoded data removed]",
      "text/plain": [
       "<Figure size 1080x504 with 1 Axes>"
      ]
     },
     "metadata": {
      "needs_background": "light"
     },
     "output_type": "display_data"
    }
   ],
   "source": [
    "ps4.plot(x='critic_score', y='total_sales', kind='scatter', alpha = 0.7, grid=True, figsize=(15, 7))"
   ]
  },
  {
   "cell_type": "markdown",
   "id": "d052adcc",
   "metadata": {},
   "source": [
    "***Вывод:***\n",
    "\n",
    "Чем выше оценки критиков - тем больше продаж."
   ]
  },
  {
   "cell_type": "markdown",
   "id": "3ea17bed",
   "metadata": {},
   "source": [
    "Построим диаграмму рассеивания зависимости продаж от оценки пользователей:"
   ]
  },
  {
   "cell_type": "code",
   "execution_count": 29,
   "id": "2908b179",
   "metadata": {},
   "outputs": [
    {
     "data": {
      "text/plain": [
       "<AxesSubplot:xlabel='user_score', ylabel='total_sales'>"
      ]
     },
     "execution_count": 29,
     "metadata": {},
     "output_type": "execute_result"
    },
    {
     "data": {
      "image/png": "[encoded data removed]",
      "text/plain": [
       "<Figure size 1080x504 with 1 Axes>"
      ]
     },
     "metadata": {
      "needs_background": "light"
     },
     "output_type": "display_data"
    }
   ],
   "source": [
    "ps4.plot(x='user_score', y='total_sales', kind='scatter', grid=True, alpha = 0.7, figsize=(15, 7))"
   ]
  },
  {
   "cell_type": "markdown",
   "id": "532c40ec",
   "metadata": {},
   "source": [
    "***Вывод:***\n",
    "\n",
    "С увеличением оценок пользователей, увеличиваются и продажи. Однако складывается впечатление, что данная зависимость слабее зависимости продаж от оценок критиков.\n",
    "\n",
    "Проверим предположение, посчитав коэффициенты корреляции:"
   ]
  },
  {
   "cell_type": "code",
   "execution_count": 30,
   "id": "b54c19bb",
   "metadata": {},
   "outputs": [
    {
     "name": "stdout",
     "output_type": "stream",
     "text": [
      "Корреляция между отзывами критиков и продажами: 0.40190287811475334\n",
      "Корреляция между отзывами пользователей и продажами: -0.04318585997193634\n"
     ]
    }
   ],
   "source": [
    "print('Корреляция между отзывами критиков и продажами:', ps4['critic_score'].corr(ps4['total_sales']))\n",
    "print('Корреляция между отзывами пользователей и продажами:', ps4['user_score'].corr(ps4['total_sales']))"
   ]
  },
  {
   "cell_type": "markdown",
   "id": "7005532f",
   "metadata": {},
   "source": [
    "***Вывод:***\n",
    "\n",
    "Положительные коэффициенты корреляции говорят о том, что обе зависимости прямые. Но корреляция между отзывами критиков и продажами достаточно сильно выше корреляции между отзывами пользователей и продажами, что говорит о том, что оценки критиков намного сильнее влияют на решение о покупке игры."
   ]
  },
  {
   "cell_type": "markdown",
   "id": "6b70d5f8",
   "metadata": {},
   "source": [
    "7) Посмотрим на корреляцию между отзывами критиков/пользователей и продажами на остальных платформах.\n",
    "\n",
    "Напишем функцию для подсчета коэффициента корреляции:"
   ]
  },
  {
   "cell_type": "code",
   "execution_count": 31,
   "id": "8b1b1667",
   "metadata": {},
   "outputs": [],
   "source": [
    "def corr(platform):\n",
    "    for i in platform:\n",
    "        x = period[(period['platform'] == i) & (period['critic_score'] > 0) & (period['user_score'] > 0)]\n",
    "        print('Критики и продажи для', i, ':', x['critic_score'].corr(x['total_sales']))\n",
    "        print('Пользователи и продажи для', i, ':', x['user_score'].corr(x['total_sales']))\n",
    "        print()"
   ]
  },
  {
   "cell_type": "code",
   "execution_count": 32,
   "id": "d1c6345a",
   "metadata": {},
   "outputs": [
    {
     "name": "stdout",
     "output_type": "stream",
     "text": [
      "Критики и продажи для PS4 : 0.40190287811475334\n",
      "Пользователи и продажи для PS4 : -0.04318585997193634\n",
      "\n",
      "Критики и продажи для XOne : 0.42211185105557647\n",
      "Пользователи и продажи для XOne : -0.0917343450331075\n",
      "\n",
      "Критики и продажи для PSV : 0.04102908974171329\n",
      "Пользователи и продажи для PSV : 0.023528216599023048\n",
      "\n",
      "Критики и продажи для PC : 0.17206091490145103\n",
      "Пользователи и продажи для PC : -0.08997391228554938\n",
      "\n",
      "Критики и продажи для 3DS : 0.28468579095782925\n",
      "Пользователи и продажи для 3DS : 0.2798498792503281\n",
      "\n",
      "Критики и продажи для PS3 : 0.44657460493190704\n",
      "Пользователи и продажи для PS3 : 0.15659516181359956\n",
      "\n",
      "Критики и продажи для WiiU : 0.3756402218389979\n",
      "Пользователи и продажи для WiiU : 0.4114513876908575\n",
      "\n",
      "Критики и продажи для X360 : 0.5257228356581523\n",
      "Пользователи и продажи для X360 : 0.33651362483599345\n",
      "\n"
     ]
    }
   ],
   "source": [
    "leaders = ['PS4', 'XOne', 'PSV', 'PC', '3DS', 'PS3', 'WiiU', 'X360']\n",
    "corr(leaders)"
   ]
  },
  {
   "cell_type": "markdown",
   "id": "bd5ed90e",
   "metadata": {},
   "source": [
    "***Вывод:***\n",
    "\n",
    "Данные по всем платформам немного различаются от данных по **PS3**. Например, у таких платформ, как **PS4**, **XOne** и **PC** корреляция между оценками пользователей и продажами хоть и небольшая по модулю, но отрицательная, что говорит об обратной зависимости."
   ]
  },
  {
   "cell_type": "markdown",
   "id": "eca47612",
   "metadata": {},
   "source": [
    "8) Посмотрим на распределение игр по жанрам.\n",
    "\n",
    "Сначала проанализируем зависимость суммарных продаж от жанров:"
   ]
  },
  {
   "cell_type": "code",
   "execution_count": 33,
   "id": "7a972f95",
   "metadata": {},
   "outputs": [
    {
     "data": {
      "text/plain": [
       "<AxesSubplot:xlabel='genre'>"
      ]
     },
     "execution_count": 33,
     "metadata": {},
     "output_type": "execute_result"
    },
    {
     "data": {
      "image/png": "[encoded data removed]",
      "text/plain": [
       "<Figure size 504x504 with 1 Axes>"
      ]
     },
     "metadata": {
      "needs_background": "light"
     },
     "output_type": "display_data"
    }
   ],
   "source": [
    "(period.pivot_table(index='genre', values='total_sales', aggfunc='median')\n",
    " .sort_values(by='total_sales', ascending=False)\n",
    " .plot(kind='bar', figsize=(7, 7), grid=True))"
   ]
  },
  {
   "cell_type": "markdown",
   "id": "5a3e4770",
   "metadata": {},
   "source": [
    "***Вывод:***\n",
    "\n",
    "Наибольший медианный доход приносят жанры **Shooter** и **Sports**. Наименьший - **Adventure**.\n",
    "\n",
    "Далее посмторим на количество игр по жанрам:"
   ]
  },
  {
   "cell_type": "code",
   "execution_count": 34,
   "id": "fb998359",
   "metadata": {},
   "outputs": [
    {
     "data": {
      "text/plain": [
       "<AxesSubplot:xlabel='genre'>"
      ]
     },
     "execution_count": 34,
     "metadata": {},
     "output_type": "execute_result"
    },
    {
     "data": {
      "image/png": "[encoded data removed]",
      "text/plain": [
       "<Figure size 504x504 with 1 Axes>"
      ]
     },
     "metadata": {
      "needs_background": "light"
     },
     "output_type": "display_data"
    }
   ],
   "source": [
    "(period.pivot_table(index='genre', values='name', aggfunc='count')\n",
    " .sort_values(by='name', ascending=False)\n",
    " .plot(kind='bar', figsize=(7, 7), grid=True))"
   ]
  },
  {
   "cell_type": "markdown",
   "id": "c4e008c4",
   "metadata": {},
   "source": [
    "***Вывод:***\n",
    "\n",
    "Безусловным лидером по количеству игр становится жанр **Action**, a в самом конце **Puzzle**."
   ]
  },
  {
   "cell_type": "markdown",
   "id": "1980da56",
   "metadata": {},
   "source": [
    "###  Составление портрета пользователя каждого региона"
   ]
  },
  {
   "cell_type": "markdown",
   "id": "34186b98",
   "metadata": {},
   "source": [
    "Определим для пользователя каждого региона (NA, EU, JP):\n",
    "* самые популярные платформы (топ-5);\n",
    "* самые популярные жанры (топ-5);\n",
    "* влияние рейтинга ESRB на продажи в отдельном регионе.\n",
    "\n",
    "Напишем функцию для построения гистограмм:"
   ]
  },
  {
   "cell_type": "code",
   "execution_count": 35,
   "id": "1ca03710",
   "metadata": {},
   "outputs": [],
   "source": [
    "def region(column1, column2, x):\n",
    "    pivot = period.pivot_table(index=column1, values=column2, aggfunc=x).sort_values(by=column2, ascending=False)\n",
    "    name = (column2 + ' / ' + column1).replace('_', ' ')\n",
    "    return pivot.plot(kind='bar', title=name, grid=True, figsize=(5, 5))"
   ]
  },
  {
   "cell_type": "markdown",
   "id": "a4797c27",
   "metadata": {},
   "source": [
    "1) Выделим топ-5 платформ для каждого региона\n",
    "\n",
    "Определим топ-5 платформ для Северной Америки:"
   ]
  },
  {
   "cell_type": "code",
   "execution_count": 36,
   "id": "00834750",
   "metadata": {
    "scrolled": false
   },
   "outputs": [
    {
     "data": {
      "text/plain": [
       "<AxesSubplot:title={'center':'na sales / platform'}, xlabel='platform'>"
      ]
     },
     "execution_count": 36,
     "metadata": {},
     "output_type": "execute_result"
    },
    {
     "data": {
      "image/png": "[encoded data removed]",
      "text/plain": [
       "<Figure size 360x360 with 1 Axes>"
      ]
     },
     "metadata": {
      "needs_background": "light"
     },
     "output_type": "display_data"
    }
   ],
   "source": [
    "region('platform', 'na_sales', 'sum')"
   ]
  },
  {
   "cell_type": "markdown",
   "id": "b1e3a664",
   "metadata": {},
   "source": [
    "Судя по графику, безусловным лидером становится  **PS4**, на втором месте - **XOne**. Доли продаж остальных платформ сильно ниже.\n",
    "\n",
    "Выделим следущие пять платформ:\n",
    "* **PS4**\n",
    "* **XOne**\n",
    "* **X360**\n",
    "* **3DS**\n",
    "* **PS3**"
   ]
  },
  {
   "cell_type": "markdown",
   "id": "a406a148",
   "metadata": {},
   "source": [
    "Определим топ-5 платформ для Европы: "
   ]
  },
  {
   "cell_type": "code",
   "execution_count": 37,
   "id": "378ef98d",
   "metadata": {},
   "outputs": [
    {
     "data": {
      "text/plain": [
       "<AxesSubplot:title={'center':'eu sales / platform'}, xlabel='platform'>"
      ]
     },
     "execution_count": 37,
     "metadata": {},
     "output_type": "execute_result"
    },
    {
     "data": {
      "image/png": "[encoded data removed]",
      "text/plain": [
       "<Figure size 360x360 with 1 Axes>"
      ]
     },
     "metadata": {
      "needs_background": "light"
     },
     "output_type": "display_data"
    }
   ],
   "source": [
    "region('platform', 'eu_sales', 'sum')"
   ]
  },
  {
   "cell_type": "markdown",
   "id": "5b75e8f0",
   "metadata": {},
   "source": [
    "Судя по графику, безусловным лидером становится  **PS4**, на втором месте - **XOne**. Доли продаж остальных платформ сильно ниже.\n",
    "\n",
    "Выделим следущие пять платформ:\n",
    "* **PS4**\n",
    "* **XOne**\n",
    "* **PS3**\n",
    "* **PC**\n",
    "* **3DS**"
   ]
  },
  {
   "cell_type": "markdown",
   "id": "3a9836d5",
   "metadata": {},
   "source": [
    "Определим топ-5 платформ для Японии: "
   ]
  },
  {
   "cell_type": "code",
   "execution_count": 38,
   "id": "c315f22e",
   "metadata": {},
   "outputs": [
    {
     "data": {
      "text/plain": [
       "<AxesSubplot:title={'center':'jp sales / platform'}, xlabel='platform'>"
      ]
     },
     "execution_count": 38,
     "metadata": {},
     "output_type": "execute_result"
    },
    {
     "data": {
      "image/png": "[encoded data removed]",
      "text/plain": [
       "<Figure size 360x360 with 1 Axes>"
      ]
     },
     "metadata": {
      "needs_background": "light"
     },
     "output_type": "display_data"
    }
   ],
   "source": [
    "region('platform', 'jp_sales', 'sum')"
   ]
  },
  {
   "cell_type": "markdown",
   "id": "916ffbf0",
   "metadata": {},
   "source": [
    "Судя по графику, безусловным лидером становится  **3DS**, на втором месте - **PS4**. Доли продаж остальных платформ сильно ниже.\n",
    "\n",
    "Выделим следущие пять платформ:\n",
    "* **3DS**\n",
    "* **PS4**\n",
    "* **PSV**\n",
    "* **PS3**\n",
    "* **WiiU**"
   ]
  },
  {
   "cell_type": "markdown",
   "id": "63c9c48f",
   "metadata": {},
   "source": [
    "***Вывыод:***\n",
    "\n",
    "Вкусы Северной Америки и Европы схожи - **PS4** и **XOne** безусловно лидируют. Разница лишь в том, что в Америке предпочитают **X360**, вместо **PC**.\n",
    "\n",
    "В Японии картина иная - на первом по популярности месте **3DS**, **XOne** вообще в топ не попал, зато добавились **PSV** и **WiiU**."
   ]
  },
  {
   "cell_type": "markdown",
   "id": "072508d1",
   "metadata": {},
   "source": [
    "2) Выделим топ-5 жанров для каждого региона\n",
    "\n",
    "Определим 5 самых популярных жанров для Северной Америки:"
   ]
  },
  {
   "cell_type": "code",
   "execution_count": 39,
   "id": "f4d887d4",
   "metadata": {},
   "outputs": [
    {
     "data": {
      "text/plain": [
       "<AxesSubplot:title={'center':'na sales / genre'}, xlabel='genre'>"
      ]
     },
     "execution_count": 39,
     "metadata": {},
     "output_type": "execute_result"
    },
    {
     "data": {
      "image/png": "[encoded data removed]",
      "text/plain": [
       "<Figure size 360x360 with 1 Axes>"
      ]
     },
     "metadata": {
      "needs_background": "light"
     },
     "output_type": "display_data"
    }
   ],
   "source": [
    "region('genre', 'na_sales', 'sum')"
   ]
  },
  {
   "cell_type": "markdown",
   "id": "a6d69f29",
   "metadata": {},
   "source": [
    "Судя по графику, безусловным лидером становится  **Shooter**, на втором месте - **Action**. Доли продаж остальных платформ сильно ниже.\n",
    "\n",
    "Выделим следущие пять платформ:\n",
    "* **Shooter**\n",
    "* **Action**\n",
    "* **Sports**\n",
    "* **Role-Playing**\n",
    "* **Misc**"
   ]
  },
  {
   "cell_type": "markdown",
   "id": "23ef49a3",
   "metadata": {},
   "source": [
    "Определим 5 самых популярных жанров для Европы:"
   ]
  },
  {
   "cell_type": "code",
   "execution_count": 40,
   "id": "c0235a77",
   "metadata": {},
   "outputs": [
    {
     "data": {
      "text/plain": [
       "<AxesSubplot:title={'center':'eu sales / genre'}, xlabel='genre'>"
      ]
     },
     "execution_count": 40,
     "metadata": {},
     "output_type": "execute_result"
    },
    {
     "data": {
      "image/png": "[encoded data removed]",
      "text/plain": [
       "<Figure size 360x360 with 1 Axes>"
      ]
     },
     "metadata": {
      "needs_background": "light"
     },
     "output_type": "display_data"
    }
   ],
   "source": [
    "region('genre', 'eu_sales', 'sum')"
   ]
  },
  {
   "cell_type": "markdown",
   "id": "ccbd2be7",
   "metadata": {},
   "source": [
    "Судя по графику, безусловным лидером становится  **Action**, на втором месте - **Shooter**. Доли продаж остальных платформ сильно ниже.\n",
    "\n",
    "Выделим следущие пять платформ:\n",
    "* **Action**\n",
    "* **Shooter**\n",
    "* **Sports**\n",
    "* **Role-Playing**\n",
    "* **Racing**"
   ]
  },
  {
   "cell_type": "markdown",
   "id": "73c96fa6",
   "metadata": {},
   "source": [
    "Определим 5 самых популярных жанров для Японии:"
   ]
  },
  {
   "cell_type": "code",
   "execution_count": 41,
   "id": "295d7775",
   "metadata": {},
   "outputs": [
    {
     "data": {
      "text/plain": [
       "<AxesSubplot:title={'center':'jp sales / genre'}, xlabel='genre'>"
      ]
     },
     "execution_count": 41,
     "metadata": {},
     "output_type": "execute_result"
    },
    {
     "data": {
      "image/png": "[encoded data removed]",
      "text/plain": [
       "<Figure size 360x360 with 1 Axes>"
      ]
     },
     "metadata": {
      "needs_background": "light"
     },
     "output_type": "display_data"
    }
   ],
   "source": [
    "region('genre', 'jp_sales', 'sum')"
   ]
  },
  {
   "cell_type": "markdown",
   "id": "7abc97e4",
   "metadata": {},
   "source": [
    "Судя по графику, безусловным лидером становится  **Role-Playing**, на втором месте - **Action**. Доли продаж остальных платформ сильно ниже.\n",
    "\n",
    "Выделим следущие пять платформ:\n",
    "* **Role-Playing**\n",
    "* **Action**\n",
    "* **Fighting**\n",
    "* **Misc**\n",
    "* **Shooter**"
   ]
  },
  {
   "cell_type": "markdown",
   "id": "bc0571cc",
   "metadata": {},
   "source": [
    "***Вывыод:***\n",
    "\n",
    "Вкусы Северной Америки и Европы схожи - **Action** и **Shooter** безусловно лидируют. Разница лишь в том, что в Америке предпочитают **Misc**, вместо **Racing**.\n",
    "\n",
    "В Японии картина иная - на первом по популярности месте **Role-Playing**."
   ]
  },
  {
   "cell_type": "markdown",
   "id": "685c69f8",
   "metadata": {},
   "source": [
    "3) Посмотрим, влияет ли рейтинг ESRB на продажи\n",
    "\n",
    "Для удобства работы с рейтингом, переведем его из условных обозначений в ранжировку по возрастам"
   ]
  },
  {
   "cell_type": "code",
   "execution_count": 42,
   "id": "7786cea5",
   "metadata": {},
   "outputs": [
    {
     "data": {
      "text/plain": [
       "array(['nan', 'M', 'E', 'T', 'E10+'], dtype=object)"
      ]
     },
     "execution_count": 42,
     "metadata": {},
     "output_type": "execute_result"
    }
   ],
   "source": [
    "period['rating'].unique()"
   ]
  },
  {
   "cell_type": "code",
   "execution_count": 43,
   "id": "754c78b1",
   "metadata": {},
   "outputs": [],
   "source": [
    "period.loc[period['rating'] == 'E', 'rating'] = '6+'\n",
    "period.loc[period['rating'] == 'M', 'rating'] = '17+'\n",
    "period.loc[period['rating'] == 'T', 'rating'] = '13+'\n",
    "period.loc[period['rating'] == 'E10+', 'rating'] = '10+'\n",
    "period.loc[period['rating'] == 'EC', 'rating'] = '3+'"
   ]
  },
  {
   "cell_type": "code",
   "execution_count": 44,
   "id": "aa780f02",
   "metadata": {},
   "outputs": [],
   "source": [
    "def pie(column1, column2, x):\n",
    "    pivot = period.pivot_table(index=column1, values=column2, aggfunc=x).sort_values(by=column2, ascending=False)\n",
    "    name = (column2 + ' / ' + column1).replace('_', ' ')\n",
    "    return pivot.plot(kind='pie', title=name, grid=True, figsize=(5, 5), subplots=True, autopct='%1.1f%%')"
   ]
  },
  {
   "cell_type": "markdown",
   "id": "2d41a60b",
   "metadata": {},
   "source": [
    "Для Америки:"
   ]
  },
  {
   "cell_type": "code",
   "execution_count": 45,
   "id": "403aac6b",
   "metadata": {},
   "outputs": [
    {
     "data": {
      "text/plain": [
       "array([<AxesSubplot:ylabel='na_sales'>], dtype=object)"
      ]
     },
     "execution_count": 45,
     "metadata": {},
     "output_type": "execute_result"
    },
    {
     "data": {
      "image/png": "[encoded data removed]",
      "text/plain": [
       "<Figure size 360x360 with 1 Axes>"
      ]
     },
     "metadata": {},
     "output_type": "display_data"
    }
   ],
   "source": [
    "pie('rating', 'na_sales', 'sum')"
   ]
  },
  {
   "cell_type": "markdown",
   "id": "4fcb4033",
   "metadata": {},
   "source": [
    "В Америке явно предпочитают игры 17+, на втором и третьем месте 13+ и 6+ соответственно."
   ]
  },
  {
   "cell_type": "markdown",
   "id": "5912a65f",
   "metadata": {},
   "source": [
    "Для Европы:"
   ]
  },
  {
   "cell_type": "code",
   "execution_count": 46,
   "id": "3d46ff92",
   "metadata": {},
   "outputs": [
    {
     "data": {
      "text/plain": [
       "array([<AxesSubplot:ylabel='eu_sales'>], dtype=object)"
      ]
     },
     "execution_count": 46,
     "metadata": {},
     "output_type": "execute_result"
    },
    {
     "data": {
      "image/png": "[encoded data removed]",
      "text/plain": [
       "<Figure size 360x360 with 1 Axes>"
      ]
     },
     "metadata": {},
     "output_type": "display_data"
    }
   ],
   "source": [
    "pie('rating', 'eu_sales', 'sum')"
   ]
  },
  {
   "cell_type": "markdown",
   "id": "3ff09593",
   "metadata": {},
   "source": [
    "В Европе ситуация не сильно отличается. На первом месте по прежнему игры 17+."
   ]
  },
  {
   "cell_type": "markdown",
   "id": "7fd068c0",
   "metadata": {},
   "source": [
    "Для Японии:"
   ]
  },
  {
   "cell_type": "code",
   "execution_count": 47,
   "id": "f5965ae6",
   "metadata": {},
   "outputs": [
    {
     "data": {
      "text/plain": [
       "array([<AxesSubplot:ylabel='jp_sales'>], dtype=object)"
      ]
     },
     "execution_count": 47,
     "metadata": {},
     "output_type": "execute_result"
    },
    {
     "data": {
      "image/png": "[encoded data removed]",
      "text/plain": [
       "<Figure size 360x360 with 1 Axes>"
      ]
     },
     "metadata": {},
     "output_type": "display_data"
    }
   ],
   "source": [
    "pie('rating', 'jp_sales', 'sum')"
   ]
  },
  {
   "cell_type": "markdown",
   "id": "3421b303",
   "metadata": {},
   "source": [
    "В Японии, как обычно, ситуация иная. Как бы это не выглядело странно - японцы предпочитают игры без рейтинга... На втором месте 13+, а 17+ уже на третьем."
   ]
  },
  {
   "cell_type": "markdown",
   "id": "52863072",
   "metadata": {},
   "source": [
    "### Проверка гипотез"
   ]
  },
  {
   "cell_type": "markdown",
   "id": "e336432d",
   "metadata": {},
   "source": [
    "1) Сформулируем гипотезы:\n",
    "\n",
    "Н0: Средние пользовательские рейтинги платформ **XOne** и **PC** равны;\n",
    "\n",
    "Н1: Средние пользовательские рейтинги платформ **XOne** и **PC** не равны.\n",
    "\n",
    "Воспользуемся методом scipy.stats.ttest_ind(array1, array2):"
   ]
  },
  {
   "cell_type": "code",
   "execution_count": 48,
   "id": "e6d61372",
   "metadata": {
    "scrolled": true
   },
   "outputs": [
    {
     "data": {
      "text/html": [
       "<div>\n",
       "<style scoped>\n",
       "    .dataframe tbody tr th:only-of-type {\n",
       "        vertical-align: middle;\n",
       "    }\n",
       "\n",
       "    .dataframe tbody tr th {\n",
       "        vertical-align: top;\n",
       "    }\n",
       "\n",
       "    .dataframe thead th {\n",
       "        text-align: right;\n",
       "    }\n",
       "</style>\n",
       "<table border=\"1\" class=\"dataframe\">\n",
       "  <thead>\n",
       "    <tr style=\"text-align: right;\">\n",
       "      <th></th>\n",
       "      <th>name</th>\n",
       "      <th>platform</th>\n",
       "      <th>year_of_release</th>\n",
       "      <th>genre</th>\n",
       "      <th>na_sales</th>\n",
       "      <th>eu_sales</th>\n",
       "      <th>jp_sales</th>\n",
       "      <th>other_sales</th>\n",
       "      <th>critic_score</th>\n",
       "      <th>user_score</th>\n",
       "      <th>rating</th>\n",
       "      <th>total_sales</th>\n",
       "    </tr>\n",
       "  </thead>\n",
       "  <tbody>\n",
       "    <tr>\n",
       "      <th>31</th>\n",
       "      <td>Call of Duty: Black Ops 3</td>\n",
       "      <td>PS4</td>\n",
       "      <td>2015</td>\n",
       "      <td>Shooter</td>\n",
       "      <td>6.03</td>\n",
       "      <td>5.86</td>\n",
       "      <td>0.36</td>\n",
       "      <td>2.38</td>\n",
       "      <td>-1</td>\n",
       "      <td>-1.0</td>\n",
       "      <td>nan</td>\n",
       "      <td>14.63</td>\n",
       "    </tr>\n",
       "    <tr>\n",
       "      <th>42</th>\n",
       "      <td>Grand Theft Auto V</td>\n",
       "      <td>PS4</td>\n",
       "      <td>2014</td>\n",
       "      <td>Action</td>\n",
       "      <td>3.96</td>\n",
       "      <td>6.31</td>\n",
       "      <td>0.38</td>\n",
       "      <td>1.97</td>\n",
       "      <td>97</td>\n",
       "      <td>8.3</td>\n",
       "      <td>17+</td>\n",
       "      <td>12.62</td>\n",
       "    </tr>\n",
       "    <tr>\n",
       "      <th>47</th>\n",
       "      <td>Pokemon Omega Ruby/Pokemon Alpha Sapphire</td>\n",
       "      <td>3DS</td>\n",
       "      <td>2014</td>\n",
       "      <td>Role-Playing</td>\n",
       "      <td>4.35</td>\n",
       "      <td>3.49</td>\n",
       "      <td>3.10</td>\n",
       "      <td>0.74</td>\n",
       "      <td>-1</td>\n",
       "      <td>-1.0</td>\n",
       "      <td>nan</td>\n",
       "      <td>11.68</td>\n",
       "    </tr>\n",
       "    <tr>\n",
       "      <th>77</th>\n",
       "      <td>FIFA 16</td>\n",
       "      <td>PS4</td>\n",
       "      <td>2015</td>\n",
       "      <td>Sports</td>\n",
       "      <td>1.12</td>\n",
       "      <td>6.12</td>\n",
       "      <td>0.06</td>\n",
       "      <td>1.28</td>\n",
       "      <td>82</td>\n",
       "      <td>4.3</td>\n",
       "      <td>6+</td>\n",
       "      <td>8.58</td>\n",
       "    </tr>\n",
       "    <tr>\n",
       "      <th>87</th>\n",
       "      <td>Star Wars Battlefront (2015)</td>\n",
       "      <td>PS4</td>\n",
       "      <td>2015</td>\n",
       "      <td>Shooter</td>\n",
       "      <td>2.99</td>\n",
       "      <td>3.49</td>\n",
       "      <td>0.22</td>\n",
       "      <td>1.28</td>\n",
       "      <td>-1</td>\n",
       "      <td>-1.0</td>\n",
       "      <td>nan</td>\n",
       "      <td>7.98</td>\n",
       "    </tr>\n",
       "  </tbody>\n",
       "</table>\n",
       "</div>"
      ],
      "text/plain": [
       "                                         name platform  year_of_release  \\\n",
       "31                  Call of Duty: Black Ops 3      PS4             2015   \n",
       "42                         Grand Theft Auto V      PS4             2014   \n",
       "47  Pokemon Omega Ruby/Pokemon Alpha Sapphire      3DS             2014   \n",
       "77                                    FIFA 16      PS4             2015   \n",
       "87               Star Wars Battlefront (2015)      PS4             2015   \n",
       "\n",
       "           genre  na_sales  eu_sales  jp_sales  other_sales  critic_score  \\\n",
       "31       Shooter      6.03      5.86      0.36         2.38            -1   \n",
       "42        Action      3.96      6.31      0.38         1.97            97   \n",
       "47  Role-Playing      4.35      3.49      3.10         0.74            -1   \n",
       "77        Sports      1.12      6.12      0.06         1.28            82   \n",
       "87       Shooter      2.99      3.49      0.22         1.28            -1   \n",
       "\n",
       "    user_score rating  total_sales  \n",
       "31        -1.0    nan        14.63  \n",
       "42         8.3    17+        12.62  \n",
       "47        -1.0    nan        11.68  \n",
       "77         4.3     6+         8.58  \n",
       "87        -1.0    nan         7.98  "
      ]
     },
     "execution_count": 48,
     "metadata": {},
     "output_type": "execute_result"
    }
   ],
   "source": [
    "period.head()"
   ]
  },
  {
   "cell_type": "code",
   "execution_count": 49,
   "id": "33faffd7",
   "metadata": {},
   "outputs": [
    {
     "name": "stdout",
     "output_type": "stream",
     "text": [
      "p-значение: 0.10450507919348415\n",
      "Не отвергаем нулевую гипотезу\n"
     ]
    }
   ],
   "source": [
    "xone_rating = period[(period['platform'] == 'XOne') & (period['user_score'] >= 0)]\n",
    "pc_rating = period[(period['platform'] == 'PC') & (period['user_score'] >= 0)]\n",
    "\n",
    "alpha = .05\n",
    "results = st.ttest_ind(xone_rating['user_score'], pc_rating['user_score'])\n",
    "print('p-значение:', results.pvalue)\n",
    "if results.pvalue < alpha:\n",
    "    print('Отвергаем нулевую гипотезу')\n",
    "else:\n",
    "    print('Не отвергаем нулевую гипотезу')"
   ]
  },
  {
   "cell_type": "code",
   "execution_count": 50,
   "id": "adf55123",
   "metadata": {},
   "outputs": [
    {
     "name": "stdout",
     "output_type": "stream",
     "text": [
      "Средний рейтинг XOne: 6.59\n",
      "Средний рейтинг PC: 6.3\n"
     ]
    }
   ],
   "source": [
    "print('Средний рейтинг XOne:', round(xone_rating['user_score'].mean(), 2))\n",
    "print('Средний рейтинг PC:',round(pc_rating['user_score'].mean(), 2))"
   ]
  },
  {
   "cell_type": "markdown",
   "id": "9862fcbc",
   "metadata": {},
   "source": [
    "***Вывод:***\n",
    "\n",
    "Нулевая гипотеза оказалась верна, принимаем гипотезу о том, что средние пользовательские рейтинги платформ **XOne** и **PC** равны. Рейтинг практически не отличается."
   ]
  },
  {
   "cell_type": "markdown",
   "id": "5d6f04a3",
   "metadata": {},
   "source": [
    "2) Сформулируем гипотезы:\n",
    "\n",
    "Н0: Средние пользовательские рейтинги жанров **Action** и **Sports** равны;\n",
    "\n",
    "Н1: Средние пользовательские рейтинги жанров **Action** и **Sports** не равны.\n",
    "\n",
    "Воспользуемся методом scipy.stats.ttest_ind(array1, array2):"
   ]
  },
  {
   "cell_type": "code",
   "execution_count": 51,
   "id": "b9fb68c6",
   "metadata": {},
   "outputs": [
    {
     "name": "stdout",
     "output_type": "stream",
     "text": [
      "p-значение: 5.345452934773537e-19\n",
      "Отвергаем нулевую гипотезу\n"
     ]
    }
   ],
   "source": [
    "action_rating = period[(period['genre'] == 'Action') & (period['user_score'] >= 0)]\n",
    "sports_rating = period[(period['genre'] == 'Sports') & (period['user_score'] >= 0)]\n",
    "\n",
    "alpha = .05\n",
    "results = st.ttest_ind(action_rating['user_score'], sports_rating['user_score'])\n",
    "print('p-значение:', results.pvalue)\n",
    "if results.pvalue < alpha:\n",
    "    print('Отвергаем нулевую гипотезу')\n",
    "else:\n",
    "    print('Не отвергаем нулевую гипотезу')"
   ]
  },
  {
   "cell_type": "code",
   "execution_count": 52,
   "id": "cac4887b",
   "metadata": {},
   "outputs": [
    {
     "name": "stdout",
     "output_type": "stream",
     "text": [
      "Средний рейтинг Action: 6.76\n",
      "Средний рейтинг Sports: 5.23\n"
     ]
    }
   ],
   "source": [
    "print('Средний рейтинг Action:', round(action_rating['user_score'].mean(), 2))\n",
    "print('Средний рейтинг Sports:',round(sports_rating['user_score'].mean(), 2))"
   ]
  },
  {
   "cell_type": "markdown",
   "id": "a61be651",
   "metadata": {},
   "source": [
    "***Вывод:***\n",
    "\n",
    "Нулевая гипотеза неверна, принимаем гипотезу о том, что средние пользовательские рейтинги жанров **Action** и **Sports** не равны. По рейтингу лидирует жанр **Sports**."
   ]
  },
  {
   "cell_type": "markdown",
   "id": "f736ba74",
   "metadata": {},
   "source": [
    "### Общий вывод"
   ]
  },
  {
   "cell_type": "markdown",
   "id": "e08fa4f3",
   "metadata": {},
   "source": [
    "Из проделанного анализа можно сделать следущие выводы:\n",
    "\n",
    "* в целом рынок игр находится в упадке;\n",
    "* лидирующими платформами оказались **PS4**, **XOne**, **PSV**, **PC**, **3DS**, **PS3**, **WiiU**, **X360**; при чем **PS4** сильно впереди остальных;\n",
    "* суммарные продажи игр в среднем составляют до 0,8 млн долларов, медиана - 0,2 млн;\n",
    "* медиана лидирующих платформ \"скачет\" от 0,1 до 0,25 млн долларов;\n",
    "* наибольшую прибыль приносят **PS4**, **XOne** и **WiiU** - до 1,6 млн; \n",
    "* самыми неприбылиными оказались платформы **PSV** и **PC** - их медиана всего 0,1 млн, а максимальная прибыль - 0,2-0,4 млн;\n",
    "* оценки критиков достаточно сильно влияют на решение о покупке игры, в отличае от оценок пользователей;\n",
    "* наибольший медианный доход приносят жанры **Shooter** и **Sports**, наименьший - **Adventure**;\n",
    "* по платформам вкусы Северной Америки и Европы схожи - **PS4** и **XOne** безусловно лидируют; разница лишь в том, что в Америке предпочитают **XOne**, вместо **PC**;\n",
    "* в Японии на первом по популярности месте **3DS**;\n",
    "* по жанрам вкусы Северной Америки и Европы так же схожи - **Action** и **Shooter** безусловно лидируют; разница лишь в том, что в Америке предпочитают **Misc**, вместо **Racing**.\n",
    "* в Японии на первом по популярности месте **Role-Playing**;\n",
    "* в Америке, как и в Европе предпочитают игры 17+, на втором и третьем месте 13+ и 6+ соответственно;\n",
    "* в Японии, скорее, предпочитают игры 13+;\n",
    "* средние пользовательские рейтинги платформ **XOne** и **PC** практически равны;\n",
    "* средний пользовательский рейтинг XOne: 6.59;\n",
    "* средний пользовательский рейтинг PC: 6.3;\n",
    "* средние пользовательские рейтинги жанров **Action** и **Sports** различаются;\n",
    "* средний рейтинг Action: 6.76;\n",
    "* средний рейтинг Sports: 5.23."
   ]
  }
 ],
 "metadata": {
  "ExecuteTimeLog": [
   {
    "duration": 1182,
    "start_time": "2022-04-14T15:09:19.868Z"
   },
   {
    "duration": 39,
    "start_time": "2022-04-14T15:09:21.052Z"
   },
   {
    "duration": 35,
    "start_time": "2022-04-14T15:09:21.093Z"
   },
   {
    "duration": 15,
    "start_time": "2022-04-14T15:09:21.131Z"
   },
   {
    "duration": 20,
    "start_time": "2022-04-14T15:09:21.148Z"
   },
   {
    "duration": 63,
    "start_time": "2022-04-14T15:09:21.171Z"
   },
   {
    "duration": 4,
    "start_time": "2022-04-14T15:09:21.236Z"
   },
   {
    "duration": 9,
    "start_time": "2022-04-14T15:09:21.242Z"
   },
   {
    "duration": 8,
    "start_time": "2022-04-14T15:09:21.252Z"
   },
   {
    "duration": 5,
    "start_time": "2022-04-14T15:09:21.263Z"
   },
   {
    "duration": 4,
    "start_time": "2022-04-14T15:09:21.270Z"
   },
   {
    "duration": 5,
    "start_time": "2022-04-14T15:09:21.276Z"
   },
   {
    "duration": 6,
    "start_time": "2022-04-14T15:09:21.282Z"
   },
   {
    "duration": 20,
    "start_time": "2022-04-14T15:09:21.290Z"
   },
   {
    "duration": 36,
    "start_time": "2022-04-14T15:09:21.311Z"
   },
   {
    "duration": 17,
    "start_time": "2022-04-14T15:09:21.348Z"
   },
   {
    "duration": 231,
    "start_time": "2022-04-14T15:09:21.367Z"
   },
   {
    "duration": 339,
    "start_time": "2022-04-14T15:09:21.600Z"
   },
   {
    "duration": 2,
    "start_time": "2022-04-14T15:09:21.941Z"
   },
   {
    "duration": 11,
    "start_time": "2022-04-14T15:09:21.945Z"
   },
   {
    "duration": 275,
    "start_time": "2022-04-14T15:09:21.957Z"
   },
   {
    "duration": 17,
    "start_time": "2022-04-14T15:09:22.235Z"
   },
   {
    "duration": 545,
    "start_time": "2022-04-14T15:09:22.253Z"
   },
   {
    "duration": 17,
    "start_time": "2022-04-14T15:09:22.799Z"
   },
   {
    "duration": 152,
    "start_time": "2022-04-14T15:09:22.818Z"
   },
   {
    "duration": 266,
    "start_time": "2022-04-14T15:09:22.972Z"
   },
   {
    "duration": 6,
    "start_time": "2022-04-14T15:09:23.240Z"
   },
   {
    "duration": 249,
    "start_time": "2022-04-14T15:09:23.249Z"
   },
   {
    "duration": 167,
    "start_time": "2022-04-14T15:09:23.499Z"
   },
   {
    "duration": 6,
    "start_time": "2022-04-14T15:09:23.667Z"
   },
   {
    "duration": 9,
    "start_time": "2022-04-14T15:09:23.675Z"
   },
   {
    "duration": 58,
    "start_time": "2022-04-14T15:09:23.685Z"
   },
   {
    "duration": 230,
    "start_time": "2022-04-14T15:09:23.745Z"
   },
   {
    "duration": 222,
    "start_time": "2022-04-14T15:09:23.977Z"
   },
   {
    "duration": 9,
    "start_time": "2022-04-14T15:09:24.206Z"
   },
   {
    "duration": 180,
    "start_time": "2022-04-14T15:09:24.217Z"
   },
   {
    "duration": 185,
    "start_time": "2022-04-14T15:09:24.398Z"
   },
   {
    "duration": 177,
    "start_time": "2022-04-14T15:09:24.584Z"
   },
   {
    "duration": 210,
    "start_time": "2022-04-14T15:09:24.762Z"
   },
   {
    "duration": 209,
    "start_time": "2022-04-14T15:09:24.973Z"
   },
   {
    "duration": 217,
    "start_time": "2022-04-14T15:09:25.183Z"
   },
   {
    "duration": 12,
    "start_time": "2022-04-14T15:09:25.401Z"
   },
   {
    "duration": 14,
    "start_time": "2022-04-14T15:09:25.417Z"
   },
   {
    "duration": 188,
    "start_time": "2022-04-14T15:09:25.433Z"
   },
   {
    "duration": 261,
    "start_time": "2022-04-14T15:09:25.624Z"
   },
   {
    "duration": 167,
    "start_time": "2022-04-14T15:09:25.887Z"
   },
   {
    "duration": 16,
    "start_time": "2022-04-14T15:09:26.056Z"
   },
   {
    "duration": 11,
    "start_time": "2022-04-14T15:09:26.074Z"
   },
   {
    "duration": 9,
    "start_time": "2022-04-14T15:09:26.108Z"
   },
   {
    "duration": 10,
    "start_time": "2022-04-14T15:09:26.120Z"
   },
   {
    "duration": 6,
    "start_time": "2022-04-14T15:09:26.132Z"
   },
   {
    "duration": 1277,
    "start_time": "2022-04-14T15:21:08.734Z"
   },
   {
    "duration": 44,
    "start_time": "2022-04-14T15:21:10.013Z"
   },
   {
    "duration": 33,
    "start_time": "2022-04-14T15:21:10.059Z"
   },
   {
    "duration": 30,
    "start_time": "2022-04-14T15:21:10.095Z"
   },
   {
    "duration": 18,
    "start_time": "2022-04-14T15:21:10.126Z"
   },
   {
    "duration": 19,
    "start_time": "2022-04-14T15:21:10.145Z"
   },
   {
    "duration": 6,
    "start_time": "2022-04-14T15:21:10.167Z"
   },
   {
    "duration": 41,
    "start_time": "2022-04-14T15:21:10.175Z"
   },
   {
    "duration": 7,
    "start_time": "2022-04-14T15:21:10.218Z"
   },
   {
    "duration": 8,
    "start_time": "2022-04-14T15:21:10.229Z"
   },
   {
    "duration": 7,
    "start_time": "2022-04-14T15:21:10.239Z"
   },
   {
    "duration": 6,
    "start_time": "2022-04-14T15:21:10.248Z"
   },
   {
    "duration": 6,
    "start_time": "2022-04-14T15:21:10.256Z"
   },
   {
    "duration": 5,
    "start_time": "2022-04-14T15:21:10.263Z"
   },
   {
    "duration": 62,
    "start_time": "2022-04-14T15:21:10.270Z"
   },
   {
    "duration": 18,
    "start_time": "2022-04-14T15:21:10.335Z"
   },
   {
    "duration": 233,
    "start_time": "2022-04-14T15:21:10.355Z"
   },
   {
    "duration": 329,
    "start_time": "2022-04-14T15:21:10.590Z"
   },
   {
    "duration": 3,
    "start_time": "2022-04-14T15:21:10.921Z"
   },
   {
    "duration": 8,
    "start_time": "2022-04-14T15:21:10.926Z"
   },
   {
    "duration": 282,
    "start_time": "2022-04-14T15:21:10.935Z"
   },
   {
    "duration": 18,
    "start_time": "2022-04-14T15:21:11.223Z"
   },
   {
    "duration": 575,
    "start_time": "2022-04-14T15:21:11.243Z"
   },
   {
    "duration": 7,
    "start_time": "2022-04-14T15:21:11.820Z"
   },
   {
    "duration": 158,
    "start_time": "2022-04-14T15:21:11.829Z"
   },
   {
    "duration": 562,
    "start_time": "2022-04-14T15:21:11.989Z"
   },
   {
    "duration": 62,
    "start_time": "2022-04-14T15:21:12.553Z"
   },
   {
    "duration": 522,
    "start_time": "2022-04-14T15:21:12.626Z"
   },
   {
    "duration": 377,
    "start_time": "2022-04-14T15:21:13.150Z"
   },
   {
    "duration": 8,
    "start_time": "2022-04-14T15:21:13.529Z"
   },
   {
    "duration": 5,
    "start_time": "2022-04-14T15:21:13.539Z"
   },
   {
    "duration": 97,
    "start_time": "2022-04-14T15:21:13.546Z"
   },
   {
    "duration": 473,
    "start_time": "2022-04-14T15:21:13.645Z"
   },
   {
    "duration": 258,
    "start_time": "2022-04-14T15:21:14.120Z"
   },
   {
    "duration": 4,
    "start_time": "2022-04-14T15:21:14.379Z"
   },
   {
    "duration": 203,
    "start_time": "2022-04-14T15:21:14.385Z"
   },
   {
    "duration": 211,
    "start_time": "2022-04-14T15:21:14.589Z"
   },
   {
    "duration": 190,
    "start_time": "2022-04-14T15:21:14.803Z"
   },
   {
    "duration": 240,
    "start_time": "2022-04-14T15:21:14.995Z"
   },
   {
    "duration": 218,
    "start_time": "2022-04-14T15:21:15.237Z"
   },
   {
    "duration": 237,
    "start_time": "2022-04-14T15:21:15.457Z"
   },
   {
    "duration": 20,
    "start_time": "2022-04-14T15:21:15.696Z"
   },
   {
    "duration": 12,
    "start_time": "2022-04-14T15:21:15.719Z"
   },
   {
    "duration": 186,
    "start_time": "2022-04-14T15:21:15.732Z"
   },
   {
    "duration": 278,
    "start_time": "2022-04-14T15:21:15.921Z"
   },
   {
    "duration": 177,
    "start_time": "2022-04-14T15:21:16.200Z"
   },
   {
    "duration": 16,
    "start_time": "2022-04-14T15:21:16.379Z"
   },
   {
    "duration": 15,
    "start_time": "2022-04-14T15:21:16.407Z"
   },
   {
    "duration": 5,
    "start_time": "2022-04-14T15:21:16.424Z"
   },
   {
    "duration": 11,
    "start_time": "2022-04-14T15:21:16.431Z"
   },
   {
    "duration": 6,
    "start_time": "2022-04-14T15:21:16.444Z"
   },
   {
    "duration": 1726,
    "start_time": "2022-04-19T13:05:48.395Z"
   },
   {
    "duration": 54,
    "start_time": "2022-04-19T13:05:50.124Z"
   },
   {
    "duration": 52,
    "start_time": "2022-04-19T13:05:50.180Z"
   },
   {
    "duration": 22,
    "start_time": "2022-04-19T13:05:50.235Z"
   },
   {
    "duration": 41,
    "start_time": "2022-04-19T13:05:50.260Z"
   },
   {
    "duration": 33,
    "start_time": "2022-04-19T13:05:50.303Z"
   },
   {
    "duration": 6,
    "start_time": "2022-04-19T13:05:50.338Z"
   },
   {
    "duration": 36,
    "start_time": "2022-04-19T13:05:50.346Z"
   },
   {
    "duration": 4,
    "start_time": "2022-04-19T13:05:50.384Z"
   },
   {
    "duration": 18,
    "start_time": "2022-04-19T13:05:50.390Z"
   },
   {
    "duration": 9,
    "start_time": "2022-04-19T13:05:50.410Z"
   },
   {
    "duration": 13,
    "start_time": "2022-04-19T13:05:50.421Z"
   },
   {
    "duration": 25,
    "start_time": "2022-04-19T13:05:50.436Z"
   },
   {
    "duration": 8,
    "start_time": "2022-04-19T13:05:50.465Z"
   },
   {
    "duration": 38,
    "start_time": "2022-04-19T13:05:50.475Z"
   },
   {
    "duration": 26,
    "start_time": "2022-04-19T13:05:50.515Z"
   },
   {
    "duration": 331,
    "start_time": "2022-04-19T13:05:50.543Z"
   },
   {
    "duration": 464,
    "start_time": "2022-04-19T13:05:50.876Z"
   },
   {
    "duration": 4,
    "start_time": "2022-04-19T13:05:51.342Z"
   },
   {
    "duration": 10,
    "start_time": "2022-04-19T13:05:51.349Z"
   },
   {
    "duration": 428,
    "start_time": "2022-04-19T13:05:51.362Z"
   },
   {
    "duration": 24,
    "start_time": "2022-04-19T13:05:51.793Z"
   },
   {
    "duration": 875,
    "start_time": "2022-04-19T13:05:51.819Z"
   },
   {
    "duration": 8,
    "start_time": "2022-04-19T13:05:52.697Z"
   },
   {
    "duration": 244,
    "start_time": "2022-04-19T13:05:52.707Z"
   },
   {
    "duration": 406,
    "start_time": "2022-04-19T13:05:52.953Z"
   },
   {
    "duration": 7,
    "start_time": "2022-04-19T13:05:53.362Z"
   },
   {
    "duration": 362,
    "start_time": "2022-04-19T13:05:53.371Z"
   },
   {
    "duration": 270,
    "start_time": "2022-04-19T13:05:53.735Z"
   },
   {
    "duration": 8,
    "start_time": "2022-04-19T13:05:54.007Z"
   },
   {
    "duration": 15,
    "start_time": "2022-04-19T13:05:54.017Z"
   },
   {
    "duration": 65,
    "start_time": "2022-04-19T13:05:54.035Z"
   },
   {
    "duration": 333,
    "start_time": "2022-04-19T13:05:54.102Z"
   },
   {
    "duration": 334,
    "start_time": "2022-04-19T13:05:54.437Z"
   },
   {
    "duration": 5,
    "start_time": "2022-04-19T13:05:54.781Z"
   },
   {
    "duration": 261,
    "start_time": "2022-04-19T13:05:54.788Z"
   },
   {
    "duration": 268,
    "start_time": "2022-04-19T13:05:55.052Z"
   },
   {
    "duration": 259,
    "start_time": "2022-04-19T13:05:55.322Z"
   },
   {
    "duration": 312,
    "start_time": "2022-04-19T13:05:55.584Z"
   },
   {
    "duration": 299,
    "start_time": "2022-04-19T13:05:55.898Z"
   },
   {
    "duration": 306,
    "start_time": "2022-04-19T13:05:56.203Z"
   },
   {
    "duration": 7,
    "start_time": "2022-04-19T13:05:56.511Z"
   },
   {
    "duration": 45,
    "start_time": "2022-04-19T13:05:56.520Z"
   },
   {
    "duration": 230,
    "start_time": "2022-04-19T13:05:56.567Z"
   },
   {
    "duration": 353,
    "start_time": "2022-04-19T13:05:56.799Z"
   },
   {
    "duration": 246,
    "start_time": "2022-04-19T13:05:57.155Z"
   },
   {
    "duration": 21,
    "start_time": "2022-04-19T13:05:57.404Z"
   },
   {
    "duration": 15,
    "start_time": "2022-04-19T13:05:57.427Z"
   },
   {
    "duration": 12,
    "start_time": "2022-04-19T13:05:57.444Z"
   },
   {
    "duration": 33,
    "start_time": "2022-04-19T13:05:57.458Z"
   },
   {
    "duration": 17,
    "start_time": "2022-04-19T13:05:57.494Z"
   },
   {
    "duration": 34,
    "start_time": "2022-04-19T13:14:38.373Z"
   },
   {
    "duration": 926,
    "start_time": "2022-04-19T13:15:00.629Z"
   },
   {
    "duration": 790,
    "start_time": "2022-04-19T13:18:02.573Z"
   },
   {
    "duration": 39,
    "start_time": "2022-04-19T13:18:12.152Z"
   },
   {
    "duration": 106,
    "start_time": "2022-04-19T13:19:14.001Z"
   },
   {
    "duration": 167,
    "start_time": "2022-04-19T13:19:22.894Z"
   },
   {
    "duration": 22,
    "start_time": "2022-04-19T13:19:31.276Z"
   },
   {
    "duration": 1809,
    "start_time": "2022-04-19T13:19:52.107Z"
   },
   {
    "duration": 22,
    "start_time": "2022-04-19T13:20:04.869Z"
   },
   {
    "duration": 17,
    "start_time": "2022-04-19T13:22:59.754Z"
   },
   {
    "duration": 39,
    "start_time": "2022-04-19T13:23:03.938Z"
   },
   {
    "duration": 4699,
    "start_time": "2022-04-19T13:23:43.211Z"
   },
   {
    "duration": 49,
    "start_time": "2022-04-19T13:23:56.756Z"
   },
   {
    "duration": 23,
    "start_time": "2022-04-19T13:24:27.615Z"
   },
   {
    "duration": 823,
    "start_time": "2022-04-19T13:24:31.188Z"
   },
   {
    "duration": 6,
    "start_time": "2022-04-19T13:28:48.529Z"
   },
   {
    "duration": 243,
    "start_time": "2022-04-19T13:28:50.341Z"
   },
   {
    "duration": 406,
    "start_time": "2022-04-19T13:29:45.315Z"
   },
   {
    "duration": 8,
    "start_time": "2022-04-19T13:32:12.838Z"
   },
   {
    "duration": 7,
    "start_time": "2022-04-19T13:32:28.321Z"
   },
   {
    "duration": 336,
    "start_time": "2022-04-19T13:32:30.559Z"
   },
   {
    "duration": 425,
    "start_time": "2022-04-19T13:33:11.792Z"
   },
   {
    "duration": 290,
    "start_time": "2022-04-19T13:35:32.795Z"
   },
   {
    "duration": 11,
    "start_time": "2022-04-19T13:37:34.995Z"
   },
   {
    "duration": 7,
    "start_time": "2022-04-19T13:37:55.095Z"
   },
   {
    "duration": 10,
    "start_time": "2022-04-19T13:38:07.844Z"
   },
   {
    "duration": 10,
    "start_time": "2022-04-19T13:38:14.026Z"
   },
   {
    "duration": 301,
    "start_time": "2022-04-19T13:50:01.035Z"
   },
   {
    "duration": 291,
    "start_time": "2022-04-19T13:52:16.342Z"
   },
   {
    "duration": 5,
    "start_time": "2022-04-19T13:52:41.229Z"
   },
   {
    "duration": 245,
    "start_time": "2022-04-19T13:52:48.663Z"
   },
   {
    "duration": 248,
    "start_time": "2022-04-19T13:54:00.930Z"
   },
   {
    "duration": 234,
    "start_time": "2022-04-19T13:54:35.529Z"
   },
   {
    "duration": 327,
    "start_time": "2022-04-19T13:56:11.973Z"
   },
   {
    "duration": 466,
    "start_time": "2022-04-19T13:57:55.002Z"
   },
   {
    "duration": 300,
    "start_time": "2022-04-19T13:58:05.663Z"
   },
   {
    "duration": 248,
    "start_time": "2022-04-19T14:02:28.926Z"
   },
   {
    "duration": 252,
    "start_time": "2022-04-19T14:02:31.144Z"
   },
   {
    "duration": 305,
    "start_time": "2022-04-19T14:02:33.429Z"
   },
   {
    "duration": 300,
    "start_time": "2022-04-19T14:02:34.967Z"
   },
   {
    "duration": 511,
    "start_time": "2022-04-19T14:02:35.865Z"
   },
   {
    "duration": 6,
    "start_time": "2022-04-19T14:02:45.795Z"
   },
   {
    "duration": 11,
    "start_time": "2022-04-19T14:02:46.498Z"
   },
   {
    "duration": 221,
    "start_time": "2022-04-19T14:02:50.163Z"
   },
   {
    "duration": 209,
    "start_time": "2022-04-19T14:02:57.602Z"
   },
   {
    "duration": 244,
    "start_time": "2022-04-19T14:03:01.472Z"
   },
   {
    "duration": 6,
    "start_time": "2022-04-19T14:04:07.180Z"
   },
   {
    "duration": 27,
    "start_time": "2022-04-19T14:04:09.831Z"
   },
   {
    "duration": 6,
    "start_time": "2022-04-19T14:04:24.183Z"
   },
   {
    "duration": 245,
    "start_time": "2022-04-19T14:04:25.840Z"
   },
   {
    "duration": 272,
    "start_time": "2022-04-19T14:06:12.783Z"
   },
   {
    "duration": 30,
    "start_time": "2022-04-19T14:06:31.395Z"
   },
   {
    "duration": 29,
    "start_time": "2022-04-19T14:06:49.951Z"
   },
   {
    "duration": 335,
    "start_time": "2022-04-19T14:06:55.596Z"
   },
   {
    "duration": 384,
    "start_time": "2022-04-19T14:07:24.923Z"
   },
   {
    "duration": 6,
    "start_time": "2022-04-19T14:08:25.240Z"
   },
   {
    "duration": 374,
    "start_time": "2022-04-19T14:08:30.435Z"
   },
   {
    "duration": 386,
    "start_time": "2022-04-19T14:09:29.095Z"
   },
   {
    "duration": 5,
    "start_time": "2022-04-19T14:12:28.748Z"
   },
   {
    "duration": 388,
    "start_time": "2022-04-19T14:12:30.812Z"
   },
   {
    "duration": 6,
    "start_time": "2022-04-19T14:12:47.020Z"
   },
   {
    "duration": 4535,
    "start_time": "2022-04-19T14:12:48.172Z"
   },
   {
    "duration": 380,
    "start_time": "2022-04-19T14:13:03.855Z"
   },
   {
    "duration": 367,
    "start_time": "2022-04-19T14:13:08.075Z"
   },
   {
    "duration": 5,
    "start_time": "2022-04-19T14:13:20.902Z"
   },
   {
    "duration": 422,
    "start_time": "2022-04-19T14:13:22.005Z"
   },
   {
    "duration": 413,
    "start_time": "2022-04-19T14:13:29.295Z"
   },
   {
    "duration": 394,
    "start_time": "2022-04-19T14:13:33.029Z"
   },
   {
    "duration": 548,
    "start_time": "2022-04-19T14:13:45.348Z"
   },
   {
    "duration": 5,
    "start_time": "2022-04-19T14:14:29.535Z"
   },
   {
    "duration": 243,
    "start_time": "2022-04-19T14:14:30.031Z"
   },
   {
    "duration": 406,
    "start_time": "2022-04-19T14:14:30.505Z"
   },
   {
    "duration": 242,
    "start_time": "2022-04-19T14:14:31.136Z"
   },
   {
    "duration": 306,
    "start_time": "2022-04-19T14:14:33.597Z"
   },
   {
    "duration": 301,
    "start_time": "2022-04-19T14:14:35.006Z"
   },
   {
    "duration": 111,
    "start_time": "2022-04-19T14:16:40.666Z"
   },
   {
    "duration": 103,
    "start_time": "2022-04-19T14:16:46.204Z"
   },
   {
    "duration": 7,
    "start_time": "2022-04-19T14:17:16.245Z"
   },
   {
    "duration": 371,
    "start_time": "2022-04-19T14:19:19.310Z"
   },
   {
    "duration": 237,
    "start_time": "2022-04-19T14:19:20.368Z"
   },
   {
    "duration": 308,
    "start_time": "2022-04-19T14:19:21.340Z"
   },
   {
    "duration": 308,
    "start_time": "2022-04-19T14:19:22.252Z"
   },
   {
    "duration": 296,
    "start_time": "2022-04-19T14:19:23.352Z"
   },
   {
    "duration": 7,
    "start_time": "2022-04-19T14:19:45.215Z"
   },
   {
    "duration": 11,
    "start_time": "2022-04-19T14:19:46.200Z"
   },
   {
    "duration": 246,
    "start_time": "2022-04-19T14:19:46.755Z"
   },
   {
    "duration": 6,
    "start_time": "2022-04-19T14:20:37.746Z"
   },
   {
    "duration": 29,
    "start_time": "2022-04-19T14:20:43.018Z"
   },
   {
    "duration": 8,
    "start_time": "2022-04-19T14:20:51.377Z"
   },
   {
    "duration": 36,
    "start_time": "2022-04-19T14:20:52.365Z"
   },
   {
    "duration": 5,
    "start_time": "2022-04-19T14:20:59.362Z"
   },
   {
    "duration": 36,
    "start_time": "2022-04-19T14:21:00.386Z"
   },
   {
    "duration": 5,
    "start_time": "2022-04-19T14:21:09.860Z"
   },
   {
    "duration": 394,
    "start_time": "2022-04-19T14:21:14.131Z"
   },
   {
    "duration": 272,
    "start_time": "2022-04-19T14:21:29.677Z"
   },
   {
    "duration": 285,
    "start_time": "2022-04-19T14:21:37.358Z"
   },
   {
    "duration": 134,
    "start_time": "2022-04-19T14:23:26.314Z"
   },
   {
    "duration": 6,
    "start_time": "2022-04-19T14:24:01.817Z"
   },
   {
    "duration": 269,
    "start_time": "2022-04-19T14:24:03.207Z"
   },
   {
    "duration": 6,
    "start_time": "2022-04-19T14:24:19.097Z"
   },
   {
    "duration": 326,
    "start_time": "2022-04-19T14:24:19.916Z"
   },
   {
    "duration": 5,
    "start_time": "2022-04-19T14:24:47.628Z"
   },
   {
    "duration": 24,
    "start_time": "2022-04-19T14:24:48.820Z"
   },
   {
    "duration": 7,
    "start_time": "2022-04-19T14:26:07.424Z"
   },
   {
    "duration": 288,
    "start_time": "2022-04-19T14:26:09.389Z"
   },
   {
    "duration": 6,
    "start_time": "2022-04-19T14:26:43.505Z"
   },
   {
    "duration": 26,
    "start_time": "2022-04-19T14:26:44.803Z"
   },
   {
    "duration": 5,
    "start_time": "2022-04-19T14:27:15.074Z"
   },
   {
    "duration": 198,
    "start_time": "2022-04-19T14:27:16.014Z"
   },
   {
    "duration": 4,
    "start_time": "2022-04-19T14:27:20.196Z"
   },
   {
    "duration": 280,
    "start_time": "2022-04-19T14:27:21.095Z"
   },
   {
    "duration": 284,
    "start_time": "2022-04-19T14:27:24.428Z"
   },
   {
    "duration": 303,
    "start_time": "2022-04-19T14:27:28.062Z"
   },
   {
    "duration": 22,
    "start_time": "2022-04-19T14:27:34.345Z"
   },
   {
    "duration": 11,
    "start_time": "2022-04-19T14:27:34.902Z"
   },
   {
    "duration": 11,
    "start_time": "2022-04-19T14:28:01.955Z"
   },
   {
    "duration": 7,
    "start_time": "2022-04-19T14:28:37.209Z"
   },
   {
    "duration": 314,
    "start_time": "2022-04-19T14:28:40.262Z"
   },
   {
    "duration": 290,
    "start_time": "2022-04-19T14:28:48.127Z"
   },
   {
    "duration": 8,
    "start_time": "2022-04-19T14:28:49.418Z"
   },
   {
    "duration": 5,
    "start_time": "2022-04-19T14:28:59.373Z"
   },
   {
    "duration": 42,
    "start_time": "2022-04-19T14:29:00.437Z"
   },
   {
    "duration": 298,
    "start_time": "2022-04-19T14:29:04.723Z"
   },
   {
    "duration": 304,
    "start_time": "2022-04-19T14:29:07.613Z"
   },
   {
    "duration": 5,
    "start_time": "2022-04-19T14:29:08.969Z"
   },
   {
    "duration": 450,
    "start_time": "2022-04-19T14:29:09.659Z"
   },
   {
    "duration": 265,
    "start_time": "2022-04-19T14:29:10.363Z"
   },
   {
    "duration": 242,
    "start_time": "2022-04-19T14:29:11.628Z"
   },
   {
    "duration": 312,
    "start_time": "2022-04-19T14:29:12.231Z"
   },
   {
    "duration": 303,
    "start_time": "2022-04-19T14:29:13.611Z"
   },
   {
    "duration": 294,
    "start_time": "2022-04-19T14:29:14.506Z"
   },
   {
    "duration": 7,
    "start_time": "2022-04-19T14:29:15.961Z"
   },
   {
    "duration": 15,
    "start_time": "2022-04-19T14:29:16.476Z"
   },
   {
    "duration": 6,
    "start_time": "2022-04-19T14:29:17.574Z"
   },
   {
    "duration": 284,
    "start_time": "2022-04-19T14:29:18.447Z"
   },
   {
    "duration": 295,
    "start_time": "2022-04-19T14:29:19.783Z"
   },
   {
    "duration": 309,
    "start_time": "2022-04-19T14:29:21.095Z"
   },
   {
    "duration": 23,
    "start_time": "2022-04-19T14:29:24.617Z"
   },
   {
    "duration": 13,
    "start_time": "2022-04-19T14:29:25.877Z"
   },
   {
    "duration": 12,
    "start_time": "2022-04-19T14:29:43.183Z"
   },
   {
    "duration": 13,
    "start_time": "2022-04-19T14:30:20.569Z"
   },
   {
    "duration": 14,
    "start_time": "2022-04-19T14:30:30.180Z"
   },
   {
    "duration": 6,
    "start_time": "2022-04-19T14:30:31.413Z"
   },
   {
    "duration": 11,
    "start_time": "2022-04-19T14:31:48.395Z"
   },
   {
    "duration": 1522,
    "start_time": "2022-04-19T14:56:18.857Z"
   },
   {
    "duration": 45,
    "start_time": "2022-04-19T14:56:20.381Z"
   },
   {
    "duration": 44,
    "start_time": "2022-04-19T14:56:20.427Z"
   },
   {
    "duration": 17,
    "start_time": "2022-04-19T14:56:20.475Z"
   },
   {
    "duration": 17,
    "start_time": "2022-04-19T14:56:20.495Z"
   },
   {
    "duration": 45,
    "start_time": "2022-04-19T14:56:20.514Z"
   },
   {
    "duration": 12,
    "start_time": "2022-04-19T14:56:20.561Z"
   },
   {
    "duration": 16,
    "start_time": "2022-04-19T14:56:20.575Z"
   },
   {
    "duration": 6,
    "start_time": "2022-04-19T14:56:20.593Z"
   },
   {
    "duration": 7,
    "start_time": "2022-04-19T14:56:20.601Z"
   },
   {
    "duration": 9,
    "start_time": "2022-04-19T14:56:20.610Z"
   },
   {
    "duration": 6,
    "start_time": "2022-04-19T14:56:20.621Z"
   },
   {
    "duration": 17,
    "start_time": "2022-04-19T14:56:20.629Z"
   },
   {
    "duration": 34,
    "start_time": "2022-04-19T14:56:20.650Z"
   },
   {
    "duration": 32,
    "start_time": "2022-04-19T14:56:20.685Z"
   },
   {
    "duration": 26,
    "start_time": "2022-04-19T14:56:20.719Z"
   },
   {
    "duration": 235,
    "start_time": "2022-04-19T14:56:20.747Z"
   },
   {
    "duration": 392,
    "start_time": "2022-04-19T14:56:20.985Z"
   },
   {
    "duration": 2,
    "start_time": "2022-04-19T14:56:21.382Z"
   },
   {
    "duration": 98,
    "start_time": "2022-04-19T14:56:21.386Z"
   },
   {
    "duration": 709,
    "start_time": "2022-04-19T14:56:21.486Z"
   },
   {
    "duration": 22,
    "start_time": "2022-04-19T14:56:22.236Z"
   },
   {
    "duration": 1230,
    "start_time": "2022-04-19T14:56:22.259Z"
   },
   {
    "duration": 5,
    "start_time": "2022-04-19T14:56:23.491Z"
   },
   {
    "duration": 183,
    "start_time": "2022-04-19T14:56:23.498Z"
   },
   {
    "duration": 299,
    "start_time": "2022-04-19T14:56:23.683Z"
   },
   {
    "duration": 5,
    "start_time": "2022-04-19T14:56:23.984Z"
   },
   {
    "duration": 313,
    "start_time": "2022-04-19T14:56:23.991Z"
   },
   {
    "duration": 218,
    "start_time": "2022-04-19T14:56:24.306Z"
   },
   {
    "duration": 125,
    "start_time": "2022-04-19T14:56:24.526Z"
   },
   {
    "duration": 0,
    "start_time": "2022-04-19T14:56:24.655Z"
   },
   {
    "duration": 0,
    "start_time": "2022-04-19T14:56:24.656Z"
   },
   {
    "duration": 0,
    "start_time": "2022-04-19T14:56:24.657Z"
   },
   {
    "duration": 0,
    "start_time": "2022-04-19T14:56:24.660Z"
   },
   {
    "duration": 0,
    "start_time": "2022-04-19T14:56:24.661Z"
   },
   {
    "duration": 0,
    "start_time": "2022-04-19T14:56:24.662Z"
   },
   {
    "duration": 0,
    "start_time": "2022-04-19T14:56:24.662Z"
   },
   {
    "duration": 0,
    "start_time": "2022-04-19T14:56:24.668Z"
   },
   {
    "duration": 0,
    "start_time": "2022-04-19T14:56:24.668Z"
   },
   {
    "duration": 0,
    "start_time": "2022-04-19T14:56:24.669Z"
   },
   {
    "duration": 0,
    "start_time": "2022-04-19T14:56:24.670Z"
   },
   {
    "duration": 0,
    "start_time": "2022-04-19T14:56:24.672Z"
   },
   {
    "duration": 0,
    "start_time": "2022-04-19T14:56:24.674Z"
   },
   {
    "duration": 0,
    "start_time": "2022-04-19T14:56:24.675Z"
   },
   {
    "duration": 0,
    "start_time": "2022-04-19T14:56:24.677Z"
   },
   {
    "duration": 0,
    "start_time": "2022-04-19T14:56:24.678Z"
   },
   {
    "duration": 0,
    "start_time": "2022-04-19T14:56:24.679Z"
   },
   {
    "duration": 0,
    "start_time": "2022-04-19T14:56:24.680Z"
   },
   {
    "duration": 0,
    "start_time": "2022-04-19T14:56:24.681Z"
   },
   {
    "duration": 0,
    "start_time": "2022-04-19T14:56:24.682Z"
   },
   {
    "duration": 0,
    "start_time": "2022-04-19T14:56:24.683Z"
   },
   {
    "duration": 0,
    "start_time": "2022-04-19T14:56:24.684Z"
   },
   {
    "duration": 45,
    "start_time": "2022-04-19T17:34:36.642Z"
   },
   {
    "duration": 1644,
    "start_time": "2022-04-19T17:34:48.548Z"
   },
   {
    "duration": 61,
    "start_time": "2022-04-19T17:34:50.194Z"
   },
   {
    "duration": 49,
    "start_time": "2022-04-19T17:34:50.257Z"
   },
   {
    "duration": 24,
    "start_time": "2022-04-19T17:34:50.325Z"
   },
   {
    "duration": 27,
    "start_time": "2022-04-19T17:34:50.353Z"
   },
   {
    "duration": 46,
    "start_time": "2022-04-19T17:34:50.382Z"
   },
   {
    "duration": 7,
    "start_time": "2022-04-19T17:34:50.431Z"
   },
   {
    "duration": 10,
    "start_time": "2022-04-19T17:34:50.440Z"
   },
   {
    "duration": 7,
    "start_time": "2022-04-19T17:34:50.452Z"
   },
   {
    "duration": 9,
    "start_time": "2022-04-19T17:34:50.462Z"
   },
   {
    "duration": 7,
    "start_time": "2022-04-19T17:34:50.474Z"
   },
   {
    "duration": 11,
    "start_time": "2022-04-19T17:34:50.483Z"
   },
   {
    "duration": 28,
    "start_time": "2022-04-19T17:34:50.497Z"
   },
   {
    "duration": 5,
    "start_time": "2022-04-19T17:34:50.531Z"
   },
   {
    "duration": 42,
    "start_time": "2022-04-19T17:34:50.538Z"
   },
   {
    "duration": 47,
    "start_time": "2022-04-19T17:34:50.585Z"
   },
   {
    "duration": 191,
    "start_time": "2022-04-19T17:34:50.634Z"
   },
   {
    "duration": 477,
    "start_time": "2022-04-19T17:34:50.827Z"
   },
   {
    "duration": 3,
    "start_time": "2022-04-19T17:34:51.307Z"
   },
   {
    "duration": 8,
    "start_time": "2022-04-19T17:34:51.324Z"
   },
   {
    "duration": 366,
    "start_time": "2022-04-19T17:34:51.334Z"
   },
   {
    "duration": 28,
    "start_time": "2022-04-19T17:34:51.702Z"
   },
   {
    "duration": 539,
    "start_time": "2022-04-19T17:34:51.733Z"
   },
   {
    "duration": 5,
    "start_time": "2022-04-19T17:34:52.273Z"
   },
   {
    "duration": 129,
    "start_time": "2022-04-19T17:34:52.279Z"
   },
   {
    "duration": 224,
    "start_time": "2022-04-19T17:34:52.410Z"
   },
   {
    "duration": 5,
    "start_time": "2022-04-19T17:34:52.636Z"
   },
   {
    "duration": 234,
    "start_time": "2022-04-19T17:34:52.643Z"
   },
   {
    "duration": 162,
    "start_time": "2022-04-19T17:34:52.879Z"
   },
   {
    "duration": 6,
    "start_time": "2022-04-19T17:34:53.043Z"
   },
   {
    "duration": 7,
    "start_time": "2022-04-19T17:34:53.050Z"
   },
   {
    "duration": 30,
    "start_time": "2022-04-19T17:34:53.058Z"
   },
   {
    "duration": 185,
    "start_time": "2022-04-19T17:34:53.090Z"
   },
   {
    "duration": 184,
    "start_time": "2022-04-19T17:34:53.277Z"
   },
   {
    "duration": 4,
    "start_time": "2022-04-19T17:34:53.463Z"
   },
   {
    "duration": 264,
    "start_time": "2022-04-19T17:34:53.469Z"
   },
   {
    "duration": 249,
    "start_time": "2022-04-19T17:34:53.735Z"
   },
   {
    "duration": 215,
    "start_time": "2022-04-19T17:34:53.986Z"
   },
   {
    "duration": 304,
    "start_time": "2022-04-19T17:34:54.204Z"
   },
   {
    "duration": 196,
    "start_time": "2022-04-19T17:34:54.510Z"
   },
   {
    "duration": 287,
    "start_time": "2022-04-19T17:34:54.711Z"
   },
   {
    "duration": 7,
    "start_time": "2022-04-19T17:34:55.000Z"
   },
   {
    "duration": 17,
    "start_time": "2022-04-19T17:34:55.008Z"
   },
   {
    "duration": 9,
    "start_time": "2022-04-19T17:34:55.027Z"
   },
   {
    "duration": 175,
    "start_time": "2022-04-19T17:34:55.038Z"
   },
   {
    "duration": 437,
    "start_time": "2022-04-19T17:34:55.214Z"
   },
   {
    "duration": 340,
    "start_time": "2022-04-19T17:34:55.654Z"
   },
   {
    "duration": 13,
    "start_time": "2022-04-19T17:34:55.996Z"
   },
   {
    "duration": 18,
    "start_time": "2022-04-19T17:34:56.011Z"
   },
   {
    "duration": 7,
    "start_time": "2022-04-19T17:34:56.031Z"
   },
   {
    "duration": 11,
    "start_time": "2022-04-19T17:34:56.040Z"
   },
   {
    "duration": 8,
    "start_time": "2022-04-19T17:34:56.054Z"
   }
  ],
  "kernelspec": {
   "display_name": "Python 3 (ipykernel)",
   "language": "python",
   "name": "python3"
  },
  "language_info": {
   "codemirror_mode": {
    "name": "ipython",
    "version": 3
   },
   "file_extension": ".py",
   "mimetype": "text/x-python",
   "name": "python",
   "nbconvert_exporter": "python",
   "pygments_lexer": "ipython3",
   "version": "3.9.5"
  },
  "toc": {
   "base_numbering": 1,
   "nav_menu": {},
   "number_sections": true,
   "sideBar": true,
   "skip_h1_title": true,
   "title_cell": "Table of Contents",
   "title_sidebar": "Contents",
   "toc_cell": false,
   "toc_position": {},
   "toc_section_display": true,
   "toc_window_display": true
  }
 },
 "nbformat": 4,
 "nbformat_minor": 5
}
